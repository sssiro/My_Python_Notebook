{
  "nbformat": 4,
  "nbformat_minor": 0,
  "metadata": {
    "colab": {
      "name": "PythonLearning.ipynb",
      "provenance": [],
      "collapsed_sections": [
        "7OmJsfl2m3DV",
        "NBxh0a5snBuc",
        "C8JDHR6o0tEq",
        "goeeLum9nEhl",
        "B5EYK_j15832",
        "Rs0pWAoo7CLF",
        "hI5d6b9VACsY"
      ],
      "toc_visible": true,
      "include_colab_link": true
    },
    "kernelspec": {
      "name": "python3",
      "display_name": "Python 3"
    }
  },
  "cells": [
    {
      "cell_type": "markdown",
      "metadata": {
        "id": "view-in-github",
        "colab_type": "text"
      },
      "source": [
        "<a href=\"https://colab.research.google.com/github/sssiro/My_Python_Notebook/blob/master/PythonLearning3.ipynb\" target=\"_parent\"><img src=\"https://colab.research.google.com/assets/colab-badge.svg\" alt=\"Open In Colab\"/></a>"
      ]
    },
    {
      "cell_type": "markdown",
      "metadata": {
        "id": "3PY6zdlY9he7"
      },
      "source": [
        "#Python\n"
      ]
    },
    {
      "cell_type": "markdown",
      "metadata": {
        "id": "7OmJsfl2m3DV"
      },
      "source": [
        "##Basic"
      ]
    },
    {
      "cell_type": "markdown",
      "metadata": {
        "id": "NBxh0a5snBuc"
      },
      "source": [
        "###Numbers and strings"
      ]
    },
    {
      "cell_type": "code",
      "metadata": {
        "id": "WhTfBQlzFYUb",
        "colab": {
          "base_uri": "https://localhost:8080/",
          "height": 68
        },
        "outputId": "09dc3cf0-52dd-4e37-d26e-26bbcb8d5655"
      },
      "source": [
        "x = 1    # int\n",
        "y = 2.8  # float\n",
        "z = 1j   # complex\n",
        "print(type(x))\n",
        "print(type(y))\n",
        "print(type(z))"
      ],
      "execution_count": null,
      "outputs": [
        {
          "output_type": "stream",
          "text": [
            "<class 'int'>\n",
            "<class 'float'>\n",
            "<class 'complex'>\n"
          ],
          "name": "stdout"
        }
      ]
    },
    {
      "cell_type": "code",
      "metadata": {
        "id": "9VOGajt7xRnk",
        "colab": {
          "base_uri": "https://localhost:8080/",
          "height": 85
        },
        "outputId": "ead262e7-f980-4de4-afab-f54a711b7d97"
      },
      "source": [
        "#Casting int() float()\n",
        "x = float(1) # x will be 1.0\n",
        "y = int(2.8) # y will be 2\n",
        "z = int(\"3\") # z will be 3\n",
        "a = str(20)  # a will be '20'\n",
        "print(type(x))\n",
        "print(type(y))\n",
        "print(type(z))\n",
        "print(type(a))"
      ],
      "execution_count": null,
      "outputs": [
        {
          "output_type": "stream",
          "text": [
            "<class 'float'>\n",
            "<class 'int'>\n",
            "<class 'int'>\n",
            "<class 'str'>\n"
          ],
          "name": "stdout"
        }
      ]
    },
    {
      "cell_type": "code",
      "metadata": {
        "id": "GtYMH1Uioz69",
        "colab": {
          "base_uri": "https://localhost:8080/"
        },
        "outputId": "d1402eea-1dea-435a-b593-5535da9a0fb3"
      },
      "source": [
        "#concate strings - can't cancate string with numbers --> convert number to string first ! \n",
        "a = \"lucky\"\n",
        "b = \"cat\"\n",
        "c = 18\n",
        "print(a+b+str(c))"
      ],
      "execution_count": null,
      "outputs": [
        {
          "output_type": "stream",
          "text": [
            "luckycat18\n"
          ],
          "name": "stdout"
        }
      ]
    },
    {
      "cell_type": "code",
      "metadata": {
        "id": "09xMAzL8GM9h",
        "colab": {
          "base_uri": "https://localhost:8080/"
        },
        "outputId": "ba6f746e-919c-42de-bcc6-5d89cc8400d5"
      },
      "source": [
        "# string index starts from 0\n",
        "a = \"Hello, World!\"\n",
        "print(a[1])   # index 1 (2nd position)\n",
        "print(a[2:5]) # index 2 to index 5 (not included)\n",
        "print(a[-4:]) # last 4 two characters"
      ],
      "execution_count": null,
      "outputs": [
        {
          "output_type": "stream",
          "text": [
            "e\n",
            "llo\n",
            "rld!\n"
          ],
          "name": "stdout"
        }
      ]
    },
    {
      "cell_type": "code",
      "metadata": {
        "id": "iEBGlF-bHcqf",
        "colab": {
          "base_uri": "https://localhost:8080/",
          "height": 34
        },
        "outputId": "65ba3a96-9929-44f4-8543-79eda230a88d"
      },
      "source": [
        "# strip() method removes any whitespace from the beginning or the end\n",
        "a = \"    Hello,World!   \"\n",
        "print(a.strip()) "
      ],
      "execution_count": null,
      "outputs": [
        {
          "output_type": "stream",
          "text": [
            "Hello,World!\n"
          ],
          "name": "stdout"
        }
      ]
    },
    {
      "cell_type": "code",
      "metadata": {
        "id": "TlIpwNxUyl3_",
        "colab": {
          "base_uri": "https://localhost:8080/",
          "height": 34
        },
        "outputId": "af7c4aae-80a4-466a-dc8d-463e68d763cd"
      },
      "source": [
        "#length of string\n",
        "a = 'hello'\n",
        "print(len(a))"
      ],
      "execution_count": null,
      "outputs": [
        {
          "output_type": "stream",
          "text": [
            "5\n"
          ],
          "name": "stdout"
        }
      ]
    },
    {
      "cell_type": "code",
      "metadata": {
        "id": "CZy-X435yvHm",
        "colab": {
          "base_uri": "https://localhost:8080/",
          "height": 34
        },
        "outputId": "cc8e919f-45b7-4856-fea6-f99a437a40e1"
      },
      "source": [
        "#upper() returns string in upper class\n",
        "a = \"Hello, World!\"\n",
        "print(a.upper())"
      ],
      "execution_count": null,
      "outputs": [
        {
          "output_type": "stream",
          "text": [
            "HELLO, WORLD!\n"
          ],
          "name": "stdout"
        }
      ]
    },
    {
      "cell_type": "code",
      "metadata": {
        "id": "cUi31gRIy34e",
        "colab": {
          "base_uri": "https://localhost:8080/",
          "height": 34
        },
        "outputId": "5059d13c-1890-478c-dc69-aed675745902"
      },
      "source": [
        "#replace() method replaces a string with another string\n",
        "a = \"Hello, World!\"\n",
        "print(a.replace(\"H\", \"J\"))"
      ],
      "execution_count": null,
      "outputs": [
        {
          "output_type": "stream",
          "text": [
            "Jello, World!\n"
          ],
          "name": "stdout"
        }
      ]
    },
    {
      "cell_type": "code",
      "metadata": {
        "id": "37o449TyV-NQ",
        "colab": {
          "base_uri": "https://localhost:8080/"
        },
        "outputId": "29f25e23-e86c-420f-d35c-91e28da2dc5f"
      },
      "source": [
        "# can't change characters in a string, but can do in list \n",
        "A = \"hello\"\n",
        "A[0] = \"J\"\n",
        "print(A)\n",
        "\n",
        "s = list(\"Hello zorld\")\n",
        "print(s)     #['H', 'e', 'l', 'l', 'o', ' ', 'z', 'o', 'r', 'l', 'd']\n",
        "s[6] = 'W'   #['H', 'e', 'l', 'l', 'o', ' ', 'W', 'o', 'r', 'l', 'd']\n",
        "\"\".join(s)   # 'Hello World'"
      ],
      "execution_count": null,
      "outputs": [
        {
          "output_type": "error",
          "ename": "TypeError",
          "evalue": "ignored",
          "traceback": [
            "\u001b[0;31m---------------------------------------------------------------------------\u001b[0m",
            "\u001b[0;31mTypeError\u001b[0m                                 Traceback (most recent call last)",
            "\u001b[0;32m<ipython-input-15-517ec4dc6cfa>\u001b[0m in \u001b[0;36m<module>\u001b[0;34m()\u001b[0m\n\u001b[1;32m      1\u001b[0m \u001b[0mA\u001b[0m \u001b[0;34m=\u001b[0m \u001b[0;34m\"hello\"\u001b[0m\u001b[0;34m\u001b[0m\u001b[0;34m\u001b[0m\u001b[0m\n\u001b[0;32m----> 2\u001b[0;31m \u001b[0mA\u001b[0m\u001b[0;34m[\u001b[0m\u001b[0;36m0\u001b[0m\u001b[0;34m]\u001b[0m \u001b[0;34m=\u001b[0m \u001b[0;34m\"J\"\u001b[0m\u001b[0;34m\u001b[0m\u001b[0;34m\u001b[0m\u001b[0m\n\u001b[0m\u001b[1;32m      3\u001b[0m \u001b[0mprint\u001b[0m\u001b[0;34m(\u001b[0m\u001b[0mA\u001b[0m\u001b[0;34m)\u001b[0m\u001b[0;34m\u001b[0m\u001b[0;34m\u001b[0m\u001b[0m\n\u001b[1;32m      4\u001b[0m \u001b[0;34m\u001b[0m\u001b[0m\n\u001b[1;32m      5\u001b[0m \u001b[0ms\u001b[0m \u001b[0;34m=\u001b[0m \u001b[0mlist\u001b[0m\u001b[0;34m(\u001b[0m\u001b[0;34m\"Hello zorld\"\u001b[0m\u001b[0;34m)\u001b[0m\u001b[0;34m\u001b[0m\u001b[0;34m\u001b[0m\u001b[0m\n",
            "\u001b[0;31mTypeError\u001b[0m: 'str' object does not support item assignment"
          ]
        }
      ]
    },
    {
      "cell_type": "code",
      "metadata": {
        "id": "HEcf0-mmy_ig",
        "colab": {
          "base_uri": "https://localhost:8080/",
          "height": 34
        },
        "outputId": "8d34f551-7521-4b97-bc57-5000f06402bd"
      },
      "source": [
        "a = \"Hello, World!\"\n",
        "print(a.split(\",\")) "
      ],
      "execution_count": null,
      "outputs": [
        {
          "output_type": "stream",
          "text": [
            "['Hello', ' World!']\n"
          ],
          "name": "stdout"
        }
      ]
    },
    {
      "cell_type": "code",
      "metadata": {
        "id": "vu5j0kL4zJXf",
        "colab": {
          "base_uri": "https://localhost:8080/"
        },
        "outputId": "c267d852-b1db-408e-ae2c-bbc852128312"
      },
      "source": [
        "#Command-line String Input\n",
        "print(\"Enter your name:\")\n",
        "x = input()\n",
        "print(\"Hello, \" + x)"
      ],
      "execution_count": null,
      "outputs": [
        {
          "output_type": "stream",
          "text": [
            "Enter your name:\n",
            "Sharon\n",
            "Hello, Sharon\n"
          ],
          "name": "stdout"
        }
      ]
    },
    {
      "cell_type": "code",
      "metadata": {
        "id": "dKgY-RF8yBpn",
        "colab": {
          "base_uri": "https://localhost:8080/"
        },
        "outputId": "7c0b11c6-d366-423f-aff2-4387845f7b8c"
      },
      "source": [
        "# Conditional Formatting\n",
        "a = \"Hello %s, how's your %s\"\n",
        "b = (\"Mandy\",\"foot\")\n",
        "print (a % b)\n",
        "\n",
        "c = \"Hello{0}, How is your {1}\".format(\"Mandy\",\"foot\")\n",
        "print(c)"
      ],
      "execution_count": null,
      "outputs": [
        {
          "output_type": "stream",
          "text": [
            "Hello Mandy, how's your foot\n",
            "HelloMandy, How is your foot\n"
          ],
          "name": "stdout"
        }
      ]
    },
    {
      "cell_type": "code",
      "metadata": {
        "id": "IfiYatf-y7ff",
        "colab": {
          "base_uri": "https://localhost:8080/"
        },
        "outputId": "00a9dedc-b86d-4b3b-80b6-ff23c808c8fd"
      },
      "source": [
        "# find string \n",
        "example = \"Hello Bob it's a nice shop\"\n",
        "example.find(\"nice\")"
      ],
      "execution_count": null,
      "outputs": [
        {
          "output_type": "execute_result",
          "data": {
            "text/plain": [
              "17"
            ]
          },
          "metadata": {
            "tags": []
          },
          "execution_count": 38
        }
      ]
    },
    {
      "cell_type": "markdown",
      "metadata": {
        "id": "C8JDHR6o0tEq"
      },
      "source": [
        "\n",
        "\n",
        "###Operators"
      ]
    },
    {
      "cell_type": "markdown",
      "metadata": {
        "id": "9xqglRnW1dwc"
      },
      "source": [
        "Membership Operators : in , not in"
      ]
    },
    {
      "cell_type": "code",
      "metadata": {
        "id": "_if9WxPa0wNB",
        "colab": {
          "base_uri": "https://localhost:8080/",
          "height": 34
        },
        "outputId": "5016daad-e9c4-4ea3-df26-de2aade54b21"
      },
      "source": [
        "fruits = [\"apple\", \"banana\"]\n",
        "if \"apple\" in fruits:\n",
        "  print(\"Yes, apple is a fruit!\")"
      ],
      "execution_count": null,
      "outputs": [
        {
          "output_type": "stream",
          "text": [
            "Yes, apple is a fruit!\n"
          ],
          "name": "stdout"
        }
      ]
    },
    {
      "cell_type": "markdown",
      "metadata": {
        "id": "lhjiYFxL1hrd"
      },
      "source": [
        "Logical Operators:\n",
        "and, or, not -> not(x < 5 and x < 10)"
      ]
    },
    {
      "cell_type": "code",
      "metadata": {
        "id": "caULrQO31QRE",
        "colab": {
          "base_uri": "https://localhost:8080/",
          "height": 34
        },
        "outputId": "e980a6a2-bad0-484a-a858-6983b3027936"
      },
      "source": [
        "if 5 == 10 or 4 == 4:\n",
        "  print(\"At least one of the statements is true\")"
      ],
      "execution_count": null,
      "outputs": [
        {
          "output_type": "stream",
          "text": [
            "At least one of the statements is true\n"
          ],
          "name": "stdout"
        }
      ]
    },
    {
      "cell_type": "markdown",
      "metadata": {
        "id": "goeeLum9nEhl"
      },
      "source": [
        "###Lists"
      ]
    },
    {
      "cell_type": "markdown",
      "metadata": {
        "id": "5OlPcv57prVS"
      },
      "source": [
        "Unlike strings, which are immutable, lists are a mutable type, i.e. it is possible to change their content: "
      ]
    },
    {
      "cell_type": "code",
      "metadata": {
        "id": "aQsLh2x_ocOU",
        "colab": {
          "base_uri": "https://localhost:8080/",
          "height": 51
        },
        "outputId": "674a069a-ea37-46eb-e881-47b598e4eda3"
      },
      "source": [
        "thislist = [\"apple\", \"banana\", \"cherry\"]\n",
        "print(thislist[1])\n",
        "\n",
        "thislist[1] = \"blackcurrant\"\n",
        "print(thislist)"
      ],
      "execution_count": null,
      "outputs": [
        {
          "output_type": "stream",
          "text": [
            "banana\n",
            "['apple', 'blackcurrant', 'cherry']\n"
          ],
          "name": "stdout"
        }
      ]
    },
    {
      "cell_type": "code",
      "metadata": {
        "id": "dCV8P_8spepq",
        "colab": {
          "base_uri": "https://localhost:8080/",
          "height": 68
        },
        "outputId": "2ced7510-171e-4179-f9df-f517971bf3a2"
      },
      "source": [
        "#Loop Through a List\n",
        "thislist = [\"apple\", \"banana\", \"cherry\"]\n",
        "for x in thislist:\n",
        "  print(x)"
      ],
      "execution_count": null,
      "outputs": [
        {
          "output_type": "stream",
          "text": [
            "apple\n",
            "banana\n",
            "cherry\n"
          ],
          "name": "stdout"
        }
      ]
    },
    {
      "cell_type": "code",
      "metadata": {
        "id": "b9kV0grU2TU2",
        "colab": {
          "base_uri": "https://localhost:8080/",
          "height": 34
        },
        "outputId": "63d671bf-0836-400c-d00e-527fe7e14439"
      },
      "source": [
        "#check if item exist\n",
        "fruits = [\"apple\", \"banana\"]\n",
        "if \"apple\" in fruits:\n",
        "  print(\"Yes, apple is a fruit!\")"
      ],
      "execution_count": null,
      "outputs": [
        {
          "output_type": "stream",
          "text": [
            "Yes, apple is a fruit!\n"
          ],
          "name": "stdout"
        }
      ]
    },
    {
      "cell_type": "code",
      "metadata": {
        "id": "e8yQSXtsph4C",
        "colab": {
          "base_uri": "https://localhost:8080/"
        },
        "outputId": "10057810-31c0-4a66-ca16-9c0ac05ee394"
      },
      "source": [
        "#Add items\n",
        "thislist = [\"apple\", \"banana\", \"cherry\"]\n",
        "thislist.append(\"orange\")\n",
        "print(thislist)\n",
        "\n",
        "#Add items at the specified index, use insert()\n",
        "thislist.insert(0,\"pear\")\n",
        "print(thislist)\n",
        "\n",
        "#Remove the specified item - remove(element)\n",
        "thislist.remove(\"banana\")\n",
        "print(thislist)\n",
        "\n",
        "#Removes the specified index - pop(index) default by the last one \n",
        "thislist.pop(0)\n",
        "print(thislist)\n",
        "\n",
        "thislist.pop(1) # return x index element\n",
        "\n",
        "#The del keyword removes the specified index - del element\n",
        "del thislist[0]\n",
        "print(thislist)\n",
        "\n",
        "#Delete list\n",
        "del thislist\n",
        "\n",
        "#Empty the list\n",
        "thislist = [\"apple\", \"banana\", \"cherry\"]\n",
        "thislist.clear()\n",
        "print(thislist)"
      ],
      "execution_count": null,
      "outputs": [
        {
          "output_type": "stream",
          "text": [
            "['apple', 'banana', 'cherry', 'orange']\n",
            "['pear', 'apple', 'banana', 'cherry', 'orange']\n",
            "['pear', 'apple', 'cherry', 'orange']\n",
            "['apple', 'cherry', 'orange']\n",
            "['orange']\n",
            "[]\n"
          ],
          "name": "stdout"
        }
      ]
    },
    {
      "cell_type": "code",
      "metadata": {
        "id": "31980H10wyxD",
        "colab": {
          "base_uri": "https://localhost:8080/"
        },
        "outputId": "b95231ce-3455-465d-dc5f-f90da4d12372"
      },
      "source": [
        "thislist = [\"apple\", \"banana\", \"cherry\"]\n",
        "thislist.pop(0)\n",
        "thislist\n"
      ],
      "execution_count": null,
      "outputs": [
        {
          "output_type": "execute_result",
          "data": {
            "text/plain": [
              "['banana', 'cherry']"
            ]
          },
          "metadata": {
            "tags": []
          },
          "execution_count": 32
        }
      ]
    },
    {
      "cell_type": "code",
      "metadata": {
        "id": "5Pv-bJpApsoC",
        "colab": {
          "base_uri": "https://localhost:8080/",
          "height": 34
        },
        "outputId": "2eda7b14-86df-44b2-c7af-48ae7d2e6728"
      },
      "source": [
        "#list() Constructor\n",
        "thislist = list((\"apple\", \"banana\", \"cherry\")) # note the double round-brackets\n",
        "print(thislist)"
      ],
      "execution_count": null,
      "outputs": [
        {
          "output_type": "stream",
          "text": [
            "['apple', 'banana', 'cherry']\n"
          ],
          "name": "stdout"
        }
      ]
    },
    {
      "cell_type": "code",
      "metadata": {
        "id": "98M4QUdw38RW",
        "colab": {
          "base_uri": "https://localhost:8080/",
          "height": 68
        },
        "outputId": "f8fc86f8-1197-4f13-e22b-66ca5cce8225"
      },
      "source": [
        "# locate element in complex list\n",
        "thislist = [['a','a1','a2'],['b']]\n",
        "print(thislist)\n",
        "print(thislist[0][2])\n",
        "\n",
        "thislist.reverse()\n",
        "print(thislist)\n"
      ],
      "execution_count": null,
      "outputs": [
        {
          "output_type": "stream",
          "text": [
            "[['a', 'a1', 'a2'], ['b']]\n",
            "a2\n",
            "[['b'], ['a', 'a1', 'a2']]\n"
          ],
          "name": "stdout"
        }
      ]
    },
    {
      "cell_type": "code",
      "metadata": {
        "id": "I1N28WIu5Den",
        "colab": {
          "base_uri": "https://localhost:8080/"
        },
        "outputId": "7e16762b-6851-4510-ccab-eb25fe7193ad"
      },
      "source": [
        "# reverse list  - will modify original list\n",
        "a = [1,3,2,4]\n",
        "a.reverse()\n",
        "print(a)\n",
        "\n",
        "# sort list - will modify \n",
        "a.sort()\n",
        "print(a)\n",
        "\n"
      ],
      "execution_count": null,
      "outputs": [
        {
          "output_type": "stream",
          "text": [
            "[4, 2, 3, 1]\n",
            "[1, 2, 3, 4]\n"
          ],
          "name": "stdout"
        }
      ]
    },
    {
      "cell_type": "code",
      "metadata": {
        "id": "XQSX4icbqA9r",
        "colab": {
          "base_uri": "https://localhost:8080/",
          "height": 34
        },
        "outputId": "210b1975-f111-42e4-ae7a-539122d7e9c5"
      },
      "source": [
        "#List Length\n",
        "len(thislist)"
      ],
      "execution_count": null,
      "outputs": [
        {
          "output_type": "execute_result",
          "data": {
            "text/plain": [
              "2"
            ]
          },
          "metadata": {
            "tags": []
          },
          "execution_count": 5
        }
      ]
    },
    {
      "cell_type": "markdown",
      "metadata": {
        "id": "B5EYK_j15832"
      },
      "source": [
        "###Tuples - used for call your value back, can't modify\n"
      ]
    },
    {
      "cell_type": "code",
      "metadata": {
        "id": "Wi7nifm65_oV",
        "colab": {
          "base_uri": "https://localhost:8080/",
          "height": 248
        },
        "outputId": "ab141d84-07b9-4424-d02d-04d1c4e7d92e"
      },
      "source": [
        "thistuple = (\"apple\", \"banana\", \"cherry\")\n",
        "print(thistuple)\n",
        "print(thistuple[1])\n",
        "\n",
        "#You cannot change values in a tuple:\n",
        "thistuple[1] = \"blackcurrant\"\n",
        "print(thistuple)"
      ],
      "execution_count": null,
      "outputs": [
        {
          "output_type": "stream",
          "text": [
            "('apple', 'banana', 'cherry')\n",
            "banana\n"
          ],
          "name": "stdout"
        },
        {
          "output_type": "error",
          "ename": "TypeError",
          "evalue": "ignored",
          "traceback": [
            "\u001b[0;31m---------------------------------------------------------------------------\u001b[0m",
            "\u001b[0;31mTypeError\u001b[0m                                 Traceback (most recent call last)",
            "\u001b[0;32m<ipython-input-66-24b8c0492af6>\u001b[0m in \u001b[0;36m<module>\u001b[0;34m()\u001b[0m\n\u001b[1;32m      2\u001b[0m \u001b[0mprint\u001b[0m\u001b[0;34m(\u001b[0m\u001b[0mthistuple\u001b[0m\u001b[0;34m)\u001b[0m\u001b[0;34m\u001b[0m\u001b[0;34m\u001b[0m\u001b[0m\n\u001b[1;32m      3\u001b[0m \u001b[0mprint\u001b[0m\u001b[0;34m(\u001b[0m\u001b[0mthistuple\u001b[0m\u001b[0;34m[\u001b[0m\u001b[0;36m1\u001b[0m\u001b[0;34m]\u001b[0m\u001b[0;34m)\u001b[0m\u001b[0;34m\u001b[0m\u001b[0;34m\u001b[0m\u001b[0m\n\u001b[0;32m----> 4\u001b[0;31m \u001b[0mthistuple\u001b[0m\u001b[0;34m[\u001b[0m\u001b[0;36m1\u001b[0m\u001b[0;34m]\u001b[0m \u001b[0;34m=\u001b[0m \u001b[0;34m\"blackcurrant\"\u001b[0m\u001b[0;34m\u001b[0m\u001b[0;34m\u001b[0m\u001b[0m\n\u001b[0m\u001b[1;32m      5\u001b[0m \u001b[0mprint\u001b[0m\u001b[0;34m(\u001b[0m\u001b[0mthistuple\u001b[0m\u001b[0;34m)\u001b[0m\u001b[0;34m\u001b[0m\u001b[0;34m\u001b[0m\u001b[0m\n",
            "\u001b[0;31mTypeError\u001b[0m: 'tuple' object does not support item assignment"
          ]
        }
      ]
    },
    {
      "cell_type": "code",
      "metadata": {
        "id": "3lB5zDCT6PH1",
        "colab": {
          "base_uri": "https://localhost:8080/",
          "height": 68
        },
        "outputId": "02fc0c13-bf2a-4cd1-9cbf-023f852a0aad"
      },
      "source": [
        "#Loop Through a Tuple\n",
        "thistuple = (\"apple\", \"banana\", \"cherry\")\n",
        "for x in thistuple:\n",
        "  print(x)\n"
      ],
      "execution_count": null,
      "outputs": [
        {
          "output_type": "stream",
          "text": [
            "apple\n",
            "banana\n",
            "cherry\n"
          ],
          "name": "stdout"
        }
      ]
    },
    {
      "cell_type": "code",
      "metadata": {
        "id": "w2z_OBGbcU34",
        "colab": {
          "base_uri": "https://localhost:8080/",
          "height": 34
        },
        "outputId": "3b49656e-58f4-44f7-8865-bbfdc170bd29"
      },
      "source": [
        "thistuple[0]"
      ],
      "execution_count": null,
      "outputs": [
        {
          "output_type": "execute_result",
          "data": {
            "text/plain": [
              "'apple'"
            ]
          },
          "metadata": {
            "tags": []
          },
          "execution_count": 7
        }
      ]
    },
    {
      "cell_type": "code",
      "metadata": {
        "id": "GheLWBJ66UYd",
        "colab": {
          "base_uri": "https://localhost:8080/",
          "height": 34
        },
        "outputId": "9f5935cb-e6a9-42da-a27e-e5b57ecea942"
      },
      "source": [
        "#check if item exist\n",
        "thistuple = (\"apple\", \"banana\", \"cherry\")\n",
        "if \"apple\" in thistuple:\n",
        "  print(\"Yes, 'apple' is in the fruits tuple\")"
      ],
      "execution_count": null,
      "outputs": [
        {
          "output_type": "stream",
          "text": [
            "Yes, 'apple' is in the fruits tuple\n"
          ],
          "name": "stdout"
        }
      ]
    },
    {
      "cell_type": "markdown",
      "metadata": {
        "id": "59apc6PL6i3V"
      },
      "source": [
        "Tuple is not changable, you can't add, remove element in a tumple."
      ]
    },
    {
      "cell_type": "code",
      "metadata": {
        "id": "CPEiHIaJ6qmd"
      },
      "source": [
        "#delete tuple\n",
        "del thistuple"
      ],
      "execution_count": null,
      "outputs": []
    },
    {
      "cell_type": "code",
      "metadata": {
        "id": "0WDYH1hP6029"
      },
      "source": [
        "#tuple constructor \n",
        "thistuple = tuple((\"apple\", \"banana\", \"cherry\")) # note the double round-brackets\n",
        "print(thistuple)"
      ],
      "execution_count": null,
      "outputs": []
    },
    {
      "cell_type": "markdown",
      "metadata": {
        "id": "Rs0pWAoo7CLF"
      },
      "source": [
        "###Sets"
      ]
    },
    {
      "cell_type": "markdown",
      "metadata": {
        "id": "fSl86svR7Y9E"
      },
      "source": [
        "You cannot access items in a set by referring to an index, since sets are unordered the items has no index.\n",
        "\n",
        "But you can loop through the set items using a for loop, or ask if a specified value is present in a set, by using the in keyword."
      ]
    },
    {
      "cell_type": "code",
      "metadata": {
        "id": "lSdbEJ7r7E-k",
        "colab": {
          "base_uri": "https://localhost:8080/",
          "height": 102
        },
        "outputId": "6e3ba920-a241-427d-c333-c00a5d82cdbe"
      },
      "source": [
        "thisset = {\"apple\", \"banana\", \"cherry\"}\n",
        "print(thisset)\n",
        "\n",
        "for x in thisset:\n",
        "  print(x)\n",
        "\n",
        "print(\"banana\" in thisset)#Check if \"banana\" is present in the set:"
      ],
      "execution_count": null,
      "outputs": [
        {
          "output_type": "stream",
          "text": [
            "{'banana', 'cherry', 'apple'}\n",
            "banana\n",
            "cherry\n",
            "apple\n",
            "True\n"
          ],
          "name": "stdout"
        }
      ]
    },
    {
      "cell_type": "markdown",
      "metadata": {
        "id": "F1CXGfy-7ko8"
      },
      "source": [
        "Once a set is created, you cannot change its items, but you can add new items.\n",
        "\n",
        "To add one item to a set use the add() method.\n",
        "\n",
        "To add more than one item to a set use the update() method."
      ]
    },
    {
      "cell_type": "code",
      "metadata": {
        "id": "Xnxklsyx7c41",
        "colab": {
          "base_uri": "https://localhost:8080/",
          "height": 136
        },
        "outputId": "e396e0d8-e62f-434c-d9b1-a16c8c17c0de"
      },
      "source": [
        "thisset = {\"apple\", \"banana\", \"cherry\"}\n",
        "thisset.add(\"orange\")\n",
        "print(thisset)\n",
        "\n",
        "thisset.update([\"mango\", \"grapes\"])\n",
        "print(thisset)\n",
        "\n",
        "#remove item\n",
        "#If the item to remove does not exist, remove() will raise an error.\n",
        "#If the item to remove does not exist, discard() will NOT raise an error.\n",
        "thisset.remove(\"banana\")\n",
        "print(thisset)\n",
        "\n",
        "thisset.discard(\"banana\")\n",
        "print(thisset)\n",
        "#You can also use the pop(), method to remove an item, but this method will remove the last item.\n",
        "#Remember that sets are unordered, so you will not know what item that gets removed.\n",
        "x = thisset.pop()\n",
        "print(x)\n",
        "print(thisset)\n",
        "\n",
        "#Empty the set\n",
        "thisset.clear()\n",
        "print(thisset)\n",
        "\n",
        "#delte the set\n",
        "del thisset"
      ],
      "execution_count": null,
      "outputs": [
        {
          "output_type": "stream",
          "text": [
            "{'banana', 'cherry', 'apple', 'orange'}\n",
            "{'grapes', 'banana', 'apple', 'orange', 'mango', 'cherry'}\n",
            "{'grapes', 'apple', 'orange', 'mango', 'cherry'}\n",
            "{'grapes', 'apple', 'orange', 'mango', 'cherry'}\n",
            "grapes\n",
            "{'apple', 'orange', 'mango', 'cherry'}\n",
            "set()\n"
          ],
          "name": "stdout"
        }
      ]
    },
    {
      "cell_type": "code",
      "metadata": {
        "id": "_owQL8Fz7II8",
        "colab": {
          "base_uri": "https://localhost:8080/",
          "height": 34
        },
        "outputId": "105012f2-cb9a-48c0-ec9a-09d0be0c2a35"
      },
      "source": [
        "#set constructor\n",
        "thisset = set((\"apple\", \"banana\", \"cherry\")) # note the double round-brackets\n",
        "print(thisset)"
      ],
      "execution_count": null,
      "outputs": [
        {
          "output_type": "stream",
          "text": [
            "{'banana', 'cherry', 'apple'}\n"
          ],
          "name": "stdout"
        }
      ]
    },
    {
      "cell_type": "markdown",
      "metadata": {
        "id": "hI5d6b9VACsY"
      },
      "source": [
        "###Dictionaries"
      ]
    },
    {
      "cell_type": "code",
      "metadata": {
        "id": "PGBbCYSFAGbp",
        "colab": {
          "base_uri": "https://localhost:8080/"
        },
        "outputId": "e9725b31-98f0-4cb3-823b-dc8d11a05908"
      },
      "source": [
        "thisdict =\t{\n",
        "  \"brand\": \"Ford\",\n",
        "  \"model\": \"Mustang\",\n",
        "  \"year\": 1964\n",
        "}\n",
        "\n",
        "print(thisdict['brand'])\n",
        "\n",
        "tuna = thisdict.copy() # copy dict \n",
        "print(\"year\" in tuna) # = has_key \n",
        "\n",
        "thisdict.clear() # clean the dict\n",
        "print(thisdict)"
      ],
      "execution_count": null,
      "outputs": [
        {
          "output_type": "stream",
          "text": [
            "Ford\n",
            "{}\n"
          ],
          "name": "stdout"
        }
      ]
    },
    {
      "cell_type": "code",
      "metadata": {
        "id": "1qec1-GsnG_M",
        "colab": {
          "base_uri": "https://localhost:8080/"
        },
        "outputId": "d94a533a-8834-47ed-8e8f-168c8575f6b9"
      },
      "source": [
        "import pandas as pd\n",
        "import numpy as np\n",
        "\n",
        "\n",
        "#How to find an element's position in an array/list \n",
        "a = [5,10,20,1,3,5,20,5]\n",
        "position = [i for v,i in zip(a, range(len(a))) if v ==5 ]\n",
        "print(\"Position is\", position,\"\\n\")\n",
        "\n",
        "#range\n",
        "print(range(len(a)))\n",
        "print(list(range(len(a))),\"\\n\")\n",
        "# list(range(0,8,2)) #[0, 2, 4, 6]\n",
        "\n",
        "#zip\n",
        "x = [1,2,3]\n",
        "y = ['a','b','c']\n",
        "print(list(zip(x,y))) #[(1, 'a'), (2, 'b'), (3, 'c')]\n",
        "\n",
        "z = (5,6)\n",
        "k,j = z\n",
        "print(k) #5\n",
        "\n",
        "#i for x in range\n",
        "print([x/10 for x in range(10)])\n",
        "# equals to\n",
        "for x in range(10):\n",
        "  print(x/10)"
      ],
      "execution_count": null,
      "outputs": [
        {
          "output_type": "stream",
          "text": [
            "Position is [0, 5, 7] \n",
            "\n",
            "range(0, 8)\n",
            "[0, 1, 2, 3, 4, 5, 6, 7] \n",
            "\n",
            "[(1, 'a'), (2, 'b'), (3, 'c')]\n",
            "5\n",
            "[0.0, 0.1, 0.2, 0.3, 0.4, 0.5, 0.6, 0.7, 0.8, 0.9]\n",
            "0.0\n",
            "0.1\n",
            "0.2\n",
            "0.3\n",
            "0.4\n",
            "0.5\n",
            "0.6\n",
            "0.7\n",
            "0.8\n",
            "0.9\n"
          ],
          "name": "stdout"
        }
      ]
    },
    {
      "cell_type": "markdown",
      "metadata": {
        "id": "iUbx6nL0169z"
      },
      "source": [
        "## Conditional Statement"
      ]
    },
    {
      "cell_type": "markdown",
      "metadata": {
        "id": "SzoDB0tt18Wb"
      },
      "source": [
        "### If statement\n"
      ]
    },
    {
      "cell_type": "code",
      "metadata": {
        "id": "2OuS529v2ECk",
        "colab": {
          "base_uri": "https://localhost:8080/"
        },
        "outputId": "79390126-3423-4806-d126-4169eee458e9"
      },
      "source": [
        "tuna = \"fish\"\n",
        "if tuna==\"fish\":\n",
        "  print ('this is a fish') \n",
        "elif tuna==\"bass\":\n",
        "  print ('this is a bass')\n",
        "else:\n",
        "  print (\"this is nothing\")"
      ],
      "execution_count": null,
      "outputs": [
        {
          "output_type": "stream",
          "text": [
            "this is a fish\n"
          ],
          "name": "stdout"
        }
      ]
    },
    {
      "cell_type": "code",
      "metadata": {
        "id": "3CBfRTwy3YsQ",
        "colab": {
          "base_uri": "https://localhost:8080/"
        },
        "outputId": "966d7e95-92ce-4593-a31d-5bdaa6453713"
      },
      "source": [
        "## And and Or\n",
        "\n",
        "a = 3\n",
        "\n",
        "if a>3 and a <4:\n",
        "  print(\"x\")\n",
        "\n",
        "if a>3 or a <4:\n",
        "  print(\"works\")"
      ],
      "execution_count": null,
      "outputs": [
        {
          "output_type": "stream",
          "text": [
            "works\n"
          ],
          "name": "stdout"
        }
      ]
    },
    {
      "cell_type": "markdown",
      "metadata": {
        "id": "HTu50Wf_3wl6"
      },
      "source": [
        "### For and While loops\n"
      ]
    },
    {
      "cell_type": "code",
      "metadata": {
        "id": "oXXTd0ST3z8q",
        "colab": {
          "base_uri": "https://localhost:8080/",
          "height": 187
        },
        "outputId": "b7815dbb-9b91-481d-deef-ca5318a20b8b"
      },
      "source": [
        "# while loop\n",
        "b = 1\n",
        "while b <=10:\n",
        "  print(b)\n",
        "  b+=1\n"
      ],
      "execution_count": null,
      "outputs": [
        {
          "output_type": "stream",
          "text": [
            "1\n",
            "2\n",
            "3\n",
            "4\n",
            "5\n",
            "6\n",
            "7\n",
            "8\n",
            "9\n",
            "10\n"
          ],
          "name": "stdout"
        }
      ]
    },
    {
      "cell_type": "code",
      "metadata": {
        "id": "-_qWbDaR4K0N",
        "colab": {
          "base_uri": "https://localhost:8080/",
          "height": 68
        },
        "outputId": "4636fa80-e981-4b20-eaf2-c51b88913e51"
      },
      "source": [
        "# for loop\n",
        "food = [\"bread\",\"milk\",\"beef\"]\n",
        "for i in food:\n",
        "  print(i)"
      ],
      "execution_count": null,
      "outputs": [
        {
          "output_type": "stream",
          "text": [
            "bread\n",
            "milk\n",
            "beef\n"
          ],
          "name": "stdout"
        }
      ]
    },
    {
      "cell_type": "code",
      "metadata": {
        "id": "bRbp4u2Q4cf3",
        "colab": {
          "base_uri": "https://localhost:8080/",
          "height": 68
        },
        "outputId": "3fe736e0-31a4-4bfb-b1af-36ac38e330a5"
      },
      "source": [
        "# loop dictionary\n",
        "ages = {'dad':40, \n",
        "        'mom':38,\n",
        "        'me':20}\n",
        "\n",
        "for item in ages:\n",
        "  print(item, ages[item])"
      ],
      "execution_count": null,
      "outputs": [
        {
          "output_type": "stream",
          "text": [
            "dad 40\n",
            "mom 38\n",
            "me 20\n"
          ],
          "name": "stdout"
        }
      ]
    },
    {
      "cell_type": "code",
      "metadata": {
        "id": "OabjhdtJ5AwM",
        "colab": {
          "base_uri": "https://localhost:8080/",
          "height": 85
        },
        "outputId": "97cc628b-3b73-4031-f1bb-cf661aeef1bf"
      },
      "source": [
        "# break\n",
        "while 1 :\n",
        "  name = input('Enter Name: ')\n",
        "  if name == 'quit': break\n",
        "  "
      ],
      "execution_count": null,
      "outputs": [
        {
          "output_type": "stream",
          "text": [
            "Enter Name: greg\n",
            "Enter Name: lucky\n",
            "Enter Name: lisa\n",
            "Enter Name: quit\n"
          ],
          "name": "stdout"
        }
      ]
    },
    {
      "cell_type": "markdown",
      "metadata": {
        "id": "sAjmIm2o929V"
      },
      "source": [
        "## Function"
      ]
    },
    {
      "cell_type": "code",
      "metadata": {
        "id": "c_L2vFA_4iTY",
        "colab": {
          "base_uri": "https://localhost:8080/",
          "height": 68
        },
        "outputId": "d25aeb1d-6226-433c-8b19-2ea8ce50ee8e"
      },
      "source": [
        "import itertools\n",
        "\n",
        "lst1 = ['ABC','DEF']\n",
        "\n",
        "lst2 = ['abc','def']\n",
        "\n",
        "allList = [lst1, lst2]\n",
        "\n",
        "# The function of * \n",
        "print(*lst1)\n",
        "\n",
        "output = itertools.chain(*allList)\n",
        "print(output)\n",
        "\n",
        "# change back to list() , you can see the result\n",
        "# print(list(output))\n",
        "\n",
        "# or\n",
        "# print([\"%s\"% (x) for x in output])  \n",
        "print([x for x in output])"
      ],
      "execution_count": null,
      "outputs": [
        {
          "output_type": "stream",
          "text": [
            "ABC DEF\n",
            "<itertools.chain object at 0x7ff5fb80f860>\n",
            "['ABC', 'DEF', 'abc', 'def']\n"
          ],
          "name": "stdout"
        }
      ]
    },
    {
      "cell_type": "code",
      "metadata": {
        "id": "aKAGDo3Y95Mj",
        "colab": {
          "base_uri": "https://localhost:8080/",
          "height": 34
        },
        "outputId": "b3df78d1-d0e4-4e7b-c684-cd5574c8c96b"
      },
      "source": [
        "# multiple parameters\n",
        "def _list(*food):\n",
        "  print (food)\n",
        "\n",
        "_list('apple','pear')"
      ],
      "execution_count": null,
      "outputs": [
        {
          "output_type": "stream",
          "text": [
            "('apple', 'pear')\n"
          ],
          "name": "stdout"
        }
      ]
    },
    {
      "cell_type": "code",
      "metadata": {
        "id": "0W637N5C-acz",
        "colab": {
          "base_uri": "https://localhost:8080/",
          "height": 34
        },
        "outputId": "1519ee11-1846-4faa-d1f1-fd2afd49861b"
      },
      "source": [
        "def cart(**items): # ** convert to dictionary \n",
        "  print (items)\n",
        "\n",
        "cart(apples=4, pears=2, peaches=8)"
      ],
      "execution_count": null,
      "outputs": [
        {
          "output_type": "stream",
          "text": [
            "{'apples': 4, 'pears': 2, 'peaches': 8}\n"
          ],
          "name": "stdout"
        }
      ]
    },
    {
      "cell_type": "code",
      "metadata": {
        "id": "O0AweFhaEWxT",
        "colab": {
          "base_uri": "https://localhost:8080/",
          "height": 85
        },
        "outputId": "79719b3d-eb5c-4b37-9575-4f796de61d27"
      },
      "source": [
        "# * tuple       \"x,y,z,\"\n",
        "# ** dictionary \"x=y\"\n",
        "\n",
        "def profile(first,last, *ages, **items):\n",
        "  print(first, last)\n",
        "  print(ages)\n",
        "  print(items)\n",
        "\n",
        "profile(\"A\",\"B\", 20,21,22, bacon=4)\n",
        "\n",
        "#tuple as parameter\n",
        "def example(*_tuple):\n",
        "  return _tuple\n",
        "\n",
        "tuple1 = (1,2,3)\n",
        "example(*tuple1)\n",
        "\n",
        "#dict as parameter\n",
        "def example2(**_dict):\n",
        "  return _dict\n",
        "\n",
        "dict1 = {\"a\":1, \"b\":2}\n",
        "example2(**dict1)"
      ],
      "execution_count": null,
      "outputs": [
        {
          "output_type": "stream",
          "text": [
            "A B\n",
            "(20, 21, 22)\n",
            "{'bacon': 4}\n"
          ],
          "name": "stdout"
        },
        {
          "output_type": "execute_result",
          "data": {
            "text/plain": [
              "{'a': 1, 'b': 2}"
            ]
          },
          "metadata": {
            "tags": []
          },
          "execution_count": 3
        }
      ]
    },
    {
      "cell_type": "code",
      "metadata": {
        "id": "yLZJA8oRdO0H",
        "colab": {
          "base_uri": "https://localhost:8080/",
          "height": 34
        },
        "outputId": "181cd754-9f18-41f6-ac61-9b93ff8435e2"
      },
      "source": [
        "# 把二维list转化为所对应的dict里的值 -- 后置for loop的用法\n",
        "dict1 = {1:\"a\", 2:\"b\", 3:\"c\"}\n",
        "\n",
        "list = [[1,2,3],[3,2,1]]\n",
        "\n",
        "[[dict1[x] for x in y] for y in list]"
      ],
      "execution_count": null,
      "outputs": [
        {
          "output_type": "execute_result",
          "data": {
            "text/plain": [
              "[['a', 'b', 'c'], ['c', 'b', 'a']]"
            ]
          },
          "metadata": {
            "tags": []
          },
          "execution_count": 1
        }
      ]
    },
    {
      "cell_type": "markdown",
      "metadata": {
        "id": "qNAXCg_8LH7r"
      },
      "source": [
        "## Lambda, Map, Filter, Reduce "
      ]
    },
    {
      "cell_type": "code",
      "metadata": {
        "id": "Hof9OTE6B0lf",
        "colab": {
          "base_uri": "https://localhost:8080/",
          "height": 34
        },
        "outputId": "570eb772-6d5b-4d03-df55-fe9623141a05"
      },
      "source": [
        "#lambda\n",
        "f = lambda x, y : x + y\n",
        "f(1,2)"
      ],
      "execution_count": null,
      "outputs": [
        {
          "output_type": "execute_result",
          "data": {
            "text/plain": [
              "3"
            ]
          },
          "metadata": {
            "tags": []
          },
          "execution_count": 5
        }
      ]
    },
    {
      "cell_type": "code",
      "metadata": {
        "id": "xMp-jpa-5UNs"
      },
      "source": [
        "#You define a function that will take the column values you want to play with to come up with your logic. Here the only two columns we end up using are genre and rating.\n",
        "#You use an apply function with lambda along the row with axis=1. \n",
        "#The general syntax is: df.apply(lambda x: func(x['col1'],x['col2']),axis=1)\n",
        "def custom_rating(genre,rating):\n",
        "    if 'Thriller' in genre:\n",
        "        return min(10,rating+1)\n",
        "    elif 'Comedy' in genre:\n",
        "        return max(0,rating-1)\n",
        "    else:\n",
        "        return rating\n",
        "        \n",
        "df['CustomRating'] = df.apply(lambda x: custom_rating(x['Genre'],x['Rating']),axis=1)\n"
      ],
      "execution_count": null,
      "outputs": []
    },
    {
      "cell_type": "code",
      "metadata": {
        "id": "s5CNEAB7DxjT",
        "colab": {
          "base_uri": "https://localhost:8080/",
          "height": 34
        },
        "outputId": "6b65e9bd-65aa-42dd-b5a6-9973396f443c"
      },
      "source": [
        "# Map(func, seq/list]\n",
        "def fahrenheit(T):\n",
        "    return ((float(9)/5)*T + 32)\n",
        "temp = (36.5, 37, 37.5,39)\n",
        "F = map(fahrenheit, temp)\n",
        "print(list(F))"
      ],
      "execution_count": null,
      "outputs": [
        {
          "output_type": "stream",
          "text": [
            "[97.7, 98.60000000000001, 99.5, 102.2]\n"
          ],
          "name": "stdout"
        }
      ]
    },
    {
      "cell_type": "code",
      "metadata": {
        "id": "wPpcOUOJCQZK",
        "colab": {
          "base_uri": "https://localhost:8080/",
          "height": 34
        },
        "outputId": "385742df-02d7-46c6-9dcf-d600cf55778a"
      },
      "source": [
        "# Map() + lambda with two lists\n",
        "a = [1,2,3,4,5]\n",
        "b = [11,22,33,44,55]\n",
        "list(map(lambda x , y:  x*y,a,b))"
      ],
      "execution_count": null,
      "outputs": [
        {
          "output_type": "execute_result",
          "data": {
            "text/plain": [
              "[11, 44, 99, 176, 275]"
            ]
          },
          "metadata": {
            "tags": []
          },
          "execution_count": 11
        }
      ]
    },
    {
      "cell_type": "code",
      "metadata": {
        "id": "VJNB0McBCB7b",
        "colab": {
          "base_uri": "https://localhost:8080/",
          "height": 51
        },
        "outputId": "323a95e3-d884-49e0-8512-12994aadb48c"
      },
      "source": [
        "#Filtering()\n",
        "fib = [0,1,1,2,3,5,8,13,21,34,55]\n",
        "result = list(filter(lambda x: x % 2, fib))\n",
        "print(result)\n",
        "\n",
        "result = list(filter(lambda x: x % 2 == 0, fib))\n",
        "print(result)\n"
      ],
      "execution_count": null,
      "outputs": [
        {
          "output_type": "stream",
          "text": [
            "[1, 1, 3, 5, 13, 21, 55]\n",
            "[0, 2, 8, 34]\n"
          ],
          "name": "stdout"
        }
      ]
    },
    {
      "cell_type": "code",
      "metadata": {
        "id": "qQHlsrn0Hw1I",
        "colab": {
          "base_uri": "https://localhost:8080/",
          "height": 51
        },
        "outputId": "233a415c-41fa-4de3-fa3d-994b8126c27d"
      },
      "source": [
        "# Reduce()\n",
        "from functools import reduce\n",
        "#max value\n",
        "f = lambda x,y: x if x > y else y \n",
        "print(reduce(f,[40,50,60,100,20,30]))\n",
        "\n",
        "print(reduce(lambda x, y: x+y, range(1,101)))"
      ],
      "execution_count": null,
      "outputs": [
        {
          "output_type": "stream",
          "text": [
            "100\n",
            "5050\n"
          ],
          "name": "stdout"
        }
      ]
    },
    {
      "cell_type": "markdown",
      "source": [
        "## DateTime/Relative datetime\n",
        "\n",
        "[Symbol meanings (%Y%m)](https://i.stack.imgur.com/Quv1b.jpg)"
      ],
      "metadata": {
        "id": "MzqUgMkrqsUk"
      }
    },
    {
      "cell_type": "code",
      "source": [
        "from dateutil.relativedelta import relativedelta\n",
        "from datetime import datetime\n",
        "\n",
        "today_date = datetime.today()\n",
        "today_date.strftime('%Y%m')\n",
        "\n",
        "one_month_ago = today_date - relativedelta(months=1)\n",
        "month_key= one_month_ago.strftime('%Y%m')\n",
        "\n",
        "month_key"
      ],
      "metadata": {
        "colab": {
          "base_uri": "https://localhost:8080/",
          "height": 35
        },
        "id": "2SVSxIa9qfFU",
        "outputId": "8697e3f7-ab8d-4e97-aa8c-a1ac066d94a7"
      },
      "execution_count": null,
      "outputs": [
        {
          "output_type": "execute_result",
          "data": {
            "application/vnd.google.colaboratory.intrinsic+json": {
              "type": "string"
            },
            "text/plain": [
              "'202201'"
            ]
          },
          "metadata": {},
          "execution_count": 5
        }
      ]
    },
    {
      "cell_type": "markdown",
      "metadata": {
        "id": "uLwpOsvp9YOs"
      },
      "source": [
        "#Pandas\n"
      ]
    },
    {
      "cell_type": "markdown",
      "source": [
        "## Data import and export"
      ],
      "metadata": {
        "id": "ZeTEUbDzNz_o"
      }
    },
    {
      "cell_type": "code",
      "source": [
        "#Read and Write to CSV\n",
        "pd.read_csv('filename.csv' , header=None, nrows=5)\n",
        "\n",
        "df.to_csv('filename.csv') )"
      ],
      "metadata": {
        "id": "yYbgbSXk1uDt"
      },
      "execution_count": null,
      "outputs": []
    },
    {
      "cell_type": "code",
      "source": [
        "#Read and Write to Excel\n",
        "pd.read_excel('filename.xlsx')\n",
        "#Read from sheet \n",
        "xlsx = pd.ExcelFile('filename.xlsx')\n",
        "df = pd.read_excel(xlsx,'sheetname' )\n",
        "\n",
        "#export to excel\n",
        "df.to_excel('filename.xlsx', sheet_name='sheetname')\n",
        "# export data to differetn excel sheets\n",
        "df2 = df1.copy()\n",
        "with pd.ExcelWriter('output.xlsx') as writer:  \n",
        "    df1.to_excel(writer, sheet_name='Sheet_name_1')\n",
        "    df2.to_excel(writer, sheet_name='Sheet_name_2')"
      ],
      "metadata": {
        "id": "AQfQnf3KO92T"
      },
      "execution_count": null,
      "outputs": []
    },
    {
      "cell_type": "code",
      "source": [
        "# Read and Write to SQL Query or Database Table\n",
        "from sqlalchemy import create_engine\n",
        "\n",
        "engine = create_engine('xxxx')\n",
        "pd.read_sql(\"select query\", engine) # read_sql() is a convenience wrapper around read_sql_table() and read_sql_query()\n",
        "pd.read_sql_table(\"table_name\", engine)\n",
        "pd.read_sql_query(\"select query\", engine)\n",
        "\n",
        "df.to_sql( , en 'myDf' gine)\n"
      ],
      "metadata": {
        "id": "bpmg3qfn2Aur"
      },
      "execution_count": null,
      "outputs": []
    },
    {
      "cell_type": "code",
      "source": [
        "# Read data from Teradata\n",
        "import pandas as pd;\n",
        "import teradata as td;\n",
        " \n",
        "pd.set_option('display.max_rows', None)\n",
        "\n",
        "#Establish the connection to the Teradata database\n",
        "udaExec = td.UdaExec (appName=\"dpull\", version=\"1.0\",logConsole=False)\n",
        "connection = udaExec.connect(method=\"ODBC\",dsn=\"tdp5dbc\", username=\"username\", password=\"pw!\")"
      ],
      "metadata": {
        "id": "f8_aLO9k2ZFU"
      },
      "execution_count": null,
      "outputs": []
    },
    {
      "cell_type": "code",
      "source": [
        "pd.set_option('display.max_rows', None) #Display all rows in dataframe output"
      ],
      "metadata": {
        "id": "E7onn6vc8Dbb"
      },
      "execution_count": null,
      "outputs": []
    },
    {
      "cell_type": "code",
      "source": [
        "pip install pydataset"
      ],
      "metadata": {
        "colab": {
          "base_uri": "https://localhost:8080/"
        },
        "id": "qom9xHwwl3um",
        "outputId": "60a51d58-266b-458a-cea2-ea4dd91ab9df"
      },
      "execution_count": null,
      "outputs": [
        {
          "output_type": "stream",
          "name": "stdout",
          "text": [
            "Collecting pydataset\n",
            "  Downloading pydataset-0.2.0.tar.gz (15.9 MB)\n",
            "\u001b[K     |████████████████████████████████| 15.9 MB 4.4 MB/s \n",
            "\u001b[?25hRequirement already satisfied: pandas in /usr/local/lib/python3.7/dist-packages (from pydataset) (1.3.5)\n",
            "Requirement already satisfied: python-dateutil>=2.7.3 in /usr/local/lib/python3.7/dist-packages (from pandas->pydataset) (2.8.2)\n",
            "Requirement already satisfied: pytz>=2017.3 in /usr/local/lib/python3.7/dist-packages (from pandas->pydataset) (2018.9)\n",
            "Requirement already satisfied: numpy>=1.17.3 in /usr/local/lib/python3.7/dist-packages (from pandas->pydataset) (1.19.5)\n",
            "Requirement already satisfied: six>=1.5 in /usr/local/lib/python3.7/dist-packages (from python-dateutil>=2.7.3->pandas->pydataset) (1.15.0)\n",
            "Building wheels for collected packages: pydataset\n",
            "  Building wheel for pydataset (setup.py) ... \u001b[?25l\u001b[?25hdone\n",
            "  Created wheel for pydataset: filename=pydataset-0.2.0-py3-none-any.whl size=15939432 sha256=d998011385ec16779d39bc8f1c162d330e87ef3a8766f36109333777f6dbc39f\n",
            "  Stored in directory: /root/.cache/pip/wheels/32/26/30/d71562a19eed948eaada9a61b4d722fa358657a3bfb5d151e2\n",
            "Successfully built pydataset\n",
            "Installing collected packages: pydataset\n",
            "Successfully installed pydataset-0.2.0\n"
          ]
        }
      ]
    },
    {
      "cell_type": "code",
      "source": [
        "# Online example dataset\n",
        "import pandas as pd\n",
        "from pydataset import data\n",
        "df = data('iris')\n",
        "df['date1']= datetime.today().date()\n",
        "df.head(5) # shows first n rows of dataframe or \n",
        "#df.tail(5) shows the bottom n rows of dataframe"
      ],
      "metadata": {
        "colab": {
          "base_uri": "https://localhost:8080/",
          "height": 202
        },
        "id": "kLLaNRZunyhG",
        "outputId": "ab46560f-19fa-4696-ef8b-386e3a2fef42"
      },
      "execution_count": null,
      "outputs": [
        {
          "output_type": "execute_result",
          "data": {
            "text/html": [
              "\n",
              "  <div id=\"df-b648d3f2-1eec-4a8b-8b21-c909b68b1816\">\n",
              "    <div class=\"colab-df-container\">\n",
              "      <div>\n",
              "<style scoped>\n",
              "    .dataframe tbody tr th:only-of-type {\n",
              "        vertical-align: middle;\n",
              "    }\n",
              "\n",
              "    .dataframe tbody tr th {\n",
              "        vertical-align: top;\n",
              "    }\n",
              "\n",
              "    .dataframe thead th {\n",
              "        text-align: right;\n",
              "    }\n",
              "</style>\n",
              "<table border=\"1\" class=\"dataframe\">\n",
              "  <thead>\n",
              "    <tr style=\"text-align: right;\">\n",
              "      <th></th>\n",
              "      <th>Sepal.Length</th>\n",
              "      <th>Sepal.Width</th>\n",
              "      <th>Petal.Length</th>\n",
              "      <th>Petal.Width</th>\n",
              "      <th>Species</th>\n",
              "      <th>date1</th>\n",
              "    </tr>\n",
              "  </thead>\n",
              "  <tbody>\n",
              "    <tr>\n",
              "      <th>1</th>\n",
              "      <td>5.1</td>\n",
              "      <td>3.5</td>\n",
              "      <td>1.4</td>\n",
              "      <td>0.2</td>\n",
              "      <td>setosa</td>\n",
              "      <td>2022-02-02</td>\n",
              "    </tr>\n",
              "    <tr>\n",
              "      <th>2</th>\n",
              "      <td>4.9</td>\n",
              "      <td>3.0</td>\n",
              "      <td>1.4</td>\n",
              "      <td>0.2</td>\n",
              "      <td>setosa</td>\n",
              "      <td>2022-02-02</td>\n",
              "    </tr>\n",
              "    <tr>\n",
              "      <th>3</th>\n",
              "      <td>4.7</td>\n",
              "      <td>3.2</td>\n",
              "      <td>1.3</td>\n",
              "      <td>0.2</td>\n",
              "      <td>setosa</td>\n",
              "      <td>2022-02-02</td>\n",
              "    </tr>\n",
              "    <tr>\n",
              "      <th>4</th>\n",
              "      <td>4.6</td>\n",
              "      <td>3.1</td>\n",
              "      <td>1.5</td>\n",
              "      <td>0.2</td>\n",
              "      <td>setosa</td>\n",
              "      <td>2022-02-02</td>\n",
              "    </tr>\n",
              "    <tr>\n",
              "      <th>5</th>\n",
              "      <td>5.0</td>\n",
              "      <td>3.6</td>\n",
              "      <td>1.4</td>\n",
              "      <td>0.2</td>\n",
              "      <td>setosa</td>\n",
              "      <td>2022-02-02</td>\n",
              "    </tr>\n",
              "  </tbody>\n",
              "</table>\n",
              "</div>\n",
              "      <button class=\"colab-df-convert\" onclick=\"convertToInteractive('df-b648d3f2-1eec-4a8b-8b21-c909b68b1816')\"\n",
              "              title=\"Convert this dataframe to an interactive table.\"\n",
              "              style=\"display:none;\">\n",
              "        \n",
              "  <svg xmlns=\"http://www.w3.org/2000/svg\" height=\"24px\"viewBox=\"0 0 24 24\"\n",
              "       width=\"24px\">\n",
              "    <path d=\"M0 0h24v24H0V0z\" fill=\"none\"/>\n",
              "    <path d=\"M18.56 5.44l.94 2.06.94-2.06 2.06-.94-2.06-.94-.94-2.06-.94 2.06-2.06.94zm-11 1L8.5 8.5l.94-2.06 2.06-.94-2.06-.94L8.5 2.5l-.94 2.06-2.06.94zm10 10l.94 2.06.94-2.06 2.06-.94-2.06-.94-.94-2.06-.94 2.06-2.06.94z\"/><path d=\"M17.41 7.96l-1.37-1.37c-.4-.4-.92-.59-1.43-.59-.52 0-1.04.2-1.43.59L10.3 9.45l-7.72 7.72c-.78.78-.78 2.05 0 2.83L4 21.41c.39.39.9.59 1.41.59.51 0 1.02-.2 1.41-.59l7.78-7.78 2.81-2.81c.8-.78.8-2.07 0-2.86zM5.41 20L4 18.59l7.72-7.72 1.47 1.35L5.41 20z\"/>\n",
              "  </svg>\n",
              "      </button>\n",
              "      \n",
              "  <style>\n",
              "    .colab-df-container {\n",
              "      display:flex;\n",
              "      flex-wrap:wrap;\n",
              "      gap: 12px;\n",
              "    }\n",
              "\n",
              "    .colab-df-convert {\n",
              "      background-color: #E8F0FE;\n",
              "      border: none;\n",
              "      border-radius: 50%;\n",
              "      cursor: pointer;\n",
              "      display: none;\n",
              "      fill: #1967D2;\n",
              "      height: 32px;\n",
              "      padding: 0 0 0 0;\n",
              "      width: 32px;\n",
              "    }\n",
              "\n",
              "    .colab-df-convert:hover {\n",
              "      background-color: #E2EBFA;\n",
              "      box-shadow: 0px 1px 2px rgba(60, 64, 67, 0.3), 0px 1px 3px 1px rgba(60, 64, 67, 0.15);\n",
              "      fill: #174EA6;\n",
              "    }\n",
              "\n",
              "    [theme=dark] .colab-df-convert {\n",
              "      background-color: #3B4455;\n",
              "      fill: #D2E3FC;\n",
              "    }\n",
              "\n",
              "    [theme=dark] .colab-df-convert:hover {\n",
              "      background-color: #434B5C;\n",
              "      box-shadow: 0px 1px 3px 1px rgba(0, 0, 0, 0.15);\n",
              "      filter: drop-shadow(0px 1px 2px rgba(0, 0, 0, 0.3));\n",
              "      fill: #FFFFFF;\n",
              "    }\n",
              "  </style>\n",
              "\n",
              "      <script>\n",
              "        const buttonEl =\n",
              "          document.querySelector('#df-b648d3f2-1eec-4a8b-8b21-c909b68b1816 button.colab-df-convert');\n",
              "        buttonEl.style.display =\n",
              "          google.colab.kernel.accessAllowed ? 'block' : 'none';\n",
              "\n",
              "        async function convertToInteractive(key) {\n",
              "          const element = document.querySelector('#df-b648d3f2-1eec-4a8b-8b21-c909b68b1816');\n",
              "          const dataTable =\n",
              "            await google.colab.kernel.invokeFunction('convertToInteractive',\n",
              "                                                     [key], {});\n",
              "          if (!dataTable) return;\n",
              "\n",
              "          const docLinkHtml = 'Like what you see? Visit the ' +\n",
              "            '<a target=\"_blank\" href=https://colab.research.google.com/notebooks/data_table.ipynb>data table notebook</a>'\n",
              "            + ' to learn more about interactive tables.';\n",
              "          element.innerHTML = '';\n",
              "          dataTable['output_type'] = 'display_data';\n",
              "          await google.colab.output.renderOutput(dataTable, element);\n",
              "          const docLink = document.createElement('div');\n",
              "          docLink.innerHTML = docLinkHtml;\n",
              "          element.appendChild(docLink);\n",
              "        }\n",
              "      </script>\n",
              "    </div>\n",
              "  </div>\n",
              "  "
            ],
            "text/plain": [
              "   Sepal.Length  Sepal.Width  Petal.Length  Petal.Width Species       date1\n",
              "1           5.1          3.5           1.4          0.2  setosa  2022-02-02\n",
              "2           4.9          3.0           1.4          0.2  setosa  2022-02-02\n",
              "3           4.7          3.2           1.3          0.2  setosa  2022-02-02\n",
              "4           4.6          3.1           1.5          0.2  setosa  2022-02-02\n",
              "5           5.0          3.6           1.4          0.2  setosa  2022-02-02"
            ]
          },
          "metadata": {},
          "execution_count": 14
        }
      ]
    },
    {
      "cell_type": "code",
      "metadata": {
        "id": "JCt07v-Joy91"
      },
      "source": [
        "#how to add columns \n",
        "df1[\"new\"] = 0\n",
        "#how to drop columns\n",
        "df1.drop(['new'], axis=1)"
      ],
      "execution_count": null,
      "outputs": []
    },
    {
      "cell_type": "markdown",
      "source": [
        "##Summarize Dataframe\n",
        "\n",
        "https://medium.com/analytics-vidhya/how-to-summarize-data-with-pandas-2c9edffafbaf#9b41"
      ],
      "metadata": {
        "id": "bjhrayNNtZGL"
      }
    },
    {
      "cell_type": "code",
      "metadata": {
        "id": "IjytnHyqouYm",
        "colab": {
          "base_uri": "https://localhost:8080/"
        },
        "outputId": "7ba169c0-11a0-4f95-c581-251766fd7c87"
      },
      "source": [
        "# check features type\n",
        "df.dtypes\n",
        "\n",
        "# check column type\n",
        "#df['Petal.Width'].dtypes\n"
      ],
      "execution_count": null,
      "outputs": [
        {
          "output_type": "execute_result",
          "data": {
            "text/plain": [
              "Sepal.Length    float64\n",
              "Sepal.Width     float64\n",
              "Petal.Length    float64\n",
              "Petal.Width     float64\n",
              "Species          object\n",
              "date             object\n",
              "dtype: object"
            ]
          },
          "metadata": {},
          "execution_count": 23
        }
      ]
    },
    {
      "cell_type": "markdown",
      "source": [
        " ### **1.info(): provides a concise summary of a dataframe.**\n",
        "\n",
        "By looking at the summary provided for ss.info() below we can observe:\n",
        "\n",
        "\n",
        "*   record count is 150\n",
        "*   composed of 5 columns\n",
        "*   column names don't need to be cleaned ( no need to eliminate white spaces)\n",
        "*   Data types included are object, float64,  \n",
        "*   Date and Time columns are dtype = object, should be updated to corresponding datetime formats.\n",
        "*   There are no missing values on any of the records"
      ],
      "metadata": {
        "id": "gxq5UURPpog0"
      }
    },
    {
      "cell_type": "code",
      "source": [
        "# info(): provides a concise简明的 summary of a dataframe.\n",
        "df.info()\n",
        "# A.info(all)  #list all columns info"
      ],
      "metadata": {
        "colab": {
          "base_uri": "https://localhost:8080/"
        },
        "id": "jNOgbrkapF-B",
        "outputId": "65d68e25-4b5b-48f9-971c-1df3685b1507"
      },
      "execution_count": null,
      "outputs": [
        {
          "output_type": "stream",
          "name": "stdout",
          "text": [
            "<class 'pandas.core.frame.DataFrame'>\n",
            "Int64Index: 150 entries, 1 to 150\n",
            "Data columns (total 6 columns):\n",
            " #   Column        Non-Null Count  Dtype  \n",
            "---  ------        --------------  -----  \n",
            " 0   Sepal.Length  150 non-null    float64\n",
            " 1   Sepal.Width   150 non-null    float64\n",
            " 2   Petal.Length  150 non-null    float64\n",
            " 3   Petal.Width   150 non-null    float64\n",
            " 4   Species       150 non-null    object \n",
            " 5   date1         150 non-null    object \n",
            "dtypes: float64(4), object(2)\n",
            "memory usage: 8.2+ KB\n"
          ]
        }
      ]
    },
    {
      "cell_type": "code",
      "metadata": {
        "id": "A1--Y552rdjq",
        "outputId": "8925fe61-ddf8-4923-94a7-93a91a634693",
        "colab": {
          "base_uri": "https://localhost:8080/"
        }
      },
      "source": [
        "#Check NaN\n",
        "df.isna().any()\n"
      ],
      "execution_count": null,
      "outputs": [
        {
          "output_type": "execute_result",
          "data": {
            "text/plain": [
              "Sepal.Length    False\n",
              "Sepal.Width     False\n",
              "Petal.Length    False\n",
              "Petal.Width     False\n",
              "Species         False\n",
              "date1           False\n",
              "dtype: bool"
            ]
          },
          "metadata": {},
          "execution_count": 102
        }
      ]
    },
    {
      "cell_type": "markdown",
      "source": [
        "### **2. describe(): Generates descriptive statistics** \n",
        "that will provide visibility of the dispersion and shape of a dataset’s distribution. It excludes NaN values. It can be used for dataframe or a specific series."
      ],
      "metadata": {
        "id": "qBr7QFeZwWhS"
      }
    },
    {
      "cell_type": "code",
      "source": [
        "df.describe()"
      ],
      "metadata": {
        "colab": {
          "base_uri": "https://localhost:8080/",
          "height": 294
        },
        "id": "f3jhp8INpGN4",
        "outputId": "da797878-fb68-4654-a3e7-2538d25f71bd"
      },
      "execution_count": null,
      "outputs": [
        {
          "output_type": "execute_result",
          "data": {
            "text/html": [
              "\n",
              "  <div id=\"df-87217251-98c0-4234-ae3a-6e87dc8614b7\">\n",
              "    <div class=\"colab-df-container\">\n",
              "      <div>\n",
              "<style scoped>\n",
              "    .dataframe tbody tr th:only-of-type {\n",
              "        vertical-align: middle;\n",
              "    }\n",
              "\n",
              "    .dataframe tbody tr th {\n",
              "        vertical-align: top;\n",
              "    }\n",
              "\n",
              "    .dataframe thead th {\n",
              "        text-align: right;\n",
              "    }\n",
              "</style>\n",
              "<table border=\"1\" class=\"dataframe\">\n",
              "  <thead>\n",
              "    <tr style=\"text-align: right;\">\n",
              "      <th></th>\n",
              "      <th>Sepal.Length</th>\n",
              "      <th>Sepal.Width</th>\n",
              "      <th>Petal.Length</th>\n",
              "      <th>Petal.Width</th>\n",
              "    </tr>\n",
              "  </thead>\n",
              "  <tbody>\n",
              "    <tr>\n",
              "      <th>count</th>\n",
              "      <td>150.000000</td>\n",
              "      <td>150.000000</td>\n",
              "      <td>150.000000</td>\n",
              "      <td>150.000000</td>\n",
              "    </tr>\n",
              "    <tr>\n",
              "      <th>mean</th>\n",
              "      <td>5.843333</td>\n",
              "      <td>3.057333</td>\n",
              "      <td>3.758000</td>\n",
              "      <td>1.199333</td>\n",
              "    </tr>\n",
              "    <tr>\n",
              "      <th>std</th>\n",
              "      <td>0.828066</td>\n",
              "      <td>0.435866</td>\n",
              "      <td>1.765298</td>\n",
              "      <td>0.762238</td>\n",
              "    </tr>\n",
              "    <tr>\n",
              "      <th>min</th>\n",
              "      <td>4.300000</td>\n",
              "      <td>2.000000</td>\n",
              "      <td>1.000000</td>\n",
              "      <td>0.100000</td>\n",
              "    </tr>\n",
              "    <tr>\n",
              "      <th>25%</th>\n",
              "      <td>5.100000</td>\n",
              "      <td>2.800000</td>\n",
              "      <td>1.600000</td>\n",
              "      <td>0.300000</td>\n",
              "    </tr>\n",
              "    <tr>\n",
              "      <th>50%</th>\n",
              "      <td>5.800000</td>\n",
              "      <td>3.000000</td>\n",
              "      <td>4.350000</td>\n",
              "      <td>1.300000</td>\n",
              "    </tr>\n",
              "    <tr>\n",
              "      <th>75%</th>\n",
              "      <td>6.400000</td>\n",
              "      <td>3.300000</td>\n",
              "      <td>5.100000</td>\n",
              "      <td>1.800000</td>\n",
              "    </tr>\n",
              "    <tr>\n",
              "      <th>max</th>\n",
              "      <td>7.900000</td>\n",
              "      <td>4.400000</td>\n",
              "      <td>6.900000</td>\n",
              "      <td>2.500000</td>\n",
              "    </tr>\n",
              "  </tbody>\n",
              "</table>\n",
              "</div>\n",
              "      <button class=\"colab-df-convert\" onclick=\"convertToInteractive('df-87217251-98c0-4234-ae3a-6e87dc8614b7')\"\n",
              "              title=\"Convert this dataframe to an interactive table.\"\n",
              "              style=\"display:none;\">\n",
              "        \n",
              "  <svg xmlns=\"http://www.w3.org/2000/svg\" height=\"24px\"viewBox=\"0 0 24 24\"\n",
              "       width=\"24px\">\n",
              "    <path d=\"M0 0h24v24H0V0z\" fill=\"none\"/>\n",
              "    <path d=\"M18.56 5.44l.94 2.06.94-2.06 2.06-.94-2.06-.94-.94-2.06-.94 2.06-2.06.94zm-11 1L8.5 8.5l.94-2.06 2.06-.94-2.06-.94L8.5 2.5l-.94 2.06-2.06.94zm10 10l.94 2.06.94-2.06 2.06-.94-2.06-.94-.94-2.06-.94 2.06-2.06.94z\"/><path d=\"M17.41 7.96l-1.37-1.37c-.4-.4-.92-.59-1.43-.59-.52 0-1.04.2-1.43.59L10.3 9.45l-7.72 7.72c-.78.78-.78 2.05 0 2.83L4 21.41c.39.39.9.59 1.41.59.51 0 1.02-.2 1.41-.59l7.78-7.78 2.81-2.81c.8-.78.8-2.07 0-2.86zM5.41 20L4 18.59l7.72-7.72 1.47 1.35L5.41 20z\"/>\n",
              "  </svg>\n",
              "      </button>\n",
              "      \n",
              "  <style>\n",
              "    .colab-df-container {\n",
              "      display:flex;\n",
              "      flex-wrap:wrap;\n",
              "      gap: 12px;\n",
              "    }\n",
              "\n",
              "    .colab-df-convert {\n",
              "      background-color: #E8F0FE;\n",
              "      border: none;\n",
              "      border-radius: 50%;\n",
              "      cursor: pointer;\n",
              "      display: none;\n",
              "      fill: #1967D2;\n",
              "      height: 32px;\n",
              "      padding: 0 0 0 0;\n",
              "      width: 32px;\n",
              "    }\n",
              "\n",
              "    .colab-df-convert:hover {\n",
              "      background-color: #E2EBFA;\n",
              "      box-shadow: 0px 1px 2px rgba(60, 64, 67, 0.3), 0px 1px 3px 1px rgba(60, 64, 67, 0.15);\n",
              "      fill: #174EA6;\n",
              "    }\n",
              "\n",
              "    [theme=dark] .colab-df-convert {\n",
              "      background-color: #3B4455;\n",
              "      fill: #D2E3FC;\n",
              "    }\n",
              "\n",
              "    [theme=dark] .colab-df-convert:hover {\n",
              "      background-color: #434B5C;\n",
              "      box-shadow: 0px 1px 3px 1px rgba(0, 0, 0, 0.15);\n",
              "      filter: drop-shadow(0px 1px 2px rgba(0, 0, 0, 0.3));\n",
              "      fill: #FFFFFF;\n",
              "    }\n",
              "  </style>\n",
              "\n",
              "      <script>\n",
              "        const buttonEl =\n",
              "          document.querySelector('#df-87217251-98c0-4234-ae3a-6e87dc8614b7 button.colab-df-convert');\n",
              "        buttonEl.style.display =\n",
              "          google.colab.kernel.accessAllowed ? 'block' : 'none';\n",
              "\n",
              "        async function convertToInteractive(key) {\n",
              "          const element = document.querySelector('#df-87217251-98c0-4234-ae3a-6e87dc8614b7');\n",
              "          const dataTable =\n",
              "            await google.colab.kernel.invokeFunction('convertToInteractive',\n",
              "                                                     [key], {});\n",
              "          if (!dataTable) return;\n",
              "\n",
              "          const docLinkHtml = 'Like what you see? Visit the ' +\n",
              "            '<a target=\"_blank\" href=https://colab.research.google.com/notebooks/data_table.ipynb>data table notebook</a>'\n",
              "            + ' to learn more about interactive tables.';\n",
              "          element.innerHTML = '';\n",
              "          dataTable['output_type'] = 'display_data';\n",
              "          await google.colab.output.renderOutput(dataTable, element);\n",
              "          const docLink = document.createElement('div');\n",
              "          docLink.innerHTML = docLinkHtml;\n",
              "          element.appendChild(docLink);\n",
              "        }\n",
              "      </script>\n",
              "    </div>\n",
              "  </div>\n",
              "  "
            ],
            "text/plain": [
              "       Sepal.Length  Sepal.Width  Petal.Length  Petal.Width\n",
              "count    150.000000   150.000000    150.000000   150.000000\n",
              "mean       5.843333     3.057333      3.758000     1.199333\n",
              "std        0.828066     0.435866      1.765298     0.762238\n",
              "min        4.300000     2.000000      1.000000     0.100000\n",
              "25%        5.100000     2.800000      1.600000     0.300000\n",
              "50%        5.800000     3.000000      4.350000     1.300000\n",
              "75%        6.400000     3.300000      5.100000     1.800000\n",
              "max        7.900000     4.400000      6.900000     2.500000"
            ]
          },
          "metadata": {},
          "execution_count": 28
        }
      ]
    },
    {
      "cell_type": "markdown",
      "source": [
        "By default, the results are for numeric types, but you can use the parameter **include** to show the stats for some or all the data types in the dataframe."
      ],
      "metadata": {
        "id": "hgpKTm89xY5g"
      }
    },
    {
      "cell_type": "code",
      "source": [
        "df.describe(include = 'all') #By default, the results are for numeric types, but you can use the parameter include to show the stats for some or all the data types in the dataframe.\n",
        "df.describe(exclude = ['object' ]) #You can exclude specific data types from a dataframe as well with the exclude parameter"
      ],
      "metadata": {
        "id": "FzUescbxwy2H"
      },
      "execution_count": null,
      "outputs": []
    },
    {
      "cell_type": "markdown",
      "source": [
        "  ### **3. value_counts()**\n",
        "\n",
        "returns counts of **unique values for the specified series**. NaN values are excluded by default. \n"
      ],
      "metadata": {
        "id": "nLB2U7yRx4qk"
      }
    },
    {
      "cell_type": "code",
      "source": [
        "# Check target variable distribution\n",
        "df['Species'].value_counts()\n",
        "\n",
        "#By default, the results are listed in descending order, but you can change it by using parameter ascending = True\n",
        "df['Species'].value_counts(ascending = True)"
      ],
      "metadata": {
        "colab": {
          "base_uri": "https://localhost:8080/"
        },
        "id": "YMnxURMFxydC",
        "outputId": "1f0d21fd-8421-479e-b0fd-a7059e7e1139"
      },
      "execution_count": null,
      "outputs": [
        {
          "output_type": "execute_result",
          "data": {
            "text/plain": [
              "setosa        50\n",
              "versicolor    50\n",
              "virginica     50\n",
              "Name: Species, dtype: int64"
            ]
          },
          "metadata": {},
          "execution_count": 39
        }
      ]
    },
    {
      "cell_type": "markdown",
      "source": [
        "### **4. nunique():** \n",
        "Count distinct observations. Can be used for a dataframe or a series. **By default, it exclude the NaN values.**"
      ],
      "metadata": {
        "id": "zH8DFk69zAfK"
      }
    },
    {
      "cell_type": "code",
      "metadata": {
        "id": "4v_Um2vgrkOo",
        "colab": {
          "base_uri": "https://localhost:8080/"
        },
        "outputId": "4c4e2727-1363-44e1-d152-dfc4d8920a73"
      },
      "source": [
        "# Unique values in each categorical variable. By default, it exclude the NaN values.\n",
        "df[\"Species\"].nunique()\n",
        "\n",
        "# If you need to include the NaN values, use the parameter dropna= False\n",
        "df[\"Species\"].nunique(dropna= False)"
      ],
      "execution_count": null,
      "outputs": [
        {
          "output_type": "execute_result",
          "data": {
            "text/plain": [
              "3"
            ]
          },
          "metadata": {},
          "execution_count": 45
        }
      ]
    },
    {
      "cell_type": "markdown",
      "source": [
        "### **5. sum():** \n",
        "Return the sum of the values for the requested axis. You can use it for both dataframe and series."
      ],
      "metadata": {
        "id": "_Sln2Z34zhph"
      }
    },
    {
      "cell_type": "code",
      "source": [
        "df.sum()\n",
        "# You can specify to apply the function only to numeric types by using the parameter: numeric_only = True\n",
        "df.sum(numeric_only = True)"
      ],
      "metadata": {
        "colab": {
          "base_uri": "https://localhost:8080/"
        },
        "id": "GTxMARTrzkyt",
        "outputId": "2164790f-384e-4a1b-adc6-5285d36e715d"
      },
      "execution_count": null,
      "outputs": [
        {
          "output_type": "execute_result",
          "data": {
            "text/plain": [
              "Sepal.Length    876.5\n",
              "Sepal.Width     458.6\n",
              "Petal.Length    563.7\n",
              "Petal.Width     179.9\n",
              "dtype: float64"
            ]
          },
          "metadata": {},
          "execution_count": 47
        }
      ]
    },
    {
      "cell_type": "code",
      "source": [
        "df['Fruit Total']= df.iloc[:, -4:-1].sum(axis=1)\n",
        "print (df)\n",
        "   Apples  Bananas  Grapes  Kiwis  Fruit Total\n",
        "0     2.0      3.0     NaN    1.0          5.0\n",
        "1     1.0      3.0     7.0    NaN         11.0\n",
        "2     NaN      NaN     2.0    3.0          2.0"
      ],
      "metadata": {
        "id": "_B_FUC0aIQk4"
      },
      "execution_count": null,
      "outputs": []
    },
    {
      "cell_type": "markdown",
      "source": [
        "### **6. count():** \n",
        "Return number of non-NA/null observations.\n",
        "\n",
        "Others: Min and Max, Mean and Median:\n",
        "* min(): Return the minimum value\n",
        "*max(): Return the maximum value\n",
        "* mean(): Return the mean of the values\n",
        "* median(): Return the median of the values"
      ],
      "metadata": {
        "id": "1lHHMspezzFs"
      }
    },
    {
      "cell_type": "code",
      "metadata": {
        "id": "0wYLT7RoU-ed",
        "colab": {
          "base_uri": "https://localhost:8080/"
        },
        "outputId": "afd0e497-ed40-4539-823a-be1e8867ff81"
      },
      "source": [
        "df.count()\n",
        "# You can specify to apply the function only to numeric types by using the parameter: numeric_only = True\n",
        "#df.count(numeric_only = True)"
      ],
      "execution_count": null,
      "outputs": [
        {
          "output_type": "execute_result",
          "data": {
            "text/plain": [
              "Sepal.Length    150\n",
              "Sepal.Width     150\n",
              "Petal.Length    150\n",
              "Petal.Width     150\n",
              "Species         150\n",
              "date            150\n",
              "dtype: int64"
            ]
          },
          "metadata": {},
          "execution_count": 49
        }
      ]
    },
    {
      "cell_type": "markdown",
      "source": [
        "### **7. agg():** \n",
        "apply more than one aggregation operations to the same dataset over the specified axis."
      ],
      "metadata": {
        "id": "95c54oIt0eU5"
      }
    },
    {
      "cell_type": "code",
      "source": [
        "df.describe()"
      ],
      "metadata": {
        "colab": {
          "base_uri": "https://localhost:8080/",
          "height": 294
        },
        "id": "GM9Uua8E0jtA",
        "outputId": "a66cdec7-0f01-441e-88d6-e066c4ddc3c4"
      },
      "execution_count": null,
      "outputs": [
        {
          "output_type": "execute_result",
          "data": {
            "text/html": [
              "\n",
              "  <div id=\"df-0c013250-0858-4eb8-9e12-6be622872090\">\n",
              "    <div class=\"colab-df-container\">\n",
              "      <div>\n",
              "<style scoped>\n",
              "    .dataframe tbody tr th:only-of-type {\n",
              "        vertical-align: middle;\n",
              "    }\n",
              "\n",
              "    .dataframe tbody tr th {\n",
              "        vertical-align: top;\n",
              "    }\n",
              "\n",
              "    .dataframe thead th {\n",
              "        text-align: right;\n",
              "    }\n",
              "</style>\n",
              "<table border=\"1\" class=\"dataframe\">\n",
              "  <thead>\n",
              "    <tr style=\"text-align: right;\">\n",
              "      <th></th>\n",
              "      <th>Sepal.Length</th>\n",
              "      <th>Sepal.Width</th>\n",
              "      <th>Petal.Length</th>\n",
              "      <th>Petal.Width</th>\n",
              "    </tr>\n",
              "  </thead>\n",
              "  <tbody>\n",
              "    <tr>\n",
              "      <th>count</th>\n",
              "      <td>150.000000</td>\n",
              "      <td>150.000000</td>\n",
              "      <td>150.000000</td>\n",
              "      <td>150.000000</td>\n",
              "    </tr>\n",
              "    <tr>\n",
              "      <th>mean</th>\n",
              "      <td>5.843333</td>\n",
              "      <td>3.057333</td>\n",
              "      <td>3.758000</td>\n",
              "      <td>1.199333</td>\n",
              "    </tr>\n",
              "    <tr>\n",
              "      <th>std</th>\n",
              "      <td>0.828066</td>\n",
              "      <td>0.435866</td>\n",
              "      <td>1.765298</td>\n",
              "      <td>0.762238</td>\n",
              "    </tr>\n",
              "    <tr>\n",
              "      <th>min</th>\n",
              "      <td>4.300000</td>\n",
              "      <td>2.000000</td>\n",
              "      <td>1.000000</td>\n",
              "      <td>0.100000</td>\n",
              "    </tr>\n",
              "    <tr>\n",
              "      <th>25%</th>\n",
              "      <td>5.100000</td>\n",
              "      <td>2.800000</td>\n",
              "      <td>1.600000</td>\n",
              "      <td>0.300000</td>\n",
              "    </tr>\n",
              "    <tr>\n",
              "      <th>50%</th>\n",
              "      <td>5.800000</td>\n",
              "      <td>3.000000</td>\n",
              "      <td>4.350000</td>\n",
              "      <td>1.300000</td>\n",
              "    </tr>\n",
              "    <tr>\n",
              "      <th>75%</th>\n",
              "      <td>6.400000</td>\n",
              "      <td>3.300000</td>\n",
              "      <td>5.100000</td>\n",
              "      <td>1.800000</td>\n",
              "    </tr>\n",
              "    <tr>\n",
              "      <th>max</th>\n",
              "      <td>7.900000</td>\n",
              "      <td>4.400000</td>\n",
              "      <td>6.900000</td>\n",
              "      <td>2.500000</td>\n",
              "    </tr>\n",
              "  </tbody>\n",
              "</table>\n",
              "</div>\n",
              "      <button class=\"colab-df-convert\" onclick=\"convertToInteractive('df-0c013250-0858-4eb8-9e12-6be622872090')\"\n",
              "              title=\"Convert this dataframe to an interactive table.\"\n",
              "              style=\"display:none;\">\n",
              "        \n",
              "  <svg xmlns=\"http://www.w3.org/2000/svg\" height=\"24px\"viewBox=\"0 0 24 24\"\n",
              "       width=\"24px\">\n",
              "    <path d=\"M0 0h24v24H0V0z\" fill=\"none\"/>\n",
              "    <path d=\"M18.56 5.44l.94 2.06.94-2.06 2.06-.94-2.06-.94-.94-2.06-.94 2.06-2.06.94zm-11 1L8.5 8.5l.94-2.06 2.06-.94-2.06-.94L8.5 2.5l-.94 2.06-2.06.94zm10 10l.94 2.06.94-2.06 2.06-.94-2.06-.94-.94-2.06-.94 2.06-2.06.94z\"/><path d=\"M17.41 7.96l-1.37-1.37c-.4-.4-.92-.59-1.43-.59-.52 0-1.04.2-1.43.59L10.3 9.45l-7.72 7.72c-.78.78-.78 2.05 0 2.83L4 21.41c.39.39.9.59 1.41.59.51 0 1.02-.2 1.41-.59l7.78-7.78 2.81-2.81c.8-.78.8-2.07 0-2.86zM5.41 20L4 18.59l7.72-7.72 1.47 1.35L5.41 20z\"/>\n",
              "  </svg>\n",
              "      </button>\n",
              "      \n",
              "  <style>\n",
              "    .colab-df-container {\n",
              "      display:flex;\n",
              "      flex-wrap:wrap;\n",
              "      gap: 12px;\n",
              "    }\n",
              "\n",
              "    .colab-df-convert {\n",
              "      background-color: #E8F0FE;\n",
              "      border: none;\n",
              "      border-radius: 50%;\n",
              "      cursor: pointer;\n",
              "      display: none;\n",
              "      fill: #1967D2;\n",
              "      height: 32px;\n",
              "      padding: 0 0 0 0;\n",
              "      width: 32px;\n",
              "    }\n",
              "\n",
              "    .colab-df-convert:hover {\n",
              "      background-color: #E2EBFA;\n",
              "      box-shadow: 0px 1px 2px rgba(60, 64, 67, 0.3), 0px 1px 3px 1px rgba(60, 64, 67, 0.15);\n",
              "      fill: #174EA6;\n",
              "    }\n",
              "\n",
              "    [theme=dark] .colab-df-convert {\n",
              "      background-color: #3B4455;\n",
              "      fill: #D2E3FC;\n",
              "    }\n",
              "\n",
              "    [theme=dark] .colab-df-convert:hover {\n",
              "      background-color: #434B5C;\n",
              "      box-shadow: 0px 1px 3px 1px rgba(0, 0, 0, 0.15);\n",
              "      filter: drop-shadow(0px 1px 2px rgba(0, 0, 0, 0.3));\n",
              "      fill: #FFFFFF;\n",
              "    }\n",
              "  </style>\n",
              "\n",
              "      <script>\n",
              "        const buttonEl =\n",
              "          document.querySelector('#df-0c013250-0858-4eb8-9e12-6be622872090 button.colab-df-convert');\n",
              "        buttonEl.style.display =\n",
              "          google.colab.kernel.accessAllowed ? 'block' : 'none';\n",
              "\n",
              "        async function convertToInteractive(key) {\n",
              "          const element = document.querySelector('#df-0c013250-0858-4eb8-9e12-6be622872090');\n",
              "          const dataTable =\n",
              "            await google.colab.kernel.invokeFunction('convertToInteractive',\n",
              "                                                     [key], {});\n",
              "          if (!dataTable) return;\n",
              "\n",
              "          const docLinkHtml = 'Like what you see? Visit the ' +\n",
              "            '<a target=\"_blank\" href=https://colab.research.google.com/notebooks/data_table.ipynb>data table notebook</a>'\n",
              "            + ' to learn more about interactive tables.';\n",
              "          element.innerHTML = '';\n",
              "          dataTable['output_type'] = 'display_data';\n",
              "          await google.colab.output.renderOutput(dataTable, element);\n",
              "          const docLink = document.createElement('div');\n",
              "          docLink.innerHTML = docLinkHtml;\n",
              "          element.appendChild(docLink);\n",
              "        }\n",
              "      </script>\n",
              "    </div>\n",
              "  </div>\n",
              "  "
            ],
            "text/plain": [
              "       Sepal.Length  Sepal.Width  Petal.Length  Petal.Width\n",
              "count    150.000000   150.000000    150.000000   150.000000\n",
              "mean       5.843333     3.057333      3.758000     1.199333\n",
              "std        0.828066     0.435866      1.765298     0.762238\n",
              "min        4.300000     2.000000      1.000000     0.100000\n",
              "25%        5.100000     2.800000      1.600000     0.300000\n",
              "50%        5.800000     3.000000      4.350000     1.300000\n",
              "75%        6.400000     3.300000      5.100000     1.800000\n",
              "max        7.900000     4.400000      6.900000     2.500000"
            ]
          },
          "metadata": {},
          "execution_count": 55
        }
      ]
    },
    {
      "cell_type": "code",
      "source": [
        "df.agg(['count','min','max','mean'])\n",
        "df.iloc[:,:4].agg(['count','min','max','mean']) #Can be applied to specific series\n"
      ],
      "metadata": {
        "colab": {
          "base_uri": "https://localhost:8080/",
          "height": 171
        },
        "id": "JWz3yDvU0yPL",
        "outputId": "c935728d-002d-4922-b821-19b063b21302"
      },
      "execution_count": null,
      "outputs": [
        {
          "output_type": "execute_result",
          "data": {
            "text/html": [
              "\n",
              "  <div id=\"df-377ced36-69a8-4352-9484-d8a5dafa26f6\">\n",
              "    <div class=\"colab-df-container\">\n",
              "      <div>\n",
              "<style scoped>\n",
              "    .dataframe tbody tr th:only-of-type {\n",
              "        vertical-align: middle;\n",
              "    }\n",
              "\n",
              "    .dataframe tbody tr th {\n",
              "        vertical-align: top;\n",
              "    }\n",
              "\n",
              "    .dataframe thead th {\n",
              "        text-align: right;\n",
              "    }\n",
              "</style>\n",
              "<table border=\"1\" class=\"dataframe\">\n",
              "  <thead>\n",
              "    <tr style=\"text-align: right;\">\n",
              "      <th></th>\n",
              "      <th>Sepal.Length</th>\n",
              "      <th>Sepal.Width</th>\n",
              "      <th>Petal.Length</th>\n",
              "      <th>Petal.Width</th>\n",
              "    </tr>\n",
              "  </thead>\n",
              "  <tbody>\n",
              "    <tr>\n",
              "      <th>count</th>\n",
              "      <td>150.000000</td>\n",
              "      <td>150.000000</td>\n",
              "      <td>150.000</td>\n",
              "      <td>150.000000</td>\n",
              "    </tr>\n",
              "    <tr>\n",
              "      <th>min</th>\n",
              "      <td>4.300000</td>\n",
              "      <td>2.000000</td>\n",
              "      <td>1.000</td>\n",
              "      <td>0.100000</td>\n",
              "    </tr>\n",
              "    <tr>\n",
              "      <th>max</th>\n",
              "      <td>7.900000</td>\n",
              "      <td>4.400000</td>\n",
              "      <td>6.900</td>\n",
              "      <td>2.500000</td>\n",
              "    </tr>\n",
              "    <tr>\n",
              "      <th>mean</th>\n",
              "      <td>5.843333</td>\n",
              "      <td>3.057333</td>\n",
              "      <td>3.758</td>\n",
              "      <td>1.199333</td>\n",
              "    </tr>\n",
              "  </tbody>\n",
              "</table>\n",
              "</div>\n",
              "      <button class=\"colab-df-convert\" onclick=\"convertToInteractive('df-377ced36-69a8-4352-9484-d8a5dafa26f6')\"\n",
              "              title=\"Convert this dataframe to an interactive table.\"\n",
              "              style=\"display:none;\">\n",
              "        \n",
              "  <svg xmlns=\"http://www.w3.org/2000/svg\" height=\"24px\"viewBox=\"0 0 24 24\"\n",
              "       width=\"24px\">\n",
              "    <path d=\"M0 0h24v24H0V0z\" fill=\"none\"/>\n",
              "    <path d=\"M18.56 5.44l.94 2.06.94-2.06 2.06-.94-2.06-.94-.94-2.06-.94 2.06-2.06.94zm-11 1L8.5 8.5l.94-2.06 2.06-.94-2.06-.94L8.5 2.5l-.94 2.06-2.06.94zm10 10l.94 2.06.94-2.06 2.06-.94-2.06-.94-.94-2.06-.94 2.06-2.06.94z\"/><path d=\"M17.41 7.96l-1.37-1.37c-.4-.4-.92-.59-1.43-.59-.52 0-1.04.2-1.43.59L10.3 9.45l-7.72 7.72c-.78.78-.78 2.05 0 2.83L4 21.41c.39.39.9.59 1.41.59.51 0 1.02-.2 1.41-.59l7.78-7.78 2.81-2.81c.8-.78.8-2.07 0-2.86zM5.41 20L4 18.59l7.72-7.72 1.47 1.35L5.41 20z\"/>\n",
              "  </svg>\n",
              "      </button>\n",
              "      \n",
              "  <style>\n",
              "    .colab-df-container {\n",
              "      display:flex;\n",
              "      flex-wrap:wrap;\n",
              "      gap: 12px;\n",
              "    }\n",
              "\n",
              "    .colab-df-convert {\n",
              "      background-color: #E8F0FE;\n",
              "      border: none;\n",
              "      border-radius: 50%;\n",
              "      cursor: pointer;\n",
              "      display: none;\n",
              "      fill: #1967D2;\n",
              "      height: 32px;\n",
              "      padding: 0 0 0 0;\n",
              "      width: 32px;\n",
              "    }\n",
              "\n",
              "    .colab-df-convert:hover {\n",
              "      background-color: #E2EBFA;\n",
              "      box-shadow: 0px 1px 2px rgba(60, 64, 67, 0.3), 0px 1px 3px 1px rgba(60, 64, 67, 0.15);\n",
              "      fill: #174EA6;\n",
              "    }\n",
              "\n",
              "    [theme=dark] .colab-df-convert {\n",
              "      background-color: #3B4455;\n",
              "      fill: #D2E3FC;\n",
              "    }\n",
              "\n",
              "    [theme=dark] .colab-df-convert:hover {\n",
              "      background-color: #434B5C;\n",
              "      box-shadow: 0px 1px 3px 1px rgba(0, 0, 0, 0.15);\n",
              "      filter: drop-shadow(0px 1px 2px rgba(0, 0, 0, 0.3));\n",
              "      fill: #FFFFFF;\n",
              "    }\n",
              "  </style>\n",
              "\n",
              "      <script>\n",
              "        const buttonEl =\n",
              "          document.querySelector('#df-377ced36-69a8-4352-9484-d8a5dafa26f6 button.colab-df-convert');\n",
              "        buttonEl.style.display =\n",
              "          google.colab.kernel.accessAllowed ? 'block' : 'none';\n",
              "\n",
              "        async function convertToInteractive(key) {\n",
              "          const element = document.querySelector('#df-377ced36-69a8-4352-9484-d8a5dafa26f6');\n",
              "          const dataTable =\n",
              "            await google.colab.kernel.invokeFunction('convertToInteractive',\n",
              "                                                     [key], {});\n",
              "          if (!dataTable) return;\n",
              "\n",
              "          const docLinkHtml = 'Like what you see? Visit the ' +\n",
              "            '<a target=\"_blank\" href=https://colab.research.google.com/notebooks/data_table.ipynb>data table notebook</a>'\n",
              "            + ' to learn more about interactive tables.';\n",
              "          element.innerHTML = '';\n",
              "          dataTable['output_type'] = 'display_data';\n",
              "          await google.colab.output.renderOutput(dataTable, element);\n",
              "          const docLink = document.createElement('div');\n",
              "          docLink.innerHTML = docLinkHtml;\n",
              "          element.appendChild(docLink);\n",
              "        }\n",
              "      </script>\n",
              "    </div>\n",
              "  </div>\n",
              "  "
            ],
            "text/plain": [
              "       Sepal.Length  Sepal.Width  Petal.Length  Petal.Width\n",
              "count    150.000000   150.000000       150.000   150.000000\n",
              "min        4.300000     2.000000         1.000     0.100000\n",
              "max        7.900000     4.400000         6.900     2.500000\n",
              "mean       5.843333     3.057333         3.758     1.199333"
            ]
          },
          "metadata": {},
          "execution_count": 68
        }
      ]
    },
    {
      "cell_type": "code",
      "source": [
        "# Apply different aggregations to different columns:\n",
        "df.agg({'Species':['count'],\n",
        "         'Sepal.Length'\t:['min','max','mean'],\n",
        "         'Sepal.Width'\t:['min','max','mean'],\n",
        "         'Petal.Length'\t:['min','max','mean'],\n",
        "         'Petal.Width':['min','max','mean']\n",
        "         })"
      ],
      "metadata": {
        "colab": {
          "base_uri": "https://localhost:8080/",
          "height": 171
        },
        "id": "R6OqIO-S3hg-",
        "outputId": "f74c5160-3986-471a-c9d7-6cda22bc7e88"
      },
      "execution_count": null,
      "outputs": [
        {
          "output_type": "execute_result",
          "data": {
            "text/html": [
              "\n",
              "  <div id=\"df-014e9bca-c631-4f7d-9370-cfdb800df3fd\">\n",
              "    <div class=\"colab-df-container\">\n",
              "      <div>\n",
              "<style scoped>\n",
              "    .dataframe tbody tr th:only-of-type {\n",
              "        vertical-align: middle;\n",
              "    }\n",
              "\n",
              "    .dataframe tbody tr th {\n",
              "        vertical-align: top;\n",
              "    }\n",
              "\n",
              "    .dataframe thead th {\n",
              "        text-align: right;\n",
              "    }\n",
              "</style>\n",
              "<table border=\"1\" class=\"dataframe\">\n",
              "  <thead>\n",
              "    <tr style=\"text-align: right;\">\n",
              "      <th></th>\n",
              "      <th>Species</th>\n",
              "      <th>Sepal.Length</th>\n",
              "      <th>Sepal.Width</th>\n",
              "      <th>Petal.Length</th>\n",
              "      <th>Petal.Width</th>\n",
              "    </tr>\n",
              "  </thead>\n",
              "  <tbody>\n",
              "    <tr>\n",
              "      <th>count</th>\n",
              "      <td>150.0</td>\n",
              "      <td>NaN</td>\n",
              "      <td>NaN</td>\n",
              "      <td>NaN</td>\n",
              "      <td>NaN</td>\n",
              "    </tr>\n",
              "    <tr>\n",
              "      <th>max</th>\n",
              "      <td>NaN</td>\n",
              "      <td>7.900000</td>\n",
              "      <td>4.400000</td>\n",
              "      <td>6.900</td>\n",
              "      <td>2.500000</td>\n",
              "    </tr>\n",
              "    <tr>\n",
              "      <th>mean</th>\n",
              "      <td>NaN</td>\n",
              "      <td>5.843333</td>\n",
              "      <td>3.057333</td>\n",
              "      <td>3.758</td>\n",
              "      <td>1.199333</td>\n",
              "    </tr>\n",
              "    <tr>\n",
              "      <th>min</th>\n",
              "      <td>NaN</td>\n",
              "      <td>4.300000</td>\n",
              "      <td>2.000000</td>\n",
              "      <td>1.000</td>\n",
              "      <td>0.100000</td>\n",
              "    </tr>\n",
              "  </tbody>\n",
              "</table>\n",
              "</div>\n",
              "      <button class=\"colab-df-convert\" onclick=\"convertToInteractive('df-014e9bca-c631-4f7d-9370-cfdb800df3fd')\"\n",
              "              title=\"Convert this dataframe to an interactive table.\"\n",
              "              style=\"display:none;\">\n",
              "        \n",
              "  <svg xmlns=\"http://www.w3.org/2000/svg\" height=\"24px\"viewBox=\"0 0 24 24\"\n",
              "       width=\"24px\">\n",
              "    <path d=\"M0 0h24v24H0V0z\" fill=\"none\"/>\n",
              "    <path d=\"M18.56 5.44l.94 2.06.94-2.06 2.06-.94-2.06-.94-.94-2.06-.94 2.06-2.06.94zm-11 1L8.5 8.5l.94-2.06 2.06-.94-2.06-.94L8.5 2.5l-.94 2.06-2.06.94zm10 10l.94 2.06.94-2.06 2.06-.94-2.06-.94-.94-2.06-.94 2.06-2.06.94z\"/><path d=\"M17.41 7.96l-1.37-1.37c-.4-.4-.92-.59-1.43-.59-.52 0-1.04.2-1.43.59L10.3 9.45l-7.72 7.72c-.78.78-.78 2.05 0 2.83L4 21.41c.39.39.9.59 1.41.59.51 0 1.02-.2 1.41-.59l7.78-7.78 2.81-2.81c.8-.78.8-2.07 0-2.86zM5.41 20L4 18.59l7.72-7.72 1.47 1.35L5.41 20z\"/>\n",
              "  </svg>\n",
              "      </button>\n",
              "      \n",
              "  <style>\n",
              "    .colab-df-container {\n",
              "      display:flex;\n",
              "      flex-wrap:wrap;\n",
              "      gap: 12px;\n",
              "    }\n",
              "\n",
              "    .colab-df-convert {\n",
              "      background-color: #E8F0FE;\n",
              "      border: none;\n",
              "      border-radius: 50%;\n",
              "      cursor: pointer;\n",
              "      display: none;\n",
              "      fill: #1967D2;\n",
              "      height: 32px;\n",
              "      padding: 0 0 0 0;\n",
              "      width: 32px;\n",
              "    }\n",
              "\n",
              "    .colab-df-convert:hover {\n",
              "      background-color: #E2EBFA;\n",
              "      box-shadow: 0px 1px 2px rgba(60, 64, 67, 0.3), 0px 1px 3px 1px rgba(60, 64, 67, 0.15);\n",
              "      fill: #174EA6;\n",
              "    }\n",
              "\n",
              "    [theme=dark] .colab-df-convert {\n",
              "      background-color: #3B4455;\n",
              "      fill: #D2E3FC;\n",
              "    }\n",
              "\n",
              "    [theme=dark] .colab-df-convert:hover {\n",
              "      background-color: #434B5C;\n",
              "      box-shadow: 0px 1px 3px 1px rgba(0, 0, 0, 0.15);\n",
              "      filter: drop-shadow(0px 1px 2px rgba(0, 0, 0, 0.3));\n",
              "      fill: #FFFFFF;\n",
              "    }\n",
              "  </style>\n",
              "\n",
              "      <script>\n",
              "        const buttonEl =\n",
              "          document.querySelector('#df-014e9bca-c631-4f7d-9370-cfdb800df3fd button.colab-df-convert');\n",
              "        buttonEl.style.display =\n",
              "          google.colab.kernel.accessAllowed ? 'block' : 'none';\n",
              "\n",
              "        async function convertToInteractive(key) {\n",
              "          const element = document.querySelector('#df-014e9bca-c631-4f7d-9370-cfdb800df3fd');\n",
              "          const dataTable =\n",
              "            await google.colab.kernel.invokeFunction('convertToInteractive',\n",
              "                                                     [key], {});\n",
              "          if (!dataTable) return;\n",
              "\n",
              "          const docLinkHtml = 'Like what you see? Visit the ' +\n",
              "            '<a target=\"_blank\" href=https://colab.research.google.com/notebooks/data_table.ipynb>data table notebook</a>'\n",
              "            + ' to learn more about interactive tables.';\n",
              "          element.innerHTML = '';\n",
              "          dataTable['output_type'] = 'display_data';\n",
              "          await google.colab.output.renderOutput(dataTable, element);\n",
              "          const docLink = document.createElement('div');\n",
              "          docLink.innerHTML = docLinkHtml;\n",
              "          element.appendChild(docLink);\n",
              "        }\n",
              "      </script>\n",
              "    </div>\n",
              "  </div>\n",
              "  "
            ],
            "text/plain": [
              "       Species  Sepal.Length  Sepal.Width  Petal.Length  Petal.Width\n",
              "count    150.0           NaN          NaN           NaN          NaN\n",
              "max        NaN      7.900000     4.400000         6.900     2.500000\n",
              "mean       NaN      5.843333     3.057333         3.758     1.199333\n",
              "min        NaN      4.300000     2.000000         1.000     0.100000"
            ]
          },
          "metadata": {},
          "execution_count": 69
        }
      ]
    },
    {
      "cell_type": "markdown",
      "source": [
        "### **8. groupby():** \n",
        "allows you to group data (by applying aggregate functions like sum, max, min…) with the same values into summary rows:"
      ],
      "metadata": {
        "id": "G7WgN7Vv3nXL"
      }
    },
    {
      "cell_type": "code",
      "source": [
        "df.groupby('Species').sum('Sepal.Length\t')"
      ],
      "metadata": {
        "colab": {
          "base_uri": "https://localhost:8080/",
          "height": 171
        },
        "id": "enbGXkzx3pca",
        "outputId": "7006c20b-b944-4b1c-fef7-e4ac7ca46548"
      },
      "execution_count": null,
      "outputs": [
        {
          "output_type": "execute_result",
          "data": {
            "text/html": [
              "\n",
              "  <div id=\"df-7e869a7f-d342-47d7-9c7b-4a1c73b58d7b\">\n",
              "    <div class=\"colab-df-container\">\n",
              "      <div>\n",
              "<style scoped>\n",
              "    .dataframe tbody tr th:only-of-type {\n",
              "        vertical-align: middle;\n",
              "    }\n",
              "\n",
              "    .dataframe tbody tr th {\n",
              "        vertical-align: top;\n",
              "    }\n",
              "\n",
              "    .dataframe thead th {\n",
              "        text-align: right;\n",
              "    }\n",
              "</style>\n",
              "<table border=\"1\" class=\"dataframe\">\n",
              "  <thead>\n",
              "    <tr style=\"text-align: right;\">\n",
              "      <th></th>\n",
              "      <th>Sepal.Length</th>\n",
              "      <th>Sepal.Width</th>\n",
              "      <th>Petal.Length</th>\n",
              "      <th>Petal.Width</th>\n",
              "    </tr>\n",
              "    <tr>\n",
              "      <th>Species</th>\n",
              "      <th></th>\n",
              "      <th></th>\n",
              "      <th></th>\n",
              "      <th></th>\n",
              "    </tr>\n",
              "  </thead>\n",
              "  <tbody>\n",
              "    <tr>\n",
              "      <th>setosa</th>\n",
              "      <td>250.3</td>\n",
              "      <td>171.4</td>\n",
              "      <td>73.1</td>\n",
              "      <td>12.3</td>\n",
              "    </tr>\n",
              "    <tr>\n",
              "      <th>versicolor</th>\n",
              "      <td>296.8</td>\n",
              "      <td>138.5</td>\n",
              "      <td>213.0</td>\n",
              "      <td>66.3</td>\n",
              "    </tr>\n",
              "    <tr>\n",
              "      <th>virginica</th>\n",
              "      <td>329.4</td>\n",
              "      <td>148.7</td>\n",
              "      <td>277.6</td>\n",
              "      <td>101.3</td>\n",
              "    </tr>\n",
              "  </tbody>\n",
              "</table>\n",
              "</div>\n",
              "      <button class=\"colab-df-convert\" onclick=\"convertToInteractive('df-7e869a7f-d342-47d7-9c7b-4a1c73b58d7b')\"\n",
              "              title=\"Convert this dataframe to an interactive table.\"\n",
              "              style=\"display:none;\">\n",
              "        \n",
              "  <svg xmlns=\"http://www.w3.org/2000/svg\" height=\"24px\"viewBox=\"0 0 24 24\"\n",
              "       width=\"24px\">\n",
              "    <path d=\"M0 0h24v24H0V0z\" fill=\"none\"/>\n",
              "    <path d=\"M18.56 5.44l.94 2.06.94-2.06 2.06-.94-2.06-.94-.94-2.06-.94 2.06-2.06.94zm-11 1L8.5 8.5l.94-2.06 2.06-.94-2.06-.94L8.5 2.5l-.94 2.06-2.06.94zm10 10l.94 2.06.94-2.06 2.06-.94-2.06-.94-.94-2.06-.94 2.06-2.06.94z\"/><path d=\"M17.41 7.96l-1.37-1.37c-.4-.4-.92-.59-1.43-.59-.52 0-1.04.2-1.43.59L10.3 9.45l-7.72 7.72c-.78.78-.78 2.05 0 2.83L4 21.41c.39.39.9.59 1.41.59.51 0 1.02-.2 1.41-.59l7.78-7.78 2.81-2.81c.8-.78.8-2.07 0-2.86zM5.41 20L4 18.59l7.72-7.72 1.47 1.35L5.41 20z\"/>\n",
              "  </svg>\n",
              "      </button>\n",
              "      \n",
              "  <style>\n",
              "    .colab-df-container {\n",
              "      display:flex;\n",
              "      flex-wrap:wrap;\n",
              "      gap: 12px;\n",
              "    }\n",
              "\n",
              "    .colab-df-convert {\n",
              "      background-color: #E8F0FE;\n",
              "      border: none;\n",
              "      border-radius: 50%;\n",
              "      cursor: pointer;\n",
              "      display: none;\n",
              "      fill: #1967D2;\n",
              "      height: 32px;\n",
              "      padding: 0 0 0 0;\n",
              "      width: 32px;\n",
              "    }\n",
              "\n",
              "    .colab-df-convert:hover {\n",
              "      background-color: #E2EBFA;\n",
              "      box-shadow: 0px 1px 2px rgba(60, 64, 67, 0.3), 0px 1px 3px 1px rgba(60, 64, 67, 0.15);\n",
              "      fill: #174EA6;\n",
              "    }\n",
              "\n",
              "    [theme=dark] .colab-df-convert {\n",
              "      background-color: #3B4455;\n",
              "      fill: #D2E3FC;\n",
              "    }\n",
              "\n",
              "    [theme=dark] .colab-df-convert:hover {\n",
              "      background-color: #434B5C;\n",
              "      box-shadow: 0px 1px 3px 1px rgba(0, 0, 0, 0.15);\n",
              "      filter: drop-shadow(0px 1px 2px rgba(0, 0, 0, 0.3));\n",
              "      fill: #FFFFFF;\n",
              "    }\n",
              "  </style>\n",
              "\n",
              "      <script>\n",
              "        const buttonEl =\n",
              "          document.querySelector('#df-7e869a7f-d342-47d7-9c7b-4a1c73b58d7b button.colab-df-convert');\n",
              "        buttonEl.style.display =\n",
              "          google.colab.kernel.accessAllowed ? 'block' : 'none';\n",
              "\n",
              "        async function convertToInteractive(key) {\n",
              "          const element = document.querySelector('#df-7e869a7f-d342-47d7-9c7b-4a1c73b58d7b');\n",
              "          const dataTable =\n",
              "            await google.colab.kernel.invokeFunction('convertToInteractive',\n",
              "                                                     [key], {});\n",
              "          if (!dataTable) return;\n",
              "\n",
              "          const docLinkHtml = 'Like what you see? Visit the ' +\n",
              "            '<a target=\"_blank\" href=https://colab.research.google.com/notebooks/data_table.ipynb>data table notebook</a>'\n",
              "            + ' to learn more about interactive tables.';\n",
              "          element.innerHTML = '';\n",
              "          dataTable['output_type'] = 'display_data';\n",
              "          await google.colab.output.renderOutput(dataTable, element);\n",
              "          const docLink = document.createElement('div');\n",
              "          docLink.innerHTML = docLinkHtml;\n",
              "          element.appendChild(docLink);\n",
              "        }\n",
              "      </script>\n",
              "    </div>\n",
              "  </div>\n",
              "  "
            ],
            "text/plain": [
              "            Sepal.Length  Sepal.Width  Petal.Length  Petal.Width\n",
              "Species                                                         \n",
              "setosa             250.3        171.4          73.1         12.3\n",
              "versicolor         296.8        138.5         213.0         66.3\n",
              "virginica          329.4        148.7         277.6        101.3"
            ]
          },
          "metadata": {},
          "execution_count": 82
        }
      ]
    },
    {
      "cell_type": "code",
      "source": [
        "data.groupby('month', as_index=False).agg({\"duration\": \"sum\"})"
      ],
      "metadata": {
        "id": "ln5Y_lifFdMU"
      },
      "execution_count": null,
      "outputs": []
    },
    {
      "cell_type": "markdown",
      "metadata": {
        "id": "DSKmvkM1pOwW"
      },
      "source": [
        "### 9.Missing Value **NA**"
      ]
    },
    {
      "cell_type": "code",
      "metadata": {
        "id": "veCxtJrToljr"
      },
      "source": [
        "# Missing Value\n",
        "nan = df[20].isna() #select nan value  \n",
        "notnan = df[~df[20].isna()] # select non-nan value \n",
        "\n",
        "# Replace missing value with mean value\n",
        "mean = df[“columnName”].mean()\n",
        "df[“columnname”].replace(np.nan, mean)"
      ],
      "execution_count": null,
      "outputs": []
    },
    {
      "cell_type": "code",
      "source": [
        "df.isnull().sum(axis = 0) #number of NaN values in every column.\n",
        "\n",
        "df.isnull().sum(axis = 1) # If you need, NaN values in every row,"
      ],
      "metadata": {
        "id": "QCl6P7-QF-L9"
      },
      "execution_count": null,
      "outputs": []
    },
    {
      "cell_type": "markdown",
      "source": [
        "### 10.Check **duplicated** values"
      ],
      "metadata": {
        "id": "B4PGKUwP-RSB"
      }
    },
    {
      "cell_type": "code",
      "metadata": {
        "id": "sLAMElJdpWum"
      },
      "source": [
        "# check duplicated\n",
        "df.duplicated().sum()\n",
        "df.duplicated(subset=[1,4]).sum()\n",
        "df.drop_duplicated(subset=[1,4]).shape"
      ],
      "execution_count": null,
      "outputs": []
    },
    {
      "cell_type": "markdown",
      "metadata": {
        "id": "shWVhMOPpdBK"
      },
      "source": [
        "## Change Column Names"
      ]
    },
    {
      "cell_type": "code",
      "source": [
        "# Change specific column names\n",
        "df = df.rename(columns={'oldName1': 'newName1', 'oldName2': 'newName2'})\n",
        "# Or rename the existing DataFrame (rather than creating a copy) \n",
        "df.rename(columns={'oldName1': 'newName1', 'oldName2': 'newName2'}, inplace=True)\n"
      ],
      "metadata": {
        "id": "x1JaCn7ApegY"
      },
      "execution_count": null,
      "outputs": []
    },
    {
      "cell_type": "code",
      "source": [
        ""
      ],
      "metadata": {
        "id": "Kse2L6Ysplsp"
      },
      "execution_count": null,
      "outputs": []
    },
    {
      "cell_type": "markdown",
      "metadata": {
        "id": "DIFiGOkGBqEx"
      },
      "source": [
        "## Change Column Types"
      ]
    },
    {
      "cell_type": "code",
      "metadata": {
        "id": "7lv4gJMitIhm"
      },
      "source": [
        "dataset['TotalCharges'] = pd.to_numeric(dataset['TotalCharges'],errors='coerce')\n",
        "dataset['TotalCharges'] = dataset['TotalCharges'].astype(\"float\")"
      ],
      "execution_count": null,
      "outputs": []
    },
    {
      "cell_type": "markdown",
      "metadata": {
        "id": "0FwqhAcW-KLO"
      },
      "source": [
        "##Filtering a dataframe"
      ]
    },
    {
      "cell_type": "markdown",
      "source": [
        "### Select by **positions**"
      ],
      "metadata": {
        "id": "KEh8ib5U5eS0"
      }
    },
    {
      "cell_type": "code",
      "metadata": {
        "id": "b5APECgCohA9"
      },
      "source": [
        "df.iloc[:,0]          #select column 1\n",
        "df.iloc[:,[0,4]]     #select from column 1 to 5 (n+1)\n",
        "df.iloc[:,0:4]      #select column 0 to 5"
      ],
      "execution_count": null,
      "outputs": []
    },
    {
      "cell_type": "markdown",
      "source": [
        "### Select by **column names**"
      ],
      "metadata": {
        "id": "SSjNfKu05iJ2"
      }
    },
    {
      "cell_type": "code",
      "source": [
        "df['Species','Sepal.Length']"
      ],
      "metadata": {
        "id": "IvAP5Jev6r1P"
      },
      "execution_count": null,
      "outputs": []
    },
    {
      "cell_type": "code",
      "source": [
        "df.loc[:,['Species','Sepal.Length']]"
      ],
      "metadata": {
        "id": "mHbRpmda6wU3"
      },
      "execution_count": null,
      "outputs": []
    },
    {
      "cell_type": "code",
      "source": [
        "df['Species'].astype(str).str[0] # get the first character of a column(Series) in df"
      ],
      "metadata": {
        "id": "xyN7_Mu9-74a"
      },
      "execution_count": null,
      "outputs": []
    },
    {
      "cell_type": "markdown",
      "source": [
        "### Select by **Conditions**"
      ],
      "metadata": {
        "id": "kkHAL9-l5sP2"
      }
    },
    {
      "cell_type": "code",
      "metadata": {
        "id": "WdAvLBnx9ba8"
      },
      "source": [
        "# Single condition:  \n",
        "df1 = df[df['Species']=='setosa']\n",
        "\n",
        "# Multiple conditions: AND  OR\n",
        "And_df = df[(df['Species']=='setosa') & (df['Petal.Width']>0.2)]\n",
        "OR_df = df[(df['Species']=='setosa') | (df['Petal.Width']>0.2)]\n",
        "\n",
        "# Multiple conditions: NOT \n",
        "Not_df = df[~((df['Species']=='setosa') | (df['Petal.Width']>0.2))]"
      ],
      "execution_count": null,
      "outputs": []
    },
    {
      "cell_type": "markdown",
      "source": [
        "Another method: use **loc**"
      ],
      "metadata": {
        "id": "_bQvxdWi9bvg"
      }
    },
    {
      "cell_type": "code",
      "source": [
        "df.loc[(df['Species'] == 'setosa') & df['Petal.Width']>0.2]"
      ],
      "metadata": {
        "id": "W_A_GK__8aFd"
      },
      "execution_count": null,
      "outputs": []
    },
    {
      "cell_type": "markdown",
      "source": [
        "### Change value based on **condition**"
      ],
      "metadata": {
        "id": "ctGpQdgj_DrF"
      }
    },
    {
      "cell_type": "markdown",
      "source": [
        "#### 1.**DataFrame.loc**  \n",
        "`example_df.loc[example_df[\"column_name1\"] condition, \"column_name2\"] = value`\n",
        " \n",
        "* **column_name1** is the column to evaluate\n",
        "* **column_name2** is the column to create or change, can be same as **column_name1** \n",
        "* **column_name1 condition** is the conditional expression to apply\n",
        "* **value** is the new value to assign"
      ],
      "metadata": {
        "id": "bSvQ7REs_WoT"
      }
    },
    {
      "cell_type": "code",
      "source": [
        "df['test'] = 0\n",
        "df.loc[((df['Species']=='setosa') & (df['Sepal.Length']> 5)), \"test\"] = 1\n",
        "df.head(5)"
      ],
      "metadata": {
        "colab": {
          "base_uri": "https://localhost:8080/",
          "height": 202
        },
        "id": "VxQSJ8Em-yd4",
        "outputId": "58a7867b-1870-4f70-cd47-14e7c591114e"
      },
      "execution_count": null,
      "outputs": [
        {
          "output_type": "execute_result",
          "data": {
            "text/html": [
              "\n",
              "  <div id=\"df-06bf602b-ac6f-442b-a9f3-cadc9c98c435\">\n",
              "    <div class=\"colab-df-container\">\n",
              "      <div>\n",
              "<style scoped>\n",
              "    .dataframe tbody tr th:only-of-type {\n",
              "        vertical-align: middle;\n",
              "    }\n",
              "\n",
              "    .dataframe tbody tr th {\n",
              "        vertical-align: top;\n",
              "    }\n",
              "\n",
              "    .dataframe thead th {\n",
              "        text-align: right;\n",
              "    }\n",
              "</style>\n",
              "<table border=\"1\" class=\"dataframe\">\n",
              "  <thead>\n",
              "    <tr style=\"text-align: right;\">\n",
              "      <th></th>\n",
              "      <th>Sepal.Length</th>\n",
              "      <th>Sepal.Width</th>\n",
              "      <th>Petal.Length</th>\n",
              "      <th>Petal.Width</th>\n",
              "      <th>Species</th>\n",
              "      <th>date1</th>\n",
              "      <th>test</th>\n",
              "    </tr>\n",
              "  </thead>\n",
              "  <tbody>\n",
              "    <tr>\n",
              "      <th>1</th>\n",
              "      <td>5.1</td>\n",
              "      <td>3.5</td>\n",
              "      <td>1.4</td>\n",
              "      <td>0.2</td>\n",
              "      <td>setosa</td>\n",
              "      <td>2022-02-01</td>\n",
              "      <td>1</td>\n",
              "    </tr>\n",
              "    <tr>\n",
              "      <th>2</th>\n",
              "      <td>4.9</td>\n",
              "      <td>3.0</td>\n",
              "      <td>1.4</td>\n",
              "      <td>0.2</td>\n",
              "      <td>setosa</td>\n",
              "      <td>2022-02-01</td>\n",
              "      <td>0</td>\n",
              "    </tr>\n",
              "    <tr>\n",
              "      <th>3</th>\n",
              "      <td>4.7</td>\n",
              "      <td>3.2</td>\n",
              "      <td>1.3</td>\n",
              "      <td>0.2</td>\n",
              "      <td>setosa</td>\n",
              "      <td>2022-02-01</td>\n",
              "      <td>0</td>\n",
              "    </tr>\n",
              "    <tr>\n",
              "      <th>4</th>\n",
              "      <td>4.6</td>\n",
              "      <td>3.1</td>\n",
              "      <td>1.5</td>\n",
              "      <td>0.2</td>\n",
              "      <td>setosa</td>\n",
              "      <td>2022-02-01</td>\n",
              "      <td>0</td>\n",
              "    </tr>\n",
              "    <tr>\n",
              "      <th>5</th>\n",
              "      <td>5.0</td>\n",
              "      <td>3.6</td>\n",
              "      <td>1.4</td>\n",
              "      <td>0.2</td>\n",
              "      <td>setosa</td>\n",
              "      <td>2022-02-01</td>\n",
              "      <td>0</td>\n",
              "    </tr>\n",
              "  </tbody>\n",
              "</table>\n",
              "</div>\n",
              "      <button class=\"colab-df-convert\" onclick=\"convertToInteractive('df-06bf602b-ac6f-442b-a9f3-cadc9c98c435')\"\n",
              "              title=\"Convert this dataframe to an interactive table.\"\n",
              "              style=\"display:none;\">\n",
              "        \n",
              "  <svg xmlns=\"http://www.w3.org/2000/svg\" height=\"24px\"viewBox=\"0 0 24 24\"\n",
              "       width=\"24px\">\n",
              "    <path d=\"M0 0h24v24H0V0z\" fill=\"none\"/>\n",
              "    <path d=\"M18.56 5.44l.94 2.06.94-2.06 2.06-.94-2.06-.94-.94-2.06-.94 2.06-2.06.94zm-11 1L8.5 8.5l.94-2.06 2.06-.94-2.06-.94L8.5 2.5l-.94 2.06-2.06.94zm10 10l.94 2.06.94-2.06 2.06-.94-2.06-.94-.94-2.06-.94 2.06-2.06.94z\"/><path d=\"M17.41 7.96l-1.37-1.37c-.4-.4-.92-.59-1.43-.59-.52 0-1.04.2-1.43.59L10.3 9.45l-7.72 7.72c-.78.78-.78 2.05 0 2.83L4 21.41c.39.39.9.59 1.41.59.51 0 1.02-.2 1.41-.59l7.78-7.78 2.81-2.81c.8-.78.8-2.07 0-2.86zM5.41 20L4 18.59l7.72-7.72 1.47 1.35L5.41 20z\"/>\n",
              "  </svg>\n",
              "      </button>\n",
              "      \n",
              "  <style>\n",
              "    .colab-df-container {\n",
              "      display:flex;\n",
              "      flex-wrap:wrap;\n",
              "      gap: 12px;\n",
              "    }\n",
              "\n",
              "    .colab-df-convert {\n",
              "      background-color: #E8F0FE;\n",
              "      border: none;\n",
              "      border-radius: 50%;\n",
              "      cursor: pointer;\n",
              "      display: none;\n",
              "      fill: #1967D2;\n",
              "      height: 32px;\n",
              "      padding: 0 0 0 0;\n",
              "      width: 32px;\n",
              "    }\n",
              "\n",
              "    .colab-df-convert:hover {\n",
              "      background-color: #E2EBFA;\n",
              "      box-shadow: 0px 1px 2px rgba(60, 64, 67, 0.3), 0px 1px 3px 1px rgba(60, 64, 67, 0.15);\n",
              "      fill: #174EA6;\n",
              "    }\n",
              "\n",
              "    [theme=dark] .colab-df-convert {\n",
              "      background-color: #3B4455;\n",
              "      fill: #D2E3FC;\n",
              "    }\n",
              "\n",
              "    [theme=dark] .colab-df-convert:hover {\n",
              "      background-color: #434B5C;\n",
              "      box-shadow: 0px 1px 3px 1px rgba(0, 0, 0, 0.15);\n",
              "      filter: drop-shadow(0px 1px 2px rgba(0, 0, 0, 0.3));\n",
              "      fill: #FFFFFF;\n",
              "    }\n",
              "  </style>\n",
              "\n",
              "      <script>\n",
              "        const buttonEl =\n",
              "          document.querySelector('#df-06bf602b-ac6f-442b-a9f3-cadc9c98c435 button.colab-df-convert');\n",
              "        buttonEl.style.display =\n",
              "          google.colab.kernel.accessAllowed ? 'block' : 'none';\n",
              "\n",
              "        async function convertToInteractive(key) {\n",
              "          const element = document.querySelector('#df-06bf602b-ac6f-442b-a9f3-cadc9c98c435');\n",
              "          const dataTable =\n",
              "            await google.colab.kernel.invokeFunction('convertToInteractive',\n",
              "                                                     [key], {});\n",
              "          if (!dataTable) return;\n",
              "\n",
              "          const docLinkHtml = 'Like what you see? Visit the ' +\n",
              "            '<a target=\"_blank\" href=https://colab.research.google.com/notebooks/data_table.ipynb>data table notebook</a>'\n",
              "            + ' to learn more about interactive tables.';\n",
              "          element.innerHTML = '';\n",
              "          dataTable['output_type'] = 'display_data';\n",
              "          await google.colab.output.renderOutput(dataTable, element);\n",
              "          const docLink = document.createElement('div');\n",
              "          docLink.innerHTML = docLinkHtml;\n",
              "          element.appendChild(docLink);\n",
              "        }\n",
              "      </script>\n",
              "    </div>\n",
              "  </div>\n",
              "  "
            ],
            "text/plain": [
              "   Sepal.Length  Sepal.Width  Petal.Length  ...  Species       date1 test\n",
              "1           5.1          3.5           1.4  ...   setosa  2022-02-01    1\n",
              "2           4.9          3.0           1.4  ...   setosa  2022-02-01    0\n",
              "3           4.7          3.2           1.3  ...   setosa  2022-02-01    0\n",
              "4           4.6          3.1           1.5  ...   setosa  2022-02-01    0\n",
              "5           5.0          3.6           1.4  ...   setosa  2022-02-01    0\n",
              "\n",
              "[5 rows x 7 columns]"
            ]
          },
          "metadata": {},
          "execution_count": 121
        }
      ]
    },
    {
      "cell_type": "markdown",
      "source": [
        "#### 2.**Numpy.where**  (if else)\n",
        "\n",
        "```\n",
        "import numpy as np\n",
        "example_df[\"column_name1\"] = np.where(condition, new_value, “column_name2”)\n",
        "\n",
        "```\n",
        "\n",
        "\n"
      ],
      "metadata": {
        "id": "7TeGDoiRB1uE"
      }
    },
    {
      "cell_type": "code",
      "source": [
        "df['test'] = 0\n",
        "Conditions = (df['Species']=='setosa') & (df['Sepal.Length']> 5) #multiple conditions\n",
        "df['test'] = np.where(Conditions,1,df['test']) # If true - 1, else - same to original df['test']\n",
        "df['test'] = np.where(Conditions,1,0)  # If true - 1, else - 0\n",
        "\n",
        "df.head(5)"
      ],
      "metadata": {
        "colab": {
          "base_uri": "https://localhost:8080/",
          "height": 202
        },
        "id": "XvWzMTnZCBpk",
        "outputId": "8a3ac818-a534-4ea7-9b2e-595284638a30"
      },
      "execution_count": null,
      "outputs": [
        {
          "output_type": "execute_result",
          "data": {
            "text/html": [
              "\n",
              "  <div id=\"df-4190bf04-1afa-4bc7-81bf-846c02e1cf69\">\n",
              "    <div class=\"colab-df-container\">\n",
              "      <div>\n",
              "<style scoped>\n",
              "    .dataframe tbody tr th:only-of-type {\n",
              "        vertical-align: middle;\n",
              "    }\n",
              "\n",
              "    .dataframe tbody tr th {\n",
              "        vertical-align: top;\n",
              "    }\n",
              "\n",
              "    .dataframe thead th {\n",
              "        text-align: right;\n",
              "    }\n",
              "</style>\n",
              "<table border=\"1\" class=\"dataframe\">\n",
              "  <thead>\n",
              "    <tr style=\"text-align: right;\">\n",
              "      <th></th>\n",
              "      <th>Sepal.Length</th>\n",
              "      <th>Sepal.Width</th>\n",
              "      <th>Petal.Length</th>\n",
              "      <th>Petal.Width</th>\n",
              "      <th>Species</th>\n",
              "      <th>date1</th>\n",
              "      <th>test</th>\n",
              "    </tr>\n",
              "  </thead>\n",
              "  <tbody>\n",
              "    <tr>\n",
              "      <th>1</th>\n",
              "      <td>5.1</td>\n",
              "      <td>3.5</td>\n",
              "      <td>1.4</td>\n",
              "      <td>0.2</td>\n",
              "      <td>setosa</td>\n",
              "      <td>2022-02-01</td>\n",
              "      <td>1</td>\n",
              "    </tr>\n",
              "    <tr>\n",
              "      <th>2</th>\n",
              "      <td>4.9</td>\n",
              "      <td>3.0</td>\n",
              "      <td>1.4</td>\n",
              "      <td>0.2</td>\n",
              "      <td>setosa</td>\n",
              "      <td>2022-02-01</td>\n",
              "      <td>0</td>\n",
              "    </tr>\n",
              "    <tr>\n",
              "      <th>3</th>\n",
              "      <td>4.7</td>\n",
              "      <td>3.2</td>\n",
              "      <td>1.3</td>\n",
              "      <td>0.2</td>\n",
              "      <td>setosa</td>\n",
              "      <td>2022-02-01</td>\n",
              "      <td>0</td>\n",
              "    </tr>\n",
              "    <tr>\n",
              "      <th>4</th>\n",
              "      <td>4.6</td>\n",
              "      <td>3.1</td>\n",
              "      <td>1.5</td>\n",
              "      <td>0.2</td>\n",
              "      <td>setosa</td>\n",
              "      <td>2022-02-01</td>\n",
              "      <td>0</td>\n",
              "    </tr>\n",
              "    <tr>\n",
              "      <th>5</th>\n",
              "      <td>5.0</td>\n",
              "      <td>3.6</td>\n",
              "      <td>1.4</td>\n",
              "      <td>0.2</td>\n",
              "      <td>setosa</td>\n",
              "      <td>2022-02-01</td>\n",
              "      <td>0</td>\n",
              "    </tr>\n",
              "  </tbody>\n",
              "</table>\n",
              "</div>\n",
              "      <button class=\"colab-df-convert\" onclick=\"convertToInteractive('df-4190bf04-1afa-4bc7-81bf-846c02e1cf69')\"\n",
              "              title=\"Convert this dataframe to an interactive table.\"\n",
              "              style=\"display:none;\">\n",
              "        \n",
              "  <svg xmlns=\"http://www.w3.org/2000/svg\" height=\"24px\"viewBox=\"0 0 24 24\"\n",
              "       width=\"24px\">\n",
              "    <path d=\"M0 0h24v24H0V0z\" fill=\"none\"/>\n",
              "    <path d=\"M18.56 5.44l.94 2.06.94-2.06 2.06-.94-2.06-.94-.94-2.06-.94 2.06-2.06.94zm-11 1L8.5 8.5l.94-2.06 2.06-.94-2.06-.94L8.5 2.5l-.94 2.06-2.06.94zm10 10l.94 2.06.94-2.06 2.06-.94-2.06-.94-.94-2.06-.94 2.06-2.06.94z\"/><path d=\"M17.41 7.96l-1.37-1.37c-.4-.4-.92-.59-1.43-.59-.52 0-1.04.2-1.43.59L10.3 9.45l-7.72 7.72c-.78.78-.78 2.05 0 2.83L4 21.41c.39.39.9.59 1.41.59.51 0 1.02-.2 1.41-.59l7.78-7.78 2.81-2.81c.8-.78.8-2.07 0-2.86zM5.41 20L4 18.59l7.72-7.72 1.47 1.35L5.41 20z\"/>\n",
              "  </svg>\n",
              "      </button>\n",
              "      \n",
              "  <style>\n",
              "    .colab-df-container {\n",
              "      display:flex;\n",
              "      flex-wrap:wrap;\n",
              "      gap: 12px;\n",
              "    }\n",
              "\n",
              "    .colab-df-convert {\n",
              "      background-color: #E8F0FE;\n",
              "      border: none;\n",
              "      border-radius: 50%;\n",
              "      cursor: pointer;\n",
              "      display: none;\n",
              "      fill: #1967D2;\n",
              "      height: 32px;\n",
              "      padding: 0 0 0 0;\n",
              "      width: 32px;\n",
              "    }\n",
              "\n",
              "    .colab-df-convert:hover {\n",
              "      background-color: #E2EBFA;\n",
              "      box-shadow: 0px 1px 2px rgba(60, 64, 67, 0.3), 0px 1px 3px 1px rgba(60, 64, 67, 0.15);\n",
              "      fill: #174EA6;\n",
              "    }\n",
              "\n",
              "    [theme=dark] .colab-df-convert {\n",
              "      background-color: #3B4455;\n",
              "      fill: #D2E3FC;\n",
              "    }\n",
              "\n",
              "    [theme=dark] .colab-df-convert:hover {\n",
              "      background-color: #434B5C;\n",
              "      box-shadow: 0px 1px 3px 1px rgba(0, 0, 0, 0.15);\n",
              "      filter: drop-shadow(0px 1px 2px rgba(0, 0, 0, 0.3));\n",
              "      fill: #FFFFFF;\n",
              "    }\n",
              "  </style>\n",
              "\n",
              "      <script>\n",
              "        const buttonEl =\n",
              "          document.querySelector('#df-4190bf04-1afa-4bc7-81bf-846c02e1cf69 button.colab-df-convert');\n",
              "        buttonEl.style.display =\n",
              "          google.colab.kernel.accessAllowed ? 'block' : 'none';\n",
              "\n",
              "        async function convertToInteractive(key) {\n",
              "          const element = document.querySelector('#df-4190bf04-1afa-4bc7-81bf-846c02e1cf69');\n",
              "          const dataTable =\n",
              "            await google.colab.kernel.invokeFunction('convertToInteractive',\n",
              "                                                     [key], {});\n",
              "          if (!dataTable) return;\n",
              "\n",
              "          const docLinkHtml = 'Like what you see? Visit the ' +\n",
              "            '<a target=\"_blank\" href=https://colab.research.google.com/notebooks/data_table.ipynb>data table notebook</a>'\n",
              "            + ' to learn more about interactive tables.';\n",
              "          element.innerHTML = '';\n",
              "          dataTable['output_type'] = 'display_data';\n",
              "          await google.colab.output.renderOutput(dataTable, element);\n",
              "          const docLink = document.createElement('div');\n",
              "          docLink.innerHTML = docLinkHtml;\n",
              "          element.appendChild(docLink);\n",
              "        }\n",
              "      </script>\n",
              "    </div>\n",
              "  </div>\n",
              "  "
            ],
            "text/plain": [
              "   Sepal.Length  Sepal.Width  Petal.Length  ...  Species       date1 test\n",
              "1           5.1          3.5           1.4  ...   setosa  2022-02-01    1\n",
              "2           4.9          3.0           1.4  ...   setosa  2022-02-01    0\n",
              "3           4.7          3.2           1.3  ...   setosa  2022-02-01    0\n",
              "4           4.6          3.1           1.5  ...   setosa  2022-02-01    0\n",
              "5           5.0          3.6           1.4  ...   setosa  2022-02-01    0\n",
              "\n",
              "[5 rows x 7 columns]"
            ]
          },
          "metadata": {},
          "execution_count": 131
        }
      ]
    },
    {
      "cell_type": "markdown",
      "source": [
        "#### 3.**Numpy.Select** (Multiple conditions)\n",
        "Set Values Using Multiple Conditions and Assigns\n",
        "\n",
        "\n",
        "Assign different categories to different data range\n",
        "\n",
        "*  < 20\n",
        "*  20–30\n",
        "*  '>30 \n",
        "\n"
      ],
      "metadata": {
        "id": "sT7FQLBSDWyj"
      }
    },
    {
      "cell_type": "code",
      "source": [
        "import numpy as np\n",
        "df['test'] = 0\n",
        "\n",
        "#multiple conditions\n",
        "Conditions = [(df['Sepal.Length']<2),\n",
        "              (df['Sepal.Length']>=2) & (df['Sepal.Length']<5),\n",
        "              (df['Sepal.Length']>=5)\n",
        "            ]\n",
        "#multiple results to assign \n",
        "Categories=[1,2,3]\n",
        "\n",
        "df['test'] = np.select(Conditions, Categories)\n",
        "\n",
        "df.head(5)"
      ],
      "metadata": {
        "colab": {
          "base_uri": "https://localhost:8080/",
          "height": 202
        },
        "id": "FrM1aqjgEfhS",
        "outputId": "2ef134e3-56d8-4ef7-a42d-7953fcb24d34"
      },
      "execution_count": null,
      "outputs": [
        {
          "output_type": "execute_result",
          "data": {
            "text/html": [
              "\n",
              "  <div id=\"df-11623ece-e017-46c5-85a7-1e9e92230e70\">\n",
              "    <div class=\"colab-df-container\">\n",
              "      <div>\n",
              "<style scoped>\n",
              "    .dataframe tbody tr th:only-of-type {\n",
              "        vertical-align: middle;\n",
              "    }\n",
              "\n",
              "    .dataframe tbody tr th {\n",
              "        vertical-align: top;\n",
              "    }\n",
              "\n",
              "    .dataframe thead th {\n",
              "        text-align: right;\n",
              "    }\n",
              "</style>\n",
              "<table border=\"1\" class=\"dataframe\">\n",
              "  <thead>\n",
              "    <tr style=\"text-align: right;\">\n",
              "      <th></th>\n",
              "      <th>Sepal.Length</th>\n",
              "      <th>Sepal.Width</th>\n",
              "      <th>Petal.Length</th>\n",
              "      <th>Petal.Width</th>\n",
              "      <th>Species</th>\n",
              "      <th>date1</th>\n",
              "      <th>test</th>\n",
              "    </tr>\n",
              "  </thead>\n",
              "  <tbody>\n",
              "    <tr>\n",
              "      <th>1</th>\n",
              "      <td>5.1</td>\n",
              "      <td>3.5</td>\n",
              "      <td>1.4</td>\n",
              "      <td>0.2</td>\n",
              "      <td>setosa</td>\n",
              "      <td>2022-02-02</td>\n",
              "      <td>3</td>\n",
              "    </tr>\n",
              "    <tr>\n",
              "      <th>2</th>\n",
              "      <td>4.9</td>\n",
              "      <td>3.0</td>\n",
              "      <td>1.4</td>\n",
              "      <td>0.2</td>\n",
              "      <td>setosa</td>\n",
              "      <td>2022-02-02</td>\n",
              "      <td>2</td>\n",
              "    </tr>\n",
              "    <tr>\n",
              "      <th>3</th>\n",
              "      <td>4.7</td>\n",
              "      <td>3.2</td>\n",
              "      <td>1.3</td>\n",
              "      <td>0.2</td>\n",
              "      <td>setosa</td>\n",
              "      <td>2022-02-02</td>\n",
              "      <td>2</td>\n",
              "    </tr>\n",
              "    <tr>\n",
              "      <th>4</th>\n",
              "      <td>4.6</td>\n",
              "      <td>3.1</td>\n",
              "      <td>1.5</td>\n",
              "      <td>0.2</td>\n",
              "      <td>setosa</td>\n",
              "      <td>2022-02-02</td>\n",
              "      <td>2</td>\n",
              "    </tr>\n",
              "    <tr>\n",
              "      <th>5</th>\n",
              "      <td>5.0</td>\n",
              "      <td>3.6</td>\n",
              "      <td>1.4</td>\n",
              "      <td>0.2</td>\n",
              "      <td>setosa</td>\n",
              "      <td>2022-02-02</td>\n",
              "      <td>3</td>\n",
              "    </tr>\n",
              "  </tbody>\n",
              "</table>\n",
              "</div>\n",
              "      <button class=\"colab-df-convert\" onclick=\"convertToInteractive('df-11623ece-e017-46c5-85a7-1e9e92230e70')\"\n",
              "              title=\"Convert this dataframe to an interactive table.\"\n",
              "              style=\"display:none;\">\n",
              "        \n",
              "  <svg xmlns=\"http://www.w3.org/2000/svg\" height=\"24px\"viewBox=\"0 0 24 24\"\n",
              "       width=\"24px\">\n",
              "    <path d=\"M0 0h24v24H0V0z\" fill=\"none\"/>\n",
              "    <path d=\"M18.56 5.44l.94 2.06.94-2.06 2.06-.94-2.06-.94-.94-2.06-.94 2.06-2.06.94zm-11 1L8.5 8.5l.94-2.06 2.06-.94-2.06-.94L8.5 2.5l-.94 2.06-2.06.94zm10 10l.94 2.06.94-2.06 2.06-.94-2.06-.94-.94-2.06-.94 2.06-2.06.94z\"/><path d=\"M17.41 7.96l-1.37-1.37c-.4-.4-.92-.59-1.43-.59-.52 0-1.04.2-1.43.59L10.3 9.45l-7.72 7.72c-.78.78-.78 2.05 0 2.83L4 21.41c.39.39.9.59 1.41.59.51 0 1.02-.2 1.41-.59l7.78-7.78 2.81-2.81c.8-.78.8-2.07 0-2.86zM5.41 20L4 18.59l7.72-7.72 1.47 1.35L5.41 20z\"/>\n",
              "  </svg>\n",
              "      </button>\n",
              "      \n",
              "  <style>\n",
              "    .colab-df-container {\n",
              "      display:flex;\n",
              "      flex-wrap:wrap;\n",
              "      gap: 12px;\n",
              "    }\n",
              "\n",
              "    .colab-df-convert {\n",
              "      background-color: #E8F0FE;\n",
              "      border: none;\n",
              "      border-radius: 50%;\n",
              "      cursor: pointer;\n",
              "      display: none;\n",
              "      fill: #1967D2;\n",
              "      height: 32px;\n",
              "      padding: 0 0 0 0;\n",
              "      width: 32px;\n",
              "    }\n",
              "\n",
              "    .colab-df-convert:hover {\n",
              "      background-color: #E2EBFA;\n",
              "      box-shadow: 0px 1px 2px rgba(60, 64, 67, 0.3), 0px 1px 3px 1px rgba(60, 64, 67, 0.15);\n",
              "      fill: #174EA6;\n",
              "    }\n",
              "\n",
              "    [theme=dark] .colab-df-convert {\n",
              "      background-color: #3B4455;\n",
              "      fill: #D2E3FC;\n",
              "    }\n",
              "\n",
              "    [theme=dark] .colab-df-convert:hover {\n",
              "      background-color: #434B5C;\n",
              "      box-shadow: 0px 1px 3px 1px rgba(0, 0, 0, 0.15);\n",
              "      filter: drop-shadow(0px 1px 2px rgba(0, 0, 0, 0.3));\n",
              "      fill: #FFFFFF;\n",
              "    }\n",
              "  </style>\n",
              "\n",
              "      <script>\n",
              "        const buttonEl =\n",
              "          document.querySelector('#df-11623ece-e017-46c5-85a7-1e9e92230e70 button.colab-df-convert');\n",
              "        buttonEl.style.display =\n",
              "          google.colab.kernel.accessAllowed ? 'block' : 'none';\n",
              "\n",
              "        async function convertToInteractive(key) {\n",
              "          const element = document.querySelector('#df-11623ece-e017-46c5-85a7-1e9e92230e70');\n",
              "          const dataTable =\n",
              "            await google.colab.kernel.invokeFunction('convertToInteractive',\n",
              "                                                     [key], {});\n",
              "          if (!dataTable) return;\n",
              "\n",
              "          const docLinkHtml = 'Like what you see? Visit the ' +\n",
              "            '<a target=\"_blank\" href=https://colab.research.google.com/notebooks/data_table.ipynb>data table notebook</a>'\n",
              "            + ' to learn more about interactive tables.';\n",
              "          element.innerHTML = '';\n",
              "          dataTable['output_type'] = 'display_data';\n",
              "          await google.colab.output.renderOutput(dataTable, element);\n",
              "          const docLink = document.createElement('div');\n",
              "          docLink.innerHTML = docLinkHtml;\n",
              "          element.appendChild(docLink);\n",
              "        }\n",
              "      </script>\n",
              "    </div>\n",
              "  </div>\n",
              "  "
            ],
            "text/plain": [
              "   Sepal.Length  Sepal.Width  Petal.Length  ...  Species       date1 test\n",
              "1           5.1          3.5           1.4  ...   setosa  2022-02-02    3\n",
              "2           4.9          3.0           1.4  ...   setosa  2022-02-02    2\n",
              "3           4.7          3.2           1.3  ...   setosa  2022-02-02    2\n",
              "4           4.6          3.1           1.5  ...   setosa  2022-02-02    2\n",
              "5           5.0          3.6           1.4  ...   setosa  2022-02-02    3\n",
              "\n",
              "[5 rows x 7 columns]"
            ]
          },
          "metadata": {},
          "execution_count": 12
        }
      ]
    },
    {
      "cell_type": "markdown",
      "source": [
        "#### 4.**Lambda**  \n",
        "\n"
      ],
      "metadata": {
        "id": "Qxm5v76rqSNF"
      }
    },
    {
      "cell_type": "code",
      "metadata": {
        "id": "7mJXWLqaBx82"
      },
      "source": [
        "# Convert '13,000' to int\n",
        "# you cannot cast a string with “,” to an int. To do that we first have to get rid of the comma.\n",
        "\n",
        "df['Price'] = df.apply(lambda x: int(x['Price'].replace(',', '')),axis=1)"
      ],
      "execution_count": null,
      "outputs": []
    },
    {
      "cell_type": "code",
      "metadata": {
        "id": "VKpUmWr__siP"
      },
      "source": [
        "#Filter by the num of words\n",
        "\n",
        "#create a new column\n",
        "df['num_words_title'] = df.apply(lambda x : len(x['Title'].split(\" \")),axis=1)\n",
        "\n",
        "#simply filter on new column\n",
        "new_df = df[df['num_words_title']>=4]\n",
        "\n",
        "#or\n",
        "\n",
        "new_df = df[df.apply(lambda x : len(x['Title'].split(\" \"))>=4,axis=1)]"
      ],
      "execution_count": null,
      "outputs": []
    },
    {
      "cell_type": "code",
      "metadata": {
        "id": "LQ2BZcYl-Ceu"
      },
      "source": [
        "#You define a function that will take the column values you want to play with to come up with your logic. Here the only two columns we end up using are genre and rating.\n",
        "#You use an apply function with lambda along the row with axis=1. \n",
        "#The general syntax is: df.apply(lambda x: func(x['col1'],x['col2']),axis=1)\n",
        "def custom_rating(genre,rating):\n",
        "    if 'Thriller' in genre:\n",
        "        return min(10,rating+1)\n",
        "    elif 'Comedy' in genre:\n",
        "        return max(0,rating-1)\n",
        "    else:\n",
        "        return rating\n",
        "        \n",
        "df['CustomRating'] = df.apply(lambda x: custom_rating(x['Genre'],x['Rating']),axis=1)"
      ],
      "execution_count": null,
      "outputs": []
    },
    {
      "cell_type": "code",
      "metadata": {
        "colab": {
          "base_uri": "https://localhost:8080/",
          "height": 347
        },
        "id": "hKis7tXpBUJk",
        "outputId": "de8aa2be-aa15-4621-9c9b-c7af9fb05c89"
      },
      "source": [
        "portfolio_for_ml['email'] = portfolio_for_ml['channels'].apply(lambda x: 1 if \"email\" in x else 0)\n",
        "portfolio_for_ml['mobile'] = portfolio_for_ml['channels'].apply(lambda x: 1 if \"mobile\" in x else 0)\n",
        "portfolio_for_ml['social'] = portfolio_for_ml['channels'].apply(lambda x: 1 if \"social\" in x else 0)\n",
        "portfolio_for_ml['web'] = portfolio_for_ml['channels'].apply(lambda x: 1 if \"web\" in x else 0)\n",
        "portfolio_for_ml"
      ],
      "execution_count": null,
      "outputs": [
        {
          "output_type": "execute_result",
          "data": {
            "text/html": [
              "<div>\n",
              "<style scoped>\n",
              "    .dataframe tbody tr th:only-of-type {\n",
              "        vertical-align: middle;\n",
              "    }\n",
              "\n",
              "    .dataframe tbody tr th {\n",
              "        vertical-align: top;\n",
              "    }\n",
              "\n",
              "    .dataframe thead th {\n",
              "        text-align: right;\n",
              "    }\n",
              "</style>\n",
              "<table border=\"1\" class=\"dataframe\">\n",
              "  <thead>\n",
              "    <tr style=\"text-align: right;\">\n",
              "      <th></th>\n",
              "      <th>reward</th>\n",
              "      <th>channels</th>\n",
              "      <th>difficulty</th>\n",
              "      <th>duration</th>\n",
              "      <th>id</th>\n",
              "      <th>bogo</th>\n",
              "      <th>discount</th>\n",
              "      <th>informational</th>\n",
              "      <th>New Col1</th>\n",
              "      <th>email</th>\n",
              "      <th>mobile</th>\n",
              "      <th>social</th>\n",
              "      <th>web</th>\n",
              "    </tr>\n",
              "  </thead>\n",
              "  <tbody>\n",
              "    <tr>\n",
              "      <th>0</th>\n",
              "      <td>10</td>\n",
              "      <td>[email, mobile, social]</td>\n",
              "      <td>10</td>\n",
              "      <td>7</td>\n",
              "      <td>ae264e3637204a6fb9bb56bc8210ddfd</td>\n",
              "      <td>1</td>\n",
              "      <td>0</td>\n",
              "      <td>0</td>\n",
              "      <td>0</td>\n",
              "      <td>1</td>\n",
              "      <td>1</td>\n",
              "      <td>1</td>\n",
              "      <td>0</td>\n",
              "    </tr>\n",
              "    <tr>\n",
              "      <th>1</th>\n",
              "      <td>10</td>\n",
              "      <td>[web, email, mobile, social]</td>\n",
              "      <td>10</td>\n",
              "      <td>5</td>\n",
              "      <td>4d5c57ea9a6940dd891ad53e9dbe8da0</td>\n",
              "      <td>1</td>\n",
              "      <td>0</td>\n",
              "      <td>0</td>\n",
              "      <td>1</td>\n",
              "      <td>1</td>\n",
              "      <td>1</td>\n",
              "      <td>1</td>\n",
              "      <td>1</td>\n",
              "    </tr>\n",
              "    <tr>\n",
              "      <th>2</th>\n",
              "      <td>0</td>\n",
              "      <td>[web, email, mobile]</td>\n",
              "      <td>0</td>\n",
              "      <td>4</td>\n",
              "      <td>3f207df678b143eea3cee63160fa8bed</td>\n",
              "      <td>0</td>\n",
              "      <td>0</td>\n",
              "      <td>1</td>\n",
              "      <td>1</td>\n",
              "      <td>1</td>\n",
              "      <td>1</td>\n",
              "      <td>0</td>\n",
              "      <td>1</td>\n",
              "    </tr>\n",
              "    <tr>\n",
              "      <th>3</th>\n",
              "      <td>5</td>\n",
              "      <td>[web, email, mobile]</td>\n",
              "      <td>5</td>\n",
              "      <td>7</td>\n",
              "      <td>9b98b8c7a33c4b65b9aebfe6a799e6d9</td>\n",
              "      <td>1</td>\n",
              "      <td>0</td>\n",
              "      <td>0</td>\n",
              "      <td>1</td>\n",
              "      <td>1</td>\n",
              "      <td>1</td>\n",
              "      <td>0</td>\n",
              "      <td>1</td>\n",
              "    </tr>\n",
              "    <tr>\n",
              "      <th>4</th>\n",
              "      <td>5</td>\n",
              "      <td>[web, email]</td>\n",
              "      <td>20</td>\n",
              "      <td>10</td>\n",
              "      <td>0b1e1539f2cc45b7b9fa7c272da2e1d7</td>\n",
              "      <td>0</td>\n",
              "      <td>1</td>\n",
              "      <td>0</td>\n",
              "      <td>1</td>\n",
              "      <td>1</td>\n",
              "      <td>0</td>\n",
              "      <td>0</td>\n",
              "      <td>1</td>\n",
              "    </tr>\n",
              "    <tr>\n",
              "      <th>5</th>\n",
              "      <td>3</td>\n",
              "      <td>[web, email, mobile, social]</td>\n",
              "      <td>7</td>\n",
              "      <td>7</td>\n",
              "      <td>2298d6c36e964ae4a3e7e9706d1fb8c2</td>\n",
              "      <td>0</td>\n",
              "      <td>1</td>\n",
              "      <td>0</td>\n",
              "      <td>1</td>\n",
              "      <td>1</td>\n",
              "      <td>1</td>\n",
              "      <td>1</td>\n",
              "      <td>1</td>\n",
              "    </tr>\n",
              "    <tr>\n",
              "      <th>6</th>\n",
              "      <td>2</td>\n",
              "      <td>[web, email, mobile, social]</td>\n",
              "      <td>10</td>\n",
              "      <td>10</td>\n",
              "      <td>fafdcd668e3743c1bb461111dcafc2a4</td>\n",
              "      <td>0</td>\n",
              "      <td>1</td>\n",
              "      <td>0</td>\n",
              "      <td>1</td>\n",
              "      <td>1</td>\n",
              "      <td>1</td>\n",
              "      <td>1</td>\n",
              "      <td>1</td>\n",
              "    </tr>\n",
              "    <tr>\n",
              "      <th>7</th>\n",
              "      <td>0</td>\n",
              "      <td>[email, mobile, social]</td>\n",
              "      <td>0</td>\n",
              "      <td>3</td>\n",
              "      <td>5a8bc65990b245e5a138643cd4eb9837</td>\n",
              "      <td>0</td>\n",
              "      <td>0</td>\n",
              "      <td>1</td>\n",
              "      <td>0</td>\n",
              "      <td>1</td>\n",
              "      <td>1</td>\n",
              "      <td>1</td>\n",
              "      <td>0</td>\n",
              "    </tr>\n",
              "    <tr>\n",
              "      <th>8</th>\n",
              "      <td>5</td>\n",
              "      <td>[web, email, mobile, social]</td>\n",
              "      <td>5</td>\n",
              "      <td>5</td>\n",
              "      <td>f19421c1d4aa40978ebb69ca19b0e20d</td>\n",
              "      <td>1</td>\n",
              "      <td>0</td>\n",
              "      <td>0</td>\n",
              "      <td>1</td>\n",
              "      <td>1</td>\n",
              "      <td>1</td>\n",
              "      <td>1</td>\n",
              "      <td>1</td>\n",
              "    </tr>\n",
              "    <tr>\n",
              "      <th>9</th>\n",
              "      <td>2</td>\n",
              "      <td>[web, email, mobile]</td>\n",
              "      <td>10</td>\n",
              "      <td>7</td>\n",
              "      <td>2906b810c7d4411798c6938adc9daaa5</td>\n",
              "      <td>0</td>\n",
              "      <td>1</td>\n",
              "      <td>0</td>\n",
              "      <td>1</td>\n",
              "      <td>1</td>\n",
              "      <td>1</td>\n",
              "      <td>0</td>\n",
              "      <td>1</td>\n",
              "    </tr>\n",
              "  </tbody>\n",
              "</table>\n",
              "</div>"
            ],
            "text/plain": [
              "   reward                      channels  difficulty  ...  mobile social  web\n",
              "0      10       [email, mobile, social]          10  ...       1      1    0\n",
              "1      10  [web, email, mobile, social]          10  ...       1      1    1\n",
              "2       0          [web, email, mobile]           0  ...       1      0    1\n",
              "3       5          [web, email, mobile]           5  ...       1      0    1\n",
              "4       5                  [web, email]          20  ...       0      0    1\n",
              "5       3  [web, email, mobile, social]           7  ...       1      1    1\n",
              "6       2  [web, email, mobile, social]          10  ...       1      1    1\n",
              "7       0       [email, mobile, social]           0  ...       1      1    0\n",
              "8       5  [web, email, mobile, social]           5  ...       1      1    1\n",
              "9       2          [web, email, mobile]          10  ...       1      0    1\n",
              "\n",
              "[10 rows x 13 columns]"
            ]
          },
          "metadata": {
            "tags": []
          },
          "execution_count": 48
        }
      ]
    },
    {
      "cell_type": "markdown",
      "metadata": {
        "id": "wf2um9quCbO8"
      },
      "source": [
        "## tqdm progress bar apply\n",
        "\n"
      ]
    },
    {
      "cell_type": "markdown",
      "source": [
        "# Data wrangling "
      ],
      "metadata": {
        "id": "ZwOi2XJLsPGd"
      }
    },
    {
      "cell_type": "code",
      "metadata": {
        "id": "uA-Lxyn_CNI1"
      },
      "source": [
        "from tqdm import tqdm, tqdm_notebook\n",
        "tqdm_notebook().pandas()\n",
        "\n",
        "df.progress_apply(lambda x: custom_rating_function(x['Genre'],x['Rating']),axis=1)"
      ],
      "execution_count": null,
      "outputs": []
    },
    {
      "cell_type": "markdown",
      "metadata": {
        "id": "eNIZsnGMND8J"
      },
      "source": [
        "## Create Dummies to split categorical variable in multiple columns"
      ]
    },
    {
      "cell_type": "code",
      "metadata": {
        "id": "1UosBssNYxra",
        "colab": {
          "base_uri": "https://localhost:8080/",
          "height": 202
        },
        "outputId": "db67cbfd-b511-4960-cd69-c2c0bf4a2d38"
      },
      "source": [
        "# create dummies for gender\n",
        "df_dummy = pd.get_dummies(df,columns=['Species'])\n",
        "df_dummy.head(5)"
      ],
      "execution_count": null,
      "outputs": [
        {
          "output_type": "execute_result",
          "data": {
            "text/html": [
              "\n",
              "  <div id=\"df-5b48d7d0-ca5f-484d-a371-d660f221c58f\">\n",
              "    <div class=\"colab-df-container\">\n",
              "      <div>\n",
              "<style scoped>\n",
              "    .dataframe tbody tr th:only-of-type {\n",
              "        vertical-align: middle;\n",
              "    }\n",
              "\n",
              "    .dataframe tbody tr th {\n",
              "        vertical-align: top;\n",
              "    }\n",
              "\n",
              "    .dataframe thead th {\n",
              "        text-align: right;\n",
              "    }\n",
              "</style>\n",
              "<table border=\"1\" class=\"dataframe\">\n",
              "  <thead>\n",
              "    <tr style=\"text-align: right;\">\n",
              "      <th></th>\n",
              "      <th>Sepal.Length</th>\n",
              "      <th>Sepal.Width</th>\n",
              "      <th>Petal.Length</th>\n",
              "      <th>Petal.Width</th>\n",
              "      <th>date1</th>\n",
              "      <th>Species_setosa</th>\n",
              "      <th>Species_versicolor</th>\n",
              "      <th>Species_virginica</th>\n",
              "    </tr>\n",
              "  </thead>\n",
              "  <tbody>\n",
              "    <tr>\n",
              "      <th>1</th>\n",
              "      <td>5.1</td>\n",
              "      <td>3.5</td>\n",
              "      <td>1.4</td>\n",
              "      <td>0.2</td>\n",
              "      <td>2022-02-02</td>\n",
              "      <td>1</td>\n",
              "      <td>0</td>\n",
              "      <td>0</td>\n",
              "    </tr>\n",
              "    <tr>\n",
              "      <th>2</th>\n",
              "      <td>4.9</td>\n",
              "      <td>3.0</td>\n",
              "      <td>1.4</td>\n",
              "      <td>0.2</td>\n",
              "      <td>2022-02-02</td>\n",
              "      <td>1</td>\n",
              "      <td>0</td>\n",
              "      <td>0</td>\n",
              "    </tr>\n",
              "    <tr>\n",
              "      <th>3</th>\n",
              "      <td>4.7</td>\n",
              "      <td>3.2</td>\n",
              "      <td>1.3</td>\n",
              "      <td>0.2</td>\n",
              "      <td>2022-02-02</td>\n",
              "      <td>1</td>\n",
              "      <td>0</td>\n",
              "      <td>0</td>\n",
              "    </tr>\n",
              "    <tr>\n",
              "      <th>4</th>\n",
              "      <td>4.6</td>\n",
              "      <td>3.1</td>\n",
              "      <td>1.5</td>\n",
              "      <td>0.2</td>\n",
              "      <td>2022-02-02</td>\n",
              "      <td>1</td>\n",
              "      <td>0</td>\n",
              "      <td>0</td>\n",
              "    </tr>\n",
              "    <tr>\n",
              "      <th>5</th>\n",
              "      <td>5.0</td>\n",
              "      <td>3.6</td>\n",
              "      <td>1.4</td>\n",
              "      <td>0.2</td>\n",
              "      <td>2022-02-02</td>\n",
              "      <td>1</td>\n",
              "      <td>0</td>\n",
              "      <td>0</td>\n",
              "    </tr>\n",
              "  </tbody>\n",
              "</table>\n",
              "</div>\n",
              "      <button class=\"colab-df-convert\" onclick=\"convertToInteractive('df-5b48d7d0-ca5f-484d-a371-d660f221c58f')\"\n",
              "              title=\"Convert this dataframe to an interactive table.\"\n",
              "              style=\"display:none;\">\n",
              "        \n",
              "  <svg xmlns=\"http://www.w3.org/2000/svg\" height=\"24px\"viewBox=\"0 0 24 24\"\n",
              "       width=\"24px\">\n",
              "    <path d=\"M0 0h24v24H0V0z\" fill=\"none\"/>\n",
              "    <path d=\"M18.56 5.44l.94 2.06.94-2.06 2.06-.94-2.06-.94-.94-2.06-.94 2.06-2.06.94zm-11 1L8.5 8.5l.94-2.06 2.06-.94-2.06-.94L8.5 2.5l-.94 2.06-2.06.94zm10 10l.94 2.06.94-2.06 2.06-.94-2.06-.94-.94-2.06-.94 2.06-2.06.94z\"/><path d=\"M17.41 7.96l-1.37-1.37c-.4-.4-.92-.59-1.43-.59-.52 0-1.04.2-1.43.59L10.3 9.45l-7.72 7.72c-.78.78-.78 2.05 0 2.83L4 21.41c.39.39.9.59 1.41.59.51 0 1.02-.2 1.41-.59l7.78-7.78 2.81-2.81c.8-.78.8-2.07 0-2.86zM5.41 20L4 18.59l7.72-7.72 1.47 1.35L5.41 20z\"/>\n",
              "  </svg>\n",
              "      </button>\n",
              "      \n",
              "  <style>\n",
              "    .colab-df-container {\n",
              "      display:flex;\n",
              "      flex-wrap:wrap;\n",
              "      gap: 12px;\n",
              "    }\n",
              "\n",
              "    .colab-df-convert {\n",
              "      background-color: #E8F0FE;\n",
              "      border: none;\n",
              "      border-radius: 50%;\n",
              "      cursor: pointer;\n",
              "      display: none;\n",
              "      fill: #1967D2;\n",
              "      height: 32px;\n",
              "      padding: 0 0 0 0;\n",
              "      width: 32px;\n",
              "    }\n",
              "\n",
              "    .colab-df-convert:hover {\n",
              "      background-color: #E2EBFA;\n",
              "      box-shadow: 0px 1px 2px rgba(60, 64, 67, 0.3), 0px 1px 3px 1px rgba(60, 64, 67, 0.15);\n",
              "      fill: #174EA6;\n",
              "    }\n",
              "\n",
              "    [theme=dark] .colab-df-convert {\n",
              "      background-color: #3B4455;\n",
              "      fill: #D2E3FC;\n",
              "    }\n",
              "\n",
              "    [theme=dark] .colab-df-convert:hover {\n",
              "      background-color: #434B5C;\n",
              "      box-shadow: 0px 1px 3px 1px rgba(0, 0, 0, 0.15);\n",
              "      filter: drop-shadow(0px 1px 2px rgba(0, 0, 0, 0.3));\n",
              "      fill: #FFFFFF;\n",
              "    }\n",
              "  </style>\n",
              "\n",
              "      <script>\n",
              "        const buttonEl =\n",
              "          document.querySelector('#df-5b48d7d0-ca5f-484d-a371-d660f221c58f button.colab-df-convert');\n",
              "        buttonEl.style.display =\n",
              "          google.colab.kernel.accessAllowed ? 'block' : 'none';\n",
              "\n",
              "        async function convertToInteractive(key) {\n",
              "          const element = document.querySelector('#df-5b48d7d0-ca5f-484d-a371-d660f221c58f');\n",
              "          const dataTable =\n",
              "            await google.colab.kernel.invokeFunction('convertToInteractive',\n",
              "                                                     [key], {});\n",
              "          if (!dataTable) return;\n",
              "\n",
              "          const docLinkHtml = 'Like what you see? Visit the ' +\n",
              "            '<a target=\"_blank\" href=https://colab.research.google.com/notebooks/data_table.ipynb>data table notebook</a>'\n",
              "            + ' to learn more about interactive tables.';\n",
              "          element.innerHTML = '';\n",
              "          dataTable['output_type'] = 'display_data';\n",
              "          await google.colab.output.renderOutput(dataTable, element);\n",
              "          const docLink = document.createElement('div');\n",
              "          docLink.innerHTML = docLinkHtml;\n",
              "          element.appendChild(docLink);\n",
              "        }\n",
              "      </script>\n",
              "    </div>\n",
              "  </div>\n",
              "  "
            ],
            "text/plain": [
              "   Sepal.Length  Sepal.Width  ...  Species_versicolor  Species_virginica\n",
              "1           5.1          3.5  ...                   0                  0\n",
              "2           4.9          3.0  ...                   0                  0\n",
              "3           4.7          3.2  ...                   0                  0\n",
              "4           4.6          3.1  ...                   0                  0\n",
              "5           5.0          3.6  ...                   0                  0\n",
              "\n",
              "[5 rows x 8 columns]"
            ]
          },
          "metadata": {},
          "execution_count": 17
        }
      ]
    },
    {
      "cell_type": "markdown",
      "metadata": {
        "id": "00mDd_wINln4"
      },
      "source": [
        "## Split Year Month Date into different columns"
      ]
    },
    {
      "cell_type": "code",
      "metadata": {
        "id": "CsJ5RaxJYxrY"
      },
      "source": [
        "df['date1']= datetime.today() "
      ],
      "execution_count": null,
      "outputs": []
    },
    {
      "cell_type": "code",
      "metadata": {
        "id": "q68qAq4FYxrZ",
        "colab": {
          "base_uri": "https://localhost:8080/"
        },
        "outputId": "a0a45190-e200-4609-ff17-0797d1807a16"
      },
      "source": [
        "df.info()"
      ],
      "execution_count": null,
      "outputs": [
        {
          "output_type": "stream",
          "name": "stdout",
          "text": [
            "<class 'pandas.core.frame.DataFrame'>\n",
            "Int64Index: 150 entries, 1 to 150\n",
            "Data columns (total 6 columns):\n",
            " #   Column        Non-Null Count  Dtype         \n",
            "---  ------        --------------  -----         \n",
            " 0   Sepal.Length  150 non-null    float64       \n",
            " 1   Sepal.Width   150 non-null    float64       \n",
            " 2   Petal.Length  150 non-null    float64       \n",
            " 3   Petal.Width   150 non-null    float64       \n",
            " 4   Species       150 non-null    object        \n",
            " 5   date1         150 non-null    datetime64[ns]\n",
            "dtypes: datetime64[ns](1), float64(4), object(1)\n",
            "memory usage: 8.2+ KB\n"
          ]
        }
      ]
    },
    {
      "cell_type": "code",
      "metadata": {
        "id": "hiarRN9CYxra",
        "colab": {
          "base_uri": "https://localhost:8080/",
          "height": 202
        },
        "outputId": "0fedf23c-093c-4974-fbfc-05f6c23c36fe"
      },
      "source": [
        "df['became_member_on_year'] = df.date1.dt.year\n",
        "df['became_member_on_month'] = df.date1.dt.month\n",
        "df['became_member_on_date'] = df.date1.dt.day\n",
        "df.head()\n"
      ],
      "execution_count": null,
      "outputs": [
        {
          "output_type": "execute_result",
          "data": {
            "text/html": [
              "\n",
              "  <div id=\"df-141f4100-0076-44e6-bfda-38a946507b84\">\n",
              "    <div class=\"colab-df-container\">\n",
              "      <div>\n",
              "<style scoped>\n",
              "    .dataframe tbody tr th:only-of-type {\n",
              "        vertical-align: middle;\n",
              "    }\n",
              "\n",
              "    .dataframe tbody tr th {\n",
              "        vertical-align: top;\n",
              "    }\n",
              "\n",
              "    .dataframe thead th {\n",
              "        text-align: right;\n",
              "    }\n",
              "</style>\n",
              "<table border=\"1\" class=\"dataframe\">\n",
              "  <thead>\n",
              "    <tr style=\"text-align: right;\">\n",
              "      <th></th>\n",
              "      <th>Sepal.Length</th>\n",
              "      <th>Sepal.Width</th>\n",
              "      <th>Petal.Length</th>\n",
              "      <th>Petal.Width</th>\n",
              "      <th>Species</th>\n",
              "      <th>date1</th>\n",
              "      <th>became_member_on_year</th>\n",
              "      <th>became_member_on_month</th>\n",
              "      <th>became_member_on_date</th>\n",
              "    </tr>\n",
              "  </thead>\n",
              "  <tbody>\n",
              "    <tr>\n",
              "      <th>1</th>\n",
              "      <td>5.1</td>\n",
              "      <td>3.5</td>\n",
              "      <td>1.4</td>\n",
              "      <td>0.2</td>\n",
              "      <td>setosa</td>\n",
              "      <td>2022-02-02 04:55:10.550415</td>\n",
              "      <td>2022</td>\n",
              "      <td>2</td>\n",
              "      <td>2</td>\n",
              "    </tr>\n",
              "    <tr>\n",
              "      <th>2</th>\n",
              "      <td>4.9</td>\n",
              "      <td>3.0</td>\n",
              "      <td>1.4</td>\n",
              "      <td>0.2</td>\n",
              "      <td>setosa</td>\n",
              "      <td>2022-02-02 04:55:10.550415</td>\n",
              "      <td>2022</td>\n",
              "      <td>2</td>\n",
              "      <td>2</td>\n",
              "    </tr>\n",
              "    <tr>\n",
              "      <th>3</th>\n",
              "      <td>4.7</td>\n",
              "      <td>3.2</td>\n",
              "      <td>1.3</td>\n",
              "      <td>0.2</td>\n",
              "      <td>setosa</td>\n",
              "      <td>2022-02-02 04:55:10.550415</td>\n",
              "      <td>2022</td>\n",
              "      <td>2</td>\n",
              "      <td>2</td>\n",
              "    </tr>\n",
              "    <tr>\n",
              "      <th>4</th>\n",
              "      <td>4.6</td>\n",
              "      <td>3.1</td>\n",
              "      <td>1.5</td>\n",
              "      <td>0.2</td>\n",
              "      <td>setosa</td>\n",
              "      <td>2022-02-02 04:55:10.550415</td>\n",
              "      <td>2022</td>\n",
              "      <td>2</td>\n",
              "      <td>2</td>\n",
              "    </tr>\n",
              "    <tr>\n",
              "      <th>5</th>\n",
              "      <td>5.0</td>\n",
              "      <td>3.6</td>\n",
              "      <td>1.4</td>\n",
              "      <td>0.2</td>\n",
              "      <td>setosa</td>\n",
              "      <td>2022-02-02 04:55:10.550415</td>\n",
              "      <td>2022</td>\n",
              "      <td>2</td>\n",
              "      <td>2</td>\n",
              "    </tr>\n",
              "  </tbody>\n",
              "</table>\n",
              "</div>\n",
              "      <button class=\"colab-df-convert\" onclick=\"convertToInteractive('df-141f4100-0076-44e6-bfda-38a946507b84')\"\n",
              "              title=\"Convert this dataframe to an interactive table.\"\n",
              "              style=\"display:none;\">\n",
              "        \n",
              "  <svg xmlns=\"http://www.w3.org/2000/svg\" height=\"24px\"viewBox=\"0 0 24 24\"\n",
              "       width=\"24px\">\n",
              "    <path d=\"M0 0h24v24H0V0z\" fill=\"none\"/>\n",
              "    <path d=\"M18.56 5.44l.94 2.06.94-2.06 2.06-.94-2.06-.94-.94-2.06-.94 2.06-2.06.94zm-11 1L8.5 8.5l.94-2.06 2.06-.94-2.06-.94L8.5 2.5l-.94 2.06-2.06.94zm10 10l.94 2.06.94-2.06 2.06-.94-2.06-.94-.94-2.06-.94 2.06-2.06.94z\"/><path d=\"M17.41 7.96l-1.37-1.37c-.4-.4-.92-.59-1.43-.59-.52 0-1.04.2-1.43.59L10.3 9.45l-7.72 7.72c-.78.78-.78 2.05 0 2.83L4 21.41c.39.39.9.59 1.41.59.51 0 1.02-.2 1.41-.59l7.78-7.78 2.81-2.81c.8-.78.8-2.07 0-2.86zM5.41 20L4 18.59l7.72-7.72 1.47 1.35L5.41 20z\"/>\n",
              "  </svg>\n",
              "      </button>\n",
              "      \n",
              "  <style>\n",
              "    .colab-df-container {\n",
              "      display:flex;\n",
              "      flex-wrap:wrap;\n",
              "      gap: 12px;\n",
              "    }\n",
              "\n",
              "    .colab-df-convert {\n",
              "      background-color: #E8F0FE;\n",
              "      border: none;\n",
              "      border-radius: 50%;\n",
              "      cursor: pointer;\n",
              "      display: none;\n",
              "      fill: #1967D2;\n",
              "      height: 32px;\n",
              "      padding: 0 0 0 0;\n",
              "      width: 32px;\n",
              "    }\n",
              "\n",
              "    .colab-df-convert:hover {\n",
              "      background-color: #E2EBFA;\n",
              "      box-shadow: 0px 1px 2px rgba(60, 64, 67, 0.3), 0px 1px 3px 1px rgba(60, 64, 67, 0.15);\n",
              "      fill: #174EA6;\n",
              "    }\n",
              "\n",
              "    [theme=dark] .colab-df-convert {\n",
              "      background-color: #3B4455;\n",
              "      fill: #D2E3FC;\n",
              "    }\n",
              "\n",
              "    [theme=dark] .colab-df-convert:hover {\n",
              "      background-color: #434B5C;\n",
              "      box-shadow: 0px 1px 3px 1px rgba(0, 0, 0, 0.15);\n",
              "      filter: drop-shadow(0px 1px 2px rgba(0, 0, 0, 0.3));\n",
              "      fill: #FFFFFF;\n",
              "    }\n",
              "  </style>\n",
              "\n",
              "      <script>\n",
              "        const buttonEl =\n",
              "          document.querySelector('#df-141f4100-0076-44e6-bfda-38a946507b84 button.colab-df-convert');\n",
              "        buttonEl.style.display =\n",
              "          google.colab.kernel.accessAllowed ? 'block' : 'none';\n",
              "\n",
              "        async function convertToInteractive(key) {\n",
              "          const element = document.querySelector('#df-141f4100-0076-44e6-bfda-38a946507b84');\n",
              "          const dataTable =\n",
              "            await google.colab.kernel.invokeFunction('convertToInteractive',\n",
              "                                                     [key], {});\n",
              "          if (!dataTable) return;\n",
              "\n",
              "          const docLinkHtml = 'Like what you see? Visit the ' +\n",
              "            '<a target=\"_blank\" href=https://colab.research.google.com/notebooks/data_table.ipynb>data table notebook</a>'\n",
              "            + ' to learn more about interactive tables.';\n",
              "          element.innerHTML = '';\n",
              "          dataTable['output_type'] = 'display_data';\n",
              "          await google.colab.output.renderOutput(dataTable, element);\n",
              "          const docLink = document.createElement('div');\n",
              "          docLink.innerHTML = docLinkHtml;\n",
              "          element.appendChild(docLink);\n",
              "        }\n",
              "      </script>\n",
              "    </div>\n",
              "  </div>\n",
              "  "
            ],
            "text/plain": [
              "   Sepal.Length  Sepal.Width  ...  became_member_on_month  became_member_on_date\n",
              "1           5.1          3.5  ...                       2                      2\n",
              "2           4.9          3.0  ...                       2                      2\n",
              "3           4.7          3.2  ...                       2                      2\n",
              "4           4.6          3.1  ...                       2                      2\n",
              "5           5.0          3.6  ...                       2                      2\n",
              "\n",
              "[5 rows x 9 columns]"
            ]
          },
          "metadata": {},
          "execution_count": 27
        }
      ]
    },
    {
      "cell_type": "markdown",
      "source": [
        "##  **Pivot and Unpivot table**"
      ],
      "metadata": {
        "id": "oHIj3w6-IAjV"
      }
    },
    {
      "cell_type": "code",
      "source": [
        "# Pivot table Index has to be distinct\n",
        "df = pd.pivot_table(df_original, \n",
        "                        index = [\"month_key\", \"Merchant_Nbr\"], # row headers in the pivot table\n",
        "                        columns = 'Scheme',                    # the column to pivot\n",
        "                        values = 'Total_Intg_fee')\\\n",
        "                      .reset_index()  # flatten row header hierarchy (index)\n",
        "print(df.info())\n",
        " \n",
        "# Flatten column hierarchy\n",
        "df.columns = df.columns.to_series().str.join('_')\n",
        "\n"
      ],
      "metadata": {
        "id": "xpdRtzJFIHuH"
      },
      "execution_count": null,
      "outputs": []
    },
    {
      "cell_type": "markdown",
      "metadata": {
        "id": "oTDToIdhpjqP"
      },
      "source": [
        "## Other Function"
      ]
    },
    {
      "cell_type": "code",
      "metadata": {
        "id": "NvAEYI96pmXn"
      },
      "source": [
        "#Count values in a column\n",
        "aa=\"XXYYYSBAA\"\n",
        "bb=dict(zip(list(aa),[list(aa).count(i) for i in list(aa)]))\n",
        "print(bb)\n",
        "# output:\n",
        "# {'X': 2, 'Y': 3, 'S': 1, 'B': 1, 'A': 2}"
      ],
      "execution_count": null,
      "outputs": []
    },
    {
      "cell_type": "code",
      "metadata": {
        "id": "ZNXvfUAVprnV"
      },
      "source": [
        "#Split Column with delimiter into multiple rows\n",
        "new_df_au = (df_au.set_index([3, 5, 6, 8, 14, 67, 93, 132])  # Set the columns not to be touched as the index,\n",
        "              .apply(lambda x: x.str.split(',').explode())    # Split on comma to get a column of lists, then call explode to explode the list values into their own rows.\n",
        "              .reset_index()                                  # reset the index\n",
        "              .reindex(sorted(new_df_au.columns), axis=1))    # reorder columns\n",
        "\n",
        "#or\n",
        "Split One Column to Two columns\n",
        ">>> df = df[['AB']]\n",
        ">>> df\n",
        "\n",
        "      AB\n",
        "0  A1-B1\n",
        "1  A2-B2\n",
        "\n",
        ">>> df.join(df['AB'].str.split('-', 1, expand=True).rename(columns={0:'A', 1:'B'}))\n",
        "\n",
        "      AB   A   B\n",
        "0  A1-B1  A1  B1\n",
        "1  A2-B2  A2  B2"
      ],
      "execution_count": null,
      "outputs": []
    },
    {
      "cell_type": "code",
      "metadata": {
        "id": "PyRFFSqhpuH1"
      },
      "source": [
        "#Load txt from a folder\n",
        "path = \"/Users/xinran.du/Desktop/AP_Aggregation_Reallocation/data/\"\n",
        "valid_format = [\".txt\"]\n",
        "\n",
        "for f in os.listdir(path):\n",
        "    ext = os.path.splitext(f)[1]\n",
        "    if ext.lower() not in valid_format:\n",
        "        continue\n",
        "    print(\"-------------------------\" + \" File: \" + f + \"-------------------------\")\n",
        "    first_row = pd.read_csv(path+f, sep='|', nrows=1, header=None)\n",
        "    df = pd.read_csv(path+f, sep='|', skiprows=[0], header=None)"
      ],
      "execution_count": null,
      "outputs": []
    },
    {
      "cell_type": "code",
      "metadata": {
        "id": "eR_eGN4WqEnM"
      },
      "source": [
        "#Remove something / Replace\n",
        "seq = [el.replace('\\xa0','') for el in seq]\n",
        "seq"
      ],
      "execution_count": null,
      "outputs": []
    },
    {
      "cell_type": "code",
      "metadata": {
        "id": "PHMXdNyfqK-V"
      },
      "source": [
        "#select rows in a df between two values\n",
        "notnan = df[~df[\"Age\"].isna()]\n",
        "notnan[(notnan[\"Age\"]>=60) & (notnan[\"Age\"]<69)].shape"
      ],
      "execution_count": null,
      "outputs": []
    },
    {
      "cell_type": "code",
      "metadata": {
        "id": "3ECaNnzysqvZ",
        "colab": {
          "base_uri": "https://localhost:8080/",
          "height": 34
        },
        "outputId": "7dbca8f6-9938-4b56-ca4e-0d8a5234b60a"
      },
      "source": [
        "import pandas as pd\n",
        "list=[]\n",
        "biglist=[]\n",
        "list.append(\"value1\")\n",
        "list.append(\"value2\")\n",
        "list.append(\"value3\")\n",
        "biglist.append(list)\n",
        "biglist.append(list)\n",
        "print(biglist)\n",
        "\n",
        "#list to dataframe\n",
        "df1 = pd.DataFrame(biglist, index=['1','2'],  columns=['a', 'b', 'c'])\n",
        "\n",
        "#save as csv file\n",
        "df1.to_csv('df1.csv', index=None)"
      ],
      "execution_count": null,
      "outputs": [
        {
          "output_type": "stream",
          "text": [
            "[['value1', 'value2', 'value3'], ['value1', 'value2', 'value3']]\n"
          ],
          "name": "stdout"
        }
      ]
    },
    {
      "cell_type": "code",
      "metadata": {
        "id": "Gf8wEX_V3ud9",
        "colab": {
          "base_uri": "https://localhost:8080/",
          "height": 323
        },
        "outputId": "d060c03c-4113-49f2-8521-321cc097c161"
      },
      "source": [
        "import pandas as pd\n",
        "import numpy as np\n",
        "\n",
        "\n",
        "#How to find an element's position in an array/list \n",
        "a = [5,10,20,1,3,5,20,5]\n",
        "position = [i for v,i in zip(a, range(len(a))) if v ==5 ]\n",
        "print(\"Position is\", position,\"\\n\")\n",
        "\n",
        "#range\n",
        "print(range(len(a)))\n",
        "print(list(range(len(a))),\"\\n\")\n",
        "# list(range(0,8,2)) #[0, 2, 4, 6]\n",
        "\n",
        "#zip\n",
        "x = [1,2,3]\n",
        "y = ['a','b','c']\n",
        "print(list(zip(x,y))) #[(1, 'a'), (2, 'b'), (3, 'c')]\n",
        "\n",
        "z = (5,6)\n",
        "k,j = z\n",
        "print(k) #5\n",
        "\n",
        "#i for x in range\n",
        "print([x/10 for x in range(10)])\n",
        "# equals to\n",
        "for x in range(10):\n",
        "  print(x/10)"
      ],
      "execution_count": null,
      "outputs": [
        {
          "output_type": "stream",
          "text": [
            "Position is [0, 5, 7] \n",
            "\n",
            "range(0, 8)\n",
            "[0, 1, 2, 3, 4, 5, 6, 7] \n",
            "\n",
            "[(1, 'a'), (2, 'b'), (3, 'c')]\n",
            "5\n",
            "[0.0, 0.1, 0.2, 0.3, 0.4, 0.5, 0.6, 0.7, 0.8, 0.9]\n",
            "0.0\n",
            "0.1\n",
            "0.2\n",
            "0.3\n",
            "0.4\n",
            "0.5\n",
            "0.6\n",
            "0.7\n",
            "0.8\n",
            "0.9\n"
          ],
          "name": "stdout"
        }
      ]
    },
    {
      "cell_type": "code",
      "metadata": {
        "id": "84JqRQR-3Oa8"
      },
      "source": [
        "#If a point is in a Polygon\n",
        "#select free zone \n",
        "import pandas as pd\n",
        "import numpy as np \n",
        "import matplotlib\n",
        "import matplotlib.pyplot as plt\n",
        "\n",
        "from shapely.geometry import Point\n",
        "from shapely.geometry.polygon import Polygon\n",
        "\n",
        "file1 = 'a/My Drive/Intern Projects/Melbourne_Parking/Result/Map visulisation/loc_group_Nov_weekday_k10.csv'\n",
        "file2 = 'a/My Drive/Intern Projects/Melbourne_Parking/Result/Map visulisation/loc_group_Nov_weekend_k3.csv'\n",
        "file3 = 'a/My Drive/Intern Projects/Melbourne_Parking/Result/Map visulisation/loc_group_Nov_k4.csv'\n",
        "\n",
        "data = pd.read_csv(file3)\n",
        "data['FreeTramZone'] = 0\n",
        "\n",
        "freeZone = Polygon([(144.955960,-37.805365),(144.955101,-37.809310),(144.956217,-37.811666),(144.945162,-37.814744),(144.944583,-37.813701),\n",
        "                   ( 144.942931,-37.812557),(144.936546,-37.815092),( 144.937522,-37.816592),(144.943766,-37.814320),(144.945365,-37.818024),\n",
        "                   (144.940052,-37.820026),(144.947969,-37.822940),(144.975447,-37.816517),(144.972915,-37.810541),(144.973462,-37.807667),\n",
        "                   (144.971345,-37.807330),(144.963889,-37.809484),(144.962445,-37.806467)])\n",
        "\n",
        "#For landing dataset \n",
        "\n",
        "lat = data['Latitude'].tolist() # trasfer lat column to a list\n",
        "lng = data['Longitude'].tolist() # trasfer lng column to a list\n",
        "\n",
        "for i in range(len(lat)):\n",
        "    point = Point(lng[i],lat[i]) \n",
        "    if  freeZone.contains(point) == True:\n",
        "      data.iloc[i,-1] = 1\n",
        "      plt.scatter(lng[i],lat[i], color='lightcoral')"
      ],
      "execution_count": null,
      "outputs": []
    },
    {
      "cell_type": "markdown",
      "metadata": {
        "id": "MTRbJR_3kt-e"
      },
      "source": [
        "# Data Visualization"
      ]
    },
    {
      "cell_type": "markdown",
      "metadata": {
        "id": "Kcg3DamRryrj"
      },
      "source": [
        "##Histogram"
      ]
    },
    {
      "cell_type": "code",
      "metadata": {
        "colab": {
          "base_uri": "https://localhost:8080/",
          "height": 737
        },
        "id": "fg2SVa9SuJTH",
        "outputId": "58ae1f18-0274-45e3-e664-0d3912a829d1"
      },
      "source": [
        "#ALL IN ONE - With plotly.graph_objects\n",
        "import plotly.graph_objs as go\n",
        "from plotly.offline import init_notebook_mode, iplot\n",
        "x0 = np.random.randn(500)\n",
        "# Add 1 to shift the mean of the Gaussian distribution\n",
        "x1 = np.random.randn(500) + 1\n",
        "#trace\n",
        "trace = go.Histogram(x=x0,\n",
        "                     name='X0',\n",
        "                     marker=dict(color='rgba(95,158,209,1)',))\n",
        "\n",
        "trace2 = go.Histogram(x=x1,\n",
        "                     name='X1',\n",
        "                     #marker=dict(color='rgba(95,158,209,1)',)\n",
        "                     )\n",
        "#layout\n",
        "layout = go.Layout(title = 'Membership Join Date Distribution',\n",
        "                   xaxis=dict(title='Membership Join Date'),\n",
        "                   #barmode='stack' / 'overlay'\n",
        "                   )\n",
        "\n",
        "#apply trace and layout to Figure()\n",
        "fig = go.Figure(data=go.Data([trace,trace2]), layout=layout)\n",
        "iplot(fig)"
      ],
      "execution_count": null,
      "outputs": [
        {
          "output_type": "stream",
          "text": [
            "/usr/local/lib/python3.7/dist-packages/plotly/graph_objs/_deprecations.py:40: DeprecationWarning:\n",
            "\n",
            "plotly.graph_objs.Data is deprecated.\n",
            "Please replace it with a list or tuple of instances of the following types\n",
            "  - plotly.graph_objs.Scatter\n",
            "  - plotly.graph_objs.Bar\n",
            "  - plotly.graph_objs.Area\n",
            "  - plotly.graph_objs.Histogram\n",
            "  - etc.\n",
            "\n",
            "\n"
          ],
          "name": "stderr"
        },
        {
          "output_type": "display_data",
          "data": {
            "text/html": [
              "<html>\n",
              "<head><meta charset=\"utf-8\" /></head>\n",
              "<body>\n",
              "    <div>\n",
              "            <script src=\"https://cdnjs.cloudflare.com/ajax/libs/mathjax/2.7.5/MathJax.js?config=TeX-AMS-MML_SVG\"></script><script type=\"text/javascript\">if (window.MathJax) {MathJax.Hub.Config({SVG: {font: \"STIX-Web\"}});}</script>\n",
              "                <script type=\"text/javascript\">window.PlotlyConfig = {MathJaxConfig: 'local'};</script>\n",
              "        <script src=\"https://cdn.plot.ly/plotly-latest.min.js\"></script>    \n",
              "            <div id=\"82e63c70-1808-471d-8dae-b1b6e1cd29e7\" class=\"plotly-graph-div\" style=\"height:525px; width:100%;\"></div>\n",
              "            <script type=\"text/javascript\">\n",
              "                \n",
              "                    window.PLOTLYENV=window.PLOTLYENV || {};\n",
              "                    \n",
              "                if (document.getElementById(\"82e63c70-1808-471d-8dae-b1b6e1cd29e7\")) {\n",
              "                    Plotly.newPlot(\n",
              "                        '82e63c70-1808-471d-8dae-b1b6e1cd29e7',\n",
              "                        [{\"marker\": {\"color\": \"rgba(95,158,209,1)\"}, \"name\": \"X0\", \"type\": \"histogram\", \"x\": [0.013157729916917145, 0.409471041194722, -0.658163681145303, 1.8579383600992003, 1.446415974213068, -0.4064836543795226, -1.9990256551678296, -0.1793780399757587, -0.895457042331387, 0.26914393563779515, 0.07218612175130665, -0.2718822655240726, -1.6112646978734786, 0.7068236762691457, -0.5259621032859336, -0.03428814166235547, -0.29663909677783784, 0.734427280734185, -0.5520000737063068, -1.2921706319841932, -0.660906614679006, 0.33686100107755124, 0.3174273021576678, 1.198702858352612, -0.9510373734537738, -0.3097059881198215, 0.7918229444040332, 0.9371166667503584, 0.0012447528700796086, -1.0869483246355796, -0.1392796244136906, -0.1286295670565924, 0.09614332360050819, -0.8144399168503232, -0.7058532737547504, 1.7485167349431656, -0.21756324680229627, 1.6029185328675288, 2.0381698009693925, 1.2619297320669722, -0.6936487688994301, 0.7394381641114236, -0.44537787133605355, -1.5914478753796364, 0.6649734351926737, -1.1482155936811331, 0.027036508832232322, 0.19533949368378845, 0.5810398884187307, 0.6843508963245695, 0.699967875545784, -0.6270730333709719, 0.9919152724839883, -0.18124341053638493, -0.04613189661469401, 0.18864206104079853, 1.1210731326735488, 1.5110078917620622, 0.31691107844883887, -0.46773661506436187, -0.21863410270392566, 0.1077043335531035, 2.201993278386232, 0.9500800738788028, -0.05519791946288624, 0.8046668946130101, 0.9699320448209685, -1.9507535739865434, -0.11174022064916227, 0.2593142927865585, -1.5919726180409055, -1.6278537900076844, -1.5920202535402797, -1.3467442117066062, 1.0126864292685382, -0.4849082632164013, 0.422082379805526, -0.19477328160809018, -0.21378431147740928, -0.39442309778984225, -0.8194540812362243, -2.2074005527011855, -1.3204527433782889, 0.9685859177327206, 0.9325080985245416, 1.0735666519410696, 0.5491654878676334, -1.4753957131105633, -1.132345305740091, 0.4830422642323584, 1.0200342694757036, -1.4024708534025725, -0.984085013175975, 1.2312225955541962, -0.9708693944095345, -1.5824079097714951, -1.6917557442042204, 0.7227221793536112, -1.5789748198463363, 1.2793175173114049, -0.379261426548302, -1.8683615243898983, -1.7541619216761943, -0.6589504122239095, -1.6377224138197992, -1.431290617928392, -0.045148264773530344, -1.7561673640449509, -0.03186185828531073, -0.9039249740999203, 0.6100161557520274, 2.1960746870998777, 1.3759204240869203, -0.10210705011947403, 0.9718964123027958, -0.9152659997963216, 1.2033155999289784, 0.8044124088848076, -0.36278425932826097, 0.3080304658280936, -0.8707458182449417, 1.2232158105078181, -2.870416376180057, 0.088129210910624, -0.5291870504171156, -0.3394200095641363, 0.8313967236195793, -0.03241967734768783, 1.0107274151578294, 0.4656260800978984, 1.132868175082242, -1.9652283411614746, -1.6044913566954397, -1.0012088785963291, 0.9351938774455303, -0.87125381035091, -3.215586884885063, -0.8362823888176645, 0.9613276412062769, -0.35042211766285836, -0.5361287157429353, -2.143685099594585, 1.291167895609788, 2.388012879240474, 0.3994708961090999, 0.06510034184019478, 0.7874206360207154, 0.08124524039962824, 0.7781461994740193, -1.504521869982992, -0.825442254004711, 1.2959637852995682, -0.28632291965529877, -0.16624650072613978, 0.06546401745599734, 2.0439849104682906, 0.4343940914638225, -0.33978446812033597, -1.4057020403427893, 0.05977235650704538, -0.6753627578298321, -0.7367064503132934, -1.9889302508118873, 1.4768530580381667, 0.033255886373200504, -1.2151339502323641, -2.090863524997662, 0.9308619667618514, -0.629674154195742, -1.3074285105768844, -0.3318772056497121, -1.2295795211712772, 1.6814062778804386, -0.7085153788306469, 0.5254126015351434, -1.396672463893262, 0.1609787217697132, -0.510098481469393, -0.8775162975288656, 1.191175147962559, 0.47531805419199274, 0.9335195022016114, -0.028731490179973826, 0.5044984080539212, 0.05666718963444431, 0.9726460441974671, 1.0824481489643234, -0.035814594385145, 2.2165751201980943, 1.51723572648901, -0.6552798211954601, -1.9508812668616238, -1.1237221688103456, 1.1606151998008378, -0.4532002998158349, -0.5653165518438035, 0.13384674404936953, 0.5360118151053612, 0.4798597164653257, -0.03953636433436091, -0.9960143411599264, -0.34979114902310554, 0.5482554207432198, -0.2893340972656693, 0.17262681160080584, 1.2715257272563634, 2.3530112984511273, -0.14038924400288336, -1.339338840282619, -0.8786320727499216, 0.49821619962236846, 1.849087062263998, 0.24545216807320314, 0.028660847166497673, -0.5136867303421149, -0.3361850511742805, -0.43823799584678874, -0.9584066666819919, -1.6503687453389306, -1.3476450669357454, 0.2533247524166013, -0.13921429773780153, -1.046428219127679, 2.031704287355847, -1.1719465055426947, 0.6186299529361307, -1.1725805066604396, 0.5939947723366116, 1.3627656485820272, 0.5282599489744777, 1.5883775688794675, -1.3154107401530324, 1.1304679774435997, -1.930801978522285, 0.42654846009474895, -1.0884110346227611, -0.3824220172536771, -0.4949595018449521, -0.15292783711207358, -0.09172380662763212, 1.5766677683175099, 0.9019846726590478, 0.08053697377430191, 0.7343404460797847, -0.6472009841187204, 1.7910106069862315, 1.1606617018056555, -0.6113925053428547, 1.7209353360690678, -1.8863826458639699, 0.8014340328648352, -1.7336800786480533, 1.6476456538133912, -1.1796025716018832, -1.0800821442765014, -0.027017040620476596, -1.0328781455622347, 0.5802057283413075, 0.09006892626244915, 1.072749132262597, 0.8378695759436023, -0.04833977417939499, 0.12150014898104027, 0.546287621775335, 0.47452387868505025, -0.4200348696434989, 0.6371267191737202, -0.5383053186309656, 1.1236668768867488, 1.031437629179859, -0.34590362635802757, 0.6530804097002242, 0.8845021653613068, 0.7878313500692462, -0.00901151948341824, -0.140591480437431, 0.5379188721150363, -2.6680806663936756, 1.1211991263885284, -1.5274144696059353, 0.9112123774091645, 0.8806383709004486, -1.0193380350462675, -1.7727671498742774, -1.6764928374479118, -0.5280036618944369, -0.7573692245265178, -0.34867723117812277, 0.88100565097778, 0.09559623627603316, 0.374383300695803, -0.2945522613380063, -1.4854856687626108, 0.14736956866056014, -0.12580437973280906, -0.34812978502945446, 1.9016013615799265, 0.38622513823207105, -0.6779373678980772, 2.3528295399920327, -0.07813074179465505, 0.5771588409387273, 2.7405663660781894, 0.5384745946267148, 0.4522272031594091, 1.2368678962166912, -0.9093189675024153, -0.40374457019099197, 1.7947049279642528, 0.3220138486292169, -1.0592118159765984, -0.694786583897956, 0.5672161782909653, -0.7391854916649807, -0.3075308933400408, -0.6119353494972167, -1.363566180962542, -0.1816736013994735, -0.24598918640844802, -0.9380261746962476, 0.10451917050578012, -0.9116940724608101, -0.18354824718203444, -1.6763828729426338, 0.4770318170662737, 0.35377355344399064, -0.9580843326958565, -0.8260244596882007, -0.32197888564857474, 0.37236821271628273, -0.5535301024625489, 0.1982405819385662, 0.951660930238376, -2.6249277824245696, -0.8106677963311333, -0.3550747995813485, -0.06220729675138149, -0.42964448718335335, 0.05873589505286001, -0.19010492982285784, -1.849811379770654, -0.9528320484336065, -0.3732219039813763, 0.8143830394686098, 1.4033088145960877, 0.32877727850027233, 1.2286120500153324, 2.120940561873276, 0.2595397060814886, 0.7228757968193839, 0.6595875812898953, 0.20883646948176357, -2.220712759828532, -1.4379714010949864, -1.2131502856462941, 0.7657065676689383, 0.23810955652508412, 0.5255452305507251, 0.9716386989909371, 0.15533661050771091, -0.6935763419593904, -0.5240605589249946, -1.6766835955442667, 0.8052100079061535, -0.19345832041564712, 1.3532093506584528, -0.4215124018762735, -0.8676524226309417, -0.23935977232698083, -0.47697450790779977, -0.6614572459702057, -0.694030859263005, 0.20939886649792927, -0.07901985357557138, 1.5838046942589352, 0.8018064889338653, 0.5878294723454668, 0.26089755128005243, -0.5285294564597087, 0.2818301766228181, -0.6967504285110554, 0.43904041229485286, 0.647106332233734, 1.090319147761378, 0.30181654558770116, 0.1953865974971162, -0.3595319948832307, 1.9897653510529494, 0.15330199910560527, -0.3304869062264782, 0.38369765397170563, -0.44779672139986293, -2.3005834962591165, -0.7487558617788006, 0.7186139188399562, -1.318058506916452, 1.0570658767901142, -3.143026807529486, 1.2794939474593847, -1.4100838647217608, 0.0932377731535789, -0.7786190617900216, 1.215026533307776, 0.6167540919366364, 0.3245550198820255, -1.1742326182238023, 0.3432456959350106, -0.24370553707038917, 0.613870471757847, 1.1051935051061275, -1.9290086440413994, 1.0135398734748897, -0.5317792097304856, 0.8210976097246773, 1.069636191556229, 0.08509279914749684, -1.5940834408411932, 0.4456628559122324, 0.5759594914674825, 0.30106033017245265, -0.5550102662553337, -0.7697523955331274, -0.07234268742412761, -0.48807030394954154, 1.0575439014891364, -0.3733865185652288, -0.9895109026754491, 0.5370086444549442, -0.33597782254114716, -0.18137996573480242, 0.7395813725838881, 0.9365187127863099, -0.19573003367770053, 0.7042266861472687, 0.6862525702577092, -0.20590695413671273, -0.1759803567944535, 0.5387034639378947, -0.6775155050281284, 1.94440061846371, 0.14509719107994715, 0.7455706947762232, -1.2336587411866768, 0.46057431364832957, 1.501215477364568, 0.4864075875359571, -0.7414152688890171, -0.3002236467733849, 0.1157016902451789, 0.8699478615649414, 1.337092984527095, -0.9548137179574242, -1.0347239050343426, -2.2365849397815927, 1.2063492269893867, -1.3515241717930038, 1.314941974207008, 0.623092431005304, 0.03195608509573605, 2.2953763098315845, 0.7081649357297475, 0.677755464634055, -0.26219488756040915, -0.7771449369220897, -0.10989354653223937, -0.2783819373952457, -0.09981515405053892, 0.038861560556958885, -0.4064127364132607, 1.8906179899701918, -0.812679029052763, 1.3986964127498536, -1.3869558167398248, -3.652670607709651, 1.0586867669342102, 0.8348506787854421, -0.27541508095489386, 1.0631592648075823, -1.0100397476998382, -0.826584036541991, -0.7498354019504543, -0.013708546975189872, 0.543833465477479, 0.03239654364554805, 0.2383627346076176, -0.834878926905756, -0.5904373305644087, 0.9652295619256682, 1.139066771658689, 0.638906413979289, 1.28756713327446, -0.9980079717418944, 0.44458566561661894, -0.26995927730919694, -0.08973596192114178, -0.43478909896896833, 1.1022127643792985, -1.1258270119278577, -1.4813393676942004, 1.5059692703092151]}, {\"name\": \"X1\", \"type\": \"histogram\", \"x\": [-0.08684610292832606, 1.2544260934630804, 1.1401794573052046, 1.3725166431724125, 0.088720327536838, 0.5074581520933408, 1.7054279747794905, 2.2858233313744707, 0.15664654263408095, 1.137053033961658, 1.1905646238300622, 1.193081142181389, 1.1158525927677954, 2.7009512557767303, 0.7441431171150672, 1.9790787158612453, 1.3508394570776183, 1.6542305259540517, 2.6121459023981894, 0.9716392694771331, 2.148670315175319, 1.3887951185266871, 0.6096924923847062, 1.1282875960002072, 3.2229981865045345, 1.4232897271141285, 2.492724360311649, 0.9600562165746195, 0.21433689512517995, 1.5365802238655908, 2.0197020699873462, 0.9410399015095716, 0.47112598082554946, 0.3344559268722095, 0.1946740411987059, -0.5467770839083728, -0.5576429599041515, 1.9253529623378935, 3.9143757512808097, 0.4825727768108461, -0.6193841739270669, 0.7177007565478655, -0.7561297853244608, -0.027120490633348204, 2.930628442202108, 0.5288317942676142, -0.19498368930635213, 0.018642134124104426, -0.33440965814469314, 0.3133950403628092, 0.48136662971277966, 1.189014561634413, -0.13395645306011472, 2.3292152996168145, 0.34263856583073227, 0.7277621151186069, 1.5238094042795636, 1.7887572998382675, 1.621978140076453, 2.9795673912357445, 1.977448482402137, 0.011076748314676754, 1.172008659796036, -0.5252430033970683, 1.0253457626933304, -0.8490819417365836, 0.3976901475033493, 0.10276409809475828, 2.1370650476730617, 1.0516026875591618, -0.10929681989761542, 1.0672743888884517, 0.24038873928653715, 0.29840141277048293, 0.971358509294505, -0.11654906325454562, 0.8114148752099125, 0.02926704850026285, 1.4329362426890078, 1.116671174158824, 0.8395771619676027, 1.1734740699717492, 0.4175237044454194, 0.3203768497924655, -0.6755902007162837, 2.1897584942833452, -0.4311545908116714, 1.1214492928963238, 1.3973110388791539, 0.8650703208953561, 1.4075261462813682, 1.9966731558112891, -0.08142984112215812, 1.5969069614208493, 0.3268822303186233, 3.374656179877936, 0.9096983917738328, -0.11489948750979462, 0.5929414433615006, 0.7808670631741566, -1.9391271638990575, 0.33876676087787616, 1.116392028278496, -0.1612347388257409, -0.3230790503154253, 1.2087381566336297, 2.5400753292777623, -0.4402698286996085, 0.923034038995764, -1.489691708744345, 1.171218152160055, 1.8484138387737232, 2.6144160690090574, 2.281660101146403, 1.8188999739111027, 1.0186677632651921, 0.36779571694522173, 1.6982221946851022, -0.4819152063228902, 0.14123742819562646, 1.1935426721347602, 0.2989925729900995, 0.5653472064917462, 0.8598503262360986, 2.943300649446126, 1.153249164930964, 1.1916643543211383, 0.32766424406353034, 2.654770163004816, 1.4988821616990171, 0.9043362940171653, 1.4618294028517254, -0.18904383820719972, 0.7379751961420895, 0.7900053491864016, 1.6725993342508163, 0.8870444873407705, 0.43187731359549686, 0.745260885674327, 1.1716349360564964, 2.8311563237851907, 0.9345655055147002, -0.09633549695713839, 1.8494252708086678, 3.2911634879583382, 1.1082249540606313, 0.39800346368743256, 1.3077795506584209, 2.433782649857407, -1.1144470044416144, 1.8901944056064157, 2.2592789237005557, 3.525041019047487, 1.65902726248328, 2.1671410860712195, -0.9695075164451596, 0.5384284810831499, -0.3518105041467725, 0.4506739329185593, 2.587211967608838, -0.035180860771025335, 0.8977395800374788, 1.0064778247871145, -0.3940885416753839, 1.2293428387141874, -0.7687120902027675, 1.9945231164557646, 2.74393520505994, 0.4676897374422756, 1.4542302745017266, -0.4794078810529856, 2.1109279187376653, 0.1997212602705658, -0.1252484903313118, 1.705515672051188, 0.812402021407964, 1.9540214802669589, 1.8905932713594322, 2.735690231080173, 0.6380576224776002, 1.8039306986206065, 1.6466814855622838, 1.5713219635571232, -1.1378332361284667, 1.124744534741188, 1.0336019953706368, -0.15283673525660735, 4.092699816208762, 0.29816403223038335, 0.5500268451721483, 3.0470666652818665, 0.8660905511997992, 0.7347581209625954, 1.9165392006125506, -0.6157025759643837, 2.334874928484206, -0.8737751595588013, 1.894503263434261, 1.0298881630095496, 1.260700899000176, 1.0930511149441813, 1.3851470447422454, 1.212498154410023, 2.6053281750811057, 0.7857539092555729, 0.7724156904136625, 1.5627240686605754, 3.0738503558243115, 1.0800271986617602, 0.3942279224460067, 0.3348703048284595, 0.874058986941392, 1.9078552849149344, 0.576541670801235, 0.34274050801052314, 0.9507688622271553, 1.6525407267562775, -0.42635546736658503, 0.7066071334951355, -0.19288039895293863, 1.357542875523981, 0.3218572030218029, 0.3307689320822925, 0.8914381249174348, 2.320702333150164, 0.36019193791422843, 1.4114899115770174, -0.028956261128058935, 1.6865210837983629, 0.8246206104739799, 1.5320454070193068, -0.6157341170865753, 4.047391750851707, -0.417353398801908, -0.7089971568314406, 0.015115419561231636, 1.8230886761624316, 2.4310451764426464, 0.7762362856093366, 0.9849758515229566, 0.3497457983184138, -0.5648295636529717, 1.1349983998382167, 0.43790118986062565, 1.0513938662651097, 2.0928755601031024, 1.9956902853637652, 0.6713652717666856, 0.5656290264460233, 0.4329170318535036, -1.302505726861002, 2.5653055711316526, 0.6531136595834974, 0.6764335763063357, 1.0232987759906513, 1.7394419600655127, 0.4940407502081181, -0.4948540058970725, 1.1064977863222205, -0.09566943632343627, 0.5182086760003531, 0.5627538105642611, -0.14838965488148448, 3.216511884488064, 1.2943580530817684, 0.23434194479015613, 1.7790742310390573, -1.5654546796102293, 0.8111737801837002, 1.3658739404000222, 0.8959347888094746, 0.969616754563412, 0.6422331645303765, 0.5501316042370026, 0.4684311272790076, 0.3328414597461763, -0.8820009205150532, 0.8378527043340543, 1.436518478293416, 2.3797396478429578, 1.4329276294016648, 2.840920045038006, -0.5169701208520299, 1.657868029360159, 1.9472933644040744, 2.223023062603283, 0.31379537940576974, 1.423059292762646, -0.1045656794384715, 1.8722030473878428, 0.5563754696681426, 1.256380387137895, 0.34723011434033135, 2.6779298367279747, 1.2024199370465318, -0.4871745429900711, 2.270444737318856, -0.1664155878930238, 0.3914200938059902, 1.6293646488275182, -0.857234503955034, 0.7849042062133882, 0.04186269309378987, 1.0262429145394514, 1.467274539257708, 1.6539222136314664, 2.572704670588082, 0.2669906754300295, 1.8060661966517855, 0.6833567598950461, 1.2617990598537336, 0.22100235113797873, 0.10934418533995904, 0.28352282860585043, 0.1370001896158748, 0.7207628540593616, 1.4711174829826579, 0.5248975969792028, 0.9523256130460519, 1.2915258984726117, 0.5364018260630159, 1.0574777771022108, 0.7371211991570019, 1.3718742743492762, 3.1749682912542103, 0.16642430786318785, 1.6291293141697722, 0.16647332670974613, 1.498211110789734, -0.45133390573312515, 0.7253831342587211, 0.8427513819593452, 1.2796862863411949, 1.75009182808621, 1.046074963544926, -0.4214683964593253, 2.554256439835326, 1.2379991927139669, 0.7061217532965982, 1.0179700411732773, 1.0073490019669498, 0.10973204003697734, 3.033606510328333, 0.07571759921475973, 0.84451527741364, 0.9164931385533499, -0.34594436011523055, -0.7306465492910525, 3.5540282709477182, -0.08983684306458484, -0.1836982466589776, 1.8742817776859966, -1.444500364410028, 0.8650776439160843, 0.8476141236673227, -0.5364936403060268, 2.458575196789443, 0.794701494301755, 1.1895926481905208, 0.508230702472978, -0.6446959749063506, -0.4777632899864628, 3.384261717217237, 1.0686614314251912, 0.5106464278323349, 2.643547786760071, 1.9890222700805238, 1.1722299403287892, 0.9220766957111906, 1.303732904375472, 2.1180876911432502, 1.4018291773597367, 0.3261240782773691, 1.7898376958459143, -0.7334741468167225, 0.3789315065004215, -0.13262561970376852, 0.2141508892987818, 1.4481595608988909, 1.1548568222265905, 2.0729973422520946, 2.0333510571503854, 2.0011481978131247, 2.3615210249489347, 0.6701544178600086, -0.7018821112546658, 1.4904098341859753, 0.7867457863045328, -0.8630763642078614, 0.327836640682135, 1.691319580047265, 0.42024130138306226, 1.6925444382335355, 0.4152547956104483, 2.1059938074555564, 1.2523071108435353, 1.5154464240497676, 2.0853577459454202, 0.5828342829031974, 0.07148789588232451, 1.8633353798823213, 0.7563634194571054, 0.25871509331209264, 0.5107377132885208, 0.5127355652025265, 1.0560415333062148, 0.9875890316716547, 0.8475491505444438, 2.06286687669892, 2.771827075079914, 1.2550545508371769, 1.6016783741862972, 0.12086861875905941, 0.33895925525608783, 0.17202853215829894, -0.2889859908615451, 0.7927325408390536, 1.4212479408195553, 1.4648549843517604, 1.1663795420379814, 1.1435934564295032, 1.1480825704614133, 1.9007875796333369, 0.283244162481293, 1.7145033295842467, 0.2102687835947492, -1.231448771010597, 1.024425056002629, 1.4804917666156663, -0.2662555380627134, 2.809360641641085, 1.8119822518349338, 1.2348812049718443, 0.7413950217837653, 0.3446806154026718, 1.936792040977463, 2.212467877415877, 0.9817991414588789, 2.0913279326153336, 1.1670462599965643, 0.32659147970979363, 1.6328522184219547, 1.4893754150743501, 0.5360616710365665, 1.0393383524669249, 0.4661933174647829, 2.374861292892784, 0.63701331535637, 0.4690803699653868, 1.1760088952568928, -0.07527250349837389, 1.861760329155453, 1.2014743202126248, 2.4107713928030625, 0.033727448031152685, 0.8344341698381124, 0.07757256713450167, 0.7635456995606812, 0.8241753024479868, 2.1036837340408603, 0.9987987442588319, -0.21833153225359214, 1.8389481223388686, 1.9292810486623488, -0.301576128754647, 0.3974686516928996, 1.2854917278497038, 0.39019601013715444, 1.7147597289410779, 0.7282170354640114, 1.527203976665684, -0.4244506444487881, 1.891620466330445, 0.37283962088408307, 0.1550012812883047, 3.102031500325068, 1.1680768755364814, 4.057324212247698, 1.4269670934523622, 1.157705612141965, 1.157725754108596, -0.5145472462477896, 1.9328415917815198, 0.8728558890895277, 0.8868849429354263, -0.1518694109706158, 0.18916902742342767, 1.0117389189662906, 1.6155152986714034, -0.4038656122333253, 1.0761322796727355, 2.7035448801425956, -1.2685176962647988, -0.07235824971609617, 0.73451369460498, 0.6734950993129207, 1.1857554488920652, 1.5761033113637293, 0.6552399481342831, 0.3449503196646557]}],\n",
              "                        {\"barmode\": \"stack\", \"template\": {\"data\": {\"bar\": [{\"error_x\": {\"color\": \"#2a3f5f\"}, \"error_y\": {\"color\": \"#2a3f5f\"}, \"marker\": {\"line\": {\"color\": \"#E5ECF6\", \"width\": 0.5}}, \"type\": \"bar\"}], \"barpolar\": [{\"marker\": {\"line\": {\"color\": \"#E5ECF6\", \"width\": 0.5}}, \"type\": \"barpolar\"}], \"carpet\": [{\"aaxis\": {\"endlinecolor\": \"#2a3f5f\", \"gridcolor\": \"white\", \"linecolor\": \"white\", \"minorgridcolor\": \"white\", \"startlinecolor\": \"#2a3f5f\"}, \"baxis\": {\"endlinecolor\": \"#2a3f5f\", \"gridcolor\": \"white\", \"linecolor\": \"white\", \"minorgridcolor\": \"white\", \"startlinecolor\": \"#2a3f5f\"}, \"type\": \"carpet\"}], \"choropleth\": [{\"colorbar\": {\"outlinewidth\": 0, \"ticks\": \"\"}, \"type\": \"choropleth\"}], \"contour\": [{\"colorbar\": {\"outlinewidth\": 0, \"ticks\": \"\"}, \"colorscale\": [[0.0, \"#0d0887\"], [0.1111111111111111, \"#46039f\"], [0.2222222222222222, \"#7201a8\"], [0.3333333333333333, \"#9c179e\"], [0.4444444444444444, \"#bd3786\"], [0.5555555555555556, \"#d8576b\"], [0.6666666666666666, \"#ed7953\"], [0.7777777777777778, \"#fb9f3a\"], [0.8888888888888888, \"#fdca26\"], [1.0, \"#f0f921\"]], \"type\": \"contour\"}], \"contourcarpet\": [{\"colorbar\": {\"outlinewidth\": 0, \"ticks\": \"\"}, \"type\": \"contourcarpet\"}], \"heatmap\": [{\"colorbar\": {\"outlinewidth\": 0, \"ticks\": \"\"}, \"colorscale\": [[0.0, \"#0d0887\"], [0.1111111111111111, \"#46039f\"], [0.2222222222222222, \"#7201a8\"], [0.3333333333333333, \"#9c179e\"], [0.4444444444444444, \"#bd3786\"], [0.5555555555555556, \"#d8576b\"], [0.6666666666666666, \"#ed7953\"], [0.7777777777777778, \"#fb9f3a\"], [0.8888888888888888, \"#fdca26\"], [1.0, \"#f0f921\"]], \"type\": \"heatmap\"}], \"heatmapgl\": [{\"colorbar\": {\"outlinewidth\": 0, \"ticks\": \"\"}, \"colorscale\": [[0.0, \"#0d0887\"], [0.1111111111111111, \"#46039f\"], [0.2222222222222222, \"#7201a8\"], [0.3333333333333333, \"#9c179e\"], [0.4444444444444444, \"#bd3786\"], [0.5555555555555556, \"#d8576b\"], [0.6666666666666666, \"#ed7953\"], [0.7777777777777778, \"#fb9f3a\"], [0.8888888888888888, \"#fdca26\"], [1.0, \"#f0f921\"]], \"type\": \"heatmapgl\"}], \"histogram\": [{\"marker\": {\"colorbar\": {\"outlinewidth\": 0, \"ticks\": \"\"}}, \"type\": \"histogram\"}], \"histogram2d\": [{\"colorbar\": {\"outlinewidth\": 0, \"ticks\": \"\"}, \"colorscale\": [[0.0, \"#0d0887\"], [0.1111111111111111, \"#46039f\"], [0.2222222222222222, \"#7201a8\"], [0.3333333333333333, \"#9c179e\"], [0.4444444444444444, \"#bd3786\"], [0.5555555555555556, \"#d8576b\"], [0.6666666666666666, \"#ed7953\"], [0.7777777777777778, \"#fb9f3a\"], [0.8888888888888888, \"#fdca26\"], [1.0, \"#f0f921\"]], \"type\": \"histogram2d\"}], \"histogram2dcontour\": [{\"colorbar\": {\"outlinewidth\": 0, \"ticks\": \"\"}, \"colorscale\": [[0.0, \"#0d0887\"], [0.1111111111111111, \"#46039f\"], [0.2222222222222222, \"#7201a8\"], [0.3333333333333333, \"#9c179e\"], [0.4444444444444444, \"#bd3786\"], [0.5555555555555556, \"#d8576b\"], [0.6666666666666666, \"#ed7953\"], [0.7777777777777778, \"#fb9f3a\"], [0.8888888888888888, \"#fdca26\"], [1.0, \"#f0f921\"]], \"type\": \"histogram2dcontour\"}], \"mesh3d\": [{\"colorbar\": {\"outlinewidth\": 0, \"ticks\": \"\"}, \"type\": \"mesh3d\"}], \"parcoords\": [{\"line\": {\"colorbar\": {\"outlinewidth\": 0, \"ticks\": \"\"}}, \"type\": \"parcoords\"}], \"pie\": [{\"automargin\": true, \"type\": \"pie\"}], \"scatter\": [{\"marker\": {\"colorbar\": {\"outlinewidth\": 0, \"ticks\": \"\"}}, \"type\": \"scatter\"}], \"scatter3d\": [{\"line\": {\"colorbar\": {\"outlinewidth\": 0, \"ticks\": \"\"}}, \"marker\": {\"colorbar\": {\"outlinewidth\": 0, \"ticks\": \"\"}}, \"type\": \"scatter3d\"}], \"scattercarpet\": [{\"marker\": {\"colorbar\": {\"outlinewidth\": 0, \"ticks\": \"\"}}, \"type\": \"scattercarpet\"}], \"scattergeo\": [{\"marker\": {\"colorbar\": {\"outlinewidth\": 0, \"ticks\": \"\"}}, \"type\": \"scattergeo\"}], \"scattergl\": [{\"marker\": {\"colorbar\": {\"outlinewidth\": 0, \"ticks\": \"\"}}, \"type\": \"scattergl\"}], \"scattermapbox\": [{\"marker\": {\"colorbar\": {\"outlinewidth\": 0, \"ticks\": \"\"}}, \"type\": \"scattermapbox\"}], \"scatterpolar\": [{\"marker\": {\"colorbar\": {\"outlinewidth\": 0, \"ticks\": \"\"}}, \"type\": \"scatterpolar\"}], \"scatterpolargl\": [{\"marker\": {\"colorbar\": {\"outlinewidth\": 0, \"ticks\": \"\"}}, \"type\": \"scatterpolargl\"}], \"scatterternary\": [{\"marker\": {\"colorbar\": {\"outlinewidth\": 0, \"ticks\": \"\"}}, \"type\": \"scatterternary\"}], \"surface\": [{\"colorbar\": {\"outlinewidth\": 0, \"ticks\": \"\"}, \"colorscale\": [[0.0, \"#0d0887\"], [0.1111111111111111, \"#46039f\"], [0.2222222222222222, \"#7201a8\"], [0.3333333333333333, \"#9c179e\"], [0.4444444444444444, \"#bd3786\"], [0.5555555555555556, \"#d8576b\"], [0.6666666666666666, \"#ed7953\"], [0.7777777777777778, \"#fb9f3a\"], [0.8888888888888888, \"#fdca26\"], [1.0, \"#f0f921\"]], \"type\": \"surface\"}], \"table\": [{\"cells\": {\"fill\": {\"color\": \"#EBF0F8\"}, \"line\": {\"color\": \"white\"}}, \"header\": {\"fill\": {\"color\": \"#C8D4E3\"}, \"line\": {\"color\": \"white\"}}, \"type\": \"table\"}]}, \"layout\": {\"annotationdefaults\": {\"arrowcolor\": \"#2a3f5f\", \"arrowhead\": 0, \"arrowwidth\": 1}, \"coloraxis\": {\"colorbar\": {\"outlinewidth\": 0, \"ticks\": \"\"}}, \"colorscale\": {\"diverging\": [[0, \"#8e0152\"], [0.1, \"#c51b7d\"], [0.2, \"#de77ae\"], [0.3, \"#f1b6da\"], [0.4, \"#fde0ef\"], [0.5, \"#f7f7f7\"], [0.6, \"#e6f5d0\"], [0.7, \"#b8e186\"], [0.8, \"#7fbc41\"], [0.9, \"#4d9221\"], [1, \"#276419\"]], \"sequential\": [[0.0, \"#0d0887\"], [0.1111111111111111, \"#46039f\"], [0.2222222222222222, \"#7201a8\"], [0.3333333333333333, \"#9c179e\"], [0.4444444444444444, \"#bd3786\"], [0.5555555555555556, \"#d8576b\"], [0.6666666666666666, \"#ed7953\"], [0.7777777777777778, \"#fb9f3a\"], [0.8888888888888888, \"#fdca26\"], [1.0, \"#f0f921\"]], \"sequentialminus\": [[0.0, \"#0d0887\"], [0.1111111111111111, \"#46039f\"], [0.2222222222222222, \"#7201a8\"], [0.3333333333333333, \"#9c179e\"], [0.4444444444444444, \"#bd3786\"], [0.5555555555555556, \"#d8576b\"], [0.6666666666666666, \"#ed7953\"], [0.7777777777777778, \"#fb9f3a\"], [0.8888888888888888, \"#fdca26\"], [1.0, \"#f0f921\"]]}, \"colorway\": [\"#636efa\", \"#EF553B\", \"#00cc96\", \"#ab63fa\", \"#FFA15A\", \"#19d3f3\", \"#FF6692\", \"#B6E880\", \"#FF97FF\", \"#FECB52\"], \"font\": {\"color\": \"#2a3f5f\"}, \"geo\": {\"bgcolor\": \"white\", \"lakecolor\": \"white\", \"landcolor\": \"#E5ECF6\", \"showlakes\": true, \"showland\": true, \"subunitcolor\": \"white\"}, \"hoverlabel\": {\"align\": \"left\"}, \"hovermode\": \"closest\", \"mapbox\": {\"style\": \"light\"}, \"paper_bgcolor\": \"white\", \"plot_bgcolor\": \"#E5ECF6\", \"polar\": {\"angularaxis\": {\"gridcolor\": \"white\", \"linecolor\": \"white\", \"ticks\": \"\"}, \"bgcolor\": \"#E5ECF6\", \"radialaxis\": {\"gridcolor\": \"white\", \"linecolor\": \"white\", \"ticks\": \"\"}}, \"scene\": {\"xaxis\": {\"backgroundcolor\": \"#E5ECF6\", \"gridcolor\": \"white\", \"gridwidth\": 2, \"linecolor\": \"white\", \"showbackground\": true, \"ticks\": \"\", \"zerolinecolor\": \"white\"}, \"yaxis\": {\"backgroundcolor\": \"#E5ECF6\", \"gridcolor\": \"white\", \"gridwidth\": 2, \"linecolor\": \"white\", \"showbackground\": true, \"ticks\": \"\", \"zerolinecolor\": \"white\"}, \"zaxis\": {\"backgroundcolor\": \"#E5ECF6\", \"gridcolor\": \"white\", \"gridwidth\": 2, \"linecolor\": \"white\", \"showbackground\": true, \"ticks\": \"\", \"zerolinecolor\": \"white\"}}, \"shapedefaults\": {\"line\": {\"color\": \"#2a3f5f\"}}, \"ternary\": {\"aaxis\": {\"gridcolor\": \"white\", \"linecolor\": \"white\", \"ticks\": \"\"}, \"baxis\": {\"gridcolor\": \"white\", \"linecolor\": \"white\", \"ticks\": \"\"}, \"bgcolor\": \"#E5ECF6\", \"caxis\": {\"gridcolor\": \"white\", \"linecolor\": \"white\", \"ticks\": \"\"}}, \"title\": {\"x\": 0.05}, \"xaxis\": {\"automargin\": true, \"gridcolor\": \"white\", \"linecolor\": \"white\", \"ticks\": \"\", \"title\": {\"standoff\": 15}, \"zerolinecolor\": \"white\", \"zerolinewidth\": 2}, \"yaxis\": {\"automargin\": true, \"gridcolor\": \"white\", \"linecolor\": \"white\", \"ticks\": \"\", \"title\": {\"standoff\": 15}, \"zerolinecolor\": \"white\", \"zerolinewidth\": 2}}}, \"title\": {\"text\": \"Membership Join Date Distribution\"}, \"xaxis\": {\"title\": {\"text\": \"Membership Join Date\"}}},\n",
              "                        {\"responsive\": true}\n",
              "                    ).then(function(){\n",
              "                            \n",
              "var gd = document.getElementById('82e63c70-1808-471d-8dae-b1b6e1cd29e7');\n",
              "var x = new MutationObserver(function (mutations, observer) {{\n",
              "        var display = window.getComputedStyle(gd).display;\n",
              "        if (!display || display === 'none') {{\n",
              "            console.log([gd, 'removed!']);\n",
              "            Plotly.purge(gd);\n",
              "            observer.disconnect();\n",
              "        }}\n",
              "}});\n",
              "\n",
              "// Listen for the removal of the full notebook cells\n",
              "var notebookContainer = gd.closest('#notebook-container');\n",
              "if (notebookContainer) {{\n",
              "    x.observe(notebookContainer, {childList: true});\n",
              "}}\n",
              "\n",
              "// Listen for the clearing of the current output cell\n",
              "var outputEl = gd.closest('.output');\n",
              "if (outputEl) {{\n",
              "    x.observe(outputEl, {childList: true});\n",
              "}}\n",
              "\n",
              "                        })\n",
              "                };\n",
              "                \n",
              "            </script>\n",
              "        </div>\n",
              "</body>\n",
              "</html>"
            ]
          },
          "metadata": {
            "tags": []
          }
        }
      ]
    },
    {
      "cell_type": "code",
      "metadata": {
        "id": "JpN5Ze8-8C48",
        "colab": {
          "base_uri": "https://localhost:8080/",
          "height": 542
        },
        "outputId": "061faa24-ed28-4367-b677-81d8008be20a"
      },
      "source": [
        "import plotly.graph_objects as go\n",
        "\n",
        "x = ['Product A', 'Product B', 'Product C']\n",
        "y = [20, 14, 23]\n",
        "\n",
        "# Use the hovertext kw argument for hover text\n",
        "trace = go.Bar(x=x, y=y,\n",
        "               hovertext=['27% market share', '24% market share', '19% market share'],\n",
        "               name='X0',\n",
        "               marker_color='rgb(158,202,225)', \n",
        "               marker_line_color='rgb(8,48,107)',\n",
        "               marker_line_width=1.5, opacity=0.6)\n",
        "\n",
        "layout = go.Layout(title = 'January 2013 Sales Report',\n",
        "                   xaxis=dict(title='Product Type'),\n",
        "                   #barmode='stack' / 'overlay'\n",
        "                   )\n",
        "fig = go.Figure(data=[trace], layout=layout)\n",
        "\n",
        "fig.show()"
      ],
      "execution_count": null,
      "outputs": [
        {
          "output_type": "display_data",
          "data": {
            "text/html": [
              "<html>\n",
              "<head><meta charset=\"utf-8\" /></head>\n",
              "<body>\n",
              "    <div>\n",
              "            <script src=\"https://cdnjs.cloudflare.com/ajax/libs/mathjax/2.7.5/MathJax.js?config=TeX-AMS-MML_SVG\"></script><script type=\"text/javascript\">if (window.MathJax) {MathJax.Hub.Config({SVG: {font: \"STIX-Web\"}});}</script>\n",
              "                <script type=\"text/javascript\">window.PlotlyConfig = {MathJaxConfig: 'local'};</script>\n",
              "        <script src=\"https://cdn.plot.ly/plotly-latest.min.js\"></script>    \n",
              "            <div id=\"d12921c9-f939-4f95-b8d3-72077c79d0e0\" class=\"plotly-graph-div\" style=\"height:525px; width:100%;\"></div>\n",
              "            <script type=\"text/javascript\">\n",
              "                \n",
              "                    window.PLOTLYENV=window.PLOTLYENV || {};\n",
              "                    \n",
              "                if (document.getElementById(\"d12921c9-f939-4f95-b8d3-72077c79d0e0\")) {\n",
              "                    Plotly.newPlot(\n",
              "                        'd12921c9-f939-4f95-b8d3-72077c79d0e0',\n",
              "                        [{\"hovertext\": [\"27% market share\", \"24% market share\", \"19% market share\"], \"marker\": {\"color\": \"rgb(158,202,225)\", \"line\": {\"color\": \"rgb(8,48,107)\", \"width\": 1.5}}, \"name\": \"X0\", \"opacity\": 0.6, \"type\": \"bar\", \"x\": [\"Product A\", \"Product B\", \"Product C\"], \"y\": [20, 14, 23]}],\n",
              "                        {\"template\": {\"data\": {\"bar\": [{\"error_x\": {\"color\": \"#2a3f5f\"}, \"error_y\": {\"color\": \"#2a3f5f\"}, \"marker\": {\"line\": {\"color\": \"#E5ECF6\", \"width\": 0.5}}, \"type\": \"bar\"}], \"barpolar\": [{\"marker\": {\"line\": {\"color\": \"#E5ECF6\", \"width\": 0.5}}, \"type\": \"barpolar\"}], \"carpet\": [{\"aaxis\": {\"endlinecolor\": \"#2a3f5f\", \"gridcolor\": \"white\", \"linecolor\": \"white\", \"minorgridcolor\": \"white\", \"startlinecolor\": \"#2a3f5f\"}, \"baxis\": {\"endlinecolor\": \"#2a3f5f\", \"gridcolor\": \"white\", \"linecolor\": \"white\", \"minorgridcolor\": \"white\", \"startlinecolor\": \"#2a3f5f\"}, \"type\": \"carpet\"}], \"choropleth\": [{\"colorbar\": {\"outlinewidth\": 0, \"ticks\": \"\"}, \"type\": \"choropleth\"}], \"contour\": [{\"colorbar\": {\"outlinewidth\": 0, \"ticks\": \"\"}, \"colorscale\": [[0.0, \"#0d0887\"], [0.1111111111111111, \"#46039f\"], [0.2222222222222222, \"#7201a8\"], [0.3333333333333333, \"#9c179e\"], [0.4444444444444444, \"#bd3786\"], [0.5555555555555556, \"#d8576b\"], [0.6666666666666666, \"#ed7953\"], [0.7777777777777778, \"#fb9f3a\"], [0.8888888888888888, \"#fdca26\"], [1.0, \"#f0f921\"]], \"type\": \"contour\"}], \"contourcarpet\": [{\"colorbar\": {\"outlinewidth\": 0, \"ticks\": \"\"}, \"type\": \"contourcarpet\"}], \"heatmap\": [{\"colorbar\": {\"outlinewidth\": 0, \"ticks\": \"\"}, \"colorscale\": [[0.0, \"#0d0887\"], [0.1111111111111111, \"#46039f\"], [0.2222222222222222, \"#7201a8\"], [0.3333333333333333, \"#9c179e\"], [0.4444444444444444, \"#bd3786\"], [0.5555555555555556, \"#d8576b\"], [0.6666666666666666, \"#ed7953\"], [0.7777777777777778, \"#fb9f3a\"], [0.8888888888888888, \"#fdca26\"], [1.0, \"#f0f921\"]], \"type\": \"heatmap\"}], \"heatmapgl\": [{\"colorbar\": {\"outlinewidth\": 0, \"ticks\": \"\"}, \"colorscale\": [[0.0, \"#0d0887\"], [0.1111111111111111, \"#46039f\"], [0.2222222222222222, \"#7201a8\"], [0.3333333333333333, \"#9c179e\"], [0.4444444444444444, \"#bd3786\"], [0.5555555555555556, \"#d8576b\"], [0.6666666666666666, \"#ed7953\"], [0.7777777777777778, \"#fb9f3a\"], [0.8888888888888888, \"#fdca26\"], [1.0, \"#f0f921\"]], \"type\": \"heatmapgl\"}], \"histogram\": [{\"marker\": {\"colorbar\": {\"outlinewidth\": 0, \"ticks\": \"\"}}, \"type\": \"histogram\"}], \"histogram2d\": [{\"colorbar\": {\"outlinewidth\": 0, \"ticks\": \"\"}, \"colorscale\": [[0.0, \"#0d0887\"], [0.1111111111111111, \"#46039f\"], [0.2222222222222222, \"#7201a8\"], [0.3333333333333333, \"#9c179e\"], [0.4444444444444444, \"#bd3786\"], [0.5555555555555556, \"#d8576b\"], [0.6666666666666666, \"#ed7953\"], [0.7777777777777778, \"#fb9f3a\"], [0.8888888888888888, \"#fdca26\"], [1.0, \"#f0f921\"]], \"type\": \"histogram2d\"}], \"histogram2dcontour\": [{\"colorbar\": {\"outlinewidth\": 0, \"ticks\": \"\"}, \"colorscale\": [[0.0, \"#0d0887\"], [0.1111111111111111, \"#46039f\"], [0.2222222222222222, \"#7201a8\"], [0.3333333333333333, \"#9c179e\"], [0.4444444444444444, \"#bd3786\"], [0.5555555555555556, \"#d8576b\"], [0.6666666666666666, \"#ed7953\"], [0.7777777777777778, \"#fb9f3a\"], [0.8888888888888888, \"#fdca26\"], [1.0, \"#f0f921\"]], \"type\": \"histogram2dcontour\"}], \"mesh3d\": [{\"colorbar\": {\"outlinewidth\": 0, \"ticks\": \"\"}, \"type\": \"mesh3d\"}], \"parcoords\": [{\"line\": {\"colorbar\": {\"outlinewidth\": 0, \"ticks\": \"\"}}, \"type\": \"parcoords\"}], \"pie\": [{\"automargin\": true, \"type\": \"pie\"}], \"scatter\": [{\"marker\": {\"colorbar\": {\"outlinewidth\": 0, \"ticks\": \"\"}}, \"type\": \"scatter\"}], \"scatter3d\": [{\"line\": {\"colorbar\": {\"outlinewidth\": 0, \"ticks\": \"\"}}, \"marker\": {\"colorbar\": {\"outlinewidth\": 0, \"ticks\": \"\"}}, \"type\": \"scatter3d\"}], \"scattercarpet\": [{\"marker\": {\"colorbar\": {\"outlinewidth\": 0, \"ticks\": \"\"}}, \"type\": \"scattercarpet\"}], \"scattergeo\": [{\"marker\": {\"colorbar\": {\"outlinewidth\": 0, \"ticks\": \"\"}}, \"type\": \"scattergeo\"}], \"scattergl\": [{\"marker\": {\"colorbar\": {\"outlinewidth\": 0, \"ticks\": \"\"}}, \"type\": \"scattergl\"}], \"scattermapbox\": [{\"marker\": {\"colorbar\": {\"outlinewidth\": 0, \"ticks\": \"\"}}, \"type\": \"scattermapbox\"}], \"scatterpolar\": [{\"marker\": {\"colorbar\": {\"outlinewidth\": 0, \"ticks\": \"\"}}, \"type\": \"scatterpolar\"}], \"scatterpolargl\": [{\"marker\": {\"colorbar\": {\"outlinewidth\": 0, \"ticks\": \"\"}}, \"type\": \"scatterpolargl\"}], \"scatterternary\": [{\"marker\": {\"colorbar\": {\"outlinewidth\": 0, \"ticks\": \"\"}}, \"type\": \"scatterternary\"}], \"surface\": [{\"colorbar\": {\"outlinewidth\": 0, \"ticks\": \"\"}, \"colorscale\": [[0.0, \"#0d0887\"], [0.1111111111111111, \"#46039f\"], [0.2222222222222222, \"#7201a8\"], [0.3333333333333333, \"#9c179e\"], [0.4444444444444444, \"#bd3786\"], [0.5555555555555556, \"#d8576b\"], [0.6666666666666666, \"#ed7953\"], [0.7777777777777778, \"#fb9f3a\"], [0.8888888888888888, \"#fdca26\"], [1.0, \"#f0f921\"]], \"type\": \"surface\"}], \"table\": [{\"cells\": {\"fill\": {\"color\": \"#EBF0F8\"}, \"line\": {\"color\": \"white\"}}, \"header\": {\"fill\": {\"color\": \"#C8D4E3\"}, \"line\": {\"color\": \"white\"}}, \"type\": \"table\"}]}, \"layout\": {\"annotationdefaults\": {\"arrowcolor\": \"#2a3f5f\", \"arrowhead\": 0, \"arrowwidth\": 1}, \"coloraxis\": {\"colorbar\": {\"outlinewidth\": 0, \"ticks\": \"\"}}, \"colorscale\": {\"diverging\": [[0, \"#8e0152\"], [0.1, \"#c51b7d\"], [0.2, \"#de77ae\"], [0.3, \"#f1b6da\"], [0.4, \"#fde0ef\"], [0.5, \"#f7f7f7\"], [0.6, \"#e6f5d0\"], [0.7, \"#b8e186\"], [0.8, \"#7fbc41\"], [0.9, \"#4d9221\"], [1, \"#276419\"]], \"sequential\": [[0.0, \"#0d0887\"], [0.1111111111111111, \"#46039f\"], [0.2222222222222222, \"#7201a8\"], [0.3333333333333333, \"#9c179e\"], [0.4444444444444444, \"#bd3786\"], [0.5555555555555556, \"#d8576b\"], [0.6666666666666666, \"#ed7953\"], [0.7777777777777778, \"#fb9f3a\"], [0.8888888888888888, \"#fdca26\"], [1.0, \"#f0f921\"]], \"sequentialminus\": [[0.0, \"#0d0887\"], [0.1111111111111111, \"#46039f\"], [0.2222222222222222, \"#7201a8\"], [0.3333333333333333, \"#9c179e\"], [0.4444444444444444, \"#bd3786\"], [0.5555555555555556, \"#d8576b\"], [0.6666666666666666, \"#ed7953\"], [0.7777777777777778, \"#fb9f3a\"], [0.8888888888888888, \"#fdca26\"], [1.0, \"#f0f921\"]]}, \"colorway\": [\"#636efa\", \"#EF553B\", \"#00cc96\", \"#ab63fa\", \"#FFA15A\", \"#19d3f3\", \"#FF6692\", \"#B6E880\", \"#FF97FF\", \"#FECB52\"], \"font\": {\"color\": \"#2a3f5f\"}, \"geo\": {\"bgcolor\": \"white\", \"lakecolor\": \"white\", \"landcolor\": \"#E5ECF6\", \"showlakes\": true, \"showland\": true, \"subunitcolor\": \"white\"}, \"hoverlabel\": {\"align\": \"left\"}, \"hovermode\": \"closest\", \"mapbox\": {\"style\": \"light\"}, \"paper_bgcolor\": \"white\", \"plot_bgcolor\": \"#E5ECF6\", \"polar\": {\"angularaxis\": {\"gridcolor\": \"white\", \"linecolor\": \"white\", \"ticks\": \"\"}, \"bgcolor\": \"#E5ECF6\", \"radialaxis\": {\"gridcolor\": \"white\", \"linecolor\": \"white\", \"ticks\": \"\"}}, \"scene\": {\"xaxis\": {\"backgroundcolor\": \"#E5ECF6\", \"gridcolor\": \"white\", \"gridwidth\": 2, \"linecolor\": \"white\", \"showbackground\": true, \"ticks\": \"\", \"zerolinecolor\": \"white\"}, \"yaxis\": {\"backgroundcolor\": \"#E5ECF6\", \"gridcolor\": \"white\", \"gridwidth\": 2, \"linecolor\": \"white\", \"showbackground\": true, \"ticks\": \"\", \"zerolinecolor\": \"white\"}, \"zaxis\": {\"backgroundcolor\": \"#E5ECF6\", \"gridcolor\": \"white\", \"gridwidth\": 2, \"linecolor\": \"white\", \"showbackground\": true, \"ticks\": \"\", \"zerolinecolor\": \"white\"}}, \"shapedefaults\": {\"line\": {\"color\": \"#2a3f5f\"}}, \"ternary\": {\"aaxis\": {\"gridcolor\": \"white\", \"linecolor\": \"white\", \"ticks\": \"\"}, \"baxis\": {\"gridcolor\": \"white\", \"linecolor\": \"white\", \"ticks\": \"\"}, \"bgcolor\": \"#E5ECF6\", \"caxis\": {\"gridcolor\": \"white\", \"linecolor\": \"white\", \"ticks\": \"\"}}, \"title\": {\"x\": 0.05}, \"xaxis\": {\"automargin\": true, \"gridcolor\": \"white\", \"linecolor\": \"white\", \"ticks\": \"\", \"title\": {\"standoff\": 15}, \"zerolinecolor\": \"white\", \"zerolinewidth\": 2}, \"yaxis\": {\"automargin\": true, \"gridcolor\": \"white\", \"linecolor\": \"white\", \"ticks\": \"\", \"title\": {\"standoff\": 15}, \"zerolinecolor\": \"white\", \"zerolinewidth\": 2}}}, \"title\": {\"text\": \"January 2013 Sales Report\"}, \"xaxis\": {\"title\": {\"text\": \"Product Type\"}}},\n",
              "                        {\"responsive\": true}\n",
              "                    ).then(function(){\n",
              "                            \n",
              "var gd = document.getElementById('d12921c9-f939-4f95-b8d3-72077c79d0e0');\n",
              "var x = new MutationObserver(function (mutations, observer) {{\n",
              "        var display = window.getComputedStyle(gd).display;\n",
              "        if (!display || display === 'none') {{\n",
              "            console.log([gd, 'removed!']);\n",
              "            Plotly.purge(gd);\n",
              "            observer.disconnect();\n",
              "        }}\n",
              "}});\n",
              "\n",
              "// Listen for the removal of the full notebook cells\n",
              "var notebookContainer = gd.closest('#notebook-container');\n",
              "if (notebookContainer) {{\n",
              "    x.observe(notebookContainer, {childList: true});\n",
              "}}\n",
              "\n",
              "// Listen for the clearing of the current output cell\n",
              "var outputEl = gd.closest('.output');\n",
              "if (outputEl) {{\n",
              "    x.observe(outputEl, {childList: true});\n",
              "}}\n",
              "\n",
              "                        })\n",
              "                };\n",
              "                \n",
              "            </script>\n",
              "        </div>\n",
              "</body>\n",
              "</html>"
            ]
          },
          "metadata": {
            "tags": []
          }
        }
      ]
    },
    {
      "cell_type": "markdown",
      "metadata": {
        "id": "OWfFt5hArCk8"
      },
      "source": [
        "###Normalized Histogram"
      ]
    },
    {
      "cell_type": "code",
      "metadata": {
        "id": "D3HN50uNkvk9",
        "colab": {
          "base_uri": "https://localhost:8080/",
          "height": 1000
        },
        "outputId": "63b3a8b8-98bf-49b3-fdab-5b620c356b2d"
      },
      "source": [
        "#Normalized Histogram\n",
        "import plotly.graph_objects as go\n",
        "import numpy as np\n",
        "x = np.random.randn(500)\n",
        "\n",
        "fig = go.Figure(data=[go.Histogram(x=x, histnorm='probability')])\n",
        "fig.show()\n",
        "\n",
        "#Horizontal Histogram\n",
        "fig = go.Figure(data=[go.Histogram(y=x, histnorm='probability')])\n",
        "fig.show()"
      ],
      "execution_count": null,
      "outputs": [
        {
          "output_type": "display_data",
          "data": {
            "text/html": [
              "<html>\n",
              "<head><meta charset=\"utf-8\" /></head>\n",
              "<body>\n",
              "    <div>            <script src=\"https://cdnjs.cloudflare.com/ajax/libs/mathjax/2.7.5/MathJax.js?config=TeX-AMS-MML_SVG\"></script><script type=\"text/javascript\">if (window.MathJax) {MathJax.Hub.Config({SVG: {font: \"STIX-Web\"}});}</script>                <script type=\"text/javascript\">window.PlotlyConfig = {MathJaxConfig: 'local'};</script>\n",
              "        <script src=\"https://cdn.plot.ly/plotly-2.8.3.min.js\"></script>                <div id=\"b692e3e6-3d04-42ad-8d73-3adfb453eb79\" class=\"plotly-graph-div\" style=\"height:525px; width:100%;\"></div>            <script type=\"text/javascript\">                                    window.PLOTLYENV=window.PLOTLYENV || {};                                    if (document.getElementById(\"b692e3e6-3d04-42ad-8d73-3adfb453eb79\")) {                    Plotly.newPlot(                        \"b692e3e6-3d04-42ad-8d73-3adfb453eb79\",                        [{\"histnorm\":\"probability\",\"x\":[-2.191565081845587,0.27361135521032226,-1.6049419809315995,-0.6232198579822399,-0.6073583186247593,-1.7971034770822985,-0.05342339654886253,-0.23571684022226302,1.0745047230777467,-0.21271800519679024,0.0453898478423393,0.6969779552002131,0.7078580830686135,-0.5185582906329734,-0.574722560724192,-0.5748643909239953,-1.2777279661859355,-1.7421052788182247,-1.0954254857567605,0.22658917137228682,-0.36928749490069435,0.5906484097128418,0.03595169656420687,-0.6296994589685576,1.3203419674656152,1.6334872179145896,0.27928882021682694,-0.46231507920108883,0.7938182606004605,-0.8319391034788421,1.3844863042116167,0.2601273259936307,-0.48234085968462576,0.6981294176536033,0.8744522601567896,-0.958427974346201,1.1940431734335235,-0.9652008813659121,1.6575263389011834,0.7491554887697451,-0.4474151414713723,0.7417907424993991,-0.18565431888826353,-0.15894134486361217,-1.5492743465072993,0.15681193724099998,-0.6143716682601967,1.3245794553767885,0.23496402413972964,-1.4012238610704115,-0.22219602757576234,0.6189003469657203,1.5774638420174987,0.5047034671559268,-1.5583933886307573,-1.1757070998263714,0.8622894005977706,-0.724460693235731,0.3099382288778926,0.779270338788256,0.394001116006644,0.5917219987503969,0.994583501267329,0.3532910427326515,-2.908560522041133,0.13018289903052813,-0.6993764669408,0.16555145349387496,-0.07450797089376797,-0.2140767041163128,-0.7484925007486429,0.5977079069242126,1.6308788216336463,-0.8480960230749647,-0.35397264119008637,-0.6550476207728078,-0.128971569882412,-0.5453903013568688,0.659324118663572,0.8488445877988118,-2.1082523913006153,0.41637960020117404,-0.507354221834753,1.0979659990505892,-1.7018840824090915,0.6200279752262466,0.016505328108696465,0.08269249123475493,-0.45163577971248153,-0.24226936831946108,-2.035609957420656,0.3577479872409173,-1.1499049808291826,1.5158767146255816,0.9031750676300747,0.3187441157822019,-1.9711387897748327,-0.07836311745316492,0.8751375352512669,-1.219402355391072,0.08151941618645228,-0.08058601464816761,-0.1034771489819271,0.49500090210703285,1.358242724652629,-0.24846335586693102,-1.8819788747544757,-0.004958800667633792,1.2086398659825592,-0.8476761289109166,1.0829740088995121,0.011894334673650312,0.2131453747436237,-1.4019188716822069,0.45737467413829397,0.02991002661803129,-0.3164240720608929,-0.8934183579456693,-0.26165259025778204,1.2696961268929616,0.2436619046859748,-0.6655835966944869,1.3060098159423814,1.2463566133749286,-1.872925582063911,-0.08759901028757906,-0.0896506680663129,-1.4376369232001598,0.35198644032789805,-0.1586567115993792,-0.3792581670565015,-0.824470030639684,0.0665679762711687,-0.8365481693517637,0.3470807099223036,0.2475824009050587,1.233212554773049,-0.530109206939381,-0.8374636477030888,-0.41723073318385673,-0.5878097372708844,0.7447240456916222,-0.14755832423543136,1.1854710925732652,0.6778954977004251,-0.3186405739607251,-0.626017940147753,0.027720372041496223,-1.2098065233298247,1.683375952467613,0.7025189244587555,1.0818901249103534,2.746892534691235,0.16216809653874073,0.7374543347745224,-1.812665104419734,1.0377192366753878,0.8011592785148239,0.3283719404642649,-1.0357100679450295,-1.225609452061067,-0.16189529209988934,0.2866796696388236,0.5377797647649432,-0.2890279760585892,0.5316891682488348,1.8498369345918946,0.6235313794840474,0.45310908569191993,-0.5585149615021989,-0.9441805641967744,-0.6495610238603196,-0.5354253860360699,-1.6937625209420797,0.9050446054678021,-0.22313325752816077,0.25057388468127867,-0.9487889772671987,-0.21337224638634678,0.2008810990415024,1.3088107497353458,-1.435830547487274,0.295966466665826,1.4925781436882428,0.4962279237513148,-0.28363218245784166,-0.6197831291537571,2.7286658346099433,0.7163840383262841,-0.6883876071586378,-1.2563919149993188,0.30713081537181514,-0.538086024763476,-1.198162435562443,-0.4669980552624045,-1.245471161112976,0.3773535424865608,-1.797289805486119,-0.5092775093197669,-1.3565844896090233,-0.696241295334379,-0.7481601371225877,0.6323688447206489,-0.5613513247657618,0.21902487097460677,-0.37915787870288115,-0.05131662798179056,1.733509331587931,-0.6475156906109153,-0.03298226547621787,-0.5964240439763624,-1.2391374522987513,0.8053463709598104,0.8267637251293697,-1.9203360789533084,1.3600669629052307,-1.0650660446135047,0.6992170573609696,-0.7139085244872286,-1.3447223938871695,-0.09570685503149826,-0.9367379651255087,-0.32263770562941135,-0.4317579435040318,1.6494618164819308,0.08743065143388472,-1.939902998930456,-0.17514763138810277,-0.4788720916985203,0.01134642797598872,-2.2505862661488587,-0.5112333422275225,1.0092464868325708,0.3240529825873967,-0.4257148660024494,0.45983038474193727,-1.8881493848256343,-0.8115656344103458,1.2005471004091424,-0.33637603300788677,-1.2312586790438556,1.2783394401494315,0.573107578791742,-0.030102576940539364,-0.37488409960594976,0.37216726549438345,0.5234919223846733,0.2693717894260693,0.21363029710819312,-0.694102645092256,-1.489585884026743,-1.880351092381635,0.8507764933513026,1.6521584273608587,-2.140187496164654,0.16256745446298101,0.10464724657493157,0.29678906045150727,1.1926222103502668,-0.8114539095673228,-0.5672459233684257,-0.34558770773083247,0.723545178693887,-0.3154095039785411,-1.9664873044827966,1.0993607045991978,-1.7795689947132909,0.9409731737775273,-0.3643163154501926,-0.8130754779843465,-0.1562950608017646,-0.45081163941618035,-0.4281147532555072,1.8759085179156618,-0.18343146363873353,-1.229484429679708,1.5772827762774406,-0.5103620331791178,0.35563026217354154,-0.5745414181126006,-0.9596688468765587,-0.9093902438058589,-0.8585363574169471,0.8313353662454763,-0.0422909670340185,0.3628405310319125,0.4455781640311264,-0.40754082212916,-0.5137766015266306,1.6824851830248784,0.47409905648718575,1.1845178095387614,-0.4779644759101336,1.3701249036688252,0.21825359437036795,-0.5752443966647705,1.0572012736305976,-0.7771510979353066,0.2279650326859819,1.1986623155591354,0.20489790357094806,-1.69293454067281,0.7470157431288991,-2.4926715633332224,0.2199367546047568,-1.2056560057308585,-0.008017236493158613,0.7300137804242947,-0.3846264992172299,-0.051452472770104306,-0.10189595737285699,2.1202182256918554,-0.3009681133123228,0.35173166780028736,0.5084666451490024,-0.01750507911345082,0.044208324984815354,-0.2661807846971564,1.18396944335565,-0.47601249136012064,-0.6301333573021648,1.7181792529471929,-0.522207041775672,-0.5779535060859639,-0.17555915674405037,2.073431393407626,-1.197555010873125,-0.6066280709358743,-1.0576791796076863,0.6826732287632828,2.1936760603979253,1.27647639659536,-1.7174292059425433,0.13287405845106073,1.1407391555377802,-0.7564066532760935,1.5562666869225983,-0.9555854300799154,-1.0756791485574517,0.12954806923583673,-1.3898370379512526,-0.6161870867495632,0.4749998531238444,0.8991690861922372,0.3897229789074717,0.42588494275624406,1.690651994380904,1.3539269337301447,-0.41195077108540934,0.15589876291085006,0.630660938419231,0.8491313944744445,-0.22154610733711141,0.8601869685066404,0.999464966386988,-0.20494447789969347,-2.6358188093477093,-0.6243930154816902,-1.1624524522510915,1.6881531008711592,1.1142010610605741,0.24039673791879315,-1.7060782430740173,-0.04174994418409118,-1.3730848135449172,-0.38359423216129623,-1.5069019892898867,-1.3659576967611495,-0.1424913654614488,-1.8990422768319741,-2.228424745956412,-0.3278141448409405,0.06720756174655991,0.671371780160356,2.592426098043657,-1.0500475917427121,-0.39793864370076437,0.5954153103393419,0.5965090729733598,-0.8916559217080402,-0.2683920024775343,-0.6436789297204831,0.2966706049606071,0.6433213187264716,-1.3190407976288707,0.00023179874406550804,-0.30262198315448574,1.8118308939464387,1.038355822324132,0.2358668331781478,0.028026785691352543,0.6053460467845186,1.373128189031089,-0.18779225012049597,1.6901383156951877,1.020043787967915,-0.3670424523610275,-0.09773649405590043,-1.4145961334803172,0.9232915619735146,0.49969894649509083,-1.0104595830592997,-0.4464536937606799,-0.856173580140887,-0.6901841257896549,-0.4632905237332765,-0.5786171524276855,0.9170967197518343,-0.2652618094209569,-0.4051916354025303,0.20205407073495288,0.11201615894303979,0.8713334527126045,-0.35990611118605237,-0.6706063791845003,-0.5068162368663292,-0.1752441258412811,1.012673981524672,0.8301199746553773,-0.4110405790379512,-1.0490261720901182,1.34809018876888,1.1665746415479523,-0.3941163313071234,0.6248627271318881,-1.1443720861964126,-0.1988818188241705,0.20678357001605288,1.016135542754587,0.43491379903730193,0.5969264526943133,-0.7469782478488187,-0.7091438587607048,-1.5138098297618146,-0.7189962378200782,-0.6977712329294212,0.8363160461684996,0.014044333930639252,-0.509247048751454,-0.3965717434963246,0.10356846093027769,1.4979256501219944,0.3373542783904072,-0.2347392307706668,-0.17823408050184278,-0.15636415895627173,1.1947227023984994,-0.7877085926113517,0.17646789535928628,-1.8217472160813368,-1.6500657586908791,-1.1174835071720495,0.5268707975887207,-1.4488176846108691,-0.2631080029858213,0.21874358908541025,0.1343694331799047,-0.5763239076665645,0.19907808990273126,-1.958138681897841,-0.8435479649735442,-1.4640417188204626,-1.6505717179774673,-2.0676441363223192,1.4647648097517778,-1.4432062766752263,-0.294336311463992,-0.3138270503593679,1.0616350839379665,-0.5995850805396759,-0.9974355202646705,-0.07181564859562066,-1.2493479587059146,0.8286248190250138,-0.1571326015692302,0.6833913551360058,-0.08144119875324148,-0.8864065027930987,-2.042351700580485,-1.0963549710546054,1.0022074810344013,-0.6102146557489702,0.5828762326558126,0.049598978650248676,-0.8817136891256833,1.337341159029311,-1.1529979032575004,-0.11333734807094036,-0.525070843555387,0.17024698858190182,-0.3282264888948407,-1.113028627254788,1.0235244019745555,0.6201664068621885,-0.15117135524304864,0.2951257118444934,-1.1106192576265324,0.35373852076191886,-1.3976017232473499,1.5078337514830946],\"type\":\"histogram\"}],                        {\"template\":{\"data\":{\"bar\":[{\"error_x\":{\"color\":\"#2a3f5f\"},\"error_y\":{\"color\":\"#2a3f5f\"},\"marker\":{\"line\":{\"color\":\"#E5ECF6\",\"width\":0.5},\"pattern\":{\"fillmode\":\"overlay\",\"size\":10,\"solidity\":0.2}},\"type\":\"bar\"}],\"barpolar\":[{\"marker\":{\"line\":{\"color\":\"#E5ECF6\",\"width\":0.5},\"pattern\":{\"fillmode\":\"overlay\",\"size\":10,\"solidity\":0.2}},\"type\":\"barpolar\"}],\"carpet\":[{\"aaxis\":{\"endlinecolor\":\"#2a3f5f\",\"gridcolor\":\"white\",\"linecolor\":\"white\",\"minorgridcolor\":\"white\",\"startlinecolor\":\"#2a3f5f\"},\"baxis\":{\"endlinecolor\":\"#2a3f5f\",\"gridcolor\":\"white\",\"linecolor\":\"white\",\"minorgridcolor\":\"white\",\"startlinecolor\":\"#2a3f5f\"},\"type\":\"carpet\"}],\"choropleth\":[{\"colorbar\":{\"outlinewidth\":0,\"ticks\":\"\"},\"type\":\"choropleth\"}],\"contour\":[{\"colorbar\":{\"outlinewidth\":0,\"ticks\":\"\"},\"colorscale\":[[0.0,\"#0d0887\"],[0.1111111111111111,\"#46039f\"],[0.2222222222222222,\"#7201a8\"],[0.3333333333333333,\"#9c179e\"],[0.4444444444444444,\"#bd3786\"],[0.5555555555555556,\"#d8576b\"],[0.6666666666666666,\"#ed7953\"],[0.7777777777777778,\"#fb9f3a\"],[0.8888888888888888,\"#fdca26\"],[1.0,\"#f0f921\"]],\"type\":\"contour\"}],\"contourcarpet\":[{\"colorbar\":{\"outlinewidth\":0,\"ticks\":\"\"},\"type\":\"contourcarpet\"}],\"heatmap\":[{\"colorbar\":{\"outlinewidth\":0,\"ticks\":\"\"},\"colorscale\":[[0.0,\"#0d0887\"],[0.1111111111111111,\"#46039f\"],[0.2222222222222222,\"#7201a8\"],[0.3333333333333333,\"#9c179e\"],[0.4444444444444444,\"#bd3786\"],[0.5555555555555556,\"#d8576b\"],[0.6666666666666666,\"#ed7953\"],[0.7777777777777778,\"#fb9f3a\"],[0.8888888888888888,\"#fdca26\"],[1.0,\"#f0f921\"]],\"type\":\"heatmap\"}],\"heatmapgl\":[{\"colorbar\":{\"outlinewidth\":0,\"ticks\":\"\"},\"colorscale\":[[0.0,\"#0d0887\"],[0.1111111111111111,\"#46039f\"],[0.2222222222222222,\"#7201a8\"],[0.3333333333333333,\"#9c179e\"],[0.4444444444444444,\"#bd3786\"],[0.5555555555555556,\"#d8576b\"],[0.6666666666666666,\"#ed7953\"],[0.7777777777777778,\"#fb9f3a\"],[0.8888888888888888,\"#fdca26\"],[1.0,\"#f0f921\"]],\"type\":\"heatmapgl\"}],\"histogram\":[{\"marker\":{\"pattern\":{\"fillmode\":\"overlay\",\"size\":10,\"solidity\":0.2}},\"type\":\"histogram\"}],\"histogram2d\":[{\"colorbar\":{\"outlinewidth\":0,\"ticks\":\"\"},\"colorscale\":[[0.0,\"#0d0887\"],[0.1111111111111111,\"#46039f\"],[0.2222222222222222,\"#7201a8\"],[0.3333333333333333,\"#9c179e\"],[0.4444444444444444,\"#bd3786\"],[0.5555555555555556,\"#d8576b\"],[0.6666666666666666,\"#ed7953\"],[0.7777777777777778,\"#fb9f3a\"],[0.8888888888888888,\"#fdca26\"],[1.0,\"#f0f921\"]],\"type\":\"histogram2d\"}],\"histogram2dcontour\":[{\"colorbar\":{\"outlinewidth\":0,\"ticks\":\"\"},\"colorscale\":[[0.0,\"#0d0887\"],[0.1111111111111111,\"#46039f\"],[0.2222222222222222,\"#7201a8\"],[0.3333333333333333,\"#9c179e\"],[0.4444444444444444,\"#bd3786\"],[0.5555555555555556,\"#d8576b\"],[0.6666666666666666,\"#ed7953\"],[0.7777777777777778,\"#fb9f3a\"],[0.8888888888888888,\"#fdca26\"],[1.0,\"#f0f921\"]],\"type\":\"histogram2dcontour\"}],\"mesh3d\":[{\"colorbar\":{\"outlinewidth\":0,\"ticks\":\"\"},\"type\":\"mesh3d\"}],\"parcoords\":[{\"line\":{\"colorbar\":{\"outlinewidth\":0,\"ticks\":\"\"}},\"type\":\"parcoords\"}],\"pie\":[{\"automargin\":true,\"type\":\"pie\"}],\"scatter\":[{\"marker\":{\"colorbar\":{\"outlinewidth\":0,\"ticks\":\"\"}},\"type\":\"scatter\"}],\"scatter3d\":[{\"line\":{\"colorbar\":{\"outlinewidth\":0,\"ticks\":\"\"}},\"marker\":{\"colorbar\":{\"outlinewidth\":0,\"ticks\":\"\"}},\"type\":\"scatter3d\"}],\"scattercarpet\":[{\"marker\":{\"colorbar\":{\"outlinewidth\":0,\"ticks\":\"\"}},\"type\":\"scattercarpet\"}],\"scattergeo\":[{\"marker\":{\"colorbar\":{\"outlinewidth\":0,\"ticks\":\"\"}},\"type\":\"scattergeo\"}],\"scattergl\":[{\"marker\":{\"colorbar\":{\"outlinewidth\":0,\"ticks\":\"\"}},\"type\":\"scattergl\"}],\"scattermapbox\":[{\"marker\":{\"colorbar\":{\"outlinewidth\":0,\"ticks\":\"\"}},\"type\":\"scattermapbox\"}],\"scatterpolar\":[{\"marker\":{\"colorbar\":{\"outlinewidth\":0,\"ticks\":\"\"}},\"type\":\"scatterpolar\"}],\"scatterpolargl\":[{\"marker\":{\"colorbar\":{\"outlinewidth\":0,\"ticks\":\"\"}},\"type\":\"scatterpolargl\"}],\"scatterternary\":[{\"marker\":{\"colorbar\":{\"outlinewidth\":0,\"ticks\":\"\"}},\"type\":\"scatterternary\"}],\"surface\":[{\"colorbar\":{\"outlinewidth\":0,\"ticks\":\"\"},\"colorscale\":[[0.0,\"#0d0887\"],[0.1111111111111111,\"#46039f\"],[0.2222222222222222,\"#7201a8\"],[0.3333333333333333,\"#9c179e\"],[0.4444444444444444,\"#bd3786\"],[0.5555555555555556,\"#d8576b\"],[0.6666666666666666,\"#ed7953\"],[0.7777777777777778,\"#fb9f3a\"],[0.8888888888888888,\"#fdca26\"],[1.0,\"#f0f921\"]],\"type\":\"surface\"}],\"table\":[{\"cells\":{\"fill\":{\"color\":\"#EBF0F8\"},\"line\":{\"color\":\"white\"}},\"header\":{\"fill\":{\"color\":\"#C8D4E3\"},\"line\":{\"color\":\"white\"}},\"type\":\"table\"}]},\"layout\":{\"annotationdefaults\":{\"arrowcolor\":\"#2a3f5f\",\"arrowhead\":0,\"arrowwidth\":1},\"autotypenumbers\":\"strict\",\"coloraxis\":{\"colorbar\":{\"outlinewidth\":0,\"ticks\":\"\"}},\"colorscale\":{\"diverging\":[[0,\"#8e0152\"],[0.1,\"#c51b7d\"],[0.2,\"#de77ae\"],[0.3,\"#f1b6da\"],[0.4,\"#fde0ef\"],[0.5,\"#f7f7f7\"],[0.6,\"#e6f5d0\"],[0.7,\"#b8e186\"],[0.8,\"#7fbc41\"],[0.9,\"#4d9221\"],[1,\"#276419\"]],\"sequential\":[[0.0,\"#0d0887\"],[0.1111111111111111,\"#46039f\"],[0.2222222222222222,\"#7201a8\"],[0.3333333333333333,\"#9c179e\"],[0.4444444444444444,\"#bd3786\"],[0.5555555555555556,\"#d8576b\"],[0.6666666666666666,\"#ed7953\"],[0.7777777777777778,\"#fb9f3a\"],[0.8888888888888888,\"#fdca26\"],[1.0,\"#f0f921\"]],\"sequentialminus\":[[0.0,\"#0d0887\"],[0.1111111111111111,\"#46039f\"],[0.2222222222222222,\"#7201a8\"],[0.3333333333333333,\"#9c179e\"],[0.4444444444444444,\"#bd3786\"],[0.5555555555555556,\"#d8576b\"],[0.6666666666666666,\"#ed7953\"],[0.7777777777777778,\"#fb9f3a\"],[0.8888888888888888,\"#fdca26\"],[1.0,\"#f0f921\"]]},\"colorway\":[\"#636efa\",\"#EF553B\",\"#00cc96\",\"#ab63fa\",\"#FFA15A\",\"#19d3f3\",\"#FF6692\",\"#B6E880\",\"#FF97FF\",\"#FECB52\"],\"font\":{\"color\":\"#2a3f5f\"},\"geo\":{\"bgcolor\":\"white\",\"lakecolor\":\"white\",\"landcolor\":\"#E5ECF6\",\"showlakes\":true,\"showland\":true,\"subunitcolor\":\"white\"},\"hoverlabel\":{\"align\":\"left\"},\"hovermode\":\"closest\",\"mapbox\":{\"style\":\"light\"},\"paper_bgcolor\":\"white\",\"plot_bgcolor\":\"#E5ECF6\",\"polar\":{\"angularaxis\":{\"gridcolor\":\"white\",\"linecolor\":\"white\",\"ticks\":\"\"},\"bgcolor\":\"#E5ECF6\",\"radialaxis\":{\"gridcolor\":\"white\",\"linecolor\":\"white\",\"ticks\":\"\"}},\"scene\":{\"xaxis\":{\"backgroundcolor\":\"#E5ECF6\",\"gridcolor\":\"white\",\"gridwidth\":2,\"linecolor\":\"white\",\"showbackground\":true,\"ticks\":\"\",\"zerolinecolor\":\"white\"},\"yaxis\":{\"backgroundcolor\":\"#E5ECF6\",\"gridcolor\":\"white\",\"gridwidth\":2,\"linecolor\":\"white\",\"showbackground\":true,\"ticks\":\"\",\"zerolinecolor\":\"white\"},\"zaxis\":{\"backgroundcolor\":\"#E5ECF6\",\"gridcolor\":\"white\",\"gridwidth\":2,\"linecolor\":\"white\",\"showbackground\":true,\"ticks\":\"\",\"zerolinecolor\":\"white\"}},\"shapedefaults\":{\"line\":{\"color\":\"#2a3f5f\"}},\"ternary\":{\"aaxis\":{\"gridcolor\":\"white\",\"linecolor\":\"white\",\"ticks\":\"\"},\"baxis\":{\"gridcolor\":\"white\",\"linecolor\":\"white\",\"ticks\":\"\"},\"bgcolor\":\"#E5ECF6\",\"caxis\":{\"gridcolor\":\"white\",\"linecolor\":\"white\",\"ticks\":\"\"}},\"title\":{\"x\":0.05},\"xaxis\":{\"automargin\":true,\"gridcolor\":\"white\",\"linecolor\":\"white\",\"ticks\":\"\",\"title\":{\"standoff\":15},\"zerolinecolor\":\"white\",\"zerolinewidth\":2},\"yaxis\":{\"automargin\":true,\"gridcolor\":\"white\",\"linecolor\":\"white\",\"ticks\":\"\",\"title\":{\"standoff\":15},\"zerolinecolor\":\"white\",\"zerolinewidth\":2}}}},                        {\"responsive\": true}                    ).then(function(){\n",
              "                            \n",
              "var gd = document.getElementById('b692e3e6-3d04-42ad-8d73-3adfb453eb79');\n",
              "var x = new MutationObserver(function (mutations, observer) {{\n",
              "        var display = window.getComputedStyle(gd).display;\n",
              "        if (!display || display === 'none') {{\n",
              "            console.log([gd, 'removed!']);\n",
              "            Plotly.purge(gd);\n",
              "            observer.disconnect();\n",
              "        }}\n",
              "}});\n",
              "\n",
              "// Listen for the removal of the full notebook cells\n",
              "var notebookContainer = gd.closest('#notebook-container');\n",
              "if (notebookContainer) {{\n",
              "    x.observe(notebookContainer, {childList: true});\n",
              "}}\n",
              "\n",
              "// Listen for the clearing of the current output cell\n",
              "var outputEl = gd.closest('.output');\n",
              "if (outputEl) {{\n",
              "    x.observe(outputEl, {childList: true});\n",
              "}}\n",
              "\n",
              "                        })                };                            </script>        </div>\n",
              "</body>\n",
              "</html>"
            ]
          },
          "metadata": {}
        },
        {
          "output_type": "display_data",
          "data": {
            "text/html": [
              "<html>\n",
              "<head><meta charset=\"utf-8\" /></head>\n",
              "<body>\n",
              "    <div>            <script src=\"https://cdnjs.cloudflare.com/ajax/libs/mathjax/2.7.5/MathJax.js?config=TeX-AMS-MML_SVG\"></script><script type=\"text/javascript\">if (window.MathJax) {MathJax.Hub.Config({SVG: {font: \"STIX-Web\"}});}</script>                <script type=\"text/javascript\">window.PlotlyConfig = {MathJaxConfig: 'local'};</script>\n",
              "        <script src=\"https://cdn.plot.ly/plotly-2.8.3.min.js\"></script>                <div id=\"07405448-3e63-4ffd-ad80-ce7a56f90009\" class=\"plotly-graph-div\" style=\"height:525px; width:100%;\"></div>            <script type=\"text/javascript\">                                    window.PLOTLYENV=window.PLOTLYENV || {};                                    if (document.getElementById(\"07405448-3e63-4ffd-ad80-ce7a56f90009\")) {                    Plotly.newPlot(                        \"07405448-3e63-4ffd-ad80-ce7a56f90009\",                        [{\"histnorm\":\"probability\",\"y\":[-2.191565081845587,0.27361135521032226,-1.6049419809315995,-0.6232198579822399,-0.6073583186247593,-1.7971034770822985,-0.05342339654886253,-0.23571684022226302,1.0745047230777467,-0.21271800519679024,0.0453898478423393,0.6969779552002131,0.7078580830686135,-0.5185582906329734,-0.574722560724192,-0.5748643909239953,-1.2777279661859355,-1.7421052788182247,-1.0954254857567605,0.22658917137228682,-0.36928749490069435,0.5906484097128418,0.03595169656420687,-0.6296994589685576,1.3203419674656152,1.6334872179145896,0.27928882021682694,-0.46231507920108883,0.7938182606004605,-0.8319391034788421,1.3844863042116167,0.2601273259936307,-0.48234085968462576,0.6981294176536033,0.8744522601567896,-0.958427974346201,1.1940431734335235,-0.9652008813659121,1.6575263389011834,0.7491554887697451,-0.4474151414713723,0.7417907424993991,-0.18565431888826353,-0.15894134486361217,-1.5492743465072993,0.15681193724099998,-0.6143716682601967,1.3245794553767885,0.23496402413972964,-1.4012238610704115,-0.22219602757576234,0.6189003469657203,1.5774638420174987,0.5047034671559268,-1.5583933886307573,-1.1757070998263714,0.8622894005977706,-0.724460693235731,0.3099382288778926,0.779270338788256,0.394001116006644,0.5917219987503969,0.994583501267329,0.3532910427326515,-2.908560522041133,0.13018289903052813,-0.6993764669408,0.16555145349387496,-0.07450797089376797,-0.2140767041163128,-0.7484925007486429,0.5977079069242126,1.6308788216336463,-0.8480960230749647,-0.35397264119008637,-0.6550476207728078,-0.128971569882412,-0.5453903013568688,0.659324118663572,0.8488445877988118,-2.1082523913006153,0.41637960020117404,-0.507354221834753,1.0979659990505892,-1.7018840824090915,0.6200279752262466,0.016505328108696465,0.08269249123475493,-0.45163577971248153,-0.24226936831946108,-2.035609957420656,0.3577479872409173,-1.1499049808291826,1.5158767146255816,0.9031750676300747,0.3187441157822019,-1.9711387897748327,-0.07836311745316492,0.8751375352512669,-1.219402355391072,0.08151941618645228,-0.08058601464816761,-0.1034771489819271,0.49500090210703285,1.358242724652629,-0.24846335586693102,-1.8819788747544757,-0.004958800667633792,1.2086398659825592,-0.8476761289109166,1.0829740088995121,0.011894334673650312,0.2131453747436237,-1.4019188716822069,0.45737467413829397,0.02991002661803129,-0.3164240720608929,-0.8934183579456693,-0.26165259025778204,1.2696961268929616,0.2436619046859748,-0.6655835966944869,1.3060098159423814,1.2463566133749286,-1.872925582063911,-0.08759901028757906,-0.0896506680663129,-1.4376369232001598,0.35198644032789805,-0.1586567115993792,-0.3792581670565015,-0.824470030639684,0.0665679762711687,-0.8365481693517637,0.3470807099223036,0.2475824009050587,1.233212554773049,-0.530109206939381,-0.8374636477030888,-0.41723073318385673,-0.5878097372708844,0.7447240456916222,-0.14755832423543136,1.1854710925732652,0.6778954977004251,-0.3186405739607251,-0.626017940147753,0.027720372041496223,-1.2098065233298247,1.683375952467613,0.7025189244587555,1.0818901249103534,2.746892534691235,0.16216809653874073,0.7374543347745224,-1.812665104419734,1.0377192366753878,0.8011592785148239,0.3283719404642649,-1.0357100679450295,-1.225609452061067,-0.16189529209988934,0.2866796696388236,0.5377797647649432,-0.2890279760585892,0.5316891682488348,1.8498369345918946,0.6235313794840474,0.45310908569191993,-0.5585149615021989,-0.9441805641967744,-0.6495610238603196,-0.5354253860360699,-1.6937625209420797,0.9050446054678021,-0.22313325752816077,0.25057388468127867,-0.9487889772671987,-0.21337224638634678,0.2008810990415024,1.3088107497353458,-1.435830547487274,0.295966466665826,1.4925781436882428,0.4962279237513148,-0.28363218245784166,-0.6197831291537571,2.7286658346099433,0.7163840383262841,-0.6883876071586378,-1.2563919149993188,0.30713081537181514,-0.538086024763476,-1.198162435562443,-0.4669980552624045,-1.245471161112976,0.3773535424865608,-1.797289805486119,-0.5092775093197669,-1.3565844896090233,-0.696241295334379,-0.7481601371225877,0.6323688447206489,-0.5613513247657618,0.21902487097460677,-0.37915787870288115,-0.05131662798179056,1.733509331587931,-0.6475156906109153,-0.03298226547621787,-0.5964240439763624,-1.2391374522987513,0.8053463709598104,0.8267637251293697,-1.9203360789533084,1.3600669629052307,-1.0650660446135047,0.6992170573609696,-0.7139085244872286,-1.3447223938871695,-0.09570685503149826,-0.9367379651255087,-0.32263770562941135,-0.4317579435040318,1.6494618164819308,0.08743065143388472,-1.939902998930456,-0.17514763138810277,-0.4788720916985203,0.01134642797598872,-2.2505862661488587,-0.5112333422275225,1.0092464868325708,0.3240529825873967,-0.4257148660024494,0.45983038474193727,-1.8881493848256343,-0.8115656344103458,1.2005471004091424,-0.33637603300788677,-1.2312586790438556,1.2783394401494315,0.573107578791742,-0.030102576940539364,-0.37488409960594976,0.37216726549438345,0.5234919223846733,0.2693717894260693,0.21363029710819312,-0.694102645092256,-1.489585884026743,-1.880351092381635,0.8507764933513026,1.6521584273608587,-2.140187496164654,0.16256745446298101,0.10464724657493157,0.29678906045150727,1.1926222103502668,-0.8114539095673228,-0.5672459233684257,-0.34558770773083247,0.723545178693887,-0.3154095039785411,-1.9664873044827966,1.0993607045991978,-1.7795689947132909,0.9409731737775273,-0.3643163154501926,-0.8130754779843465,-0.1562950608017646,-0.45081163941618035,-0.4281147532555072,1.8759085179156618,-0.18343146363873353,-1.229484429679708,1.5772827762774406,-0.5103620331791178,0.35563026217354154,-0.5745414181126006,-0.9596688468765587,-0.9093902438058589,-0.8585363574169471,0.8313353662454763,-0.0422909670340185,0.3628405310319125,0.4455781640311264,-0.40754082212916,-0.5137766015266306,1.6824851830248784,0.47409905648718575,1.1845178095387614,-0.4779644759101336,1.3701249036688252,0.21825359437036795,-0.5752443966647705,1.0572012736305976,-0.7771510979353066,0.2279650326859819,1.1986623155591354,0.20489790357094806,-1.69293454067281,0.7470157431288991,-2.4926715633332224,0.2199367546047568,-1.2056560057308585,-0.008017236493158613,0.7300137804242947,-0.3846264992172299,-0.051452472770104306,-0.10189595737285699,2.1202182256918554,-0.3009681133123228,0.35173166780028736,0.5084666451490024,-0.01750507911345082,0.044208324984815354,-0.2661807846971564,1.18396944335565,-0.47601249136012064,-0.6301333573021648,1.7181792529471929,-0.522207041775672,-0.5779535060859639,-0.17555915674405037,2.073431393407626,-1.197555010873125,-0.6066280709358743,-1.0576791796076863,0.6826732287632828,2.1936760603979253,1.27647639659536,-1.7174292059425433,0.13287405845106073,1.1407391555377802,-0.7564066532760935,1.5562666869225983,-0.9555854300799154,-1.0756791485574517,0.12954806923583673,-1.3898370379512526,-0.6161870867495632,0.4749998531238444,0.8991690861922372,0.3897229789074717,0.42588494275624406,1.690651994380904,1.3539269337301447,-0.41195077108540934,0.15589876291085006,0.630660938419231,0.8491313944744445,-0.22154610733711141,0.8601869685066404,0.999464966386988,-0.20494447789969347,-2.6358188093477093,-0.6243930154816902,-1.1624524522510915,1.6881531008711592,1.1142010610605741,0.24039673791879315,-1.7060782430740173,-0.04174994418409118,-1.3730848135449172,-0.38359423216129623,-1.5069019892898867,-1.3659576967611495,-0.1424913654614488,-1.8990422768319741,-2.228424745956412,-0.3278141448409405,0.06720756174655991,0.671371780160356,2.592426098043657,-1.0500475917427121,-0.39793864370076437,0.5954153103393419,0.5965090729733598,-0.8916559217080402,-0.2683920024775343,-0.6436789297204831,0.2966706049606071,0.6433213187264716,-1.3190407976288707,0.00023179874406550804,-0.30262198315448574,1.8118308939464387,1.038355822324132,0.2358668331781478,0.028026785691352543,0.6053460467845186,1.373128189031089,-0.18779225012049597,1.6901383156951877,1.020043787967915,-0.3670424523610275,-0.09773649405590043,-1.4145961334803172,0.9232915619735146,0.49969894649509083,-1.0104595830592997,-0.4464536937606799,-0.856173580140887,-0.6901841257896549,-0.4632905237332765,-0.5786171524276855,0.9170967197518343,-0.2652618094209569,-0.4051916354025303,0.20205407073495288,0.11201615894303979,0.8713334527126045,-0.35990611118605237,-0.6706063791845003,-0.5068162368663292,-0.1752441258412811,1.012673981524672,0.8301199746553773,-0.4110405790379512,-1.0490261720901182,1.34809018876888,1.1665746415479523,-0.3941163313071234,0.6248627271318881,-1.1443720861964126,-0.1988818188241705,0.20678357001605288,1.016135542754587,0.43491379903730193,0.5969264526943133,-0.7469782478488187,-0.7091438587607048,-1.5138098297618146,-0.7189962378200782,-0.6977712329294212,0.8363160461684996,0.014044333930639252,-0.509247048751454,-0.3965717434963246,0.10356846093027769,1.4979256501219944,0.3373542783904072,-0.2347392307706668,-0.17823408050184278,-0.15636415895627173,1.1947227023984994,-0.7877085926113517,0.17646789535928628,-1.8217472160813368,-1.6500657586908791,-1.1174835071720495,0.5268707975887207,-1.4488176846108691,-0.2631080029858213,0.21874358908541025,0.1343694331799047,-0.5763239076665645,0.19907808990273126,-1.958138681897841,-0.8435479649735442,-1.4640417188204626,-1.6505717179774673,-2.0676441363223192,1.4647648097517778,-1.4432062766752263,-0.294336311463992,-0.3138270503593679,1.0616350839379665,-0.5995850805396759,-0.9974355202646705,-0.07181564859562066,-1.2493479587059146,0.8286248190250138,-0.1571326015692302,0.6833913551360058,-0.08144119875324148,-0.8864065027930987,-2.042351700580485,-1.0963549710546054,1.0022074810344013,-0.6102146557489702,0.5828762326558126,0.049598978650248676,-0.8817136891256833,1.337341159029311,-1.1529979032575004,-0.11333734807094036,-0.525070843555387,0.17024698858190182,-0.3282264888948407,-1.113028627254788,1.0235244019745555,0.6201664068621885,-0.15117135524304864,0.2951257118444934,-1.1106192576265324,0.35373852076191886,-1.3976017232473499,1.5078337514830946],\"type\":\"histogram\"}],                        {\"template\":{\"data\":{\"bar\":[{\"error_x\":{\"color\":\"#2a3f5f\"},\"error_y\":{\"color\":\"#2a3f5f\"},\"marker\":{\"line\":{\"color\":\"#E5ECF6\",\"width\":0.5},\"pattern\":{\"fillmode\":\"overlay\",\"size\":10,\"solidity\":0.2}},\"type\":\"bar\"}],\"barpolar\":[{\"marker\":{\"line\":{\"color\":\"#E5ECF6\",\"width\":0.5},\"pattern\":{\"fillmode\":\"overlay\",\"size\":10,\"solidity\":0.2}},\"type\":\"barpolar\"}],\"carpet\":[{\"aaxis\":{\"endlinecolor\":\"#2a3f5f\",\"gridcolor\":\"white\",\"linecolor\":\"white\",\"minorgridcolor\":\"white\",\"startlinecolor\":\"#2a3f5f\"},\"baxis\":{\"endlinecolor\":\"#2a3f5f\",\"gridcolor\":\"white\",\"linecolor\":\"white\",\"minorgridcolor\":\"white\",\"startlinecolor\":\"#2a3f5f\"},\"type\":\"carpet\"}],\"choropleth\":[{\"colorbar\":{\"outlinewidth\":0,\"ticks\":\"\"},\"type\":\"choropleth\"}],\"contour\":[{\"colorbar\":{\"outlinewidth\":0,\"ticks\":\"\"},\"colorscale\":[[0.0,\"#0d0887\"],[0.1111111111111111,\"#46039f\"],[0.2222222222222222,\"#7201a8\"],[0.3333333333333333,\"#9c179e\"],[0.4444444444444444,\"#bd3786\"],[0.5555555555555556,\"#d8576b\"],[0.6666666666666666,\"#ed7953\"],[0.7777777777777778,\"#fb9f3a\"],[0.8888888888888888,\"#fdca26\"],[1.0,\"#f0f921\"]],\"type\":\"contour\"}],\"contourcarpet\":[{\"colorbar\":{\"outlinewidth\":0,\"ticks\":\"\"},\"type\":\"contourcarpet\"}],\"heatmap\":[{\"colorbar\":{\"outlinewidth\":0,\"ticks\":\"\"},\"colorscale\":[[0.0,\"#0d0887\"],[0.1111111111111111,\"#46039f\"],[0.2222222222222222,\"#7201a8\"],[0.3333333333333333,\"#9c179e\"],[0.4444444444444444,\"#bd3786\"],[0.5555555555555556,\"#d8576b\"],[0.6666666666666666,\"#ed7953\"],[0.7777777777777778,\"#fb9f3a\"],[0.8888888888888888,\"#fdca26\"],[1.0,\"#f0f921\"]],\"type\":\"heatmap\"}],\"heatmapgl\":[{\"colorbar\":{\"outlinewidth\":0,\"ticks\":\"\"},\"colorscale\":[[0.0,\"#0d0887\"],[0.1111111111111111,\"#46039f\"],[0.2222222222222222,\"#7201a8\"],[0.3333333333333333,\"#9c179e\"],[0.4444444444444444,\"#bd3786\"],[0.5555555555555556,\"#d8576b\"],[0.6666666666666666,\"#ed7953\"],[0.7777777777777778,\"#fb9f3a\"],[0.8888888888888888,\"#fdca26\"],[1.0,\"#f0f921\"]],\"type\":\"heatmapgl\"}],\"histogram\":[{\"marker\":{\"pattern\":{\"fillmode\":\"overlay\",\"size\":10,\"solidity\":0.2}},\"type\":\"histogram\"}],\"histogram2d\":[{\"colorbar\":{\"outlinewidth\":0,\"ticks\":\"\"},\"colorscale\":[[0.0,\"#0d0887\"],[0.1111111111111111,\"#46039f\"],[0.2222222222222222,\"#7201a8\"],[0.3333333333333333,\"#9c179e\"],[0.4444444444444444,\"#bd3786\"],[0.5555555555555556,\"#d8576b\"],[0.6666666666666666,\"#ed7953\"],[0.7777777777777778,\"#fb9f3a\"],[0.8888888888888888,\"#fdca26\"],[1.0,\"#f0f921\"]],\"type\":\"histogram2d\"}],\"histogram2dcontour\":[{\"colorbar\":{\"outlinewidth\":0,\"ticks\":\"\"},\"colorscale\":[[0.0,\"#0d0887\"],[0.1111111111111111,\"#46039f\"],[0.2222222222222222,\"#7201a8\"],[0.3333333333333333,\"#9c179e\"],[0.4444444444444444,\"#bd3786\"],[0.5555555555555556,\"#d8576b\"],[0.6666666666666666,\"#ed7953\"],[0.7777777777777778,\"#fb9f3a\"],[0.8888888888888888,\"#fdca26\"],[1.0,\"#f0f921\"]],\"type\":\"histogram2dcontour\"}],\"mesh3d\":[{\"colorbar\":{\"outlinewidth\":0,\"ticks\":\"\"},\"type\":\"mesh3d\"}],\"parcoords\":[{\"line\":{\"colorbar\":{\"outlinewidth\":0,\"ticks\":\"\"}},\"type\":\"parcoords\"}],\"pie\":[{\"automargin\":true,\"type\":\"pie\"}],\"scatter\":[{\"marker\":{\"colorbar\":{\"outlinewidth\":0,\"ticks\":\"\"}},\"type\":\"scatter\"}],\"scatter3d\":[{\"line\":{\"colorbar\":{\"outlinewidth\":0,\"ticks\":\"\"}},\"marker\":{\"colorbar\":{\"outlinewidth\":0,\"ticks\":\"\"}},\"type\":\"scatter3d\"}],\"scattercarpet\":[{\"marker\":{\"colorbar\":{\"outlinewidth\":0,\"ticks\":\"\"}},\"type\":\"scattercarpet\"}],\"scattergeo\":[{\"marker\":{\"colorbar\":{\"outlinewidth\":0,\"ticks\":\"\"}},\"type\":\"scattergeo\"}],\"scattergl\":[{\"marker\":{\"colorbar\":{\"outlinewidth\":0,\"ticks\":\"\"}},\"type\":\"scattergl\"}],\"scattermapbox\":[{\"marker\":{\"colorbar\":{\"outlinewidth\":0,\"ticks\":\"\"}},\"type\":\"scattermapbox\"}],\"scatterpolar\":[{\"marker\":{\"colorbar\":{\"outlinewidth\":0,\"ticks\":\"\"}},\"type\":\"scatterpolar\"}],\"scatterpolargl\":[{\"marker\":{\"colorbar\":{\"outlinewidth\":0,\"ticks\":\"\"}},\"type\":\"scatterpolargl\"}],\"scatterternary\":[{\"marker\":{\"colorbar\":{\"outlinewidth\":0,\"ticks\":\"\"}},\"type\":\"scatterternary\"}],\"surface\":[{\"colorbar\":{\"outlinewidth\":0,\"ticks\":\"\"},\"colorscale\":[[0.0,\"#0d0887\"],[0.1111111111111111,\"#46039f\"],[0.2222222222222222,\"#7201a8\"],[0.3333333333333333,\"#9c179e\"],[0.4444444444444444,\"#bd3786\"],[0.5555555555555556,\"#d8576b\"],[0.6666666666666666,\"#ed7953\"],[0.7777777777777778,\"#fb9f3a\"],[0.8888888888888888,\"#fdca26\"],[1.0,\"#f0f921\"]],\"type\":\"surface\"}],\"table\":[{\"cells\":{\"fill\":{\"color\":\"#EBF0F8\"},\"line\":{\"color\":\"white\"}},\"header\":{\"fill\":{\"color\":\"#C8D4E3\"},\"line\":{\"color\":\"white\"}},\"type\":\"table\"}]},\"layout\":{\"annotationdefaults\":{\"arrowcolor\":\"#2a3f5f\",\"arrowhead\":0,\"arrowwidth\":1},\"autotypenumbers\":\"strict\",\"coloraxis\":{\"colorbar\":{\"outlinewidth\":0,\"ticks\":\"\"}},\"colorscale\":{\"diverging\":[[0,\"#8e0152\"],[0.1,\"#c51b7d\"],[0.2,\"#de77ae\"],[0.3,\"#f1b6da\"],[0.4,\"#fde0ef\"],[0.5,\"#f7f7f7\"],[0.6,\"#e6f5d0\"],[0.7,\"#b8e186\"],[0.8,\"#7fbc41\"],[0.9,\"#4d9221\"],[1,\"#276419\"]],\"sequential\":[[0.0,\"#0d0887\"],[0.1111111111111111,\"#46039f\"],[0.2222222222222222,\"#7201a8\"],[0.3333333333333333,\"#9c179e\"],[0.4444444444444444,\"#bd3786\"],[0.5555555555555556,\"#d8576b\"],[0.6666666666666666,\"#ed7953\"],[0.7777777777777778,\"#fb9f3a\"],[0.8888888888888888,\"#fdca26\"],[1.0,\"#f0f921\"]],\"sequentialminus\":[[0.0,\"#0d0887\"],[0.1111111111111111,\"#46039f\"],[0.2222222222222222,\"#7201a8\"],[0.3333333333333333,\"#9c179e\"],[0.4444444444444444,\"#bd3786\"],[0.5555555555555556,\"#d8576b\"],[0.6666666666666666,\"#ed7953\"],[0.7777777777777778,\"#fb9f3a\"],[0.8888888888888888,\"#fdca26\"],[1.0,\"#f0f921\"]]},\"colorway\":[\"#636efa\",\"#EF553B\",\"#00cc96\",\"#ab63fa\",\"#FFA15A\",\"#19d3f3\",\"#FF6692\",\"#B6E880\",\"#FF97FF\",\"#FECB52\"],\"font\":{\"color\":\"#2a3f5f\"},\"geo\":{\"bgcolor\":\"white\",\"lakecolor\":\"white\",\"landcolor\":\"#E5ECF6\",\"showlakes\":true,\"showland\":true,\"subunitcolor\":\"white\"},\"hoverlabel\":{\"align\":\"left\"},\"hovermode\":\"closest\",\"mapbox\":{\"style\":\"light\"},\"paper_bgcolor\":\"white\",\"plot_bgcolor\":\"#E5ECF6\",\"polar\":{\"angularaxis\":{\"gridcolor\":\"white\",\"linecolor\":\"white\",\"ticks\":\"\"},\"bgcolor\":\"#E5ECF6\",\"radialaxis\":{\"gridcolor\":\"white\",\"linecolor\":\"white\",\"ticks\":\"\"}},\"scene\":{\"xaxis\":{\"backgroundcolor\":\"#E5ECF6\",\"gridcolor\":\"white\",\"gridwidth\":2,\"linecolor\":\"white\",\"showbackground\":true,\"ticks\":\"\",\"zerolinecolor\":\"white\"},\"yaxis\":{\"backgroundcolor\":\"#E5ECF6\",\"gridcolor\":\"white\",\"gridwidth\":2,\"linecolor\":\"white\",\"showbackground\":true,\"ticks\":\"\",\"zerolinecolor\":\"white\"},\"zaxis\":{\"backgroundcolor\":\"#E5ECF6\",\"gridcolor\":\"white\",\"gridwidth\":2,\"linecolor\":\"white\",\"showbackground\":true,\"ticks\":\"\",\"zerolinecolor\":\"white\"}},\"shapedefaults\":{\"line\":{\"color\":\"#2a3f5f\"}},\"ternary\":{\"aaxis\":{\"gridcolor\":\"white\",\"linecolor\":\"white\",\"ticks\":\"\"},\"baxis\":{\"gridcolor\":\"white\",\"linecolor\":\"white\",\"ticks\":\"\"},\"bgcolor\":\"#E5ECF6\",\"caxis\":{\"gridcolor\":\"white\",\"linecolor\":\"white\",\"ticks\":\"\"}},\"title\":{\"x\":0.05},\"xaxis\":{\"automargin\":true,\"gridcolor\":\"white\",\"linecolor\":\"white\",\"ticks\":\"\",\"title\":{\"standoff\":15},\"zerolinecolor\":\"white\",\"zerolinewidth\":2},\"yaxis\":{\"automargin\":true,\"gridcolor\":\"white\",\"linecolor\":\"white\",\"ticks\":\"\",\"title\":{\"standoff\":15},\"zerolinecolor\":\"white\",\"zerolinewidth\":2}}}},                        {\"responsive\": true}                    ).then(function(){\n",
              "                            \n",
              "var gd = document.getElementById('07405448-3e63-4ffd-ad80-ce7a56f90009');\n",
              "var x = new MutationObserver(function (mutations, observer) {{\n",
              "        var display = window.getComputedStyle(gd).display;\n",
              "        if (!display || display === 'none') {{\n",
              "            console.log([gd, 'removed!']);\n",
              "            Plotly.purge(gd);\n",
              "            observer.disconnect();\n",
              "        }}\n",
              "}});\n",
              "\n",
              "// Listen for the removal of the full notebook cells\n",
              "var notebookContainer = gd.closest('#notebook-container');\n",
              "if (notebookContainer) {{\n",
              "    x.observe(notebookContainer, {childList: true});\n",
              "}}\n",
              "\n",
              "// Listen for the clearing of the current output cell\n",
              "var outputEl = gd.closest('.output');\n",
              "if (outputEl) {{\n",
              "    x.observe(outputEl, {childList: true});\n",
              "}}\n",
              "\n",
              "                        })                };                            </script>        </div>\n",
              "</body>\n",
              "</html>"
            ]
          },
          "metadata": {}
        }
      ]
    },
    {
      "cell_type": "markdown",
      "metadata": {
        "id": "VQlD6NuFrFb3"
      },
      "source": [
        "###Overlaid Histogram"
      ]
    },
    {
      "cell_type": "code",
      "metadata": {
        "id": "wSm_kT7wk567",
        "colab": {
          "base_uri": "https://localhost:8080/",
          "height": 542
        },
        "outputId": "abfb0473-fc32-4205-f871-99fd476d0afa"
      },
      "source": [
        "#Overlaid Histogram\n",
        "import plotly.graph_objects as go\n",
        "import numpy as np\n",
        "x0 = np.random.randn(500)\n",
        "# Add 1 to shift the mean of the Gaussian distribution\n",
        "x1 = np.random.randn(500) + 1\n",
        "\n",
        "fig = go.Figure()\n",
        "fig.add_trace(go.Histogram(x=x0))\n",
        "fig.add_trace(go.Histogram(x=x1))\n",
        "\n",
        "# Overlay both histograms\n",
        "fig.update_layout(barmode='overlay')\n",
        "# Reduce opacity to see both histograms\n",
        "fig.update_traces(opacity=0.75)\n",
        "fig.show()"
      ],
      "execution_count": null,
      "outputs": [
        {
          "output_type": "display_data",
          "data": {
            "text/html": [
              "<html>\n",
              "<head><meta charset=\"utf-8\" /></head>\n",
              "<body>\n",
              "    <div>            <script src=\"https://cdnjs.cloudflare.com/ajax/libs/mathjax/2.7.5/MathJax.js?config=TeX-AMS-MML_SVG\"></script><script type=\"text/javascript\">if (window.MathJax) {MathJax.Hub.Config({SVG: {font: \"STIX-Web\"}});}</script>                <script type=\"text/javascript\">window.PlotlyConfig = {MathJaxConfig: 'local'};</script>\n",
              "        <script src=\"https://cdn.plot.ly/plotly-2.8.3.min.js\"></script>                <div id=\"4786332e-d94e-45b5-a764-9ee3f641c7dd\" class=\"plotly-graph-div\" style=\"height:525px; width:100%;\"></div>            <script type=\"text/javascript\">                                    window.PLOTLYENV=window.PLOTLYENV || {};                                    if (document.getElementById(\"4786332e-d94e-45b5-a764-9ee3f641c7dd\")) {                    Plotly.newPlot(                        \"4786332e-d94e-45b5-a764-9ee3f641c7dd\",                        [{\"x\":[0.0007611253031779222,2.154917243882311,-0.8762809737528366,1.4384333505660083,0.14925299710470105,-0.46466330434410164,-0.236197949482646,0.5882983054653044,1.3274445561522472,0.27988034856422966,-0.32264350183000745,-0.7913314879999139,0.6032381815966709,0.919151226242835,0.2332333110871796,0.24917259473919126,0.6110760398385308,-0.7262133055237461,1.6773480614953709,-0.026972269869807736,-1.1729205738304633,0.2583405858634447,0.016690403060564574,-0.2575056064083052,-0.19666431310297838,-0.3583539821381734,1.460573150600675,-0.8791417468864724,-0.2646956022382404,0.5635214849885429,0.014008436039604019,0.35649862066803334,-0.9463120769757118,0.09702759667395587,-0.06789222439988592,-0.31043186186269434,-0.6358680942222729,0.38668587915286495,-0.8904596347287917,-0.7335348142987808,-1.133259331692254,-0.8872058104042606,1.7055420771598748,-0.6185024695309487,-0.1884077358225737,-0.041530901597818394,0.9711225522382833,0.10845741475441235,0.6578658475173114,1.5842344081633706,-0.3286119342755617,0.45295837450563003,-0.8953816655111702,0.11880943725143878,1.0223256118052735,-0.5811797866426098,-0.16854485039696843,0.6247918978607573,-0.2205884561628512,0.9377916126734347,-0.08456327941486173,-1.162894303632886,-0.01976133449101124,-0.045038978407477004,0.049819566606557654,0.04215601130057233,0.011284025411273008,-0.14872373701643807,-1.1729675517006684,-0.04734870292322676,0.8388829704754093,-0.5770331680035586,1.8084404402835002,-0.07516273846431809,0.27884260516600007,1.756062224712342,-0.6995929703039153,-1.0416398467577181,1.4350464961145841,0.01784410540669993,0.6633581202160523,-0.402621149841469,1.099216371871435,1.3439149470151455,-0.3558131814102944,1.2929918209603672,-1.5246196627985409,0.12335290537973927,-0.40368031312214736,-0.7605444866816122,-2.2048721300818523,1.159176013027055,0.5721760978443575,0.2493378693988357,-0.7526236027098242,0.4387825493901588,-0.2338822348686851,0.005085598328511733,-0.8247318925800673,-0.7563052564869281,0.6383714221220336,-1.166732367260761,-0.6741386528119009,1.2459054603763842,0.1019564149414096,-1.299144919383497,0.8239792709090121,-0.21286264423343296,0.040210180420201184,-0.04245180936294337,-1.5799159779592624,0.8781370635550653,2.0179928722699536,-0.2925442883055385,0.7547954894038764,0.2308043197752764,-0.6011786474112969,-0.8016380839078969,-1.2099703310671186,1.278630198600369,0.6719397371302528,1.1392385161922252,-0.6057565781219302,0.38068548015945053,0.4699629242357717,0.6651795561854934,0.11316103462067725,1.1818521667118673,-0.4630326492867701,-1.755590009293889,0.05652871530730209,1.1270378213986985,-0.5968252095501128,-2.40851597246294,-1.5961775340624444,1.5913058856010265,0.18173572461475762,0.8661944464377374,1.4472416721797698,0.30308581207424673,-2.037393853004736,-1.3517944547310539,0.09265236183561183,1.5726546467834734,1.553052636341018,-0.566900115014871,1.174208018104449,0.25081511513774846,0.046347060070043584,-1.4202606811346519,0.29602575588329144,-1.648604655108922,-0.31731099566979937,-1.0106895816759773,-0.9863335119818711,-0.08089792203196619,0.24528577105108268,0.7939433603156125,-1.0109533214111635,0.27927741575419845,-2.3061447829891257,-1.0387228432981408,-0.15472459422582138,-0.7870181310262481,0.24597289771190467,-0.028728853868425205,1.1098590121654703,0.9614206305378279,-1.124945999844674,-0.2807419473852395,0.9579556880123868,1.4356309857280447,-0.3300923373377188,0.8875981877530883,0.24290926134937277,-0.6584381112830677,-0.9015516510300416,-0.8667747360177824,0.8905359037842113,0.14400529964157163,-1.5692037923086277,0.43448297068648983,1.7882189118297902,0.42910240160266244,-0.6879640323412749,0.5061716138725982,0.7700869129744704,-2.3251421967102095,-1.9789413906492812,-0.8636304877969805,-0.49116494730728655,1.6120377851684675,0.989491276231209,-0.7398853665397104,0.3424162005634059,0.6946590263126243,1.0135386343469537,-0.8120615394731798,-1.0182748463763887,0.012132792591572293,1.6095333615587515,0.3103812584819079,-1.2687899500912139,1.3140069216376795,-2.1902170993248977,-1.4745500399058766,0.8546245319792249,-0.026526200842411404,-0.2618753226741888,-0.19086459176418635,-0.25392101882665485,0.42153441695346244,0.6807626618102381,1.5370939037024667,0.43862579885753034,0.7924501623628376,0.03684978112209836,2.048226446854586,-0.3566201915435395,2.014488104722673,-1.275418654288812,-0.5059848026333391,-2.1739420755709347,1.5532640772835318,-0.23232525390204656,-0.3979600041327836,0.039762072728351194,-0.846902377728734,0.25160758323574456,-0.26423674993646895,-0.40330520725050667,-0.2822001137143534,-1.7829641026302911,-0.9907406771056767,-0.43885673549828036,-0.1780220907351453,-0.09280846639540287,-0.4807722762686653,1.2857023892409136,-0.236338632213554,-0.616875822360753,-0.18395460429590932,-0.3349088512193755,0.46803672163022647,-0.7818698835579935,1.3251296147961058,0.5403810189057078,0.5892933092893945,-1.8555913009528529,-1.376979383959488,0.11761530561382426,0.5148740247712977,-0.795713773432728,-0.6975488911410531,0.10724779397514451,1.9003225411751488,-0.16708999543067912,1.3444032135019568,0.3031783463595892,-0.5875939160285344,0.9538231677876122,1.8425772047150735,0.9298534853274383,0.09057601892184576,-0.4141616379765542,0.16448386211848734,-1.3964330834060663,1.327901915540279,-1.9043388997850716,0.29450052203480687,-0.24581175343246323,0.7227442380399258,1.476909325951296,-2.597902957346392,0.5513773767088399,-0.22302304980822113,-0.005796164733507074,0.15142297438700614,-1.3471651974876253,-0.3823299648328077,1.213287539547884,-0.5960943249968914,0.030598578404085558,0.4115222801083348,-0.208098061462542,0.6245100005490107,-0.3749877994410997,0.10759715529959313,-0.42318713963466215,-0.08440439969492844,-0.8946430579826407,-1.2492062410414875,0.04318541005858766,-0.45553693914181836,-0.3685595199608792,-0.7124180466858706,1.2126585834573016,0.27549014157446544,0.47672692267906475,1.4564909130223294,-1.3530042440681336,0.7584477319678333,-0.46598279516460883,0.28175931893764217,-0.9857489689375128,0.24339786853694542,0.22373582269808007,-1.2397321466212952,-1.0265036069630544,0.38150331314543595,0.8094241528328122,-0.6270734911120944,-1.0175370787947717,-0.6072286588788585,0.08943839966224132,-0.17389808772168625,1.077224954444861,-1.3949114455228289,-0.8252557349454432,-1.9231006936606698,1.4415237838930137,-0.953931800343187,-1.2531892467949857,-2.8341724368322003,0.3183179946142697,-0.23740976319831825,-0.17644272208612813,1.7730711248921138,0.7563140568299901,0.0770165156287731,0.40233748787518336,0.042463801308788185,0.16076897225486836,-0.21995945435631623,0.2634509151395872,0.7209821168931774,0.6766686217517375,-1.8096695380471501,-1.055924283872579,-0.11886055745172386,-2.110641723661434,0.7897935204752045,0.9394198919959361,-0.6332830566781169,1.1781347445945018,0.3489488249893507,-1.3032570443201232,0.6787321272989905,-1.0597201499260245,-1.7458557446817935,2.4389426074237996,1.566355075044508,1.766401699697481,-1.5538731992855104,-0.0027172740004060736,-0.09268740329799643,-0.10445048564940865,0.8448911055081585,-0.3049968218412021,-0.10021516467231395,-0.5693196874038963,0.7141361900571488,0.40502380717370634,1.028450087086384,1.617025016959838,0.09271444529461374,1.4055337900874465,0.04999956644008266,-0.47939939349528987,0.229343282606484,-0.37163914631134526,-0.4557369084481908,-0.04227935995801849,-0.1487428260902357,1.4896966898591149,-1.1151584520513815,1.8193877363172115,-0.01527026165043826,1.7359287083276516,-1.7453666246655848,0.40875534696561033,-0.21509188214651054,-1.5669486773449435,1.2743343575572779,-0.09695811890067428,0.8392926231599277,0.5867531342295136,0.1559840634010148,-0.0052409962849189005,-0.3814334778879571,1.7040061942250921,0.2686716822886395,-0.49671754373972965,0.464068464722791,-0.7137217466633481,-1.1626524375316305,1.2425633779273788,-0.40775459374370887,0.46581214953338757,1.4213893614435957,0.313318967561739,-0.1387762643496691,0.5568224020409667,-0.6315008568308137,0.5374808294486451,1.2432604299211525,-0.708880825899943,0.09114594871391464,-0.6780010709330897,0.779792805047273,-1.0111333860959872,0.5461458895762897,-0.33198655041276637,1.0272805098988396,-0.9278786481374656,1.4009703999145053,0.7255077697541301,2.0511933149737573,-1.3819790730272588,0.5113049972766609,1.6629457269904766,-0.5693260294896552,0.17373000821675677,-1.0654291138224845,-1.1617359088537407,-0.05523165415913484,-1.1787007486255772,-1.496281315621123,-0.6829624208016957,0.8681085928440413,-1.5015642717833761,-1.3691431793544178,-1.3404592765325358,-0.09118503766370602,-0.3563912723072009,-1.640312805818124,-0.5791389831977488,0.07564904386185042,-1.2217597135758935,-0.0046318368053292125,-0.41981998944135346,-0.9102281712134601,0.5036896963656098,-0.19412097962118874,0.5312958681074496,-0.5984604379464217,-1.543371484388084,-0.4486071599335541,0.8408904290421454,-0.8263382535496187,-0.885769241834612,1.0758472874038267,0.7224442572385286,-0.19251507710894522,0.5484579749964474,0.9156549037058938,0.9256729729410021,-2.9841562905741776,-0.17782329199829522,-1.0472622048567024,0.6300254960550215,-0.14802697780119534,-1.2458953868091163,0.4930719238991213,-0.871034505404331,0.14565411087361607,1.4952580078934397,-0.015812470787977026,-1.0009799409636047,1.6275898969640625,0.44329700485465356,0.9284302331734212,-0.7809694989041196,-0.10906939228527814,-0.2520661062423463,-1.8534118990581314,-1.8069063925666395,-1.2483784976747938,0.01631444478776811,-0.5033870545123332,-1.2168417610939637,-1.2127270887197106,-2.4844519815988177,-1.762780152109759,-1.0158197561437323,0.9505612033188239,1.7850701331721734,0.23736131995633916,1.230111958571005,0.9615284971485765,-0.2633451039621458,2.0967631175683086,1.0752518838027547,-0.23251950761835424,-0.7011940011378117,-0.39665361580645736,0.16358395842461732,0.024969789232216464,0.05569095895875945,-0.3602490745372872],\"type\":\"histogram\",\"opacity\":0.75},{\"x\":[1.4391363963645722,1.5089181118263781,-0.021075638455785972,3.3665361654391424,0.7507279694672678,-0.4216999570169575,-0.25674890795312266,1.6584190086592203,1.3874415805052271,2.9393072239250064,0.8875510661113701,-0.762118019300208,1.9218826434378242,2.2739632171096513,-0.5240508237492816,1.1069491183968985,1.8154995104470264,0.8122258440701814,-0.044155033345436134,0.703902546629659,3.517822389082484,1.8159160327247958,0.2568644656528052,-0.10551636442170031,4.044575931177514,0.9538005532867189,0.8271505486803588,0.6585895682217155,-0.4952379177965771,3.0450261281195017,1.5520445457772758,0.6126658740032969,1.8675227750027537,0.6595003142628193,0.7970018078972098,0.7170304156703571,0.569489160830625,-1.2533197884538336,0.2732476848979638,1.4196467551278928,0.5443517479465996,0.036545221380019255,1.85278836565782,2.192213073151864,3.588301237322638,2.3069302120166473,-0.613272656876501,1.694784028301891,-0.23524791125096312,-0.43451819259202185,-0.0814454982556827,1.7307056405155339,0.6196951776742535,1.7932155973796449,1.8152172962411814,0.8185371025782109,2.994959523143869,2.277719227174544,-0.8459295196956609,1.979669548905632,1.576643210667715,1.171544652206129,1.6823279581934631,1.5347955789604102,1.9609997466774418,0.19570544301114567,1.4405462241497478,0.6765314536857026,1.0082393752373784,1.5462588637062842,0.8121009647357339,0.6465291498606529,1.385289927057788,1.7714221454824521,1.6595764546102618,-0.18822436120886676,0.4138395686761762,2.4813602567221924,2.1610021310213865,1.1772744054178226,1.8120576407227311,1.884208672488594,0.3662857404584844,2.229982313969803,0.4547541444993496,2.3099340169520532,0.9089849018096938,1.7870909408821314,0.8078964148274742,-0.1281829628579465,-0.08557999312925402,-0.38561853314476524,0.3162752106674802,1.7847776596101719,-0.7786998453942873,-0.9369401650236411,-0.8114532406371593,0.5081164415647557,3.357517952713009,-0.06369277659256856,1.7515567209507321,2.0247768613256882,1.8608271424977543,1.7329109068243596,0.7117075313240036,1.8063654330728633,-0.21473179571319423,1.9403442172789536,1.0683891134884014,0.8343295678782295,-0.3261928054009524,1.3268700291701556,0.9473519181434576,-0.33978473984947666,2.4630022253345807,1.0092417526531867,0.27303452536809625,0.6812440266364559,1.2020175253358678,-0.07816536886338965,0.47973303575271353,1.8764735937476855,0.937973833674511,1.1052626390537672,-0.003417434901215488,0.9310085897186073,1.5354794944426255,0.36344226198444973,1.2906690095409359,0.11204389402683401,0.5822439778376991,1.9180277846014877,-0.6469017570580673,-0.7650305772708077,1.6386736965183801,1.0847100822176963,-1.2617914105031374,1.0997900755975194,-0.2651904675030199,0.4763120600890629,0.372431892233837,1.307002605934838,1.0441981999555543,0.8467324840545762,1.4292628027028833,0.5162368316479682,-0.7627038070250194,1.1294126827248874,0.2709345446191801,1.600142053371544,1.0297652002074935,2.492010142883105,1.7298532433110618,1.887941331437648,0.9610297095163939,2.2366813479447383,1.2636617213539827,0.2649738609827541,-0.02365952345568334,1.0097198321662304,3.386441620729062,0.8181741290660464,0.5020818733258301,0.757760588925992,1.3377895850506312,2.126741567348442,2.2025988799104272,1.2358235681609147,1.6709283394323462,-0.5995744345109111,-0.5748171879513166,0.3379502261683457,1.3704912386537618,1.482065726002986,1.154566153384757,0.10656017342595403,0.675429297702509,2.9713844798076146,2.277258675077274,1.086407584545289,2.138854536784216,1.1424638166983179,1.2157047822611293,0.6499982469114669,0.7297368020597403,0.5307746023313233,0.4672718214727274,1.6721281957027516,0.06244008839054416,1.2892096466898013,0.7173261070358445,-0.8771138632327133,-0.8128348635214655,0.8842590731154136,2.3366697845317166,-0.27585003562518073,1.4936320136729044,0.5556012027179938,-0.7789125096191476,-1.1218952615816127,1.6773798987384412,0.8162656322065511,1.0593206459261748,2.000829350748102,0.5722505169819855,-0.3142343199757083,3.2693484262245267,0.21618189770237317,1.7558857500147564,1.1707962742418812,0.8924487697692766,-0.4803662348097577,-0.771781460122674,1.3491293343007686,0.7048604766949913,0.6577240604549095,1.745864266108544,2.3407470683294895,1.4871055903239627,1.579309310934754,1.9469354163800476,0.02776893834933114,-0.40614212699804564,0.7925105765026281,-1.7328648053556024,1.6968937490640001,-0.01407758538509385,1.385940430172837,0.4636054854154228,0.5516217734972819,1.930395899545919,-0.014698346346713187,0.1987702507607264,2.3495598569630944,1.0287803443145283,1.9887717153987232,3.8010555800641543,0.5464058837989908,2.8431414048081542,0.9736489153865152,0.5771877680277039,0.18594371556973466,1.0710112755406855,-0.7638970356548724,0.3047125888672606,1.770164364858866,-0.013665100801898422,3.320611195469618,0.985967844409982,0.6799010936864114,-0.3018923569934715,-0.2806723598734582,-1.0885416798329222,1.0608214169661687,2.113358141449715,2.43712172332548,1.66754730849834,1.2519924146836616,0.908263608374704,-0.7591397602517451,0.45462948157635663,1.782961661427239,0.007817686281200054,1.541855901761806,2.3171955618230102,0.23074130327763864,-0.22694377116248066,1.4369417847163877,1.8676954276902227,1.7047918536681723,1.9718008147941886,1.151875497621184,1.8734520876238647,-0.9043431207827894,1.461665966644189,-0.3405752399114803,1.5446466189496162,2.312958651221969,0.18836511250067312,2.4971062352896913,1.8803167862946502,-1.4446386319096378,0.5188348716993718,-0.45529847227953124,0.5939887581744456,0.6963830656625989,1.3169199978418713,1.9073180241055432,0.8548334951000928,0.8719674169121169,1.18109963019215,1.0145503077244955,2.084063358451399,0.4335656748572808,0.6481553171521663,1.6577347840058292,0.16883889333763302,1.288699851969078,2.2279756009657703,1.6412010404902835,0.9482985274810714,1.4233533898404094,1.82641943435878,0.8625493500858146,2.1349015215226292,1.657126342746629,0.31138080945297497,-0.04509147898909327,2.3447381890737056,1.1956534962941596,0.5363527852208239,1.6693946644475741,1.1726009712011884,-1.4801353935030073,2.186496333361645,-0.8443525799826794,1.1413326306938367,0.18100669920147827,0.3784655458156896,1.1153121700538433,0.4741899309572799,0.6974809810354102,2.375557980102463,1.7424332274101078,1.6853432055602608,0.30776691649030063,0.9643016587977032,2.3656483224962317,-1.0131314702309901,0.6671398855410235,2.4818810782573353,2.0338179555620113,0.18326708221535237,1.2054334392694637,1.2675521970326997,1.710697935626059,0.7600270037247863,-0.34800342167356635,1.1015487837414972,1.520209892209108,3.115545720755196,-0.9379767425520003,0.8975101816796484,-0.049454111934321476,0.4892315704462389,0.044721415761042826,1.560142624754093,1.011427745950308,0.18050276985840796,2.6987161456589774,1.423762304095323,0.48338970771093903,0.19919333978491838,0.7146232203719816,1.0325216040175422,1.5362482788092016,1.3916988495743614,1.3514700667340136,-0.06545816062652698,1.435618863362127,-0.2344483263936865,-1.360887582891713,2.159812380689613,2.379379669882294,2.031908909228791,-0.6362315558287568,0.40376003128925997,0.9162853626673616,1.3553270039396441,1.83379210834216,-0.0964992662285864,0.4554990333262733,1.168174141198907,0.19532433660604787,3.6478065155368182,1.2279194966583813,1.7582230180836058,0.4412346737065729,0.3853045204464097,2.7071692802067693,1.0458745985109597,0.06808172627604292,2.060917149077034,2.5886320408530143,3.1843588254274686,0.4349028660335489,0.03260089092609386,3.031917570333247,1.8617860106137996,2.410941161156353,1.7551934103077678,0.4880521370229641,-0.6775391537715336,3.0859477117770395,1.2292029289986297,2.348680653659343,-0.3944717914185456,0.4930045761418489,1.963104752337115,1.219835732663101,0.3720234665906291,2.5004145706484304,2.8939274980373066,1.744907281692878,1.9957188680489222,0.5709831964656027,0.6915914703185608,-0.07995246565397429,1.20507439802036,1.667806765451249,0.5541692341751405,1.7853389852817487,1.383837850165768,0.7455756002554097,-1.2741568656882536,-0.08757980039341273,3.7685777742033104,0.6740496860055073,0.8608507950438431,0.401807696283919,0.9840000754899557,0.44824961424879484,2.272120669164158,0.12850017704577776,-0.8242234061642537,-0.07059968495307989,1.6178587939709608,1.7248116656601529,0.570871227285541,1.0202506900504813,0.45816859735587323,-0.019641650963155843,1.5512675605074173,0.024889984556304534,3.2316716342013425,0.7141648325107607,-0.02002758161646434,-0.29241366544743097,1.0347848274957003,1.5365411508099407,1.3598336971897598,1.1144045606043667,0.0964382671905506,2.3817818333909235,2.3993271435476844,0.6111444588996926,2.2271673008975252,0.12603878044182548,1.965041998945824,0.666992816238644,1.8864269143140084,1.7801129224142334,1.6976966543080274,1.1046090091091119,1.7340521945773564,-0.11003192533208472,0.4552938615913438,0.7849203459119787,-0.6926864160432753,0.19318090680684286,-0.0734811998244822,0.06690527100877275,1.3478751517014382,1.6676294190019414,1.0812684553957432,0.4849115161505856,-0.2583795779931226,1.5206996061619145,1.7822009853643999,2.8295810878000704,1.9598531385719897,2.005793728888966,0.15317337492524596,1.7088483891315307,1.1756299048456695,1.0441378793901919,1.4512594812358401,0.4980172216605705,1.7258515215584673,0.6872930139306805,1.8109733665042094,1.4698921341348283,2.212027997188218,1.03907593974919,1.236010227986325,0.9206491220760452,0.20661013638858927,0.91940037674561,2.6139059732832735,0.8360941729809248,1.5034866650298524,0.016594003019704373,1.916029246305503,0.9702743586198719,0.7239923231228336,-0.152040771107951,0.49625469551927404,0.257988596629796,1.6881388303700517,1.8715721247787744],\"type\":\"histogram\",\"opacity\":0.75}],                        {\"template\":{\"data\":{\"bar\":[{\"error_x\":{\"color\":\"#2a3f5f\"},\"error_y\":{\"color\":\"#2a3f5f\"},\"marker\":{\"line\":{\"color\":\"#E5ECF6\",\"width\":0.5},\"pattern\":{\"fillmode\":\"overlay\",\"size\":10,\"solidity\":0.2}},\"type\":\"bar\"}],\"barpolar\":[{\"marker\":{\"line\":{\"color\":\"#E5ECF6\",\"width\":0.5},\"pattern\":{\"fillmode\":\"overlay\",\"size\":10,\"solidity\":0.2}},\"type\":\"barpolar\"}],\"carpet\":[{\"aaxis\":{\"endlinecolor\":\"#2a3f5f\",\"gridcolor\":\"white\",\"linecolor\":\"white\",\"minorgridcolor\":\"white\",\"startlinecolor\":\"#2a3f5f\"},\"baxis\":{\"endlinecolor\":\"#2a3f5f\",\"gridcolor\":\"white\",\"linecolor\":\"white\",\"minorgridcolor\":\"white\",\"startlinecolor\":\"#2a3f5f\"},\"type\":\"carpet\"}],\"choropleth\":[{\"colorbar\":{\"outlinewidth\":0,\"ticks\":\"\"},\"type\":\"choropleth\"}],\"contour\":[{\"colorbar\":{\"outlinewidth\":0,\"ticks\":\"\"},\"colorscale\":[[0.0,\"#0d0887\"],[0.1111111111111111,\"#46039f\"],[0.2222222222222222,\"#7201a8\"],[0.3333333333333333,\"#9c179e\"],[0.4444444444444444,\"#bd3786\"],[0.5555555555555556,\"#d8576b\"],[0.6666666666666666,\"#ed7953\"],[0.7777777777777778,\"#fb9f3a\"],[0.8888888888888888,\"#fdca26\"],[1.0,\"#f0f921\"]],\"type\":\"contour\"}],\"contourcarpet\":[{\"colorbar\":{\"outlinewidth\":0,\"ticks\":\"\"},\"type\":\"contourcarpet\"}],\"heatmap\":[{\"colorbar\":{\"outlinewidth\":0,\"ticks\":\"\"},\"colorscale\":[[0.0,\"#0d0887\"],[0.1111111111111111,\"#46039f\"],[0.2222222222222222,\"#7201a8\"],[0.3333333333333333,\"#9c179e\"],[0.4444444444444444,\"#bd3786\"],[0.5555555555555556,\"#d8576b\"],[0.6666666666666666,\"#ed7953\"],[0.7777777777777778,\"#fb9f3a\"],[0.8888888888888888,\"#fdca26\"],[1.0,\"#f0f921\"]],\"type\":\"heatmap\"}],\"heatmapgl\":[{\"colorbar\":{\"outlinewidth\":0,\"ticks\":\"\"},\"colorscale\":[[0.0,\"#0d0887\"],[0.1111111111111111,\"#46039f\"],[0.2222222222222222,\"#7201a8\"],[0.3333333333333333,\"#9c179e\"],[0.4444444444444444,\"#bd3786\"],[0.5555555555555556,\"#d8576b\"],[0.6666666666666666,\"#ed7953\"],[0.7777777777777778,\"#fb9f3a\"],[0.8888888888888888,\"#fdca26\"],[1.0,\"#f0f921\"]],\"type\":\"heatmapgl\"}],\"histogram\":[{\"marker\":{\"pattern\":{\"fillmode\":\"overlay\",\"size\":10,\"solidity\":0.2}},\"type\":\"histogram\"}],\"histogram2d\":[{\"colorbar\":{\"outlinewidth\":0,\"ticks\":\"\"},\"colorscale\":[[0.0,\"#0d0887\"],[0.1111111111111111,\"#46039f\"],[0.2222222222222222,\"#7201a8\"],[0.3333333333333333,\"#9c179e\"],[0.4444444444444444,\"#bd3786\"],[0.5555555555555556,\"#d8576b\"],[0.6666666666666666,\"#ed7953\"],[0.7777777777777778,\"#fb9f3a\"],[0.8888888888888888,\"#fdca26\"],[1.0,\"#f0f921\"]],\"type\":\"histogram2d\"}],\"histogram2dcontour\":[{\"colorbar\":{\"outlinewidth\":0,\"ticks\":\"\"},\"colorscale\":[[0.0,\"#0d0887\"],[0.1111111111111111,\"#46039f\"],[0.2222222222222222,\"#7201a8\"],[0.3333333333333333,\"#9c179e\"],[0.4444444444444444,\"#bd3786\"],[0.5555555555555556,\"#d8576b\"],[0.6666666666666666,\"#ed7953\"],[0.7777777777777778,\"#fb9f3a\"],[0.8888888888888888,\"#fdca26\"],[1.0,\"#f0f921\"]],\"type\":\"histogram2dcontour\"}],\"mesh3d\":[{\"colorbar\":{\"outlinewidth\":0,\"ticks\":\"\"},\"type\":\"mesh3d\"}],\"parcoords\":[{\"line\":{\"colorbar\":{\"outlinewidth\":0,\"ticks\":\"\"}},\"type\":\"parcoords\"}],\"pie\":[{\"automargin\":true,\"type\":\"pie\"}],\"scatter\":[{\"marker\":{\"colorbar\":{\"outlinewidth\":0,\"ticks\":\"\"}},\"type\":\"scatter\"}],\"scatter3d\":[{\"line\":{\"colorbar\":{\"outlinewidth\":0,\"ticks\":\"\"}},\"marker\":{\"colorbar\":{\"outlinewidth\":0,\"ticks\":\"\"}},\"type\":\"scatter3d\"}],\"scattercarpet\":[{\"marker\":{\"colorbar\":{\"outlinewidth\":0,\"ticks\":\"\"}},\"type\":\"scattercarpet\"}],\"scattergeo\":[{\"marker\":{\"colorbar\":{\"outlinewidth\":0,\"ticks\":\"\"}},\"type\":\"scattergeo\"}],\"scattergl\":[{\"marker\":{\"colorbar\":{\"outlinewidth\":0,\"ticks\":\"\"}},\"type\":\"scattergl\"}],\"scattermapbox\":[{\"marker\":{\"colorbar\":{\"outlinewidth\":0,\"ticks\":\"\"}},\"type\":\"scattermapbox\"}],\"scatterpolar\":[{\"marker\":{\"colorbar\":{\"outlinewidth\":0,\"ticks\":\"\"}},\"type\":\"scatterpolar\"}],\"scatterpolargl\":[{\"marker\":{\"colorbar\":{\"outlinewidth\":0,\"ticks\":\"\"}},\"type\":\"scatterpolargl\"}],\"scatterternary\":[{\"marker\":{\"colorbar\":{\"outlinewidth\":0,\"ticks\":\"\"}},\"type\":\"scatterternary\"}],\"surface\":[{\"colorbar\":{\"outlinewidth\":0,\"ticks\":\"\"},\"colorscale\":[[0.0,\"#0d0887\"],[0.1111111111111111,\"#46039f\"],[0.2222222222222222,\"#7201a8\"],[0.3333333333333333,\"#9c179e\"],[0.4444444444444444,\"#bd3786\"],[0.5555555555555556,\"#d8576b\"],[0.6666666666666666,\"#ed7953\"],[0.7777777777777778,\"#fb9f3a\"],[0.8888888888888888,\"#fdca26\"],[1.0,\"#f0f921\"]],\"type\":\"surface\"}],\"table\":[{\"cells\":{\"fill\":{\"color\":\"#EBF0F8\"},\"line\":{\"color\":\"white\"}},\"header\":{\"fill\":{\"color\":\"#C8D4E3\"},\"line\":{\"color\":\"white\"}},\"type\":\"table\"}]},\"layout\":{\"annotationdefaults\":{\"arrowcolor\":\"#2a3f5f\",\"arrowhead\":0,\"arrowwidth\":1},\"autotypenumbers\":\"strict\",\"coloraxis\":{\"colorbar\":{\"outlinewidth\":0,\"ticks\":\"\"}},\"colorscale\":{\"diverging\":[[0,\"#8e0152\"],[0.1,\"#c51b7d\"],[0.2,\"#de77ae\"],[0.3,\"#f1b6da\"],[0.4,\"#fde0ef\"],[0.5,\"#f7f7f7\"],[0.6,\"#e6f5d0\"],[0.7,\"#b8e186\"],[0.8,\"#7fbc41\"],[0.9,\"#4d9221\"],[1,\"#276419\"]],\"sequential\":[[0.0,\"#0d0887\"],[0.1111111111111111,\"#46039f\"],[0.2222222222222222,\"#7201a8\"],[0.3333333333333333,\"#9c179e\"],[0.4444444444444444,\"#bd3786\"],[0.5555555555555556,\"#d8576b\"],[0.6666666666666666,\"#ed7953\"],[0.7777777777777778,\"#fb9f3a\"],[0.8888888888888888,\"#fdca26\"],[1.0,\"#f0f921\"]],\"sequentialminus\":[[0.0,\"#0d0887\"],[0.1111111111111111,\"#46039f\"],[0.2222222222222222,\"#7201a8\"],[0.3333333333333333,\"#9c179e\"],[0.4444444444444444,\"#bd3786\"],[0.5555555555555556,\"#d8576b\"],[0.6666666666666666,\"#ed7953\"],[0.7777777777777778,\"#fb9f3a\"],[0.8888888888888888,\"#fdca26\"],[1.0,\"#f0f921\"]]},\"colorway\":[\"#636efa\",\"#EF553B\",\"#00cc96\",\"#ab63fa\",\"#FFA15A\",\"#19d3f3\",\"#FF6692\",\"#B6E880\",\"#FF97FF\",\"#FECB52\"],\"font\":{\"color\":\"#2a3f5f\"},\"geo\":{\"bgcolor\":\"white\",\"lakecolor\":\"white\",\"landcolor\":\"#E5ECF6\",\"showlakes\":true,\"showland\":true,\"subunitcolor\":\"white\"},\"hoverlabel\":{\"align\":\"left\"},\"hovermode\":\"closest\",\"mapbox\":{\"style\":\"light\"},\"paper_bgcolor\":\"white\",\"plot_bgcolor\":\"#E5ECF6\",\"polar\":{\"angularaxis\":{\"gridcolor\":\"white\",\"linecolor\":\"white\",\"ticks\":\"\"},\"bgcolor\":\"#E5ECF6\",\"radialaxis\":{\"gridcolor\":\"white\",\"linecolor\":\"white\",\"ticks\":\"\"}},\"scene\":{\"xaxis\":{\"backgroundcolor\":\"#E5ECF6\",\"gridcolor\":\"white\",\"gridwidth\":2,\"linecolor\":\"white\",\"showbackground\":true,\"ticks\":\"\",\"zerolinecolor\":\"white\"},\"yaxis\":{\"backgroundcolor\":\"#E5ECF6\",\"gridcolor\":\"white\",\"gridwidth\":2,\"linecolor\":\"white\",\"showbackground\":true,\"ticks\":\"\",\"zerolinecolor\":\"white\"},\"zaxis\":{\"backgroundcolor\":\"#E5ECF6\",\"gridcolor\":\"white\",\"gridwidth\":2,\"linecolor\":\"white\",\"showbackground\":true,\"ticks\":\"\",\"zerolinecolor\":\"white\"}},\"shapedefaults\":{\"line\":{\"color\":\"#2a3f5f\"}},\"ternary\":{\"aaxis\":{\"gridcolor\":\"white\",\"linecolor\":\"white\",\"ticks\":\"\"},\"baxis\":{\"gridcolor\":\"white\",\"linecolor\":\"white\",\"ticks\":\"\"},\"bgcolor\":\"#E5ECF6\",\"caxis\":{\"gridcolor\":\"white\",\"linecolor\":\"white\",\"ticks\":\"\"}},\"title\":{\"x\":0.05},\"xaxis\":{\"automargin\":true,\"gridcolor\":\"white\",\"linecolor\":\"white\",\"ticks\":\"\",\"title\":{\"standoff\":15},\"zerolinecolor\":\"white\",\"zerolinewidth\":2},\"yaxis\":{\"automargin\":true,\"gridcolor\":\"white\",\"linecolor\":\"white\",\"ticks\":\"\",\"title\":{\"standoff\":15},\"zerolinecolor\":\"white\",\"zerolinewidth\":2}}},\"barmode\":\"overlay\"},                        {\"responsive\": true}                    ).then(function(){\n",
              "                            \n",
              "var gd = document.getElementById('4786332e-d94e-45b5-a764-9ee3f641c7dd');\n",
              "var x = new MutationObserver(function (mutations, observer) {{\n",
              "        var display = window.getComputedStyle(gd).display;\n",
              "        if (!display || display === 'none') {{\n",
              "            console.log([gd, 'removed!']);\n",
              "            Plotly.purge(gd);\n",
              "            observer.disconnect();\n",
              "        }}\n",
              "}});\n",
              "\n",
              "// Listen for the removal of the full notebook cells\n",
              "var notebookContainer = gd.closest('#notebook-container');\n",
              "if (notebookContainer) {{\n",
              "    x.observe(notebookContainer, {childList: true});\n",
              "}}\n",
              "\n",
              "// Listen for the clearing of the current output cell\n",
              "var outputEl = gd.closest('.output');\n",
              "if (outputEl) {{\n",
              "    x.observe(outputEl, {childList: true});\n",
              "}}\n",
              "\n",
              "                        })                };                            </script>        </div>\n",
              "</body>\n",
              "</html>"
            ]
          },
          "metadata": {}
        }
      ]
    },
    {
      "cell_type": "markdown",
      "metadata": {
        "id": "8g0cHmlTrKRN"
      },
      "source": [
        "###Stacked Histogram"
      ]
    },
    {
      "cell_type": "code",
      "metadata": {
        "colab": {
          "base_uri": "https://localhost:8080/",
          "height": 542
        },
        "id": "rW1ff416qxCf",
        "outputId": "a56aa7bc-06da-4c5e-9d29-11ef6b5e40e3"
      },
      "source": [
        "#Stacked Histograms\n",
        "fig = go.Figure()\n",
        "fig.add_trace(go.Histogram(x=x0))\n",
        "fig.add_trace(go.Histogram(x=x1))\n",
        "\n",
        "# The two histograms are drawn on top of another\n",
        "fig.update_layout(barmode='stack')\n",
        "fig.show()"
      ],
      "execution_count": null,
      "outputs": [
        {
          "output_type": "display_data",
          "data": {
            "text/html": [
              "<html>\n",
              "<head><meta charset=\"utf-8\" /></head>\n",
              "<body>\n",
              "    <div>\n",
              "            <script src=\"https://cdnjs.cloudflare.com/ajax/libs/mathjax/2.7.5/MathJax.js?config=TeX-AMS-MML_SVG\"></script><script type=\"text/javascript\">if (window.MathJax) {MathJax.Hub.Config({SVG: {font: \"STIX-Web\"}});}</script>\n",
              "                <script type=\"text/javascript\">window.PlotlyConfig = {MathJaxConfig: 'local'};</script>\n",
              "        <script src=\"https://cdn.plot.ly/plotly-latest.min.js\"></script>    \n",
              "            <div id=\"b3e82a6b-02a4-4b4b-9554-22a9d67b5866\" class=\"plotly-graph-div\" style=\"height:525px; width:100%;\"></div>\n",
              "            <script type=\"text/javascript\">\n",
              "                \n",
              "                    window.PLOTLYENV=window.PLOTLYENV || {};\n",
              "                    \n",
              "                if (document.getElementById(\"b3e82a6b-02a4-4b4b-9554-22a9d67b5866\")) {\n",
              "                    Plotly.newPlot(\n",
              "                        'b3e82a6b-02a4-4b4b-9554-22a9d67b5866',\n",
              "                        [{\"type\": \"histogram\", \"x\": [-0.6681431194973062, 0.004126873936465499, -0.1191896685406302, -1.6796238435190982, 0.3500500704592853, -0.8932483772654148, -0.9624421536140086, -0.6725963943954038, 0.10907245316957931, -0.6686523401233934, -0.2221807331837195, 0.12596543524252035, 0.30539843000755396, -0.7688426560963575, 2.9728343591806046, -0.36036308777796733, 1.1129641406218942, -0.6517392831425217, 0.1692540110248032, 1.614160332617981, 0.8829047822722698, 1.6404814656314308, -2.7933668424748923, 0.9106495698508007, 1.0291952636366162, -0.29520824672622226, 0.1120781047569174, 2.3471138681301253, 0.3282078492311353, -0.09846889129897654, -0.48916159378812907, -1.6490104846119198, -0.44298098541734826, 1.4690753901328768, 2.459226887744698, 1.4300917449561872, 1.8381236054848633, -1.2721595162605188, 0.1534356591200361, 0.36160514027312407, 0.4741332799348959, 0.9619299142044181, 1.5288188245071543, 1.807288625113727, 1.7491502580276728, -0.4980371143263931, 0.9694797790233014, -0.5855894653457869, -0.4124760947089956, -1.2950147599588164, 0.29381479220154105, 0.7927673690093708, 0.8501644490569491, 3.043834266116264, -1.0843089869431954, 0.9626487442994345, -0.435175754189435, 0.9719709835813045, 0.5384973368262669, -0.8430527298087679, -0.5844698379074675, -0.029321428796671514, 0.7753544734256448, -0.5919466016273165, -0.3598666274669319, 1.295528381109592, 0.5685629863346073, -2.246377542086801, -0.19272039880192796, 0.5406939013325913, 0.1400173654069605, -0.3840676837500408, -0.1011083755756347, -1.460139095974751, 0.5120563516790697, -3.0164557999644948, 0.09655308671311502, -1.7751119959541617, 0.6479826571473946, 0.10206501677182042, 0.7567514258845079, -0.6518627765839192, -1.9799594814012473, 1.1811251082327565, 1.146455506500702, -1.98541922288366, -0.751234299128227, -1.6147949574855693, 1.5830218289025064, -0.20092445725099506, -0.9917788715107093, -0.1946609516075604, 0.013901584083585728, -0.4940780585640297, 0.5169044536358056, 0.7303655251984926, 0.139859938883675, -1.3989020323416725, 0.3609661650783039, 0.2997639796292553, -0.9109496815463025, -0.3211749927730154, -0.7243529854854076, 0.8307761106984647, 0.7414061545446102, -1.694140774839992, 0.5499694017368542, 1.62988207666554, 0.34563230090523334, 0.32244884994875767, 0.2751140600136244, -0.19375169701109546, -0.2825800215261064, -0.7830392973117358, 1.0446464913766342, 1.0668365813061695, 0.15531730805750654, -0.6131310479465948, 0.1843546714823925, -1.6685508094860464, -0.8408761389701415, -1.2801443435523754, 0.23103879319035614, -1.283890464567112, -0.09146161782221121, -0.5888277323843627, -0.06993469573717255, -1.1004223271920623, -1.3812784691521696, 0.1997245594643956, 1.6856986578207216, 0.9313545171551747, -1.0999156854196577, -0.5033561909957555, -0.8529865822096664, -0.021207979100173423, 0.4875767899553244, -0.035438567674533024, 0.4732363210632806, -1.0599716920643585, -0.7214476720272245, -0.07141410540746164, -0.2847658899787436, -0.3541689585022417, -0.3308789320151526, 1.114981545313941, -1.1365979334818495, 0.8132085756199811, 0.7729532339270812, 0.5011008091372768, -1.1648465566188053, -0.5499800213024186, -0.3935954770195274, 1.3291228888890978, 1.7073419129644123, 0.4189315624617041, -1.2682567573362287, -0.45842289630600364, 0.10643091550504519, 0.7701623750666045, 0.5467882253805975, 0.9988031602122233, -1.004993353731853, 1.9016521112691998, 1.829195624959049, 1.1612731277622441, -0.2498024042499891, 0.14864182996059255, 1.2321668238240466, -0.5442885684353335, -1.0030098236966063, -1.309128320243587, -1.1292367833198758, 0.809317091330924, 0.19781246733831231, 0.2051050709592321, 0.026124487331618946, -2.3992876031596, -1.0714465795553714, 0.5982618340181493, -0.19288939008409575, -0.747962499704678, -0.43847359484965015, -0.969533891033731, 0.7831557611238354, -0.766497875078657, 2.1212294360937927, 1.4525714376522758, 0.19886588339181258, 0.40257600684252587, -0.6334308740217127, 0.6587449014166833, 0.2213309779337436, -0.6194270074235108, 1.0634590236087624, 0.6385470541830799, 0.36774561600085975, 1.3167494548449732, 1.8311124310355558, 1.1418507959542026, 0.3365453270671219, -0.1386502890648639, -0.21238565676555266, -0.11340884098183902, -0.3568286211566307, -0.38910160150681655, -1.876961108768796, 0.12408250371137529, 1.0618877506122946, -1.2062004434303493, -0.7908583537269122, -0.4073577247544867, -0.5156133492040093, -0.7404170308818853, 0.6032198555423702, 0.19888079629749034, 0.4026108846403487, -0.566742000330301, 1.2477081111674289, -0.863555048610661, 0.41727627360469915, -0.6877502620802168, -0.6784584887520219, 0.38420687167434764, -0.3408162864539563, 1.148384818921285, -0.05571809729538285, 2.1390374855000864, 1.034279166242407, 0.5749499319307686, 1.1675659689059705, 0.7518268069177086, 2.054435767199765, -0.611859995380229, 2.0505388972653047, 0.03552495904039536, 0.3888645904674493, 0.3507229988580624, 0.430469596991926, 0.6667557887687698, -1.5468781063133774, 0.6409948049260441, -0.6591651106822163, -1.4790047536157567, -0.20884955104184497, 0.17807467145276706, -1.1437919031341057, -0.04133066569297516, -0.23364743824640472, 1.2276486362551406, 0.029223394103337845, -1.6432307115455622, 0.3514653164445682, -0.4894450379478162, -0.16217674685017958, 0.20665422291091584, 0.6878411422783668, 0.49401251760054904, 0.351161392858796, -0.3308507224601602, -1.0534614109755835, -0.7076699867216372, 2.2633108428872095, 1.3350944109276701, 1.6173477475761158, 0.16397146005910704, -1.1106220429723588, -1.5903450722424899, 0.9665747404993065, -0.47575099785945363, -0.24464332830467386, -1.1870231122916373, 0.3650730205597216, 0.07069855330891515, -0.8902208507338258, 0.585573626408924, 1.223744978856695, 0.37115499879816893, -0.41346640846086, 0.5082438501004981, -1.9816307492998742, -0.6800223562983267, 0.1254344548235514, -0.39909691116029966, 0.797130015727666, 0.28761683467324484, 1.9693812711756014, -2.1218159345450567, 0.6414662132891955, -1.6982614976905053, 0.7371911440333272, -1.4818117463686078, 1.0779649515073435, 0.10162960599908877, -2.7411781508006747, 2.077231394106634, 0.7472855249491321, 0.09014637839893407, 2.5595978598380302, -0.562402473686662, -0.2671386493899884, 0.6653656882537653, 0.599773668437394, -1.2464313633857698, -1.998175125330039, 0.439726500320743, 0.0856302750041435, -0.9609044692842481, -0.6310539926230436, 0.37206389907579357, 0.4865236463490444, -0.4702981928031213, 0.2805558247752477, 0.30122764101660654, 0.2508112037520323, 1.1873611454079542, 0.925708497222396, -0.4242893718416939, -1.3995351649581802, -1.7376630338869328, 0.39988261920092116, 0.9117087186258008, 0.4322555088106378, -0.19807041080697393, 0.905511200656188, 1.366309143131174, 0.6010150986957015, 0.3828571597141894, 0.462478362996902, 0.7288679668738772, -1.4066599391201513, 0.8250024122198313, 1.0806325815413578, 0.5927866032223671, 0.1990941998561369, -0.9068281916515235, -1.7818750021562073, 0.020308839040765792, -1.1840303602936981, 1.6860058047239233, 0.8552214762581893, 0.7594106699717788, 1.616006712288467, 0.9024412713816133, 0.9898070720799813, 0.3366072240686428, -0.5857387349890872, 0.2651712136374316, -0.22216967459311696, 0.9840479614841969, -0.0055382393631091195, 0.0677243061713712, -0.3459313085658, -0.11539111542301204, 0.7979994268100982, -1.212114180388414, -0.31949805127333597, 1.4454763031133782, 0.8475588997237643, 1.6943440698383365, 0.9223275999054158, 2.345596966821347, 0.06862377687445902, -0.5070007661707038, 1.1618193095936078, -2.443553302407874, -1.8544806250997081, -0.24815185946206783, 1.203922342943026, -0.728894238193354, 0.31449707546402594, 1.6459081584375268, -0.41342432931108003, 1.5325679725242993, -0.3747674435751694, 2.464376434437522, -0.12105593472909722, -0.2428681394383378, -1.7453193502202933, 0.3642446981023185, -0.8722301255611943, 0.3232031755760368, -1.1777964253493927, -0.09289953711547098, 1.352477530330294, -1.2933023496386937, -1.507065346136466, 1.0568498527710861, 2.25589364779355, -0.2529224601948487, -0.852651897413632, -1.453159827452608, 0.5773249856563278, 0.45917687485720227, -0.68355743646042, 1.617621217451242, -0.2417769470033557, 1.1619517481325439, -0.1918454136474478, -2.453983726369431, -1.5732847573333442, -0.7956144675922648, -1.9322623774103387, -1.2714752568526133, -0.12277905570589877, 1.0233184837086085, 0.40851001415893157, -0.7197867844446733, -1.2680124058046303, -0.9881918422492652, 0.172410641189896, -1.3931773320379754, -1.0625873344307595, 0.6382223276863522, -0.45249946252453194, 0.276480530998135, 0.9567811501882955, 0.4159783089516175, -1.6301950051928762, -0.12507287926811853, 0.021037876622052254, -0.4690707561614683, -1.6206627668263751, -1.6752408194829842, 2.1016492304123457, -0.4868938777141062, -0.7286389064828126, -0.6677501934315596, -0.20904326993313405, -2.086215563672191, -0.3962322972311396, 0.37549117240105323, 0.28510395792245036, 1.2219134756610954, -0.1812823737572118, 0.3620593841641335, -1.4973072294614482, -1.6087394709045248, 1.3462149985032006, 0.0004507308262084145, 0.6821599854540338, -0.8853775873569056, 1.5454003840742179, 1.026775274369165, 0.7988628589128409, -0.8263715594589135, -0.4132479762816185, -2.1462107007269076, 0.09216270741072702, 0.0848721137446677, 0.42507247675495147, 0.31525613443011014, -0.7800385514157726, -0.5097867463184271, -0.2907144494125385, -0.6030523583173635, 0.4592887002070705, -1.2156841176662123, 1.613560844543412, 1.314887497636121, 1.0579098712329729, -0.4809477870377525, -1.7895002999008522, 0.09349176043482073, -0.23550350722181618, 1.374827351567295, 1.0394123342712809, -0.3478353942200328, 0.753507838971714, 0.7604726043302703, 0.5640076289804725, -0.9616362877922007, -0.5504115293437523, 1.7871231864600106, -2.1398997464765688, 0.578128676183913, 0.8408269771397632, 0.6604376750305725, -1.0975062921352954, -0.7353929579149311, -0.023677641110640354, 0.5950082868029725, -0.47516342021259406, 0.37179067682624956, -0.2075150669671608, -0.8434024567160795, -1.7185677624454887, -0.14433967199927483, -0.32935293366363255, 0.829567808425027, 0.402331702808685, -0.41882157954564864, 0.5446004090913183, 1.020351507060972, -1.9147020415977316, -0.706198020429798, -0.4089799514803624, 0.5409803924793917, 1.8657663741489148, -0.7557545344343207]}, {\"type\": \"histogram\", \"x\": [-0.06272640759211212, 1.3442910421527807, 2.021120905781129, -1.574743302845829, 2.5311793874029, 0.760530209290909, 2.3229438846073194, -0.5208003717684078, 1.615830800383399, -0.2968304842730394, 0.3522826811519507, 1.5615426873915277, 1.9282775847701727, 0.7819504623425365, 3.168745131054049, -0.8351574576965635, 1.3195915628779793, 0.2524945930122793, 0.682678804062847, 0.5761135346707242, 0.8663122600519342, 1.7660590990555411, 1.9355453872900035, 0.78808742066293, 1.5833333265487712, 0.8566534710999825, -0.20374638905339615, -0.06929588146489096, 0.7471549531144102, 0.1529176224807114, 1.5435639221872732, 1.1858515338090463, 3.090611721851714, -0.13909037264643342, 1.1577749392164378, 2.0424150342359346, 0.0938683949777559, 1.9866432072888518, 1.0126432961236993, 2.5286087872426117, 0.025325595333501982, 3.0340558993869053, 0.6308340488269306, 1.9353066549861782, 1.4630880564867386, 1.019418134575591, 0.9109577741582794, 0.7960532913999605, -0.2537347309096154, 0.9056597853295745, 3.1380130382998646, 1.1215301580348387, 1.5883752305106373, 0.12501176666185343, 0.047404077068676664, 0.3499114458875784, 1.1404648881870663, 0.8432167431017314, -0.6028925921941732, 0.9615722333959306, -0.5621011629906003, 0.9755789984637084, 1.1230322558688366, 0.8482674604492619, 1.4943096656758663, 0.7515499210127595, 0.6412048579639034, 1.8122641439913036, -0.25307357083637405, 1.8325413746956842, 0.7141546091589354, 2.1540989252835256, 0.9731422568075717, 2.2631054787708695, 0.537817008997876, 0.6865282814962401, 0.3854437434200664, 2.129722558231224, 2.217634102883669, 0.4219752264187768, -0.06909146196054983, 1.1529631702164094, 1.6924577271069787, 0.42117831272130124, 1.6576609740884056, 1.9739879937533047, 0.8297009280925298, 1.8317518451763903, -0.6321799727403776, -0.002645289779576343, 0.518661617201115, 1.0445793203284874, 1.1075437809153625, 0.6725822270814286, 2.1463350014882514, 1.9784489294730983, 1.9066091059854755, -0.4754856562047638, 1.8488713937715295, 0.07843748097834247, 0.6615698268131838, 1.279522881210955, 1.7505108622663972, 2.8149236664075135, 1.4578497762325873, 1.6776053661383288, 1.5703116773931365, 1.0023992011634204, 0.4975857071208991, 1.0926432726334312, 0.008698135999972267, 1.6118562920926347, 0.9662380652151025, 0.4258204770014292, 1.5774398010655002, 0.8191085498453411, 2.342572267979331, 2.741933069610322, 0.7275278737024122, 0.7879440752629543, 1.801010107415691, 0.047860505556932664, 0.11059248027612645, 0.9578818068538889, 1.1268478384167975, 1.9819668635699685, 1.0894271956574033, 1.9956234925161667, 1.218623340879308, 1.6647429973155656, 0.9065326200745559, 3.4382603635266107, 1.3833200455748558, -0.5374470286093471, -0.9026114278084356, -0.1507937854618191, 0.5629364094465392, 1.3227901866246476, 0.8285607675497213, -0.324825665443796, -0.37286237000185474, 1.6745781191361617, 2.8729986425150367, -0.4162334700840038, 1.3100301874085865, 1.1063652445667724, -0.5111502878482346, 1.5266487197926835, 2.0513508360672303, 1.1364685283206717, 1.3787085228212388, 0.35971339667728863, 0.9264070774586871, 0.8489983416061433, 0.48067658545364067, 0.7730564820426855, 1.370293866759212, 1.8787857190848174, 1.911356531404917, 1.5897590648105329, 1.0664987049696746, 2.1121768779565593, 1.8000775637958015, 0.17732055918574208, 0.001407849664449956, 0.3472294751258541, -0.17066723820479957, 2.2675298582071717, 1.6622933708869743, 0.8797631025229429, -0.30908146838082273, 1.8981132435513857, 0.09924044302086321, 0.40116710504180786, 0.5202287208452014, 1.5337398709628016, 1.9911189192219196, 2.105774940637124, 1.4943308961982877, 0.6833669849186461, -0.174204886506522, 0.8096847894168209, 1.9515897375691769, 1.1635553186378138, 1.1429643434191576, 0.973068801074283, 1.3260247330563988, 2.48268898997697, 0.12183154785653061, 0.7249534877298554, 0.09876683963478239, 2.431559046105611, 1.2197442183710203, 0.7266404715777847, 0.9805115814695019, 0.3776405921033116, 1.2795579087450313, 1.605682156192319, 1.969067813028031, -0.19711271845666323, 1.624131678215444, 1.7058623602667922, 0.6285392252280084, 3.085849145224632, 1.557067276585929, 3.5197030568148766, 1.2510744533222797, -0.05369343709963936, -0.8027687624838367, 1.3449150023294607, 0.5520796871524682, 0.5473412808151802, 1.0151758979788803, 0.660687361458751, 2.3500225669139727, -1.2388320422171195, 0.6127078873108751, 1.568848174733057, 2.484932044589419, 1.324545287902969, 1.6947584901993875, 1.628616752932987, 2.979441582178983, 0.04876096857683587, 0.6978669367106523, 0.6842448792786915, 0.6736451455951753, 2.7356251479464957, -0.5123338072560877, -0.10332544582223901, -0.7765027516874146, 0.977134192733648, -0.6200535430239791, 0.6339385926014752, 0.39966242549963193, 0.07083073098553483, -0.0813670725049267, 2.7386029320650938, 3.166952676049557, 0.8674227477967413, -0.38715679765730737, 0.8077417809664538, 0.9770453946351012, 0.9153295708283133, 1.2223190400363426, -0.05836691162232288, 2.39732596697751, 1.0665857245291483, -0.2557053267022087, 0.7034541879376643, 1.077622413290903, 2.172954599431459, 0.6361293119565039, 0.3854788573743386, 2.0509311290824135, 0.7668031620076774, 2.931784156607719, 0.9729605377427455, 2.5439479009452457, -1.3582819482937265, -0.16067656656130058, -1.9933966009434214, 1.334705102797908, 0.7389275464925932, -0.0181642304031715, 0.627345577546012, 1.4615377097534235, 0.0737021106029605, 0.5021786471546679, -0.7927724928749547, 2.441182198544931, -0.6608956846688616, 2.3520538989292525, 1.4665338576235423, -0.017995007809167518, 0.10840795844060747, 1.935721263876645, 2.915875657334097, 0.5281745029993341, -0.5773369118349598, 1.06993710416499, 0.33494582507687565, 1.3148663152582374, 1.6767733707371162, 2.1101019972529533, 1.4151826621807877, -0.6795510890044305, 2.0196554934212028, 0.4210037099365749, 0.05901814855065701, 0.6956934241598283, 2.925364137518123, 0.7814842435838127, 1.0625265422470493, 0.8997256072787272, 0.5986419074798839, 0.27484917890569927, 0.498216649877919, 0.40076129199680655, 0.6755575132100475, 2.345092318275184, 0.5465785169330674, 1.458848273058765, 1.1896168566946863, 1.5347795179974877, 1.1793506174836184, 2.5275473877288146, 0.5278355654287987, 0.8749705491493518, 1.8003458705920599, 2.5295534766094088, 0.07546830514495462, 2.2182597306599567, 2.117658555966467, 2.3400244792325937, 0.5202725042464333, 0.5107227258897098, -0.2449077020048107, 1.7251607129748747, -0.6817204757132984, 1.802766360247019, 0.9308709431370352, 0.7782798620409859, 1.561775295585984, 1.6485641062997582, 1.2073172485795807, 0.7628073317807762, 1.118973026606789, 1.9944048892953274, 0.7522156473022168, 0.12190075304038384, 2.6939010145077766, 1.9981212587143808, 2.7811871305674134, 1.6886131681083865, 1.0991926697605081, 0.9295508169055222, -0.9196359020553326, 1.7834259276495357, 0.10934465503578772, 0.09366698309493704, 1.6261278483644837, 0.5715476748966561, -0.8995913155115192, 0.3571423335291328, 0.019460640588999545, 0.6087585334719992, -0.8977541599642949, 0.5195034629203868, 1.5332864008242315, 1.4134519137805563, 0.8445145537986856, 0.8692768951576081, -0.5070931827111798, 0.4413441404948837, -0.7506524493963473, 0.6096523053014369, 0.0016741432176181625, 0.5690185533535173, -0.8287313830381351, 0.4117564242462606, 0.3610782101304608, 1.3204962097766608, -1.4174362848018487, 3.2972390365382522, 0.7559182929390854, 0.7208293754997647, -0.30052463216367764, 1.5792932668791009, 1.264793606253901, 1.4962031548801904, 0.7277579308847137, 2.016619998156698, 1.8812852624664091, 0.428981607965064, 0.38569300454540867, 0.6092230966783017, 1.5358001854206424, 1.395985053663614, 0.9153160967454101, 0.05239671279715408, 2.6329484903924807, 1.460604321354631, 1.676726743207304, 1.0849768050223036, 2.564071709512767, 0.41915531383265403, 2.4368670207791485, 2.0006025686887328, 1.4876479511301095, 2.834090147371807, 1.2854239556840577, -0.8501522738234966, 0.21007206371877962, 0.791588778304094, 1.601941561441088, 0.25370544608603385, -0.20544361302630199, 1.865203590502967, 2.3767872298308355, 0.7173873557302494, -0.003920633774020965, 0.11609003189680334, 0.2487608900314866, 0.8153271613159622, 0.28065758036671995, 0.2434325662357174, 0.6901602919533376, 1.56702060675909, 0.20980907224655132, 1.446670391850362, 1.0701991896886132, 2.2651246310984954, 1.27031679107975, 2.1382712912225488, 2.7777606139183737, 1.950353660220125, 0.3243988192366972, 0.8176403388806026, -0.21012569776488332, 1.436651397711738, 0.3050439590630256, -0.22797352364704748, 1.2648690426695808, 0.054560189709565, 2.3261448384846615, 1.8414498481089079, -0.6434577095697278, 0.3442145221537455, 2.2788288013439537, 0.2567775253959659, 1.2488290502048993, 0.3385213978464937, 1.6390091562461737, 1.5176582686786528, -0.14574974627929027, 0.08477625047859172, 1.203823332408859, 2.071598901046973, 0.6873754758963934, 0.41813149453159393, 1.7278166344513977, 1.4924371898955577, 0.24026700425093883, -0.49517965895299754, 0.5979307104195346, 0.4839814407670081, -0.6038206628781213, 0.7104447726645945, 0.9667371722103387, 0.28509069703074974, 0.48480090435622236, 1.6899601246617373, 0.783132000922806, 1.961814002632173, 1.2107008892995554, -0.014426709489800738, 3.454196168597774, 0.5551569338928999, 1.500672485547491, 0.2838364587584722, 0.12555293515849075, 1.4775156203532083, 0.3944931029119193, -0.2188253127820161, 0.5871779984289957, 1.1164131992135253, 0.4783432778598866, 2.1273114072210184, 2.1566730045008495, 1.4322664477925504, 1.365678895672826, 2.0572875911754878, 0.20553535514707688, 2.690409889606396, 0.5444187940109382, 0.21740614474145836, 0.7663981915900226, 0.6126300942631655, 0.09889042135461457, 1.5041884077345227, 0.5553938073140297, 0.9727778271390698, 0.3438728377294832, 0.1647576287008361, 0.3638661684893316, 0.41135684785597837, 1.2893743574145984, 0.729899582012919, 1.258071514091628, 0.2759375279152061, 0.5115174003964189, -0.27993103042538303, 1.2957933811029174, 1.5545042922331458, 0.8879216416953355, 0.8544182251814669, 1.7987954271258384, 0.09781619950523301, 0.1850919498698944]}],\n",
              "                        {\"barmode\": \"stack\", \"template\": {\"data\": {\"bar\": [{\"error_x\": {\"color\": \"#2a3f5f\"}, \"error_y\": {\"color\": \"#2a3f5f\"}, \"marker\": {\"line\": {\"color\": \"#E5ECF6\", \"width\": 0.5}}, \"type\": \"bar\"}], \"barpolar\": [{\"marker\": {\"line\": {\"color\": \"#E5ECF6\", \"width\": 0.5}}, \"type\": \"barpolar\"}], \"carpet\": [{\"aaxis\": {\"endlinecolor\": \"#2a3f5f\", \"gridcolor\": \"white\", \"linecolor\": \"white\", \"minorgridcolor\": \"white\", \"startlinecolor\": \"#2a3f5f\"}, \"baxis\": {\"endlinecolor\": \"#2a3f5f\", \"gridcolor\": \"white\", \"linecolor\": \"white\", \"minorgridcolor\": \"white\", \"startlinecolor\": \"#2a3f5f\"}, \"type\": \"carpet\"}], \"choropleth\": [{\"colorbar\": {\"outlinewidth\": 0, \"ticks\": \"\"}, \"type\": \"choropleth\"}], \"contour\": [{\"colorbar\": {\"outlinewidth\": 0, \"ticks\": \"\"}, \"colorscale\": [[0.0, \"#0d0887\"], [0.1111111111111111, \"#46039f\"], [0.2222222222222222, \"#7201a8\"], [0.3333333333333333, \"#9c179e\"], [0.4444444444444444, \"#bd3786\"], [0.5555555555555556, \"#d8576b\"], [0.6666666666666666, \"#ed7953\"], [0.7777777777777778, \"#fb9f3a\"], [0.8888888888888888, \"#fdca26\"], [1.0, \"#f0f921\"]], \"type\": \"contour\"}], \"contourcarpet\": [{\"colorbar\": {\"outlinewidth\": 0, \"ticks\": \"\"}, \"type\": \"contourcarpet\"}], \"heatmap\": [{\"colorbar\": {\"outlinewidth\": 0, \"ticks\": \"\"}, \"colorscale\": [[0.0, \"#0d0887\"], [0.1111111111111111, \"#46039f\"], [0.2222222222222222, \"#7201a8\"], [0.3333333333333333, \"#9c179e\"], [0.4444444444444444, \"#bd3786\"], [0.5555555555555556, \"#d8576b\"], [0.6666666666666666, \"#ed7953\"], [0.7777777777777778, \"#fb9f3a\"], [0.8888888888888888, \"#fdca26\"], [1.0, \"#f0f921\"]], \"type\": \"heatmap\"}], \"heatmapgl\": [{\"colorbar\": {\"outlinewidth\": 0, \"ticks\": \"\"}, \"colorscale\": [[0.0, \"#0d0887\"], [0.1111111111111111, \"#46039f\"], [0.2222222222222222, \"#7201a8\"], [0.3333333333333333, \"#9c179e\"], [0.4444444444444444, \"#bd3786\"], [0.5555555555555556, \"#d8576b\"], [0.6666666666666666, \"#ed7953\"], [0.7777777777777778, \"#fb9f3a\"], [0.8888888888888888, \"#fdca26\"], [1.0, \"#f0f921\"]], \"type\": \"heatmapgl\"}], \"histogram\": [{\"marker\": {\"colorbar\": {\"outlinewidth\": 0, \"ticks\": \"\"}}, \"type\": \"histogram\"}], \"histogram2d\": [{\"colorbar\": {\"outlinewidth\": 0, \"ticks\": \"\"}, \"colorscale\": [[0.0, \"#0d0887\"], [0.1111111111111111, \"#46039f\"], [0.2222222222222222, \"#7201a8\"], [0.3333333333333333, \"#9c179e\"], [0.4444444444444444, \"#bd3786\"], [0.5555555555555556, \"#d8576b\"], [0.6666666666666666, \"#ed7953\"], [0.7777777777777778, \"#fb9f3a\"], [0.8888888888888888, \"#fdca26\"], [1.0, \"#f0f921\"]], \"type\": \"histogram2d\"}], \"histogram2dcontour\": [{\"colorbar\": {\"outlinewidth\": 0, \"ticks\": \"\"}, \"colorscale\": [[0.0, \"#0d0887\"], [0.1111111111111111, \"#46039f\"], [0.2222222222222222, \"#7201a8\"], [0.3333333333333333, \"#9c179e\"], [0.4444444444444444, \"#bd3786\"], [0.5555555555555556, \"#d8576b\"], [0.6666666666666666, \"#ed7953\"], [0.7777777777777778, \"#fb9f3a\"], [0.8888888888888888, \"#fdca26\"], [1.0, \"#f0f921\"]], \"type\": \"histogram2dcontour\"}], \"mesh3d\": [{\"colorbar\": {\"outlinewidth\": 0, \"ticks\": \"\"}, \"type\": \"mesh3d\"}], \"parcoords\": [{\"line\": {\"colorbar\": {\"outlinewidth\": 0, \"ticks\": \"\"}}, \"type\": \"parcoords\"}], \"pie\": [{\"automargin\": true, \"type\": \"pie\"}], \"scatter\": [{\"marker\": {\"colorbar\": {\"outlinewidth\": 0, \"ticks\": \"\"}}, \"type\": \"scatter\"}], \"scatter3d\": [{\"line\": {\"colorbar\": {\"outlinewidth\": 0, \"ticks\": \"\"}}, \"marker\": {\"colorbar\": {\"outlinewidth\": 0, \"ticks\": \"\"}}, \"type\": \"scatter3d\"}], \"scattercarpet\": [{\"marker\": {\"colorbar\": {\"outlinewidth\": 0, \"ticks\": \"\"}}, \"type\": \"scattercarpet\"}], \"scattergeo\": [{\"marker\": {\"colorbar\": {\"outlinewidth\": 0, \"ticks\": \"\"}}, \"type\": \"scattergeo\"}], \"scattergl\": [{\"marker\": {\"colorbar\": {\"outlinewidth\": 0, \"ticks\": \"\"}}, \"type\": \"scattergl\"}], \"scattermapbox\": [{\"marker\": {\"colorbar\": {\"outlinewidth\": 0, \"ticks\": \"\"}}, \"type\": \"scattermapbox\"}], \"scatterpolar\": [{\"marker\": {\"colorbar\": {\"outlinewidth\": 0, \"ticks\": \"\"}}, \"type\": \"scatterpolar\"}], \"scatterpolargl\": [{\"marker\": {\"colorbar\": {\"outlinewidth\": 0, \"ticks\": \"\"}}, \"type\": \"scatterpolargl\"}], \"scatterternary\": [{\"marker\": {\"colorbar\": {\"outlinewidth\": 0, \"ticks\": \"\"}}, \"type\": \"scatterternary\"}], \"surface\": [{\"colorbar\": {\"outlinewidth\": 0, \"ticks\": \"\"}, \"colorscale\": [[0.0, \"#0d0887\"], [0.1111111111111111, \"#46039f\"], [0.2222222222222222, \"#7201a8\"], [0.3333333333333333, \"#9c179e\"], [0.4444444444444444, \"#bd3786\"], [0.5555555555555556, \"#d8576b\"], [0.6666666666666666, \"#ed7953\"], [0.7777777777777778, \"#fb9f3a\"], [0.8888888888888888, \"#fdca26\"], [1.0, \"#f0f921\"]], \"type\": \"surface\"}], \"table\": [{\"cells\": {\"fill\": {\"color\": \"#EBF0F8\"}, \"line\": {\"color\": \"white\"}}, \"header\": {\"fill\": {\"color\": \"#C8D4E3\"}, \"line\": {\"color\": \"white\"}}, \"type\": \"table\"}]}, \"layout\": {\"annotationdefaults\": {\"arrowcolor\": \"#2a3f5f\", \"arrowhead\": 0, \"arrowwidth\": 1}, \"coloraxis\": {\"colorbar\": {\"outlinewidth\": 0, \"ticks\": \"\"}}, \"colorscale\": {\"diverging\": [[0, \"#8e0152\"], [0.1, \"#c51b7d\"], [0.2, \"#de77ae\"], [0.3, \"#f1b6da\"], [0.4, \"#fde0ef\"], [0.5, \"#f7f7f7\"], [0.6, \"#e6f5d0\"], [0.7, \"#b8e186\"], [0.8, \"#7fbc41\"], [0.9, \"#4d9221\"], [1, \"#276419\"]], \"sequential\": [[0.0, \"#0d0887\"], [0.1111111111111111, \"#46039f\"], [0.2222222222222222, \"#7201a8\"], [0.3333333333333333, \"#9c179e\"], [0.4444444444444444, \"#bd3786\"], [0.5555555555555556, \"#d8576b\"], [0.6666666666666666, \"#ed7953\"], [0.7777777777777778, \"#fb9f3a\"], [0.8888888888888888, \"#fdca26\"], [1.0, \"#f0f921\"]], \"sequentialminus\": [[0.0, \"#0d0887\"], [0.1111111111111111, \"#46039f\"], [0.2222222222222222, \"#7201a8\"], [0.3333333333333333, \"#9c179e\"], [0.4444444444444444, \"#bd3786\"], [0.5555555555555556, \"#d8576b\"], [0.6666666666666666, \"#ed7953\"], [0.7777777777777778, \"#fb9f3a\"], [0.8888888888888888, \"#fdca26\"], [1.0, \"#f0f921\"]]}, \"colorway\": [\"#636efa\", \"#EF553B\", \"#00cc96\", \"#ab63fa\", \"#FFA15A\", \"#19d3f3\", \"#FF6692\", \"#B6E880\", \"#FF97FF\", \"#FECB52\"], \"font\": {\"color\": \"#2a3f5f\"}, \"geo\": {\"bgcolor\": \"white\", \"lakecolor\": \"white\", \"landcolor\": \"#E5ECF6\", \"showlakes\": true, \"showland\": true, \"subunitcolor\": \"white\"}, \"hoverlabel\": {\"align\": \"left\"}, \"hovermode\": \"closest\", \"mapbox\": {\"style\": \"light\"}, \"paper_bgcolor\": \"white\", \"plot_bgcolor\": \"#E5ECF6\", \"polar\": {\"angularaxis\": {\"gridcolor\": \"white\", \"linecolor\": \"white\", \"ticks\": \"\"}, \"bgcolor\": \"#E5ECF6\", \"radialaxis\": {\"gridcolor\": \"white\", \"linecolor\": \"white\", \"ticks\": \"\"}}, \"scene\": {\"xaxis\": {\"backgroundcolor\": \"#E5ECF6\", \"gridcolor\": \"white\", \"gridwidth\": 2, \"linecolor\": \"white\", \"showbackground\": true, \"ticks\": \"\", \"zerolinecolor\": \"white\"}, \"yaxis\": {\"backgroundcolor\": \"#E5ECF6\", \"gridcolor\": \"white\", \"gridwidth\": 2, \"linecolor\": \"white\", \"showbackground\": true, \"ticks\": \"\", \"zerolinecolor\": \"white\"}, \"zaxis\": {\"backgroundcolor\": \"#E5ECF6\", \"gridcolor\": \"white\", \"gridwidth\": 2, \"linecolor\": \"white\", \"showbackground\": true, \"ticks\": \"\", \"zerolinecolor\": \"white\"}}, \"shapedefaults\": {\"line\": {\"color\": \"#2a3f5f\"}}, \"ternary\": {\"aaxis\": {\"gridcolor\": \"white\", \"linecolor\": \"white\", \"ticks\": \"\"}, \"baxis\": {\"gridcolor\": \"white\", \"linecolor\": \"white\", \"ticks\": \"\"}, \"bgcolor\": \"#E5ECF6\", \"caxis\": {\"gridcolor\": \"white\", \"linecolor\": \"white\", \"ticks\": \"\"}}, \"title\": {\"x\": 0.05}, \"xaxis\": {\"automargin\": true, \"gridcolor\": \"white\", \"linecolor\": \"white\", \"ticks\": \"\", \"title\": {\"standoff\": 15}, \"zerolinecolor\": \"white\", \"zerolinewidth\": 2}, \"yaxis\": {\"automargin\": true, \"gridcolor\": \"white\", \"linecolor\": \"white\", \"ticks\": \"\", \"title\": {\"standoff\": 15}, \"zerolinecolor\": \"white\", \"zerolinewidth\": 2}}}},\n",
              "                        {\"responsive\": true}\n",
              "                    ).then(function(){\n",
              "                            \n",
              "var gd = document.getElementById('b3e82a6b-02a4-4b4b-9554-22a9d67b5866');\n",
              "var x = new MutationObserver(function (mutations, observer) {{\n",
              "        var display = window.getComputedStyle(gd).display;\n",
              "        if (!display || display === 'none') {{\n",
              "            console.log([gd, 'removed!']);\n",
              "            Plotly.purge(gd);\n",
              "            observer.disconnect();\n",
              "        }}\n",
              "}});\n",
              "\n",
              "// Listen for the removal of the full notebook cells\n",
              "var notebookContainer = gd.closest('#notebook-container');\n",
              "if (notebookContainer) {{\n",
              "    x.observe(notebookContainer, {childList: true});\n",
              "}}\n",
              "\n",
              "// Listen for the clearing of the current output cell\n",
              "var outputEl = gd.closest('.output');\n",
              "if (outputEl) {{\n",
              "    x.observe(outputEl, {childList: true});\n",
              "}}\n",
              "\n",
              "                        })\n",
              "                };\n",
              "                \n",
              "            </script>\n",
              "        </div>\n",
              "</body>\n",
              "</html>"
            ]
          },
          "metadata": {
            "tags": []
          }
        }
      ]
    },
    {
      "cell_type": "markdown",
      "metadata": {
        "id": "it3YFeFCrN0W"
      },
      "source": [
        "### Aggregation\n"
      ]
    },
    {
      "cell_type": "code",
      "metadata": {
        "colab": {
          "base_uri": "https://localhost:8080/",
          "height": 542
        },
        "id": "Sxd_hU8Eq3N_",
        "outputId": "235c4633-b00f-4daa-9a75-b2084ccdb0fe"
      },
      "source": [
        "import plotly.graph_objects as go\n",
        "\n",
        "x = [\"Apples\",\"Apples\",\"Apples\",\"Oranges\", \"Bananas\"]\n",
        "y = [\"5\",\"10\",\"3\",\"10\",\"5\"]\n",
        "\n",
        "fig = go.Figure()\n",
        "fig.add_trace(go.Histogram(histfunc=\"count\", y=y, x=x, name=\"count\"))\n",
        "fig.add_trace(go.Histogram(histfunc=\"sum\", y=y, x=x, name=\"sum\"))\n",
        "\n",
        "fig.show()"
      ],
      "execution_count": null,
      "outputs": [
        {
          "output_type": "display_data",
          "data": {
            "text/html": [
              "<html>\n",
              "<head><meta charset=\"utf-8\" /></head>\n",
              "<body>\n",
              "    <div>            <script src=\"https://cdnjs.cloudflare.com/ajax/libs/mathjax/2.7.5/MathJax.js?config=TeX-AMS-MML_SVG\"></script><script type=\"text/javascript\">if (window.MathJax) {MathJax.Hub.Config({SVG: {font: \"STIX-Web\"}});}</script>                <script type=\"text/javascript\">window.PlotlyConfig = {MathJaxConfig: 'local'};</script>\n",
              "        <script src=\"https://cdn.plot.ly/plotly-2.8.3.min.js\"></script>                <div id=\"c70afb0a-7a67-4922-8e74-112be6e42fbe\" class=\"plotly-graph-div\" style=\"height:525px; width:100%;\"></div>            <script type=\"text/javascript\">                                    window.PLOTLYENV=window.PLOTLYENV || {};                                    if (document.getElementById(\"c70afb0a-7a67-4922-8e74-112be6e42fbe\")) {                    Plotly.newPlot(                        \"c70afb0a-7a67-4922-8e74-112be6e42fbe\",                        [{\"histfunc\":\"count\",\"name\":\"count\",\"x\":[\"Apples\",\"Apples\",\"Apples\",\"Oranges\",\"Bananas\"],\"y\":[\"5\",\"10\",\"3\",\"10\",\"5\"],\"type\":\"histogram\"},{\"histfunc\":\"sum\",\"name\":\"sum\",\"x\":[\"Apples\",\"Apples\",\"Apples\",\"Oranges\",\"Bananas\"],\"y\":[\"5\",\"10\",\"3\",\"10\",\"5\"],\"type\":\"histogram\"}],                        {\"template\":{\"data\":{\"bar\":[{\"error_x\":{\"color\":\"#2a3f5f\"},\"error_y\":{\"color\":\"#2a3f5f\"},\"marker\":{\"line\":{\"color\":\"#E5ECF6\",\"width\":0.5},\"pattern\":{\"fillmode\":\"overlay\",\"size\":10,\"solidity\":0.2}},\"type\":\"bar\"}],\"barpolar\":[{\"marker\":{\"line\":{\"color\":\"#E5ECF6\",\"width\":0.5},\"pattern\":{\"fillmode\":\"overlay\",\"size\":10,\"solidity\":0.2}},\"type\":\"barpolar\"}],\"carpet\":[{\"aaxis\":{\"endlinecolor\":\"#2a3f5f\",\"gridcolor\":\"white\",\"linecolor\":\"white\",\"minorgridcolor\":\"white\",\"startlinecolor\":\"#2a3f5f\"},\"baxis\":{\"endlinecolor\":\"#2a3f5f\",\"gridcolor\":\"white\",\"linecolor\":\"white\",\"minorgridcolor\":\"white\",\"startlinecolor\":\"#2a3f5f\"},\"type\":\"carpet\"}],\"choropleth\":[{\"colorbar\":{\"outlinewidth\":0,\"ticks\":\"\"},\"type\":\"choropleth\"}],\"contour\":[{\"colorbar\":{\"outlinewidth\":0,\"ticks\":\"\"},\"colorscale\":[[0.0,\"#0d0887\"],[0.1111111111111111,\"#46039f\"],[0.2222222222222222,\"#7201a8\"],[0.3333333333333333,\"#9c179e\"],[0.4444444444444444,\"#bd3786\"],[0.5555555555555556,\"#d8576b\"],[0.6666666666666666,\"#ed7953\"],[0.7777777777777778,\"#fb9f3a\"],[0.8888888888888888,\"#fdca26\"],[1.0,\"#f0f921\"]],\"type\":\"contour\"}],\"contourcarpet\":[{\"colorbar\":{\"outlinewidth\":0,\"ticks\":\"\"},\"type\":\"contourcarpet\"}],\"heatmap\":[{\"colorbar\":{\"outlinewidth\":0,\"ticks\":\"\"},\"colorscale\":[[0.0,\"#0d0887\"],[0.1111111111111111,\"#46039f\"],[0.2222222222222222,\"#7201a8\"],[0.3333333333333333,\"#9c179e\"],[0.4444444444444444,\"#bd3786\"],[0.5555555555555556,\"#d8576b\"],[0.6666666666666666,\"#ed7953\"],[0.7777777777777778,\"#fb9f3a\"],[0.8888888888888888,\"#fdca26\"],[1.0,\"#f0f921\"]],\"type\":\"heatmap\"}],\"heatmapgl\":[{\"colorbar\":{\"outlinewidth\":0,\"ticks\":\"\"},\"colorscale\":[[0.0,\"#0d0887\"],[0.1111111111111111,\"#46039f\"],[0.2222222222222222,\"#7201a8\"],[0.3333333333333333,\"#9c179e\"],[0.4444444444444444,\"#bd3786\"],[0.5555555555555556,\"#d8576b\"],[0.6666666666666666,\"#ed7953\"],[0.7777777777777778,\"#fb9f3a\"],[0.8888888888888888,\"#fdca26\"],[1.0,\"#f0f921\"]],\"type\":\"heatmapgl\"}],\"histogram\":[{\"marker\":{\"pattern\":{\"fillmode\":\"overlay\",\"size\":10,\"solidity\":0.2}},\"type\":\"histogram\"}],\"histogram2d\":[{\"colorbar\":{\"outlinewidth\":0,\"ticks\":\"\"},\"colorscale\":[[0.0,\"#0d0887\"],[0.1111111111111111,\"#46039f\"],[0.2222222222222222,\"#7201a8\"],[0.3333333333333333,\"#9c179e\"],[0.4444444444444444,\"#bd3786\"],[0.5555555555555556,\"#d8576b\"],[0.6666666666666666,\"#ed7953\"],[0.7777777777777778,\"#fb9f3a\"],[0.8888888888888888,\"#fdca26\"],[1.0,\"#f0f921\"]],\"type\":\"histogram2d\"}],\"histogram2dcontour\":[{\"colorbar\":{\"outlinewidth\":0,\"ticks\":\"\"},\"colorscale\":[[0.0,\"#0d0887\"],[0.1111111111111111,\"#46039f\"],[0.2222222222222222,\"#7201a8\"],[0.3333333333333333,\"#9c179e\"],[0.4444444444444444,\"#bd3786\"],[0.5555555555555556,\"#d8576b\"],[0.6666666666666666,\"#ed7953\"],[0.7777777777777778,\"#fb9f3a\"],[0.8888888888888888,\"#fdca26\"],[1.0,\"#f0f921\"]],\"type\":\"histogram2dcontour\"}],\"mesh3d\":[{\"colorbar\":{\"outlinewidth\":0,\"ticks\":\"\"},\"type\":\"mesh3d\"}],\"parcoords\":[{\"line\":{\"colorbar\":{\"outlinewidth\":0,\"ticks\":\"\"}},\"type\":\"parcoords\"}],\"pie\":[{\"automargin\":true,\"type\":\"pie\"}],\"scatter\":[{\"marker\":{\"colorbar\":{\"outlinewidth\":0,\"ticks\":\"\"}},\"type\":\"scatter\"}],\"scatter3d\":[{\"line\":{\"colorbar\":{\"outlinewidth\":0,\"ticks\":\"\"}},\"marker\":{\"colorbar\":{\"outlinewidth\":0,\"ticks\":\"\"}},\"type\":\"scatter3d\"}],\"scattercarpet\":[{\"marker\":{\"colorbar\":{\"outlinewidth\":0,\"ticks\":\"\"}},\"type\":\"scattercarpet\"}],\"scattergeo\":[{\"marker\":{\"colorbar\":{\"outlinewidth\":0,\"ticks\":\"\"}},\"type\":\"scattergeo\"}],\"scattergl\":[{\"marker\":{\"colorbar\":{\"outlinewidth\":0,\"ticks\":\"\"}},\"type\":\"scattergl\"}],\"scattermapbox\":[{\"marker\":{\"colorbar\":{\"outlinewidth\":0,\"ticks\":\"\"}},\"type\":\"scattermapbox\"}],\"scatterpolar\":[{\"marker\":{\"colorbar\":{\"outlinewidth\":0,\"ticks\":\"\"}},\"type\":\"scatterpolar\"}],\"scatterpolargl\":[{\"marker\":{\"colorbar\":{\"outlinewidth\":0,\"ticks\":\"\"}},\"type\":\"scatterpolargl\"}],\"scatterternary\":[{\"marker\":{\"colorbar\":{\"outlinewidth\":0,\"ticks\":\"\"}},\"type\":\"scatterternary\"}],\"surface\":[{\"colorbar\":{\"outlinewidth\":0,\"ticks\":\"\"},\"colorscale\":[[0.0,\"#0d0887\"],[0.1111111111111111,\"#46039f\"],[0.2222222222222222,\"#7201a8\"],[0.3333333333333333,\"#9c179e\"],[0.4444444444444444,\"#bd3786\"],[0.5555555555555556,\"#d8576b\"],[0.6666666666666666,\"#ed7953\"],[0.7777777777777778,\"#fb9f3a\"],[0.8888888888888888,\"#fdca26\"],[1.0,\"#f0f921\"]],\"type\":\"surface\"}],\"table\":[{\"cells\":{\"fill\":{\"color\":\"#EBF0F8\"},\"line\":{\"color\":\"white\"}},\"header\":{\"fill\":{\"color\":\"#C8D4E3\"},\"line\":{\"color\":\"white\"}},\"type\":\"table\"}]},\"layout\":{\"annotationdefaults\":{\"arrowcolor\":\"#2a3f5f\",\"arrowhead\":0,\"arrowwidth\":1},\"autotypenumbers\":\"strict\",\"coloraxis\":{\"colorbar\":{\"outlinewidth\":0,\"ticks\":\"\"}},\"colorscale\":{\"diverging\":[[0,\"#8e0152\"],[0.1,\"#c51b7d\"],[0.2,\"#de77ae\"],[0.3,\"#f1b6da\"],[0.4,\"#fde0ef\"],[0.5,\"#f7f7f7\"],[0.6,\"#e6f5d0\"],[0.7,\"#b8e186\"],[0.8,\"#7fbc41\"],[0.9,\"#4d9221\"],[1,\"#276419\"]],\"sequential\":[[0.0,\"#0d0887\"],[0.1111111111111111,\"#46039f\"],[0.2222222222222222,\"#7201a8\"],[0.3333333333333333,\"#9c179e\"],[0.4444444444444444,\"#bd3786\"],[0.5555555555555556,\"#d8576b\"],[0.6666666666666666,\"#ed7953\"],[0.7777777777777778,\"#fb9f3a\"],[0.8888888888888888,\"#fdca26\"],[1.0,\"#f0f921\"]],\"sequentialminus\":[[0.0,\"#0d0887\"],[0.1111111111111111,\"#46039f\"],[0.2222222222222222,\"#7201a8\"],[0.3333333333333333,\"#9c179e\"],[0.4444444444444444,\"#bd3786\"],[0.5555555555555556,\"#d8576b\"],[0.6666666666666666,\"#ed7953\"],[0.7777777777777778,\"#fb9f3a\"],[0.8888888888888888,\"#fdca26\"],[1.0,\"#f0f921\"]]},\"colorway\":[\"#636efa\",\"#EF553B\",\"#00cc96\",\"#ab63fa\",\"#FFA15A\",\"#19d3f3\",\"#FF6692\",\"#B6E880\",\"#FF97FF\",\"#FECB52\"],\"font\":{\"color\":\"#2a3f5f\"},\"geo\":{\"bgcolor\":\"white\",\"lakecolor\":\"white\",\"landcolor\":\"#E5ECF6\",\"showlakes\":true,\"showland\":true,\"subunitcolor\":\"white\"},\"hoverlabel\":{\"align\":\"left\"},\"hovermode\":\"closest\",\"mapbox\":{\"style\":\"light\"},\"paper_bgcolor\":\"white\",\"plot_bgcolor\":\"#E5ECF6\",\"polar\":{\"angularaxis\":{\"gridcolor\":\"white\",\"linecolor\":\"white\",\"ticks\":\"\"},\"bgcolor\":\"#E5ECF6\",\"radialaxis\":{\"gridcolor\":\"white\",\"linecolor\":\"white\",\"ticks\":\"\"}},\"scene\":{\"xaxis\":{\"backgroundcolor\":\"#E5ECF6\",\"gridcolor\":\"white\",\"gridwidth\":2,\"linecolor\":\"white\",\"showbackground\":true,\"ticks\":\"\",\"zerolinecolor\":\"white\"},\"yaxis\":{\"backgroundcolor\":\"#E5ECF6\",\"gridcolor\":\"white\",\"gridwidth\":2,\"linecolor\":\"white\",\"showbackground\":true,\"ticks\":\"\",\"zerolinecolor\":\"white\"},\"zaxis\":{\"backgroundcolor\":\"#E5ECF6\",\"gridcolor\":\"white\",\"gridwidth\":2,\"linecolor\":\"white\",\"showbackground\":true,\"ticks\":\"\",\"zerolinecolor\":\"white\"}},\"shapedefaults\":{\"line\":{\"color\":\"#2a3f5f\"}},\"ternary\":{\"aaxis\":{\"gridcolor\":\"white\",\"linecolor\":\"white\",\"ticks\":\"\"},\"baxis\":{\"gridcolor\":\"white\",\"linecolor\":\"white\",\"ticks\":\"\"},\"bgcolor\":\"#E5ECF6\",\"caxis\":{\"gridcolor\":\"white\",\"linecolor\":\"white\",\"ticks\":\"\"}},\"title\":{\"x\":0.05},\"xaxis\":{\"automargin\":true,\"gridcolor\":\"white\",\"linecolor\":\"white\",\"ticks\":\"\",\"title\":{\"standoff\":15},\"zerolinecolor\":\"white\",\"zerolinewidth\":2},\"yaxis\":{\"automargin\":true,\"gridcolor\":\"white\",\"linecolor\":\"white\",\"ticks\":\"\",\"title\":{\"standoff\":15},\"zerolinecolor\":\"white\",\"zerolinewidth\":2}}}},                        {\"responsive\": true}                    ).then(function(){\n",
              "                            \n",
              "var gd = document.getElementById('c70afb0a-7a67-4922-8e74-112be6e42fbe');\n",
              "var x = new MutationObserver(function (mutations, observer) {{\n",
              "        var display = window.getComputedStyle(gd).display;\n",
              "        if (!display || display === 'none') {{\n",
              "            console.log([gd, 'removed!']);\n",
              "            Plotly.purge(gd);\n",
              "            observer.disconnect();\n",
              "        }}\n",
              "}});\n",
              "\n",
              "// Listen for the removal of the full notebook cells\n",
              "var notebookContainer = gd.closest('#notebook-container');\n",
              "if (notebookContainer) {{\n",
              "    x.observe(notebookContainer, {childList: true});\n",
              "}}\n",
              "\n",
              "// Listen for the clearing of the current output cell\n",
              "var outputEl = gd.closest('.output');\n",
              "if (outputEl) {{\n",
              "    x.observe(outputEl, {childList: true});\n",
              "}}\n",
              "\n",
              "                        })                };                            </script>        </div>\n",
              "</body>\n",
              "</html>"
            ]
          },
          "metadata": {}
        }
      ]
    },
    {
      "cell_type": "markdown",
      "metadata": {
        "id": "HvFXryTyrs7D"
      },
      "source": [
        "##Bar Chart - Plotly Express - easy to use"
      ]
    },
    {
      "cell_type": "code",
      "metadata": {
        "colab": {
          "base_uri": "https://localhost:8080/",
          "height": 416
        },
        "id": "ikDMwYgyrgMe",
        "outputId": "610f8ce3-4520-4f1a-998f-4581ddc9548e"
      },
      "source": [
        "import plotly.express as px\n",
        "data = px.data.gapminder()\n",
        "\n",
        "data_canada = data[data.country == 'Canada']\n",
        "fig = px.bar(data_canada, x='year', y='pop',\n",
        "             hover_data=['lifeExp', 'gdpPercap'], color='lifeExp',\n",
        "             labels={'pop':'population of Canada'}, height=400)\n",
        "fig.show()"
      ],
      "execution_count": null,
      "outputs": [
        {
          "output_type": "display_data",
          "data": {
            "text/html": [
              "<html>\n",
              "<head><meta charset=\"utf-8\" /></head>\n",
              "<body>\n",
              "    <div>\n",
              "            <script src=\"https://cdnjs.cloudflare.com/ajax/libs/mathjax/2.7.5/MathJax.js?config=TeX-AMS-MML_SVG\"></script><script type=\"text/javascript\">if (window.MathJax) {MathJax.Hub.Config({SVG: {font: \"STIX-Web\"}});}</script>\n",
              "                <script type=\"text/javascript\">window.PlotlyConfig = {MathJaxConfig: 'local'};</script>\n",
              "        <script src=\"https://cdn.plot.ly/plotly-latest.min.js\"></script>    \n",
              "            <div id=\"be7c70a5-c2bb-4e07-b365-63aae9135467\" class=\"plotly-graph-div\" style=\"height:400px; width:100%;\"></div>\n",
              "            <script type=\"text/javascript\">\n",
              "                \n",
              "                    window.PLOTLYENV=window.PLOTLYENV || {};\n",
              "                    \n",
              "                if (document.getElementById(\"be7c70a5-c2bb-4e07-b365-63aae9135467\")) {\n",
              "                    Plotly.newPlot(\n",
              "                        'be7c70a5-c2bb-4e07-b365-63aae9135467',\n",
              "                        [{\"alignmentgroup\": \"True\", \"customdata\": [[68.75, 11367.16112], [69.96, 12489.95006], [71.3, 13462.48555], [72.13, 16076.58803], [72.88, 18970.57086], [74.21, 22090.88306], [75.76, 22898.79214], [76.86, 26626.515030000002], [77.95, 26342.88426], [78.61, 28954.92589], [79.77, 33328.96507], [80.653, 36319.235010000004]], \"hoverlabel\": {\"namelength\": 0}, \"hovertemplate\": \"year=%{x}<br>population of Canada=%{y}<br>lifeExp=%{marker.color}<br>gdpPercap=%{customdata[1]}\", \"legendgroup\": \"\", \"marker\": {\"color\": [68.75, 69.96, 71.3, 72.13, 72.88, 74.21, 75.76, 76.86, 77.95, 78.61, 79.77, 80.653], \"coloraxis\": \"coloraxis\"}, \"name\": \"\", \"offsetgroup\": \"\", \"orientation\": \"v\", \"showlegend\": false, \"textposition\": \"auto\", \"type\": \"bar\", \"x\": [1952, 1957, 1962, 1967, 1972, 1977, 1982, 1987, 1992, 1997, 2002, 2007], \"xaxis\": \"x\", \"y\": [14785584, 17010154, 18985849, 20819767, 22284500, 23796400, 25201900, 26549700, 28523502, 30305843, 31902268, 33390141], \"yaxis\": \"y\"}],\n",
              "                        {\"barmode\": \"relative\", \"coloraxis\": {\"colorbar\": {\"title\": {\"text\": \"lifeExp\"}}, \"colorscale\": [[0.0, \"#0d0887\"], [0.1111111111111111, \"#46039f\"], [0.2222222222222222, \"#7201a8\"], [0.3333333333333333, \"#9c179e\"], [0.4444444444444444, \"#bd3786\"], [0.5555555555555556, \"#d8576b\"], [0.6666666666666666, \"#ed7953\"], [0.7777777777777778, \"#fb9f3a\"], [0.8888888888888888, \"#fdca26\"], [1.0, \"#f0f921\"]]}, \"height\": 400, \"legend\": {\"tracegroupgap\": 0}, \"margin\": {\"t\": 60}, \"template\": {\"data\": {\"bar\": [{\"error_x\": {\"color\": \"#2a3f5f\"}, \"error_y\": {\"color\": \"#2a3f5f\"}, \"marker\": {\"line\": {\"color\": \"#E5ECF6\", \"width\": 0.5}}, \"type\": \"bar\"}], \"barpolar\": [{\"marker\": {\"line\": {\"color\": \"#E5ECF6\", \"width\": 0.5}}, \"type\": \"barpolar\"}], \"carpet\": [{\"aaxis\": {\"endlinecolor\": \"#2a3f5f\", \"gridcolor\": \"white\", \"linecolor\": \"white\", \"minorgridcolor\": \"white\", \"startlinecolor\": \"#2a3f5f\"}, \"baxis\": {\"endlinecolor\": \"#2a3f5f\", \"gridcolor\": \"white\", \"linecolor\": \"white\", \"minorgridcolor\": \"white\", \"startlinecolor\": \"#2a3f5f\"}, \"type\": \"carpet\"}], \"choropleth\": [{\"colorbar\": {\"outlinewidth\": 0, \"ticks\": \"\"}, \"type\": \"choropleth\"}], \"contour\": [{\"colorbar\": {\"outlinewidth\": 0, \"ticks\": \"\"}, \"colorscale\": [[0.0, \"#0d0887\"], [0.1111111111111111, \"#46039f\"], [0.2222222222222222, \"#7201a8\"], [0.3333333333333333, \"#9c179e\"], [0.4444444444444444, \"#bd3786\"], [0.5555555555555556, \"#d8576b\"], [0.6666666666666666, \"#ed7953\"], [0.7777777777777778, \"#fb9f3a\"], [0.8888888888888888, \"#fdca26\"], [1.0, \"#f0f921\"]], \"type\": \"contour\"}], \"contourcarpet\": [{\"colorbar\": {\"outlinewidth\": 0, \"ticks\": \"\"}, \"type\": \"contourcarpet\"}], \"heatmap\": [{\"colorbar\": {\"outlinewidth\": 0, \"ticks\": \"\"}, \"colorscale\": [[0.0, \"#0d0887\"], [0.1111111111111111, \"#46039f\"], [0.2222222222222222, \"#7201a8\"], [0.3333333333333333, \"#9c179e\"], [0.4444444444444444, \"#bd3786\"], [0.5555555555555556, \"#d8576b\"], [0.6666666666666666, \"#ed7953\"], [0.7777777777777778, \"#fb9f3a\"], [0.8888888888888888, \"#fdca26\"], [1.0, \"#f0f921\"]], \"type\": \"heatmap\"}], \"heatmapgl\": [{\"colorbar\": {\"outlinewidth\": 0, \"ticks\": \"\"}, \"colorscale\": [[0.0, \"#0d0887\"], [0.1111111111111111, \"#46039f\"], [0.2222222222222222, \"#7201a8\"], [0.3333333333333333, \"#9c179e\"], [0.4444444444444444, \"#bd3786\"], [0.5555555555555556, \"#d8576b\"], [0.6666666666666666, \"#ed7953\"], [0.7777777777777778, \"#fb9f3a\"], [0.8888888888888888, \"#fdca26\"], [1.0, \"#f0f921\"]], \"type\": \"heatmapgl\"}], \"histogram\": [{\"marker\": {\"colorbar\": {\"outlinewidth\": 0, \"ticks\": \"\"}}, \"type\": \"histogram\"}], \"histogram2d\": [{\"colorbar\": {\"outlinewidth\": 0, \"ticks\": \"\"}, \"colorscale\": [[0.0, \"#0d0887\"], [0.1111111111111111, \"#46039f\"], [0.2222222222222222, \"#7201a8\"], [0.3333333333333333, \"#9c179e\"], [0.4444444444444444, \"#bd3786\"], [0.5555555555555556, \"#d8576b\"], [0.6666666666666666, \"#ed7953\"], [0.7777777777777778, \"#fb9f3a\"], [0.8888888888888888, \"#fdca26\"], [1.0, \"#f0f921\"]], \"type\": \"histogram2d\"}], \"histogram2dcontour\": [{\"colorbar\": {\"outlinewidth\": 0, \"ticks\": \"\"}, \"colorscale\": [[0.0, \"#0d0887\"], [0.1111111111111111, \"#46039f\"], [0.2222222222222222, \"#7201a8\"], [0.3333333333333333, \"#9c179e\"], [0.4444444444444444, \"#bd3786\"], [0.5555555555555556, \"#d8576b\"], [0.6666666666666666, \"#ed7953\"], [0.7777777777777778, \"#fb9f3a\"], [0.8888888888888888, \"#fdca26\"], [1.0, \"#f0f921\"]], \"type\": \"histogram2dcontour\"}], \"mesh3d\": [{\"colorbar\": {\"outlinewidth\": 0, \"ticks\": \"\"}, \"type\": \"mesh3d\"}], \"parcoords\": [{\"line\": {\"colorbar\": {\"outlinewidth\": 0, \"ticks\": \"\"}}, \"type\": \"parcoords\"}], \"pie\": [{\"automargin\": true, \"type\": \"pie\"}], \"scatter\": [{\"marker\": {\"colorbar\": {\"outlinewidth\": 0, \"ticks\": \"\"}}, \"type\": \"scatter\"}], \"scatter3d\": [{\"line\": {\"colorbar\": {\"outlinewidth\": 0, \"ticks\": \"\"}}, \"marker\": {\"colorbar\": {\"outlinewidth\": 0, \"ticks\": \"\"}}, \"type\": \"scatter3d\"}], \"scattercarpet\": [{\"marker\": {\"colorbar\": {\"outlinewidth\": 0, \"ticks\": \"\"}}, \"type\": \"scattercarpet\"}], \"scattergeo\": [{\"marker\": {\"colorbar\": {\"outlinewidth\": 0, \"ticks\": \"\"}}, \"type\": \"scattergeo\"}], \"scattergl\": [{\"marker\": {\"colorbar\": {\"outlinewidth\": 0, \"ticks\": \"\"}}, \"type\": \"scattergl\"}], \"scattermapbox\": [{\"marker\": {\"colorbar\": {\"outlinewidth\": 0, \"ticks\": \"\"}}, \"type\": \"scattermapbox\"}], \"scatterpolar\": [{\"marker\": {\"colorbar\": {\"outlinewidth\": 0, \"ticks\": \"\"}}, \"type\": \"scatterpolar\"}], \"scatterpolargl\": [{\"marker\": {\"colorbar\": {\"outlinewidth\": 0, \"ticks\": \"\"}}, \"type\": \"scatterpolargl\"}], \"scatterternary\": [{\"marker\": {\"colorbar\": {\"outlinewidth\": 0, \"ticks\": \"\"}}, \"type\": \"scatterternary\"}], \"surface\": [{\"colorbar\": {\"outlinewidth\": 0, \"ticks\": \"\"}, \"colorscale\": [[0.0, \"#0d0887\"], [0.1111111111111111, \"#46039f\"], [0.2222222222222222, \"#7201a8\"], [0.3333333333333333, \"#9c179e\"], [0.4444444444444444, \"#bd3786\"], [0.5555555555555556, \"#d8576b\"], [0.6666666666666666, \"#ed7953\"], [0.7777777777777778, \"#fb9f3a\"], [0.8888888888888888, \"#fdca26\"], [1.0, \"#f0f921\"]], \"type\": \"surface\"}], \"table\": [{\"cells\": {\"fill\": {\"color\": \"#EBF0F8\"}, \"line\": {\"color\": \"white\"}}, \"header\": {\"fill\": {\"color\": \"#C8D4E3\"}, \"line\": {\"color\": \"white\"}}, \"type\": \"table\"}]}, \"layout\": {\"annotationdefaults\": {\"arrowcolor\": \"#2a3f5f\", \"arrowhead\": 0, \"arrowwidth\": 1}, \"coloraxis\": {\"colorbar\": {\"outlinewidth\": 0, \"ticks\": \"\"}}, \"colorscale\": {\"diverging\": [[0, \"#8e0152\"], [0.1, \"#c51b7d\"], [0.2, \"#de77ae\"], [0.3, \"#f1b6da\"], [0.4, \"#fde0ef\"], [0.5, \"#f7f7f7\"], [0.6, \"#e6f5d0\"], [0.7, \"#b8e186\"], [0.8, \"#7fbc41\"], [0.9, \"#4d9221\"], [1, \"#276419\"]], \"sequential\": [[0.0, \"#0d0887\"], [0.1111111111111111, \"#46039f\"], [0.2222222222222222, \"#7201a8\"], [0.3333333333333333, \"#9c179e\"], [0.4444444444444444, \"#bd3786\"], [0.5555555555555556, \"#d8576b\"], [0.6666666666666666, \"#ed7953\"], [0.7777777777777778, \"#fb9f3a\"], [0.8888888888888888, \"#fdca26\"], [1.0, \"#f0f921\"]], \"sequentialminus\": [[0.0, \"#0d0887\"], [0.1111111111111111, \"#46039f\"], [0.2222222222222222, \"#7201a8\"], [0.3333333333333333, \"#9c179e\"], [0.4444444444444444, \"#bd3786\"], [0.5555555555555556, \"#d8576b\"], [0.6666666666666666, \"#ed7953\"], [0.7777777777777778, \"#fb9f3a\"], [0.8888888888888888, \"#fdca26\"], [1.0, \"#f0f921\"]]}, \"colorway\": [\"#636efa\", \"#EF553B\", \"#00cc96\", \"#ab63fa\", \"#FFA15A\", \"#19d3f3\", \"#FF6692\", \"#B6E880\", \"#FF97FF\", \"#FECB52\"], \"font\": {\"color\": \"#2a3f5f\"}, \"geo\": {\"bgcolor\": \"white\", \"lakecolor\": \"white\", \"landcolor\": \"#E5ECF6\", \"showlakes\": true, \"showland\": true, \"subunitcolor\": \"white\"}, \"hoverlabel\": {\"align\": \"left\"}, \"hovermode\": \"closest\", \"mapbox\": {\"style\": \"light\"}, \"paper_bgcolor\": \"white\", \"plot_bgcolor\": \"#E5ECF6\", \"polar\": {\"angularaxis\": {\"gridcolor\": \"white\", \"linecolor\": \"white\", \"ticks\": \"\"}, \"bgcolor\": \"#E5ECF6\", \"radialaxis\": {\"gridcolor\": \"white\", \"linecolor\": \"white\", \"ticks\": \"\"}}, \"scene\": {\"xaxis\": {\"backgroundcolor\": \"#E5ECF6\", \"gridcolor\": \"white\", \"gridwidth\": 2, \"linecolor\": \"white\", \"showbackground\": true, \"ticks\": \"\", \"zerolinecolor\": \"white\"}, \"yaxis\": {\"backgroundcolor\": \"#E5ECF6\", \"gridcolor\": \"white\", \"gridwidth\": 2, \"linecolor\": \"white\", \"showbackground\": true, \"ticks\": \"\", \"zerolinecolor\": \"white\"}, \"zaxis\": {\"backgroundcolor\": \"#E5ECF6\", \"gridcolor\": \"white\", \"gridwidth\": 2, \"linecolor\": \"white\", \"showbackground\": true, \"ticks\": \"\", \"zerolinecolor\": \"white\"}}, \"shapedefaults\": {\"line\": {\"color\": \"#2a3f5f\"}}, \"ternary\": {\"aaxis\": {\"gridcolor\": \"white\", \"linecolor\": \"white\", \"ticks\": \"\"}, \"baxis\": {\"gridcolor\": \"white\", \"linecolor\": \"white\", \"ticks\": \"\"}, \"bgcolor\": \"#E5ECF6\", \"caxis\": {\"gridcolor\": \"white\", \"linecolor\": \"white\", \"ticks\": \"\"}}, \"title\": {\"x\": 0.05}, \"xaxis\": {\"automargin\": true, \"gridcolor\": \"white\", \"linecolor\": \"white\", \"ticks\": \"\", \"title\": {\"standoff\": 15}, \"zerolinecolor\": \"white\", \"zerolinewidth\": 2}, \"yaxis\": {\"automargin\": true, \"gridcolor\": \"white\", \"linecolor\": \"white\", \"ticks\": \"\", \"title\": {\"standoff\": 15}, \"zerolinecolor\": \"white\", \"zerolinewidth\": 2}}}, \"xaxis\": {\"anchor\": \"y\", \"domain\": [0.0, 1.0], \"title\": {\"text\": \"year\"}}, \"yaxis\": {\"anchor\": \"x\", \"domain\": [0.0, 1.0], \"title\": {\"text\": \"population of Canada\"}}},\n",
              "                        {\"responsive\": true}\n",
              "                    ).then(function(){\n",
              "                            \n",
              "var gd = document.getElementById('be7c70a5-c2bb-4e07-b365-63aae9135467');\n",
              "var x = new MutationObserver(function (mutations, observer) {{\n",
              "        var display = window.getComputedStyle(gd).display;\n",
              "        if (!display || display === 'none') {{\n",
              "            console.log([gd, 'removed!']);\n",
              "            Plotly.purge(gd);\n",
              "            observer.disconnect();\n",
              "        }}\n",
              "}});\n",
              "\n",
              "// Listen for the removal of the full notebook cells\n",
              "var notebookContainer = gd.closest('#notebook-container');\n",
              "if (notebookContainer) {{\n",
              "    x.observe(notebookContainer, {childList: true});\n",
              "}}\n",
              "\n",
              "// Listen for the clearing of the current output cell\n",
              "var outputEl = gd.closest('.output');\n",
              "if (outputEl) {{\n",
              "    x.observe(outputEl, {childList: true});\n",
              "}}\n",
              "\n",
              "                        })\n",
              "                };\n",
              "                \n",
              "            </script>\n",
              "        </div>\n",
              "</body>\n",
              "</html>"
            ]
          },
          "metadata": {
            "tags": []
          }
        }
      ]
    },
    {
      "cell_type": "markdown",
      "metadata": {
        "id": "JwZOLE4m6yZb"
      },
      "source": [
        "###Aggregation sum"
      ]
    },
    {
      "cell_type": "code",
      "metadata": {
        "colab": {
          "base_uri": "https://localhost:8080/",
          "height": 316
        },
        "id": "4ZfQLlGlsfws",
        "outputId": "36c4c3be-1a2d-4371-ecb4-8def56391ac2"
      },
      "source": [
        "import plotly.express as px\n",
        "df = px.data.tips()\n",
        "fig2 = px.histogram(df, x='day', y='tip', histfunc='sum', height=300,\n",
        "                    title='Histogram Chart')\n",
        "fig2.show()"
      ],
      "execution_count": null,
      "outputs": [
        {
          "output_type": "display_data",
          "data": {
            "text/html": [
              "<html>\n",
              "<head><meta charset=\"utf-8\" /></head>\n",
              "<body>\n",
              "    <div>\n",
              "            <script src=\"https://cdnjs.cloudflare.com/ajax/libs/mathjax/2.7.5/MathJax.js?config=TeX-AMS-MML_SVG\"></script><script type=\"text/javascript\">if (window.MathJax) {MathJax.Hub.Config({SVG: {font: \"STIX-Web\"}});}</script>\n",
              "                <script type=\"text/javascript\">window.PlotlyConfig = {MathJaxConfig: 'local'};</script>\n",
              "        <script src=\"https://cdn.plot.ly/plotly-latest.min.js\"></script>    \n",
              "            <div id=\"e4428ee2-5e86-404c-a46f-ea3aff91b244\" class=\"plotly-graph-div\" style=\"height:300px; width:100%;\"></div>\n",
              "            <script type=\"text/javascript\">\n",
              "                \n",
              "                    window.PLOTLYENV=window.PLOTLYENV || {};\n",
              "                    \n",
              "                if (document.getElementById(\"e4428ee2-5e86-404c-a46f-ea3aff91b244\")) {\n",
              "                    Plotly.newPlot(\n",
              "                        'e4428ee2-5e86-404c-a46f-ea3aff91b244',\n",
              "                        [{\"alignmentgroup\": \"True\", \"bingroup\": \"x\", \"histfunc\": \"sum\", \"hoverlabel\": {\"namelength\": 0}, \"hovertemplate\": \"day=%{x}<br>sum of tip=%{y}\", \"legendgroup\": \"\", \"marker\": {\"color\": \"#636efa\"}, \"name\": \"\", \"offsetgroup\": \"\", \"orientation\": \"v\", \"showlegend\": false, \"type\": \"histogram\", \"x\": [\"Sun\", \"Sun\", \"Sun\", \"Sun\", \"Sun\", \"Sun\", \"Sun\", \"Sun\", \"Sun\", \"Sun\", \"Sun\", \"Sun\", \"Sun\", \"Sun\", \"Sun\", \"Sun\", \"Sun\", \"Sun\", \"Sun\", \"Sat\", \"Sat\", \"Sat\", \"Sat\", \"Sat\", \"Sat\", \"Sat\", \"Sat\", \"Sat\", \"Sat\", \"Sat\", \"Sat\", \"Sat\", \"Sat\", \"Sat\", \"Sat\", \"Sat\", \"Sat\", \"Sat\", \"Sat\", \"Sat\", \"Sat\", \"Sun\", \"Sun\", \"Sun\", \"Sun\", \"Sun\", \"Sun\", \"Sun\", \"Sun\", \"Sun\", \"Sun\", \"Sun\", \"Sun\", \"Sun\", \"Sun\", \"Sun\", \"Sat\", \"Sat\", \"Sat\", \"Sat\", \"Sat\", \"Sat\", \"Sat\", \"Sat\", \"Sat\", \"Sat\", \"Sat\", \"Sat\", \"Sat\", \"Sat\", \"Sat\", \"Sat\", \"Sat\", \"Sat\", \"Sat\", \"Sat\", \"Sat\", \"Thur\", \"Thur\", \"Thur\", \"Thur\", \"Thur\", \"Thur\", \"Thur\", \"Thur\", \"Thur\", \"Thur\", \"Thur\", \"Thur\", \"Thur\", \"Fri\", \"Fri\", \"Fri\", \"Fri\", \"Fri\", \"Fri\", \"Fri\", \"Fri\", \"Fri\", \"Fri\", \"Fri\", \"Fri\", \"Sat\", \"Sat\", \"Sat\", \"Sat\", \"Sat\", \"Sat\", \"Sat\", \"Sat\", \"Sat\", \"Sat\", \"Sun\", \"Sun\", \"Sun\", \"Sun\", \"Sun\", \"Thur\", \"Thur\", \"Thur\", \"Thur\", \"Thur\", \"Thur\", \"Thur\", \"Thur\", \"Thur\", \"Thur\", \"Thur\", \"Thur\", \"Thur\", \"Thur\", \"Thur\", \"Thur\", \"Thur\", \"Thur\", \"Thur\", \"Thur\", \"Thur\", \"Thur\", \"Thur\", \"Thur\", \"Thur\", \"Thur\", \"Thur\", \"Thur\", \"Thur\", \"Thur\", \"Thur\", \"Thur\", \"Thur\", \"Sun\", \"Sun\", \"Sun\", \"Sun\", \"Sun\", \"Sun\", \"Sun\", \"Sun\", \"Sun\", \"Sun\", \"Sun\", \"Sun\", \"Sun\", \"Sun\", \"Sun\", \"Sun\", \"Sun\", \"Sun\", \"Sat\", \"Sat\", \"Sat\", \"Sat\", \"Sun\", \"Sun\", \"Sun\", \"Sun\", \"Sun\", \"Sun\", \"Sun\", \"Sun\", \"Sun\", \"Sun\", \"Sun\", \"Sun\", \"Sun\", \"Sun\", \"Sun\", \"Sun\", \"Sun\", \"Sun\", \"Sun\", \"Thur\", \"Thur\", \"Thur\", \"Thur\", \"Thur\", \"Thur\", \"Thur\", \"Thur\", \"Thur\", \"Thur\", \"Thur\", \"Thur\", \"Thur\", \"Thur\", \"Thur\", \"Sat\", \"Sat\", \"Sat\", \"Sat\", \"Sat\", \"Sat\", \"Sat\", \"Sat\", \"Sat\", \"Sat\", \"Sat\", \"Sat\", \"Sat\", \"Sat\", \"Fri\", \"Fri\", \"Fri\", \"Fri\", \"Fri\", \"Fri\", \"Fri\", \"Sat\", \"Sat\", \"Sat\", \"Sat\", \"Sat\", \"Sat\", \"Sat\", \"Sat\", \"Sat\", \"Sat\", \"Sat\", \"Sat\", \"Sat\", \"Sat\", \"Sat\", \"Sat\", \"Thur\"], \"xaxis\": \"x\", \"y\": [1.01, 1.66, 3.5, 3.31, 3.61, 4.71, 2.0, 3.12, 1.96, 3.23, 1.71, 5.0, 1.57, 3.0, 3.02, 3.92, 1.67, 3.71, 3.5, 3.35, 4.08, 2.75, 2.23, 7.58, 3.18, 2.34, 2.0, 2.0, 4.3, 3.0, 1.45, 2.5, 3.0, 2.45, 3.27, 3.6, 2.0, 3.07, 2.31, 5.0, 2.24, 2.54, 3.06, 1.32, 5.6, 3.0, 5.0, 6.0, 2.05, 3.0, 2.5, 2.6, 5.2, 1.56, 4.34, 3.51, 3.0, 1.5, 1.76, 6.73, 3.21, 2.0, 1.98, 3.76, 2.64, 3.15, 2.47, 1.0, 2.01, 2.09, 1.97, 3.0, 3.14, 5.0, 2.2, 1.25, 3.08, 4.0, 3.0, 2.71, 3.0, 3.4, 1.83, 5.0, 2.03, 5.17, 2.0, 4.0, 5.85, 3.0, 3.0, 3.5, 1.0, 4.3, 3.25, 4.73, 4.0, 1.5, 3.0, 1.5, 2.5, 3.0, 2.5, 3.48, 4.08, 1.64, 4.06, 4.29, 3.76, 4.0, 3.0, 1.0, 4.0, 2.55, 4.0, 3.5, 5.07, 1.5, 1.8, 2.92, 2.31, 1.68, 2.5, 2.0, 2.52, 4.2, 1.48, 2.0, 2.0, 2.18, 1.5, 2.83, 1.5, 2.0, 3.25, 1.25, 2.0, 2.0, 2.0, 2.75, 3.5, 6.7, 5.0, 5.0, 2.3, 1.5, 1.36, 1.63, 1.73, 2.0, 2.5, 2.0, 2.74, 2.0, 2.0, 5.14, 5.0, 3.75, 2.61, 2.0, 3.5, 2.5, 2.0, 2.0, 3.0, 3.48, 2.24, 4.5, 1.61, 2.0, 10.0, 3.16, 5.15, 3.18, 4.0, 3.11, 2.0, 2.0, 4.0, 3.55, 3.68, 5.65, 3.5, 6.5, 3.0, 5.0, 3.5, 2.0, 3.5, 4.0, 1.5, 4.19, 2.56, 2.02, 4.0, 1.44, 2.0, 5.0, 2.0, 2.0, 4.0, 2.01, 2.0, 2.5, 4.0, 3.23, 3.41, 3.0, 2.03, 2.23, 2.0, 5.16, 9.0, 2.5, 6.5, 1.1, 3.0, 1.5, 1.44, 3.09, 2.2, 3.48, 1.92, 3.0, 1.58, 2.5, 2.0, 3.0, 2.72, 2.88, 2.0, 3.0, 3.39, 1.47, 3.0, 1.25, 1.0, 1.17, 4.67, 5.92, 2.0, 2.0, 1.75, 3.0], \"yaxis\": \"y\"}],\n",
              "                        {\"barmode\": \"relative\", \"height\": 300, \"legend\": {\"tracegroupgap\": 0}, \"template\": {\"data\": {\"bar\": [{\"error_x\": {\"color\": \"#2a3f5f\"}, \"error_y\": {\"color\": \"#2a3f5f\"}, \"marker\": {\"line\": {\"color\": \"#E5ECF6\", \"width\": 0.5}}, \"type\": \"bar\"}], \"barpolar\": [{\"marker\": {\"line\": {\"color\": \"#E5ECF6\", \"width\": 0.5}}, \"type\": \"barpolar\"}], \"carpet\": [{\"aaxis\": {\"endlinecolor\": \"#2a3f5f\", \"gridcolor\": \"white\", \"linecolor\": \"white\", \"minorgridcolor\": \"white\", \"startlinecolor\": \"#2a3f5f\"}, \"baxis\": {\"endlinecolor\": \"#2a3f5f\", \"gridcolor\": \"white\", \"linecolor\": \"white\", \"minorgridcolor\": \"white\", \"startlinecolor\": \"#2a3f5f\"}, \"type\": \"carpet\"}], \"choropleth\": [{\"colorbar\": {\"outlinewidth\": 0, \"ticks\": \"\"}, \"type\": \"choropleth\"}], \"contour\": [{\"colorbar\": {\"outlinewidth\": 0, \"ticks\": \"\"}, \"colorscale\": [[0.0, \"#0d0887\"], [0.1111111111111111, \"#46039f\"], [0.2222222222222222, \"#7201a8\"], [0.3333333333333333, \"#9c179e\"], [0.4444444444444444, \"#bd3786\"], [0.5555555555555556, \"#d8576b\"], [0.6666666666666666, \"#ed7953\"], [0.7777777777777778, \"#fb9f3a\"], [0.8888888888888888, \"#fdca26\"], [1.0, \"#f0f921\"]], \"type\": \"contour\"}], \"contourcarpet\": [{\"colorbar\": {\"outlinewidth\": 0, \"ticks\": \"\"}, \"type\": \"contourcarpet\"}], \"heatmap\": [{\"colorbar\": {\"outlinewidth\": 0, \"ticks\": \"\"}, \"colorscale\": [[0.0, \"#0d0887\"], [0.1111111111111111, \"#46039f\"], [0.2222222222222222, \"#7201a8\"], [0.3333333333333333, \"#9c179e\"], [0.4444444444444444, \"#bd3786\"], [0.5555555555555556, \"#d8576b\"], [0.6666666666666666, \"#ed7953\"], [0.7777777777777778, \"#fb9f3a\"], [0.8888888888888888, \"#fdca26\"], [1.0, \"#f0f921\"]], \"type\": \"heatmap\"}], \"heatmapgl\": [{\"colorbar\": {\"outlinewidth\": 0, \"ticks\": \"\"}, \"colorscale\": [[0.0, \"#0d0887\"], [0.1111111111111111, \"#46039f\"], [0.2222222222222222, \"#7201a8\"], [0.3333333333333333, \"#9c179e\"], [0.4444444444444444, \"#bd3786\"], [0.5555555555555556, \"#d8576b\"], [0.6666666666666666, \"#ed7953\"], [0.7777777777777778, \"#fb9f3a\"], [0.8888888888888888, \"#fdca26\"], [1.0, \"#f0f921\"]], \"type\": \"heatmapgl\"}], \"histogram\": [{\"marker\": {\"colorbar\": {\"outlinewidth\": 0, \"ticks\": \"\"}}, \"type\": \"histogram\"}], \"histogram2d\": [{\"colorbar\": {\"outlinewidth\": 0, \"ticks\": \"\"}, \"colorscale\": [[0.0, \"#0d0887\"], [0.1111111111111111, \"#46039f\"], [0.2222222222222222, \"#7201a8\"], [0.3333333333333333, \"#9c179e\"], [0.4444444444444444, \"#bd3786\"], [0.5555555555555556, \"#d8576b\"], [0.6666666666666666, \"#ed7953\"], [0.7777777777777778, \"#fb9f3a\"], [0.8888888888888888, \"#fdca26\"], [1.0, \"#f0f921\"]], \"type\": \"histogram2d\"}], \"histogram2dcontour\": [{\"colorbar\": {\"outlinewidth\": 0, \"ticks\": \"\"}, \"colorscale\": [[0.0, \"#0d0887\"], [0.1111111111111111, \"#46039f\"], [0.2222222222222222, \"#7201a8\"], [0.3333333333333333, \"#9c179e\"], [0.4444444444444444, \"#bd3786\"], [0.5555555555555556, \"#d8576b\"], [0.6666666666666666, \"#ed7953\"], [0.7777777777777778, \"#fb9f3a\"], [0.8888888888888888, \"#fdca26\"], [1.0, \"#f0f921\"]], \"type\": \"histogram2dcontour\"}], \"mesh3d\": [{\"colorbar\": {\"outlinewidth\": 0, \"ticks\": \"\"}, \"type\": \"mesh3d\"}], \"parcoords\": [{\"line\": {\"colorbar\": {\"outlinewidth\": 0, \"ticks\": \"\"}}, \"type\": \"parcoords\"}], \"pie\": [{\"automargin\": true, \"type\": \"pie\"}], \"scatter\": [{\"marker\": {\"colorbar\": {\"outlinewidth\": 0, \"ticks\": \"\"}}, \"type\": \"scatter\"}], \"scatter3d\": [{\"line\": {\"colorbar\": {\"outlinewidth\": 0, \"ticks\": \"\"}}, \"marker\": {\"colorbar\": {\"outlinewidth\": 0, \"ticks\": \"\"}}, \"type\": \"scatter3d\"}], \"scattercarpet\": [{\"marker\": {\"colorbar\": {\"outlinewidth\": 0, \"ticks\": \"\"}}, \"type\": \"scattercarpet\"}], \"scattergeo\": [{\"marker\": {\"colorbar\": {\"outlinewidth\": 0, \"ticks\": \"\"}}, \"type\": \"scattergeo\"}], \"scattergl\": [{\"marker\": {\"colorbar\": {\"outlinewidth\": 0, \"ticks\": \"\"}}, \"type\": \"scattergl\"}], \"scattermapbox\": [{\"marker\": {\"colorbar\": {\"outlinewidth\": 0, \"ticks\": \"\"}}, \"type\": \"scattermapbox\"}], \"scatterpolar\": [{\"marker\": {\"colorbar\": {\"outlinewidth\": 0, \"ticks\": \"\"}}, \"type\": \"scatterpolar\"}], \"scatterpolargl\": [{\"marker\": {\"colorbar\": {\"outlinewidth\": 0, \"ticks\": \"\"}}, \"type\": \"scatterpolargl\"}], \"scatterternary\": [{\"marker\": {\"colorbar\": {\"outlinewidth\": 0, \"ticks\": \"\"}}, \"type\": \"scatterternary\"}], \"surface\": [{\"colorbar\": {\"outlinewidth\": 0, \"ticks\": \"\"}, \"colorscale\": [[0.0, \"#0d0887\"], [0.1111111111111111, \"#46039f\"], [0.2222222222222222, \"#7201a8\"], [0.3333333333333333, \"#9c179e\"], [0.4444444444444444, \"#bd3786\"], [0.5555555555555556, \"#d8576b\"], [0.6666666666666666, \"#ed7953\"], [0.7777777777777778, \"#fb9f3a\"], [0.8888888888888888, \"#fdca26\"], [1.0, \"#f0f921\"]], \"type\": \"surface\"}], \"table\": [{\"cells\": {\"fill\": {\"color\": \"#EBF0F8\"}, \"line\": {\"color\": \"white\"}}, \"header\": {\"fill\": {\"color\": \"#C8D4E3\"}, \"line\": {\"color\": \"white\"}}, \"type\": \"table\"}]}, \"layout\": {\"annotationdefaults\": {\"arrowcolor\": \"#2a3f5f\", \"arrowhead\": 0, \"arrowwidth\": 1}, \"coloraxis\": {\"colorbar\": {\"outlinewidth\": 0, \"ticks\": \"\"}}, \"colorscale\": {\"diverging\": [[0, \"#8e0152\"], [0.1, \"#c51b7d\"], [0.2, \"#de77ae\"], [0.3, \"#f1b6da\"], [0.4, \"#fde0ef\"], [0.5, \"#f7f7f7\"], [0.6, \"#e6f5d0\"], [0.7, \"#b8e186\"], [0.8, \"#7fbc41\"], [0.9, \"#4d9221\"], [1, \"#276419\"]], \"sequential\": [[0.0, \"#0d0887\"], [0.1111111111111111, \"#46039f\"], [0.2222222222222222, \"#7201a8\"], [0.3333333333333333, \"#9c179e\"], [0.4444444444444444, \"#bd3786\"], [0.5555555555555556, \"#d8576b\"], [0.6666666666666666, \"#ed7953\"], [0.7777777777777778, \"#fb9f3a\"], [0.8888888888888888, \"#fdca26\"], [1.0, \"#f0f921\"]], \"sequentialminus\": [[0.0, \"#0d0887\"], [0.1111111111111111, \"#46039f\"], [0.2222222222222222, \"#7201a8\"], [0.3333333333333333, \"#9c179e\"], [0.4444444444444444, \"#bd3786\"], [0.5555555555555556, \"#d8576b\"], [0.6666666666666666, \"#ed7953\"], [0.7777777777777778, \"#fb9f3a\"], [0.8888888888888888, \"#fdca26\"], [1.0, \"#f0f921\"]]}, \"colorway\": [\"#636efa\", \"#EF553B\", \"#00cc96\", \"#ab63fa\", \"#FFA15A\", \"#19d3f3\", \"#FF6692\", \"#B6E880\", \"#FF97FF\", \"#FECB52\"], \"font\": {\"color\": \"#2a3f5f\"}, \"geo\": {\"bgcolor\": \"white\", \"lakecolor\": \"white\", \"landcolor\": \"#E5ECF6\", \"showlakes\": true, \"showland\": true, \"subunitcolor\": \"white\"}, \"hoverlabel\": {\"align\": \"left\"}, \"hovermode\": \"closest\", \"mapbox\": {\"style\": \"light\"}, \"paper_bgcolor\": \"white\", \"plot_bgcolor\": \"#E5ECF6\", \"polar\": {\"angularaxis\": {\"gridcolor\": \"white\", \"linecolor\": \"white\", \"ticks\": \"\"}, \"bgcolor\": \"#E5ECF6\", \"radialaxis\": {\"gridcolor\": \"white\", \"linecolor\": \"white\", \"ticks\": \"\"}}, \"scene\": {\"xaxis\": {\"backgroundcolor\": \"#E5ECF6\", \"gridcolor\": \"white\", \"gridwidth\": 2, \"linecolor\": \"white\", \"showbackground\": true, \"ticks\": \"\", \"zerolinecolor\": \"white\"}, \"yaxis\": {\"backgroundcolor\": \"#E5ECF6\", \"gridcolor\": \"white\", \"gridwidth\": 2, \"linecolor\": \"white\", \"showbackground\": true, \"ticks\": \"\", \"zerolinecolor\": \"white\"}, \"zaxis\": {\"backgroundcolor\": \"#E5ECF6\", \"gridcolor\": \"white\", \"gridwidth\": 2, \"linecolor\": \"white\", \"showbackground\": true, \"ticks\": \"\", \"zerolinecolor\": \"white\"}}, \"shapedefaults\": {\"line\": {\"color\": \"#2a3f5f\"}}, \"ternary\": {\"aaxis\": {\"gridcolor\": \"white\", \"linecolor\": \"white\", \"ticks\": \"\"}, \"baxis\": {\"gridcolor\": \"white\", \"linecolor\": \"white\", \"ticks\": \"\"}, \"bgcolor\": \"#E5ECF6\", \"caxis\": {\"gridcolor\": \"white\", \"linecolor\": \"white\", \"ticks\": \"\"}}, \"title\": {\"x\": 0.05}, \"xaxis\": {\"automargin\": true, \"gridcolor\": \"white\", \"linecolor\": \"white\", \"ticks\": \"\", \"title\": {\"standoff\": 15}, \"zerolinecolor\": \"white\", \"zerolinewidth\": 2}, \"yaxis\": {\"automargin\": true, \"gridcolor\": \"white\", \"linecolor\": \"white\", \"ticks\": \"\", \"title\": {\"standoff\": 15}, \"zerolinecolor\": \"white\", \"zerolinewidth\": 2}}}, \"title\": {\"text\": \"Histogram Chart\"}, \"xaxis\": {\"anchor\": \"y\", \"domain\": [0.0, 1.0], \"title\": {\"text\": \"day\"}}, \"yaxis\": {\"anchor\": \"x\", \"domain\": [0.0, 1.0], \"title\": {\"text\": \"sum of tip\"}}},\n",
              "                        {\"responsive\": true}\n",
              "                    ).then(function(){\n",
              "                            \n",
              "var gd = document.getElementById('e4428ee2-5e86-404c-a46f-ea3aff91b244');\n",
              "var x = new MutationObserver(function (mutations, observer) {{\n",
              "        var display = window.getComputedStyle(gd).display;\n",
              "        if (!display || display === 'none') {{\n",
              "            console.log([gd, 'removed!']);\n",
              "            Plotly.purge(gd);\n",
              "            observer.disconnect();\n",
              "        }}\n",
              "}});\n",
              "\n",
              "// Listen for the removal of the full notebook cells\n",
              "var notebookContainer = gd.closest('#notebook-container');\n",
              "if (notebookContainer) {{\n",
              "    x.observe(notebookContainer, {childList: true});\n",
              "}}\n",
              "\n",
              "// Listen for the clearing of the current output cell\n",
              "var outputEl = gd.closest('.output');\n",
              "if (outputEl) {{\n",
              "    x.observe(outputEl, {childList: true});\n",
              "}}\n",
              "\n",
              "                        })\n",
              "                };\n",
              "                \n",
              "            </script>\n",
              "        </div>\n",
              "</body>\n",
              "</html>"
            ]
          },
          "metadata": {
            "tags": []
          }
        }
      ]
    },
    {
      "cell_type": "markdown",
      "metadata": {
        "id": "bmmzYgHv61k7"
      },
      "source": [
        "###Group/Stack Bar Chart"
      ]
    },
    {
      "cell_type": "code",
      "metadata": {
        "colab": {
          "base_uri": "https://localhost:8080/",
          "height": 1000
        },
        "id": "8Tq0BG4S1Zh0",
        "outputId": "6abce474-cbb8-4c67-e42b-927690df8188"
      },
      "source": [
        "import plotly.express as px\n",
        "\n",
        "long_df = px.data.tips()\n",
        "\n",
        "\n",
        "fig = px.bar(long_df, x=\"day\",y=\"size\",\n",
        "             color=\"time\", \n",
        "             title=\"Long-Form Input\",\n",
        "             #barmode='group'\n",
        "             )\n",
        "fig.show()\n",
        "\n",
        "fig1 = px.bar(long_df, x=\"day\",y=\"size\",\n",
        "             color=\"time\", \n",
        "             title=\"Long-Form Input\",\n",
        "             barmode='group')\n",
        "fig1.show()"
      ],
      "execution_count": null,
      "outputs": [
        {
          "output_type": "display_data",
          "data": {
            "text/html": [
              "<html>\n",
              "<head><meta charset=\"utf-8\" /></head>\n",
              "<body>\n",
              "    <div>\n",
              "            <script src=\"https://cdnjs.cloudflare.com/ajax/libs/mathjax/2.7.5/MathJax.js?config=TeX-AMS-MML_SVG\"></script><script type=\"text/javascript\">if (window.MathJax) {MathJax.Hub.Config({SVG: {font: \"STIX-Web\"}});}</script>\n",
              "                <script type=\"text/javascript\">window.PlotlyConfig = {MathJaxConfig: 'local'};</script>\n",
              "        <script src=\"https://cdn.plot.ly/plotly-latest.min.js\"></script>    \n",
              "            <div id=\"9de0d799-9fd7-491c-ab29-9cca4b222031\" class=\"plotly-graph-div\" style=\"height:525px; width:100%;\"></div>\n",
              "            <script type=\"text/javascript\">\n",
              "                \n",
              "                    window.PLOTLYENV=window.PLOTLYENV || {};\n",
              "                    \n",
              "                if (document.getElementById(\"9de0d799-9fd7-491c-ab29-9cca4b222031\")) {\n",
              "                    Plotly.newPlot(\n",
              "                        '9de0d799-9fd7-491c-ab29-9cca4b222031',\n",
              "                        [{\"alignmentgroup\": \"True\", \"hoverlabel\": {\"namelength\": 0}, \"hovertemplate\": \"time=Dinner<br>day=%{x}<br>size=%{y}\", \"legendgroup\": \"time=Dinner\", \"marker\": {\"color\": \"#636efa\"}, \"name\": \"time=Dinner\", \"offsetgroup\": \"time=Dinner\", \"orientation\": \"v\", \"showlegend\": true, \"textposition\": \"auto\", \"type\": \"bar\", \"x\": [\"Sun\", \"Sun\", \"Sun\", \"Sun\", \"Sun\", \"Sun\", \"Sun\", \"Sun\", \"Sun\", \"Sun\", \"Sun\", \"Sun\", \"Sun\", \"Sun\", \"Sun\", \"Sun\", \"Sun\", \"Sun\", \"Sun\", \"Sat\", \"Sat\", \"Sat\", \"Sat\", \"Sat\", \"Sat\", \"Sat\", \"Sat\", \"Sat\", \"Sat\", \"Sat\", \"Sat\", \"Sat\", \"Sat\", \"Sat\", \"Sat\", \"Sat\", \"Sat\", \"Sat\", \"Sat\", \"Sat\", \"Sat\", \"Sun\", \"Sun\", \"Sun\", \"Sun\", \"Sun\", \"Sun\", \"Sun\", \"Sun\", \"Sun\", \"Sun\", \"Sun\", \"Sun\", \"Sun\", \"Sun\", \"Sun\", \"Sat\", \"Sat\", \"Sat\", \"Sat\", \"Sat\", \"Sat\", \"Sat\", \"Sat\", \"Sat\", \"Sat\", \"Sat\", \"Sat\", \"Sat\", \"Sat\", \"Sat\", \"Sat\", \"Sat\", \"Sat\", \"Sat\", \"Sat\", \"Sat\", \"Fri\", \"Fri\", \"Fri\", \"Fri\", \"Fri\", \"Fri\", \"Fri\", \"Fri\", \"Fri\", \"Fri\", \"Fri\", \"Fri\", \"Sat\", \"Sat\", \"Sat\", \"Sat\", \"Sat\", \"Sat\", \"Sat\", \"Sat\", \"Sat\", \"Sat\", \"Sun\", \"Sun\", \"Sun\", \"Sun\", \"Sun\", \"Sun\", \"Sun\", \"Sun\", \"Sun\", \"Sun\", \"Sun\", \"Sun\", \"Sun\", \"Sun\", \"Sun\", \"Sun\", \"Sun\", \"Sun\", \"Sun\", \"Sun\", \"Sun\", \"Sun\", \"Sun\", \"Sat\", \"Sat\", \"Sat\", \"Sat\", \"Sun\", \"Sun\", \"Sun\", \"Sun\", \"Sun\", \"Sun\", \"Sun\", \"Sun\", \"Sun\", \"Sun\", \"Sun\", \"Sun\", \"Sun\", \"Sun\", \"Sun\", \"Sun\", \"Sun\", \"Sun\", \"Sun\", \"Sat\", \"Sat\", \"Sat\", \"Sat\", \"Sat\", \"Sat\", \"Sat\", \"Sat\", \"Sat\", \"Sat\", \"Sat\", \"Sat\", \"Sat\", \"Sat\", \"Sat\", \"Sat\", \"Sat\", \"Sat\", \"Sat\", \"Sat\", \"Sat\", \"Sat\", \"Sat\", \"Sat\", \"Sat\", \"Sat\", \"Sat\", \"Sat\", \"Sat\", \"Sat\", \"Thur\"], \"xaxis\": \"x\", \"y\": [2, 3, 3, 2, 4, 4, 2, 4, 2, 2, 2, 4, 2, 4, 2, 2, 3, 3, 3, 3, 2, 2, 2, 4, 2, 4, 2, 2, 2, 2, 2, 4, 2, 4, 2, 3, 3, 3, 3, 3, 3, 2, 2, 2, 4, 2, 2, 4, 3, 2, 2, 2, 4, 2, 4, 2, 4, 2, 2, 4, 2, 2, 2, 4, 3, 3, 2, 1, 2, 2, 2, 3, 2, 2, 2, 2, 2, 2, 2, 2, 2, 2, 4, 2, 2, 2, 2, 2, 2, 3, 2, 2, 2, 2, 2, 2, 2, 2, 1, 3, 2, 3, 2, 4, 2, 2, 3, 4, 4, 5, 6, 4, 2, 4, 4, 2, 3, 2, 2, 3, 2, 4, 2, 2, 3, 2, 2, 2, 2, 2, 2, 2, 2, 2, 4, 2, 3, 4, 2, 5, 3, 5, 3, 3, 2, 3, 4, 2, 2, 3, 4, 4, 2, 3, 2, 5, 2, 2, 4, 4, 2, 2, 4, 3, 2, 2, 2, 2, 2, 2, 3, 3, 2, 2, 2, 2], \"yaxis\": \"y\"}, {\"alignmentgroup\": \"True\", \"hoverlabel\": {\"namelength\": 0}, \"hovertemplate\": \"time=Lunch<br>day=%{x}<br>size=%{y}\", \"legendgroup\": \"time=Lunch\", \"marker\": {\"color\": \"#EF553B\"}, \"name\": \"time=Lunch\", \"offsetgroup\": \"time=Lunch\", \"orientation\": \"v\", \"showlegend\": true, \"textposition\": \"auto\", \"type\": \"bar\", \"x\": [\"Thur\", \"Thur\", \"Thur\", \"Thur\", \"Thur\", \"Thur\", \"Thur\", \"Thur\", \"Thur\", \"Thur\", \"Thur\", \"Thur\", \"Thur\", \"Thur\", \"Thur\", \"Thur\", \"Thur\", \"Thur\", \"Thur\", \"Thur\", \"Thur\", \"Thur\", \"Thur\", \"Thur\", \"Thur\", \"Thur\", \"Thur\", \"Thur\", \"Thur\", \"Thur\", \"Thur\", \"Thur\", \"Thur\", \"Thur\", \"Thur\", \"Thur\", \"Thur\", \"Thur\", \"Thur\", \"Thur\", \"Thur\", \"Thur\", \"Thur\", \"Thur\", \"Thur\", \"Thur\", \"Thur\", \"Thur\", \"Thur\", \"Thur\", \"Thur\", \"Thur\", \"Thur\", \"Thur\", \"Thur\", \"Thur\", \"Thur\", \"Thur\", \"Thur\", \"Thur\", \"Thur\", \"Fri\", \"Fri\", \"Fri\", \"Fri\", \"Fri\", \"Fri\", \"Fri\"], \"xaxis\": \"x\", \"y\": [4, 2, 2, 2, 2, 1, 2, 2, 4, 2, 2, 2, 2, 2, 2, 4, 2, 2, 2, 2, 2, 6, 2, 2, 2, 3, 2, 2, 2, 2, 2, 2, 2, 2, 2, 2, 2, 6, 5, 6, 2, 2, 3, 2, 2, 2, 2, 2, 2, 2, 2, 2, 4, 2, 2, 3, 2, 2, 2, 4, 3, 2, 2, 1, 3, 2, 2, 2], \"yaxis\": \"y\"}],\n",
              "                        {\"barmode\": \"relative\", \"legend\": {\"tracegroupgap\": 0}, \"template\": {\"data\": {\"bar\": [{\"error_x\": {\"color\": \"#2a3f5f\"}, \"error_y\": {\"color\": \"#2a3f5f\"}, \"marker\": {\"line\": {\"color\": \"#E5ECF6\", \"width\": 0.5}}, \"type\": \"bar\"}], \"barpolar\": [{\"marker\": {\"line\": {\"color\": \"#E5ECF6\", \"width\": 0.5}}, \"type\": \"barpolar\"}], \"carpet\": [{\"aaxis\": {\"endlinecolor\": \"#2a3f5f\", \"gridcolor\": \"white\", \"linecolor\": \"white\", \"minorgridcolor\": \"white\", \"startlinecolor\": \"#2a3f5f\"}, \"baxis\": {\"endlinecolor\": \"#2a3f5f\", \"gridcolor\": \"white\", \"linecolor\": \"white\", \"minorgridcolor\": \"white\", \"startlinecolor\": \"#2a3f5f\"}, \"type\": \"carpet\"}], \"choropleth\": [{\"colorbar\": {\"outlinewidth\": 0, \"ticks\": \"\"}, \"type\": \"choropleth\"}], \"contour\": [{\"colorbar\": {\"outlinewidth\": 0, \"ticks\": \"\"}, \"colorscale\": [[0.0, \"#0d0887\"], [0.1111111111111111, \"#46039f\"], [0.2222222222222222, \"#7201a8\"], [0.3333333333333333, \"#9c179e\"], [0.4444444444444444, \"#bd3786\"], [0.5555555555555556, \"#d8576b\"], [0.6666666666666666, \"#ed7953\"], [0.7777777777777778, \"#fb9f3a\"], [0.8888888888888888, \"#fdca26\"], [1.0, \"#f0f921\"]], \"type\": \"contour\"}], \"contourcarpet\": [{\"colorbar\": {\"outlinewidth\": 0, \"ticks\": \"\"}, \"type\": \"contourcarpet\"}], \"heatmap\": [{\"colorbar\": {\"outlinewidth\": 0, \"ticks\": \"\"}, \"colorscale\": [[0.0, \"#0d0887\"], [0.1111111111111111, \"#46039f\"], [0.2222222222222222, \"#7201a8\"], [0.3333333333333333, \"#9c179e\"], [0.4444444444444444, \"#bd3786\"], [0.5555555555555556, \"#d8576b\"], [0.6666666666666666, \"#ed7953\"], [0.7777777777777778, \"#fb9f3a\"], [0.8888888888888888, \"#fdca26\"], [1.0, \"#f0f921\"]], \"type\": \"heatmap\"}], \"heatmapgl\": [{\"colorbar\": {\"outlinewidth\": 0, \"ticks\": \"\"}, \"colorscale\": [[0.0, \"#0d0887\"], [0.1111111111111111, \"#46039f\"], [0.2222222222222222, \"#7201a8\"], [0.3333333333333333, \"#9c179e\"], [0.4444444444444444, \"#bd3786\"], [0.5555555555555556, \"#d8576b\"], [0.6666666666666666, \"#ed7953\"], [0.7777777777777778, \"#fb9f3a\"], [0.8888888888888888, \"#fdca26\"], [1.0, \"#f0f921\"]], \"type\": \"heatmapgl\"}], \"histogram\": [{\"marker\": {\"colorbar\": {\"outlinewidth\": 0, \"ticks\": \"\"}}, \"type\": \"histogram\"}], \"histogram2d\": [{\"colorbar\": {\"outlinewidth\": 0, \"ticks\": \"\"}, \"colorscale\": [[0.0, \"#0d0887\"], [0.1111111111111111, \"#46039f\"], [0.2222222222222222, \"#7201a8\"], [0.3333333333333333, \"#9c179e\"], [0.4444444444444444, \"#bd3786\"], [0.5555555555555556, \"#d8576b\"], [0.6666666666666666, \"#ed7953\"], [0.7777777777777778, \"#fb9f3a\"], [0.8888888888888888, \"#fdca26\"], [1.0, \"#f0f921\"]], \"type\": \"histogram2d\"}], \"histogram2dcontour\": [{\"colorbar\": {\"outlinewidth\": 0, \"ticks\": \"\"}, \"colorscale\": [[0.0, \"#0d0887\"], [0.1111111111111111, \"#46039f\"], [0.2222222222222222, \"#7201a8\"], [0.3333333333333333, \"#9c179e\"], [0.4444444444444444, \"#bd3786\"], [0.5555555555555556, \"#d8576b\"], [0.6666666666666666, \"#ed7953\"], [0.7777777777777778, \"#fb9f3a\"], [0.8888888888888888, \"#fdca26\"], [1.0, \"#f0f921\"]], \"type\": \"histogram2dcontour\"}], \"mesh3d\": [{\"colorbar\": {\"outlinewidth\": 0, \"ticks\": \"\"}, \"type\": \"mesh3d\"}], \"parcoords\": [{\"line\": {\"colorbar\": {\"outlinewidth\": 0, \"ticks\": \"\"}}, \"type\": \"parcoords\"}], \"pie\": [{\"automargin\": true, \"type\": \"pie\"}], \"scatter\": [{\"marker\": {\"colorbar\": {\"outlinewidth\": 0, \"ticks\": \"\"}}, \"type\": \"scatter\"}], \"scatter3d\": [{\"line\": {\"colorbar\": {\"outlinewidth\": 0, \"ticks\": \"\"}}, \"marker\": {\"colorbar\": {\"outlinewidth\": 0, \"ticks\": \"\"}}, \"type\": \"scatter3d\"}], \"scattercarpet\": [{\"marker\": {\"colorbar\": {\"outlinewidth\": 0, \"ticks\": \"\"}}, \"type\": \"scattercarpet\"}], \"scattergeo\": [{\"marker\": {\"colorbar\": {\"outlinewidth\": 0, \"ticks\": \"\"}}, \"type\": \"scattergeo\"}], \"scattergl\": [{\"marker\": {\"colorbar\": {\"outlinewidth\": 0, \"ticks\": \"\"}}, \"type\": \"scattergl\"}], \"scattermapbox\": [{\"marker\": {\"colorbar\": {\"outlinewidth\": 0, \"ticks\": \"\"}}, \"type\": \"scattermapbox\"}], \"scatterpolar\": [{\"marker\": {\"colorbar\": {\"outlinewidth\": 0, \"ticks\": \"\"}}, \"type\": \"scatterpolar\"}], \"scatterpolargl\": [{\"marker\": {\"colorbar\": {\"outlinewidth\": 0, \"ticks\": \"\"}}, \"type\": \"scatterpolargl\"}], \"scatterternary\": [{\"marker\": {\"colorbar\": {\"outlinewidth\": 0, \"ticks\": \"\"}}, \"type\": \"scatterternary\"}], \"surface\": [{\"colorbar\": {\"outlinewidth\": 0, \"ticks\": \"\"}, \"colorscale\": [[0.0, \"#0d0887\"], [0.1111111111111111, \"#46039f\"], [0.2222222222222222, \"#7201a8\"], [0.3333333333333333, \"#9c179e\"], [0.4444444444444444, \"#bd3786\"], [0.5555555555555556, \"#d8576b\"], [0.6666666666666666, \"#ed7953\"], [0.7777777777777778, \"#fb9f3a\"], [0.8888888888888888, \"#fdca26\"], [1.0, \"#f0f921\"]], \"type\": \"surface\"}], \"table\": [{\"cells\": {\"fill\": {\"color\": \"#EBF0F8\"}, \"line\": {\"color\": \"white\"}}, \"header\": {\"fill\": {\"color\": \"#C8D4E3\"}, \"line\": {\"color\": \"white\"}}, \"type\": \"table\"}]}, \"layout\": {\"annotationdefaults\": {\"arrowcolor\": \"#2a3f5f\", \"arrowhead\": 0, \"arrowwidth\": 1}, \"coloraxis\": {\"colorbar\": {\"outlinewidth\": 0, \"ticks\": \"\"}}, \"colorscale\": {\"diverging\": [[0, \"#8e0152\"], [0.1, \"#c51b7d\"], [0.2, \"#de77ae\"], [0.3, \"#f1b6da\"], [0.4, \"#fde0ef\"], [0.5, \"#f7f7f7\"], [0.6, \"#e6f5d0\"], [0.7, \"#b8e186\"], [0.8, \"#7fbc41\"], [0.9, \"#4d9221\"], [1, \"#276419\"]], \"sequential\": [[0.0, \"#0d0887\"], [0.1111111111111111, \"#46039f\"], [0.2222222222222222, \"#7201a8\"], [0.3333333333333333, \"#9c179e\"], [0.4444444444444444, \"#bd3786\"], [0.5555555555555556, \"#d8576b\"], [0.6666666666666666, \"#ed7953\"], [0.7777777777777778, \"#fb9f3a\"], [0.8888888888888888, \"#fdca26\"], [1.0, \"#f0f921\"]], \"sequentialminus\": [[0.0, \"#0d0887\"], [0.1111111111111111, \"#46039f\"], [0.2222222222222222, \"#7201a8\"], [0.3333333333333333, \"#9c179e\"], [0.4444444444444444, \"#bd3786\"], [0.5555555555555556, \"#d8576b\"], [0.6666666666666666, \"#ed7953\"], [0.7777777777777778, \"#fb9f3a\"], [0.8888888888888888, \"#fdca26\"], [1.0, \"#f0f921\"]]}, \"colorway\": [\"#636efa\", \"#EF553B\", \"#00cc96\", \"#ab63fa\", \"#FFA15A\", \"#19d3f3\", \"#FF6692\", \"#B6E880\", \"#FF97FF\", \"#FECB52\"], \"font\": {\"color\": \"#2a3f5f\"}, \"geo\": {\"bgcolor\": \"white\", \"lakecolor\": \"white\", \"landcolor\": \"#E5ECF6\", \"showlakes\": true, \"showland\": true, \"subunitcolor\": \"white\"}, \"hoverlabel\": {\"align\": \"left\"}, \"hovermode\": \"closest\", \"mapbox\": {\"style\": \"light\"}, \"paper_bgcolor\": \"white\", \"plot_bgcolor\": \"#E5ECF6\", \"polar\": {\"angularaxis\": {\"gridcolor\": \"white\", \"linecolor\": \"white\", \"ticks\": \"\"}, \"bgcolor\": \"#E5ECF6\", \"radialaxis\": {\"gridcolor\": \"white\", \"linecolor\": \"white\", \"ticks\": \"\"}}, \"scene\": {\"xaxis\": {\"backgroundcolor\": \"#E5ECF6\", \"gridcolor\": \"white\", \"gridwidth\": 2, \"linecolor\": \"white\", \"showbackground\": true, \"ticks\": \"\", \"zerolinecolor\": \"white\"}, \"yaxis\": {\"backgroundcolor\": \"#E5ECF6\", \"gridcolor\": \"white\", \"gridwidth\": 2, \"linecolor\": \"white\", \"showbackground\": true, \"ticks\": \"\", \"zerolinecolor\": \"white\"}, \"zaxis\": {\"backgroundcolor\": \"#E5ECF6\", \"gridcolor\": \"white\", \"gridwidth\": 2, \"linecolor\": \"white\", \"showbackground\": true, \"ticks\": \"\", \"zerolinecolor\": \"white\"}}, \"shapedefaults\": {\"line\": {\"color\": \"#2a3f5f\"}}, \"ternary\": {\"aaxis\": {\"gridcolor\": \"white\", \"linecolor\": \"white\", \"ticks\": \"\"}, \"baxis\": {\"gridcolor\": \"white\", \"linecolor\": \"white\", \"ticks\": \"\"}, \"bgcolor\": \"#E5ECF6\", \"caxis\": {\"gridcolor\": \"white\", \"linecolor\": \"white\", \"ticks\": \"\"}}, \"title\": {\"x\": 0.05}, \"xaxis\": {\"automargin\": true, \"gridcolor\": \"white\", \"linecolor\": \"white\", \"ticks\": \"\", \"title\": {\"standoff\": 15}, \"zerolinecolor\": \"white\", \"zerolinewidth\": 2}, \"yaxis\": {\"automargin\": true, \"gridcolor\": \"white\", \"linecolor\": \"white\", \"ticks\": \"\", \"title\": {\"standoff\": 15}, \"zerolinecolor\": \"white\", \"zerolinewidth\": 2}}}, \"title\": {\"text\": \"Long-Form Input\"}, \"xaxis\": {\"anchor\": \"y\", \"domain\": [0.0, 1.0], \"title\": {\"text\": \"day\"}}, \"yaxis\": {\"anchor\": \"x\", \"domain\": [0.0, 1.0], \"title\": {\"text\": \"size\"}}},\n",
              "                        {\"responsive\": true}\n",
              "                    ).then(function(){\n",
              "                            \n",
              "var gd = document.getElementById('9de0d799-9fd7-491c-ab29-9cca4b222031');\n",
              "var x = new MutationObserver(function (mutations, observer) {{\n",
              "        var display = window.getComputedStyle(gd).display;\n",
              "        if (!display || display === 'none') {{\n",
              "            console.log([gd, 'removed!']);\n",
              "            Plotly.purge(gd);\n",
              "            observer.disconnect();\n",
              "        }}\n",
              "}});\n",
              "\n",
              "// Listen for the removal of the full notebook cells\n",
              "var notebookContainer = gd.closest('#notebook-container');\n",
              "if (notebookContainer) {{\n",
              "    x.observe(notebookContainer, {childList: true});\n",
              "}}\n",
              "\n",
              "// Listen for the clearing of the current output cell\n",
              "var outputEl = gd.closest('.output');\n",
              "if (outputEl) {{\n",
              "    x.observe(outputEl, {childList: true});\n",
              "}}\n",
              "\n",
              "                        })\n",
              "                };\n",
              "                \n",
              "            </script>\n",
              "        </div>\n",
              "</body>\n",
              "</html>"
            ]
          },
          "metadata": {
            "tags": []
          }
        },
        {
          "output_type": "display_data",
          "data": {
            "text/html": [
              "<html>\n",
              "<head><meta charset=\"utf-8\" /></head>\n",
              "<body>\n",
              "    <div>\n",
              "            <script src=\"https://cdnjs.cloudflare.com/ajax/libs/mathjax/2.7.5/MathJax.js?config=TeX-AMS-MML_SVG\"></script><script type=\"text/javascript\">if (window.MathJax) {MathJax.Hub.Config({SVG: {font: \"STIX-Web\"}});}</script>\n",
              "                <script type=\"text/javascript\">window.PlotlyConfig = {MathJaxConfig: 'local'};</script>\n",
              "        <script src=\"https://cdn.plot.ly/plotly-latest.min.js\"></script>    \n",
              "            <div id=\"85e0e6ce-5afc-4c07-a370-37dedc806767\" class=\"plotly-graph-div\" style=\"height:525px; width:100%;\"></div>\n",
              "            <script type=\"text/javascript\">\n",
              "                \n",
              "                    window.PLOTLYENV=window.PLOTLYENV || {};\n",
              "                    \n",
              "                if (document.getElementById(\"85e0e6ce-5afc-4c07-a370-37dedc806767\")) {\n",
              "                    Plotly.newPlot(\n",
              "                        '85e0e6ce-5afc-4c07-a370-37dedc806767',\n",
              "                        [{\"alignmentgroup\": \"True\", \"hoverlabel\": {\"namelength\": 0}, \"hovertemplate\": \"time=Dinner<br>day=%{x}<br>size=%{y}\", \"legendgroup\": \"time=Dinner\", \"marker\": {\"color\": \"#636efa\"}, \"name\": \"time=Dinner\", \"offsetgroup\": \"time=Dinner\", \"orientation\": \"v\", \"showlegend\": true, \"textposition\": \"auto\", \"type\": \"bar\", \"x\": [\"Sun\", \"Sun\", \"Sun\", \"Sun\", \"Sun\", \"Sun\", \"Sun\", \"Sun\", \"Sun\", \"Sun\", \"Sun\", \"Sun\", \"Sun\", \"Sun\", \"Sun\", \"Sun\", \"Sun\", \"Sun\", \"Sun\", \"Sat\", \"Sat\", \"Sat\", \"Sat\", \"Sat\", \"Sat\", \"Sat\", \"Sat\", \"Sat\", \"Sat\", \"Sat\", \"Sat\", \"Sat\", \"Sat\", \"Sat\", \"Sat\", \"Sat\", \"Sat\", \"Sat\", \"Sat\", \"Sat\", \"Sat\", \"Sun\", \"Sun\", \"Sun\", \"Sun\", \"Sun\", \"Sun\", \"Sun\", \"Sun\", \"Sun\", \"Sun\", \"Sun\", \"Sun\", \"Sun\", \"Sun\", \"Sun\", \"Sat\", \"Sat\", \"Sat\", \"Sat\", \"Sat\", \"Sat\", \"Sat\", \"Sat\", \"Sat\", \"Sat\", \"Sat\", \"Sat\", \"Sat\", \"Sat\", \"Sat\", \"Sat\", \"Sat\", \"Sat\", \"Sat\", \"Sat\", \"Sat\", \"Fri\", \"Fri\", \"Fri\", \"Fri\", \"Fri\", \"Fri\", \"Fri\", \"Fri\", \"Fri\", \"Fri\", \"Fri\", \"Fri\", \"Sat\", \"Sat\", \"Sat\", \"Sat\", \"Sat\", \"Sat\", \"Sat\", \"Sat\", \"Sat\", \"Sat\", \"Sun\", \"Sun\", \"Sun\", \"Sun\", \"Sun\", \"Sun\", \"Sun\", \"Sun\", \"Sun\", \"Sun\", \"Sun\", \"Sun\", \"Sun\", \"Sun\", \"Sun\", \"Sun\", \"Sun\", \"Sun\", \"Sun\", \"Sun\", \"Sun\", \"Sun\", \"Sun\", \"Sat\", \"Sat\", \"Sat\", \"Sat\", \"Sun\", \"Sun\", \"Sun\", \"Sun\", \"Sun\", \"Sun\", \"Sun\", \"Sun\", \"Sun\", \"Sun\", \"Sun\", \"Sun\", \"Sun\", \"Sun\", \"Sun\", \"Sun\", \"Sun\", \"Sun\", \"Sun\", \"Sat\", \"Sat\", \"Sat\", \"Sat\", \"Sat\", \"Sat\", \"Sat\", \"Sat\", \"Sat\", \"Sat\", \"Sat\", \"Sat\", \"Sat\", \"Sat\", \"Sat\", \"Sat\", \"Sat\", \"Sat\", \"Sat\", \"Sat\", \"Sat\", \"Sat\", \"Sat\", \"Sat\", \"Sat\", \"Sat\", \"Sat\", \"Sat\", \"Sat\", \"Sat\", \"Thur\"], \"xaxis\": \"x\", \"y\": [2, 3, 3, 2, 4, 4, 2, 4, 2, 2, 2, 4, 2, 4, 2, 2, 3, 3, 3, 3, 2, 2, 2, 4, 2, 4, 2, 2, 2, 2, 2, 4, 2, 4, 2, 3, 3, 3, 3, 3, 3, 2, 2, 2, 4, 2, 2, 4, 3, 2, 2, 2, 4, 2, 4, 2, 4, 2, 2, 4, 2, 2, 2, 4, 3, 3, 2, 1, 2, 2, 2, 3, 2, 2, 2, 2, 2, 2, 2, 2, 2, 2, 4, 2, 2, 2, 2, 2, 2, 3, 2, 2, 2, 2, 2, 2, 2, 2, 1, 3, 2, 3, 2, 4, 2, 2, 3, 4, 4, 5, 6, 4, 2, 4, 4, 2, 3, 2, 2, 3, 2, 4, 2, 2, 3, 2, 2, 2, 2, 2, 2, 2, 2, 2, 4, 2, 3, 4, 2, 5, 3, 5, 3, 3, 2, 3, 4, 2, 2, 3, 4, 4, 2, 3, 2, 5, 2, 2, 4, 4, 2, 2, 4, 3, 2, 2, 2, 2, 2, 2, 3, 3, 2, 2, 2, 2], \"yaxis\": \"y\"}, {\"alignmentgroup\": \"True\", \"hoverlabel\": {\"namelength\": 0}, \"hovertemplate\": \"time=Lunch<br>day=%{x}<br>size=%{y}\", \"legendgroup\": \"time=Lunch\", \"marker\": {\"color\": \"#EF553B\"}, \"name\": \"time=Lunch\", \"offsetgroup\": \"time=Lunch\", \"orientation\": \"v\", \"showlegend\": true, \"textposition\": \"auto\", \"type\": \"bar\", \"x\": [\"Thur\", \"Thur\", \"Thur\", \"Thur\", \"Thur\", \"Thur\", \"Thur\", \"Thur\", \"Thur\", \"Thur\", \"Thur\", \"Thur\", \"Thur\", \"Thur\", \"Thur\", \"Thur\", \"Thur\", \"Thur\", \"Thur\", \"Thur\", \"Thur\", \"Thur\", \"Thur\", \"Thur\", \"Thur\", \"Thur\", \"Thur\", \"Thur\", \"Thur\", \"Thur\", \"Thur\", \"Thur\", \"Thur\", \"Thur\", \"Thur\", \"Thur\", \"Thur\", \"Thur\", \"Thur\", \"Thur\", \"Thur\", \"Thur\", \"Thur\", \"Thur\", \"Thur\", \"Thur\", \"Thur\", \"Thur\", \"Thur\", \"Thur\", \"Thur\", \"Thur\", \"Thur\", \"Thur\", \"Thur\", \"Thur\", \"Thur\", \"Thur\", \"Thur\", \"Thur\", \"Thur\", \"Fri\", \"Fri\", \"Fri\", \"Fri\", \"Fri\", \"Fri\", \"Fri\"], \"xaxis\": \"x\", \"y\": [4, 2, 2, 2, 2, 1, 2, 2, 4, 2, 2, 2, 2, 2, 2, 4, 2, 2, 2, 2, 2, 6, 2, 2, 2, 3, 2, 2, 2, 2, 2, 2, 2, 2, 2, 2, 2, 6, 5, 6, 2, 2, 3, 2, 2, 2, 2, 2, 2, 2, 2, 2, 4, 2, 2, 3, 2, 2, 2, 4, 3, 2, 2, 1, 3, 2, 2, 2], \"yaxis\": \"y\"}],\n",
              "                        {\"barmode\": \"group\", \"legend\": {\"tracegroupgap\": 0}, \"template\": {\"data\": {\"bar\": [{\"error_x\": {\"color\": \"#2a3f5f\"}, \"error_y\": {\"color\": \"#2a3f5f\"}, \"marker\": {\"line\": {\"color\": \"#E5ECF6\", \"width\": 0.5}}, \"type\": \"bar\"}], \"barpolar\": [{\"marker\": {\"line\": {\"color\": \"#E5ECF6\", \"width\": 0.5}}, \"type\": \"barpolar\"}], \"carpet\": [{\"aaxis\": {\"endlinecolor\": \"#2a3f5f\", \"gridcolor\": \"white\", \"linecolor\": \"white\", \"minorgridcolor\": \"white\", \"startlinecolor\": \"#2a3f5f\"}, \"baxis\": {\"endlinecolor\": \"#2a3f5f\", \"gridcolor\": \"white\", \"linecolor\": \"white\", \"minorgridcolor\": \"white\", \"startlinecolor\": \"#2a3f5f\"}, \"type\": \"carpet\"}], \"choropleth\": [{\"colorbar\": {\"outlinewidth\": 0, \"ticks\": \"\"}, \"type\": \"choropleth\"}], \"contour\": [{\"colorbar\": {\"outlinewidth\": 0, \"ticks\": \"\"}, \"colorscale\": [[0.0, \"#0d0887\"], [0.1111111111111111, \"#46039f\"], [0.2222222222222222, \"#7201a8\"], [0.3333333333333333, \"#9c179e\"], [0.4444444444444444, \"#bd3786\"], [0.5555555555555556, \"#d8576b\"], [0.6666666666666666, \"#ed7953\"], [0.7777777777777778, \"#fb9f3a\"], [0.8888888888888888, \"#fdca26\"], [1.0, \"#f0f921\"]], \"type\": \"contour\"}], \"contourcarpet\": [{\"colorbar\": {\"outlinewidth\": 0, \"ticks\": \"\"}, \"type\": \"contourcarpet\"}], \"heatmap\": [{\"colorbar\": {\"outlinewidth\": 0, \"ticks\": \"\"}, \"colorscale\": [[0.0, \"#0d0887\"], [0.1111111111111111, \"#46039f\"], [0.2222222222222222, \"#7201a8\"], [0.3333333333333333, \"#9c179e\"], [0.4444444444444444, \"#bd3786\"], [0.5555555555555556, \"#d8576b\"], [0.6666666666666666, \"#ed7953\"], [0.7777777777777778, \"#fb9f3a\"], [0.8888888888888888, \"#fdca26\"], [1.0, \"#f0f921\"]], \"type\": \"heatmap\"}], \"heatmapgl\": [{\"colorbar\": {\"outlinewidth\": 0, \"ticks\": \"\"}, \"colorscale\": [[0.0, \"#0d0887\"], [0.1111111111111111, \"#46039f\"], [0.2222222222222222, \"#7201a8\"], [0.3333333333333333, \"#9c179e\"], [0.4444444444444444, \"#bd3786\"], [0.5555555555555556, \"#d8576b\"], [0.6666666666666666, \"#ed7953\"], [0.7777777777777778, \"#fb9f3a\"], [0.8888888888888888, \"#fdca26\"], [1.0, \"#f0f921\"]], \"type\": \"heatmapgl\"}], \"histogram\": [{\"marker\": {\"colorbar\": {\"outlinewidth\": 0, \"ticks\": \"\"}}, \"type\": \"histogram\"}], \"histogram2d\": [{\"colorbar\": {\"outlinewidth\": 0, \"ticks\": \"\"}, \"colorscale\": [[0.0, \"#0d0887\"], [0.1111111111111111, \"#46039f\"], [0.2222222222222222, \"#7201a8\"], [0.3333333333333333, \"#9c179e\"], [0.4444444444444444, \"#bd3786\"], [0.5555555555555556, \"#d8576b\"], [0.6666666666666666, \"#ed7953\"], [0.7777777777777778, \"#fb9f3a\"], [0.8888888888888888, \"#fdca26\"], [1.0, \"#f0f921\"]], \"type\": \"histogram2d\"}], \"histogram2dcontour\": [{\"colorbar\": {\"outlinewidth\": 0, \"ticks\": \"\"}, \"colorscale\": [[0.0, \"#0d0887\"], [0.1111111111111111, \"#46039f\"], [0.2222222222222222, \"#7201a8\"], [0.3333333333333333, \"#9c179e\"], [0.4444444444444444, \"#bd3786\"], [0.5555555555555556, \"#d8576b\"], [0.6666666666666666, \"#ed7953\"], [0.7777777777777778, \"#fb9f3a\"], [0.8888888888888888, \"#fdca26\"], [1.0, \"#f0f921\"]], \"type\": \"histogram2dcontour\"}], \"mesh3d\": [{\"colorbar\": {\"outlinewidth\": 0, \"ticks\": \"\"}, \"type\": \"mesh3d\"}], \"parcoords\": [{\"line\": {\"colorbar\": {\"outlinewidth\": 0, \"ticks\": \"\"}}, \"type\": \"parcoords\"}], \"pie\": [{\"automargin\": true, \"type\": \"pie\"}], \"scatter\": [{\"marker\": {\"colorbar\": {\"outlinewidth\": 0, \"ticks\": \"\"}}, \"type\": \"scatter\"}], \"scatter3d\": [{\"line\": {\"colorbar\": {\"outlinewidth\": 0, \"ticks\": \"\"}}, \"marker\": {\"colorbar\": {\"outlinewidth\": 0, \"ticks\": \"\"}}, \"type\": \"scatter3d\"}], \"scattercarpet\": [{\"marker\": {\"colorbar\": {\"outlinewidth\": 0, \"ticks\": \"\"}}, \"type\": \"scattercarpet\"}], \"scattergeo\": [{\"marker\": {\"colorbar\": {\"outlinewidth\": 0, \"ticks\": \"\"}}, \"type\": \"scattergeo\"}], \"scattergl\": [{\"marker\": {\"colorbar\": {\"outlinewidth\": 0, \"ticks\": \"\"}}, \"type\": \"scattergl\"}], \"scattermapbox\": [{\"marker\": {\"colorbar\": {\"outlinewidth\": 0, \"ticks\": \"\"}}, \"type\": \"scattermapbox\"}], \"scatterpolar\": [{\"marker\": {\"colorbar\": {\"outlinewidth\": 0, \"ticks\": \"\"}}, \"type\": \"scatterpolar\"}], \"scatterpolargl\": [{\"marker\": {\"colorbar\": {\"outlinewidth\": 0, \"ticks\": \"\"}}, \"type\": \"scatterpolargl\"}], \"scatterternary\": [{\"marker\": {\"colorbar\": {\"outlinewidth\": 0, \"ticks\": \"\"}}, \"type\": \"scatterternary\"}], \"surface\": [{\"colorbar\": {\"outlinewidth\": 0, \"ticks\": \"\"}, \"colorscale\": [[0.0, \"#0d0887\"], [0.1111111111111111, \"#46039f\"], [0.2222222222222222, \"#7201a8\"], [0.3333333333333333, \"#9c179e\"], [0.4444444444444444, \"#bd3786\"], [0.5555555555555556, \"#d8576b\"], [0.6666666666666666, \"#ed7953\"], [0.7777777777777778, \"#fb9f3a\"], [0.8888888888888888, \"#fdca26\"], [1.0, \"#f0f921\"]], \"type\": \"surface\"}], \"table\": [{\"cells\": {\"fill\": {\"color\": \"#EBF0F8\"}, \"line\": {\"color\": \"white\"}}, \"header\": {\"fill\": {\"color\": \"#C8D4E3\"}, \"line\": {\"color\": \"white\"}}, \"type\": \"table\"}]}, \"layout\": {\"annotationdefaults\": {\"arrowcolor\": \"#2a3f5f\", \"arrowhead\": 0, \"arrowwidth\": 1}, \"coloraxis\": {\"colorbar\": {\"outlinewidth\": 0, \"ticks\": \"\"}}, \"colorscale\": {\"diverging\": [[0, \"#8e0152\"], [0.1, \"#c51b7d\"], [0.2, \"#de77ae\"], [0.3, \"#f1b6da\"], [0.4, \"#fde0ef\"], [0.5, \"#f7f7f7\"], [0.6, \"#e6f5d0\"], [0.7, \"#b8e186\"], [0.8, \"#7fbc41\"], [0.9, \"#4d9221\"], [1, \"#276419\"]], \"sequential\": [[0.0, \"#0d0887\"], [0.1111111111111111, \"#46039f\"], [0.2222222222222222, \"#7201a8\"], [0.3333333333333333, \"#9c179e\"], [0.4444444444444444, \"#bd3786\"], [0.5555555555555556, \"#d8576b\"], [0.6666666666666666, \"#ed7953\"], [0.7777777777777778, \"#fb9f3a\"], [0.8888888888888888, \"#fdca26\"], [1.0, \"#f0f921\"]], \"sequentialminus\": [[0.0, \"#0d0887\"], [0.1111111111111111, \"#46039f\"], [0.2222222222222222, \"#7201a8\"], [0.3333333333333333, \"#9c179e\"], [0.4444444444444444, \"#bd3786\"], [0.5555555555555556, \"#d8576b\"], [0.6666666666666666, \"#ed7953\"], [0.7777777777777778, \"#fb9f3a\"], [0.8888888888888888, \"#fdca26\"], [1.0, \"#f0f921\"]]}, \"colorway\": [\"#636efa\", \"#EF553B\", \"#00cc96\", \"#ab63fa\", \"#FFA15A\", \"#19d3f3\", \"#FF6692\", \"#B6E880\", \"#FF97FF\", \"#FECB52\"], \"font\": {\"color\": \"#2a3f5f\"}, \"geo\": {\"bgcolor\": \"white\", \"lakecolor\": \"white\", \"landcolor\": \"#E5ECF6\", \"showlakes\": true, \"showland\": true, \"subunitcolor\": \"white\"}, \"hoverlabel\": {\"align\": \"left\"}, \"hovermode\": \"closest\", \"mapbox\": {\"style\": \"light\"}, \"paper_bgcolor\": \"white\", \"plot_bgcolor\": \"#E5ECF6\", \"polar\": {\"angularaxis\": {\"gridcolor\": \"white\", \"linecolor\": \"white\", \"ticks\": \"\"}, \"bgcolor\": \"#E5ECF6\", \"radialaxis\": {\"gridcolor\": \"white\", \"linecolor\": \"white\", \"ticks\": \"\"}}, \"scene\": {\"xaxis\": {\"backgroundcolor\": \"#E5ECF6\", \"gridcolor\": \"white\", \"gridwidth\": 2, \"linecolor\": \"white\", \"showbackground\": true, \"ticks\": \"\", \"zerolinecolor\": \"white\"}, \"yaxis\": {\"backgroundcolor\": \"#E5ECF6\", \"gridcolor\": \"white\", \"gridwidth\": 2, \"linecolor\": \"white\", \"showbackground\": true, \"ticks\": \"\", \"zerolinecolor\": \"white\"}, \"zaxis\": {\"backgroundcolor\": \"#E5ECF6\", \"gridcolor\": \"white\", \"gridwidth\": 2, \"linecolor\": \"white\", \"showbackground\": true, \"ticks\": \"\", \"zerolinecolor\": \"white\"}}, \"shapedefaults\": {\"line\": {\"color\": \"#2a3f5f\"}}, \"ternary\": {\"aaxis\": {\"gridcolor\": \"white\", \"linecolor\": \"white\", \"ticks\": \"\"}, \"baxis\": {\"gridcolor\": \"white\", \"linecolor\": \"white\", \"ticks\": \"\"}, \"bgcolor\": \"#E5ECF6\", \"caxis\": {\"gridcolor\": \"white\", \"linecolor\": \"white\", \"ticks\": \"\"}}, \"title\": {\"x\": 0.05}, \"xaxis\": {\"automargin\": true, \"gridcolor\": \"white\", \"linecolor\": \"white\", \"ticks\": \"\", \"title\": {\"standoff\": 15}, \"zerolinecolor\": \"white\", \"zerolinewidth\": 2}, \"yaxis\": {\"automargin\": true, \"gridcolor\": \"white\", \"linecolor\": \"white\", \"ticks\": \"\", \"title\": {\"standoff\": 15}, \"zerolinecolor\": \"white\", \"zerolinewidth\": 2}}}, \"title\": {\"text\": \"Long-Form Input\"}, \"xaxis\": {\"anchor\": \"y\", \"domain\": [0.0, 1.0], \"title\": {\"text\": \"day\"}}, \"yaxis\": {\"anchor\": \"x\", \"domain\": [0.0, 1.0], \"title\": {\"text\": \"size\"}}},\n",
              "                        {\"responsive\": true}\n",
              "                    ).then(function(){\n",
              "                            \n",
              "var gd = document.getElementById('85e0e6ce-5afc-4c07-a370-37dedc806767');\n",
              "var x = new MutationObserver(function (mutations, observer) {{\n",
              "        var display = window.getComputedStyle(gd).display;\n",
              "        if (!display || display === 'none') {{\n",
              "            console.log([gd, 'removed!']);\n",
              "            Plotly.purge(gd);\n",
              "            observer.disconnect();\n",
              "        }}\n",
              "}});\n",
              "\n",
              "// Listen for the removal of the full notebook cells\n",
              "var notebookContainer = gd.closest('#notebook-container');\n",
              "if (notebookContainer) {{\n",
              "    x.observe(notebookContainer, {childList: true});\n",
              "}}\n",
              "\n",
              "// Listen for the clearing of the current output cell\n",
              "var outputEl = gd.closest('.output');\n",
              "if (outputEl) {{\n",
              "    x.observe(outputEl, {childList: true});\n",
              "}}\n",
              "\n",
              "                        })\n",
              "                };\n",
              "                \n",
              "            </script>\n",
              "        </div>\n",
              "</body>\n",
              "</html>"
            ]
          },
          "metadata": {
            "tags": []
          }
        }
      ]
    },
    {
      "cell_type": "markdown",
      "metadata": {
        "id": "VXkK6Fyy7L5i"
      },
      "source": [
        "###Facetted subplots"
      ]
    },
    {
      "cell_type": "code",
      "metadata": {
        "colab": {
          "base_uri": "https://localhost:8080/",
          "height": 542
        },
        "id": "iDsyhcuz4m0e",
        "outputId": "4afd82d6-aa01-4fd5-95c3-73e9c98aef0c"
      },
      "source": [
        "import plotly.express as px\n",
        "df = px.data.tips()\n",
        "fig = px.bar(df, x=\"sex\", y=\"total_bill\", color=\"smoker\", barmode=\"group\",\n",
        "             facet_row=\"time\", facet_col=\"day\",\n",
        "             category_orders={\"day\": [\"Thur\", \"Fri\", \"Sat\", \"Sun\"],\n",
        "                              \"time\": [\"Lunch\", \"Dinner\"]})\n",
        "fig.show()"
      ],
      "execution_count": null,
      "outputs": [
        {
          "output_type": "display_data",
          "data": {
            "text/html": [
              "<html>\n",
              "<head><meta charset=\"utf-8\" /></head>\n",
              "<body>\n",
              "    <div>\n",
              "            <script src=\"https://cdnjs.cloudflare.com/ajax/libs/mathjax/2.7.5/MathJax.js?config=TeX-AMS-MML_SVG\"></script><script type=\"text/javascript\">if (window.MathJax) {MathJax.Hub.Config({SVG: {font: \"STIX-Web\"}});}</script>\n",
              "                <script type=\"text/javascript\">window.PlotlyConfig = {MathJaxConfig: 'local'};</script>\n",
              "        <script src=\"https://cdn.plot.ly/plotly-latest.min.js\"></script>    \n",
              "            <div id=\"c6ac9b27-f7c6-4f25-a4fe-9c3e9d256d17\" class=\"plotly-graph-div\" style=\"height:525px; width:100%;\"></div>\n",
              "            <script type=\"text/javascript\">\n",
              "                \n",
              "                    window.PLOTLYENV=window.PLOTLYENV || {};\n",
              "                    \n",
              "                if (document.getElementById(\"c6ac9b27-f7c6-4f25-a4fe-9c3e9d256d17\")) {\n",
              "                    Plotly.newPlot(\n",
              "                        'c6ac9b27-f7c6-4f25-a4fe-9c3e9d256d17',\n",
              "                        [{\"alignmentgroup\": \"True\", \"hoverlabel\": {\"namelength\": 0}, \"hovertemplate\": \"smoker=No<br>time=Lunch<br>day=Thur<br>sex=%{x}<br>total_bill=%{y}\", \"legendgroup\": \"smoker=No\", \"marker\": {\"color\": \"#636efa\"}, \"name\": \"smoker=No\", \"offsetgroup\": \"smoker=No\", \"orientation\": \"v\", \"showlegend\": true, \"textposition\": \"auto\", \"type\": \"bar\", \"x\": [\"Male\", \"Male\", \"Male\", \"Male\", \"Female\", \"Male\", \"Female\", \"Male\", \"Male\", \"Male\", \"Male\", \"Female\", \"Female\", \"Female\", \"Male\", \"Female\", \"Male\", \"Male\", \"Female\", \"Female\", \"Male\", \"Female\", \"Female\", \"Male\", \"Male\", \"Female\", \"Female\", \"Female\", \"Female\", \"Female\", \"Female\", \"Female\", \"Female\", \"Female\", \"Male\", \"Male\", \"Female\", \"Female\", \"Female\", \"Female\", \"Female\", \"Male\", \"Male\", \"Male\"], \"xaxis\": \"x5\", \"y\": [27.2, 22.76, 17.29, 16.66, 10.07, 15.98, 34.83, 13.03, 18.28, 24.71, 21.16, 10.65, 12.43, 24.08, 11.69, 13.42, 14.26, 15.95, 12.48, 29.8, 8.52, 14.52, 11.38, 22.82, 19.08, 20.27, 11.17, 12.26, 18.26, 8.51, 10.33, 14.15, 13.16, 17.47, 34.3, 41.19, 27.05, 16.43, 8.35, 18.64, 11.87, 9.78, 7.51, 7.56], \"yaxis\": \"y5\"}, {\"alignmentgroup\": \"True\", \"hoverlabel\": {\"namelength\": 0}, \"hovertemplate\": \"smoker=No<br>time=Lunch<br>day=Fri<br>sex=%{x}<br>total_bill=%{y}\", \"legendgroup\": \"smoker=No\", \"marker\": {\"color\": \"#636efa\"}, \"name\": \"smoker=No\", \"offsetgroup\": \"smoker=No\", \"orientation\": \"v\", \"showlegend\": false, \"textposition\": \"auto\", \"type\": \"bar\", \"x\": [\"Female\"], \"xaxis\": \"x6\", \"y\": [15.98], \"yaxis\": \"y6\"}, {\"alignmentgroup\": \"True\", \"hoverlabel\": {\"namelength\": 0}, \"hovertemplate\": \"smoker=No<br>time=Dinner<br>day=Thur<br>sex=%{x}<br>total_bill=%{y}\", \"legendgroup\": \"smoker=No\", \"marker\": {\"color\": \"#636efa\"}, \"name\": \"smoker=No\", \"offsetgroup\": \"smoker=No\", \"orientation\": \"v\", \"showlegend\": false, \"textposition\": \"auto\", \"type\": \"bar\", \"x\": [\"Female\"], \"xaxis\": \"x\", \"y\": [18.78], \"yaxis\": \"y\"}, {\"alignmentgroup\": \"True\", \"hoverlabel\": {\"namelength\": 0}, \"hovertemplate\": \"smoker=No<br>time=Dinner<br>day=Fri<br>sex=%{x}<br>total_bill=%{y}\", \"legendgroup\": \"smoker=No\", \"marker\": {\"color\": \"#636efa\"}, \"name\": \"smoker=No\", \"offsetgroup\": \"smoker=No\", \"orientation\": \"v\", \"showlegend\": false, \"textposition\": \"auto\", \"type\": \"bar\", \"x\": [\"Male\", \"Female\", \"Male\"], \"xaxis\": \"x2\", \"y\": [22.49, 22.75, 12.46], \"yaxis\": \"y2\"}, {\"alignmentgroup\": \"True\", \"hoverlabel\": {\"namelength\": 0}, \"hovertemplate\": \"smoker=No<br>time=Dinner<br>day=Sat<br>sex=%{x}<br>total_bill=%{y}\", \"legendgroup\": \"smoker=No\", \"marker\": {\"color\": \"#636efa\"}, \"name\": \"smoker=No\", \"offsetgroup\": \"smoker=No\", \"orientation\": \"v\", \"showlegend\": false, \"textposition\": \"auto\", \"type\": \"bar\", \"x\": [\"Male\", \"Male\", \"Female\", \"Female\", \"Male\", \"Male\", \"Male\", \"Male\", \"Male\", \"Male\", \"Female\", \"Male\", \"Male\", \"Female\", \"Female\", \"Male\", \"Male\", \"Male\", \"Female\", \"Male\", \"Male\", \"Male\", \"Female\", \"Male\", \"Male\", \"Male\", \"Female\", \"Male\", \"Male\", \"Female\", \"Female\", \"Male\", \"Female\", \"Male\", \"Male\", \"Female\", \"Male\", \"Male\", \"Male\", \"Male\", \"Male\", \"Male\", \"Female\", \"Male\", \"Male\"], \"xaxis\": \"x3\", \"y\": [20.65, 17.92, 20.29, 15.77, 39.42, 19.82, 17.81, 13.37, 12.69, 21.7, 19.65, 9.55, 18.35, 15.06, 20.69, 17.78, 24.06, 16.31, 16.93, 18.69, 31.27, 16.04, 26.41, 48.27, 17.59, 20.08, 16.45, 20.23, 12.02, 17.07, 14.73, 10.51, 20.92, 18.24, 14.0, 7.25, 48.33, 20.45, 13.28, 11.61, 10.77, 10.07, 35.83, 29.03, 17.82], \"yaxis\": \"y3\"}, {\"alignmentgroup\": \"True\", \"hoverlabel\": {\"namelength\": 0}, \"hovertemplate\": \"smoker=No<br>time=Dinner<br>day=Sun<br>sex=%{x}<br>total_bill=%{y}\", \"legendgroup\": \"smoker=No\", \"marker\": {\"color\": \"#636efa\"}, \"name\": \"smoker=No\", \"offsetgroup\": \"smoker=No\", \"orientation\": \"v\", \"showlegend\": false, \"textposition\": \"auto\", \"type\": \"bar\", \"x\": [\"Female\", \"Male\", \"Male\", \"Male\", \"Female\", \"Male\", \"Male\", \"Male\", \"Male\", \"Male\", \"Male\", \"Female\", \"Male\", \"Male\", \"Female\", \"Male\", \"Female\", \"Male\", \"Female\", \"Male\", \"Male\", \"Male\", \"Male\", \"Male\", \"Male\", \"Male\", \"Male\", \"Male\", \"Male\", \"Female\", \"Female\", \"Male\", \"Male\", \"Male\", \"Male\", \"Male\", \"Female\", \"Female\", \"Male\", \"Male\", \"Male\", \"Male\", \"Male\", \"Male\", \"Female\", \"Male\", \"Female\", \"Female\", \"Male\", \"Male\", \"Male\", \"Female\", \"Male\", \"Male\", \"Male\", \"Male\", \"Male\"], \"xaxis\": \"x4\", \"y\": [16.99, 10.34, 21.01, 23.68, 24.59, 25.29, 8.77, 26.88, 15.04, 14.78, 10.27, 35.26, 15.42, 18.43, 14.83, 21.58, 10.33, 16.29, 16.97, 17.46, 13.94, 9.68, 30.4, 18.29, 22.23, 32.4, 28.55, 18.04, 12.54, 10.29, 34.81, 9.94, 25.56, 19.49, 38.07, 23.95, 25.71, 17.31, 29.93, 14.07, 13.13, 17.26, 24.55, 19.77, 29.85, 48.17, 25.0, 13.39, 16.49, 21.5, 12.66, 16.21, 13.81, 24.52, 20.76, 31.71, 20.69], \"yaxis\": \"y4\"}, {\"alignmentgroup\": \"True\", \"hoverlabel\": {\"namelength\": 0}, \"hovertemplate\": \"smoker=Yes<br>time=Lunch<br>day=Thur<br>sex=%{x}<br>total_bill=%{y}\", \"legendgroup\": \"smoker=Yes\", \"marker\": {\"color\": \"#EF553B\"}, \"name\": \"smoker=Yes\", \"offsetgroup\": \"smoker=Yes\", \"orientation\": \"v\", \"showlegend\": true, \"textposition\": \"auto\", \"type\": \"bar\", \"x\": [\"Male\", \"Male\", \"Male\", \"Female\", \"Male\", \"Male\", \"Male\", \"Male\", \"Female\", \"Female\", \"Male\", \"Male\", \"Female\", \"Female\", \"Female\", \"Male\", \"Female\"], \"xaxis\": \"x5\", \"y\": [19.44, 32.68, 16.0, 19.81, 28.44, 15.48, 16.58, 10.34, 43.11, 13.0, 13.51, 18.71, 12.74, 13.0, 16.4, 20.53, 16.47], \"yaxis\": \"y5\"}, {\"alignmentgroup\": \"True\", \"hoverlabel\": {\"namelength\": 0}, \"hovertemplate\": \"smoker=Yes<br>time=Lunch<br>day=Fri<br>sex=%{x}<br>total_bill=%{y}\", \"legendgroup\": \"smoker=Yes\", \"marker\": {\"color\": \"#EF553B\"}, \"name\": \"smoker=Yes\", \"offsetgroup\": \"smoker=Yes\", \"orientation\": \"v\", \"showlegend\": false, \"textposition\": \"auto\", \"type\": \"bar\", \"x\": [\"Male\", \"Female\", \"Male\", \"Male\", \"Female\", \"Female\"], \"xaxis\": \"x6\", \"y\": [12.16, 13.42, 8.58, 13.42, 16.27, 10.09], \"yaxis\": \"y6\"}, {\"alignmentgroup\": \"True\", \"hoverlabel\": {\"namelength\": 0}, \"hovertemplate\": \"smoker=Yes<br>time=Dinner<br>day=Fri<br>sex=%{x}<br>total_bill=%{y}\", \"legendgroup\": \"smoker=Yes\", \"marker\": {\"color\": \"#EF553B\"}, \"name\": \"smoker=Yes\", \"offsetgroup\": \"smoker=Yes\", \"orientation\": \"v\", \"showlegend\": false, \"textposition\": \"auto\", \"type\": \"bar\", \"x\": [\"Male\", \"Female\", \"Female\", \"Male\", \"Male\", \"Male\", \"Male\", \"Female\", \"Female\"], \"xaxis\": \"x2\", \"y\": [28.97, 5.75, 16.32, 40.17, 27.28, 12.03, 21.01, 11.35, 15.38], \"yaxis\": \"y2\"}, {\"alignmentgroup\": \"True\", \"hoverlabel\": {\"namelength\": 0}, \"hovertemplate\": \"smoker=Yes<br>time=Dinner<br>day=Sat<br>sex=%{x}<br>total_bill=%{y}\", \"legendgroup\": \"smoker=Yes\", \"marker\": {\"color\": \"#EF553B\"}, \"name\": \"smoker=Yes\", \"offsetgroup\": \"smoker=Yes\", \"orientation\": \"v\", \"showlegend\": false, \"textposition\": \"auto\", \"type\": \"bar\", \"x\": [\"Male\", \"Male\", \"Male\", \"Male\", \"Male\", \"Male\", \"Female\", \"Male\", \"Female\", \"Female\", \"Male\", \"Female\", \"Female\", \"Male\", \"Male\", \"Male\", \"Female\", \"Female\", \"Female\", \"Male\", \"Male\", \"Male\", \"Male\", \"Male\", \"Female\", \"Male\", \"Male\", \"Female\", \"Female\", \"Female\", \"Male\", \"Male\", \"Male\", \"Female\", \"Female\", \"Male\", \"Male\", \"Male\", \"Male\", \"Male\", \"Female\", \"Male\"], \"xaxis\": \"x3\", \"y\": [38.01, 11.24, 20.29, 13.81, 11.02, 18.29, 3.07, 15.01, 26.86, 25.28, 17.92, 44.3, 22.42, 15.36, 20.49, 25.21, 14.31, 10.59, 10.63, 50.81, 15.81, 26.59, 38.73, 24.27, 12.76, 30.06, 25.89, 13.27, 28.17, 12.9, 28.15, 11.59, 7.74, 30.14, 22.12, 24.01, 15.69, 15.53, 12.6, 32.83, 27.18, 22.67], \"yaxis\": \"y3\"}, {\"alignmentgroup\": \"True\", \"hoverlabel\": {\"namelength\": 0}, \"hovertemplate\": \"smoker=Yes<br>time=Dinner<br>day=Sun<br>sex=%{x}<br>total_bill=%{y}\", \"legendgroup\": \"smoker=Yes\", \"marker\": {\"color\": \"#EF553B\"}, \"name\": \"smoker=Yes\", \"offsetgroup\": \"smoker=Yes\", \"orientation\": \"v\", \"showlegend\": false, \"textposition\": \"auto\", \"type\": \"bar\", \"x\": [\"Female\", \"Male\", \"Male\", \"Male\", \"Male\", \"Male\", \"Male\", \"Female\", \"Male\", \"Male\", \"Male\", \"Male\", \"Male\", \"Male\", \"Female\", \"Male\", \"Female\", \"Male\", \"Male\"], \"xaxis\": \"x4\", \"y\": [17.51, 7.25, 31.85, 16.82, 32.9, 17.89, 14.48, 9.6, 34.63, 34.65, 23.33, 45.35, 23.17, 40.55, 20.9, 30.46, 18.15, 23.1, 15.69], \"yaxis\": \"y4\"}],\n",
              "                        {\"annotations\": [{\"font\": {}, \"showarrow\": false, \"text\": \"day=Thur\", \"x\": 0.11499999999999999, \"xanchor\": \"center\", \"xref\": \"paper\", \"y\": 1.0, \"yanchor\": \"bottom\", \"yref\": \"paper\"}, {\"font\": {}, \"showarrow\": false, \"text\": \"day=Fri\", \"x\": 0.365, \"xanchor\": \"center\", \"xref\": \"paper\", \"y\": 1.0, \"yanchor\": \"bottom\", \"yref\": \"paper\"}, {\"font\": {}, \"showarrow\": false, \"text\": \"day=Sat\", \"x\": 0.615, \"xanchor\": \"center\", \"xref\": \"paper\", \"y\": 1.0, \"yanchor\": \"bottom\", \"yref\": \"paper\"}, {\"font\": {}, \"showarrow\": false, \"text\": \"day=Sun\", \"x\": 0.865, \"xanchor\": \"center\", \"xref\": \"paper\", \"y\": 1.0, \"yanchor\": \"bottom\", \"yref\": \"paper\"}, {\"font\": {}, \"showarrow\": false, \"text\": \"time=Dinner\", \"textangle\": 90, \"x\": 0.98, \"xanchor\": \"left\", \"xref\": \"paper\", \"y\": 0.2425, \"yanchor\": \"middle\", \"yref\": \"paper\"}, {\"font\": {}, \"showarrow\": false, \"text\": \"time=Lunch\", \"textangle\": 90, \"x\": 0.98, \"xanchor\": \"left\", \"xref\": \"paper\", \"y\": 0.7575000000000001, \"yanchor\": \"middle\", \"yref\": \"paper\"}], \"barmode\": \"group\", \"legend\": {\"tracegroupgap\": 0}, \"margin\": {\"t\": 60}, \"template\": {\"data\": {\"bar\": [{\"error_x\": {\"color\": \"#2a3f5f\"}, \"error_y\": {\"color\": \"#2a3f5f\"}, \"marker\": {\"line\": {\"color\": \"#E5ECF6\", \"width\": 0.5}}, \"type\": \"bar\"}], \"barpolar\": [{\"marker\": {\"line\": {\"color\": \"#E5ECF6\", \"width\": 0.5}}, \"type\": \"barpolar\"}], \"carpet\": [{\"aaxis\": {\"endlinecolor\": \"#2a3f5f\", \"gridcolor\": \"white\", \"linecolor\": \"white\", \"minorgridcolor\": \"white\", \"startlinecolor\": \"#2a3f5f\"}, \"baxis\": {\"endlinecolor\": \"#2a3f5f\", \"gridcolor\": \"white\", \"linecolor\": \"white\", \"minorgridcolor\": \"white\", \"startlinecolor\": \"#2a3f5f\"}, \"type\": \"carpet\"}], \"choropleth\": [{\"colorbar\": {\"outlinewidth\": 0, \"ticks\": \"\"}, \"type\": \"choropleth\"}], \"contour\": [{\"colorbar\": {\"outlinewidth\": 0, \"ticks\": \"\"}, \"colorscale\": [[0.0, \"#0d0887\"], [0.1111111111111111, \"#46039f\"], [0.2222222222222222, \"#7201a8\"], [0.3333333333333333, \"#9c179e\"], [0.4444444444444444, \"#bd3786\"], [0.5555555555555556, \"#d8576b\"], [0.6666666666666666, \"#ed7953\"], [0.7777777777777778, \"#fb9f3a\"], [0.8888888888888888, \"#fdca26\"], [1.0, \"#f0f921\"]], \"type\": \"contour\"}], \"contourcarpet\": [{\"colorbar\": {\"outlinewidth\": 0, \"ticks\": \"\"}, \"type\": \"contourcarpet\"}], \"heatmap\": [{\"colorbar\": {\"outlinewidth\": 0, \"ticks\": \"\"}, \"colorscale\": [[0.0, \"#0d0887\"], [0.1111111111111111, \"#46039f\"], [0.2222222222222222, \"#7201a8\"], [0.3333333333333333, \"#9c179e\"], [0.4444444444444444, \"#bd3786\"], [0.5555555555555556, \"#d8576b\"], [0.6666666666666666, \"#ed7953\"], [0.7777777777777778, \"#fb9f3a\"], [0.8888888888888888, \"#fdca26\"], [1.0, \"#f0f921\"]], \"type\": \"heatmap\"}], \"heatmapgl\": [{\"colorbar\": {\"outlinewidth\": 0, \"ticks\": \"\"}, \"colorscale\": [[0.0, \"#0d0887\"], [0.1111111111111111, \"#46039f\"], [0.2222222222222222, \"#7201a8\"], [0.3333333333333333, \"#9c179e\"], [0.4444444444444444, \"#bd3786\"], [0.5555555555555556, \"#d8576b\"], [0.6666666666666666, \"#ed7953\"], [0.7777777777777778, \"#fb9f3a\"], [0.8888888888888888, \"#fdca26\"], [1.0, \"#f0f921\"]], \"type\": \"heatmapgl\"}], \"histogram\": [{\"marker\": {\"colorbar\": {\"outlinewidth\": 0, \"ticks\": \"\"}}, \"type\": \"histogram\"}], \"histogram2d\": [{\"colorbar\": {\"outlinewidth\": 0, \"ticks\": \"\"}, \"colorscale\": [[0.0, \"#0d0887\"], [0.1111111111111111, \"#46039f\"], [0.2222222222222222, \"#7201a8\"], [0.3333333333333333, \"#9c179e\"], [0.4444444444444444, \"#bd3786\"], [0.5555555555555556, \"#d8576b\"], [0.6666666666666666, \"#ed7953\"], [0.7777777777777778, \"#fb9f3a\"], [0.8888888888888888, \"#fdca26\"], [1.0, \"#f0f921\"]], \"type\": \"histogram2d\"}], \"histogram2dcontour\": [{\"colorbar\": {\"outlinewidth\": 0, \"ticks\": \"\"}, \"colorscale\": [[0.0, \"#0d0887\"], [0.1111111111111111, \"#46039f\"], [0.2222222222222222, \"#7201a8\"], [0.3333333333333333, \"#9c179e\"], [0.4444444444444444, \"#bd3786\"], [0.5555555555555556, \"#d8576b\"], [0.6666666666666666, \"#ed7953\"], [0.7777777777777778, \"#fb9f3a\"], [0.8888888888888888, \"#fdca26\"], [1.0, \"#f0f921\"]], \"type\": \"histogram2dcontour\"}], \"mesh3d\": [{\"colorbar\": {\"outlinewidth\": 0, \"ticks\": \"\"}, \"type\": \"mesh3d\"}], \"parcoords\": [{\"line\": {\"colorbar\": {\"outlinewidth\": 0, \"ticks\": \"\"}}, \"type\": \"parcoords\"}], \"pie\": [{\"automargin\": true, \"type\": \"pie\"}], \"scatter\": [{\"marker\": {\"colorbar\": {\"outlinewidth\": 0, \"ticks\": \"\"}}, \"type\": \"scatter\"}], \"scatter3d\": [{\"line\": {\"colorbar\": {\"outlinewidth\": 0, \"ticks\": \"\"}}, \"marker\": {\"colorbar\": {\"outlinewidth\": 0, \"ticks\": \"\"}}, \"type\": \"scatter3d\"}], \"scattercarpet\": [{\"marker\": {\"colorbar\": {\"outlinewidth\": 0, \"ticks\": \"\"}}, \"type\": \"scattercarpet\"}], \"scattergeo\": [{\"marker\": {\"colorbar\": {\"outlinewidth\": 0, \"ticks\": \"\"}}, \"type\": \"scattergeo\"}], \"scattergl\": [{\"marker\": {\"colorbar\": {\"outlinewidth\": 0, \"ticks\": \"\"}}, \"type\": \"scattergl\"}], \"scattermapbox\": [{\"marker\": {\"colorbar\": {\"outlinewidth\": 0, \"ticks\": \"\"}}, \"type\": \"scattermapbox\"}], \"scatterpolar\": [{\"marker\": {\"colorbar\": {\"outlinewidth\": 0, \"ticks\": \"\"}}, \"type\": \"scatterpolar\"}], \"scatterpolargl\": [{\"marker\": {\"colorbar\": {\"outlinewidth\": 0, \"ticks\": \"\"}}, \"type\": \"scatterpolargl\"}], \"scatterternary\": [{\"marker\": {\"colorbar\": {\"outlinewidth\": 0, \"ticks\": \"\"}}, \"type\": \"scatterternary\"}], \"surface\": [{\"colorbar\": {\"outlinewidth\": 0, \"ticks\": \"\"}, \"colorscale\": [[0.0, \"#0d0887\"], [0.1111111111111111, \"#46039f\"], [0.2222222222222222, \"#7201a8\"], [0.3333333333333333, \"#9c179e\"], [0.4444444444444444, \"#bd3786\"], [0.5555555555555556, \"#d8576b\"], [0.6666666666666666, \"#ed7953\"], [0.7777777777777778, \"#fb9f3a\"], [0.8888888888888888, \"#fdca26\"], [1.0, \"#f0f921\"]], \"type\": \"surface\"}], \"table\": [{\"cells\": {\"fill\": {\"color\": \"#EBF0F8\"}, \"line\": {\"color\": \"white\"}}, \"header\": {\"fill\": {\"color\": \"#C8D4E3\"}, \"line\": {\"color\": \"white\"}}, \"type\": \"table\"}]}, \"layout\": {\"annotationdefaults\": {\"arrowcolor\": \"#2a3f5f\", \"arrowhead\": 0, \"arrowwidth\": 1}, \"coloraxis\": {\"colorbar\": {\"outlinewidth\": 0, \"ticks\": \"\"}}, \"colorscale\": {\"diverging\": [[0, \"#8e0152\"], [0.1, \"#c51b7d\"], [0.2, \"#de77ae\"], [0.3, \"#f1b6da\"], [0.4, \"#fde0ef\"], [0.5, \"#f7f7f7\"], [0.6, \"#e6f5d0\"], [0.7, \"#b8e186\"], [0.8, \"#7fbc41\"], [0.9, \"#4d9221\"], [1, \"#276419\"]], \"sequential\": [[0.0, \"#0d0887\"], [0.1111111111111111, \"#46039f\"], [0.2222222222222222, \"#7201a8\"], [0.3333333333333333, \"#9c179e\"], [0.4444444444444444, \"#bd3786\"], [0.5555555555555556, \"#d8576b\"], [0.6666666666666666, \"#ed7953\"], [0.7777777777777778, \"#fb9f3a\"], [0.8888888888888888, \"#fdca26\"], [1.0, \"#f0f921\"]], \"sequentialminus\": [[0.0, \"#0d0887\"], [0.1111111111111111, \"#46039f\"], [0.2222222222222222, \"#7201a8\"], [0.3333333333333333, \"#9c179e\"], [0.4444444444444444, \"#bd3786\"], [0.5555555555555556, \"#d8576b\"], [0.6666666666666666, \"#ed7953\"], [0.7777777777777778, \"#fb9f3a\"], [0.8888888888888888, \"#fdca26\"], [1.0, \"#f0f921\"]]}, \"colorway\": [\"#636efa\", \"#EF553B\", \"#00cc96\", \"#ab63fa\", \"#FFA15A\", \"#19d3f3\", \"#FF6692\", \"#B6E880\", \"#FF97FF\", \"#FECB52\"], \"font\": {\"color\": \"#2a3f5f\"}, \"geo\": {\"bgcolor\": \"white\", \"lakecolor\": \"white\", \"landcolor\": \"#E5ECF6\", \"showlakes\": true, \"showland\": true, \"subunitcolor\": \"white\"}, \"hoverlabel\": {\"align\": \"left\"}, \"hovermode\": \"closest\", \"mapbox\": {\"style\": \"light\"}, \"paper_bgcolor\": \"white\", \"plot_bgcolor\": \"#E5ECF6\", \"polar\": {\"angularaxis\": {\"gridcolor\": \"white\", \"linecolor\": \"white\", \"ticks\": \"\"}, \"bgcolor\": \"#E5ECF6\", \"radialaxis\": {\"gridcolor\": \"white\", \"linecolor\": \"white\", \"ticks\": \"\"}}, \"scene\": {\"xaxis\": {\"backgroundcolor\": \"#E5ECF6\", \"gridcolor\": \"white\", \"gridwidth\": 2, \"linecolor\": \"white\", \"showbackground\": true, \"ticks\": \"\", \"zerolinecolor\": \"white\"}, \"yaxis\": {\"backgroundcolor\": \"#E5ECF6\", \"gridcolor\": \"white\", \"gridwidth\": 2, \"linecolor\": \"white\", \"showbackground\": true, \"ticks\": \"\", \"zerolinecolor\": \"white\"}, \"zaxis\": {\"backgroundcolor\": \"#E5ECF6\", \"gridcolor\": \"white\", \"gridwidth\": 2, \"linecolor\": \"white\", \"showbackground\": true, \"ticks\": \"\", \"zerolinecolor\": \"white\"}}, \"shapedefaults\": {\"line\": {\"color\": \"#2a3f5f\"}}, \"ternary\": {\"aaxis\": {\"gridcolor\": \"white\", \"linecolor\": \"white\", \"ticks\": \"\"}, \"baxis\": {\"gridcolor\": \"white\", \"linecolor\": \"white\", \"ticks\": \"\"}, \"bgcolor\": \"#E5ECF6\", \"caxis\": {\"gridcolor\": \"white\", \"linecolor\": \"white\", \"ticks\": \"\"}}, \"title\": {\"x\": 0.05}, \"xaxis\": {\"automargin\": true, \"gridcolor\": \"white\", \"linecolor\": \"white\", \"ticks\": \"\", \"title\": {\"standoff\": 15}, \"zerolinecolor\": \"white\", \"zerolinewidth\": 2}, \"yaxis\": {\"automargin\": true, \"gridcolor\": \"white\", \"linecolor\": \"white\", \"ticks\": \"\", \"title\": {\"standoff\": 15}, \"zerolinecolor\": \"white\", \"zerolinewidth\": 2}}}, \"xaxis\": {\"anchor\": \"y\", \"domain\": [0.0, 0.22999999999999998], \"title\": {\"text\": \"sex\"}}, \"xaxis2\": {\"anchor\": \"y2\", \"domain\": [0.24999999999999997, 0.48], \"matches\": \"x\", \"title\": {\"text\": \"sex\"}}, \"xaxis3\": {\"anchor\": \"y3\", \"domain\": [0.49999999999999994, 0.73], \"matches\": \"x\", \"title\": {\"text\": \"sex\"}}, \"xaxis4\": {\"anchor\": \"y4\", \"domain\": [0.75, 0.98], \"matches\": \"x\", \"title\": {\"text\": \"sex\"}}, \"xaxis5\": {\"anchor\": \"y5\", \"domain\": [0.0, 0.22999999999999998], \"matches\": \"x\", \"showticklabels\": false}, \"xaxis6\": {\"anchor\": \"y6\", \"domain\": [0.24999999999999997, 0.48], \"matches\": \"x\", \"showticklabels\": false}, \"xaxis7\": {\"anchor\": \"y7\", \"domain\": [0.49999999999999994, 0.73], \"matches\": \"x\", \"showticklabels\": false}, \"xaxis8\": {\"anchor\": \"y8\", \"domain\": [0.75, 0.98], \"matches\": \"x\", \"showticklabels\": false}, \"yaxis\": {\"anchor\": \"x\", \"domain\": [0.0, 0.485], \"title\": {\"text\": \"total_bill\"}}, \"yaxis2\": {\"anchor\": \"x2\", \"domain\": [0.0, 0.485], \"matches\": \"y\", \"showticklabels\": false}, \"yaxis3\": {\"anchor\": \"x3\", \"domain\": [0.0, 0.485], \"matches\": \"y\", \"showticklabels\": false}, \"yaxis4\": {\"anchor\": \"x4\", \"domain\": [0.0, 0.485], \"matches\": \"y\", \"showticklabels\": false}, \"yaxis5\": {\"anchor\": \"x5\", \"domain\": [0.515, 1.0], \"matches\": \"y\", \"title\": {\"text\": \"total_bill\"}}, \"yaxis6\": {\"anchor\": \"x6\", \"domain\": [0.515, 1.0], \"matches\": \"y\", \"showticklabels\": false}, \"yaxis7\": {\"anchor\": \"x7\", \"domain\": [0.515, 1.0], \"matches\": \"y\", \"showticklabels\": false}, \"yaxis8\": {\"anchor\": \"x8\", \"domain\": [0.515, 1.0], \"matches\": \"y\", \"showticklabels\": false}},\n",
              "                        {\"responsive\": true}\n",
              "                    ).then(function(){\n",
              "                            \n",
              "var gd = document.getElementById('c6ac9b27-f7c6-4f25-a4fe-9c3e9d256d17');\n",
              "var x = new MutationObserver(function (mutations, observer) {{\n",
              "        var display = window.getComputedStyle(gd).display;\n",
              "        if (!display || display === 'none') {{\n",
              "            console.log([gd, 'removed!']);\n",
              "            Plotly.purge(gd);\n",
              "            observer.disconnect();\n",
              "        }}\n",
              "}});\n",
              "\n",
              "// Listen for the removal of the full notebook cells\n",
              "var notebookContainer = gd.closest('#notebook-container');\n",
              "if (notebookContainer) {{\n",
              "    x.observe(notebookContainer, {childList: true});\n",
              "}}\n",
              "\n",
              "// Listen for the clearing of the current output cell\n",
              "var outputEl = gd.closest('.output');\n",
              "if (outputEl) {{\n",
              "    x.observe(outputEl, {childList: true});\n",
              "}}\n",
              "\n",
              "                        })\n",
              "                };\n",
              "                \n",
              "            </script>\n",
              "        </div>\n",
              "</body>\n",
              "</html>"
            ]
          },
          "metadata": {
            "tags": []
          }
        }
      ]
    },
    {
      "cell_type": "code",
      "metadata": {
        "colab": {
          "base_uri": "https://localhost:8080/",
          "height": 203
        },
        "id": "AAxZfUu32DSf",
        "outputId": "7aed9daf-b2e3-495e-a927-6eee0cac8bf8"
      },
      "source": [
        "import plotly.express as px\n",
        "\n",
        "wide_df = px.data.medals_wide()"
      ],
      "execution_count": null,
      "outputs": [
        {
          "output_type": "error",
          "ename": "AttributeError",
          "evalue": "ignored",
          "traceback": [
            "\u001b[0;31m---------------------------------------------------------------------------\u001b[0m",
            "\u001b[0;31mAttributeError\u001b[0m                            Traceback (most recent call last)",
            "\u001b[0;32m<ipython-input-34-4abab2952d8e>\u001b[0m in \u001b[0;36m<module>\u001b[0;34m()\u001b[0m\n\u001b[1;32m      1\u001b[0m \u001b[0;32mimport\u001b[0m \u001b[0mplotly\u001b[0m\u001b[0;34m.\u001b[0m\u001b[0mexpress\u001b[0m \u001b[0;32mas\u001b[0m \u001b[0mpx\u001b[0m\u001b[0;34m\u001b[0m\u001b[0;34m\u001b[0m\u001b[0m\n\u001b[1;32m      2\u001b[0m \u001b[0;34m\u001b[0m\u001b[0m\n\u001b[0;32m----> 3\u001b[0;31m \u001b[0mwide_df\u001b[0m \u001b[0;34m=\u001b[0m \u001b[0mpx\u001b[0m\u001b[0;34m.\u001b[0m\u001b[0mdata\u001b[0m\u001b[0;34m.\u001b[0m\u001b[0mmedals_wide\u001b[0m\u001b[0;34m(\u001b[0m\u001b[0;34m)\u001b[0m\u001b[0;34m\u001b[0m\u001b[0;34m\u001b[0m\u001b[0m\n\u001b[0m",
            "\u001b[0;31mAttributeError\u001b[0m: module 'plotly.express.data' has no attribute 'medals_wide'"
          ]
        }
      ]
    },
    {
      "cell_type": "markdown",
      "metadata": {
        "id": "fNuRbfMnLqL1"
      },
      "source": [
        "---"
      ]
    },
    {
      "cell_type": "markdown",
      "metadata": {
        "id": "NV8xJyt2LYzA"
      },
      "source": [
        "# ML Model workflow"
      ]
    },
    {
      "cell_type": "markdown",
      "metadata": {
        "id": "KgkoDBusUwcT"
      },
      "source": [
        "## Data Summary Function - Same to 'Summarize Dataframe' in Pandas"
      ]
    },
    {
      "cell_type": "code",
      "source": [
        ""
      ],
      "metadata": {
        "id": "arVxyLEMy4AL"
      },
      "execution_count": null,
      "outputs": []
    },
    {
      "cell_type": "markdown",
      "metadata": {
        "id": "j_tmcwHpIVzx"
      },
      "source": [
        "##Data proccessing"
      ]
    },
    {
      "cell_type": "markdown",
      "metadata": {
        "id": "QwYT-JNEsEcq"
      },
      "source": [
        "### Change Data Type"
      ]
    },
    {
      "cell_type": "code",
      "metadata": {
        "id": "VHJjQ0_BsRcr"
      },
      "source": [
        "dataset['TotalCharges'] = pd.to_numeric(dataset['TotalCharges'],errors='coerce')\n",
        "dataset['TotalCharges'] = dataset['TotalCharges'].astype(\"float\")"
      ],
      "execution_count": null,
      "outputs": []
    },
    {
      "cell_type": "markdown",
      "metadata": {
        "id": "P3JC7tvRIkbq"
      },
      "source": [
        "### Create One Hot Encoding\n"
      ]
    },
    {
      "cell_type": "code",
      "metadata": {
        "id": "Z5ya9liQIahR"
      },
      "source": [
        "pd.get_dummies(portfolio,columns=['offer_type'])"
      ],
      "execution_count": null,
      "outputs": []
    },
    {
      "cell_type": "markdown",
      "metadata": {
        "id": "tPiISbq8MSiq"
      },
      "source": [
        "### Feature selection and engineering\n",
        "- Drop unneccesary features (identifier, phone#)\n",
        "- Feature selection\n",
        "- Feature engineering (Create new features to improve the model performance)"
      ]
    },
    {
      "cell_type": "code",
      "metadata": {
        "id": "KxyGyhTLNg74"
      },
      "source": [
        "# Drop the unnecessary features\n",
        "telco = telco.drop(telco[['Area_Code','Phone']], axis=1)\n",
        "\n",
        "# Verify dropped features\n",
        "print(telco.columns)"
      ],
      "execution_count": null,
      "outputs": []
    },
    {
      "cell_type": "code",
      "metadata": {
        "id": "j-0LzTHWMUK3"
      },
      "source": [
        "# Feature selection by correlations\n",
        "df.corr()"
      ],
      "execution_count": null,
      "outputs": []
    },
    {
      "cell_type": "code",
      "metadata": {
        "id": "Tg6Z2sRDMbaz"
      },
      "source": [
        "# Feature Engineering\n",
        "# Create the new feature\n",
        "telco['Avg_Night_Calls'] = telco[\"Night_Mins\"]/telco[\"Night_Calls\"]\n",
        "\n",
        "# Print the first five rows of 'Avg_Night_Calls'\n",
        "print(telco['Avg_Night_Calls'].head())\n"
      ],
      "execution_count": null,
      "outputs": []
    },
    {
      "cell_type": "markdown",
      "metadata": {
        "id": "nf1y0SIBIzXj"
      },
      "source": [
        "### Feature scaling - StandardScaler()\n"
      ]
    },
    {
      "cell_type": "code",
      "metadata": {
        "id": "9pldV0taKmTi"
      },
      "source": [
        "transformer = make_union(StandardScaler())"
      ],
      "execution_count": null,
      "outputs": []
    },
    {
      "cell_type": "code",
      "metadata": {
        "id": "oomevRdmLQVP"
      },
      "source": [
        "scaled_df = StandardScaler().fit_transform(df)"
      ],
      "execution_count": null,
      "outputs": []
    },
    {
      "cell_type": "markdown",
      "metadata": {
        "id": "z3FLuXvRSWjM"
      },
      "source": [
        "## Predict workflow\n",
        "- Import model package\n",
        "- Train test split\n",
        "- Initiate the model\n",
        "- Fit the model\n",
        "- Predict "
      ]
    },
    {
      "cell_type": "code",
      "metadata": {
        "id": "ty9z6bpySao9"
      },
      "source": [
        "# Import LogisticRegression\n",
        "from sklearn.linear_model import LogisticRegression\n",
        "\n",
        "# Train test split\n",
        "features = df.columns.drop(['default'])\n",
        "X = df[features] # or X = df.drop('default', axis=1)\n",
        "\n",
        "y = df['default']\n",
        "X_train, X_test, y_train, y_test = train_test_split(X, y, test_size=0.20, random_state=42)\n",
        "\n",
        "\n",
        "# Instantiate the classifier\n",
        "clf = LogisticRegression()\n",
        "\n",
        "# Fit the classifier\n",
        "clf.fit(X_train,y_train)\n",
        "\n",
        "# Predict the label of new_customer\n",
        "y_pred = clf.predict(X_test)\n",
        "y_train_pred = clf.predict(X_train)"
      ],
      "execution_count": null,
      "outputs": []
    },
    {
      "cell_type": "markdown",
      "metadata": {
        "id": "wFW0ooTATGsE"
      },
      "source": [
        "## Evaluate model\n",
        "- Confusion metrix\n",
        "- Precision and Recall\n",
        "- F1 Score\n",
        "- ROC Curve, AUC \n"
      ]
    },
    {
      "cell_type": "code",
      "metadata": {
        "id": "la-qQQu7LxG8"
      },
      "source": [
        ""
      ],
      "execution_count": null,
      "outputs": []
    },
    {
      "cell_type": "markdown",
      "metadata": {
        "id": "Vbm4Yct3Ha4k"
      },
      "source": [
        "## Hyperparameters Tunning"
      ]
    },
    {
      "cell_type": "code",
      "metadata": {
        "id": "PTN_I7aiHfzE"
      },
      "source": [
        "# Import RandomizedSearchCV\n",
        "from sklearn.model_selection import RandomizedSearchCV\n",
        "\n",
        "# Create the hyperparameter grid\n",
        "param_dist = {\"max_depth\": [3, None],\n",
        "              \"max_features\": randint(1, 11),\n",
        "              \"bootstrap\": [True, False],\n",
        "              \"criterion\": [\"gini\", \"entropy\"]}\n",
        "\n",
        "# Call RandomizedSearchCV\n",
        "random_search = RandomizedSearchCV(clf, param_dist)\n",
        "\n",
        "# Fit the model\n",
        "random_search.fit(X,y)\n",
        "\n",
        "# Print best parameters\n",
        "print(random_search.best_params_)"
      ],
      "execution_count": null,
      "outputs": []
    },
    {
      "cell_type": "markdown",
      "metadata": {
        "id": "4cTiPAHYJOei"
      },
      "source": [
        "## Feature Importance"
      ]
    },
    {
      "cell_type": "code",
      "metadata": {
        "id": "9EIqTJBMKZL-"
      },
      "source": [
        "# Method 1\n",
        "# Calculate feature importances\n",
        "importances = clf.feature_importances_\n",
        "\n",
        "# Sort importances\n",
        "sorted_index = np.argsort(importances)\n",
        "\n",
        "# Create labels\n",
        "labels = X.columns[sorted_index]\n",
        "\n",
        "# Clear current plot\n",
        "plt.clf()\n",
        "\n",
        "# Create plot\n",
        "plt.barh(range(X.shape[1]), importances[sorted_index], tick_label=labels)\n",
        "plt.show()"
      ],
      "execution_count": null,
      "outputs": []
    },
    {
      "cell_type": "code",
      "metadata": {
        "id": "_kysdg9VJS0B"
      },
      "source": [
        "# Method 1\n",
        "importances.feature_importances_\n",
        "df = pd.DataFrame(list(zip(X.columns,clf_model.feature_importances_)),columns=['Feature','Importance'])\n",
        "\n",
        "trace0 = go.Bar(x=df.Feature,\n",
        "                y=df.Importance,\n",
        "                text=df.Importance,\n",
        "                textposition = 'auto',\n",
        "                name = 'Offer Received',\n",
        "                marker=dict(color='rgba(0,107,164,1)',))\n",
        "\n",
        "\n",
        "layout = go.Layout(\n",
        "    title = 'Feature Importance for Model to predict Influence',\n",
        "    xaxis=dict(tickangle=-45),\n",
        "    barmode='group',\n",
        "    bargap=0.15\n",
        ")\n",
        "\n",
        "fig = go.Figure(data=go.Data([trace0]),\n",
        "                layout=layout)\n",
        "\n",
        "iplot(fig)"
      ],
      "execution_count": null,
      "outputs": []
    },
    {
      "cell_type": "markdown",
      "metadata": {
        "id": "AQuRCZuuI2cy"
      },
      "source": [
        "---------"
      ]
    },
    {
      "cell_type": "markdown",
      "metadata": {
        "id": "HUQUdw8nL9_k"
      },
      "source": [
        "---------"
      ]
    }
  ]
}