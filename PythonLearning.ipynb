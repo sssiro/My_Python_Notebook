{
  "nbformat": 4,
  "nbformat_minor": 0,
  "metadata": {
    "colab": {
      "name": "PythonLearning.ipynb",
      "provenance": [],
      "collapsed_sections": [
        "7OmJsfl2m3DV",
        "NBxh0a5snBuc",
        "C8JDHR6o0tEq",
        "goeeLum9nEhl",
        "B5EYK_j15832",
        "Rs0pWAoo7CLF",
        "hI5d6b9VACsY"
      ],
      "toc_visible": true,
      "include_colab_link": true
    },
    "kernelspec": {
      "name": "python3",
      "display_name": "Python 3"
    }
  },
  "cells": [
    {
      "cell_type": "markdown",
      "metadata": {
        "id": "view-in-github",
        "colab_type": "text"
      },
      "source": [
        "<a href=\"https://colab.research.google.com/github/sssiro/Python-Virtual-Enviroment-Setup/blob/master/PythonLearning.ipynb\" target=\"_parent\"><img src=\"https://colab.research.google.com/assets/colab-badge.svg\" alt=\"Open In Colab\"/></a>"
      ]
    },
    {
      "cell_type": "markdown",
      "metadata": {
        "id": "3PY6zdlY9he7"
      },
      "source": [
        "#Python\n"
      ]
    },
    {
      "cell_type": "markdown",
      "metadata": {
        "id": "7OmJsfl2m3DV"
      },
      "source": [
        "##Basic"
      ]
    },
    {
      "cell_type": "markdown",
      "metadata": {
        "id": "NBxh0a5snBuc"
      },
      "source": [
        "###Numbers and strings"
      ]
    },
    {
      "cell_type": "code",
      "metadata": {
        "id": "WhTfBQlzFYUb",
        "colab": {
          "base_uri": "https://localhost:8080/",
          "height": 68
        },
        "outputId": "09dc3cf0-52dd-4e37-d26e-26bbcb8d5655"
      },
      "source": [
        "x = 1    # int\n",
        "y = 2.8  # float\n",
        "z = 1j   # complex\n",
        "print(type(x))\n",
        "print(type(y))\n",
        "print(type(z))"
      ],
      "execution_count": null,
      "outputs": [
        {
          "output_type": "stream",
          "text": [
            "<class 'int'>\n",
            "<class 'float'>\n",
            "<class 'complex'>\n"
          ],
          "name": "stdout"
        }
      ]
    },
    {
      "cell_type": "code",
      "metadata": {
        "id": "9VOGajt7xRnk",
        "colab": {
          "base_uri": "https://localhost:8080/",
          "height": 85
        },
        "outputId": "ead262e7-f980-4de4-afab-f54a711b7d97"
      },
      "source": [
        "#Casting int() float()\n",
        "x = float(1) # x will be 1.0\n",
        "y = int(2.8) # y will be 2\n",
        "z = int(\"3\") # z will be 3\n",
        "a = str(20)  # a will be '20'\n",
        "print(type(x))\n",
        "print(type(y))\n",
        "print(type(z))\n",
        "print(type(a))"
      ],
      "execution_count": null,
      "outputs": [
        {
          "output_type": "stream",
          "text": [
            "<class 'float'>\n",
            "<class 'int'>\n",
            "<class 'int'>\n",
            "<class 'str'>\n"
          ],
          "name": "stdout"
        }
      ]
    },
    {
      "cell_type": "code",
      "metadata": {
        "id": "GtYMH1Uioz69",
        "colab": {
          "base_uri": "https://localhost:8080/"
        },
        "outputId": "d1402eea-1dea-435a-b593-5535da9a0fb3"
      },
      "source": [
        "#concate strings - can't cancate string with numbers --> convert number to string first ! \n",
        "a = \"lucky\"\n",
        "b = \"cat\"\n",
        "c = 18\n",
        "print(a+b+str(c))"
      ],
      "execution_count": null,
      "outputs": [
        {
          "output_type": "stream",
          "text": [
            "luckycat18\n"
          ],
          "name": "stdout"
        }
      ]
    },
    {
      "cell_type": "code",
      "metadata": {
        "id": "09xMAzL8GM9h",
        "colab": {
          "base_uri": "https://localhost:8080/"
        },
        "outputId": "ba6f746e-919c-42de-bcc6-5d89cc8400d5"
      },
      "source": [
        "# string index starts from 0\n",
        "a = \"Hello, World!\"\n",
        "print(a[1])   # index 1 (2nd position)\n",
        "print(a[2:5]) # index 2 to index 5 (not included)\n",
        "print(a[-4:]) # last 4 two characters"
      ],
      "execution_count": null,
      "outputs": [
        {
          "output_type": "stream",
          "text": [
            "e\n",
            "llo\n",
            "rld!\n"
          ],
          "name": "stdout"
        }
      ]
    },
    {
      "cell_type": "code",
      "metadata": {
        "id": "iEBGlF-bHcqf",
        "colab": {
          "base_uri": "https://localhost:8080/",
          "height": 34
        },
        "outputId": "65ba3a96-9929-44f4-8543-79eda230a88d"
      },
      "source": [
        "# strip() method removes any whitespace from the beginning or the end\n",
        "a = \"    Hello,World!   \"\n",
        "print(a.strip()) "
      ],
      "execution_count": null,
      "outputs": [
        {
          "output_type": "stream",
          "text": [
            "Hello,World!\n"
          ],
          "name": "stdout"
        }
      ]
    },
    {
      "cell_type": "code",
      "metadata": {
        "id": "TlIpwNxUyl3_",
        "colab": {
          "base_uri": "https://localhost:8080/",
          "height": 34
        },
        "outputId": "af7c4aae-80a4-466a-dc8d-463e68d763cd"
      },
      "source": [
        "#length of string\n",
        "a = 'hello'\n",
        "print(len(a))"
      ],
      "execution_count": null,
      "outputs": [
        {
          "output_type": "stream",
          "text": [
            "5\n"
          ],
          "name": "stdout"
        }
      ]
    },
    {
      "cell_type": "code",
      "metadata": {
        "id": "CZy-X435yvHm",
        "colab": {
          "base_uri": "https://localhost:8080/",
          "height": 34
        },
        "outputId": "cc8e919f-45b7-4856-fea6-f99a437a40e1"
      },
      "source": [
        "#upper() returns string in upper class\n",
        "a = \"Hello, World!\"\n",
        "print(a.upper())"
      ],
      "execution_count": null,
      "outputs": [
        {
          "output_type": "stream",
          "text": [
            "HELLO, WORLD!\n"
          ],
          "name": "stdout"
        }
      ]
    },
    {
      "cell_type": "code",
      "metadata": {
        "id": "cUi31gRIy34e",
        "colab": {
          "base_uri": "https://localhost:8080/",
          "height": 34
        },
        "outputId": "5059d13c-1890-478c-dc69-aed675745902"
      },
      "source": [
        "#replace() method replaces a string with another string\n",
        "a = \"Hello, World!\"\n",
        "print(a.replace(\"H\", \"J\"))"
      ],
      "execution_count": null,
      "outputs": [
        {
          "output_type": "stream",
          "text": [
            "Jello, World!\n"
          ],
          "name": "stdout"
        }
      ]
    },
    {
      "cell_type": "code",
      "metadata": {
        "id": "37o449TyV-NQ",
        "colab": {
          "base_uri": "https://localhost:8080/"
        },
        "outputId": "29f25e23-e86c-420f-d35c-91e28da2dc5f"
      },
      "source": [
        "# can't change characters in a string, but can do in list \n",
        "A = \"hello\"\n",
        "A[0] = \"J\"\n",
        "print(A)\n",
        "\n",
        "s = list(\"Hello zorld\")\n",
        "print(s)     #['H', 'e', 'l', 'l', 'o', ' ', 'z', 'o', 'r', 'l', 'd']\n",
        "s[6] = 'W'   #['H', 'e', 'l', 'l', 'o', ' ', 'W', 'o', 'r', 'l', 'd']\n",
        "\"\".join(s)   # 'Hello World'"
      ],
      "execution_count": null,
      "outputs": [
        {
          "output_type": "error",
          "ename": "TypeError",
          "evalue": "ignored",
          "traceback": [
            "\u001b[0;31m---------------------------------------------------------------------------\u001b[0m",
            "\u001b[0;31mTypeError\u001b[0m                                 Traceback (most recent call last)",
            "\u001b[0;32m<ipython-input-15-517ec4dc6cfa>\u001b[0m in \u001b[0;36m<module>\u001b[0;34m()\u001b[0m\n\u001b[1;32m      1\u001b[0m \u001b[0mA\u001b[0m \u001b[0;34m=\u001b[0m \u001b[0;34m\"hello\"\u001b[0m\u001b[0;34m\u001b[0m\u001b[0;34m\u001b[0m\u001b[0m\n\u001b[0;32m----> 2\u001b[0;31m \u001b[0mA\u001b[0m\u001b[0;34m[\u001b[0m\u001b[0;36m0\u001b[0m\u001b[0;34m]\u001b[0m \u001b[0;34m=\u001b[0m \u001b[0;34m\"J\"\u001b[0m\u001b[0;34m\u001b[0m\u001b[0;34m\u001b[0m\u001b[0m\n\u001b[0m\u001b[1;32m      3\u001b[0m \u001b[0mprint\u001b[0m\u001b[0;34m(\u001b[0m\u001b[0mA\u001b[0m\u001b[0;34m)\u001b[0m\u001b[0;34m\u001b[0m\u001b[0;34m\u001b[0m\u001b[0m\n\u001b[1;32m      4\u001b[0m \u001b[0;34m\u001b[0m\u001b[0m\n\u001b[1;32m      5\u001b[0m \u001b[0ms\u001b[0m \u001b[0;34m=\u001b[0m \u001b[0mlist\u001b[0m\u001b[0;34m(\u001b[0m\u001b[0;34m\"Hello zorld\"\u001b[0m\u001b[0;34m)\u001b[0m\u001b[0;34m\u001b[0m\u001b[0;34m\u001b[0m\u001b[0m\n",
            "\u001b[0;31mTypeError\u001b[0m: 'str' object does not support item assignment"
          ]
        }
      ]
    },
    {
      "cell_type": "code",
      "metadata": {
        "id": "HEcf0-mmy_ig",
        "colab": {
          "base_uri": "https://localhost:8080/",
          "height": 34
        },
        "outputId": "8d34f551-7521-4b97-bc57-5000f06402bd"
      },
      "source": [
        "a = \"Hello, World!\"\n",
        "print(a.split(\",\")) "
      ],
      "execution_count": null,
      "outputs": [
        {
          "output_type": "stream",
          "text": [
            "['Hello', ' World!']\n"
          ],
          "name": "stdout"
        }
      ]
    },
    {
      "cell_type": "code",
      "metadata": {
        "id": "vu5j0kL4zJXf",
        "colab": {
          "base_uri": "https://localhost:8080/"
        },
        "outputId": "c267d852-b1db-408e-ae2c-bbc852128312"
      },
      "source": [
        "#Command-line String Input\n",
        "print(\"Enter your name:\")\n",
        "x = input()\n",
        "print(\"Hello, \" + x)"
      ],
      "execution_count": null,
      "outputs": [
        {
          "output_type": "stream",
          "text": [
            "Enter your name:\n",
            "Sharon\n",
            "Hello, Sharon\n"
          ],
          "name": "stdout"
        }
      ]
    },
    {
      "cell_type": "code",
      "metadata": {
        "id": "dKgY-RF8yBpn",
        "colab": {
          "base_uri": "https://localhost:8080/"
        },
        "outputId": "7c0b11c6-d366-423f-aff2-4387845f7b8c"
      },
      "source": [
        "# Conditional Formatting\n",
        "a = \"Hello %s, how's your %s\"\n",
        "b = (\"Mandy\",\"foot\")\n",
        "print (a % b)\n",
        "\n",
        "c = \"Hello{0}, How is your {1}\".format(\"Mandy\",\"foot\")\n",
        "print(c)"
      ],
      "execution_count": null,
      "outputs": [
        {
          "output_type": "stream",
          "text": [
            "Hello Mandy, how's your foot\n",
            "HelloMandy, How is your foot\n"
          ],
          "name": "stdout"
        }
      ]
    },
    {
      "cell_type": "code",
      "metadata": {
        "id": "IfiYatf-y7ff",
        "colab": {
          "base_uri": "https://localhost:8080/"
        },
        "outputId": "00a9dedc-b86d-4b3b-80b6-ff23c808c8fd"
      },
      "source": [
        "# find string \n",
        "example = \"Hello Bob it's a nice shop\"\n",
        "example.find(\"nice\")"
      ],
      "execution_count": null,
      "outputs": [
        {
          "output_type": "execute_result",
          "data": {
            "text/plain": [
              "17"
            ]
          },
          "metadata": {
            "tags": []
          },
          "execution_count": 38
        }
      ]
    },
    {
      "cell_type": "markdown",
      "metadata": {
        "id": "C8JDHR6o0tEq"
      },
      "source": [
        "\n",
        "\n",
        "###Operators"
      ]
    },
    {
      "cell_type": "markdown",
      "metadata": {
        "id": "9xqglRnW1dwc"
      },
      "source": [
        "Membership Operators : in , not in"
      ]
    },
    {
      "cell_type": "code",
      "metadata": {
        "id": "_if9WxPa0wNB",
        "colab": {
          "base_uri": "https://localhost:8080/",
          "height": 34
        },
        "outputId": "5016daad-e9c4-4ea3-df26-de2aade54b21"
      },
      "source": [
        "fruits = [\"apple\", \"banana\"]\n",
        "if \"apple\" in fruits:\n",
        "  print(\"Yes, apple is a fruit!\")"
      ],
      "execution_count": null,
      "outputs": [
        {
          "output_type": "stream",
          "text": [
            "Yes, apple is a fruit!\n"
          ],
          "name": "stdout"
        }
      ]
    },
    {
      "cell_type": "markdown",
      "metadata": {
        "id": "lhjiYFxL1hrd"
      },
      "source": [
        "Logical Operators:\n",
        "and, or, not -> not(x < 5 and x < 10)"
      ]
    },
    {
      "cell_type": "code",
      "metadata": {
        "id": "caULrQO31QRE",
        "colab": {
          "base_uri": "https://localhost:8080/",
          "height": 34
        },
        "outputId": "e980a6a2-bad0-484a-a858-6983b3027936"
      },
      "source": [
        "if 5 == 10 or 4 == 4:\n",
        "  print(\"At least one of the statements is true\")"
      ],
      "execution_count": null,
      "outputs": [
        {
          "output_type": "stream",
          "text": [
            "At least one of the statements is true\n"
          ],
          "name": "stdout"
        }
      ]
    },
    {
      "cell_type": "markdown",
      "metadata": {
        "id": "goeeLum9nEhl"
      },
      "source": [
        "###Lists"
      ]
    },
    {
      "cell_type": "markdown",
      "metadata": {
        "id": "5OlPcv57prVS"
      },
      "source": [
        "Unlike strings, which are immutable, lists are a mutable type, i.e. it is possible to change their content: "
      ]
    },
    {
      "cell_type": "code",
      "metadata": {
        "id": "aQsLh2x_ocOU",
        "colab": {
          "base_uri": "https://localhost:8080/",
          "height": 51
        },
        "outputId": "674a069a-ea37-46eb-e881-47b598e4eda3"
      },
      "source": [
        "thislist = [\"apple\", \"banana\", \"cherry\"]\n",
        "print(thislist[1])\n",
        "\n",
        "thislist[1] = \"blackcurrant\"\n",
        "print(thislist)"
      ],
      "execution_count": null,
      "outputs": [
        {
          "output_type": "stream",
          "text": [
            "banana\n",
            "['apple', 'blackcurrant', 'cherry']\n"
          ],
          "name": "stdout"
        }
      ]
    },
    {
      "cell_type": "code",
      "metadata": {
        "id": "dCV8P_8spepq",
        "colab": {
          "base_uri": "https://localhost:8080/",
          "height": 68
        },
        "outputId": "2ced7510-171e-4179-f9df-f517971bf3a2"
      },
      "source": [
        "#Loop Through a List\n",
        "thislist = [\"apple\", \"banana\", \"cherry\"]\n",
        "for x in thislist:\n",
        "  print(x)"
      ],
      "execution_count": null,
      "outputs": [
        {
          "output_type": "stream",
          "text": [
            "apple\n",
            "banana\n",
            "cherry\n"
          ],
          "name": "stdout"
        }
      ]
    },
    {
      "cell_type": "code",
      "metadata": {
        "id": "b9kV0grU2TU2",
        "colab": {
          "base_uri": "https://localhost:8080/",
          "height": 34
        },
        "outputId": "63d671bf-0836-400c-d00e-527fe7e14439"
      },
      "source": [
        "#check if item exist\n",
        "fruits = [\"apple\", \"banana\"]\n",
        "if \"apple\" in fruits:\n",
        "  print(\"Yes, apple is a fruit!\")"
      ],
      "execution_count": null,
      "outputs": [
        {
          "output_type": "stream",
          "text": [
            "Yes, apple is a fruit!\n"
          ],
          "name": "stdout"
        }
      ]
    },
    {
      "cell_type": "code",
      "metadata": {
        "id": "e8yQSXtsph4C",
        "colab": {
          "base_uri": "https://localhost:8080/"
        },
        "outputId": "10057810-31c0-4a66-ca16-9c0ac05ee394"
      },
      "source": [
        "#Add items\n",
        "thislist = [\"apple\", \"banana\", \"cherry\"]\n",
        "thislist.append(\"orange\")\n",
        "print(thislist)\n",
        "\n",
        "#Add items at the specified index, use insert()\n",
        "thislist.insert(0,\"pear\")\n",
        "print(thislist)\n",
        "\n",
        "#Remove the specified item - remove(element)\n",
        "thislist.remove(\"banana\")\n",
        "print(thislist)\n",
        "\n",
        "#Removes the specified index - pop(index) default by the last one \n",
        "thislist.pop(0)\n",
        "print(thislist)\n",
        "\n",
        "thislist.pop(1) # return x index element\n",
        "\n",
        "#The del keyword removes the specified index - del element\n",
        "del thislist[0]\n",
        "print(thislist)\n",
        "\n",
        "#Delete list\n",
        "del thislist\n",
        "\n",
        "#Empty the list\n",
        "thislist = [\"apple\", \"banana\", \"cherry\"]\n",
        "thislist.clear()\n",
        "print(thislist)"
      ],
      "execution_count": null,
      "outputs": [
        {
          "output_type": "stream",
          "text": [
            "['apple', 'banana', 'cherry', 'orange']\n",
            "['pear', 'apple', 'banana', 'cherry', 'orange']\n",
            "['pear', 'apple', 'cherry', 'orange']\n",
            "['apple', 'cherry', 'orange']\n",
            "['orange']\n",
            "[]\n"
          ],
          "name": "stdout"
        }
      ]
    },
    {
      "cell_type": "code",
      "metadata": {
        "id": "31980H10wyxD",
        "colab": {
          "base_uri": "https://localhost:8080/"
        },
        "outputId": "b95231ce-3455-465d-dc5f-f90da4d12372"
      },
      "source": [
        "thislist = [\"apple\", \"banana\", \"cherry\"]\n",
        "thislist.pop(0)\n",
        "thislist\n"
      ],
      "execution_count": null,
      "outputs": [
        {
          "output_type": "execute_result",
          "data": {
            "text/plain": [
              "['banana', 'cherry']"
            ]
          },
          "metadata": {
            "tags": []
          },
          "execution_count": 32
        }
      ]
    },
    {
      "cell_type": "code",
      "metadata": {
        "id": "5Pv-bJpApsoC",
        "colab": {
          "base_uri": "https://localhost:8080/",
          "height": 34
        },
        "outputId": "2eda7b14-86df-44b2-c7af-48ae7d2e6728"
      },
      "source": [
        "#list() Constructor\n",
        "thislist = list((\"apple\", \"banana\", \"cherry\")) # note the double round-brackets\n",
        "print(thislist)"
      ],
      "execution_count": null,
      "outputs": [
        {
          "output_type": "stream",
          "text": [
            "['apple', 'banana', 'cherry']\n"
          ],
          "name": "stdout"
        }
      ]
    },
    {
      "cell_type": "code",
      "metadata": {
        "id": "98M4QUdw38RW",
        "colab": {
          "base_uri": "https://localhost:8080/",
          "height": 68
        },
        "outputId": "f8fc86f8-1197-4f13-e22b-66ca5cce8225"
      },
      "source": [
        "# locate element in complex list\n",
        "thislist = [['a','a1','a2'],['b']]\n",
        "print(thislist)\n",
        "print(thislist[0][2])\n",
        "\n",
        "thislist.reverse()\n",
        "print(thislist)\n"
      ],
      "execution_count": null,
      "outputs": [
        {
          "output_type": "stream",
          "text": [
            "[['a', 'a1', 'a2'], ['b']]\n",
            "a2\n",
            "[['b'], ['a', 'a1', 'a2']]\n"
          ],
          "name": "stdout"
        }
      ]
    },
    {
      "cell_type": "code",
      "metadata": {
        "id": "I1N28WIu5Den",
        "colab": {
          "base_uri": "https://localhost:8080/"
        },
        "outputId": "7e16762b-6851-4510-ccab-eb25fe7193ad"
      },
      "source": [
        "# reverse list  - will modify original list\n",
        "a = [1,3,2,4]\n",
        "a.reverse()\n",
        "print(a)\n",
        "\n",
        "# sort list - will modify \n",
        "a.sort()\n",
        "print(a)\n",
        "\n"
      ],
      "execution_count": null,
      "outputs": [
        {
          "output_type": "stream",
          "text": [
            "[4, 2, 3, 1]\n",
            "[1, 2, 3, 4]\n"
          ],
          "name": "stdout"
        }
      ]
    },
    {
      "cell_type": "code",
      "metadata": {
        "id": "XQSX4icbqA9r",
        "colab": {
          "base_uri": "https://localhost:8080/",
          "height": 34
        },
        "outputId": "210b1975-f111-42e4-ae7a-539122d7e9c5"
      },
      "source": [
        "#List Length\n",
        "len(thislist)"
      ],
      "execution_count": null,
      "outputs": [
        {
          "output_type": "execute_result",
          "data": {
            "text/plain": [
              "2"
            ]
          },
          "metadata": {
            "tags": []
          },
          "execution_count": 5
        }
      ]
    },
    {
      "cell_type": "markdown",
      "metadata": {
        "id": "B5EYK_j15832"
      },
      "source": [
        "###Tuples - used for call your value back, can't modify\n"
      ]
    },
    {
      "cell_type": "code",
      "metadata": {
        "id": "Wi7nifm65_oV",
        "colab": {
          "base_uri": "https://localhost:8080/",
          "height": 248
        },
        "outputId": "ab141d84-07b9-4424-d02d-04d1c4e7d92e"
      },
      "source": [
        "thistuple = (\"apple\", \"banana\", \"cherry\")\n",
        "print(thistuple)\n",
        "print(thistuple[1])\n",
        "\n",
        "#You cannot change values in a tuple:\n",
        "thistuple[1] = \"blackcurrant\"\n",
        "print(thistuple)"
      ],
      "execution_count": null,
      "outputs": [
        {
          "output_type": "stream",
          "text": [
            "('apple', 'banana', 'cherry')\n",
            "banana\n"
          ],
          "name": "stdout"
        },
        {
          "output_type": "error",
          "ename": "TypeError",
          "evalue": "ignored",
          "traceback": [
            "\u001b[0;31m---------------------------------------------------------------------------\u001b[0m",
            "\u001b[0;31mTypeError\u001b[0m                                 Traceback (most recent call last)",
            "\u001b[0;32m<ipython-input-66-24b8c0492af6>\u001b[0m in \u001b[0;36m<module>\u001b[0;34m()\u001b[0m\n\u001b[1;32m      2\u001b[0m \u001b[0mprint\u001b[0m\u001b[0;34m(\u001b[0m\u001b[0mthistuple\u001b[0m\u001b[0;34m)\u001b[0m\u001b[0;34m\u001b[0m\u001b[0;34m\u001b[0m\u001b[0m\n\u001b[1;32m      3\u001b[0m \u001b[0mprint\u001b[0m\u001b[0;34m(\u001b[0m\u001b[0mthistuple\u001b[0m\u001b[0;34m[\u001b[0m\u001b[0;36m1\u001b[0m\u001b[0;34m]\u001b[0m\u001b[0;34m)\u001b[0m\u001b[0;34m\u001b[0m\u001b[0;34m\u001b[0m\u001b[0m\n\u001b[0;32m----> 4\u001b[0;31m \u001b[0mthistuple\u001b[0m\u001b[0;34m[\u001b[0m\u001b[0;36m1\u001b[0m\u001b[0;34m]\u001b[0m \u001b[0;34m=\u001b[0m \u001b[0;34m\"blackcurrant\"\u001b[0m\u001b[0;34m\u001b[0m\u001b[0;34m\u001b[0m\u001b[0m\n\u001b[0m\u001b[1;32m      5\u001b[0m \u001b[0mprint\u001b[0m\u001b[0;34m(\u001b[0m\u001b[0mthistuple\u001b[0m\u001b[0;34m)\u001b[0m\u001b[0;34m\u001b[0m\u001b[0;34m\u001b[0m\u001b[0m\n",
            "\u001b[0;31mTypeError\u001b[0m: 'tuple' object does not support item assignment"
          ]
        }
      ]
    },
    {
      "cell_type": "code",
      "metadata": {
        "id": "3lB5zDCT6PH1",
        "colab": {
          "base_uri": "https://localhost:8080/",
          "height": 68
        },
        "outputId": "02fc0c13-bf2a-4cd1-9cbf-023f852a0aad"
      },
      "source": [
        "#Loop Through a Tuple\n",
        "thistuple = (\"apple\", \"banana\", \"cherry\")\n",
        "for x in thistuple:\n",
        "  print(x)\n"
      ],
      "execution_count": null,
      "outputs": [
        {
          "output_type": "stream",
          "text": [
            "apple\n",
            "banana\n",
            "cherry\n"
          ],
          "name": "stdout"
        }
      ]
    },
    {
      "cell_type": "code",
      "metadata": {
        "id": "w2z_OBGbcU34",
        "colab": {
          "base_uri": "https://localhost:8080/",
          "height": 34
        },
        "outputId": "3b49656e-58f4-44f7-8865-bbfdc170bd29"
      },
      "source": [
        "thistuple[0]"
      ],
      "execution_count": null,
      "outputs": [
        {
          "output_type": "execute_result",
          "data": {
            "text/plain": [
              "'apple'"
            ]
          },
          "metadata": {
            "tags": []
          },
          "execution_count": 7
        }
      ]
    },
    {
      "cell_type": "code",
      "metadata": {
        "id": "GheLWBJ66UYd",
        "colab": {
          "base_uri": "https://localhost:8080/",
          "height": 34
        },
        "outputId": "9f5935cb-e6a9-42da-a27e-e5b57ecea942"
      },
      "source": [
        "#check if item exist\n",
        "thistuple = (\"apple\", \"banana\", \"cherry\")\n",
        "if \"apple\" in thistuple:\n",
        "  print(\"Yes, 'apple' is in the fruits tuple\")"
      ],
      "execution_count": null,
      "outputs": [
        {
          "output_type": "stream",
          "text": [
            "Yes, 'apple' is in the fruits tuple\n"
          ],
          "name": "stdout"
        }
      ]
    },
    {
      "cell_type": "markdown",
      "metadata": {
        "id": "59apc6PL6i3V"
      },
      "source": [
        "Tuple is not changable, you can't add, remove element in a tumple."
      ]
    },
    {
      "cell_type": "code",
      "metadata": {
        "id": "CPEiHIaJ6qmd"
      },
      "source": [
        "#delete tuple\n",
        "del thistuple"
      ],
      "execution_count": null,
      "outputs": []
    },
    {
      "cell_type": "code",
      "metadata": {
        "id": "0WDYH1hP6029"
      },
      "source": [
        "#tuple constructor \n",
        "thistuple = tuple((\"apple\", \"banana\", \"cherry\")) # note the double round-brackets\n",
        "print(thistuple)"
      ],
      "execution_count": null,
      "outputs": []
    },
    {
      "cell_type": "markdown",
      "metadata": {
        "id": "Rs0pWAoo7CLF"
      },
      "source": [
        "###Sets"
      ]
    },
    {
      "cell_type": "markdown",
      "metadata": {
        "id": "fSl86svR7Y9E"
      },
      "source": [
        "You cannot access items in a set by referring to an index, since sets are unordered the items has no index.\n",
        "\n",
        "But you can loop through the set items using a for loop, or ask if a specified value is present in a set, by using the in keyword."
      ]
    },
    {
      "cell_type": "code",
      "metadata": {
        "id": "lSdbEJ7r7E-k",
        "colab": {
          "base_uri": "https://localhost:8080/",
          "height": 102
        },
        "outputId": "6e3ba920-a241-427d-c333-c00a5d82cdbe"
      },
      "source": [
        "thisset = {\"apple\", \"banana\", \"cherry\"}\n",
        "print(thisset)\n",
        "\n",
        "for x in thisset:\n",
        "  print(x)\n",
        "\n",
        "print(\"banana\" in thisset)#Check if \"banana\" is present in the set:"
      ],
      "execution_count": null,
      "outputs": [
        {
          "output_type": "stream",
          "text": [
            "{'banana', 'cherry', 'apple'}\n",
            "banana\n",
            "cherry\n",
            "apple\n",
            "True\n"
          ],
          "name": "stdout"
        }
      ]
    },
    {
      "cell_type": "markdown",
      "metadata": {
        "id": "F1CXGfy-7ko8"
      },
      "source": [
        "Once a set is created, you cannot change its items, but you can add new items.\n",
        "\n",
        "To add one item to a set use the add() method.\n",
        "\n",
        "To add more than one item to a set use the update() method."
      ]
    },
    {
      "cell_type": "code",
      "metadata": {
        "id": "Xnxklsyx7c41",
        "colab": {
          "base_uri": "https://localhost:8080/",
          "height": 136
        },
        "outputId": "e396e0d8-e62f-434c-d9b1-a16c8c17c0de"
      },
      "source": [
        "thisset = {\"apple\", \"banana\", \"cherry\"}\n",
        "thisset.add(\"orange\")\n",
        "print(thisset)\n",
        "\n",
        "thisset.update([\"mango\", \"grapes\"])\n",
        "print(thisset)\n",
        "\n",
        "#remove item\n",
        "#If the item to remove does not exist, remove() will raise an error.\n",
        "#If the item to remove does not exist, discard() will NOT raise an error.\n",
        "thisset.remove(\"banana\")\n",
        "print(thisset)\n",
        "\n",
        "thisset.discard(\"banana\")\n",
        "print(thisset)\n",
        "#You can also use the pop(), method to remove an item, but this method will remove the last item.\n",
        "#Remember that sets are unordered, so you will not know what item that gets removed.\n",
        "x = thisset.pop()\n",
        "print(x)\n",
        "print(thisset)\n",
        "\n",
        "#Empty the set\n",
        "thisset.clear()\n",
        "print(thisset)\n",
        "\n",
        "#delte the set\n",
        "del thisset"
      ],
      "execution_count": null,
      "outputs": [
        {
          "output_type": "stream",
          "text": [
            "{'banana', 'cherry', 'apple', 'orange'}\n",
            "{'grapes', 'banana', 'apple', 'orange', 'mango', 'cherry'}\n",
            "{'grapes', 'apple', 'orange', 'mango', 'cherry'}\n",
            "{'grapes', 'apple', 'orange', 'mango', 'cherry'}\n",
            "grapes\n",
            "{'apple', 'orange', 'mango', 'cherry'}\n",
            "set()\n"
          ],
          "name": "stdout"
        }
      ]
    },
    {
      "cell_type": "code",
      "metadata": {
        "id": "_owQL8Fz7II8",
        "colab": {
          "base_uri": "https://localhost:8080/",
          "height": 34
        },
        "outputId": "105012f2-cb9a-48c0-ec9a-09d0be0c2a35"
      },
      "source": [
        "#set constructor\n",
        "thisset = set((\"apple\", \"banana\", \"cherry\")) # note the double round-brackets\n",
        "print(thisset)"
      ],
      "execution_count": null,
      "outputs": [
        {
          "output_type": "stream",
          "text": [
            "{'banana', 'cherry', 'apple'}\n"
          ],
          "name": "stdout"
        }
      ]
    },
    {
      "cell_type": "markdown",
      "metadata": {
        "id": "hI5d6b9VACsY"
      },
      "source": [
        "###Dictionaries"
      ]
    },
    {
      "cell_type": "code",
      "metadata": {
        "id": "PGBbCYSFAGbp",
        "colab": {
          "base_uri": "https://localhost:8080/"
        },
        "outputId": "e9725b31-98f0-4cb3-823b-dc8d11a05908"
      },
      "source": [
        "thisdict =\t{\n",
        "  \"brand\": \"Ford\",\n",
        "  \"model\": \"Mustang\",\n",
        "  \"year\": 1964\n",
        "}\n",
        "\n",
        "print(thisdict['brand'])\n",
        "\n",
        "tuna = thisdict.copy() # copy dict \n",
        "print(\"year\" in tuna) # = has_key \n",
        "\n",
        "thisdict.clear() # clean the dict\n",
        "print(thisdict)"
      ],
      "execution_count": null,
      "outputs": [
        {
          "output_type": "stream",
          "text": [
            "Ford\n",
            "{}\n"
          ],
          "name": "stdout"
        }
      ]
    },
    {
      "cell_type": "code",
      "metadata": {
        "id": "1qec1-GsnG_M",
        "colab": {
          "base_uri": "https://localhost:8080/"
        },
        "outputId": "d94a533a-8834-47ed-8e8f-168c8575f6b9"
      },
      "source": [
        "import pandas as pd\n",
        "import numpy as np\n",
        "\n",
        "\n",
        "#How to find an element's position in an array/list \n",
        "a = [5,10,20,1,3,5,20,5]\n",
        "position = [i for v,i in zip(a, range(len(a))) if v ==5 ]\n",
        "print(\"Position is\", position,\"\\n\")\n",
        "\n",
        "#range\n",
        "print(range(len(a)))\n",
        "print(list(range(len(a))),\"\\n\")\n",
        "# list(range(0,8,2)) #[0, 2, 4, 6]\n",
        "\n",
        "#zip\n",
        "x = [1,2,3]\n",
        "y = ['a','b','c']\n",
        "print(list(zip(x,y))) #[(1, 'a'), (2, 'b'), (3, 'c')]\n",
        "\n",
        "z = (5,6)\n",
        "k,j = z\n",
        "print(k) #5\n",
        "\n",
        "#i for x in range\n",
        "print([x/10 for x in range(10)])\n",
        "# equals to\n",
        "for x in range(10):\n",
        "  print(x/10)"
      ],
      "execution_count": null,
      "outputs": [
        {
          "output_type": "stream",
          "text": [
            "Position is [0, 5, 7] \n",
            "\n",
            "range(0, 8)\n",
            "[0, 1, 2, 3, 4, 5, 6, 7] \n",
            "\n",
            "[(1, 'a'), (2, 'b'), (3, 'c')]\n",
            "5\n",
            "[0.0, 0.1, 0.2, 0.3, 0.4, 0.5, 0.6, 0.7, 0.8, 0.9]\n",
            "0.0\n",
            "0.1\n",
            "0.2\n",
            "0.3\n",
            "0.4\n",
            "0.5\n",
            "0.6\n",
            "0.7\n",
            "0.8\n",
            "0.9\n"
          ],
          "name": "stdout"
        }
      ]
    },
    {
      "cell_type": "markdown",
      "metadata": {
        "id": "iUbx6nL0169z"
      },
      "source": [
        "## Conditional Statement"
      ]
    },
    {
      "cell_type": "markdown",
      "metadata": {
        "id": "SzoDB0tt18Wb"
      },
      "source": [
        "### If statement\n"
      ]
    },
    {
      "cell_type": "code",
      "metadata": {
        "id": "2OuS529v2ECk",
        "colab": {
          "base_uri": "https://localhost:8080/"
        },
        "outputId": "79390126-3423-4806-d126-4169eee458e9"
      },
      "source": [
        "tuna = \"fish\"\n",
        "if tuna==\"fish\":\n",
        "  print ('this is a fish') \n",
        "elif tuna==\"bass\":\n",
        "  print ('this is a bass')\n",
        "else:\n",
        "  print (\"this is nothing\")"
      ],
      "execution_count": null,
      "outputs": [
        {
          "output_type": "stream",
          "text": [
            "this is a fish\n"
          ],
          "name": "stdout"
        }
      ]
    },
    {
      "cell_type": "code",
      "metadata": {
        "id": "3CBfRTwy3YsQ",
        "colab": {
          "base_uri": "https://localhost:8080/"
        },
        "outputId": "966d7e95-92ce-4593-a31d-5bdaa6453713"
      },
      "source": [
        "## And and Or\n",
        "\n",
        "a = 3\n",
        "\n",
        "if a>3 and a <4:\n",
        "  print(\"x\")\n",
        "\n",
        "if a>3 or a <4:\n",
        "  print(\"works\")"
      ],
      "execution_count": null,
      "outputs": [
        {
          "output_type": "stream",
          "text": [
            "works\n"
          ],
          "name": "stdout"
        }
      ]
    },
    {
      "cell_type": "markdown",
      "metadata": {
        "id": "HTu50Wf_3wl6"
      },
      "source": [
        "### For and While loops\n"
      ]
    },
    {
      "cell_type": "code",
      "metadata": {
        "id": "oXXTd0ST3z8q",
        "colab": {
          "base_uri": "https://localhost:8080/",
          "height": 187
        },
        "outputId": "b7815dbb-9b91-481d-deef-ca5318a20b8b"
      },
      "source": [
        "# while loop\n",
        "b = 1\n",
        "while b <=10:\n",
        "  print(b)\n",
        "  b+=1\n"
      ],
      "execution_count": null,
      "outputs": [
        {
          "output_type": "stream",
          "text": [
            "1\n",
            "2\n",
            "3\n",
            "4\n",
            "5\n",
            "6\n",
            "7\n",
            "8\n",
            "9\n",
            "10\n"
          ],
          "name": "stdout"
        }
      ]
    },
    {
      "cell_type": "code",
      "metadata": {
        "id": "-_qWbDaR4K0N",
        "colab": {
          "base_uri": "https://localhost:8080/",
          "height": 68
        },
        "outputId": "4636fa80-e981-4b20-eaf2-c51b88913e51"
      },
      "source": [
        "# for loop\n",
        "food = [\"bread\",\"milk\",\"beef\"]\n",
        "for i in food:\n",
        "  print(i)"
      ],
      "execution_count": null,
      "outputs": [
        {
          "output_type": "stream",
          "text": [
            "bread\n",
            "milk\n",
            "beef\n"
          ],
          "name": "stdout"
        }
      ]
    },
    {
      "cell_type": "code",
      "metadata": {
        "id": "bRbp4u2Q4cf3",
        "colab": {
          "base_uri": "https://localhost:8080/",
          "height": 68
        },
        "outputId": "3fe736e0-31a4-4bfb-b1af-36ac38e330a5"
      },
      "source": [
        "# loop dictionary\n",
        "ages = {'dad':40, \n",
        "        'mom':38,\n",
        "        'me':20}\n",
        "\n",
        "for item in ages:\n",
        "  print(item, ages[item])"
      ],
      "execution_count": null,
      "outputs": [
        {
          "output_type": "stream",
          "text": [
            "dad 40\n",
            "mom 38\n",
            "me 20\n"
          ],
          "name": "stdout"
        }
      ]
    },
    {
      "cell_type": "code",
      "metadata": {
        "id": "OabjhdtJ5AwM",
        "colab": {
          "base_uri": "https://localhost:8080/",
          "height": 85
        },
        "outputId": "97cc628b-3b73-4031-f1bb-cf661aeef1bf"
      },
      "source": [
        "# break\n",
        "while 1 :\n",
        "  name = input('Enter Name: ')\n",
        "  if name == 'quit': break\n",
        "  "
      ],
      "execution_count": null,
      "outputs": [
        {
          "output_type": "stream",
          "text": [
            "Enter Name: greg\n",
            "Enter Name: lucky\n",
            "Enter Name: lisa\n",
            "Enter Name: quit\n"
          ],
          "name": "stdout"
        }
      ]
    },
    {
      "cell_type": "markdown",
      "metadata": {
        "id": "sAjmIm2o929V"
      },
      "source": [
        "## Function"
      ]
    },
    {
      "cell_type": "code",
      "metadata": {
        "id": "c_L2vFA_4iTY",
        "colab": {
          "base_uri": "https://localhost:8080/",
          "height": 68
        },
        "outputId": "d25aeb1d-6226-433c-8b19-2ea8ce50ee8e"
      },
      "source": [
        "import itertools\n",
        "\n",
        "lst1 = ['ABC','DEF']\n",
        "\n",
        "lst2 = ['abc','def']\n",
        "\n",
        "allList = [lst1, lst2]\n",
        "\n",
        "# The function of * \n",
        "print(*lst1)\n",
        "\n",
        "output = itertools.chain(*allList)\n",
        "print(output)\n",
        "\n",
        "# change back to list() , you can see the result\n",
        "# print(list(output))\n",
        "\n",
        "# or\n",
        "# print([\"%s\"% (x) for x in output])  \n",
        "print([x for x in output])"
      ],
      "execution_count": null,
      "outputs": [
        {
          "output_type": "stream",
          "text": [
            "ABC DEF\n",
            "<itertools.chain object at 0x7ff5fb80f860>\n",
            "['ABC', 'DEF', 'abc', 'def']\n"
          ],
          "name": "stdout"
        }
      ]
    },
    {
      "cell_type": "code",
      "metadata": {
        "id": "aKAGDo3Y95Mj",
        "colab": {
          "base_uri": "https://localhost:8080/",
          "height": 34
        },
        "outputId": "b3df78d1-d0e4-4e7b-c684-cd5574c8c96b"
      },
      "source": [
        "# multiple parameters\n",
        "def _list(*food):\n",
        "  print (food)\n",
        "\n",
        "_list('apple','pear')"
      ],
      "execution_count": null,
      "outputs": [
        {
          "output_type": "stream",
          "text": [
            "('apple', 'pear')\n"
          ],
          "name": "stdout"
        }
      ]
    },
    {
      "cell_type": "code",
      "metadata": {
        "id": "0W637N5C-acz",
        "colab": {
          "base_uri": "https://localhost:8080/",
          "height": 34
        },
        "outputId": "1519ee11-1846-4faa-d1f1-fd2afd49861b"
      },
      "source": [
        "def cart(**items): # ** convert to dictionary \n",
        "  print (items)\n",
        "\n",
        "cart(apples=4, pears=2, peaches=8)"
      ],
      "execution_count": null,
      "outputs": [
        {
          "output_type": "stream",
          "text": [
            "{'apples': 4, 'pears': 2, 'peaches': 8}\n"
          ],
          "name": "stdout"
        }
      ]
    },
    {
      "cell_type": "code",
      "metadata": {
        "id": "O0AweFhaEWxT",
        "colab": {
          "base_uri": "https://localhost:8080/",
          "height": 85
        },
        "outputId": "79719b3d-eb5c-4b37-9575-4f796de61d27"
      },
      "source": [
        "# * tuple       \"x,y,z,\"\n",
        "# ** dictionary \"x=y\"\n",
        "\n",
        "def profile(first,last, *ages, **items):\n",
        "  print(first, last)\n",
        "  print(ages)\n",
        "  print(items)\n",
        "\n",
        "profile(\"A\",\"B\", 20,21,22, bacon=4)\n",
        "\n",
        "#tuple as parameter\n",
        "def example(*_tuple):\n",
        "  return _tuple\n",
        "\n",
        "tuple1 = (1,2,3)\n",
        "example(*tuple1)\n",
        "\n",
        "#dict as parameter\n",
        "def example2(**_dict):\n",
        "  return _dict\n",
        "\n",
        "dict1 = {\"a\":1, \"b\":2}\n",
        "example2(**dict1)"
      ],
      "execution_count": null,
      "outputs": [
        {
          "output_type": "stream",
          "text": [
            "A B\n",
            "(20, 21, 22)\n",
            "{'bacon': 4}\n"
          ],
          "name": "stdout"
        },
        {
          "output_type": "execute_result",
          "data": {
            "text/plain": [
              "{'a': 1, 'b': 2}"
            ]
          },
          "metadata": {
            "tags": []
          },
          "execution_count": 3
        }
      ]
    },
    {
      "cell_type": "code",
      "metadata": {
        "id": "yLZJA8oRdO0H",
        "colab": {
          "base_uri": "https://localhost:8080/",
          "height": 34
        },
        "outputId": "181cd754-9f18-41f6-ac61-9b93ff8435e2"
      },
      "source": [
        "# 把二维list转化为所对应的dict里的值 -- 后置for loop的用法\n",
        "dict1 = {1:\"a\", 2:\"b\", 3:\"c\"}\n",
        "\n",
        "list = [[1,2,3],[3,2,1]]\n",
        "\n",
        "[[dict1[x] for x in y] for y in list]"
      ],
      "execution_count": null,
      "outputs": [
        {
          "output_type": "execute_result",
          "data": {
            "text/plain": [
              "[['a', 'b', 'c'], ['c', 'b', 'a']]"
            ]
          },
          "metadata": {
            "tags": []
          },
          "execution_count": 1
        }
      ]
    },
    {
      "cell_type": "markdown",
      "metadata": {
        "id": "qNAXCg_8LH7r"
      },
      "source": [
        "## Lambda, Map, Filter, Reduce "
      ]
    },
    {
      "cell_type": "code",
      "metadata": {
        "id": "Hof9OTE6B0lf",
        "colab": {
          "base_uri": "https://localhost:8080/",
          "height": 34
        },
        "outputId": "570eb772-6d5b-4d03-df55-fe9623141a05"
      },
      "source": [
        "#lambda\n",
        "f = lambda x, y : x + y\n",
        "f(1,2)"
      ],
      "execution_count": null,
      "outputs": [
        {
          "output_type": "execute_result",
          "data": {
            "text/plain": [
              "3"
            ]
          },
          "metadata": {
            "tags": []
          },
          "execution_count": 5
        }
      ]
    },
    {
      "cell_type": "code",
      "metadata": {
        "id": "xMp-jpa-5UNs"
      },
      "source": [
        "#You define a function that will take the column values you want to play with to come up with your logic. Here the only two columns we end up using are genre and rating.\n",
        "#You use an apply function with lambda along the row with axis=1. \n",
        "#The general syntax is: df.apply(lambda x: func(x['col1'],x['col2']),axis=1)\n",
        "def custom_rating(genre,rating):\n",
        "    if 'Thriller' in genre:\n",
        "        return min(10,rating+1)\n",
        "    elif 'Comedy' in genre:\n",
        "        return max(0,rating-1)\n",
        "    else:\n",
        "        return rating\n",
        "        \n",
        "df['CustomRating'] = df.apply(lambda x: custom_rating(x['Genre'],x['Rating']),axis=1)\n"
      ],
      "execution_count": null,
      "outputs": []
    },
    {
      "cell_type": "code",
      "metadata": {
        "id": "s5CNEAB7DxjT",
        "colab": {
          "base_uri": "https://localhost:8080/",
          "height": 34
        },
        "outputId": "6b65e9bd-65aa-42dd-b5a6-9973396f443c"
      },
      "source": [
        "# Map(func, seq/list]\n",
        "def fahrenheit(T):\n",
        "    return ((float(9)/5)*T + 32)\n",
        "temp = (36.5, 37, 37.5,39)\n",
        "F = map(fahrenheit, temp)\n",
        "print(list(F))"
      ],
      "execution_count": null,
      "outputs": [
        {
          "output_type": "stream",
          "text": [
            "[97.7, 98.60000000000001, 99.5, 102.2]\n"
          ],
          "name": "stdout"
        }
      ]
    },
    {
      "cell_type": "code",
      "metadata": {
        "id": "wPpcOUOJCQZK",
        "colab": {
          "base_uri": "https://localhost:8080/",
          "height": 34
        },
        "outputId": "385742df-02d7-46c6-9dcf-d600cf55778a"
      },
      "source": [
        "# Map() + lambda with two lists\n",
        "a = [1,2,3,4,5]\n",
        "b = [11,22,33,44,55]\n",
        "list(map(lambda x , y:  x*y,a,b))"
      ],
      "execution_count": null,
      "outputs": [
        {
          "output_type": "execute_result",
          "data": {
            "text/plain": [
              "[11, 44, 99, 176, 275]"
            ]
          },
          "metadata": {
            "tags": []
          },
          "execution_count": 11
        }
      ]
    },
    {
      "cell_type": "code",
      "metadata": {
        "id": "VJNB0McBCB7b",
        "colab": {
          "base_uri": "https://localhost:8080/",
          "height": 51
        },
        "outputId": "323a95e3-d884-49e0-8512-12994aadb48c"
      },
      "source": [
        "#Filtering()\n",
        "fib = [0,1,1,2,3,5,8,13,21,34,55]\n",
        "result = list(filter(lambda x: x % 2, fib))\n",
        "print(result)\n",
        "\n",
        "result = list(filter(lambda x: x % 2 == 0, fib))\n",
        "print(result)\n"
      ],
      "execution_count": null,
      "outputs": [
        {
          "output_type": "stream",
          "text": [
            "[1, 1, 3, 5, 13, 21, 55]\n",
            "[0, 2, 8, 34]\n"
          ],
          "name": "stdout"
        }
      ]
    },
    {
      "cell_type": "code",
      "metadata": {
        "id": "qQHlsrn0Hw1I",
        "colab": {
          "base_uri": "https://localhost:8080/",
          "height": 51
        },
        "outputId": "233a415c-41fa-4de3-fa3d-994b8126c27d"
      },
      "source": [
        "# Reduce()\n",
        "from functools import reduce\n",
        "#max value\n",
        "f = lambda x,y: x if x > y else y \n",
        "print(reduce(f,[40,50,60,100,20,30]))\n",
        "\n",
        "print(reduce(lambda x, y: x+y, range(1,101)))"
      ],
      "execution_count": null,
      "outputs": [
        {
          "output_type": "stream",
          "text": [
            "100\n",
            "5050\n"
          ],
          "name": "stdout"
        }
      ]
    },
    {
      "cell_type": "markdown",
      "metadata": {
        "id": "uLwpOsvp9YOs"
      },
      "source": [
        "#Pandas\n"
      ]
    },
    {
      "cell_type": "markdown",
      "metadata": {
        "id": "0FwqhAcW-KLO"
      },
      "source": [
        "##Filtering a dataframe"
      ]
    },
    {
      "cell_type": "code",
      "metadata": {
        "id": "IjytnHyqouYm"
      },
      "source": [
        "df.head(n)   # shows first n rows of dataframe\n",
        "df.tail(n)   # shows the bottom n rows of dataframe\n",
        "\n",
        "# check features type\n",
        "df.dtypes"
      ],
      "execution_count": null,
      "outputs": []
    },
    {
      "cell_type": "code",
      "metadata": {
        "id": "b5APECgCohA9"
      },
      "source": [
        "df.iloc[:,1]        #select column 1\n",
        "df.iloc[:,[1,12]]     #select specific columns\n",
        "df.iloc[:,0:118]    #select column 0 to 118\n",
        "df[df[\"Gender\"]==1] #select all rows that gender =1 \n",
        "df[(df[\"Gender\"]==1)&(df[\"Gender\"]==2)] #select all rows that gender =1 and gender = 2 \n",
        "\n",
        "df['First'].astype(str).str[0] # get the first character of a column(Series) in df"
      ],
      "execution_count": null,
      "outputs": []
    },
    {
      "cell_type": "code",
      "metadata": {
        "id": "WdAvLBnx9ba8"
      },
      "source": [
        "# Single condition: dataframe with all movies rated greater than 8\n",
        "df_gt_8 = df[df['Rating']>8]\n",
        "# Multiple conditions: AND - dataframe with all movies rated greater than 8 and having more than 100000 votes\n",
        "And_df = df[(df['Rating']>8) & (df['Votes']>100000)]\n",
        "# Multiple conditions: OR - dataframe with all movies rated greater than 8 or having a metascore more than 90\n",
        "Or_df = df[(df['Rating']>8) | (df['Metascore']>80)]\n",
        "# Multiple conditions: NOT - dataframe with all emovies rated greater than 8 or having a metascore more than 90 have to be excluded\n",
        "Not_df = df[~((df['Rating']>8) | (df['Metascore']>80))]"
      ],
      "execution_count": null,
      "outputs": []
    },
    {
      "cell_type": "code",
      "metadata": {
        "id": "sLAMElJdpWum"
      },
      "source": [
        "# check duplicated\n",
        "df.duplicated().sum()\n",
        "df.duplicated(subset=[1,4]).sum()\n",
        "df.drop_duplicated(subset=[1,4]).shape"
      ],
      "execution_count": null,
      "outputs": []
    },
    {
      "cell_type": "code",
      "metadata": {
        "id": "7mJXWLqaBx82"
      },
      "source": [
        "#But sometimes it won’t work as expected.\n",
        "#You might get the error: ValueError: invalid literal for long() with base 10: ‘13,000’. That is you cannot cast a string with “,” to an int. To do that we first have to get rid of the comma.\n",
        "#After facing this problem time and again, I have stopped using astype altogether now and just use apply to change column types.#\n",
        "df['Price'] = df.apply(lambda x: int(x['Price'].replace(',', '')),axis=1)"
      ],
      "execution_count": null,
      "outputs": []
    },
    {
      "cell_type": "code",
      "metadata": {
        "id": "QUQK0WvzBsud"
      },
      "source": [
        "df['Price'] = newDf['Price'].astype('int')"
      ],
      "execution_count": null,
      "outputs": []
    },
    {
      "cell_type": "code",
      "metadata": {
        "id": "JCt07v-Joy91"
      },
      "source": [
        "#how to add columns \n",
        "df1[\"new\"] = 0\n",
        "#how to drop columns\n",
        "df1.drop(['new'], axis=1)"
      ],
      "execution_count": null,
      "outputs": []
    },
    {
      "cell_type": "markdown",
      "metadata": {
        "id": "DIFiGOkGBqEx"
      },
      "source": [
        "## Change Column Types"
      ]
    },
    {
      "cell_type": "markdown",
      "metadata": {
        "id": "DSKmvkM1pOwW"
      },
      "source": [
        "## Missing Value"
      ]
    },
    {
      "cell_type": "code",
      "metadata": {
        "id": "veCxtJrToljr"
      },
      "source": [
        "# Missing Value\n",
        "nan = df[20].isna() #select nan value  \n",
        "notnan = df[~df[20].isna()] # select non-nan value \n",
        "\n",
        "# Replace missing value with mean value\n",
        "mean = df[“columnName”].mean()\n",
        "df[“columnname”].replace(np.nan, mean)"
      ],
      "execution_count": null,
      "outputs": []
    },
    {
      "cell_type": "markdown",
      "metadata": {
        "id": "brJFpwkI-NOu"
      },
      "source": [
        "## Apply Lambda\n"
      ]
    },
    {
      "cell_type": "code",
      "metadata": {
        "id": "LQ2BZcYl-Ceu"
      },
      "source": [
        "#You define a function that will take the column values you want to play with to come up with your logic. Here the only two columns we end up using are genre and rating.\n",
        "#You use an apply function with lambda along the row with axis=1. \n",
        "#The general syntax is: df.apply(lambda x: func(x['col1'],x['col2']),axis=1)\n",
        "def custom_rating(genre,rating):\n",
        "    if 'Thriller' in genre:\n",
        "        return min(10,rating+1)\n",
        "    elif 'Comedy' in genre:\n",
        "        return max(0,rating-1)\n",
        "    else:\n",
        "        return rating\n",
        "        \n",
        "df['CustomRating'] = df.apply(lambda x: custom_rating(x['Genre'],x['Rating']),axis=1)"
      ],
      "execution_count": null,
      "outputs": []
    },
    {
      "cell_type": "code",
      "metadata": {
        "id": "VKpUmWr__siP"
      },
      "source": [
        "#Filter by the num of words\n",
        "#create a new column\n",
        "df['num_words_title'] = df.apply(lambda x : len(x['Title'].split(\" \")),axis=1)\n",
        "#simple filter on new column\n",
        "new_df = df[df['num_words_title']>=4]\n",
        "\n",
        "#or\n",
        "\n",
        "new_df = df[df.apply(lambda x : len(x['Title'].split(\" \"))>=4,axis=1)]"
      ],
      "execution_count": null,
      "outputs": []
    },
    {
      "cell_type": "code",
      "metadata": {
        "colab": {
          "base_uri": "https://localhost:8080/",
          "height": 347
        },
        "id": "hKis7tXpBUJk",
        "outputId": "de8aa2be-aa15-4621-9c9b-c7af9fb05c89"
      },
      "source": [
        "portfolio_for_ml['email'] = portfolio_for_ml['channels'].apply(lambda x: 1 if \"email\" in x else 0)\n",
        "portfolio_for_ml['mobile'] = portfolio_for_ml['channels'].apply(lambda x: 1 if \"mobile\" in x else 0)\n",
        "portfolio_for_ml['social'] = portfolio_for_ml['channels'].apply(lambda x: 1 if \"social\" in x else 0)\n",
        "portfolio_for_ml['web'] = portfolio_for_ml['channels'].apply(lambda x: 1 if \"web\" in x else 0)\n",
        "portfolio_for_ml"
      ],
      "execution_count": null,
      "outputs": [
        {
          "output_type": "execute_result",
          "data": {
            "text/html": [
              "<div>\n",
              "<style scoped>\n",
              "    .dataframe tbody tr th:only-of-type {\n",
              "        vertical-align: middle;\n",
              "    }\n",
              "\n",
              "    .dataframe tbody tr th {\n",
              "        vertical-align: top;\n",
              "    }\n",
              "\n",
              "    .dataframe thead th {\n",
              "        text-align: right;\n",
              "    }\n",
              "</style>\n",
              "<table border=\"1\" class=\"dataframe\">\n",
              "  <thead>\n",
              "    <tr style=\"text-align: right;\">\n",
              "      <th></th>\n",
              "      <th>reward</th>\n",
              "      <th>channels</th>\n",
              "      <th>difficulty</th>\n",
              "      <th>duration</th>\n",
              "      <th>id</th>\n",
              "      <th>bogo</th>\n",
              "      <th>discount</th>\n",
              "      <th>informational</th>\n",
              "      <th>New Col1</th>\n",
              "      <th>email</th>\n",
              "      <th>mobile</th>\n",
              "      <th>social</th>\n",
              "      <th>web</th>\n",
              "    </tr>\n",
              "  </thead>\n",
              "  <tbody>\n",
              "    <tr>\n",
              "      <th>0</th>\n",
              "      <td>10</td>\n",
              "      <td>[email, mobile, social]</td>\n",
              "      <td>10</td>\n",
              "      <td>7</td>\n",
              "      <td>ae264e3637204a6fb9bb56bc8210ddfd</td>\n",
              "      <td>1</td>\n",
              "      <td>0</td>\n",
              "      <td>0</td>\n",
              "      <td>0</td>\n",
              "      <td>1</td>\n",
              "      <td>1</td>\n",
              "      <td>1</td>\n",
              "      <td>0</td>\n",
              "    </tr>\n",
              "    <tr>\n",
              "      <th>1</th>\n",
              "      <td>10</td>\n",
              "      <td>[web, email, mobile, social]</td>\n",
              "      <td>10</td>\n",
              "      <td>5</td>\n",
              "      <td>4d5c57ea9a6940dd891ad53e9dbe8da0</td>\n",
              "      <td>1</td>\n",
              "      <td>0</td>\n",
              "      <td>0</td>\n",
              "      <td>1</td>\n",
              "      <td>1</td>\n",
              "      <td>1</td>\n",
              "      <td>1</td>\n",
              "      <td>1</td>\n",
              "    </tr>\n",
              "    <tr>\n",
              "      <th>2</th>\n",
              "      <td>0</td>\n",
              "      <td>[web, email, mobile]</td>\n",
              "      <td>0</td>\n",
              "      <td>4</td>\n",
              "      <td>3f207df678b143eea3cee63160fa8bed</td>\n",
              "      <td>0</td>\n",
              "      <td>0</td>\n",
              "      <td>1</td>\n",
              "      <td>1</td>\n",
              "      <td>1</td>\n",
              "      <td>1</td>\n",
              "      <td>0</td>\n",
              "      <td>1</td>\n",
              "    </tr>\n",
              "    <tr>\n",
              "      <th>3</th>\n",
              "      <td>5</td>\n",
              "      <td>[web, email, mobile]</td>\n",
              "      <td>5</td>\n",
              "      <td>7</td>\n",
              "      <td>9b98b8c7a33c4b65b9aebfe6a799e6d9</td>\n",
              "      <td>1</td>\n",
              "      <td>0</td>\n",
              "      <td>0</td>\n",
              "      <td>1</td>\n",
              "      <td>1</td>\n",
              "      <td>1</td>\n",
              "      <td>0</td>\n",
              "      <td>1</td>\n",
              "    </tr>\n",
              "    <tr>\n",
              "      <th>4</th>\n",
              "      <td>5</td>\n",
              "      <td>[web, email]</td>\n",
              "      <td>20</td>\n",
              "      <td>10</td>\n",
              "      <td>0b1e1539f2cc45b7b9fa7c272da2e1d7</td>\n",
              "      <td>0</td>\n",
              "      <td>1</td>\n",
              "      <td>0</td>\n",
              "      <td>1</td>\n",
              "      <td>1</td>\n",
              "      <td>0</td>\n",
              "      <td>0</td>\n",
              "      <td>1</td>\n",
              "    </tr>\n",
              "    <tr>\n",
              "      <th>5</th>\n",
              "      <td>3</td>\n",
              "      <td>[web, email, mobile, social]</td>\n",
              "      <td>7</td>\n",
              "      <td>7</td>\n",
              "      <td>2298d6c36e964ae4a3e7e9706d1fb8c2</td>\n",
              "      <td>0</td>\n",
              "      <td>1</td>\n",
              "      <td>0</td>\n",
              "      <td>1</td>\n",
              "      <td>1</td>\n",
              "      <td>1</td>\n",
              "      <td>1</td>\n",
              "      <td>1</td>\n",
              "    </tr>\n",
              "    <tr>\n",
              "      <th>6</th>\n",
              "      <td>2</td>\n",
              "      <td>[web, email, mobile, social]</td>\n",
              "      <td>10</td>\n",
              "      <td>10</td>\n",
              "      <td>fafdcd668e3743c1bb461111dcafc2a4</td>\n",
              "      <td>0</td>\n",
              "      <td>1</td>\n",
              "      <td>0</td>\n",
              "      <td>1</td>\n",
              "      <td>1</td>\n",
              "      <td>1</td>\n",
              "      <td>1</td>\n",
              "      <td>1</td>\n",
              "    </tr>\n",
              "    <tr>\n",
              "      <th>7</th>\n",
              "      <td>0</td>\n",
              "      <td>[email, mobile, social]</td>\n",
              "      <td>0</td>\n",
              "      <td>3</td>\n",
              "      <td>5a8bc65990b245e5a138643cd4eb9837</td>\n",
              "      <td>0</td>\n",
              "      <td>0</td>\n",
              "      <td>1</td>\n",
              "      <td>0</td>\n",
              "      <td>1</td>\n",
              "      <td>1</td>\n",
              "      <td>1</td>\n",
              "      <td>0</td>\n",
              "    </tr>\n",
              "    <tr>\n",
              "      <th>8</th>\n",
              "      <td>5</td>\n",
              "      <td>[web, email, mobile, social]</td>\n",
              "      <td>5</td>\n",
              "      <td>5</td>\n",
              "      <td>f19421c1d4aa40978ebb69ca19b0e20d</td>\n",
              "      <td>1</td>\n",
              "      <td>0</td>\n",
              "      <td>0</td>\n",
              "      <td>1</td>\n",
              "      <td>1</td>\n",
              "      <td>1</td>\n",
              "      <td>1</td>\n",
              "      <td>1</td>\n",
              "    </tr>\n",
              "    <tr>\n",
              "      <th>9</th>\n",
              "      <td>2</td>\n",
              "      <td>[web, email, mobile]</td>\n",
              "      <td>10</td>\n",
              "      <td>7</td>\n",
              "      <td>2906b810c7d4411798c6938adc9daaa5</td>\n",
              "      <td>0</td>\n",
              "      <td>1</td>\n",
              "      <td>0</td>\n",
              "      <td>1</td>\n",
              "      <td>1</td>\n",
              "      <td>1</td>\n",
              "      <td>0</td>\n",
              "      <td>1</td>\n",
              "    </tr>\n",
              "  </tbody>\n",
              "</table>\n",
              "</div>"
            ],
            "text/plain": [
              "   reward                      channels  difficulty  ...  mobile social  web\n",
              "0      10       [email, mobile, social]          10  ...       1      1    0\n",
              "1      10  [web, email, mobile, social]          10  ...       1      1    1\n",
              "2       0          [web, email, mobile]           0  ...       1      0    1\n",
              "3       5          [web, email, mobile]           5  ...       1      0    1\n",
              "4       5                  [web, email]          20  ...       0      0    1\n",
              "5       3  [web, email, mobile, social]           7  ...       1      1    1\n",
              "6       2  [web, email, mobile, social]          10  ...       1      1    1\n",
              "7       0       [email, mobile, social]           0  ...       1      1    0\n",
              "8       5  [web, email, mobile, social]           5  ...       1      1    1\n",
              "9       2          [web, email, mobile]          10  ...       1      0    1\n",
              "\n",
              "[10 rows x 13 columns]"
            ]
          },
          "metadata": {
            "tags": []
          },
          "execution_count": 48
        }
      ]
    },
    {
      "cell_type": "markdown",
      "metadata": {
        "id": "wf2um9quCbO8"
      },
      "source": [
        "### tqdm Progress apply\n",
        "\n"
      ]
    },
    {
      "cell_type": "code",
      "metadata": {
        "id": "uA-Lxyn_CNI1"
      },
      "source": [
        "from tqdm import tqdm, tqdm_notebook\n",
        "tqdm_notebook().pandas()\n",
        "\n",
        "df.progress_apply(lambda x: custom_rating_function(x['Genre'],x['Rating']),axis=1)"
      ],
      "execution_count": null,
      "outputs": []
    },
    {
      "cell_type": "markdown",
      "metadata": {
        "id": "eNIZsnGMND8J"
      },
      "source": [
        "## Create Dummies for split variables in one column"
      ]
    },
    {
      "cell_type": "code",
      "metadata": {
        "id": "1UosBssNYxra"
      },
      "source": [
        "# create dummies for gender\n",
        "profile_for_ml = pd.get_dummies(profile_for_ml,columns=['gender'])"
      ],
      "execution_count": null,
      "outputs": []
    },
    {
      "cell_type": "markdown",
      "metadata": {
        "id": "00mDd_wINln4"
      },
      "source": [
        "## Split Year Month Date into different columns"
      ]
    },
    {
      "cell_type": "code",
      "metadata": {
        "id": "CsJ5RaxJYxrY"
      },
      "source": [
        "profile['became_member_on'] = pd.to_datetime(profile.became_member_on,format='%Y%m%d')"
      ],
      "execution_count": null,
      "outputs": []
    },
    {
      "cell_type": "code",
      "metadata": {
        "id": "q68qAq4FYxrZ",
        "colab": {
          "base_uri": "https://localhost:8080/"
        },
        "outputId": "f3dee175-fc00-4604-f92e-ad52b7586071"
      },
      "source": [
        "profile.info()"
      ],
      "execution_count": null,
      "outputs": [
        {
          "output_type": "stream",
          "text": [
            "<class 'pandas.core.frame.DataFrame'>\n",
            "RangeIndex: 14825 entries, 0 to 14824\n",
            "Data columns (total 5 columns):\n",
            " #   Column            Non-Null Count  Dtype         \n",
            "---  ------            --------------  -----         \n",
            " 0   gender            14825 non-null  object        \n",
            " 1   age               14825 non-null  int64         \n",
            " 2   id                14825 non-null  object        \n",
            " 3   became_member_on  14825 non-null  datetime64[ns]\n",
            " 4   income            14825 non-null  float64       \n",
            "dtypes: datetime64[ns](1), float64(1), int64(1), object(2)\n",
            "memory usage: 579.2+ KB\n"
          ],
          "name": "stdout"
        }
      ]
    },
    {
      "cell_type": "code",
      "metadata": {
        "id": "hiarRN9CYxra",
        "colab": {
          "base_uri": "https://localhost:8080/",
          "height": 217
        },
        "outputId": "6a17beab-c64e-44b6-8e30-b91330f27291"
      },
      "source": [
        "profile_for_ml['became_member_on_year'] = profile_for_ml.became_member_on.dt.year\n",
        "profile_for_ml['became_member_on_month'] = profile_for_ml.became_member_on.dt.month\n",
        "profile_for_ml['became_member_on_date'] = profile_for_ml.became_member_on.dt.day\n",
        "profile_for_ml.head()\n"
      ],
      "execution_count": null,
      "outputs": [
        {
          "output_type": "execute_result",
          "data": {
            "text/html": [
              "<div>\n",
              "<style scoped>\n",
              "    .dataframe tbody tr th:only-of-type {\n",
              "        vertical-align: middle;\n",
              "    }\n",
              "\n",
              "    .dataframe tbody tr th {\n",
              "        vertical-align: top;\n",
              "    }\n",
              "\n",
              "    .dataframe thead th {\n",
              "        text-align: right;\n",
              "    }\n",
              "</style>\n",
              "<table border=\"1\" class=\"dataframe\">\n",
              "  <thead>\n",
              "    <tr style=\"text-align: right;\">\n",
              "      <th></th>\n",
              "      <th>age</th>\n",
              "      <th>id</th>\n",
              "      <th>became_member_on</th>\n",
              "      <th>income</th>\n",
              "      <th>gender_F</th>\n",
              "      <th>gender_M</th>\n",
              "      <th>gender_O</th>\n",
              "      <th>became_member_on_year</th>\n",
              "      <th>became_member_on_month</th>\n",
              "      <th>became_member_on_date</th>\n",
              "    </tr>\n",
              "  </thead>\n",
              "  <tbody>\n",
              "    <tr>\n",
              "      <th>0</th>\n",
              "      <td>55</td>\n",
              "      <td>0610b486422d4921ae7d2bf64640c50b</td>\n",
              "      <td>2017-07-15</td>\n",
              "      <td>112000.0</td>\n",
              "      <td>1</td>\n",
              "      <td>0</td>\n",
              "      <td>0</td>\n",
              "      <td>2017</td>\n",
              "      <td>7</td>\n",
              "      <td>15</td>\n",
              "    </tr>\n",
              "    <tr>\n",
              "      <th>1</th>\n",
              "      <td>75</td>\n",
              "      <td>78afa995795e4d85b5d9ceeca43f5fef</td>\n",
              "      <td>2017-05-09</td>\n",
              "      <td>100000.0</td>\n",
              "      <td>1</td>\n",
              "      <td>0</td>\n",
              "      <td>0</td>\n",
              "      <td>2017</td>\n",
              "      <td>5</td>\n",
              "      <td>9</td>\n",
              "    </tr>\n",
              "    <tr>\n",
              "      <th>2</th>\n",
              "      <td>68</td>\n",
              "      <td>e2127556f4f64592b11af22de27a7932</td>\n",
              "      <td>2018-04-26</td>\n",
              "      <td>70000.0</td>\n",
              "      <td>0</td>\n",
              "      <td>1</td>\n",
              "      <td>0</td>\n",
              "      <td>2018</td>\n",
              "      <td>4</td>\n",
              "      <td>26</td>\n",
              "    </tr>\n",
              "    <tr>\n",
              "      <th>3</th>\n",
              "      <td>65</td>\n",
              "      <td>389bc3fa690240e798340f5a15918d5c</td>\n",
              "      <td>2018-02-09</td>\n",
              "      <td>53000.0</td>\n",
              "      <td>0</td>\n",
              "      <td>1</td>\n",
              "      <td>0</td>\n",
              "      <td>2018</td>\n",
              "      <td>2</td>\n",
              "      <td>9</td>\n",
              "    </tr>\n",
              "    <tr>\n",
              "      <th>4</th>\n",
              "      <td>58</td>\n",
              "      <td>2eeac8d8feae4a8cad5a6af0499a211d</td>\n",
              "      <td>2017-11-11</td>\n",
              "      <td>51000.0</td>\n",
              "      <td>0</td>\n",
              "      <td>1</td>\n",
              "      <td>0</td>\n",
              "      <td>2017</td>\n",
              "      <td>11</td>\n",
              "      <td>11</td>\n",
              "    </tr>\n",
              "  </tbody>\n",
              "</table>\n",
              "</div>"
            ],
            "text/plain": [
              "   age  ... became_member_on_date\n",
              "0   55  ...                    15\n",
              "1   75  ...                     9\n",
              "2   68  ...                    26\n",
              "3   65  ...                     9\n",
              "4   58  ...                    11\n",
              "\n",
              "[5 rows x 10 columns]"
            ]
          },
          "metadata": {
            "tags": []
          },
          "execution_count": 87
        }
      ]
    },
    {
      "cell_type": "markdown",
      "metadata": {
        "id": "oTDToIdhpjqP"
      },
      "source": [
        "## Other Function"
      ]
    },
    {
      "cell_type": "code",
      "metadata": {
        "id": "NvAEYI96pmXn"
      },
      "source": [
        "#Count values in a column\n",
        "aa=\"XXYYYSBAA\"\n",
        "bb=dict(zip(list(aa),[list(aa).count(i) for i in list(aa)]))\n",
        "print(bb)\n",
        "# output:\n",
        "# {'X': 2, 'Y': 3, 'S': 1, 'B': 1, 'A': 2}"
      ],
      "execution_count": null,
      "outputs": []
    },
    {
      "cell_type": "code",
      "metadata": {
        "id": "ZNXvfUAVprnV"
      },
      "source": [
        "#Split Column with delimiter into multiple rows\n",
        "new_df_au = (df_au.set_index([3, 5, 6, 8, 14, 67, 93, 132])  # Set the columns not to be touched as the index,\n",
        "              .apply(lambda x: x.str.split(',').explode())    # Split on comma to get a column of lists, then call explode to explode the list values into their own rows.\n",
        "              .reset_index()                                  # reset the index\n",
        "              .reindex(sorted(new_df_au.columns), axis=1))    # reorder columns\n",
        "\n",
        "#or\n",
        "Split One Column to Two columns\n",
        ">>> df = df[['AB']]\n",
        ">>> df\n",
        "\n",
        "      AB\n",
        "0  A1-B1\n",
        "1  A2-B2\n",
        "\n",
        ">>> df.join(df['AB'].str.split('-', 1, expand=True).rename(columns={0:'A', 1:'B'}))\n",
        "\n",
        "      AB   A   B\n",
        "0  A1-B1  A1  B1\n",
        "1  A2-B2  A2  B2"
      ],
      "execution_count": null,
      "outputs": []
    },
    {
      "cell_type": "code",
      "metadata": {
        "id": "PyRFFSqhpuH1"
      },
      "source": [
        "#Load txt from a folder\n",
        "path = \"/Users/xinran.du/Desktop/AP_Aggregation_Reallocation/data/\"\n",
        "valid_format = [\".txt\"]\n",
        "\n",
        "for f in os.listdir(path):\n",
        "    ext = os.path.splitext(f)[1]\n",
        "    if ext.lower() not in valid_format:\n",
        "        continue\n",
        "    print(\"-------------------------\" + \" File: \" + f + \"-------------------------\")\n",
        "    first_row = pd.read_csv(path+f, sep='|', nrows=1, header=None)\n",
        "    df = pd.read_csv(path+f, sep='|', skiprows=[0], header=None)"
      ],
      "execution_count": null,
      "outputs": []
    },
    {
      "cell_type": "code",
      "metadata": {
        "id": "eR_eGN4WqEnM"
      },
      "source": [
        "#Remove something / Replace\n",
        "seq = [el.replace('\\xa0','') for el in seq]\n",
        "seq"
      ],
      "execution_count": null,
      "outputs": []
    },
    {
      "cell_type": "code",
      "metadata": {
        "id": "PHMXdNyfqK-V"
      },
      "source": [
        "#select rows in a df between two values\n",
        "notnan = df[~df[\"Age\"].isna()]\n",
        "notnan[(notnan[\"Age\"]>=60) & (notnan[\"Age\"]<69)].shape"
      ],
      "execution_count": null,
      "outputs": []
    },
    {
      "cell_type": "code",
      "metadata": {
        "id": "3ECaNnzysqvZ",
        "colab": {
          "base_uri": "https://localhost:8080/",
          "height": 34
        },
        "outputId": "7dbca8f6-9938-4b56-ca4e-0d8a5234b60a"
      },
      "source": [
        "import pandas as pd\n",
        "list=[]\n",
        "biglist=[]\n",
        "list.append(\"value1\")\n",
        "list.append(\"value2\")\n",
        "list.append(\"value3\")\n",
        "biglist.append(list)\n",
        "biglist.append(list)\n",
        "print(biglist)\n",
        "\n",
        "#list to dataframe\n",
        "df1 = pd.DataFrame(biglist, index=['1','2'],  columns=['a', 'b', 'c'])\n",
        "\n",
        "#save as csv file\n",
        "df1.to_csv('df1.csv', index=None)"
      ],
      "execution_count": null,
      "outputs": [
        {
          "output_type": "stream",
          "text": [
            "[['value1', 'value2', 'value3'], ['value1', 'value2', 'value3']]\n"
          ],
          "name": "stdout"
        }
      ]
    },
    {
      "cell_type": "code",
      "metadata": {
        "id": "Gf8wEX_V3ud9",
        "colab": {
          "base_uri": "https://localhost:8080/",
          "height": 323
        },
        "outputId": "d060c03c-4113-49f2-8521-321cc097c161"
      },
      "source": [
        "import pandas as pd\n",
        "import numpy as np\n",
        "\n",
        "\n",
        "#How to find an element's position in an array/list \n",
        "a = [5,10,20,1,3,5,20,5]\n",
        "position = [i for v,i in zip(a, range(len(a))) if v ==5 ]\n",
        "print(\"Position is\", position,\"\\n\")\n",
        "\n",
        "#range\n",
        "print(range(len(a)))\n",
        "print(list(range(len(a))),\"\\n\")\n",
        "# list(range(0,8,2)) #[0, 2, 4, 6]\n",
        "\n",
        "#zip\n",
        "x = [1,2,3]\n",
        "y = ['a','b','c']\n",
        "print(list(zip(x,y))) #[(1, 'a'), (2, 'b'), (3, 'c')]\n",
        "\n",
        "z = (5,6)\n",
        "k,j = z\n",
        "print(k) #5\n",
        "\n",
        "#i for x in range\n",
        "print([x/10 for x in range(10)])\n",
        "# equals to\n",
        "for x in range(10):\n",
        "  print(x/10)"
      ],
      "execution_count": null,
      "outputs": [
        {
          "output_type": "stream",
          "text": [
            "Position is [0, 5, 7] \n",
            "\n",
            "range(0, 8)\n",
            "[0, 1, 2, 3, 4, 5, 6, 7] \n",
            "\n",
            "[(1, 'a'), (2, 'b'), (3, 'c')]\n",
            "5\n",
            "[0.0, 0.1, 0.2, 0.3, 0.4, 0.5, 0.6, 0.7, 0.8, 0.9]\n",
            "0.0\n",
            "0.1\n",
            "0.2\n",
            "0.3\n",
            "0.4\n",
            "0.5\n",
            "0.6\n",
            "0.7\n",
            "0.8\n",
            "0.9\n"
          ],
          "name": "stdout"
        }
      ]
    },
    {
      "cell_type": "code",
      "metadata": {
        "id": "84JqRQR-3Oa8"
      },
      "source": [
        "#If a point is in a Polygon\n",
        "#select free zone \n",
        "import pandas as pd\n",
        "import numpy as np \n",
        "import matplotlib\n",
        "import matplotlib.pyplot as plt\n",
        "\n",
        "from shapely.geometry import Point\n",
        "from shapely.geometry.polygon import Polygon\n",
        "\n",
        "file1 = 'a/My Drive/Intern Projects/Melbourne_Parking/Result/Map visulisation/loc_group_Nov_weekday_k10.csv'\n",
        "file2 = 'a/My Drive/Intern Projects/Melbourne_Parking/Result/Map visulisation/loc_group_Nov_weekend_k3.csv'\n",
        "file3 = 'a/My Drive/Intern Projects/Melbourne_Parking/Result/Map visulisation/loc_group_Nov_k4.csv'\n",
        "\n",
        "data = pd.read_csv(file3)\n",
        "data['FreeTramZone'] = 0\n",
        "\n",
        "freeZone = Polygon([(144.955960,-37.805365),(144.955101,-37.809310),(144.956217,-37.811666),(144.945162,-37.814744),(144.944583,-37.813701),\n",
        "                   ( 144.942931,-37.812557),(144.936546,-37.815092),( 144.937522,-37.816592),(144.943766,-37.814320),(144.945365,-37.818024),\n",
        "                   (144.940052,-37.820026),(144.947969,-37.822940),(144.975447,-37.816517),(144.972915,-37.810541),(144.973462,-37.807667),\n",
        "                   (144.971345,-37.807330),(144.963889,-37.809484),(144.962445,-37.806467)])\n",
        "\n",
        "#For landing dataset \n",
        "\n",
        "lat = data['Latitude'].tolist() # trasfer lat column to a list\n",
        "lng = data['Longitude'].tolist() # trasfer lng column to a list\n",
        "\n",
        "for i in range(len(lat)):\n",
        "    point = Point(lng[i],lat[i]) \n",
        "    if  freeZone.contains(point) == True:\n",
        "      data.iloc[i,-1] = 1\n",
        "      plt.scatter(lng[i],lat[i], color='lightcoral')"
      ],
      "execution_count": null,
      "outputs": []
    },
    {
      "cell_type": "markdown",
      "metadata": {
        "id": "MTRbJR_3kt-e"
      },
      "source": [
        "#Visualization"
      ]
    },
    {
      "cell_type": "markdown",
      "metadata": {
        "id": "Kcg3DamRryrj"
      },
      "source": [
        "##Histogram"
      ]
    },
    {
      "cell_type": "code",
      "metadata": {
        "colab": {
          "base_uri": "https://localhost:8080/",
          "height": 737
        },
        "id": "fg2SVa9SuJTH",
        "outputId": "58ae1f18-0274-45e3-e664-0d3912a829d1"
      },
      "source": [
        "#ALL IN ONE - With plotly.graph_objects\n",
        "import plotly.graph_objs as go\n",
        "from plotly.offline import init_notebook_mode, iplot\n",
        "x0 = np.random.randn(500)\n",
        "# Add 1 to shift the mean of the Gaussian distribution\n",
        "x1 = np.random.randn(500) + 1\n",
        "#trace\n",
        "trace = go.Histogram(x=x0,\n",
        "                     name='X0',\n",
        "                     marker=dict(color='rgba(95,158,209,1)',))\n",
        "\n",
        "trace2 = go.Histogram(x=x1,\n",
        "                     name='X1',\n",
        "                     #marker=dict(color='rgba(95,158,209,1)',)\n",
        "                     )\n",
        "#layout\n",
        "layout = go.Layout(title = 'Membership Join Date Distribution',\n",
        "                   xaxis=dict(title='Membership Join Date'),\n",
        "                   #barmode='stack' / 'overlay'\n",
        "                   )\n",
        "\n",
        "#apply trace and layout to Figure()\n",
        "fig = go.Figure(data=go.Data([trace,trace2]), layout=layout)\n",
        "iplot(fig)"
      ],
      "execution_count": null,
      "outputs": [
        {
          "output_type": "stream",
          "text": [
            "/usr/local/lib/python3.7/dist-packages/plotly/graph_objs/_deprecations.py:40: DeprecationWarning:\n",
            "\n",
            "plotly.graph_objs.Data is deprecated.\n",
            "Please replace it with a list or tuple of instances of the following types\n",
            "  - plotly.graph_objs.Scatter\n",
            "  - plotly.graph_objs.Bar\n",
            "  - plotly.graph_objs.Area\n",
            "  - plotly.graph_objs.Histogram\n",
            "  - etc.\n",
            "\n",
            "\n"
          ],
          "name": "stderr"
        },
        {
          "output_type": "display_data",
          "data": {
            "text/html": [
              "<html>\n",
              "<head><meta charset=\"utf-8\" /></head>\n",
              "<body>\n",
              "    <div>\n",
              "            <script src=\"https://cdnjs.cloudflare.com/ajax/libs/mathjax/2.7.5/MathJax.js?config=TeX-AMS-MML_SVG\"></script><script type=\"text/javascript\">if (window.MathJax) {MathJax.Hub.Config({SVG: {font: \"STIX-Web\"}});}</script>\n",
              "                <script type=\"text/javascript\">window.PlotlyConfig = {MathJaxConfig: 'local'};</script>\n",
              "        <script src=\"https://cdn.plot.ly/plotly-latest.min.js\"></script>    \n",
              "            <div id=\"82e63c70-1808-471d-8dae-b1b6e1cd29e7\" class=\"plotly-graph-div\" style=\"height:525px; width:100%;\"></div>\n",
              "            <script type=\"text/javascript\">\n",
              "                \n",
              "                    window.PLOTLYENV=window.PLOTLYENV || {};\n",
              "                    \n",
              "                if (document.getElementById(\"82e63c70-1808-471d-8dae-b1b6e1cd29e7\")) {\n",
              "                    Plotly.newPlot(\n",
              "                        '82e63c70-1808-471d-8dae-b1b6e1cd29e7',\n",
              "                        [{\"marker\": {\"color\": \"rgba(95,158,209,1)\"}, \"name\": \"X0\", \"type\": \"histogram\", \"x\": [0.013157729916917145, 0.409471041194722, -0.658163681145303, 1.8579383600992003, 1.446415974213068, -0.4064836543795226, -1.9990256551678296, -0.1793780399757587, -0.895457042331387, 0.26914393563779515, 0.07218612175130665, -0.2718822655240726, -1.6112646978734786, 0.7068236762691457, -0.5259621032859336, -0.03428814166235547, -0.29663909677783784, 0.734427280734185, -0.5520000737063068, -1.2921706319841932, -0.660906614679006, 0.33686100107755124, 0.3174273021576678, 1.198702858352612, -0.9510373734537738, -0.3097059881198215, 0.7918229444040332, 0.9371166667503584, 0.0012447528700796086, -1.0869483246355796, -0.1392796244136906, -0.1286295670565924, 0.09614332360050819, -0.8144399168503232, -0.7058532737547504, 1.7485167349431656, -0.21756324680229627, 1.6029185328675288, 2.0381698009693925, 1.2619297320669722, -0.6936487688994301, 0.7394381641114236, -0.44537787133605355, -1.5914478753796364, 0.6649734351926737, -1.1482155936811331, 0.027036508832232322, 0.19533949368378845, 0.5810398884187307, 0.6843508963245695, 0.699967875545784, -0.6270730333709719, 0.9919152724839883, -0.18124341053638493, -0.04613189661469401, 0.18864206104079853, 1.1210731326735488, 1.5110078917620622, 0.31691107844883887, -0.46773661506436187, -0.21863410270392566, 0.1077043335531035, 2.201993278386232, 0.9500800738788028, -0.05519791946288624, 0.8046668946130101, 0.9699320448209685, -1.9507535739865434, -0.11174022064916227, 0.2593142927865585, -1.5919726180409055, -1.6278537900076844, -1.5920202535402797, -1.3467442117066062, 1.0126864292685382, -0.4849082632164013, 0.422082379805526, -0.19477328160809018, -0.21378431147740928, -0.39442309778984225, -0.8194540812362243, -2.2074005527011855, -1.3204527433782889, 0.9685859177327206, 0.9325080985245416, 1.0735666519410696, 0.5491654878676334, -1.4753957131105633, -1.132345305740091, 0.4830422642323584, 1.0200342694757036, -1.4024708534025725, -0.984085013175975, 1.2312225955541962, -0.9708693944095345, -1.5824079097714951, -1.6917557442042204, 0.7227221793536112, -1.5789748198463363, 1.2793175173114049, -0.379261426548302, -1.8683615243898983, -1.7541619216761943, -0.6589504122239095, -1.6377224138197992, -1.431290617928392, -0.045148264773530344, -1.7561673640449509, -0.03186185828531073, -0.9039249740999203, 0.6100161557520274, 2.1960746870998777, 1.3759204240869203, -0.10210705011947403, 0.9718964123027958, -0.9152659997963216, 1.2033155999289784, 0.8044124088848076, -0.36278425932826097, 0.3080304658280936, -0.8707458182449417, 1.2232158105078181, -2.870416376180057, 0.088129210910624, -0.5291870504171156, -0.3394200095641363, 0.8313967236195793, -0.03241967734768783, 1.0107274151578294, 0.4656260800978984, 1.132868175082242, -1.9652283411614746, -1.6044913566954397, -1.0012088785963291, 0.9351938774455303, -0.87125381035091, -3.215586884885063, -0.8362823888176645, 0.9613276412062769, -0.35042211766285836, -0.5361287157429353, -2.143685099594585, 1.291167895609788, 2.388012879240474, 0.3994708961090999, 0.06510034184019478, 0.7874206360207154, 0.08124524039962824, 0.7781461994740193, -1.504521869982992, -0.825442254004711, 1.2959637852995682, -0.28632291965529877, -0.16624650072613978, 0.06546401745599734, 2.0439849104682906, 0.4343940914638225, -0.33978446812033597, -1.4057020403427893, 0.05977235650704538, -0.6753627578298321, -0.7367064503132934, -1.9889302508118873, 1.4768530580381667, 0.033255886373200504, -1.2151339502323641, -2.090863524997662, 0.9308619667618514, -0.629674154195742, -1.3074285105768844, -0.3318772056497121, -1.2295795211712772, 1.6814062778804386, -0.7085153788306469, 0.5254126015351434, -1.396672463893262, 0.1609787217697132, -0.510098481469393, -0.8775162975288656, 1.191175147962559, 0.47531805419199274, 0.9335195022016114, -0.028731490179973826, 0.5044984080539212, 0.05666718963444431, 0.9726460441974671, 1.0824481489643234, -0.035814594385145, 2.2165751201980943, 1.51723572648901, -0.6552798211954601, -1.9508812668616238, -1.1237221688103456, 1.1606151998008378, -0.4532002998158349, -0.5653165518438035, 0.13384674404936953, 0.5360118151053612, 0.4798597164653257, -0.03953636433436091, -0.9960143411599264, -0.34979114902310554, 0.5482554207432198, -0.2893340972656693, 0.17262681160080584, 1.2715257272563634, 2.3530112984511273, -0.14038924400288336, -1.339338840282619, -0.8786320727499216, 0.49821619962236846, 1.849087062263998, 0.24545216807320314, 0.028660847166497673, -0.5136867303421149, -0.3361850511742805, -0.43823799584678874, -0.9584066666819919, -1.6503687453389306, -1.3476450669357454, 0.2533247524166013, -0.13921429773780153, -1.046428219127679, 2.031704287355847, -1.1719465055426947, 0.6186299529361307, -1.1725805066604396, 0.5939947723366116, 1.3627656485820272, 0.5282599489744777, 1.5883775688794675, -1.3154107401530324, 1.1304679774435997, -1.930801978522285, 0.42654846009474895, -1.0884110346227611, -0.3824220172536771, -0.4949595018449521, -0.15292783711207358, -0.09172380662763212, 1.5766677683175099, 0.9019846726590478, 0.08053697377430191, 0.7343404460797847, -0.6472009841187204, 1.7910106069862315, 1.1606617018056555, -0.6113925053428547, 1.7209353360690678, -1.8863826458639699, 0.8014340328648352, -1.7336800786480533, 1.6476456538133912, -1.1796025716018832, -1.0800821442765014, -0.027017040620476596, -1.0328781455622347, 0.5802057283413075, 0.09006892626244915, 1.072749132262597, 0.8378695759436023, -0.04833977417939499, 0.12150014898104027, 0.546287621775335, 0.47452387868505025, -0.4200348696434989, 0.6371267191737202, -0.5383053186309656, 1.1236668768867488, 1.031437629179859, -0.34590362635802757, 0.6530804097002242, 0.8845021653613068, 0.7878313500692462, -0.00901151948341824, -0.140591480437431, 0.5379188721150363, -2.6680806663936756, 1.1211991263885284, -1.5274144696059353, 0.9112123774091645, 0.8806383709004486, -1.0193380350462675, -1.7727671498742774, -1.6764928374479118, -0.5280036618944369, -0.7573692245265178, -0.34867723117812277, 0.88100565097778, 0.09559623627603316, 0.374383300695803, -0.2945522613380063, -1.4854856687626108, 0.14736956866056014, -0.12580437973280906, -0.34812978502945446, 1.9016013615799265, 0.38622513823207105, -0.6779373678980772, 2.3528295399920327, -0.07813074179465505, 0.5771588409387273, 2.7405663660781894, 0.5384745946267148, 0.4522272031594091, 1.2368678962166912, -0.9093189675024153, -0.40374457019099197, 1.7947049279642528, 0.3220138486292169, -1.0592118159765984, -0.694786583897956, 0.5672161782909653, -0.7391854916649807, -0.3075308933400408, -0.6119353494972167, -1.363566180962542, -0.1816736013994735, -0.24598918640844802, -0.9380261746962476, 0.10451917050578012, -0.9116940724608101, -0.18354824718203444, -1.6763828729426338, 0.4770318170662737, 0.35377355344399064, -0.9580843326958565, -0.8260244596882007, -0.32197888564857474, 0.37236821271628273, -0.5535301024625489, 0.1982405819385662, 0.951660930238376, -2.6249277824245696, -0.8106677963311333, -0.3550747995813485, -0.06220729675138149, -0.42964448718335335, 0.05873589505286001, -0.19010492982285784, -1.849811379770654, -0.9528320484336065, -0.3732219039813763, 0.8143830394686098, 1.4033088145960877, 0.32877727850027233, 1.2286120500153324, 2.120940561873276, 0.2595397060814886, 0.7228757968193839, 0.6595875812898953, 0.20883646948176357, -2.220712759828532, -1.4379714010949864, -1.2131502856462941, 0.7657065676689383, 0.23810955652508412, 0.5255452305507251, 0.9716386989909371, 0.15533661050771091, -0.6935763419593904, -0.5240605589249946, -1.6766835955442667, 0.8052100079061535, -0.19345832041564712, 1.3532093506584528, -0.4215124018762735, -0.8676524226309417, -0.23935977232698083, -0.47697450790779977, -0.6614572459702057, -0.694030859263005, 0.20939886649792927, -0.07901985357557138, 1.5838046942589352, 0.8018064889338653, 0.5878294723454668, 0.26089755128005243, -0.5285294564597087, 0.2818301766228181, -0.6967504285110554, 0.43904041229485286, 0.647106332233734, 1.090319147761378, 0.30181654558770116, 0.1953865974971162, -0.3595319948832307, 1.9897653510529494, 0.15330199910560527, -0.3304869062264782, 0.38369765397170563, -0.44779672139986293, -2.3005834962591165, -0.7487558617788006, 0.7186139188399562, -1.318058506916452, 1.0570658767901142, -3.143026807529486, 1.2794939474593847, -1.4100838647217608, 0.0932377731535789, -0.7786190617900216, 1.215026533307776, 0.6167540919366364, 0.3245550198820255, -1.1742326182238023, 0.3432456959350106, -0.24370553707038917, 0.613870471757847, 1.1051935051061275, -1.9290086440413994, 1.0135398734748897, -0.5317792097304856, 0.8210976097246773, 1.069636191556229, 0.08509279914749684, -1.5940834408411932, 0.4456628559122324, 0.5759594914674825, 0.30106033017245265, -0.5550102662553337, -0.7697523955331274, -0.07234268742412761, -0.48807030394954154, 1.0575439014891364, -0.3733865185652288, -0.9895109026754491, 0.5370086444549442, -0.33597782254114716, -0.18137996573480242, 0.7395813725838881, 0.9365187127863099, -0.19573003367770053, 0.7042266861472687, 0.6862525702577092, -0.20590695413671273, -0.1759803567944535, 0.5387034639378947, -0.6775155050281284, 1.94440061846371, 0.14509719107994715, 0.7455706947762232, -1.2336587411866768, 0.46057431364832957, 1.501215477364568, 0.4864075875359571, -0.7414152688890171, -0.3002236467733849, 0.1157016902451789, 0.8699478615649414, 1.337092984527095, -0.9548137179574242, -1.0347239050343426, -2.2365849397815927, 1.2063492269893867, -1.3515241717930038, 1.314941974207008, 0.623092431005304, 0.03195608509573605, 2.2953763098315845, 0.7081649357297475, 0.677755464634055, -0.26219488756040915, -0.7771449369220897, -0.10989354653223937, -0.2783819373952457, -0.09981515405053892, 0.038861560556958885, -0.4064127364132607, 1.8906179899701918, -0.812679029052763, 1.3986964127498536, -1.3869558167398248, -3.652670607709651, 1.0586867669342102, 0.8348506787854421, -0.27541508095489386, 1.0631592648075823, -1.0100397476998382, -0.826584036541991, -0.7498354019504543, -0.013708546975189872, 0.543833465477479, 0.03239654364554805, 0.2383627346076176, -0.834878926905756, -0.5904373305644087, 0.9652295619256682, 1.139066771658689, 0.638906413979289, 1.28756713327446, -0.9980079717418944, 0.44458566561661894, -0.26995927730919694, -0.08973596192114178, -0.43478909896896833, 1.1022127643792985, -1.1258270119278577, -1.4813393676942004, 1.5059692703092151]}, {\"name\": \"X1\", \"type\": \"histogram\", \"x\": [-0.08684610292832606, 1.2544260934630804, 1.1401794573052046, 1.3725166431724125, 0.088720327536838, 0.5074581520933408, 1.7054279747794905, 2.2858233313744707, 0.15664654263408095, 1.137053033961658, 1.1905646238300622, 1.193081142181389, 1.1158525927677954, 2.7009512557767303, 0.7441431171150672, 1.9790787158612453, 1.3508394570776183, 1.6542305259540517, 2.6121459023981894, 0.9716392694771331, 2.148670315175319, 1.3887951185266871, 0.6096924923847062, 1.1282875960002072, 3.2229981865045345, 1.4232897271141285, 2.492724360311649, 0.9600562165746195, 0.21433689512517995, 1.5365802238655908, 2.0197020699873462, 0.9410399015095716, 0.47112598082554946, 0.3344559268722095, 0.1946740411987059, -0.5467770839083728, -0.5576429599041515, 1.9253529623378935, 3.9143757512808097, 0.4825727768108461, -0.6193841739270669, 0.7177007565478655, -0.7561297853244608, -0.027120490633348204, 2.930628442202108, 0.5288317942676142, -0.19498368930635213, 0.018642134124104426, -0.33440965814469314, 0.3133950403628092, 0.48136662971277966, 1.189014561634413, -0.13395645306011472, 2.3292152996168145, 0.34263856583073227, 0.7277621151186069, 1.5238094042795636, 1.7887572998382675, 1.621978140076453, 2.9795673912357445, 1.977448482402137, 0.011076748314676754, 1.172008659796036, -0.5252430033970683, 1.0253457626933304, -0.8490819417365836, 0.3976901475033493, 0.10276409809475828, 2.1370650476730617, 1.0516026875591618, -0.10929681989761542, 1.0672743888884517, 0.24038873928653715, 0.29840141277048293, 0.971358509294505, -0.11654906325454562, 0.8114148752099125, 0.02926704850026285, 1.4329362426890078, 1.116671174158824, 0.8395771619676027, 1.1734740699717492, 0.4175237044454194, 0.3203768497924655, -0.6755902007162837, 2.1897584942833452, -0.4311545908116714, 1.1214492928963238, 1.3973110388791539, 0.8650703208953561, 1.4075261462813682, 1.9966731558112891, -0.08142984112215812, 1.5969069614208493, 0.3268822303186233, 3.374656179877936, 0.9096983917738328, -0.11489948750979462, 0.5929414433615006, 0.7808670631741566, -1.9391271638990575, 0.33876676087787616, 1.116392028278496, -0.1612347388257409, -0.3230790503154253, 1.2087381566336297, 2.5400753292777623, -0.4402698286996085, 0.923034038995764, -1.489691708744345, 1.171218152160055, 1.8484138387737232, 2.6144160690090574, 2.281660101146403, 1.8188999739111027, 1.0186677632651921, 0.36779571694522173, 1.6982221946851022, -0.4819152063228902, 0.14123742819562646, 1.1935426721347602, 0.2989925729900995, 0.5653472064917462, 0.8598503262360986, 2.943300649446126, 1.153249164930964, 1.1916643543211383, 0.32766424406353034, 2.654770163004816, 1.4988821616990171, 0.9043362940171653, 1.4618294028517254, -0.18904383820719972, 0.7379751961420895, 0.7900053491864016, 1.6725993342508163, 0.8870444873407705, 0.43187731359549686, 0.745260885674327, 1.1716349360564964, 2.8311563237851907, 0.9345655055147002, -0.09633549695713839, 1.8494252708086678, 3.2911634879583382, 1.1082249540606313, 0.39800346368743256, 1.3077795506584209, 2.433782649857407, -1.1144470044416144, 1.8901944056064157, 2.2592789237005557, 3.525041019047487, 1.65902726248328, 2.1671410860712195, -0.9695075164451596, 0.5384284810831499, -0.3518105041467725, 0.4506739329185593, 2.587211967608838, -0.035180860771025335, 0.8977395800374788, 1.0064778247871145, -0.3940885416753839, 1.2293428387141874, -0.7687120902027675, 1.9945231164557646, 2.74393520505994, 0.4676897374422756, 1.4542302745017266, -0.4794078810529856, 2.1109279187376653, 0.1997212602705658, -0.1252484903313118, 1.705515672051188, 0.812402021407964, 1.9540214802669589, 1.8905932713594322, 2.735690231080173, 0.6380576224776002, 1.8039306986206065, 1.6466814855622838, 1.5713219635571232, -1.1378332361284667, 1.124744534741188, 1.0336019953706368, -0.15283673525660735, 4.092699816208762, 0.29816403223038335, 0.5500268451721483, 3.0470666652818665, 0.8660905511997992, 0.7347581209625954, 1.9165392006125506, -0.6157025759643837, 2.334874928484206, -0.8737751595588013, 1.894503263434261, 1.0298881630095496, 1.260700899000176, 1.0930511149441813, 1.3851470447422454, 1.212498154410023, 2.6053281750811057, 0.7857539092555729, 0.7724156904136625, 1.5627240686605754, 3.0738503558243115, 1.0800271986617602, 0.3942279224460067, 0.3348703048284595, 0.874058986941392, 1.9078552849149344, 0.576541670801235, 0.34274050801052314, 0.9507688622271553, 1.6525407267562775, -0.42635546736658503, 0.7066071334951355, -0.19288039895293863, 1.357542875523981, 0.3218572030218029, 0.3307689320822925, 0.8914381249174348, 2.320702333150164, 0.36019193791422843, 1.4114899115770174, -0.028956261128058935, 1.6865210837983629, 0.8246206104739799, 1.5320454070193068, -0.6157341170865753, 4.047391750851707, -0.417353398801908, -0.7089971568314406, 0.015115419561231636, 1.8230886761624316, 2.4310451764426464, 0.7762362856093366, 0.9849758515229566, 0.3497457983184138, -0.5648295636529717, 1.1349983998382167, 0.43790118986062565, 1.0513938662651097, 2.0928755601031024, 1.9956902853637652, 0.6713652717666856, 0.5656290264460233, 0.4329170318535036, -1.302505726861002, 2.5653055711316526, 0.6531136595834974, 0.6764335763063357, 1.0232987759906513, 1.7394419600655127, 0.4940407502081181, -0.4948540058970725, 1.1064977863222205, -0.09566943632343627, 0.5182086760003531, 0.5627538105642611, -0.14838965488148448, 3.216511884488064, 1.2943580530817684, 0.23434194479015613, 1.7790742310390573, -1.5654546796102293, 0.8111737801837002, 1.3658739404000222, 0.8959347888094746, 0.969616754563412, 0.6422331645303765, 0.5501316042370026, 0.4684311272790076, 0.3328414597461763, -0.8820009205150532, 0.8378527043340543, 1.436518478293416, 2.3797396478429578, 1.4329276294016648, 2.840920045038006, -0.5169701208520299, 1.657868029360159, 1.9472933644040744, 2.223023062603283, 0.31379537940576974, 1.423059292762646, -0.1045656794384715, 1.8722030473878428, 0.5563754696681426, 1.256380387137895, 0.34723011434033135, 2.6779298367279747, 1.2024199370465318, -0.4871745429900711, 2.270444737318856, -0.1664155878930238, 0.3914200938059902, 1.6293646488275182, -0.857234503955034, 0.7849042062133882, 0.04186269309378987, 1.0262429145394514, 1.467274539257708, 1.6539222136314664, 2.572704670588082, 0.2669906754300295, 1.8060661966517855, 0.6833567598950461, 1.2617990598537336, 0.22100235113797873, 0.10934418533995904, 0.28352282860585043, 0.1370001896158748, 0.7207628540593616, 1.4711174829826579, 0.5248975969792028, 0.9523256130460519, 1.2915258984726117, 0.5364018260630159, 1.0574777771022108, 0.7371211991570019, 1.3718742743492762, 3.1749682912542103, 0.16642430786318785, 1.6291293141697722, 0.16647332670974613, 1.498211110789734, -0.45133390573312515, 0.7253831342587211, 0.8427513819593452, 1.2796862863411949, 1.75009182808621, 1.046074963544926, -0.4214683964593253, 2.554256439835326, 1.2379991927139669, 0.7061217532965982, 1.0179700411732773, 1.0073490019669498, 0.10973204003697734, 3.033606510328333, 0.07571759921475973, 0.84451527741364, 0.9164931385533499, -0.34594436011523055, -0.7306465492910525, 3.5540282709477182, -0.08983684306458484, -0.1836982466589776, 1.8742817776859966, -1.444500364410028, 0.8650776439160843, 0.8476141236673227, -0.5364936403060268, 2.458575196789443, 0.794701494301755, 1.1895926481905208, 0.508230702472978, -0.6446959749063506, -0.4777632899864628, 3.384261717217237, 1.0686614314251912, 0.5106464278323349, 2.643547786760071, 1.9890222700805238, 1.1722299403287892, 0.9220766957111906, 1.303732904375472, 2.1180876911432502, 1.4018291773597367, 0.3261240782773691, 1.7898376958459143, -0.7334741468167225, 0.3789315065004215, -0.13262561970376852, 0.2141508892987818, 1.4481595608988909, 1.1548568222265905, 2.0729973422520946, 2.0333510571503854, 2.0011481978131247, 2.3615210249489347, 0.6701544178600086, -0.7018821112546658, 1.4904098341859753, 0.7867457863045328, -0.8630763642078614, 0.327836640682135, 1.691319580047265, 0.42024130138306226, 1.6925444382335355, 0.4152547956104483, 2.1059938074555564, 1.2523071108435353, 1.5154464240497676, 2.0853577459454202, 0.5828342829031974, 0.07148789588232451, 1.8633353798823213, 0.7563634194571054, 0.25871509331209264, 0.5107377132885208, 0.5127355652025265, 1.0560415333062148, 0.9875890316716547, 0.8475491505444438, 2.06286687669892, 2.771827075079914, 1.2550545508371769, 1.6016783741862972, 0.12086861875905941, 0.33895925525608783, 0.17202853215829894, -0.2889859908615451, 0.7927325408390536, 1.4212479408195553, 1.4648549843517604, 1.1663795420379814, 1.1435934564295032, 1.1480825704614133, 1.9007875796333369, 0.283244162481293, 1.7145033295842467, 0.2102687835947492, -1.231448771010597, 1.024425056002629, 1.4804917666156663, -0.2662555380627134, 2.809360641641085, 1.8119822518349338, 1.2348812049718443, 0.7413950217837653, 0.3446806154026718, 1.936792040977463, 2.212467877415877, 0.9817991414588789, 2.0913279326153336, 1.1670462599965643, 0.32659147970979363, 1.6328522184219547, 1.4893754150743501, 0.5360616710365665, 1.0393383524669249, 0.4661933174647829, 2.374861292892784, 0.63701331535637, 0.4690803699653868, 1.1760088952568928, -0.07527250349837389, 1.861760329155453, 1.2014743202126248, 2.4107713928030625, 0.033727448031152685, 0.8344341698381124, 0.07757256713450167, 0.7635456995606812, 0.8241753024479868, 2.1036837340408603, 0.9987987442588319, -0.21833153225359214, 1.8389481223388686, 1.9292810486623488, -0.301576128754647, 0.3974686516928996, 1.2854917278497038, 0.39019601013715444, 1.7147597289410779, 0.7282170354640114, 1.527203976665684, -0.4244506444487881, 1.891620466330445, 0.37283962088408307, 0.1550012812883047, 3.102031500325068, 1.1680768755364814, 4.057324212247698, 1.4269670934523622, 1.157705612141965, 1.157725754108596, -0.5145472462477896, 1.9328415917815198, 0.8728558890895277, 0.8868849429354263, -0.1518694109706158, 0.18916902742342767, 1.0117389189662906, 1.6155152986714034, -0.4038656122333253, 1.0761322796727355, 2.7035448801425956, -1.2685176962647988, -0.07235824971609617, 0.73451369460498, 0.6734950993129207, 1.1857554488920652, 1.5761033113637293, 0.6552399481342831, 0.3449503196646557]}],\n",
              "                        {\"barmode\": \"stack\", \"template\": {\"data\": {\"bar\": [{\"error_x\": {\"color\": \"#2a3f5f\"}, \"error_y\": {\"color\": \"#2a3f5f\"}, \"marker\": {\"line\": {\"color\": \"#E5ECF6\", \"width\": 0.5}}, \"type\": \"bar\"}], \"barpolar\": [{\"marker\": {\"line\": {\"color\": \"#E5ECF6\", \"width\": 0.5}}, \"type\": \"barpolar\"}], \"carpet\": [{\"aaxis\": {\"endlinecolor\": \"#2a3f5f\", \"gridcolor\": \"white\", \"linecolor\": \"white\", \"minorgridcolor\": \"white\", \"startlinecolor\": \"#2a3f5f\"}, \"baxis\": {\"endlinecolor\": \"#2a3f5f\", \"gridcolor\": \"white\", \"linecolor\": \"white\", \"minorgridcolor\": \"white\", \"startlinecolor\": \"#2a3f5f\"}, \"type\": \"carpet\"}], \"choropleth\": [{\"colorbar\": {\"outlinewidth\": 0, \"ticks\": \"\"}, \"type\": \"choropleth\"}], \"contour\": [{\"colorbar\": {\"outlinewidth\": 0, \"ticks\": \"\"}, \"colorscale\": [[0.0, \"#0d0887\"], [0.1111111111111111, \"#46039f\"], [0.2222222222222222, \"#7201a8\"], [0.3333333333333333, \"#9c179e\"], [0.4444444444444444, \"#bd3786\"], [0.5555555555555556, \"#d8576b\"], [0.6666666666666666, \"#ed7953\"], [0.7777777777777778, \"#fb9f3a\"], [0.8888888888888888, \"#fdca26\"], [1.0, \"#f0f921\"]], \"type\": \"contour\"}], \"contourcarpet\": [{\"colorbar\": {\"outlinewidth\": 0, \"ticks\": \"\"}, \"type\": \"contourcarpet\"}], \"heatmap\": [{\"colorbar\": {\"outlinewidth\": 0, \"ticks\": \"\"}, \"colorscale\": [[0.0, \"#0d0887\"], [0.1111111111111111, \"#46039f\"], [0.2222222222222222, \"#7201a8\"], [0.3333333333333333, \"#9c179e\"], [0.4444444444444444, \"#bd3786\"], [0.5555555555555556, \"#d8576b\"], [0.6666666666666666, \"#ed7953\"], [0.7777777777777778, \"#fb9f3a\"], [0.8888888888888888, \"#fdca26\"], [1.0, \"#f0f921\"]], \"type\": \"heatmap\"}], \"heatmapgl\": [{\"colorbar\": {\"outlinewidth\": 0, \"ticks\": \"\"}, \"colorscale\": [[0.0, \"#0d0887\"], [0.1111111111111111, \"#46039f\"], [0.2222222222222222, \"#7201a8\"], [0.3333333333333333, \"#9c179e\"], [0.4444444444444444, \"#bd3786\"], [0.5555555555555556, \"#d8576b\"], [0.6666666666666666, \"#ed7953\"], [0.7777777777777778, \"#fb9f3a\"], [0.8888888888888888, \"#fdca26\"], [1.0, \"#f0f921\"]], \"type\": \"heatmapgl\"}], \"histogram\": [{\"marker\": {\"colorbar\": {\"outlinewidth\": 0, \"ticks\": \"\"}}, \"type\": \"histogram\"}], \"histogram2d\": [{\"colorbar\": {\"outlinewidth\": 0, \"ticks\": \"\"}, \"colorscale\": [[0.0, \"#0d0887\"], [0.1111111111111111, \"#46039f\"], [0.2222222222222222, \"#7201a8\"], [0.3333333333333333, \"#9c179e\"], [0.4444444444444444, \"#bd3786\"], [0.5555555555555556, \"#d8576b\"], [0.6666666666666666, \"#ed7953\"], [0.7777777777777778, \"#fb9f3a\"], [0.8888888888888888, \"#fdca26\"], [1.0, \"#f0f921\"]], \"type\": \"histogram2d\"}], \"histogram2dcontour\": [{\"colorbar\": {\"outlinewidth\": 0, \"ticks\": \"\"}, \"colorscale\": [[0.0, \"#0d0887\"], [0.1111111111111111, \"#46039f\"], [0.2222222222222222, \"#7201a8\"], [0.3333333333333333, \"#9c179e\"], [0.4444444444444444, \"#bd3786\"], [0.5555555555555556, \"#d8576b\"], [0.6666666666666666, \"#ed7953\"], [0.7777777777777778, \"#fb9f3a\"], [0.8888888888888888, \"#fdca26\"], [1.0, \"#f0f921\"]], \"type\": \"histogram2dcontour\"}], \"mesh3d\": [{\"colorbar\": {\"outlinewidth\": 0, \"ticks\": \"\"}, \"type\": \"mesh3d\"}], \"parcoords\": [{\"line\": {\"colorbar\": {\"outlinewidth\": 0, \"ticks\": \"\"}}, \"type\": \"parcoords\"}], \"pie\": [{\"automargin\": true, \"type\": \"pie\"}], \"scatter\": [{\"marker\": {\"colorbar\": {\"outlinewidth\": 0, \"ticks\": \"\"}}, \"type\": \"scatter\"}], \"scatter3d\": [{\"line\": {\"colorbar\": {\"outlinewidth\": 0, \"ticks\": \"\"}}, \"marker\": {\"colorbar\": {\"outlinewidth\": 0, \"ticks\": \"\"}}, \"type\": \"scatter3d\"}], \"scattercarpet\": [{\"marker\": {\"colorbar\": {\"outlinewidth\": 0, \"ticks\": \"\"}}, \"type\": \"scattercarpet\"}], \"scattergeo\": [{\"marker\": {\"colorbar\": {\"outlinewidth\": 0, \"ticks\": \"\"}}, \"type\": \"scattergeo\"}], \"scattergl\": [{\"marker\": {\"colorbar\": {\"outlinewidth\": 0, \"ticks\": \"\"}}, \"type\": \"scattergl\"}], \"scattermapbox\": [{\"marker\": {\"colorbar\": {\"outlinewidth\": 0, \"ticks\": \"\"}}, \"type\": \"scattermapbox\"}], \"scatterpolar\": [{\"marker\": {\"colorbar\": {\"outlinewidth\": 0, \"ticks\": \"\"}}, \"type\": \"scatterpolar\"}], \"scatterpolargl\": [{\"marker\": {\"colorbar\": {\"outlinewidth\": 0, \"ticks\": \"\"}}, \"type\": \"scatterpolargl\"}], \"scatterternary\": [{\"marker\": {\"colorbar\": {\"outlinewidth\": 0, \"ticks\": \"\"}}, \"type\": \"scatterternary\"}], \"surface\": [{\"colorbar\": {\"outlinewidth\": 0, \"ticks\": \"\"}, \"colorscale\": [[0.0, \"#0d0887\"], [0.1111111111111111, \"#46039f\"], [0.2222222222222222, \"#7201a8\"], [0.3333333333333333, \"#9c179e\"], [0.4444444444444444, \"#bd3786\"], [0.5555555555555556, \"#d8576b\"], [0.6666666666666666, \"#ed7953\"], [0.7777777777777778, \"#fb9f3a\"], [0.8888888888888888, \"#fdca26\"], [1.0, \"#f0f921\"]], \"type\": \"surface\"}], \"table\": [{\"cells\": {\"fill\": {\"color\": \"#EBF0F8\"}, \"line\": {\"color\": \"white\"}}, \"header\": {\"fill\": {\"color\": \"#C8D4E3\"}, \"line\": {\"color\": \"white\"}}, \"type\": \"table\"}]}, \"layout\": {\"annotationdefaults\": {\"arrowcolor\": \"#2a3f5f\", \"arrowhead\": 0, \"arrowwidth\": 1}, \"coloraxis\": {\"colorbar\": {\"outlinewidth\": 0, \"ticks\": \"\"}}, \"colorscale\": {\"diverging\": [[0, \"#8e0152\"], [0.1, \"#c51b7d\"], [0.2, \"#de77ae\"], [0.3, \"#f1b6da\"], [0.4, \"#fde0ef\"], [0.5, \"#f7f7f7\"], [0.6, \"#e6f5d0\"], [0.7, \"#b8e186\"], [0.8, \"#7fbc41\"], [0.9, \"#4d9221\"], [1, \"#276419\"]], \"sequential\": [[0.0, \"#0d0887\"], [0.1111111111111111, \"#46039f\"], [0.2222222222222222, \"#7201a8\"], [0.3333333333333333, \"#9c179e\"], [0.4444444444444444, \"#bd3786\"], [0.5555555555555556, \"#d8576b\"], [0.6666666666666666, \"#ed7953\"], [0.7777777777777778, \"#fb9f3a\"], [0.8888888888888888, \"#fdca26\"], [1.0, \"#f0f921\"]], \"sequentialminus\": [[0.0, \"#0d0887\"], [0.1111111111111111, \"#46039f\"], [0.2222222222222222, \"#7201a8\"], [0.3333333333333333, \"#9c179e\"], [0.4444444444444444, \"#bd3786\"], [0.5555555555555556, \"#d8576b\"], [0.6666666666666666, \"#ed7953\"], [0.7777777777777778, \"#fb9f3a\"], [0.8888888888888888, \"#fdca26\"], [1.0, \"#f0f921\"]]}, \"colorway\": [\"#636efa\", \"#EF553B\", \"#00cc96\", \"#ab63fa\", \"#FFA15A\", \"#19d3f3\", \"#FF6692\", \"#B6E880\", \"#FF97FF\", \"#FECB52\"], \"font\": {\"color\": \"#2a3f5f\"}, \"geo\": {\"bgcolor\": \"white\", \"lakecolor\": \"white\", \"landcolor\": \"#E5ECF6\", \"showlakes\": true, \"showland\": true, \"subunitcolor\": \"white\"}, \"hoverlabel\": {\"align\": \"left\"}, \"hovermode\": \"closest\", \"mapbox\": {\"style\": \"light\"}, \"paper_bgcolor\": \"white\", \"plot_bgcolor\": \"#E5ECF6\", \"polar\": {\"angularaxis\": {\"gridcolor\": \"white\", \"linecolor\": \"white\", \"ticks\": \"\"}, \"bgcolor\": \"#E5ECF6\", \"radialaxis\": {\"gridcolor\": \"white\", \"linecolor\": \"white\", \"ticks\": \"\"}}, \"scene\": {\"xaxis\": {\"backgroundcolor\": \"#E5ECF6\", \"gridcolor\": \"white\", \"gridwidth\": 2, \"linecolor\": \"white\", \"showbackground\": true, \"ticks\": \"\", \"zerolinecolor\": \"white\"}, \"yaxis\": {\"backgroundcolor\": \"#E5ECF6\", \"gridcolor\": \"white\", \"gridwidth\": 2, \"linecolor\": \"white\", \"showbackground\": true, \"ticks\": \"\", \"zerolinecolor\": \"white\"}, \"zaxis\": {\"backgroundcolor\": \"#E5ECF6\", \"gridcolor\": \"white\", \"gridwidth\": 2, \"linecolor\": \"white\", \"showbackground\": true, \"ticks\": \"\", \"zerolinecolor\": \"white\"}}, \"shapedefaults\": {\"line\": {\"color\": \"#2a3f5f\"}}, \"ternary\": {\"aaxis\": {\"gridcolor\": \"white\", \"linecolor\": \"white\", \"ticks\": \"\"}, \"baxis\": {\"gridcolor\": \"white\", \"linecolor\": \"white\", \"ticks\": \"\"}, \"bgcolor\": \"#E5ECF6\", \"caxis\": {\"gridcolor\": \"white\", \"linecolor\": \"white\", \"ticks\": \"\"}}, \"title\": {\"x\": 0.05}, \"xaxis\": {\"automargin\": true, \"gridcolor\": \"white\", \"linecolor\": \"white\", \"ticks\": \"\", \"title\": {\"standoff\": 15}, \"zerolinecolor\": \"white\", \"zerolinewidth\": 2}, \"yaxis\": {\"automargin\": true, \"gridcolor\": \"white\", \"linecolor\": \"white\", \"ticks\": \"\", \"title\": {\"standoff\": 15}, \"zerolinecolor\": \"white\", \"zerolinewidth\": 2}}}, \"title\": {\"text\": \"Membership Join Date Distribution\"}, \"xaxis\": {\"title\": {\"text\": \"Membership Join Date\"}}},\n",
              "                        {\"responsive\": true}\n",
              "                    ).then(function(){\n",
              "                            \n",
              "var gd = document.getElementById('82e63c70-1808-471d-8dae-b1b6e1cd29e7');\n",
              "var x = new MutationObserver(function (mutations, observer) {{\n",
              "        var display = window.getComputedStyle(gd).display;\n",
              "        if (!display || display === 'none') {{\n",
              "            console.log([gd, 'removed!']);\n",
              "            Plotly.purge(gd);\n",
              "            observer.disconnect();\n",
              "        }}\n",
              "}});\n",
              "\n",
              "// Listen for the removal of the full notebook cells\n",
              "var notebookContainer = gd.closest('#notebook-container');\n",
              "if (notebookContainer) {{\n",
              "    x.observe(notebookContainer, {childList: true});\n",
              "}}\n",
              "\n",
              "// Listen for the clearing of the current output cell\n",
              "var outputEl = gd.closest('.output');\n",
              "if (outputEl) {{\n",
              "    x.observe(outputEl, {childList: true});\n",
              "}}\n",
              "\n",
              "                        })\n",
              "                };\n",
              "                \n",
              "            </script>\n",
              "        </div>\n",
              "</body>\n",
              "</html>"
            ]
          },
          "metadata": {
            "tags": []
          }
        }
      ]
    },
    {
      "cell_type": "code",
      "metadata": {
        "id": "JpN5Ze8-8C48",
        "colab": {
          "base_uri": "https://localhost:8080/",
          "height": 542
        },
        "outputId": "061faa24-ed28-4367-b677-81d8008be20a"
      },
      "source": [
        "import plotly.graph_objects as go\n",
        "\n",
        "x = ['Product A', 'Product B', 'Product C']\n",
        "y = [20, 14, 23]\n",
        "\n",
        "# Use the hovertext kw argument for hover text\n",
        "trace = go.Bar(x=x, y=y,\n",
        "               hovertext=['27% market share', '24% market share', '19% market share'],\n",
        "               name='X0',\n",
        "               marker_color='rgb(158,202,225)', \n",
        "               marker_line_color='rgb(8,48,107)',\n",
        "               marker_line_width=1.5, opacity=0.6)\n",
        "\n",
        "layout = go.Layout(title = 'January 2013 Sales Report',\n",
        "                   xaxis=dict(title='Product Type'),\n",
        "                   #barmode='stack' / 'overlay'\n",
        "                   )\n",
        "fig = go.Figure(data=[trace], layout=layout)\n",
        "\n",
        "fig.show()"
      ],
      "execution_count": null,
      "outputs": [
        {
          "output_type": "display_data",
          "data": {
            "text/html": [
              "<html>\n",
              "<head><meta charset=\"utf-8\" /></head>\n",
              "<body>\n",
              "    <div>\n",
              "            <script src=\"https://cdnjs.cloudflare.com/ajax/libs/mathjax/2.7.5/MathJax.js?config=TeX-AMS-MML_SVG\"></script><script type=\"text/javascript\">if (window.MathJax) {MathJax.Hub.Config({SVG: {font: \"STIX-Web\"}});}</script>\n",
              "                <script type=\"text/javascript\">window.PlotlyConfig = {MathJaxConfig: 'local'};</script>\n",
              "        <script src=\"https://cdn.plot.ly/plotly-latest.min.js\"></script>    \n",
              "            <div id=\"d12921c9-f939-4f95-b8d3-72077c79d0e0\" class=\"plotly-graph-div\" style=\"height:525px; width:100%;\"></div>\n",
              "            <script type=\"text/javascript\">\n",
              "                \n",
              "                    window.PLOTLYENV=window.PLOTLYENV || {};\n",
              "                    \n",
              "                if (document.getElementById(\"d12921c9-f939-4f95-b8d3-72077c79d0e0\")) {\n",
              "                    Plotly.newPlot(\n",
              "                        'd12921c9-f939-4f95-b8d3-72077c79d0e0',\n",
              "                        [{\"hovertext\": [\"27% market share\", \"24% market share\", \"19% market share\"], \"marker\": {\"color\": \"rgb(158,202,225)\", \"line\": {\"color\": \"rgb(8,48,107)\", \"width\": 1.5}}, \"name\": \"X0\", \"opacity\": 0.6, \"type\": \"bar\", \"x\": [\"Product A\", \"Product B\", \"Product C\"], \"y\": [20, 14, 23]}],\n",
              "                        {\"template\": {\"data\": {\"bar\": [{\"error_x\": {\"color\": \"#2a3f5f\"}, \"error_y\": {\"color\": \"#2a3f5f\"}, \"marker\": {\"line\": {\"color\": \"#E5ECF6\", \"width\": 0.5}}, \"type\": \"bar\"}], \"barpolar\": [{\"marker\": {\"line\": {\"color\": \"#E5ECF6\", \"width\": 0.5}}, \"type\": \"barpolar\"}], \"carpet\": [{\"aaxis\": {\"endlinecolor\": \"#2a3f5f\", \"gridcolor\": \"white\", \"linecolor\": \"white\", \"minorgridcolor\": \"white\", \"startlinecolor\": \"#2a3f5f\"}, \"baxis\": {\"endlinecolor\": \"#2a3f5f\", \"gridcolor\": \"white\", \"linecolor\": \"white\", \"minorgridcolor\": \"white\", \"startlinecolor\": \"#2a3f5f\"}, \"type\": \"carpet\"}], \"choropleth\": [{\"colorbar\": {\"outlinewidth\": 0, \"ticks\": \"\"}, \"type\": \"choropleth\"}], \"contour\": [{\"colorbar\": {\"outlinewidth\": 0, \"ticks\": \"\"}, \"colorscale\": [[0.0, \"#0d0887\"], [0.1111111111111111, \"#46039f\"], [0.2222222222222222, \"#7201a8\"], [0.3333333333333333, \"#9c179e\"], [0.4444444444444444, \"#bd3786\"], [0.5555555555555556, \"#d8576b\"], [0.6666666666666666, \"#ed7953\"], [0.7777777777777778, \"#fb9f3a\"], [0.8888888888888888, \"#fdca26\"], [1.0, \"#f0f921\"]], \"type\": \"contour\"}], \"contourcarpet\": [{\"colorbar\": {\"outlinewidth\": 0, \"ticks\": \"\"}, \"type\": \"contourcarpet\"}], \"heatmap\": [{\"colorbar\": {\"outlinewidth\": 0, \"ticks\": \"\"}, \"colorscale\": [[0.0, \"#0d0887\"], [0.1111111111111111, \"#46039f\"], [0.2222222222222222, \"#7201a8\"], [0.3333333333333333, \"#9c179e\"], [0.4444444444444444, \"#bd3786\"], [0.5555555555555556, \"#d8576b\"], [0.6666666666666666, \"#ed7953\"], [0.7777777777777778, \"#fb9f3a\"], [0.8888888888888888, \"#fdca26\"], [1.0, \"#f0f921\"]], \"type\": \"heatmap\"}], \"heatmapgl\": [{\"colorbar\": {\"outlinewidth\": 0, \"ticks\": \"\"}, \"colorscale\": [[0.0, \"#0d0887\"], [0.1111111111111111, \"#46039f\"], [0.2222222222222222, \"#7201a8\"], [0.3333333333333333, \"#9c179e\"], [0.4444444444444444, \"#bd3786\"], [0.5555555555555556, \"#d8576b\"], [0.6666666666666666, \"#ed7953\"], [0.7777777777777778, \"#fb9f3a\"], [0.8888888888888888, \"#fdca26\"], [1.0, \"#f0f921\"]], \"type\": \"heatmapgl\"}], \"histogram\": [{\"marker\": {\"colorbar\": {\"outlinewidth\": 0, \"ticks\": \"\"}}, \"type\": \"histogram\"}], \"histogram2d\": [{\"colorbar\": {\"outlinewidth\": 0, \"ticks\": \"\"}, \"colorscale\": [[0.0, \"#0d0887\"], [0.1111111111111111, \"#46039f\"], [0.2222222222222222, \"#7201a8\"], [0.3333333333333333, \"#9c179e\"], [0.4444444444444444, \"#bd3786\"], [0.5555555555555556, \"#d8576b\"], [0.6666666666666666, \"#ed7953\"], [0.7777777777777778, \"#fb9f3a\"], [0.8888888888888888, \"#fdca26\"], [1.0, \"#f0f921\"]], \"type\": \"histogram2d\"}], \"histogram2dcontour\": [{\"colorbar\": {\"outlinewidth\": 0, \"ticks\": \"\"}, \"colorscale\": [[0.0, \"#0d0887\"], [0.1111111111111111, \"#46039f\"], [0.2222222222222222, \"#7201a8\"], [0.3333333333333333, \"#9c179e\"], [0.4444444444444444, \"#bd3786\"], [0.5555555555555556, \"#d8576b\"], [0.6666666666666666, \"#ed7953\"], [0.7777777777777778, \"#fb9f3a\"], [0.8888888888888888, \"#fdca26\"], [1.0, \"#f0f921\"]], \"type\": \"histogram2dcontour\"}], \"mesh3d\": [{\"colorbar\": {\"outlinewidth\": 0, \"ticks\": \"\"}, \"type\": \"mesh3d\"}], \"parcoords\": [{\"line\": {\"colorbar\": {\"outlinewidth\": 0, \"ticks\": \"\"}}, \"type\": \"parcoords\"}], \"pie\": [{\"automargin\": true, \"type\": \"pie\"}], \"scatter\": [{\"marker\": {\"colorbar\": {\"outlinewidth\": 0, \"ticks\": \"\"}}, \"type\": \"scatter\"}], \"scatter3d\": [{\"line\": {\"colorbar\": {\"outlinewidth\": 0, \"ticks\": \"\"}}, \"marker\": {\"colorbar\": {\"outlinewidth\": 0, \"ticks\": \"\"}}, \"type\": \"scatter3d\"}], \"scattercarpet\": [{\"marker\": {\"colorbar\": {\"outlinewidth\": 0, \"ticks\": \"\"}}, \"type\": \"scattercarpet\"}], \"scattergeo\": [{\"marker\": {\"colorbar\": {\"outlinewidth\": 0, \"ticks\": \"\"}}, \"type\": \"scattergeo\"}], \"scattergl\": [{\"marker\": {\"colorbar\": {\"outlinewidth\": 0, \"ticks\": \"\"}}, \"type\": \"scattergl\"}], \"scattermapbox\": [{\"marker\": {\"colorbar\": {\"outlinewidth\": 0, \"ticks\": \"\"}}, \"type\": \"scattermapbox\"}], \"scatterpolar\": [{\"marker\": {\"colorbar\": {\"outlinewidth\": 0, \"ticks\": \"\"}}, \"type\": \"scatterpolar\"}], \"scatterpolargl\": [{\"marker\": {\"colorbar\": {\"outlinewidth\": 0, \"ticks\": \"\"}}, \"type\": \"scatterpolargl\"}], \"scatterternary\": [{\"marker\": {\"colorbar\": {\"outlinewidth\": 0, \"ticks\": \"\"}}, \"type\": \"scatterternary\"}], \"surface\": [{\"colorbar\": {\"outlinewidth\": 0, \"ticks\": \"\"}, \"colorscale\": [[0.0, \"#0d0887\"], [0.1111111111111111, \"#46039f\"], [0.2222222222222222, \"#7201a8\"], [0.3333333333333333, \"#9c179e\"], [0.4444444444444444, \"#bd3786\"], [0.5555555555555556, \"#d8576b\"], [0.6666666666666666, \"#ed7953\"], [0.7777777777777778, \"#fb9f3a\"], [0.8888888888888888, \"#fdca26\"], [1.0, \"#f0f921\"]], \"type\": \"surface\"}], \"table\": [{\"cells\": {\"fill\": {\"color\": \"#EBF0F8\"}, \"line\": {\"color\": \"white\"}}, \"header\": {\"fill\": {\"color\": \"#C8D4E3\"}, \"line\": {\"color\": \"white\"}}, \"type\": \"table\"}]}, \"layout\": {\"annotationdefaults\": {\"arrowcolor\": \"#2a3f5f\", \"arrowhead\": 0, \"arrowwidth\": 1}, \"coloraxis\": {\"colorbar\": {\"outlinewidth\": 0, \"ticks\": \"\"}}, \"colorscale\": {\"diverging\": [[0, \"#8e0152\"], [0.1, \"#c51b7d\"], [0.2, \"#de77ae\"], [0.3, \"#f1b6da\"], [0.4, \"#fde0ef\"], [0.5, \"#f7f7f7\"], [0.6, \"#e6f5d0\"], [0.7, \"#b8e186\"], [0.8, \"#7fbc41\"], [0.9, \"#4d9221\"], [1, \"#276419\"]], \"sequential\": [[0.0, \"#0d0887\"], [0.1111111111111111, \"#46039f\"], [0.2222222222222222, \"#7201a8\"], [0.3333333333333333, \"#9c179e\"], [0.4444444444444444, \"#bd3786\"], [0.5555555555555556, \"#d8576b\"], [0.6666666666666666, \"#ed7953\"], [0.7777777777777778, \"#fb9f3a\"], [0.8888888888888888, \"#fdca26\"], [1.0, \"#f0f921\"]], \"sequentialminus\": [[0.0, \"#0d0887\"], [0.1111111111111111, \"#46039f\"], [0.2222222222222222, \"#7201a8\"], [0.3333333333333333, \"#9c179e\"], [0.4444444444444444, \"#bd3786\"], [0.5555555555555556, \"#d8576b\"], [0.6666666666666666, \"#ed7953\"], [0.7777777777777778, \"#fb9f3a\"], [0.8888888888888888, \"#fdca26\"], [1.0, \"#f0f921\"]]}, \"colorway\": [\"#636efa\", \"#EF553B\", \"#00cc96\", \"#ab63fa\", \"#FFA15A\", \"#19d3f3\", \"#FF6692\", \"#B6E880\", \"#FF97FF\", \"#FECB52\"], \"font\": {\"color\": \"#2a3f5f\"}, \"geo\": {\"bgcolor\": \"white\", \"lakecolor\": \"white\", \"landcolor\": \"#E5ECF6\", \"showlakes\": true, \"showland\": true, \"subunitcolor\": \"white\"}, \"hoverlabel\": {\"align\": \"left\"}, \"hovermode\": \"closest\", \"mapbox\": {\"style\": \"light\"}, \"paper_bgcolor\": \"white\", \"plot_bgcolor\": \"#E5ECF6\", \"polar\": {\"angularaxis\": {\"gridcolor\": \"white\", \"linecolor\": \"white\", \"ticks\": \"\"}, \"bgcolor\": \"#E5ECF6\", \"radialaxis\": {\"gridcolor\": \"white\", \"linecolor\": \"white\", \"ticks\": \"\"}}, \"scene\": {\"xaxis\": {\"backgroundcolor\": \"#E5ECF6\", \"gridcolor\": \"white\", \"gridwidth\": 2, \"linecolor\": \"white\", \"showbackground\": true, \"ticks\": \"\", \"zerolinecolor\": \"white\"}, \"yaxis\": {\"backgroundcolor\": \"#E5ECF6\", \"gridcolor\": \"white\", \"gridwidth\": 2, \"linecolor\": \"white\", \"showbackground\": true, \"ticks\": \"\", \"zerolinecolor\": \"white\"}, \"zaxis\": {\"backgroundcolor\": \"#E5ECF6\", \"gridcolor\": \"white\", \"gridwidth\": 2, \"linecolor\": \"white\", \"showbackground\": true, \"ticks\": \"\", \"zerolinecolor\": \"white\"}}, \"shapedefaults\": {\"line\": {\"color\": \"#2a3f5f\"}}, \"ternary\": {\"aaxis\": {\"gridcolor\": \"white\", \"linecolor\": \"white\", \"ticks\": \"\"}, \"baxis\": {\"gridcolor\": \"white\", \"linecolor\": \"white\", \"ticks\": \"\"}, \"bgcolor\": \"#E5ECF6\", \"caxis\": {\"gridcolor\": \"white\", \"linecolor\": \"white\", \"ticks\": \"\"}}, \"title\": {\"x\": 0.05}, \"xaxis\": {\"automargin\": true, \"gridcolor\": \"white\", \"linecolor\": \"white\", \"ticks\": \"\", \"title\": {\"standoff\": 15}, \"zerolinecolor\": \"white\", \"zerolinewidth\": 2}, \"yaxis\": {\"automargin\": true, \"gridcolor\": \"white\", \"linecolor\": \"white\", \"ticks\": \"\", \"title\": {\"standoff\": 15}, \"zerolinecolor\": \"white\", \"zerolinewidth\": 2}}}, \"title\": {\"text\": \"January 2013 Sales Report\"}, \"xaxis\": {\"title\": {\"text\": \"Product Type\"}}},\n",
              "                        {\"responsive\": true}\n",
              "                    ).then(function(){\n",
              "                            \n",
              "var gd = document.getElementById('d12921c9-f939-4f95-b8d3-72077c79d0e0');\n",
              "var x = new MutationObserver(function (mutations, observer) {{\n",
              "        var display = window.getComputedStyle(gd).display;\n",
              "        if (!display || display === 'none') {{\n",
              "            console.log([gd, 'removed!']);\n",
              "            Plotly.purge(gd);\n",
              "            observer.disconnect();\n",
              "        }}\n",
              "}});\n",
              "\n",
              "// Listen for the removal of the full notebook cells\n",
              "var notebookContainer = gd.closest('#notebook-container');\n",
              "if (notebookContainer) {{\n",
              "    x.observe(notebookContainer, {childList: true});\n",
              "}}\n",
              "\n",
              "// Listen for the clearing of the current output cell\n",
              "var outputEl = gd.closest('.output');\n",
              "if (outputEl) {{\n",
              "    x.observe(outputEl, {childList: true});\n",
              "}}\n",
              "\n",
              "                        })\n",
              "                };\n",
              "                \n",
              "            </script>\n",
              "        </div>\n",
              "</body>\n",
              "</html>"
            ]
          },
          "metadata": {
            "tags": []
          }
        }
      ]
    },
    {
      "cell_type": "markdown",
      "metadata": {
        "id": "OWfFt5hArCk8"
      },
      "source": [
        "###Normalized Histogram"
      ]
    },
    {
      "cell_type": "code",
      "metadata": {
        "id": "D3HN50uNkvk9"
      },
      "source": [
        "#Normalized Histogram\n",
        "import plotly.graph_objects as go\n",
        "import numpy as np\n",
        "x = np.random.randn(500)\n",
        "\n",
        "fig = go.Figure(data=[go.Histogram(x=x, histnorm='probability')])\n",
        "fig.show()\n",
        "\n",
        "#Horizontal Histogram\n",
        "fig = go.Figure(data=[go.Histogram(y=x, histnorm='probability')])\n",
        "fig.show()"
      ],
      "execution_count": null,
      "outputs": []
    },
    {
      "cell_type": "markdown",
      "metadata": {
        "id": "VQlD6NuFrFb3"
      },
      "source": [
        "###Overlaid Histogram"
      ]
    },
    {
      "cell_type": "code",
      "metadata": {
        "id": "wSm_kT7wk567",
        "colab": {
          "base_uri": "https://localhost:8080/",
          "height": 542
        },
        "outputId": "f9ca98f5-2b77-4b0a-d07b-54d632e80ecc"
      },
      "source": [
        "#Overlaid Histogram\n",
        "import plotly.graph_objects as go\n",
        "import numpy as np\n",
        "x0 = np.random.randn(500)\n",
        "# Add 1 to shift the mean of the Gaussian distribution\n",
        "x1 = np.random.randn(500) + 1\n",
        "\n",
        "fig = go.Figure()\n",
        "fig.add_trace(go.Histogram(x=x0))\n",
        "fig.add_trace(go.Histogram(x=x1))\n",
        "\n",
        "# Overlay both histograms\n",
        "fig.update_layout(barmode='overlay')\n",
        "# Reduce opacity to see both histograms\n",
        "fig.update_traces(opacity=0.75)\n",
        "fig.show()"
      ],
      "execution_count": null,
      "outputs": [
        {
          "output_type": "display_data",
          "data": {
            "text/html": [
              "<html>\n",
              "<head><meta charset=\"utf-8\" /></head>\n",
              "<body>\n",
              "    <div>\n",
              "            <script src=\"https://cdnjs.cloudflare.com/ajax/libs/mathjax/2.7.5/MathJax.js?config=TeX-AMS-MML_SVG\"></script><script type=\"text/javascript\">if (window.MathJax) {MathJax.Hub.Config({SVG: {font: \"STIX-Web\"}});}</script>\n",
              "                <script type=\"text/javascript\">window.PlotlyConfig = {MathJaxConfig: 'local'};</script>\n",
              "        <script src=\"https://cdn.plot.ly/plotly-latest.min.js\"></script>    \n",
              "            <div id=\"8f118757-0a5d-416e-90b8-f8dc9a85f5cb\" class=\"plotly-graph-div\" style=\"height:525px; width:100%;\"></div>\n",
              "            <script type=\"text/javascript\">\n",
              "                \n",
              "                    window.PLOTLYENV=window.PLOTLYENV || {};\n",
              "                    \n",
              "                if (document.getElementById(\"8f118757-0a5d-416e-90b8-f8dc9a85f5cb\")) {\n",
              "                    Plotly.newPlot(\n",
              "                        '8f118757-0a5d-416e-90b8-f8dc9a85f5cb',\n",
              "                        [{\"opacity\": 0.75, \"type\": \"histogram\", \"x\": [-0.6681431194973062, 0.004126873936465499, -0.1191896685406302, -1.6796238435190982, 0.3500500704592853, -0.8932483772654148, -0.9624421536140086, -0.6725963943954038, 0.10907245316957931, -0.6686523401233934, -0.2221807331837195, 0.12596543524252035, 0.30539843000755396, -0.7688426560963575, 2.9728343591806046, -0.36036308777796733, 1.1129641406218942, -0.6517392831425217, 0.1692540110248032, 1.614160332617981, 0.8829047822722698, 1.6404814656314308, -2.7933668424748923, 0.9106495698508007, 1.0291952636366162, -0.29520824672622226, 0.1120781047569174, 2.3471138681301253, 0.3282078492311353, -0.09846889129897654, -0.48916159378812907, -1.6490104846119198, -0.44298098541734826, 1.4690753901328768, 2.459226887744698, 1.4300917449561872, 1.8381236054848633, -1.2721595162605188, 0.1534356591200361, 0.36160514027312407, 0.4741332799348959, 0.9619299142044181, 1.5288188245071543, 1.807288625113727, 1.7491502580276728, -0.4980371143263931, 0.9694797790233014, -0.5855894653457869, -0.4124760947089956, -1.2950147599588164, 0.29381479220154105, 0.7927673690093708, 0.8501644490569491, 3.043834266116264, -1.0843089869431954, 0.9626487442994345, -0.435175754189435, 0.9719709835813045, 0.5384973368262669, -0.8430527298087679, -0.5844698379074675, -0.029321428796671514, 0.7753544734256448, -0.5919466016273165, -0.3598666274669319, 1.295528381109592, 0.5685629863346073, -2.246377542086801, -0.19272039880192796, 0.5406939013325913, 0.1400173654069605, -0.3840676837500408, -0.1011083755756347, -1.460139095974751, 0.5120563516790697, -3.0164557999644948, 0.09655308671311502, -1.7751119959541617, 0.6479826571473946, 0.10206501677182042, 0.7567514258845079, -0.6518627765839192, -1.9799594814012473, 1.1811251082327565, 1.146455506500702, -1.98541922288366, -0.751234299128227, -1.6147949574855693, 1.5830218289025064, -0.20092445725099506, -0.9917788715107093, -0.1946609516075604, 0.013901584083585728, -0.4940780585640297, 0.5169044536358056, 0.7303655251984926, 0.139859938883675, -1.3989020323416725, 0.3609661650783039, 0.2997639796292553, -0.9109496815463025, -0.3211749927730154, -0.7243529854854076, 0.8307761106984647, 0.7414061545446102, -1.694140774839992, 0.5499694017368542, 1.62988207666554, 0.34563230090523334, 0.32244884994875767, 0.2751140600136244, -0.19375169701109546, -0.2825800215261064, -0.7830392973117358, 1.0446464913766342, 1.0668365813061695, 0.15531730805750654, -0.6131310479465948, 0.1843546714823925, -1.6685508094860464, -0.8408761389701415, -1.2801443435523754, 0.23103879319035614, -1.283890464567112, -0.09146161782221121, -0.5888277323843627, -0.06993469573717255, -1.1004223271920623, -1.3812784691521696, 0.1997245594643956, 1.6856986578207216, 0.9313545171551747, -1.0999156854196577, -0.5033561909957555, -0.8529865822096664, -0.021207979100173423, 0.4875767899553244, -0.035438567674533024, 0.4732363210632806, -1.0599716920643585, -0.7214476720272245, -0.07141410540746164, -0.2847658899787436, -0.3541689585022417, -0.3308789320151526, 1.114981545313941, -1.1365979334818495, 0.8132085756199811, 0.7729532339270812, 0.5011008091372768, -1.1648465566188053, -0.5499800213024186, -0.3935954770195274, 1.3291228888890978, 1.7073419129644123, 0.4189315624617041, -1.2682567573362287, -0.45842289630600364, 0.10643091550504519, 0.7701623750666045, 0.5467882253805975, 0.9988031602122233, -1.004993353731853, 1.9016521112691998, 1.829195624959049, 1.1612731277622441, -0.2498024042499891, 0.14864182996059255, 1.2321668238240466, -0.5442885684353335, -1.0030098236966063, -1.309128320243587, -1.1292367833198758, 0.809317091330924, 0.19781246733831231, 0.2051050709592321, 0.026124487331618946, -2.3992876031596, -1.0714465795553714, 0.5982618340181493, -0.19288939008409575, -0.747962499704678, -0.43847359484965015, -0.969533891033731, 0.7831557611238354, -0.766497875078657, 2.1212294360937927, 1.4525714376522758, 0.19886588339181258, 0.40257600684252587, -0.6334308740217127, 0.6587449014166833, 0.2213309779337436, -0.6194270074235108, 1.0634590236087624, 0.6385470541830799, 0.36774561600085975, 1.3167494548449732, 1.8311124310355558, 1.1418507959542026, 0.3365453270671219, -0.1386502890648639, -0.21238565676555266, -0.11340884098183902, -0.3568286211566307, -0.38910160150681655, -1.876961108768796, 0.12408250371137529, 1.0618877506122946, -1.2062004434303493, -0.7908583537269122, -0.4073577247544867, -0.5156133492040093, -0.7404170308818853, 0.6032198555423702, 0.19888079629749034, 0.4026108846403487, -0.566742000330301, 1.2477081111674289, -0.863555048610661, 0.41727627360469915, -0.6877502620802168, -0.6784584887520219, 0.38420687167434764, -0.3408162864539563, 1.148384818921285, -0.05571809729538285, 2.1390374855000864, 1.034279166242407, 0.5749499319307686, 1.1675659689059705, 0.7518268069177086, 2.054435767199765, -0.611859995380229, 2.0505388972653047, 0.03552495904039536, 0.3888645904674493, 0.3507229988580624, 0.430469596991926, 0.6667557887687698, -1.5468781063133774, 0.6409948049260441, -0.6591651106822163, -1.4790047536157567, -0.20884955104184497, 0.17807467145276706, -1.1437919031341057, -0.04133066569297516, -0.23364743824640472, 1.2276486362551406, 0.029223394103337845, -1.6432307115455622, 0.3514653164445682, -0.4894450379478162, -0.16217674685017958, 0.20665422291091584, 0.6878411422783668, 0.49401251760054904, 0.351161392858796, -0.3308507224601602, -1.0534614109755835, -0.7076699867216372, 2.2633108428872095, 1.3350944109276701, 1.6173477475761158, 0.16397146005910704, -1.1106220429723588, -1.5903450722424899, 0.9665747404993065, -0.47575099785945363, -0.24464332830467386, -1.1870231122916373, 0.3650730205597216, 0.07069855330891515, -0.8902208507338258, 0.585573626408924, 1.223744978856695, 0.37115499879816893, -0.41346640846086, 0.5082438501004981, -1.9816307492998742, -0.6800223562983267, 0.1254344548235514, -0.39909691116029966, 0.797130015727666, 0.28761683467324484, 1.9693812711756014, -2.1218159345450567, 0.6414662132891955, -1.6982614976905053, 0.7371911440333272, -1.4818117463686078, 1.0779649515073435, 0.10162960599908877, -2.7411781508006747, 2.077231394106634, 0.7472855249491321, 0.09014637839893407, 2.5595978598380302, -0.562402473686662, -0.2671386493899884, 0.6653656882537653, 0.599773668437394, -1.2464313633857698, -1.998175125330039, 0.439726500320743, 0.0856302750041435, -0.9609044692842481, -0.6310539926230436, 0.37206389907579357, 0.4865236463490444, -0.4702981928031213, 0.2805558247752477, 0.30122764101660654, 0.2508112037520323, 1.1873611454079542, 0.925708497222396, -0.4242893718416939, -1.3995351649581802, -1.7376630338869328, 0.39988261920092116, 0.9117087186258008, 0.4322555088106378, -0.19807041080697393, 0.905511200656188, 1.366309143131174, 0.6010150986957015, 0.3828571597141894, 0.462478362996902, 0.7288679668738772, -1.4066599391201513, 0.8250024122198313, 1.0806325815413578, 0.5927866032223671, 0.1990941998561369, -0.9068281916515235, -1.7818750021562073, 0.020308839040765792, -1.1840303602936981, 1.6860058047239233, 0.8552214762581893, 0.7594106699717788, 1.616006712288467, 0.9024412713816133, 0.9898070720799813, 0.3366072240686428, -0.5857387349890872, 0.2651712136374316, -0.22216967459311696, 0.9840479614841969, -0.0055382393631091195, 0.0677243061713712, -0.3459313085658, -0.11539111542301204, 0.7979994268100982, -1.212114180388414, -0.31949805127333597, 1.4454763031133782, 0.8475588997237643, 1.6943440698383365, 0.9223275999054158, 2.345596966821347, 0.06862377687445902, -0.5070007661707038, 1.1618193095936078, -2.443553302407874, -1.8544806250997081, -0.24815185946206783, 1.203922342943026, -0.728894238193354, 0.31449707546402594, 1.6459081584375268, -0.41342432931108003, 1.5325679725242993, -0.3747674435751694, 2.464376434437522, -0.12105593472909722, -0.2428681394383378, -1.7453193502202933, 0.3642446981023185, -0.8722301255611943, 0.3232031755760368, -1.1777964253493927, -0.09289953711547098, 1.352477530330294, -1.2933023496386937, -1.507065346136466, 1.0568498527710861, 2.25589364779355, -0.2529224601948487, -0.852651897413632, -1.453159827452608, 0.5773249856563278, 0.45917687485720227, -0.68355743646042, 1.617621217451242, -0.2417769470033557, 1.1619517481325439, -0.1918454136474478, -2.453983726369431, -1.5732847573333442, -0.7956144675922648, -1.9322623774103387, -1.2714752568526133, -0.12277905570589877, 1.0233184837086085, 0.40851001415893157, -0.7197867844446733, -1.2680124058046303, -0.9881918422492652, 0.172410641189896, -1.3931773320379754, -1.0625873344307595, 0.6382223276863522, -0.45249946252453194, 0.276480530998135, 0.9567811501882955, 0.4159783089516175, -1.6301950051928762, -0.12507287926811853, 0.021037876622052254, -0.4690707561614683, -1.6206627668263751, -1.6752408194829842, 2.1016492304123457, -0.4868938777141062, -0.7286389064828126, -0.6677501934315596, -0.20904326993313405, -2.086215563672191, -0.3962322972311396, 0.37549117240105323, 0.28510395792245036, 1.2219134756610954, -0.1812823737572118, 0.3620593841641335, -1.4973072294614482, -1.6087394709045248, 1.3462149985032006, 0.0004507308262084145, 0.6821599854540338, -0.8853775873569056, 1.5454003840742179, 1.026775274369165, 0.7988628589128409, -0.8263715594589135, -0.4132479762816185, -2.1462107007269076, 0.09216270741072702, 0.0848721137446677, 0.42507247675495147, 0.31525613443011014, -0.7800385514157726, -0.5097867463184271, -0.2907144494125385, -0.6030523583173635, 0.4592887002070705, -1.2156841176662123, 1.613560844543412, 1.314887497636121, 1.0579098712329729, -0.4809477870377525, -1.7895002999008522, 0.09349176043482073, -0.23550350722181618, 1.374827351567295, 1.0394123342712809, -0.3478353942200328, 0.753507838971714, 0.7604726043302703, 0.5640076289804725, -0.9616362877922007, -0.5504115293437523, 1.7871231864600106, -2.1398997464765688, 0.578128676183913, 0.8408269771397632, 0.6604376750305725, -1.0975062921352954, -0.7353929579149311, -0.023677641110640354, 0.5950082868029725, -0.47516342021259406, 0.37179067682624956, -0.2075150669671608, -0.8434024567160795, -1.7185677624454887, -0.14433967199927483, -0.32935293366363255, 0.829567808425027, 0.402331702808685, -0.41882157954564864, 0.5446004090913183, 1.020351507060972, -1.9147020415977316, -0.706198020429798, -0.4089799514803624, 0.5409803924793917, 1.8657663741489148, -0.7557545344343207]}, {\"opacity\": 0.75, \"type\": \"histogram\", \"x\": [-0.06272640759211212, 1.3442910421527807, 2.021120905781129, -1.574743302845829, 2.5311793874029, 0.760530209290909, 2.3229438846073194, -0.5208003717684078, 1.615830800383399, -0.2968304842730394, 0.3522826811519507, 1.5615426873915277, 1.9282775847701727, 0.7819504623425365, 3.168745131054049, -0.8351574576965635, 1.3195915628779793, 0.2524945930122793, 0.682678804062847, 0.5761135346707242, 0.8663122600519342, 1.7660590990555411, 1.9355453872900035, 0.78808742066293, 1.5833333265487712, 0.8566534710999825, -0.20374638905339615, -0.06929588146489096, 0.7471549531144102, 0.1529176224807114, 1.5435639221872732, 1.1858515338090463, 3.090611721851714, -0.13909037264643342, 1.1577749392164378, 2.0424150342359346, 0.0938683949777559, 1.9866432072888518, 1.0126432961236993, 2.5286087872426117, 0.025325595333501982, 3.0340558993869053, 0.6308340488269306, 1.9353066549861782, 1.4630880564867386, 1.019418134575591, 0.9109577741582794, 0.7960532913999605, -0.2537347309096154, 0.9056597853295745, 3.1380130382998646, 1.1215301580348387, 1.5883752305106373, 0.12501176666185343, 0.047404077068676664, 0.3499114458875784, 1.1404648881870663, 0.8432167431017314, -0.6028925921941732, 0.9615722333959306, -0.5621011629906003, 0.9755789984637084, 1.1230322558688366, 0.8482674604492619, 1.4943096656758663, 0.7515499210127595, 0.6412048579639034, 1.8122641439913036, -0.25307357083637405, 1.8325413746956842, 0.7141546091589354, 2.1540989252835256, 0.9731422568075717, 2.2631054787708695, 0.537817008997876, 0.6865282814962401, 0.3854437434200664, 2.129722558231224, 2.217634102883669, 0.4219752264187768, -0.06909146196054983, 1.1529631702164094, 1.6924577271069787, 0.42117831272130124, 1.6576609740884056, 1.9739879937533047, 0.8297009280925298, 1.8317518451763903, -0.6321799727403776, -0.002645289779576343, 0.518661617201115, 1.0445793203284874, 1.1075437809153625, 0.6725822270814286, 2.1463350014882514, 1.9784489294730983, 1.9066091059854755, -0.4754856562047638, 1.8488713937715295, 0.07843748097834247, 0.6615698268131838, 1.279522881210955, 1.7505108622663972, 2.8149236664075135, 1.4578497762325873, 1.6776053661383288, 1.5703116773931365, 1.0023992011634204, 0.4975857071208991, 1.0926432726334312, 0.008698135999972267, 1.6118562920926347, 0.9662380652151025, 0.4258204770014292, 1.5774398010655002, 0.8191085498453411, 2.342572267979331, 2.741933069610322, 0.7275278737024122, 0.7879440752629543, 1.801010107415691, 0.047860505556932664, 0.11059248027612645, 0.9578818068538889, 1.1268478384167975, 1.9819668635699685, 1.0894271956574033, 1.9956234925161667, 1.218623340879308, 1.6647429973155656, 0.9065326200745559, 3.4382603635266107, 1.3833200455748558, -0.5374470286093471, -0.9026114278084356, -0.1507937854618191, 0.5629364094465392, 1.3227901866246476, 0.8285607675497213, -0.324825665443796, -0.37286237000185474, 1.6745781191361617, 2.8729986425150367, -0.4162334700840038, 1.3100301874085865, 1.1063652445667724, -0.5111502878482346, 1.5266487197926835, 2.0513508360672303, 1.1364685283206717, 1.3787085228212388, 0.35971339667728863, 0.9264070774586871, 0.8489983416061433, 0.48067658545364067, 0.7730564820426855, 1.370293866759212, 1.8787857190848174, 1.911356531404917, 1.5897590648105329, 1.0664987049696746, 2.1121768779565593, 1.8000775637958015, 0.17732055918574208, 0.001407849664449956, 0.3472294751258541, -0.17066723820479957, 2.2675298582071717, 1.6622933708869743, 0.8797631025229429, -0.30908146838082273, 1.8981132435513857, 0.09924044302086321, 0.40116710504180786, 0.5202287208452014, 1.5337398709628016, 1.9911189192219196, 2.105774940637124, 1.4943308961982877, 0.6833669849186461, -0.174204886506522, 0.8096847894168209, 1.9515897375691769, 1.1635553186378138, 1.1429643434191576, 0.973068801074283, 1.3260247330563988, 2.48268898997697, 0.12183154785653061, 0.7249534877298554, 0.09876683963478239, 2.431559046105611, 1.2197442183710203, 0.7266404715777847, 0.9805115814695019, 0.3776405921033116, 1.2795579087450313, 1.605682156192319, 1.969067813028031, -0.19711271845666323, 1.624131678215444, 1.7058623602667922, 0.6285392252280084, 3.085849145224632, 1.557067276585929, 3.5197030568148766, 1.2510744533222797, -0.05369343709963936, -0.8027687624838367, 1.3449150023294607, 0.5520796871524682, 0.5473412808151802, 1.0151758979788803, 0.660687361458751, 2.3500225669139727, -1.2388320422171195, 0.6127078873108751, 1.568848174733057, 2.484932044589419, 1.324545287902969, 1.6947584901993875, 1.628616752932987, 2.979441582178983, 0.04876096857683587, 0.6978669367106523, 0.6842448792786915, 0.6736451455951753, 2.7356251479464957, -0.5123338072560877, -0.10332544582223901, -0.7765027516874146, 0.977134192733648, -0.6200535430239791, 0.6339385926014752, 0.39966242549963193, 0.07083073098553483, -0.0813670725049267, 2.7386029320650938, 3.166952676049557, 0.8674227477967413, -0.38715679765730737, 0.8077417809664538, 0.9770453946351012, 0.9153295708283133, 1.2223190400363426, -0.05836691162232288, 2.39732596697751, 1.0665857245291483, -0.2557053267022087, 0.7034541879376643, 1.077622413290903, 2.172954599431459, 0.6361293119565039, 0.3854788573743386, 2.0509311290824135, 0.7668031620076774, 2.931784156607719, 0.9729605377427455, 2.5439479009452457, -1.3582819482937265, -0.16067656656130058, -1.9933966009434214, 1.334705102797908, 0.7389275464925932, -0.0181642304031715, 0.627345577546012, 1.4615377097534235, 0.0737021106029605, 0.5021786471546679, -0.7927724928749547, 2.441182198544931, -0.6608956846688616, 2.3520538989292525, 1.4665338576235423, -0.017995007809167518, 0.10840795844060747, 1.935721263876645, 2.915875657334097, 0.5281745029993341, -0.5773369118349598, 1.06993710416499, 0.33494582507687565, 1.3148663152582374, 1.6767733707371162, 2.1101019972529533, 1.4151826621807877, -0.6795510890044305, 2.0196554934212028, 0.4210037099365749, 0.05901814855065701, 0.6956934241598283, 2.925364137518123, 0.7814842435838127, 1.0625265422470493, 0.8997256072787272, 0.5986419074798839, 0.27484917890569927, 0.498216649877919, 0.40076129199680655, 0.6755575132100475, 2.345092318275184, 0.5465785169330674, 1.458848273058765, 1.1896168566946863, 1.5347795179974877, 1.1793506174836184, 2.5275473877288146, 0.5278355654287987, 0.8749705491493518, 1.8003458705920599, 2.5295534766094088, 0.07546830514495462, 2.2182597306599567, 2.117658555966467, 2.3400244792325937, 0.5202725042464333, 0.5107227258897098, -0.2449077020048107, 1.7251607129748747, -0.6817204757132984, 1.802766360247019, 0.9308709431370352, 0.7782798620409859, 1.561775295585984, 1.6485641062997582, 1.2073172485795807, 0.7628073317807762, 1.118973026606789, 1.9944048892953274, 0.7522156473022168, 0.12190075304038384, 2.6939010145077766, 1.9981212587143808, 2.7811871305674134, 1.6886131681083865, 1.0991926697605081, 0.9295508169055222, -0.9196359020553326, 1.7834259276495357, 0.10934465503578772, 0.09366698309493704, 1.6261278483644837, 0.5715476748966561, -0.8995913155115192, 0.3571423335291328, 0.019460640588999545, 0.6087585334719992, -0.8977541599642949, 0.5195034629203868, 1.5332864008242315, 1.4134519137805563, 0.8445145537986856, 0.8692768951576081, -0.5070931827111798, 0.4413441404948837, -0.7506524493963473, 0.6096523053014369, 0.0016741432176181625, 0.5690185533535173, -0.8287313830381351, 0.4117564242462606, 0.3610782101304608, 1.3204962097766608, -1.4174362848018487, 3.2972390365382522, 0.7559182929390854, 0.7208293754997647, -0.30052463216367764, 1.5792932668791009, 1.264793606253901, 1.4962031548801904, 0.7277579308847137, 2.016619998156698, 1.8812852624664091, 0.428981607965064, 0.38569300454540867, 0.6092230966783017, 1.5358001854206424, 1.395985053663614, 0.9153160967454101, 0.05239671279715408, 2.6329484903924807, 1.460604321354631, 1.676726743207304, 1.0849768050223036, 2.564071709512767, 0.41915531383265403, 2.4368670207791485, 2.0006025686887328, 1.4876479511301095, 2.834090147371807, 1.2854239556840577, -0.8501522738234966, 0.21007206371877962, 0.791588778304094, 1.601941561441088, 0.25370544608603385, -0.20544361302630199, 1.865203590502967, 2.3767872298308355, 0.7173873557302494, -0.003920633774020965, 0.11609003189680334, 0.2487608900314866, 0.8153271613159622, 0.28065758036671995, 0.2434325662357174, 0.6901602919533376, 1.56702060675909, 0.20980907224655132, 1.446670391850362, 1.0701991896886132, 2.2651246310984954, 1.27031679107975, 2.1382712912225488, 2.7777606139183737, 1.950353660220125, 0.3243988192366972, 0.8176403388806026, -0.21012569776488332, 1.436651397711738, 0.3050439590630256, -0.22797352364704748, 1.2648690426695808, 0.054560189709565, 2.3261448384846615, 1.8414498481089079, -0.6434577095697278, 0.3442145221537455, 2.2788288013439537, 0.2567775253959659, 1.2488290502048993, 0.3385213978464937, 1.6390091562461737, 1.5176582686786528, -0.14574974627929027, 0.08477625047859172, 1.203823332408859, 2.071598901046973, 0.6873754758963934, 0.41813149453159393, 1.7278166344513977, 1.4924371898955577, 0.24026700425093883, -0.49517965895299754, 0.5979307104195346, 0.4839814407670081, -0.6038206628781213, 0.7104447726645945, 0.9667371722103387, 0.28509069703074974, 0.48480090435622236, 1.6899601246617373, 0.783132000922806, 1.961814002632173, 1.2107008892995554, -0.014426709489800738, 3.454196168597774, 0.5551569338928999, 1.500672485547491, 0.2838364587584722, 0.12555293515849075, 1.4775156203532083, 0.3944931029119193, -0.2188253127820161, 0.5871779984289957, 1.1164131992135253, 0.4783432778598866, 2.1273114072210184, 2.1566730045008495, 1.4322664477925504, 1.365678895672826, 2.0572875911754878, 0.20553535514707688, 2.690409889606396, 0.5444187940109382, 0.21740614474145836, 0.7663981915900226, 0.6126300942631655, 0.09889042135461457, 1.5041884077345227, 0.5553938073140297, 0.9727778271390698, 0.3438728377294832, 0.1647576287008361, 0.3638661684893316, 0.41135684785597837, 1.2893743574145984, 0.729899582012919, 1.258071514091628, 0.2759375279152061, 0.5115174003964189, -0.27993103042538303, 1.2957933811029174, 1.5545042922331458, 0.8879216416953355, 0.8544182251814669, 1.7987954271258384, 0.09781619950523301, 0.1850919498698944]}],\n",
              "                        {\"barmode\": \"overlay\", \"template\": {\"data\": {\"bar\": [{\"error_x\": {\"color\": \"#2a3f5f\"}, \"error_y\": {\"color\": \"#2a3f5f\"}, \"marker\": {\"line\": {\"color\": \"#E5ECF6\", \"width\": 0.5}}, \"type\": \"bar\"}], \"barpolar\": [{\"marker\": {\"line\": {\"color\": \"#E5ECF6\", \"width\": 0.5}}, \"type\": \"barpolar\"}], \"carpet\": [{\"aaxis\": {\"endlinecolor\": \"#2a3f5f\", \"gridcolor\": \"white\", \"linecolor\": \"white\", \"minorgridcolor\": \"white\", \"startlinecolor\": \"#2a3f5f\"}, \"baxis\": {\"endlinecolor\": \"#2a3f5f\", \"gridcolor\": \"white\", \"linecolor\": \"white\", \"minorgridcolor\": \"white\", \"startlinecolor\": \"#2a3f5f\"}, \"type\": \"carpet\"}], \"choropleth\": [{\"colorbar\": {\"outlinewidth\": 0, \"ticks\": \"\"}, \"type\": \"choropleth\"}], \"contour\": [{\"colorbar\": {\"outlinewidth\": 0, \"ticks\": \"\"}, \"colorscale\": [[0.0, \"#0d0887\"], [0.1111111111111111, \"#46039f\"], [0.2222222222222222, \"#7201a8\"], [0.3333333333333333, \"#9c179e\"], [0.4444444444444444, \"#bd3786\"], [0.5555555555555556, \"#d8576b\"], [0.6666666666666666, \"#ed7953\"], [0.7777777777777778, \"#fb9f3a\"], [0.8888888888888888, \"#fdca26\"], [1.0, \"#f0f921\"]], \"type\": \"contour\"}], \"contourcarpet\": [{\"colorbar\": {\"outlinewidth\": 0, \"ticks\": \"\"}, \"type\": \"contourcarpet\"}], \"heatmap\": [{\"colorbar\": {\"outlinewidth\": 0, \"ticks\": \"\"}, \"colorscale\": [[0.0, \"#0d0887\"], [0.1111111111111111, \"#46039f\"], [0.2222222222222222, \"#7201a8\"], [0.3333333333333333, \"#9c179e\"], [0.4444444444444444, \"#bd3786\"], [0.5555555555555556, \"#d8576b\"], [0.6666666666666666, \"#ed7953\"], [0.7777777777777778, \"#fb9f3a\"], [0.8888888888888888, \"#fdca26\"], [1.0, \"#f0f921\"]], \"type\": \"heatmap\"}], \"heatmapgl\": [{\"colorbar\": {\"outlinewidth\": 0, \"ticks\": \"\"}, \"colorscale\": [[0.0, \"#0d0887\"], [0.1111111111111111, \"#46039f\"], [0.2222222222222222, \"#7201a8\"], [0.3333333333333333, \"#9c179e\"], [0.4444444444444444, \"#bd3786\"], [0.5555555555555556, \"#d8576b\"], [0.6666666666666666, \"#ed7953\"], [0.7777777777777778, \"#fb9f3a\"], [0.8888888888888888, \"#fdca26\"], [1.0, \"#f0f921\"]], \"type\": \"heatmapgl\"}], \"histogram\": [{\"marker\": {\"colorbar\": {\"outlinewidth\": 0, \"ticks\": \"\"}}, \"type\": \"histogram\"}], \"histogram2d\": [{\"colorbar\": {\"outlinewidth\": 0, \"ticks\": \"\"}, \"colorscale\": [[0.0, \"#0d0887\"], [0.1111111111111111, \"#46039f\"], [0.2222222222222222, \"#7201a8\"], [0.3333333333333333, \"#9c179e\"], [0.4444444444444444, \"#bd3786\"], [0.5555555555555556, \"#d8576b\"], [0.6666666666666666, \"#ed7953\"], [0.7777777777777778, \"#fb9f3a\"], [0.8888888888888888, \"#fdca26\"], [1.0, \"#f0f921\"]], \"type\": \"histogram2d\"}], \"histogram2dcontour\": [{\"colorbar\": {\"outlinewidth\": 0, \"ticks\": \"\"}, \"colorscale\": [[0.0, \"#0d0887\"], [0.1111111111111111, \"#46039f\"], [0.2222222222222222, \"#7201a8\"], [0.3333333333333333, \"#9c179e\"], [0.4444444444444444, \"#bd3786\"], [0.5555555555555556, \"#d8576b\"], [0.6666666666666666, \"#ed7953\"], [0.7777777777777778, \"#fb9f3a\"], [0.8888888888888888, \"#fdca26\"], [1.0, \"#f0f921\"]], \"type\": \"histogram2dcontour\"}], \"mesh3d\": [{\"colorbar\": {\"outlinewidth\": 0, \"ticks\": \"\"}, \"type\": \"mesh3d\"}], \"parcoords\": [{\"line\": {\"colorbar\": {\"outlinewidth\": 0, \"ticks\": \"\"}}, \"type\": \"parcoords\"}], \"pie\": [{\"automargin\": true, \"type\": \"pie\"}], \"scatter\": [{\"marker\": {\"colorbar\": {\"outlinewidth\": 0, \"ticks\": \"\"}}, \"type\": \"scatter\"}], \"scatter3d\": [{\"line\": {\"colorbar\": {\"outlinewidth\": 0, \"ticks\": \"\"}}, \"marker\": {\"colorbar\": {\"outlinewidth\": 0, \"ticks\": \"\"}}, \"type\": \"scatter3d\"}], \"scattercarpet\": [{\"marker\": {\"colorbar\": {\"outlinewidth\": 0, \"ticks\": \"\"}}, \"type\": \"scattercarpet\"}], \"scattergeo\": [{\"marker\": {\"colorbar\": {\"outlinewidth\": 0, \"ticks\": \"\"}}, \"type\": \"scattergeo\"}], \"scattergl\": [{\"marker\": {\"colorbar\": {\"outlinewidth\": 0, \"ticks\": \"\"}}, \"type\": \"scattergl\"}], \"scattermapbox\": [{\"marker\": {\"colorbar\": {\"outlinewidth\": 0, \"ticks\": \"\"}}, \"type\": \"scattermapbox\"}], \"scatterpolar\": [{\"marker\": {\"colorbar\": {\"outlinewidth\": 0, \"ticks\": \"\"}}, \"type\": \"scatterpolar\"}], \"scatterpolargl\": [{\"marker\": {\"colorbar\": {\"outlinewidth\": 0, \"ticks\": \"\"}}, \"type\": \"scatterpolargl\"}], \"scatterternary\": [{\"marker\": {\"colorbar\": {\"outlinewidth\": 0, \"ticks\": \"\"}}, \"type\": \"scatterternary\"}], \"surface\": [{\"colorbar\": {\"outlinewidth\": 0, \"ticks\": \"\"}, \"colorscale\": [[0.0, \"#0d0887\"], [0.1111111111111111, \"#46039f\"], [0.2222222222222222, \"#7201a8\"], [0.3333333333333333, \"#9c179e\"], [0.4444444444444444, \"#bd3786\"], [0.5555555555555556, \"#d8576b\"], [0.6666666666666666, \"#ed7953\"], [0.7777777777777778, \"#fb9f3a\"], [0.8888888888888888, \"#fdca26\"], [1.0, \"#f0f921\"]], \"type\": \"surface\"}], \"table\": [{\"cells\": {\"fill\": {\"color\": \"#EBF0F8\"}, \"line\": {\"color\": \"white\"}}, \"header\": {\"fill\": {\"color\": \"#C8D4E3\"}, \"line\": {\"color\": \"white\"}}, \"type\": \"table\"}]}, \"layout\": {\"annotationdefaults\": {\"arrowcolor\": \"#2a3f5f\", \"arrowhead\": 0, \"arrowwidth\": 1}, \"coloraxis\": {\"colorbar\": {\"outlinewidth\": 0, \"ticks\": \"\"}}, \"colorscale\": {\"diverging\": [[0, \"#8e0152\"], [0.1, \"#c51b7d\"], [0.2, \"#de77ae\"], [0.3, \"#f1b6da\"], [0.4, \"#fde0ef\"], [0.5, \"#f7f7f7\"], [0.6, \"#e6f5d0\"], [0.7, \"#b8e186\"], [0.8, \"#7fbc41\"], [0.9, \"#4d9221\"], [1, \"#276419\"]], \"sequential\": [[0.0, \"#0d0887\"], [0.1111111111111111, \"#46039f\"], [0.2222222222222222, \"#7201a8\"], [0.3333333333333333, \"#9c179e\"], [0.4444444444444444, \"#bd3786\"], [0.5555555555555556, \"#d8576b\"], [0.6666666666666666, \"#ed7953\"], [0.7777777777777778, \"#fb9f3a\"], [0.8888888888888888, \"#fdca26\"], [1.0, \"#f0f921\"]], \"sequentialminus\": [[0.0, \"#0d0887\"], [0.1111111111111111, \"#46039f\"], [0.2222222222222222, \"#7201a8\"], [0.3333333333333333, \"#9c179e\"], [0.4444444444444444, \"#bd3786\"], [0.5555555555555556, \"#d8576b\"], [0.6666666666666666, \"#ed7953\"], [0.7777777777777778, \"#fb9f3a\"], [0.8888888888888888, \"#fdca26\"], [1.0, \"#f0f921\"]]}, \"colorway\": [\"#636efa\", \"#EF553B\", \"#00cc96\", \"#ab63fa\", \"#FFA15A\", \"#19d3f3\", \"#FF6692\", \"#B6E880\", \"#FF97FF\", \"#FECB52\"], \"font\": {\"color\": \"#2a3f5f\"}, \"geo\": {\"bgcolor\": \"white\", \"lakecolor\": \"white\", \"landcolor\": \"#E5ECF6\", \"showlakes\": true, \"showland\": true, \"subunitcolor\": \"white\"}, \"hoverlabel\": {\"align\": \"left\"}, \"hovermode\": \"closest\", \"mapbox\": {\"style\": \"light\"}, \"paper_bgcolor\": \"white\", \"plot_bgcolor\": \"#E5ECF6\", \"polar\": {\"angularaxis\": {\"gridcolor\": \"white\", \"linecolor\": \"white\", \"ticks\": \"\"}, \"bgcolor\": \"#E5ECF6\", \"radialaxis\": {\"gridcolor\": \"white\", \"linecolor\": \"white\", \"ticks\": \"\"}}, \"scene\": {\"xaxis\": {\"backgroundcolor\": \"#E5ECF6\", \"gridcolor\": \"white\", \"gridwidth\": 2, \"linecolor\": \"white\", \"showbackground\": true, \"ticks\": \"\", \"zerolinecolor\": \"white\"}, \"yaxis\": {\"backgroundcolor\": \"#E5ECF6\", \"gridcolor\": \"white\", \"gridwidth\": 2, \"linecolor\": \"white\", \"showbackground\": true, \"ticks\": \"\", \"zerolinecolor\": \"white\"}, \"zaxis\": {\"backgroundcolor\": \"#E5ECF6\", \"gridcolor\": \"white\", \"gridwidth\": 2, \"linecolor\": \"white\", \"showbackground\": true, \"ticks\": \"\", \"zerolinecolor\": \"white\"}}, \"shapedefaults\": {\"line\": {\"color\": \"#2a3f5f\"}}, \"ternary\": {\"aaxis\": {\"gridcolor\": \"white\", \"linecolor\": \"white\", \"ticks\": \"\"}, \"baxis\": {\"gridcolor\": \"white\", \"linecolor\": \"white\", \"ticks\": \"\"}, \"bgcolor\": \"#E5ECF6\", \"caxis\": {\"gridcolor\": \"white\", \"linecolor\": \"white\", \"ticks\": \"\"}}, \"title\": {\"x\": 0.05}, \"xaxis\": {\"automargin\": true, \"gridcolor\": \"white\", \"linecolor\": \"white\", \"ticks\": \"\", \"title\": {\"standoff\": 15}, \"zerolinecolor\": \"white\", \"zerolinewidth\": 2}, \"yaxis\": {\"automargin\": true, \"gridcolor\": \"white\", \"linecolor\": \"white\", \"ticks\": \"\", \"title\": {\"standoff\": 15}, \"zerolinecolor\": \"white\", \"zerolinewidth\": 2}}}},\n",
              "                        {\"responsive\": true}\n",
              "                    ).then(function(){\n",
              "                            \n",
              "var gd = document.getElementById('8f118757-0a5d-416e-90b8-f8dc9a85f5cb');\n",
              "var x = new MutationObserver(function (mutations, observer) {{\n",
              "        var display = window.getComputedStyle(gd).display;\n",
              "        if (!display || display === 'none') {{\n",
              "            console.log([gd, 'removed!']);\n",
              "            Plotly.purge(gd);\n",
              "            observer.disconnect();\n",
              "        }}\n",
              "}});\n",
              "\n",
              "// Listen for the removal of the full notebook cells\n",
              "var notebookContainer = gd.closest('#notebook-container');\n",
              "if (notebookContainer) {{\n",
              "    x.observe(notebookContainer, {childList: true});\n",
              "}}\n",
              "\n",
              "// Listen for the clearing of the current output cell\n",
              "var outputEl = gd.closest('.output');\n",
              "if (outputEl) {{\n",
              "    x.observe(outputEl, {childList: true});\n",
              "}}\n",
              "\n",
              "                        })\n",
              "                };\n",
              "                \n",
              "            </script>\n",
              "        </div>\n",
              "</body>\n",
              "</html>"
            ]
          },
          "metadata": {
            "tags": []
          }
        }
      ]
    },
    {
      "cell_type": "markdown",
      "metadata": {
        "id": "8g0cHmlTrKRN"
      },
      "source": [
        "###Stacked Histogram"
      ]
    },
    {
      "cell_type": "code",
      "metadata": {
        "colab": {
          "base_uri": "https://localhost:8080/",
          "height": 542
        },
        "id": "rW1ff416qxCf",
        "outputId": "a56aa7bc-06da-4c5e-9d29-11ef6b5e40e3"
      },
      "source": [
        "#Stacked Histograms\n",
        "fig = go.Figure()\n",
        "fig.add_trace(go.Histogram(x=x0))\n",
        "fig.add_trace(go.Histogram(x=x1))\n",
        "\n",
        "# The two histograms are drawn on top of another\n",
        "fig.update_layout(barmode='stack')\n",
        "fig.show()"
      ],
      "execution_count": null,
      "outputs": [
        {
          "output_type": "display_data",
          "data": {
            "text/html": [
              "<html>\n",
              "<head><meta charset=\"utf-8\" /></head>\n",
              "<body>\n",
              "    <div>\n",
              "            <script src=\"https://cdnjs.cloudflare.com/ajax/libs/mathjax/2.7.5/MathJax.js?config=TeX-AMS-MML_SVG\"></script><script type=\"text/javascript\">if (window.MathJax) {MathJax.Hub.Config({SVG: {font: \"STIX-Web\"}});}</script>\n",
              "                <script type=\"text/javascript\">window.PlotlyConfig = {MathJaxConfig: 'local'};</script>\n",
              "        <script src=\"https://cdn.plot.ly/plotly-latest.min.js\"></script>    \n",
              "            <div id=\"b3e82a6b-02a4-4b4b-9554-22a9d67b5866\" class=\"plotly-graph-div\" style=\"height:525px; width:100%;\"></div>\n",
              "            <script type=\"text/javascript\">\n",
              "                \n",
              "                    window.PLOTLYENV=window.PLOTLYENV || {};\n",
              "                    \n",
              "                if (document.getElementById(\"b3e82a6b-02a4-4b4b-9554-22a9d67b5866\")) {\n",
              "                    Plotly.newPlot(\n",
              "                        'b3e82a6b-02a4-4b4b-9554-22a9d67b5866',\n",
              "                        [{\"type\": \"histogram\", \"x\": [-0.6681431194973062, 0.004126873936465499, -0.1191896685406302, -1.6796238435190982, 0.3500500704592853, -0.8932483772654148, -0.9624421536140086, -0.6725963943954038, 0.10907245316957931, -0.6686523401233934, -0.2221807331837195, 0.12596543524252035, 0.30539843000755396, -0.7688426560963575, 2.9728343591806046, -0.36036308777796733, 1.1129641406218942, -0.6517392831425217, 0.1692540110248032, 1.614160332617981, 0.8829047822722698, 1.6404814656314308, -2.7933668424748923, 0.9106495698508007, 1.0291952636366162, -0.29520824672622226, 0.1120781047569174, 2.3471138681301253, 0.3282078492311353, -0.09846889129897654, -0.48916159378812907, -1.6490104846119198, -0.44298098541734826, 1.4690753901328768, 2.459226887744698, 1.4300917449561872, 1.8381236054848633, -1.2721595162605188, 0.1534356591200361, 0.36160514027312407, 0.4741332799348959, 0.9619299142044181, 1.5288188245071543, 1.807288625113727, 1.7491502580276728, -0.4980371143263931, 0.9694797790233014, -0.5855894653457869, -0.4124760947089956, -1.2950147599588164, 0.29381479220154105, 0.7927673690093708, 0.8501644490569491, 3.043834266116264, -1.0843089869431954, 0.9626487442994345, -0.435175754189435, 0.9719709835813045, 0.5384973368262669, -0.8430527298087679, -0.5844698379074675, -0.029321428796671514, 0.7753544734256448, -0.5919466016273165, -0.3598666274669319, 1.295528381109592, 0.5685629863346073, -2.246377542086801, -0.19272039880192796, 0.5406939013325913, 0.1400173654069605, -0.3840676837500408, -0.1011083755756347, -1.460139095974751, 0.5120563516790697, -3.0164557999644948, 0.09655308671311502, -1.7751119959541617, 0.6479826571473946, 0.10206501677182042, 0.7567514258845079, -0.6518627765839192, -1.9799594814012473, 1.1811251082327565, 1.146455506500702, -1.98541922288366, -0.751234299128227, -1.6147949574855693, 1.5830218289025064, -0.20092445725099506, -0.9917788715107093, -0.1946609516075604, 0.013901584083585728, -0.4940780585640297, 0.5169044536358056, 0.7303655251984926, 0.139859938883675, -1.3989020323416725, 0.3609661650783039, 0.2997639796292553, -0.9109496815463025, -0.3211749927730154, -0.7243529854854076, 0.8307761106984647, 0.7414061545446102, -1.694140774839992, 0.5499694017368542, 1.62988207666554, 0.34563230090523334, 0.32244884994875767, 0.2751140600136244, -0.19375169701109546, -0.2825800215261064, -0.7830392973117358, 1.0446464913766342, 1.0668365813061695, 0.15531730805750654, -0.6131310479465948, 0.1843546714823925, -1.6685508094860464, -0.8408761389701415, -1.2801443435523754, 0.23103879319035614, -1.283890464567112, -0.09146161782221121, -0.5888277323843627, -0.06993469573717255, -1.1004223271920623, -1.3812784691521696, 0.1997245594643956, 1.6856986578207216, 0.9313545171551747, -1.0999156854196577, -0.5033561909957555, -0.8529865822096664, -0.021207979100173423, 0.4875767899553244, -0.035438567674533024, 0.4732363210632806, -1.0599716920643585, -0.7214476720272245, -0.07141410540746164, -0.2847658899787436, -0.3541689585022417, -0.3308789320151526, 1.114981545313941, -1.1365979334818495, 0.8132085756199811, 0.7729532339270812, 0.5011008091372768, -1.1648465566188053, -0.5499800213024186, -0.3935954770195274, 1.3291228888890978, 1.7073419129644123, 0.4189315624617041, -1.2682567573362287, -0.45842289630600364, 0.10643091550504519, 0.7701623750666045, 0.5467882253805975, 0.9988031602122233, -1.004993353731853, 1.9016521112691998, 1.829195624959049, 1.1612731277622441, -0.2498024042499891, 0.14864182996059255, 1.2321668238240466, -0.5442885684353335, -1.0030098236966063, -1.309128320243587, -1.1292367833198758, 0.809317091330924, 0.19781246733831231, 0.2051050709592321, 0.026124487331618946, -2.3992876031596, -1.0714465795553714, 0.5982618340181493, -0.19288939008409575, -0.747962499704678, -0.43847359484965015, -0.969533891033731, 0.7831557611238354, -0.766497875078657, 2.1212294360937927, 1.4525714376522758, 0.19886588339181258, 0.40257600684252587, -0.6334308740217127, 0.6587449014166833, 0.2213309779337436, -0.6194270074235108, 1.0634590236087624, 0.6385470541830799, 0.36774561600085975, 1.3167494548449732, 1.8311124310355558, 1.1418507959542026, 0.3365453270671219, -0.1386502890648639, -0.21238565676555266, -0.11340884098183902, -0.3568286211566307, -0.38910160150681655, -1.876961108768796, 0.12408250371137529, 1.0618877506122946, -1.2062004434303493, -0.7908583537269122, -0.4073577247544867, -0.5156133492040093, -0.7404170308818853, 0.6032198555423702, 0.19888079629749034, 0.4026108846403487, -0.566742000330301, 1.2477081111674289, -0.863555048610661, 0.41727627360469915, -0.6877502620802168, -0.6784584887520219, 0.38420687167434764, -0.3408162864539563, 1.148384818921285, -0.05571809729538285, 2.1390374855000864, 1.034279166242407, 0.5749499319307686, 1.1675659689059705, 0.7518268069177086, 2.054435767199765, -0.611859995380229, 2.0505388972653047, 0.03552495904039536, 0.3888645904674493, 0.3507229988580624, 0.430469596991926, 0.6667557887687698, -1.5468781063133774, 0.6409948049260441, -0.6591651106822163, -1.4790047536157567, -0.20884955104184497, 0.17807467145276706, -1.1437919031341057, -0.04133066569297516, -0.23364743824640472, 1.2276486362551406, 0.029223394103337845, -1.6432307115455622, 0.3514653164445682, -0.4894450379478162, -0.16217674685017958, 0.20665422291091584, 0.6878411422783668, 0.49401251760054904, 0.351161392858796, -0.3308507224601602, -1.0534614109755835, -0.7076699867216372, 2.2633108428872095, 1.3350944109276701, 1.6173477475761158, 0.16397146005910704, -1.1106220429723588, -1.5903450722424899, 0.9665747404993065, -0.47575099785945363, -0.24464332830467386, -1.1870231122916373, 0.3650730205597216, 0.07069855330891515, -0.8902208507338258, 0.585573626408924, 1.223744978856695, 0.37115499879816893, -0.41346640846086, 0.5082438501004981, -1.9816307492998742, -0.6800223562983267, 0.1254344548235514, -0.39909691116029966, 0.797130015727666, 0.28761683467324484, 1.9693812711756014, -2.1218159345450567, 0.6414662132891955, -1.6982614976905053, 0.7371911440333272, -1.4818117463686078, 1.0779649515073435, 0.10162960599908877, -2.7411781508006747, 2.077231394106634, 0.7472855249491321, 0.09014637839893407, 2.5595978598380302, -0.562402473686662, -0.2671386493899884, 0.6653656882537653, 0.599773668437394, -1.2464313633857698, -1.998175125330039, 0.439726500320743, 0.0856302750041435, -0.9609044692842481, -0.6310539926230436, 0.37206389907579357, 0.4865236463490444, -0.4702981928031213, 0.2805558247752477, 0.30122764101660654, 0.2508112037520323, 1.1873611454079542, 0.925708497222396, -0.4242893718416939, -1.3995351649581802, -1.7376630338869328, 0.39988261920092116, 0.9117087186258008, 0.4322555088106378, -0.19807041080697393, 0.905511200656188, 1.366309143131174, 0.6010150986957015, 0.3828571597141894, 0.462478362996902, 0.7288679668738772, -1.4066599391201513, 0.8250024122198313, 1.0806325815413578, 0.5927866032223671, 0.1990941998561369, -0.9068281916515235, -1.7818750021562073, 0.020308839040765792, -1.1840303602936981, 1.6860058047239233, 0.8552214762581893, 0.7594106699717788, 1.616006712288467, 0.9024412713816133, 0.9898070720799813, 0.3366072240686428, -0.5857387349890872, 0.2651712136374316, -0.22216967459311696, 0.9840479614841969, -0.0055382393631091195, 0.0677243061713712, -0.3459313085658, -0.11539111542301204, 0.7979994268100982, -1.212114180388414, -0.31949805127333597, 1.4454763031133782, 0.8475588997237643, 1.6943440698383365, 0.9223275999054158, 2.345596966821347, 0.06862377687445902, -0.5070007661707038, 1.1618193095936078, -2.443553302407874, -1.8544806250997081, -0.24815185946206783, 1.203922342943026, -0.728894238193354, 0.31449707546402594, 1.6459081584375268, -0.41342432931108003, 1.5325679725242993, -0.3747674435751694, 2.464376434437522, -0.12105593472909722, -0.2428681394383378, -1.7453193502202933, 0.3642446981023185, -0.8722301255611943, 0.3232031755760368, -1.1777964253493927, -0.09289953711547098, 1.352477530330294, -1.2933023496386937, -1.507065346136466, 1.0568498527710861, 2.25589364779355, -0.2529224601948487, -0.852651897413632, -1.453159827452608, 0.5773249856563278, 0.45917687485720227, -0.68355743646042, 1.617621217451242, -0.2417769470033557, 1.1619517481325439, -0.1918454136474478, -2.453983726369431, -1.5732847573333442, -0.7956144675922648, -1.9322623774103387, -1.2714752568526133, -0.12277905570589877, 1.0233184837086085, 0.40851001415893157, -0.7197867844446733, -1.2680124058046303, -0.9881918422492652, 0.172410641189896, -1.3931773320379754, -1.0625873344307595, 0.6382223276863522, -0.45249946252453194, 0.276480530998135, 0.9567811501882955, 0.4159783089516175, -1.6301950051928762, -0.12507287926811853, 0.021037876622052254, -0.4690707561614683, -1.6206627668263751, -1.6752408194829842, 2.1016492304123457, -0.4868938777141062, -0.7286389064828126, -0.6677501934315596, -0.20904326993313405, -2.086215563672191, -0.3962322972311396, 0.37549117240105323, 0.28510395792245036, 1.2219134756610954, -0.1812823737572118, 0.3620593841641335, -1.4973072294614482, -1.6087394709045248, 1.3462149985032006, 0.0004507308262084145, 0.6821599854540338, -0.8853775873569056, 1.5454003840742179, 1.026775274369165, 0.7988628589128409, -0.8263715594589135, -0.4132479762816185, -2.1462107007269076, 0.09216270741072702, 0.0848721137446677, 0.42507247675495147, 0.31525613443011014, -0.7800385514157726, -0.5097867463184271, -0.2907144494125385, -0.6030523583173635, 0.4592887002070705, -1.2156841176662123, 1.613560844543412, 1.314887497636121, 1.0579098712329729, -0.4809477870377525, -1.7895002999008522, 0.09349176043482073, -0.23550350722181618, 1.374827351567295, 1.0394123342712809, -0.3478353942200328, 0.753507838971714, 0.7604726043302703, 0.5640076289804725, -0.9616362877922007, -0.5504115293437523, 1.7871231864600106, -2.1398997464765688, 0.578128676183913, 0.8408269771397632, 0.6604376750305725, -1.0975062921352954, -0.7353929579149311, -0.023677641110640354, 0.5950082868029725, -0.47516342021259406, 0.37179067682624956, -0.2075150669671608, -0.8434024567160795, -1.7185677624454887, -0.14433967199927483, -0.32935293366363255, 0.829567808425027, 0.402331702808685, -0.41882157954564864, 0.5446004090913183, 1.020351507060972, -1.9147020415977316, -0.706198020429798, -0.4089799514803624, 0.5409803924793917, 1.8657663741489148, -0.7557545344343207]}, {\"type\": \"histogram\", \"x\": [-0.06272640759211212, 1.3442910421527807, 2.021120905781129, -1.574743302845829, 2.5311793874029, 0.760530209290909, 2.3229438846073194, -0.5208003717684078, 1.615830800383399, -0.2968304842730394, 0.3522826811519507, 1.5615426873915277, 1.9282775847701727, 0.7819504623425365, 3.168745131054049, -0.8351574576965635, 1.3195915628779793, 0.2524945930122793, 0.682678804062847, 0.5761135346707242, 0.8663122600519342, 1.7660590990555411, 1.9355453872900035, 0.78808742066293, 1.5833333265487712, 0.8566534710999825, -0.20374638905339615, -0.06929588146489096, 0.7471549531144102, 0.1529176224807114, 1.5435639221872732, 1.1858515338090463, 3.090611721851714, -0.13909037264643342, 1.1577749392164378, 2.0424150342359346, 0.0938683949777559, 1.9866432072888518, 1.0126432961236993, 2.5286087872426117, 0.025325595333501982, 3.0340558993869053, 0.6308340488269306, 1.9353066549861782, 1.4630880564867386, 1.019418134575591, 0.9109577741582794, 0.7960532913999605, -0.2537347309096154, 0.9056597853295745, 3.1380130382998646, 1.1215301580348387, 1.5883752305106373, 0.12501176666185343, 0.047404077068676664, 0.3499114458875784, 1.1404648881870663, 0.8432167431017314, -0.6028925921941732, 0.9615722333959306, -0.5621011629906003, 0.9755789984637084, 1.1230322558688366, 0.8482674604492619, 1.4943096656758663, 0.7515499210127595, 0.6412048579639034, 1.8122641439913036, -0.25307357083637405, 1.8325413746956842, 0.7141546091589354, 2.1540989252835256, 0.9731422568075717, 2.2631054787708695, 0.537817008997876, 0.6865282814962401, 0.3854437434200664, 2.129722558231224, 2.217634102883669, 0.4219752264187768, -0.06909146196054983, 1.1529631702164094, 1.6924577271069787, 0.42117831272130124, 1.6576609740884056, 1.9739879937533047, 0.8297009280925298, 1.8317518451763903, -0.6321799727403776, -0.002645289779576343, 0.518661617201115, 1.0445793203284874, 1.1075437809153625, 0.6725822270814286, 2.1463350014882514, 1.9784489294730983, 1.9066091059854755, -0.4754856562047638, 1.8488713937715295, 0.07843748097834247, 0.6615698268131838, 1.279522881210955, 1.7505108622663972, 2.8149236664075135, 1.4578497762325873, 1.6776053661383288, 1.5703116773931365, 1.0023992011634204, 0.4975857071208991, 1.0926432726334312, 0.008698135999972267, 1.6118562920926347, 0.9662380652151025, 0.4258204770014292, 1.5774398010655002, 0.8191085498453411, 2.342572267979331, 2.741933069610322, 0.7275278737024122, 0.7879440752629543, 1.801010107415691, 0.047860505556932664, 0.11059248027612645, 0.9578818068538889, 1.1268478384167975, 1.9819668635699685, 1.0894271956574033, 1.9956234925161667, 1.218623340879308, 1.6647429973155656, 0.9065326200745559, 3.4382603635266107, 1.3833200455748558, -0.5374470286093471, -0.9026114278084356, -0.1507937854618191, 0.5629364094465392, 1.3227901866246476, 0.8285607675497213, -0.324825665443796, -0.37286237000185474, 1.6745781191361617, 2.8729986425150367, -0.4162334700840038, 1.3100301874085865, 1.1063652445667724, -0.5111502878482346, 1.5266487197926835, 2.0513508360672303, 1.1364685283206717, 1.3787085228212388, 0.35971339667728863, 0.9264070774586871, 0.8489983416061433, 0.48067658545364067, 0.7730564820426855, 1.370293866759212, 1.8787857190848174, 1.911356531404917, 1.5897590648105329, 1.0664987049696746, 2.1121768779565593, 1.8000775637958015, 0.17732055918574208, 0.001407849664449956, 0.3472294751258541, -0.17066723820479957, 2.2675298582071717, 1.6622933708869743, 0.8797631025229429, -0.30908146838082273, 1.8981132435513857, 0.09924044302086321, 0.40116710504180786, 0.5202287208452014, 1.5337398709628016, 1.9911189192219196, 2.105774940637124, 1.4943308961982877, 0.6833669849186461, -0.174204886506522, 0.8096847894168209, 1.9515897375691769, 1.1635553186378138, 1.1429643434191576, 0.973068801074283, 1.3260247330563988, 2.48268898997697, 0.12183154785653061, 0.7249534877298554, 0.09876683963478239, 2.431559046105611, 1.2197442183710203, 0.7266404715777847, 0.9805115814695019, 0.3776405921033116, 1.2795579087450313, 1.605682156192319, 1.969067813028031, -0.19711271845666323, 1.624131678215444, 1.7058623602667922, 0.6285392252280084, 3.085849145224632, 1.557067276585929, 3.5197030568148766, 1.2510744533222797, -0.05369343709963936, -0.8027687624838367, 1.3449150023294607, 0.5520796871524682, 0.5473412808151802, 1.0151758979788803, 0.660687361458751, 2.3500225669139727, -1.2388320422171195, 0.6127078873108751, 1.568848174733057, 2.484932044589419, 1.324545287902969, 1.6947584901993875, 1.628616752932987, 2.979441582178983, 0.04876096857683587, 0.6978669367106523, 0.6842448792786915, 0.6736451455951753, 2.7356251479464957, -0.5123338072560877, -0.10332544582223901, -0.7765027516874146, 0.977134192733648, -0.6200535430239791, 0.6339385926014752, 0.39966242549963193, 0.07083073098553483, -0.0813670725049267, 2.7386029320650938, 3.166952676049557, 0.8674227477967413, -0.38715679765730737, 0.8077417809664538, 0.9770453946351012, 0.9153295708283133, 1.2223190400363426, -0.05836691162232288, 2.39732596697751, 1.0665857245291483, -0.2557053267022087, 0.7034541879376643, 1.077622413290903, 2.172954599431459, 0.6361293119565039, 0.3854788573743386, 2.0509311290824135, 0.7668031620076774, 2.931784156607719, 0.9729605377427455, 2.5439479009452457, -1.3582819482937265, -0.16067656656130058, -1.9933966009434214, 1.334705102797908, 0.7389275464925932, -0.0181642304031715, 0.627345577546012, 1.4615377097534235, 0.0737021106029605, 0.5021786471546679, -0.7927724928749547, 2.441182198544931, -0.6608956846688616, 2.3520538989292525, 1.4665338576235423, -0.017995007809167518, 0.10840795844060747, 1.935721263876645, 2.915875657334097, 0.5281745029993341, -0.5773369118349598, 1.06993710416499, 0.33494582507687565, 1.3148663152582374, 1.6767733707371162, 2.1101019972529533, 1.4151826621807877, -0.6795510890044305, 2.0196554934212028, 0.4210037099365749, 0.05901814855065701, 0.6956934241598283, 2.925364137518123, 0.7814842435838127, 1.0625265422470493, 0.8997256072787272, 0.5986419074798839, 0.27484917890569927, 0.498216649877919, 0.40076129199680655, 0.6755575132100475, 2.345092318275184, 0.5465785169330674, 1.458848273058765, 1.1896168566946863, 1.5347795179974877, 1.1793506174836184, 2.5275473877288146, 0.5278355654287987, 0.8749705491493518, 1.8003458705920599, 2.5295534766094088, 0.07546830514495462, 2.2182597306599567, 2.117658555966467, 2.3400244792325937, 0.5202725042464333, 0.5107227258897098, -0.2449077020048107, 1.7251607129748747, -0.6817204757132984, 1.802766360247019, 0.9308709431370352, 0.7782798620409859, 1.561775295585984, 1.6485641062997582, 1.2073172485795807, 0.7628073317807762, 1.118973026606789, 1.9944048892953274, 0.7522156473022168, 0.12190075304038384, 2.6939010145077766, 1.9981212587143808, 2.7811871305674134, 1.6886131681083865, 1.0991926697605081, 0.9295508169055222, -0.9196359020553326, 1.7834259276495357, 0.10934465503578772, 0.09366698309493704, 1.6261278483644837, 0.5715476748966561, -0.8995913155115192, 0.3571423335291328, 0.019460640588999545, 0.6087585334719992, -0.8977541599642949, 0.5195034629203868, 1.5332864008242315, 1.4134519137805563, 0.8445145537986856, 0.8692768951576081, -0.5070931827111798, 0.4413441404948837, -0.7506524493963473, 0.6096523053014369, 0.0016741432176181625, 0.5690185533535173, -0.8287313830381351, 0.4117564242462606, 0.3610782101304608, 1.3204962097766608, -1.4174362848018487, 3.2972390365382522, 0.7559182929390854, 0.7208293754997647, -0.30052463216367764, 1.5792932668791009, 1.264793606253901, 1.4962031548801904, 0.7277579308847137, 2.016619998156698, 1.8812852624664091, 0.428981607965064, 0.38569300454540867, 0.6092230966783017, 1.5358001854206424, 1.395985053663614, 0.9153160967454101, 0.05239671279715408, 2.6329484903924807, 1.460604321354631, 1.676726743207304, 1.0849768050223036, 2.564071709512767, 0.41915531383265403, 2.4368670207791485, 2.0006025686887328, 1.4876479511301095, 2.834090147371807, 1.2854239556840577, -0.8501522738234966, 0.21007206371877962, 0.791588778304094, 1.601941561441088, 0.25370544608603385, -0.20544361302630199, 1.865203590502967, 2.3767872298308355, 0.7173873557302494, -0.003920633774020965, 0.11609003189680334, 0.2487608900314866, 0.8153271613159622, 0.28065758036671995, 0.2434325662357174, 0.6901602919533376, 1.56702060675909, 0.20980907224655132, 1.446670391850362, 1.0701991896886132, 2.2651246310984954, 1.27031679107975, 2.1382712912225488, 2.7777606139183737, 1.950353660220125, 0.3243988192366972, 0.8176403388806026, -0.21012569776488332, 1.436651397711738, 0.3050439590630256, -0.22797352364704748, 1.2648690426695808, 0.054560189709565, 2.3261448384846615, 1.8414498481089079, -0.6434577095697278, 0.3442145221537455, 2.2788288013439537, 0.2567775253959659, 1.2488290502048993, 0.3385213978464937, 1.6390091562461737, 1.5176582686786528, -0.14574974627929027, 0.08477625047859172, 1.203823332408859, 2.071598901046973, 0.6873754758963934, 0.41813149453159393, 1.7278166344513977, 1.4924371898955577, 0.24026700425093883, -0.49517965895299754, 0.5979307104195346, 0.4839814407670081, -0.6038206628781213, 0.7104447726645945, 0.9667371722103387, 0.28509069703074974, 0.48480090435622236, 1.6899601246617373, 0.783132000922806, 1.961814002632173, 1.2107008892995554, -0.014426709489800738, 3.454196168597774, 0.5551569338928999, 1.500672485547491, 0.2838364587584722, 0.12555293515849075, 1.4775156203532083, 0.3944931029119193, -0.2188253127820161, 0.5871779984289957, 1.1164131992135253, 0.4783432778598866, 2.1273114072210184, 2.1566730045008495, 1.4322664477925504, 1.365678895672826, 2.0572875911754878, 0.20553535514707688, 2.690409889606396, 0.5444187940109382, 0.21740614474145836, 0.7663981915900226, 0.6126300942631655, 0.09889042135461457, 1.5041884077345227, 0.5553938073140297, 0.9727778271390698, 0.3438728377294832, 0.1647576287008361, 0.3638661684893316, 0.41135684785597837, 1.2893743574145984, 0.729899582012919, 1.258071514091628, 0.2759375279152061, 0.5115174003964189, -0.27993103042538303, 1.2957933811029174, 1.5545042922331458, 0.8879216416953355, 0.8544182251814669, 1.7987954271258384, 0.09781619950523301, 0.1850919498698944]}],\n",
              "                        {\"barmode\": \"stack\", \"template\": {\"data\": {\"bar\": [{\"error_x\": {\"color\": \"#2a3f5f\"}, \"error_y\": {\"color\": \"#2a3f5f\"}, \"marker\": {\"line\": {\"color\": \"#E5ECF6\", \"width\": 0.5}}, \"type\": \"bar\"}], \"barpolar\": [{\"marker\": {\"line\": {\"color\": \"#E5ECF6\", \"width\": 0.5}}, \"type\": \"barpolar\"}], \"carpet\": [{\"aaxis\": {\"endlinecolor\": \"#2a3f5f\", \"gridcolor\": \"white\", \"linecolor\": \"white\", \"minorgridcolor\": \"white\", \"startlinecolor\": \"#2a3f5f\"}, \"baxis\": {\"endlinecolor\": \"#2a3f5f\", \"gridcolor\": \"white\", \"linecolor\": \"white\", \"minorgridcolor\": \"white\", \"startlinecolor\": \"#2a3f5f\"}, \"type\": \"carpet\"}], \"choropleth\": [{\"colorbar\": {\"outlinewidth\": 0, \"ticks\": \"\"}, \"type\": \"choropleth\"}], \"contour\": [{\"colorbar\": {\"outlinewidth\": 0, \"ticks\": \"\"}, \"colorscale\": [[0.0, \"#0d0887\"], [0.1111111111111111, \"#46039f\"], [0.2222222222222222, \"#7201a8\"], [0.3333333333333333, \"#9c179e\"], [0.4444444444444444, \"#bd3786\"], [0.5555555555555556, \"#d8576b\"], [0.6666666666666666, \"#ed7953\"], [0.7777777777777778, \"#fb9f3a\"], [0.8888888888888888, \"#fdca26\"], [1.0, \"#f0f921\"]], \"type\": \"contour\"}], \"contourcarpet\": [{\"colorbar\": {\"outlinewidth\": 0, \"ticks\": \"\"}, \"type\": \"contourcarpet\"}], \"heatmap\": [{\"colorbar\": {\"outlinewidth\": 0, \"ticks\": \"\"}, \"colorscale\": [[0.0, \"#0d0887\"], [0.1111111111111111, \"#46039f\"], [0.2222222222222222, \"#7201a8\"], [0.3333333333333333, \"#9c179e\"], [0.4444444444444444, \"#bd3786\"], [0.5555555555555556, \"#d8576b\"], [0.6666666666666666, \"#ed7953\"], [0.7777777777777778, \"#fb9f3a\"], [0.8888888888888888, \"#fdca26\"], [1.0, \"#f0f921\"]], \"type\": \"heatmap\"}], \"heatmapgl\": [{\"colorbar\": {\"outlinewidth\": 0, \"ticks\": \"\"}, \"colorscale\": [[0.0, \"#0d0887\"], [0.1111111111111111, \"#46039f\"], [0.2222222222222222, \"#7201a8\"], [0.3333333333333333, \"#9c179e\"], [0.4444444444444444, \"#bd3786\"], [0.5555555555555556, \"#d8576b\"], [0.6666666666666666, \"#ed7953\"], [0.7777777777777778, \"#fb9f3a\"], [0.8888888888888888, \"#fdca26\"], [1.0, \"#f0f921\"]], \"type\": \"heatmapgl\"}], \"histogram\": [{\"marker\": {\"colorbar\": {\"outlinewidth\": 0, \"ticks\": \"\"}}, \"type\": \"histogram\"}], \"histogram2d\": [{\"colorbar\": {\"outlinewidth\": 0, \"ticks\": \"\"}, \"colorscale\": [[0.0, \"#0d0887\"], [0.1111111111111111, \"#46039f\"], [0.2222222222222222, \"#7201a8\"], [0.3333333333333333, \"#9c179e\"], [0.4444444444444444, \"#bd3786\"], [0.5555555555555556, \"#d8576b\"], [0.6666666666666666, \"#ed7953\"], [0.7777777777777778, \"#fb9f3a\"], [0.8888888888888888, \"#fdca26\"], [1.0, \"#f0f921\"]], \"type\": \"histogram2d\"}], \"histogram2dcontour\": [{\"colorbar\": {\"outlinewidth\": 0, \"ticks\": \"\"}, \"colorscale\": [[0.0, \"#0d0887\"], [0.1111111111111111, \"#46039f\"], [0.2222222222222222, \"#7201a8\"], [0.3333333333333333, \"#9c179e\"], [0.4444444444444444, \"#bd3786\"], [0.5555555555555556, \"#d8576b\"], [0.6666666666666666, \"#ed7953\"], [0.7777777777777778, \"#fb9f3a\"], [0.8888888888888888, \"#fdca26\"], [1.0, \"#f0f921\"]], \"type\": \"histogram2dcontour\"}], \"mesh3d\": [{\"colorbar\": {\"outlinewidth\": 0, \"ticks\": \"\"}, \"type\": \"mesh3d\"}], \"parcoords\": [{\"line\": {\"colorbar\": {\"outlinewidth\": 0, \"ticks\": \"\"}}, \"type\": \"parcoords\"}], \"pie\": [{\"automargin\": true, \"type\": \"pie\"}], \"scatter\": [{\"marker\": {\"colorbar\": {\"outlinewidth\": 0, \"ticks\": \"\"}}, \"type\": \"scatter\"}], \"scatter3d\": [{\"line\": {\"colorbar\": {\"outlinewidth\": 0, \"ticks\": \"\"}}, \"marker\": {\"colorbar\": {\"outlinewidth\": 0, \"ticks\": \"\"}}, \"type\": \"scatter3d\"}], \"scattercarpet\": [{\"marker\": {\"colorbar\": {\"outlinewidth\": 0, \"ticks\": \"\"}}, \"type\": \"scattercarpet\"}], \"scattergeo\": [{\"marker\": {\"colorbar\": {\"outlinewidth\": 0, \"ticks\": \"\"}}, \"type\": \"scattergeo\"}], \"scattergl\": [{\"marker\": {\"colorbar\": {\"outlinewidth\": 0, \"ticks\": \"\"}}, \"type\": \"scattergl\"}], \"scattermapbox\": [{\"marker\": {\"colorbar\": {\"outlinewidth\": 0, \"ticks\": \"\"}}, \"type\": \"scattermapbox\"}], \"scatterpolar\": [{\"marker\": {\"colorbar\": {\"outlinewidth\": 0, \"ticks\": \"\"}}, \"type\": \"scatterpolar\"}], \"scatterpolargl\": [{\"marker\": {\"colorbar\": {\"outlinewidth\": 0, \"ticks\": \"\"}}, \"type\": \"scatterpolargl\"}], \"scatterternary\": [{\"marker\": {\"colorbar\": {\"outlinewidth\": 0, \"ticks\": \"\"}}, \"type\": \"scatterternary\"}], \"surface\": [{\"colorbar\": {\"outlinewidth\": 0, \"ticks\": \"\"}, \"colorscale\": [[0.0, \"#0d0887\"], [0.1111111111111111, \"#46039f\"], [0.2222222222222222, \"#7201a8\"], [0.3333333333333333, \"#9c179e\"], [0.4444444444444444, \"#bd3786\"], [0.5555555555555556, \"#d8576b\"], [0.6666666666666666, \"#ed7953\"], [0.7777777777777778, \"#fb9f3a\"], [0.8888888888888888, \"#fdca26\"], [1.0, \"#f0f921\"]], \"type\": \"surface\"}], \"table\": [{\"cells\": {\"fill\": {\"color\": \"#EBF0F8\"}, \"line\": {\"color\": \"white\"}}, \"header\": {\"fill\": {\"color\": \"#C8D4E3\"}, \"line\": {\"color\": \"white\"}}, \"type\": \"table\"}]}, \"layout\": {\"annotationdefaults\": {\"arrowcolor\": \"#2a3f5f\", \"arrowhead\": 0, \"arrowwidth\": 1}, \"coloraxis\": {\"colorbar\": {\"outlinewidth\": 0, \"ticks\": \"\"}}, \"colorscale\": {\"diverging\": [[0, \"#8e0152\"], [0.1, \"#c51b7d\"], [0.2, \"#de77ae\"], [0.3, \"#f1b6da\"], [0.4, \"#fde0ef\"], [0.5, \"#f7f7f7\"], [0.6, \"#e6f5d0\"], [0.7, \"#b8e186\"], [0.8, \"#7fbc41\"], [0.9, \"#4d9221\"], [1, \"#276419\"]], \"sequential\": [[0.0, \"#0d0887\"], [0.1111111111111111, \"#46039f\"], [0.2222222222222222, \"#7201a8\"], [0.3333333333333333, \"#9c179e\"], [0.4444444444444444, \"#bd3786\"], [0.5555555555555556, \"#d8576b\"], [0.6666666666666666, \"#ed7953\"], [0.7777777777777778, \"#fb9f3a\"], [0.8888888888888888, \"#fdca26\"], [1.0, \"#f0f921\"]], \"sequentialminus\": [[0.0, \"#0d0887\"], [0.1111111111111111, \"#46039f\"], [0.2222222222222222, \"#7201a8\"], [0.3333333333333333, \"#9c179e\"], [0.4444444444444444, \"#bd3786\"], [0.5555555555555556, \"#d8576b\"], [0.6666666666666666, \"#ed7953\"], [0.7777777777777778, \"#fb9f3a\"], [0.8888888888888888, \"#fdca26\"], [1.0, \"#f0f921\"]]}, \"colorway\": [\"#636efa\", \"#EF553B\", \"#00cc96\", \"#ab63fa\", \"#FFA15A\", \"#19d3f3\", \"#FF6692\", \"#B6E880\", \"#FF97FF\", \"#FECB52\"], \"font\": {\"color\": \"#2a3f5f\"}, \"geo\": {\"bgcolor\": \"white\", \"lakecolor\": \"white\", \"landcolor\": \"#E5ECF6\", \"showlakes\": true, \"showland\": true, \"subunitcolor\": \"white\"}, \"hoverlabel\": {\"align\": \"left\"}, \"hovermode\": \"closest\", \"mapbox\": {\"style\": \"light\"}, \"paper_bgcolor\": \"white\", \"plot_bgcolor\": \"#E5ECF6\", \"polar\": {\"angularaxis\": {\"gridcolor\": \"white\", \"linecolor\": \"white\", \"ticks\": \"\"}, \"bgcolor\": \"#E5ECF6\", \"radialaxis\": {\"gridcolor\": \"white\", \"linecolor\": \"white\", \"ticks\": \"\"}}, \"scene\": {\"xaxis\": {\"backgroundcolor\": \"#E5ECF6\", \"gridcolor\": \"white\", \"gridwidth\": 2, \"linecolor\": \"white\", \"showbackground\": true, \"ticks\": \"\", \"zerolinecolor\": \"white\"}, \"yaxis\": {\"backgroundcolor\": \"#E5ECF6\", \"gridcolor\": \"white\", \"gridwidth\": 2, \"linecolor\": \"white\", \"showbackground\": true, \"ticks\": \"\", \"zerolinecolor\": \"white\"}, \"zaxis\": {\"backgroundcolor\": \"#E5ECF6\", \"gridcolor\": \"white\", \"gridwidth\": 2, \"linecolor\": \"white\", \"showbackground\": true, \"ticks\": \"\", \"zerolinecolor\": \"white\"}}, \"shapedefaults\": {\"line\": {\"color\": \"#2a3f5f\"}}, \"ternary\": {\"aaxis\": {\"gridcolor\": \"white\", \"linecolor\": \"white\", \"ticks\": \"\"}, \"baxis\": {\"gridcolor\": \"white\", \"linecolor\": \"white\", \"ticks\": \"\"}, \"bgcolor\": \"#E5ECF6\", \"caxis\": {\"gridcolor\": \"white\", \"linecolor\": \"white\", \"ticks\": \"\"}}, \"title\": {\"x\": 0.05}, \"xaxis\": {\"automargin\": true, \"gridcolor\": \"white\", \"linecolor\": \"white\", \"ticks\": \"\", \"title\": {\"standoff\": 15}, \"zerolinecolor\": \"white\", \"zerolinewidth\": 2}, \"yaxis\": {\"automargin\": true, \"gridcolor\": \"white\", \"linecolor\": \"white\", \"ticks\": \"\", \"title\": {\"standoff\": 15}, \"zerolinecolor\": \"white\", \"zerolinewidth\": 2}}}},\n",
              "                        {\"responsive\": true}\n",
              "                    ).then(function(){\n",
              "                            \n",
              "var gd = document.getElementById('b3e82a6b-02a4-4b4b-9554-22a9d67b5866');\n",
              "var x = new MutationObserver(function (mutations, observer) {{\n",
              "        var display = window.getComputedStyle(gd).display;\n",
              "        if (!display || display === 'none') {{\n",
              "            console.log([gd, 'removed!']);\n",
              "            Plotly.purge(gd);\n",
              "            observer.disconnect();\n",
              "        }}\n",
              "}});\n",
              "\n",
              "// Listen for the removal of the full notebook cells\n",
              "var notebookContainer = gd.closest('#notebook-container');\n",
              "if (notebookContainer) {{\n",
              "    x.observe(notebookContainer, {childList: true});\n",
              "}}\n",
              "\n",
              "// Listen for the clearing of the current output cell\n",
              "var outputEl = gd.closest('.output');\n",
              "if (outputEl) {{\n",
              "    x.observe(outputEl, {childList: true});\n",
              "}}\n",
              "\n",
              "                        })\n",
              "                };\n",
              "                \n",
              "            </script>\n",
              "        </div>\n",
              "</body>\n",
              "</html>"
            ]
          },
          "metadata": {
            "tags": []
          }
        }
      ]
    },
    {
      "cell_type": "markdown",
      "metadata": {
        "id": "it3YFeFCrN0W"
      },
      "source": [
        "### Aggregation\n"
      ]
    },
    {
      "cell_type": "code",
      "metadata": {
        "colab": {
          "base_uri": "https://localhost:8080/",
          "height": 542
        },
        "id": "Sxd_hU8Eq3N_",
        "outputId": "37bc6711-2ff6-46bc-f7b3-3112b3634d94"
      },
      "source": [
        "import plotly.graph_objects as go\n",
        "\n",
        "x = [\"Apples\",\"Apples\",\"Apples\",\"Oranges\", \"Bananas\"]\n",
        "y = [\"5\",\"10\",\"3\",\"10\",\"5\"]\n",
        "\n",
        "fig = go.Figure()\n",
        "fig.add_trace(go.Histogram(histfunc=\"count\", y=y, x=x, name=\"count\"))\n",
        "fig.add_trace(go.Histogram(histfunc=\"sum\", y=y, x=x, name=\"sum\"))\n",
        "\n",
        "fig.show()"
      ],
      "execution_count": null,
      "outputs": [
        {
          "output_type": "display_data",
          "data": {
            "text/html": [
              "<html>\n",
              "<head><meta charset=\"utf-8\" /></head>\n",
              "<body>\n",
              "    <div>\n",
              "            <script src=\"https://cdnjs.cloudflare.com/ajax/libs/mathjax/2.7.5/MathJax.js?config=TeX-AMS-MML_SVG\"></script><script type=\"text/javascript\">if (window.MathJax) {MathJax.Hub.Config({SVG: {font: \"STIX-Web\"}});}</script>\n",
              "                <script type=\"text/javascript\">window.PlotlyConfig = {MathJaxConfig: 'local'};</script>\n",
              "        <script src=\"https://cdn.plot.ly/plotly-latest.min.js\"></script>    \n",
              "            <div id=\"37e72f23-5c9b-4994-80b4-0df78feef16a\" class=\"plotly-graph-div\" style=\"height:525px; width:100%;\"></div>\n",
              "            <script type=\"text/javascript\">\n",
              "                \n",
              "                    window.PLOTLYENV=window.PLOTLYENV || {};\n",
              "                    \n",
              "                if (document.getElementById(\"37e72f23-5c9b-4994-80b4-0df78feef16a\")) {\n",
              "                    Plotly.newPlot(\n",
              "                        '37e72f23-5c9b-4994-80b4-0df78feef16a',\n",
              "                        [{\"histfunc\": \"count\", \"name\": \"count\", \"type\": \"histogram\", \"x\": [\"Apples\", \"Apples\", \"Apples\", \"Oranges\", \"Bananas\"], \"y\": [\"5\", \"10\", \"3\", \"10\", \"5\"]}, {\"histfunc\": \"sum\", \"name\": \"sum\", \"type\": \"histogram\", \"x\": [\"Apples\", \"Apples\", \"Apples\", \"Oranges\", \"Bananas\"], \"y\": [\"5\", \"10\", \"3\", \"10\", \"5\"]}],\n",
              "                        {\"template\": {\"data\": {\"bar\": [{\"error_x\": {\"color\": \"#2a3f5f\"}, \"error_y\": {\"color\": \"#2a3f5f\"}, \"marker\": {\"line\": {\"color\": \"#E5ECF6\", \"width\": 0.5}}, \"type\": \"bar\"}], \"barpolar\": [{\"marker\": {\"line\": {\"color\": \"#E5ECF6\", \"width\": 0.5}}, \"type\": \"barpolar\"}], \"carpet\": [{\"aaxis\": {\"endlinecolor\": \"#2a3f5f\", \"gridcolor\": \"white\", \"linecolor\": \"white\", \"minorgridcolor\": \"white\", \"startlinecolor\": \"#2a3f5f\"}, \"baxis\": {\"endlinecolor\": \"#2a3f5f\", \"gridcolor\": \"white\", \"linecolor\": \"white\", \"minorgridcolor\": \"white\", \"startlinecolor\": \"#2a3f5f\"}, \"type\": \"carpet\"}], \"choropleth\": [{\"colorbar\": {\"outlinewidth\": 0, \"ticks\": \"\"}, \"type\": \"choropleth\"}], \"contour\": [{\"colorbar\": {\"outlinewidth\": 0, \"ticks\": \"\"}, \"colorscale\": [[0.0, \"#0d0887\"], [0.1111111111111111, \"#46039f\"], [0.2222222222222222, \"#7201a8\"], [0.3333333333333333, \"#9c179e\"], [0.4444444444444444, \"#bd3786\"], [0.5555555555555556, \"#d8576b\"], [0.6666666666666666, \"#ed7953\"], [0.7777777777777778, \"#fb9f3a\"], [0.8888888888888888, \"#fdca26\"], [1.0, \"#f0f921\"]], \"type\": \"contour\"}], \"contourcarpet\": [{\"colorbar\": {\"outlinewidth\": 0, \"ticks\": \"\"}, \"type\": \"contourcarpet\"}], \"heatmap\": [{\"colorbar\": {\"outlinewidth\": 0, \"ticks\": \"\"}, \"colorscale\": [[0.0, \"#0d0887\"], [0.1111111111111111, \"#46039f\"], [0.2222222222222222, \"#7201a8\"], [0.3333333333333333, \"#9c179e\"], [0.4444444444444444, \"#bd3786\"], [0.5555555555555556, \"#d8576b\"], [0.6666666666666666, \"#ed7953\"], [0.7777777777777778, \"#fb9f3a\"], [0.8888888888888888, \"#fdca26\"], [1.0, \"#f0f921\"]], \"type\": \"heatmap\"}], \"heatmapgl\": [{\"colorbar\": {\"outlinewidth\": 0, \"ticks\": \"\"}, \"colorscale\": [[0.0, \"#0d0887\"], [0.1111111111111111, \"#46039f\"], [0.2222222222222222, \"#7201a8\"], [0.3333333333333333, \"#9c179e\"], [0.4444444444444444, \"#bd3786\"], [0.5555555555555556, \"#d8576b\"], [0.6666666666666666, \"#ed7953\"], [0.7777777777777778, \"#fb9f3a\"], [0.8888888888888888, \"#fdca26\"], [1.0, \"#f0f921\"]], \"type\": \"heatmapgl\"}], \"histogram\": [{\"marker\": {\"colorbar\": {\"outlinewidth\": 0, \"ticks\": \"\"}}, \"type\": \"histogram\"}], \"histogram2d\": [{\"colorbar\": {\"outlinewidth\": 0, \"ticks\": \"\"}, \"colorscale\": [[0.0, \"#0d0887\"], [0.1111111111111111, \"#46039f\"], [0.2222222222222222, \"#7201a8\"], [0.3333333333333333, \"#9c179e\"], [0.4444444444444444, \"#bd3786\"], [0.5555555555555556, \"#d8576b\"], [0.6666666666666666, \"#ed7953\"], [0.7777777777777778, \"#fb9f3a\"], [0.8888888888888888, \"#fdca26\"], [1.0, \"#f0f921\"]], \"type\": \"histogram2d\"}], \"histogram2dcontour\": [{\"colorbar\": {\"outlinewidth\": 0, \"ticks\": \"\"}, \"colorscale\": [[0.0, \"#0d0887\"], [0.1111111111111111, \"#46039f\"], [0.2222222222222222, \"#7201a8\"], [0.3333333333333333, \"#9c179e\"], [0.4444444444444444, \"#bd3786\"], [0.5555555555555556, \"#d8576b\"], [0.6666666666666666, \"#ed7953\"], [0.7777777777777778, \"#fb9f3a\"], [0.8888888888888888, \"#fdca26\"], [1.0, \"#f0f921\"]], \"type\": \"histogram2dcontour\"}], \"mesh3d\": [{\"colorbar\": {\"outlinewidth\": 0, \"ticks\": \"\"}, \"type\": \"mesh3d\"}], \"parcoords\": [{\"line\": {\"colorbar\": {\"outlinewidth\": 0, \"ticks\": \"\"}}, \"type\": \"parcoords\"}], \"pie\": [{\"automargin\": true, \"type\": \"pie\"}], \"scatter\": [{\"marker\": {\"colorbar\": {\"outlinewidth\": 0, \"ticks\": \"\"}}, \"type\": \"scatter\"}], \"scatter3d\": [{\"line\": {\"colorbar\": {\"outlinewidth\": 0, \"ticks\": \"\"}}, \"marker\": {\"colorbar\": {\"outlinewidth\": 0, \"ticks\": \"\"}}, \"type\": \"scatter3d\"}], \"scattercarpet\": [{\"marker\": {\"colorbar\": {\"outlinewidth\": 0, \"ticks\": \"\"}}, \"type\": \"scattercarpet\"}], \"scattergeo\": [{\"marker\": {\"colorbar\": {\"outlinewidth\": 0, \"ticks\": \"\"}}, \"type\": \"scattergeo\"}], \"scattergl\": [{\"marker\": {\"colorbar\": {\"outlinewidth\": 0, \"ticks\": \"\"}}, \"type\": \"scattergl\"}], \"scattermapbox\": [{\"marker\": {\"colorbar\": {\"outlinewidth\": 0, \"ticks\": \"\"}}, \"type\": \"scattermapbox\"}], \"scatterpolar\": [{\"marker\": {\"colorbar\": {\"outlinewidth\": 0, \"ticks\": \"\"}}, \"type\": \"scatterpolar\"}], \"scatterpolargl\": [{\"marker\": {\"colorbar\": {\"outlinewidth\": 0, \"ticks\": \"\"}}, \"type\": \"scatterpolargl\"}], \"scatterternary\": [{\"marker\": {\"colorbar\": {\"outlinewidth\": 0, \"ticks\": \"\"}}, \"type\": \"scatterternary\"}], \"surface\": [{\"colorbar\": {\"outlinewidth\": 0, \"ticks\": \"\"}, \"colorscale\": [[0.0, \"#0d0887\"], [0.1111111111111111, \"#46039f\"], [0.2222222222222222, \"#7201a8\"], [0.3333333333333333, \"#9c179e\"], [0.4444444444444444, \"#bd3786\"], [0.5555555555555556, \"#d8576b\"], [0.6666666666666666, \"#ed7953\"], [0.7777777777777778, \"#fb9f3a\"], [0.8888888888888888, \"#fdca26\"], [1.0, \"#f0f921\"]], \"type\": \"surface\"}], \"table\": [{\"cells\": {\"fill\": {\"color\": \"#EBF0F8\"}, \"line\": {\"color\": \"white\"}}, \"header\": {\"fill\": {\"color\": \"#C8D4E3\"}, \"line\": {\"color\": \"white\"}}, \"type\": \"table\"}]}, \"layout\": {\"annotationdefaults\": {\"arrowcolor\": \"#2a3f5f\", \"arrowhead\": 0, \"arrowwidth\": 1}, \"coloraxis\": {\"colorbar\": {\"outlinewidth\": 0, \"ticks\": \"\"}}, \"colorscale\": {\"diverging\": [[0, \"#8e0152\"], [0.1, \"#c51b7d\"], [0.2, \"#de77ae\"], [0.3, \"#f1b6da\"], [0.4, \"#fde0ef\"], [0.5, \"#f7f7f7\"], [0.6, \"#e6f5d0\"], [0.7, \"#b8e186\"], [0.8, \"#7fbc41\"], [0.9, \"#4d9221\"], [1, \"#276419\"]], \"sequential\": [[0.0, \"#0d0887\"], [0.1111111111111111, \"#46039f\"], [0.2222222222222222, \"#7201a8\"], [0.3333333333333333, \"#9c179e\"], [0.4444444444444444, \"#bd3786\"], [0.5555555555555556, \"#d8576b\"], [0.6666666666666666, \"#ed7953\"], [0.7777777777777778, \"#fb9f3a\"], [0.8888888888888888, \"#fdca26\"], [1.0, \"#f0f921\"]], \"sequentialminus\": [[0.0, \"#0d0887\"], [0.1111111111111111, \"#46039f\"], [0.2222222222222222, \"#7201a8\"], [0.3333333333333333, \"#9c179e\"], [0.4444444444444444, \"#bd3786\"], [0.5555555555555556, \"#d8576b\"], [0.6666666666666666, \"#ed7953\"], [0.7777777777777778, \"#fb9f3a\"], [0.8888888888888888, \"#fdca26\"], [1.0, \"#f0f921\"]]}, \"colorway\": [\"#636efa\", \"#EF553B\", \"#00cc96\", \"#ab63fa\", \"#FFA15A\", \"#19d3f3\", \"#FF6692\", \"#B6E880\", \"#FF97FF\", \"#FECB52\"], \"font\": {\"color\": \"#2a3f5f\"}, \"geo\": {\"bgcolor\": \"white\", \"lakecolor\": \"white\", \"landcolor\": \"#E5ECF6\", \"showlakes\": true, \"showland\": true, \"subunitcolor\": \"white\"}, \"hoverlabel\": {\"align\": \"left\"}, \"hovermode\": \"closest\", \"mapbox\": {\"style\": \"light\"}, \"paper_bgcolor\": \"white\", \"plot_bgcolor\": \"#E5ECF6\", \"polar\": {\"angularaxis\": {\"gridcolor\": \"white\", \"linecolor\": \"white\", \"ticks\": \"\"}, \"bgcolor\": \"#E5ECF6\", \"radialaxis\": {\"gridcolor\": \"white\", \"linecolor\": \"white\", \"ticks\": \"\"}}, \"scene\": {\"xaxis\": {\"backgroundcolor\": \"#E5ECF6\", \"gridcolor\": \"white\", \"gridwidth\": 2, \"linecolor\": \"white\", \"showbackground\": true, \"ticks\": \"\", \"zerolinecolor\": \"white\"}, \"yaxis\": {\"backgroundcolor\": \"#E5ECF6\", \"gridcolor\": \"white\", \"gridwidth\": 2, \"linecolor\": \"white\", \"showbackground\": true, \"ticks\": \"\", \"zerolinecolor\": \"white\"}, \"zaxis\": {\"backgroundcolor\": \"#E5ECF6\", \"gridcolor\": \"white\", \"gridwidth\": 2, \"linecolor\": \"white\", \"showbackground\": true, \"ticks\": \"\", \"zerolinecolor\": \"white\"}}, \"shapedefaults\": {\"line\": {\"color\": \"#2a3f5f\"}}, \"ternary\": {\"aaxis\": {\"gridcolor\": \"white\", \"linecolor\": \"white\", \"ticks\": \"\"}, \"baxis\": {\"gridcolor\": \"white\", \"linecolor\": \"white\", \"ticks\": \"\"}, \"bgcolor\": \"#E5ECF6\", \"caxis\": {\"gridcolor\": \"white\", \"linecolor\": \"white\", \"ticks\": \"\"}}, \"title\": {\"x\": 0.05}, \"xaxis\": {\"automargin\": true, \"gridcolor\": \"white\", \"linecolor\": \"white\", \"ticks\": \"\", \"title\": {\"standoff\": 15}, \"zerolinecolor\": \"white\", \"zerolinewidth\": 2}, \"yaxis\": {\"automargin\": true, \"gridcolor\": \"white\", \"linecolor\": \"white\", \"ticks\": \"\", \"title\": {\"standoff\": 15}, \"zerolinecolor\": \"white\", \"zerolinewidth\": 2}}}},\n",
              "                        {\"responsive\": true}\n",
              "                    ).then(function(){\n",
              "                            \n",
              "var gd = document.getElementById('37e72f23-5c9b-4994-80b4-0df78feef16a');\n",
              "var x = new MutationObserver(function (mutations, observer) {{\n",
              "        var display = window.getComputedStyle(gd).display;\n",
              "        if (!display || display === 'none') {{\n",
              "            console.log([gd, 'removed!']);\n",
              "            Plotly.purge(gd);\n",
              "            observer.disconnect();\n",
              "        }}\n",
              "}});\n",
              "\n",
              "// Listen for the removal of the full notebook cells\n",
              "var notebookContainer = gd.closest('#notebook-container');\n",
              "if (notebookContainer) {{\n",
              "    x.observe(notebookContainer, {childList: true});\n",
              "}}\n",
              "\n",
              "// Listen for the clearing of the current output cell\n",
              "var outputEl = gd.closest('.output');\n",
              "if (outputEl) {{\n",
              "    x.observe(outputEl, {childList: true});\n",
              "}}\n",
              "\n",
              "                        })\n",
              "                };\n",
              "                \n",
              "            </script>\n",
              "        </div>\n",
              "</body>\n",
              "</html>"
            ]
          },
          "metadata": {
            "tags": []
          }
        }
      ]
    },
    {
      "cell_type": "markdown",
      "metadata": {
        "id": "HvFXryTyrs7D"
      },
      "source": [
        "##Bar Chart - Plotly Express - easy to use"
      ]
    },
    {
      "cell_type": "code",
      "metadata": {
        "colab": {
          "base_uri": "https://localhost:8080/",
          "height": 416
        },
        "id": "ikDMwYgyrgMe",
        "outputId": "610f8ce3-4520-4f1a-998f-4581ddc9548e"
      },
      "source": [
        "import plotly.express as px\n",
        "data = px.data.gapminder()\n",
        "\n",
        "data_canada = data[data.country == 'Canada']\n",
        "fig = px.bar(data_canada, x='year', y='pop',\n",
        "             hover_data=['lifeExp', 'gdpPercap'], color='lifeExp',\n",
        "             labels={'pop':'population of Canada'}, height=400)\n",
        "fig.show()"
      ],
      "execution_count": null,
      "outputs": [
        {
          "output_type": "display_data",
          "data": {
            "text/html": [
              "<html>\n",
              "<head><meta charset=\"utf-8\" /></head>\n",
              "<body>\n",
              "    <div>\n",
              "            <script src=\"https://cdnjs.cloudflare.com/ajax/libs/mathjax/2.7.5/MathJax.js?config=TeX-AMS-MML_SVG\"></script><script type=\"text/javascript\">if (window.MathJax) {MathJax.Hub.Config({SVG: {font: \"STIX-Web\"}});}</script>\n",
              "                <script type=\"text/javascript\">window.PlotlyConfig = {MathJaxConfig: 'local'};</script>\n",
              "        <script src=\"https://cdn.plot.ly/plotly-latest.min.js\"></script>    \n",
              "            <div id=\"be7c70a5-c2bb-4e07-b365-63aae9135467\" class=\"plotly-graph-div\" style=\"height:400px; width:100%;\"></div>\n",
              "            <script type=\"text/javascript\">\n",
              "                \n",
              "                    window.PLOTLYENV=window.PLOTLYENV || {};\n",
              "                    \n",
              "                if (document.getElementById(\"be7c70a5-c2bb-4e07-b365-63aae9135467\")) {\n",
              "                    Plotly.newPlot(\n",
              "                        'be7c70a5-c2bb-4e07-b365-63aae9135467',\n",
              "                        [{\"alignmentgroup\": \"True\", \"customdata\": [[68.75, 11367.16112], [69.96, 12489.95006], [71.3, 13462.48555], [72.13, 16076.58803], [72.88, 18970.57086], [74.21, 22090.88306], [75.76, 22898.79214], [76.86, 26626.515030000002], [77.95, 26342.88426], [78.61, 28954.92589], [79.77, 33328.96507], [80.653, 36319.235010000004]], \"hoverlabel\": {\"namelength\": 0}, \"hovertemplate\": \"year=%{x}<br>population of Canada=%{y}<br>lifeExp=%{marker.color}<br>gdpPercap=%{customdata[1]}\", \"legendgroup\": \"\", \"marker\": {\"color\": [68.75, 69.96, 71.3, 72.13, 72.88, 74.21, 75.76, 76.86, 77.95, 78.61, 79.77, 80.653], \"coloraxis\": \"coloraxis\"}, \"name\": \"\", \"offsetgroup\": \"\", \"orientation\": \"v\", \"showlegend\": false, \"textposition\": \"auto\", \"type\": \"bar\", \"x\": [1952, 1957, 1962, 1967, 1972, 1977, 1982, 1987, 1992, 1997, 2002, 2007], \"xaxis\": \"x\", \"y\": [14785584, 17010154, 18985849, 20819767, 22284500, 23796400, 25201900, 26549700, 28523502, 30305843, 31902268, 33390141], \"yaxis\": \"y\"}],\n",
              "                        {\"barmode\": \"relative\", \"coloraxis\": {\"colorbar\": {\"title\": {\"text\": \"lifeExp\"}}, \"colorscale\": [[0.0, \"#0d0887\"], [0.1111111111111111, \"#46039f\"], [0.2222222222222222, \"#7201a8\"], [0.3333333333333333, \"#9c179e\"], [0.4444444444444444, \"#bd3786\"], [0.5555555555555556, \"#d8576b\"], [0.6666666666666666, \"#ed7953\"], [0.7777777777777778, \"#fb9f3a\"], [0.8888888888888888, \"#fdca26\"], [1.0, \"#f0f921\"]]}, \"height\": 400, \"legend\": {\"tracegroupgap\": 0}, \"margin\": {\"t\": 60}, \"template\": {\"data\": {\"bar\": [{\"error_x\": {\"color\": \"#2a3f5f\"}, \"error_y\": {\"color\": \"#2a3f5f\"}, \"marker\": {\"line\": {\"color\": \"#E5ECF6\", \"width\": 0.5}}, \"type\": \"bar\"}], \"barpolar\": [{\"marker\": {\"line\": {\"color\": \"#E5ECF6\", \"width\": 0.5}}, \"type\": \"barpolar\"}], \"carpet\": [{\"aaxis\": {\"endlinecolor\": \"#2a3f5f\", \"gridcolor\": \"white\", \"linecolor\": \"white\", \"minorgridcolor\": \"white\", \"startlinecolor\": \"#2a3f5f\"}, \"baxis\": {\"endlinecolor\": \"#2a3f5f\", \"gridcolor\": \"white\", \"linecolor\": \"white\", \"minorgridcolor\": \"white\", \"startlinecolor\": \"#2a3f5f\"}, \"type\": \"carpet\"}], \"choropleth\": [{\"colorbar\": {\"outlinewidth\": 0, \"ticks\": \"\"}, \"type\": \"choropleth\"}], \"contour\": [{\"colorbar\": {\"outlinewidth\": 0, \"ticks\": \"\"}, \"colorscale\": [[0.0, \"#0d0887\"], [0.1111111111111111, \"#46039f\"], [0.2222222222222222, \"#7201a8\"], [0.3333333333333333, \"#9c179e\"], [0.4444444444444444, \"#bd3786\"], [0.5555555555555556, \"#d8576b\"], [0.6666666666666666, \"#ed7953\"], [0.7777777777777778, \"#fb9f3a\"], [0.8888888888888888, \"#fdca26\"], [1.0, \"#f0f921\"]], \"type\": \"contour\"}], \"contourcarpet\": [{\"colorbar\": {\"outlinewidth\": 0, \"ticks\": \"\"}, \"type\": \"contourcarpet\"}], \"heatmap\": [{\"colorbar\": {\"outlinewidth\": 0, \"ticks\": \"\"}, \"colorscale\": [[0.0, \"#0d0887\"], [0.1111111111111111, \"#46039f\"], [0.2222222222222222, \"#7201a8\"], [0.3333333333333333, \"#9c179e\"], [0.4444444444444444, \"#bd3786\"], [0.5555555555555556, \"#d8576b\"], [0.6666666666666666, \"#ed7953\"], [0.7777777777777778, \"#fb9f3a\"], [0.8888888888888888, \"#fdca26\"], [1.0, \"#f0f921\"]], \"type\": \"heatmap\"}], \"heatmapgl\": [{\"colorbar\": {\"outlinewidth\": 0, \"ticks\": \"\"}, \"colorscale\": [[0.0, \"#0d0887\"], [0.1111111111111111, \"#46039f\"], [0.2222222222222222, \"#7201a8\"], [0.3333333333333333, \"#9c179e\"], [0.4444444444444444, \"#bd3786\"], [0.5555555555555556, \"#d8576b\"], [0.6666666666666666, \"#ed7953\"], [0.7777777777777778, \"#fb9f3a\"], [0.8888888888888888, \"#fdca26\"], [1.0, \"#f0f921\"]], \"type\": \"heatmapgl\"}], \"histogram\": [{\"marker\": {\"colorbar\": {\"outlinewidth\": 0, \"ticks\": \"\"}}, \"type\": \"histogram\"}], \"histogram2d\": [{\"colorbar\": {\"outlinewidth\": 0, \"ticks\": \"\"}, \"colorscale\": [[0.0, \"#0d0887\"], [0.1111111111111111, \"#46039f\"], [0.2222222222222222, \"#7201a8\"], [0.3333333333333333, \"#9c179e\"], [0.4444444444444444, \"#bd3786\"], [0.5555555555555556, \"#d8576b\"], [0.6666666666666666, \"#ed7953\"], [0.7777777777777778, \"#fb9f3a\"], [0.8888888888888888, \"#fdca26\"], [1.0, \"#f0f921\"]], \"type\": \"histogram2d\"}], \"histogram2dcontour\": [{\"colorbar\": {\"outlinewidth\": 0, \"ticks\": \"\"}, \"colorscale\": [[0.0, \"#0d0887\"], [0.1111111111111111, \"#46039f\"], [0.2222222222222222, \"#7201a8\"], [0.3333333333333333, \"#9c179e\"], [0.4444444444444444, \"#bd3786\"], [0.5555555555555556, \"#d8576b\"], [0.6666666666666666, \"#ed7953\"], [0.7777777777777778, \"#fb9f3a\"], [0.8888888888888888, \"#fdca26\"], [1.0, \"#f0f921\"]], \"type\": \"histogram2dcontour\"}], \"mesh3d\": [{\"colorbar\": {\"outlinewidth\": 0, \"ticks\": \"\"}, \"type\": \"mesh3d\"}], \"parcoords\": [{\"line\": {\"colorbar\": {\"outlinewidth\": 0, \"ticks\": \"\"}}, \"type\": \"parcoords\"}], \"pie\": [{\"automargin\": true, \"type\": \"pie\"}], \"scatter\": [{\"marker\": {\"colorbar\": {\"outlinewidth\": 0, \"ticks\": \"\"}}, \"type\": \"scatter\"}], \"scatter3d\": [{\"line\": {\"colorbar\": {\"outlinewidth\": 0, \"ticks\": \"\"}}, \"marker\": {\"colorbar\": {\"outlinewidth\": 0, \"ticks\": \"\"}}, \"type\": \"scatter3d\"}], \"scattercarpet\": [{\"marker\": {\"colorbar\": {\"outlinewidth\": 0, \"ticks\": \"\"}}, \"type\": \"scattercarpet\"}], \"scattergeo\": [{\"marker\": {\"colorbar\": {\"outlinewidth\": 0, \"ticks\": \"\"}}, \"type\": \"scattergeo\"}], \"scattergl\": [{\"marker\": {\"colorbar\": {\"outlinewidth\": 0, \"ticks\": \"\"}}, \"type\": \"scattergl\"}], \"scattermapbox\": [{\"marker\": {\"colorbar\": {\"outlinewidth\": 0, \"ticks\": \"\"}}, \"type\": \"scattermapbox\"}], \"scatterpolar\": [{\"marker\": {\"colorbar\": {\"outlinewidth\": 0, \"ticks\": \"\"}}, \"type\": \"scatterpolar\"}], \"scatterpolargl\": [{\"marker\": {\"colorbar\": {\"outlinewidth\": 0, \"ticks\": \"\"}}, \"type\": \"scatterpolargl\"}], \"scatterternary\": [{\"marker\": {\"colorbar\": {\"outlinewidth\": 0, \"ticks\": \"\"}}, \"type\": \"scatterternary\"}], \"surface\": [{\"colorbar\": {\"outlinewidth\": 0, \"ticks\": \"\"}, \"colorscale\": [[0.0, \"#0d0887\"], [0.1111111111111111, \"#46039f\"], [0.2222222222222222, \"#7201a8\"], [0.3333333333333333, \"#9c179e\"], [0.4444444444444444, \"#bd3786\"], [0.5555555555555556, \"#d8576b\"], [0.6666666666666666, \"#ed7953\"], [0.7777777777777778, \"#fb9f3a\"], [0.8888888888888888, \"#fdca26\"], [1.0, \"#f0f921\"]], \"type\": \"surface\"}], \"table\": [{\"cells\": {\"fill\": {\"color\": \"#EBF0F8\"}, \"line\": {\"color\": \"white\"}}, \"header\": {\"fill\": {\"color\": \"#C8D4E3\"}, \"line\": {\"color\": \"white\"}}, \"type\": \"table\"}]}, \"layout\": {\"annotationdefaults\": {\"arrowcolor\": \"#2a3f5f\", \"arrowhead\": 0, \"arrowwidth\": 1}, \"coloraxis\": {\"colorbar\": {\"outlinewidth\": 0, \"ticks\": \"\"}}, \"colorscale\": {\"diverging\": [[0, \"#8e0152\"], [0.1, \"#c51b7d\"], [0.2, \"#de77ae\"], [0.3, \"#f1b6da\"], [0.4, \"#fde0ef\"], [0.5, \"#f7f7f7\"], [0.6, \"#e6f5d0\"], [0.7, \"#b8e186\"], [0.8, \"#7fbc41\"], [0.9, \"#4d9221\"], [1, \"#276419\"]], \"sequential\": [[0.0, \"#0d0887\"], [0.1111111111111111, \"#46039f\"], [0.2222222222222222, \"#7201a8\"], [0.3333333333333333, \"#9c179e\"], [0.4444444444444444, \"#bd3786\"], [0.5555555555555556, \"#d8576b\"], [0.6666666666666666, \"#ed7953\"], [0.7777777777777778, \"#fb9f3a\"], [0.8888888888888888, \"#fdca26\"], [1.0, \"#f0f921\"]], \"sequentialminus\": [[0.0, \"#0d0887\"], [0.1111111111111111, \"#46039f\"], [0.2222222222222222, \"#7201a8\"], [0.3333333333333333, \"#9c179e\"], [0.4444444444444444, \"#bd3786\"], [0.5555555555555556, \"#d8576b\"], [0.6666666666666666, \"#ed7953\"], [0.7777777777777778, \"#fb9f3a\"], [0.8888888888888888, \"#fdca26\"], [1.0, \"#f0f921\"]]}, \"colorway\": [\"#636efa\", \"#EF553B\", \"#00cc96\", \"#ab63fa\", \"#FFA15A\", \"#19d3f3\", \"#FF6692\", \"#B6E880\", \"#FF97FF\", \"#FECB52\"], \"font\": {\"color\": \"#2a3f5f\"}, \"geo\": {\"bgcolor\": \"white\", \"lakecolor\": \"white\", \"landcolor\": \"#E5ECF6\", \"showlakes\": true, \"showland\": true, \"subunitcolor\": \"white\"}, \"hoverlabel\": {\"align\": \"left\"}, \"hovermode\": \"closest\", \"mapbox\": {\"style\": \"light\"}, \"paper_bgcolor\": \"white\", \"plot_bgcolor\": \"#E5ECF6\", \"polar\": {\"angularaxis\": {\"gridcolor\": \"white\", \"linecolor\": \"white\", \"ticks\": \"\"}, \"bgcolor\": \"#E5ECF6\", \"radialaxis\": {\"gridcolor\": \"white\", \"linecolor\": \"white\", \"ticks\": \"\"}}, \"scene\": {\"xaxis\": {\"backgroundcolor\": \"#E5ECF6\", \"gridcolor\": \"white\", \"gridwidth\": 2, \"linecolor\": \"white\", \"showbackground\": true, \"ticks\": \"\", \"zerolinecolor\": \"white\"}, \"yaxis\": {\"backgroundcolor\": \"#E5ECF6\", \"gridcolor\": \"white\", \"gridwidth\": 2, \"linecolor\": \"white\", \"showbackground\": true, \"ticks\": \"\", \"zerolinecolor\": \"white\"}, \"zaxis\": {\"backgroundcolor\": \"#E5ECF6\", \"gridcolor\": \"white\", \"gridwidth\": 2, \"linecolor\": \"white\", \"showbackground\": true, \"ticks\": \"\", \"zerolinecolor\": \"white\"}}, \"shapedefaults\": {\"line\": {\"color\": \"#2a3f5f\"}}, \"ternary\": {\"aaxis\": {\"gridcolor\": \"white\", \"linecolor\": \"white\", \"ticks\": \"\"}, \"baxis\": {\"gridcolor\": \"white\", \"linecolor\": \"white\", \"ticks\": \"\"}, \"bgcolor\": \"#E5ECF6\", \"caxis\": {\"gridcolor\": \"white\", \"linecolor\": \"white\", \"ticks\": \"\"}}, \"title\": {\"x\": 0.05}, \"xaxis\": {\"automargin\": true, \"gridcolor\": \"white\", \"linecolor\": \"white\", \"ticks\": \"\", \"title\": {\"standoff\": 15}, \"zerolinecolor\": \"white\", \"zerolinewidth\": 2}, \"yaxis\": {\"automargin\": true, \"gridcolor\": \"white\", \"linecolor\": \"white\", \"ticks\": \"\", \"title\": {\"standoff\": 15}, \"zerolinecolor\": \"white\", \"zerolinewidth\": 2}}}, \"xaxis\": {\"anchor\": \"y\", \"domain\": [0.0, 1.0], \"title\": {\"text\": \"year\"}}, \"yaxis\": {\"anchor\": \"x\", \"domain\": [0.0, 1.0], \"title\": {\"text\": \"population of Canada\"}}},\n",
              "                        {\"responsive\": true}\n",
              "                    ).then(function(){\n",
              "                            \n",
              "var gd = document.getElementById('be7c70a5-c2bb-4e07-b365-63aae9135467');\n",
              "var x = new MutationObserver(function (mutations, observer) {{\n",
              "        var display = window.getComputedStyle(gd).display;\n",
              "        if (!display || display === 'none') {{\n",
              "            console.log([gd, 'removed!']);\n",
              "            Plotly.purge(gd);\n",
              "            observer.disconnect();\n",
              "        }}\n",
              "}});\n",
              "\n",
              "// Listen for the removal of the full notebook cells\n",
              "var notebookContainer = gd.closest('#notebook-container');\n",
              "if (notebookContainer) {{\n",
              "    x.observe(notebookContainer, {childList: true});\n",
              "}}\n",
              "\n",
              "// Listen for the clearing of the current output cell\n",
              "var outputEl = gd.closest('.output');\n",
              "if (outputEl) {{\n",
              "    x.observe(outputEl, {childList: true});\n",
              "}}\n",
              "\n",
              "                        })\n",
              "                };\n",
              "                \n",
              "            </script>\n",
              "        </div>\n",
              "</body>\n",
              "</html>"
            ]
          },
          "metadata": {
            "tags": []
          }
        }
      ]
    },
    {
      "cell_type": "markdown",
      "metadata": {
        "id": "JwZOLE4m6yZb"
      },
      "source": [
        "###Aggregation sum"
      ]
    },
    {
      "cell_type": "code",
      "metadata": {
        "colab": {
          "base_uri": "https://localhost:8080/",
          "height": 316
        },
        "id": "4ZfQLlGlsfws",
        "outputId": "36c4c3be-1a2d-4371-ecb4-8def56391ac2"
      },
      "source": [
        "import plotly.express as px\n",
        "df = px.data.tips()\n",
        "fig2 = px.histogram(df, x='day', y='tip', histfunc='sum', height=300,\n",
        "                    title='Histogram Chart')\n",
        "fig2.show()"
      ],
      "execution_count": null,
      "outputs": [
        {
          "output_type": "display_data",
          "data": {
            "text/html": [
              "<html>\n",
              "<head><meta charset=\"utf-8\" /></head>\n",
              "<body>\n",
              "    <div>\n",
              "            <script src=\"https://cdnjs.cloudflare.com/ajax/libs/mathjax/2.7.5/MathJax.js?config=TeX-AMS-MML_SVG\"></script><script type=\"text/javascript\">if (window.MathJax) {MathJax.Hub.Config({SVG: {font: \"STIX-Web\"}});}</script>\n",
              "                <script type=\"text/javascript\">window.PlotlyConfig = {MathJaxConfig: 'local'};</script>\n",
              "        <script src=\"https://cdn.plot.ly/plotly-latest.min.js\"></script>    \n",
              "            <div id=\"e4428ee2-5e86-404c-a46f-ea3aff91b244\" class=\"plotly-graph-div\" style=\"height:300px; width:100%;\"></div>\n",
              "            <script type=\"text/javascript\">\n",
              "                \n",
              "                    window.PLOTLYENV=window.PLOTLYENV || {};\n",
              "                    \n",
              "                if (document.getElementById(\"e4428ee2-5e86-404c-a46f-ea3aff91b244\")) {\n",
              "                    Plotly.newPlot(\n",
              "                        'e4428ee2-5e86-404c-a46f-ea3aff91b244',\n",
              "                        [{\"alignmentgroup\": \"True\", \"bingroup\": \"x\", \"histfunc\": \"sum\", \"hoverlabel\": {\"namelength\": 0}, \"hovertemplate\": \"day=%{x}<br>sum of tip=%{y}\", \"legendgroup\": \"\", \"marker\": {\"color\": \"#636efa\"}, \"name\": \"\", \"offsetgroup\": \"\", \"orientation\": \"v\", \"showlegend\": false, \"type\": \"histogram\", \"x\": [\"Sun\", \"Sun\", \"Sun\", \"Sun\", \"Sun\", \"Sun\", \"Sun\", \"Sun\", \"Sun\", \"Sun\", \"Sun\", \"Sun\", \"Sun\", \"Sun\", \"Sun\", \"Sun\", \"Sun\", \"Sun\", \"Sun\", \"Sat\", \"Sat\", \"Sat\", \"Sat\", \"Sat\", \"Sat\", \"Sat\", \"Sat\", \"Sat\", \"Sat\", \"Sat\", \"Sat\", \"Sat\", \"Sat\", \"Sat\", \"Sat\", \"Sat\", \"Sat\", \"Sat\", \"Sat\", \"Sat\", \"Sat\", \"Sun\", \"Sun\", \"Sun\", \"Sun\", \"Sun\", \"Sun\", \"Sun\", \"Sun\", \"Sun\", \"Sun\", \"Sun\", \"Sun\", \"Sun\", \"Sun\", \"Sun\", \"Sat\", \"Sat\", \"Sat\", \"Sat\", \"Sat\", \"Sat\", \"Sat\", \"Sat\", \"Sat\", \"Sat\", \"Sat\", \"Sat\", \"Sat\", \"Sat\", \"Sat\", \"Sat\", \"Sat\", \"Sat\", \"Sat\", \"Sat\", \"Sat\", \"Thur\", \"Thur\", \"Thur\", \"Thur\", \"Thur\", \"Thur\", \"Thur\", \"Thur\", \"Thur\", \"Thur\", \"Thur\", \"Thur\", \"Thur\", \"Fri\", \"Fri\", \"Fri\", \"Fri\", \"Fri\", \"Fri\", \"Fri\", \"Fri\", \"Fri\", \"Fri\", \"Fri\", \"Fri\", \"Sat\", \"Sat\", \"Sat\", \"Sat\", \"Sat\", \"Sat\", \"Sat\", \"Sat\", \"Sat\", \"Sat\", \"Sun\", \"Sun\", \"Sun\", \"Sun\", \"Sun\", \"Thur\", \"Thur\", \"Thur\", \"Thur\", \"Thur\", \"Thur\", \"Thur\", \"Thur\", \"Thur\", \"Thur\", \"Thur\", \"Thur\", \"Thur\", \"Thur\", \"Thur\", \"Thur\", \"Thur\", \"Thur\", \"Thur\", \"Thur\", \"Thur\", \"Thur\", \"Thur\", \"Thur\", \"Thur\", \"Thur\", \"Thur\", \"Thur\", \"Thur\", \"Thur\", \"Thur\", \"Thur\", \"Thur\", \"Sun\", \"Sun\", \"Sun\", \"Sun\", \"Sun\", \"Sun\", \"Sun\", \"Sun\", \"Sun\", \"Sun\", \"Sun\", \"Sun\", \"Sun\", \"Sun\", \"Sun\", \"Sun\", \"Sun\", \"Sun\", \"Sat\", \"Sat\", \"Sat\", \"Sat\", \"Sun\", \"Sun\", \"Sun\", \"Sun\", \"Sun\", \"Sun\", \"Sun\", \"Sun\", \"Sun\", \"Sun\", \"Sun\", \"Sun\", \"Sun\", \"Sun\", \"Sun\", \"Sun\", \"Sun\", \"Sun\", \"Sun\", \"Thur\", \"Thur\", \"Thur\", \"Thur\", \"Thur\", \"Thur\", \"Thur\", \"Thur\", \"Thur\", \"Thur\", \"Thur\", \"Thur\", \"Thur\", \"Thur\", \"Thur\", \"Sat\", \"Sat\", \"Sat\", \"Sat\", \"Sat\", \"Sat\", \"Sat\", \"Sat\", \"Sat\", \"Sat\", \"Sat\", \"Sat\", \"Sat\", \"Sat\", \"Fri\", \"Fri\", \"Fri\", \"Fri\", \"Fri\", \"Fri\", \"Fri\", \"Sat\", \"Sat\", \"Sat\", \"Sat\", \"Sat\", \"Sat\", \"Sat\", \"Sat\", \"Sat\", \"Sat\", \"Sat\", \"Sat\", \"Sat\", \"Sat\", \"Sat\", \"Sat\", \"Thur\"], \"xaxis\": \"x\", \"y\": [1.01, 1.66, 3.5, 3.31, 3.61, 4.71, 2.0, 3.12, 1.96, 3.23, 1.71, 5.0, 1.57, 3.0, 3.02, 3.92, 1.67, 3.71, 3.5, 3.35, 4.08, 2.75, 2.23, 7.58, 3.18, 2.34, 2.0, 2.0, 4.3, 3.0, 1.45, 2.5, 3.0, 2.45, 3.27, 3.6, 2.0, 3.07, 2.31, 5.0, 2.24, 2.54, 3.06, 1.32, 5.6, 3.0, 5.0, 6.0, 2.05, 3.0, 2.5, 2.6, 5.2, 1.56, 4.34, 3.51, 3.0, 1.5, 1.76, 6.73, 3.21, 2.0, 1.98, 3.76, 2.64, 3.15, 2.47, 1.0, 2.01, 2.09, 1.97, 3.0, 3.14, 5.0, 2.2, 1.25, 3.08, 4.0, 3.0, 2.71, 3.0, 3.4, 1.83, 5.0, 2.03, 5.17, 2.0, 4.0, 5.85, 3.0, 3.0, 3.5, 1.0, 4.3, 3.25, 4.73, 4.0, 1.5, 3.0, 1.5, 2.5, 3.0, 2.5, 3.48, 4.08, 1.64, 4.06, 4.29, 3.76, 4.0, 3.0, 1.0, 4.0, 2.55, 4.0, 3.5, 5.07, 1.5, 1.8, 2.92, 2.31, 1.68, 2.5, 2.0, 2.52, 4.2, 1.48, 2.0, 2.0, 2.18, 1.5, 2.83, 1.5, 2.0, 3.25, 1.25, 2.0, 2.0, 2.0, 2.75, 3.5, 6.7, 5.0, 5.0, 2.3, 1.5, 1.36, 1.63, 1.73, 2.0, 2.5, 2.0, 2.74, 2.0, 2.0, 5.14, 5.0, 3.75, 2.61, 2.0, 3.5, 2.5, 2.0, 2.0, 3.0, 3.48, 2.24, 4.5, 1.61, 2.0, 10.0, 3.16, 5.15, 3.18, 4.0, 3.11, 2.0, 2.0, 4.0, 3.55, 3.68, 5.65, 3.5, 6.5, 3.0, 5.0, 3.5, 2.0, 3.5, 4.0, 1.5, 4.19, 2.56, 2.02, 4.0, 1.44, 2.0, 5.0, 2.0, 2.0, 4.0, 2.01, 2.0, 2.5, 4.0, 3.23, 3.41, 3.0, 2.03, 2.23, 2.0, 5.16, 9.0, 2.5, 6.5, 1.1, 3.0, 1.5, 1.44, 3.09, 2.2, 3.48, 1.92, 3.0, 1.58, 2.5, 2.0, 3.0, 2.72, 2.88, 2.0, 3.0, 3.39, 1.47, 3.0, 1.25, 1.0, 1.17, 4.67, 5.92, 2.0, 2.0, 1.75, 3.0], \"yaxis\": \"y\"}],\n",
              "                        {\"barmode\": \"relative\", \"height\": 300, \"legend\": {\"tracegroupgap\": 0}, \"template\": {\"data\": {\"bar\": [{\"error_x\": {\"color\": \"#2a3f5f\"}, \"error_y\": {\"color\": \"#2a3f5f\"}, \"marker\": {\"line\": {\"color\": \"#E5ECF6\", \"width\": 0.5}}, \"type\": \"bar\"}], \"barpolar\": [{\"marker\": {\"line\": {\"color\": \"#E5ECF6\", \"width\": 0.5}}, \"type\": \"barpolar\"}], \"carpet\": [{\"aaxis\": {\"endlinecolor\": \"#2a3f5f\", \"gridcolor\": \"white\", \"linecolor\": \"white\", \"minorgridcolor\": \"white\", \"startlinecolor\": \"#2a3f5f\"}, \"baxis\": {\"endlinecolor\": \"#2a3f5f\", \"gridcolor\": \"white\", \"linecolor\": \"white\", \"minorgridcolor\": \"white\", \"startlinecolor\": \"#2a3f5f\"}, \"type\": \"carpet\"}], \"choropleth\": [{\"colorbar\": {\"outlinewidth\": 0, \"ticks\": \"\"}, \"type\": \"choropleth\"}], \"contour\": [{\"colorbar\": {\"outlinewidth\": 0, \"ticks\": \"\"}, \"colorscale\": [[0.0, \"#0d0887\"], [0.1111111111111111, \"#46039f\"], [0.2222222222222222, \"#7201a8\"], [0.3333333333333333, \"#9c179e\"], [0.4444444444444444, \"#bd3786\"], [0.5555555555555556, \"#d8576b\"], [0.6666666666666666, \"#ed7953\"], [0.7777777777777778, \"#fb9f3a\"], [0.8888888888888888, \"#fdca26\"], [1.0, \"#f0f921\"]], \"type\": \"contour\"}], \"contourcarpet\": [{\"colorbar\": {\"outlinewidth\": 0, \"ticks\": \"\"}, \"type\": \"contourcarpet\"}], \"heatmap\": [{\"colorbar\": {\"outlinewidth\": 0, \"ticks\": \"\"}, \"colorscale\": [[0.0, \"#0d0887\"], [0.1111111111111111, \"#46039f\"], [0.2222222222222222, \"#7201a8\"], [0.3333333333333333, \"#9c179e\"], [0.4444444444444444, \"#bd3786\"], [0.5555555555555556, \"#d8576b\"], [0.6666666666666666, \"#ed7953\"], [0.7777777777777778, \"#fb9f3a\"], [0.8888888888888888, \"#fdca26\"], [1.0, \"#f0f921\"]], \"type\": \"heatmap\"}], \"heatmapgl\": [{\"colorbar\": {\"outlinewidth\": 0, \"ticks\": \"\"}, \"colorscale\": [[0.0, \"#0d0887\"], [0.1111111111111111, \"#46039f\"], [0.2222222222222222, \"#7201a8\"], [0.3333333333333333, \"#9c179e\"], [0.4444444444444444, \"#bd3786\"], [0.5555555555555556, \"#d8576b\"], [0.6666666666666666, \"#ed7953\"], [0.7777777777777778, \"#fb9f3a\"], [0.8888888888888888, \"#fdca26\"], [1.0, \"#f0f921\"]], \"type\": \"heatmapgl\"}], \"histogram\": [{\"marker\": {\"colorbar\": {\"outlinewidth\": 0, \"ticks\": \"\"}}, \"type\": \"histogram\"}], \"histogram2d\": [{\"colorbar\": {\"outlinewidth\": 0, \"ticks\": \"\"}, \"colorscale\": [[0.0, \"#0d0887\"], [0.1111111111111111, \"#46039f\"], [0.2222222222222222, \"#7201a8\"], [0.3333333333333333, \"#9c179e\"], [0.4444444444444444, \"#bd3786\"], [0.5555555555555556, \"#d8576b\"], [0.6666666666666666, \"#ed7953\"], [0.7777777777777778, \"#fb9f3a\"], [0.8888888888888888, \"#fdca26\"], [1.0, \"#f0f921\"]], \"type\": \"histogram2d\"}], \"histogram2dcontour\": [{\"colorbar\": {\"outlinewidth\": 0, \"ticks\": \"\"}, \"colorscale\": [[0.0, \"#0d0887\"], [0.1111111111111111, \"#46039f\"], [0.2222222222222222, \"#7201a8\"], [0.3333333333333333, \"#9c179e\"], [0.4444444444444444, \"#bd3786\"], [0.5555555555555556, \"#d8576b\"], [0.6666666666666666, \"#ed7953\"], [0.7777777777777778, \"#fb9f3a\"], [0.8888888888888888, \"#fdca26\"], [1.0, \"#f0f921\"]], \"type\": \"histogram2dcontour\"}], \"mesh3d\": [{\"colorbar\": {\"outlinewidth\": 0, \"ticks\": \"\"}, \"type\": \"mesh3d\"}], \"parcoords\": [{\"line\": {\"colorbar\": {\"outlinewidth\": 0, \"ticks\": \"\"}}, \"type\": \"parcoords\"}], \"pie\": [{\"automargin\": true, \"type\": \"pie\"}], \"scatter\": [{\"marker\": {\"colorbar\": {\"outlinewidth\": 0, \"ticks\": \"\"}}, \"type\": \"scatter\"}], \"scatter3d\": [{\"line\": {\"colorbar\": {\"outlinewidth\": 0, \"ticks\": \"\"}}, \"marker\": {\"colorbar\": {\"outlinewidth\": 0, \"ticks\": \"\"}}, \"type\": \"scatter3d\"}], \"scattercarpet\": [{\"marker\": {\"colorbar\": {\"outlinewidth\": 0, \"ticks\": \"\"}}, \"type\": \"scattercarpet\"}], \"scattergeo\": [{\"marker\": {\"colorbar\": {\"outlinewidth\": 0, \"ticks\": \"\"}}, \"type\": \"scattergeo\"}], \"scattergl\": [{\"marker\": {\"colorbar\": {\"outlinewidth\": 0, \"ticks\": \"\"}}, \"type\": \"scattergl\"}], \"scattermapbox\": [{\"marker\": {\"colorbar\": {\"outlinewidth\": 0, \"ticks\": \"\"}}, \"type\": \"scattermapbox\"}], \"scatterpolar\": [{\"marker\": {\"colorbar\": {\"outlinewidth\": 0, \"ticks\": \"\"}}, \"type\": \"scatterpolar\"}], \"scatterpolargl\": [{\"marker\": {\"colorbar\": {\"outlinewidth\": 0, \"ticks\": \"\"}}, \"type\": \"scatterpolargl\"}], \"scatterternary\": [{\"marker\": {\"colorbar\": {\"outlinewidth\": 0, \"ticks\": \"\"}}, \"type\": \"scatterternary\"}], \"surface\": [{\"colorbar\": {\"outlinewidth\": 0, \"ticks\": \"\"}, \"colorscale\": [[0.0, \"#0d0887\"], [0.1111111111111111, \"#46039f\"], [0.2222222222222222, \"#7201a8\"], [0.3333333333333333, \"#9c179e\"], [0.4444444444444444, \"#bd3786\"], [0.5555555555555556, \"#d8576b\"], [0.6666666666666666, \"#ed7953\"], [0.7777777777777778, \"#fb9f3a\"], [0.8888888888888888, \"#fdca26\"], [1.0, \"#f0f921\"]], \"type\": \"surface\"}], \"table\": [{\"cells\": {\"fill\": {\"color\": \"#EBF0F8\"}, \"line\": {\"color\": \"white\"}}, \"header\": {\"fill\": {\"color\": \"#C8D4E3\"}, \"line\": {\"color\": \"white\"}}, \"type\": \"table\"}]}, \"layout\": {\"annotationdefaults\": {\"arrowcolor\": \"#2a3f5f\", \"arrowhead\": 0, \"arrowwidth\": 1}, \"coloraxis\": {\"colorbar\": {\"outlinewidth\": 0, \"ticks\": \"\"}}, \"colorscale\": {\"diverging\": [[0, \"#8e0152\"], [0.1, \"#c51b7d\"], [0.2, \"#de77ae\"], [0.3, \"#f1b6da\"], [0.4, \"#fde0ef\"], [0.5, \"#f7f7f7\"], [0.6, \"#e6f5d0\"], [0.7, \"#b8e186\"], [0.8, \"#7fbc41\"], [0.9, \"#4d9221\"], [1, \"#276419\"]], \"sequential\": [[0.0, \"#0d0887\"], [0.1111111111111111, \"#46039f\"], [0.2222222222222222, \"#7201a8\"], [0.3333333333333333, \"#9c179e\"], [0.4444444444444444, \"#bd3786\"], [0.5555555555555556, \"#d8576b\"], [0.6666666666666666, \"#ed7953\"], [0.7777777777777778, \"#fb9f3a\"], [0.8888888888888888, \"#fdca26\"], [1.0, \"#f0f921\"]], \"sequentialminus\": [[0.0, \"#0d0887\"], [0.1111111111111111, \"#46039f\"], [0.2222222222222222, \"#7201a8\"], [0.3333333333333333, \"#9c179e\"], [0.4444444444444444, \"#bd3786\"], [0.5555555555555556, \"#d8576b\"], [0.6666666666666666, \"#ed7953\"], [0.7777777777777778, \"#fb9f3a\"], [0.8888888888888888, \"#fdca26\"], [1.0, \"#f0f921\"]]}, \"colorway\": [\"#636efa\", \"#EF553B\", \"#00cc96\", \"#ab63fa\", \"#FFA15A\", \"#19d3f3\", \"#FF6692\", \"#B6E880\", \"#FF97FF\", \"#FECB52\"], \"font\": {\"color\": \"#2a3f5f\"}, \"geo\": {\"bgcolor\": \"white\", \"lakecolor\": \"white\", \"landcolor\": \"#E5ECF6\", \"showlakes\": true, \"showland\": true, \"subunitcolor\": \"white\"}, \"hoverlabel\": {\"align\": \"left\"}, \"hovermode\": \"closest\", \"mapbox\": {\"style\": \"light\"}, \"paper_bgcolor\": \"white\", \"plot_bgcolor\": \"#E5ECF6\", \"polar\": {\"angularaxis\": {\"gridcolor\": \"white\", \"linecolor\": \"white\", \"ticks\": \"\"}, \"bgcolor\": \"#E5ECF6\", \"radialaxis\": {\"gridcolor\": \"white\", \"linecolor\": \"white\", \"ticks\": \"\"}}, \"scene\": {\"xaxis\": {\"backgroundcolor\": \"#E5ECF6\", \"gridcolor\": \"white\", \"gridwidth\": 2, \"linecolor\": \"white\", \"showbackground\": true, \"ticks\": \"\", \"zerolinecolor\": \"white\"}, \"yaxis\": {\"backgroundcolor\": \"#E5ECF6\", \"gridcolor\": \"white\", \"gridwidth\": 2, \"linecolor\": \"white\", \"showbackground\": true, \"ticks\": \"\", \"zerolinecolor\": \"white\"}, \"zaxis\": {\"backgroundcolor\": \"#E5ECF6\", \"gridcolor\": \"white\", \"gridwidth\": 2, \"linecolor\": \"white\", \"showbackground\": true, \"ticks\": \"\", \"zerolinecolor\": \"white\"}}, \"shapedefaults\": {\"line\": {\"color\": \"#2a3f5f\"}}, \"ternary\": {\"aaxis\": {\"gridcolor\": \"white\", \"linecolor\": \"white\", \"ticks\": \"\"}, \"baxis\": {\"gridcolor\": \"white\", \"linecolor\": \"white\", \"ticks\": \"\"}, \"bgcolor\": \"#E5ECF6\", \"caxis\": {\"gridcolor\": \"white\", \"linecolor\": \"white\", \"ticks\": \"\"}}, \"title\": {\"x\": 0.05}, \"xaxis\": {\"automargin\": true, \"gridcolor\": \"white\", \"linecolor\": \"white\", \"ticks\": \"\", \"title\": {\"standoff\": 15}, \"zerolinecolor\": \"white\", \"zerolinewidth\": 2}, \"yaxis\": {\"automargin\": true, \"gridcolor\": \"white\", \"linecolor\": \"white\", \"ticks\": \"\", \"title\": {\"standoff\": 15}, \"zerolinecolor\": \"white\", \"zerolinewidth\": 2}}}, \"title\": {\"text\": \"Histogram Chart\"}, \"xaxis\": {\"anchor\": \"y\", \"domain\": [0.0, 1.0], \"title\": {\"text\": \"day\"}}, \"yaxis\": {\"anchor\": \"x\", \"domain\": [0.0, 1.0], \"title\": {\"text\": \"sum of tip\"}}},\n",
              "                        {\"responsive\": true}\n",
              "                    ).then(function(){\n",
              "                            \n",
              "var gd = document.getElementById('e4428ee2-5e86-404c-a46f-ea3aff91b244');\n",
              "var x = new MutationObserver(function (mutations, observer) {{\n",
              "        var display = window.getComputedStyle(gd).display;\n",
              "        if (!display || display === 'none') {{\n",
              "            console.log([gd, 'removed!']);\n",
              "            Plotly.purge(gd);\n",
              "            observer.disconnect();\n",
              "        }}\n",
              "}});\n",
              "\n",
              "// Listen for the removal of the full notebook cells\n",
              "var notebookContainer = gd.closest('#notebook-container');\n",
              "if (notebookContainer) {{\n",
              "    x.observe(notebookContainer, {childList: true});\n",
              "}}\n",
              "\n",
              "// Listen for the clearing of the current output cell\n",
              "var outputEl = gd.closest('.output');\n",
              "if (outputEl) {{\n",
              "    x.observe(outputEl, {childList: true});\n",
              "}}\n",
              "\n",
              "                        })\n",
              "                };\n",
              "                \n",
              "            </script>\n",
              "        </div>\n",
              "</body>\n",
              "</html>"
            ]
          },
          "metadata": {
            "tags": []
          }
        }
      ]
    },
    {
      "cell_type": "markdown",
      "metadata": {
        "id": "bmmzYgHv61k7"
      },
      "source": [
        "###Group/Stack Bar Chart"
      ]
    },
    {
      "cell_type": "code",
      "metadata": {
        "colab": {
          "base_uri": "https://localhost:8080/",
          "height": 1000
        },
        "id": "8Tq0BG4S1Zh0",
        "outputId": "6abce474-cbb8-4c67-e42b-927690df8188"
      },
      "source": [
        "import plotly.express as px\n",
        "\n",
        "long_df = px.data.tips()\n",
        "\n",
        "\n",
        "fig = px.bar(long_df, x=\"day\",y=\"size\",\n",
        "             color=\"time\", \n",
        "             title=\"Long-Form Input\",\n",
        "             #barmode='group'\n",
        "             )\n",
        "fig.show()\n",
        "\n",
        "fig1 = px.bar(long_df, x=\"day\",y=\"size\",\n",
        "             color=\"time\", \n",
        "             title=\"Long-Form Input\",\n",
        "             barmode='group')\n",
        "fig1.show()"
      ],
      "execution_count": null,
      "outputs": [
        {
          "output_type": "display_data",
          "data": {
            "text/html": [
              "<html>\n",
              "<head><meta charset=\"utf-8\" /></head>\n",
              "<body>\n",
              "    <div>\n",
              "            <script src=\"https://cdnjs.cloudflare.com/ajax/libs/mathjax/2.7.5/MathJax.js?config=TeX-AMS-MML_SVG\"></script><script type=\"text/javascript\">if (window.MathJax) {MathJax.Hub.Config({SVG: {font: \"STIX-Web\"}});}</script>\n",
              "                <script type=\"text/javascript\">window.PlotlyConfig = {MathJaxConfig: 'local'};</script>\n",
              "        <script src=\"https://cdn.plot.ly/plotly-latest.min.js\"></script>    \n",
              "            <div id=\"9de0d799-9fd7-491c-ab29-9cca4b222031\" class=\"plotly-graph-div\" style=\"height:525px; width:100%;\"></div>\n",
              "            <script type=\"text/javascript\">\n",
              "                \n",
              "                    window.PLOTLYENV=window.PLOTLYENV || {};\n",
              "                    \n",
              "                if (document.getElementById(\"9de0d799-9fd7-491c-ab29-9cca4b222031\")) {\n",
              "                    Plotly.newPlot(\n",
              "                        '9de0d799-9fd7-491c-ab29-9cca4b222031',\n",
              "                        [{\"alignmentgroup\": \"True\", \"hoverlabel\": {\"namelength\": 0}, \"hovertemplate\": \"time=Dinner<br>day=%{x}<br>size=%{y}\", \"legendgroup\": \"time=Dinner\", \"marker\": {\"color\": \"#636efa\"}, \"name\": \"time=Dinner\", \"offsetgroup\": \"time=Dinner\", \"orientation\": \"v\", \"showlegend\": true, \"textposition\": \"auto\", \"type\": \"bar\", \"x\": [\"Sun\", \"Sun\", \"Sun\", \"Sun\", \"Sun\", \"Sun\", \"Sun\", \"Sun\", \"Sun\", \"Sun\", \"Sun\", \"Sun\", \"Sun\", \"Sun\", \"Sun\", \"Sun\", \"Sun\", \"Sun\", \"Sun\", \"Sat\", \"Sat\", \"Sat\", \"Sat\", \"Sat\", \"Sat\", \"Sat\", \"Sat\", \"Sat\", \"Sat\", \"Sat\", \"Sat\", \"Sat\", \"Sat\", \"Sat\", \"Sat\", \"Sat\", \"Sat\", \"Sat\", \"Sat\", \"Sat\", \"Sat\", \"Sun\", \"Sun\", \"Sun\", \"Sun\", \"Sun\", \"Sun\", \"Sun\", \"Sun\", \"Sun\", \"Sun\", \"Sun\", \"Sun\", \"Sun\", \"Sun\", \"Sun\", \"Sat\", \"Sat\", \"Sat\", \"Sat\", \"Sat\", \"Sat\", \"Sat\", \"Sat\", \"Sat\", \"Sat\", \"Sat\", \"Sat\", \"Sat\", \"Sat\", \"Sat\", \"Sat\", \"Sat\", \"Sat\", \"Sat\", \"Sat\", \"Sat\", \"Fri\", \"Fri\", \"Fri\", \"Fri\", \"Fri\", \"Fri\", \"Fri\", \"Fri\", \"Fri\", \"Fri\", \"Fri\", \"Fri\", \"Sat\", \"Sat\", \"Sat\", \"Sat\", \"Sat\", \"Sat\", \"Sat\", \"Sat\", \"Sat\", \"Sat\", \"Sun\", \"Sun\", \"Sun\", \"Sun\", \"Sun\", \"Sun\", \"Sun\", \"Sun\", \"Sun\", \"Sun\", \"Sun\", \"Sun\", \"Sun\", \"Sun\", \"Sun\", \"Sun\", \"Sun\", \"Sun\", \"Sun\", \"Sun\", \"Sun\", \"Sun\", \"Sun\", \"Sat\", \"Sat\", \"Sat\", \"Sat\", \"Sun\", \"Sun\", \"Sun\", \"Sun\", \"Sun\", \"Sun\", \"Sun\", \"Sun\", \"Sun\", \"Sun\", \"Sun\", \"Sun\", \"Sun\", \"Sun\", \"Sun\", \"Sun\", \"Sun\", \"Sun\", \"Sun\", \"Sat\", \"Sat\", \"Sat\", \"Sat\", \"Sat\", \"Sat\", \"Sat\", \"Sat\", \"Sat\", \"Sat\", \"Sat\", \"Sat\", \"Sat\", \"Sat\", \"Sat\", \"Sat\", \"Sat\", \"Sat\", \"Sat\", \"Sat\", \"Sat\", \"Sat\", \"Sat\", \"Sat\", \"Sat\", \"Sat\", \"Sat\", \"Sat\", \"Sat\", \"Sat\", \"Thur\"], \"xaxis\": \"x\", \"y\": [2, 3, 3, 2, 4, 4, 2, 4, 2, 2, 2, 4, 2, 4, 2, 2, 3, 3, 3, 3, 2, 2, 2, 4, 2, 4, 2, 2, 2, 2, 2, 4, 2, 4, 2, 3, 3, 3, 3, 3, 3, 2, 2, 2, 4, 2, 2, 4, 3, 2, 2, 2, 4, 2, 4, 2, 4, 2, 2, 4, 2, 2, 2, 4, 3, 3, 2, 1, 2, 2, 2, 3, 2, 2, 2, 2, 2, 2, 2, 2, 2, 2, 4, 2, 2, 2, 2, 2, 2, 3, 2, 2, 2, 2, 2, 2, 2, 2, 1, 3, 2, 3, 2, 4, 2, 2, 3, 4, 4, 5, 6, 4, 2, 4, 4, 2, 3, 2, 2, 3, 2, 4, 2, 2, 3, 2, 2, 2, 2, 2, 2, 2, 2, 2, 4, 2, 3, 4, 2, 5, 3, 5, 3, 3, 2, 3, 4, 2, 2, 3, 4, 4, 2, 3, 2, 5, 2, 2, 4, 4, 2, 2, 4, 3, 2, 2, 2, 2, 2, 2, 3, 3, 2, 2, 2, 2], \"yaxis\": \"y\"}, {\"alignmentgroup\": \"True\", \"hoverlabel\": {\"namelength\": 0}, \"hovertemplate\": \"time=Lunch<br>day=%{x}<br>size=%{y}\", \"legendgroup\": \"time=Lunch\", \"marker\": {\"color\": \"#EF553B\"}, \"name\": \"time=Lunch\", \"offsetgroup\": \"time=Lunch\", \"orientation\": \"v\", \"showlegend\": true, \"textposition\": \"auto\", \"type\": \"bar\", \"x\": [\"Thur\", \"Thur\", \"Thur\", \"Thur\", \"Thur\", \"Thur\", \"Thur\", \"Thur\", \"Thur\", \"Thur\", \"Thur\", \"Thur\", \"Thur\", \"Thur\", \"Thur\", \"Thur\", \"Thur\", \"Thur\", \"Thur\", \"Thur\", \"Thur\", \"Thur\", \"Thur\", \"Thur\", \"Thur\", \"Thur\", \"Thur\", \"Thur\", \"Thur\", \"Thur\", \"Thur\", \"Thur\", \"Thur\", \"Thur\", \"Thur\", \"Thur\", \"Thur\", \"Thur\", \"Thur\", \"Thur\", \"Thur\", \"Thur\", \"Thur\", \"Thur\", \"Thur\", \"Thur\", \"Thur\", \"Thur\", \"Thur\", \"Thur\", \"Thur\", \"Thur\", \"Thur\", \"Thur\", \"Thur\", \"Thur\", \"Thur\", \"Thur\", \"Thur\", \"Thur\", \"Thur\", \"Fri\", \"Fri\", \"Fri\", \"Fri\", \"Fri\", \"Fri\", \"Fri\"], \"xaxis\": \"x\", \"y\": [4, 2, 2, 2, 2, 1, 2, 2, 4, 2, 2, 2, 2, 2, 2, 4, 2, 2, 2, 2, 2, 6, 2, 2, 2, 3, 2, 2, 2, 2, 2, 2, 2, 2, 2, 2, 2, 6, 5, 6, 2, 2, 3, 2, 2, 2, 2, 2, 2, 2, 2, 2, 4, 2, 2, 3, 2, 2, 2, 4, 3, 2, 2, 1, 3, 2, 2, 2], \"yaxis\": \"y\"}],\n",
              "                        {\"barmode\": \"relative\", \"legend\": {\"tracegroupgap\": 0}, \"template\": {\"data\": {\"bar\": [{\"error_x\": {\"color\": \"#2a3f5f\"}, \"error_y\": {\"color\": \"#2a3f5f\"}, \"marker\": {\"line\": {\"color\": \"#E5ECF6\", \"width\": 0.5}}, \"type\": \"bar\"}], \"barpolar\": [{\"marker\": {\"line\": {\"color\": \"#E5ECF6\", \"width\": 0.5}}, \"type\": \"barpolar\"}], \"carpet\": [{\"aaxis\": {\"endlinecolor\": \"#2a3f5f\", \"gridcolor\": \"white\", \"linecolor\": \"white\", \"minorgridcolor\": \"white\", \"startlinecolor\": \"#2a3f5f\"}, \"baxis\": {\"endlinecolor\": \"#2a3f5f\", \"gridcolor\": \"white\", \"linecolor\": \"white\", \"minorgridcolor\": \"white\", \"startlinecolor\": \"#2a3f5f\"}, \"type\": \"carpet\"}], \"choropleth\": [{\"colorbar\": {\"outlinewidth\": 0, \"ticks\": \"\"}, \"type\": \"choropleth\"}], \"contour\": [{\"colorbar\": {\"outlinewidth\": 0, \"ticks\": \"\"}, \"colorscale\": [[0.0, \"#0d0887\"], [0.1111111111111111, \"#46039f\"], [0.2222222222222222, \"#7201a8\"], [0.3333333333333333, \"#9c179e\"], [0.4444444444444444, \"#bd3786\"], [0.5555555555555556, \"#d8576b\"], [0.6666666666666666, \"#ed7953\"], [0.7777777777777778, \"#fb9f3a\"], [0.8888888888888888, \"#fdca26\"], [1.0, \"#f0f921\"]], \"type\": \"contour\"}], \"contourcarpet\": [{\"colorbar\": {\"outlinewidth\": 0, \"ticks\": \"\"}, \"type\": \"contourcarpet\"}], \"heatmap\": [{\"colorbar\": {\"outlinewidth\": 0, \"ticks\": \"\"}, \"colorscale\": [[0.0, \"#0d0887\"], [0.1111111111111111, \"#46039f\"], [0.2222222222222222, \"#7201a8\"], [0.3333333333333333, \"#9c179e\"], [0.4444444444444444, \"#bd3786\"], [0.5555555555555556, \"#d8576b\"], [0.6666666666666666, \"#ed7953\"], [0.7777777777777778, \"#fb9f3a\"], [0.8888888888888888, \"#fdca26\"], [1.0, \"#f0f921\"]], \"type\": \"heatmap\"}], \"heatmapgl\": [{\"colorbar\": {\"outlinewidth\": 0, \"ticks\": \"\"}, \"colorscale\": [[0.0, \"#0d0887\"], [0.1111111111111111, \"#46039f\"], [0.2222222222222222, \"#7201a8\"], [0.3333333333333333, \"#9c179e\"], [0.4444444444444444, \"#bd3786\"], [0.5555555555555556, \"#d8576b\"], [0.6666666666666666, \"#ed7953\"], [0.7777777777777778, \"#fb9f3a\"], [0.8888888888888888, \"#fdca26\"], [1.0, \"#f0f921\"]], \"type\": \"heatmapgl\"}], \"histogram\": [{\"marker\": {\"colorbar\": {\"outlinewidth\": 0, \"ticks\": \"\"}}, \"type\": \"histogram\"}], \"histogram2d\": [{\"colorbar\": {\"outlinewidth\": 0, \"ticks\": \"\"}, \"colorscale\": [[0.0, \"#0d0887\"], [0.1111111111111111, \"#46039f\"], [0.2222222222222222, \"#7201a8\"], [0.3333333333333333, \"#9c179e\"], [0.4444444444444444, \"#bd3786\"], [0.5555555555555556, \"#d8576b\"], [0.6666666666666666, \"#ed7953\"], [0.7777777777777778, \"#fb9f3a\"], [0.8888888888888888, \"#fdca26\"], [1.0, \"#f0f921\"]], \"type\": \"histogram2d\"}], \"histogram2dcontour\": [{\"colorbar\": {\"outlinewidth\": 0, \"ticks\": \"\"}, \"colorscale\": [[0.0, \"#0d0887\"], [0.1111111111111111, \"#46039f\"], [0.2222222222222222, \"#7201a8\"], [0.3333333333333333, \"#9c179e\"], [0.4444444444444444, \"#bd3786\"], [0.5555555555555556, \"#d8576b\"], [0.6666666666666666, \"#ed7953\"], [0.7777777777777778, \"#fb9f3a\"], [0.8888888888888888, \"#fdca26\"], [1.0, \"#f0f921\"]], \"type\": \"histogram2dcontour\"}], \"mesh3d\": [{\"colorbar\": {\"outlinewidth\": 0, \"ticks\": \"\"}, \"type\": \"mesh3d\"}], \"parcoords\": [{\"line\": {\"colorbar\": {\"outlinewidth\": 0, \"ticks\": \"\"}}, \"type\": \"parcoords\"}], \"pie\": [{\"automargin\": true, \"type\": \"pie\"}], \"scatter\": [{\"marker\": {\"colorbar\": {\"outlinewidth\": 0, \"ticks\": \"\"}}, \"type\": \"scatter\"}], \"scatter3d\": [{\"line\": {\"colorbar\": {\"outlinewidth\": 0, \"ticks\": \"\"}}, \"marker\": {\"colorbar\": {\"outlinewidth\": 0, \"ticks\": \"\"}}, \"type\": \"scatter3d\"}], \"scattercarpet\": [{\"marker\": {\"colorbar\": {\"outlinewidth\": 0, \"ticks\": \"\"}}, \"type\": \"scattercarpet\"}], \"scattergeo\": [{\"marker\": {\"colorbar\": {\"outlinewidth\": 0, \"ticks\": \"\"}}, \"type\": \"scattergeo\"}], \"scattergl\": [{\"marker\": {\"colorbar\": {\"outlinewidth\": 0, \"ticks\": \"\"}}, \"type\": \"scattergl\"}], \"scattermapbox\": [{\"marker\": {\"colorbar\": {\"outlinewidth\": 0, \"ticks\": \"\"}}, \"type\": \"scattermapbox\"}], \"scatterpolar\": [{\"marker\": {\"colorbar\": {\"outlinewidth\": 0, \"ticks\": \"\"}}, \"type\": \"scatterpolar\"}], \"scatterpolargl\": [{\"marker\": {\"colorbar\": {\"outlinewidth\": 0, \"ticks\": \"\"}}, \"type\": \"scatterpolargl\"}], \"scatterternary\": [{\"marker\": {\"colorbar\": {\"outlinewidth\": 0, \"ticks\": \"\"}}, \"type\": \"scatterternary\"}], \"surface\": [{\"colorbar\": {\"outlinewidth\": 0, \"ticks\": \"\"}, \"colorscale\": [[0.0, \"#0d0887\"], [0.1111111111111111, \"#46039f\"], [0.2222222222222222, \"#7201a8\"], [0.3333333333333333, \"#9c179e\"], [0.4444444444444444, \"#bd3786\"], [0.5555555555555556, \"#d8576b\"], [0.6666666666666666, \"#ed7953\"], [0.7777777777777778, \"#fb9f3a\"], [0.8888888888888888, \"#fdca26\"], [1.0, \"#f0f921\"]], \"type\": \"surface\"}], \"table\": [{\"cells\": {\"fill\": {\"color\": \"#EBF0F8\"}, \"line\": {\"color\": \"white\"}}, \"header\": {\"fill\": {\"color\": \"#C8D4E3\"}, \"line\": {\"color\": \"white\"}}, \"type\": \"table\"}]}, \"layout\": {\"annotationdefaults\": {\"arrowcolor\": \"#2a3f5f\", \"arrowhead\": 0, \"arrowwidth\": 1}, \"coloraxis\": {\"colorbar\": {\"outlinewidth\": 0, \"ticks\": \"\"}}, \"colorscale\": {\"diverging\": [[0, \"#8e0152\"], [0.1, \"#c51b7d\"], [0.2, \"#de77ae\"], [0.3, \"#f1b6da\"], [0.4, \"#fde0ef\"], [0.5, \"#f7f7f7\"], [0.6, \"#e6f5d0\"], [0.7, \"#b8e186\"], [0.8, \"#7fbc41\"], [0.9, \"#4d9221\"], [1, \"#276419\"]], \"sequential\": [[0.0, \"#0d0887\"], [0.1111111111111111, \"#46039f\"], [0.2222222222222222, \"#7201a8\"], [0.3333333333333333, \"#9c179e\"], [0.4444444444444444, \"#bd3786\"], [0.5555555555555556, \"#d8576b\"], [0.6666666666666666, \"#ed7953\"], [0.7777777777777778, \"#fb9f3a\"], [0.8888888888888888, \"#fdca26\"], [1.0, \"#f0f921\"]], \"sequentialminus\": [[0.0, \"#0d0887\"], [0.1111111111111111, \"#46039f\"], [0.2222222222222222, \"#7201a8\"], [0.3333333333333333, \"#9c179e\"], [0.4444444444444444, \"#bd3786\"], [0.5555555555555556, \"#d8576b\"], [0.6666666666666666, \"#ed7953\"], [0.7777777777777778, \"#fb9f3a\"], [0.8888888888888888, \"#fdca26\"], [1.0, \"#f0f921\"]]}, \"colorway\": [\"#636efa\", \"#EF553B\", \"#00cc96\", \"#ab63fa\", \"#FFA15A\", \"#19d3f3\", \"#FF6692\", \"#B6E880\", \"#FF97FF\", \"#FECB52\"], \"font\": {\"color\": \"#2a3f5f\"}, \"geo\": {\"bgcolor\": \"white\", \"lakecolor\": \"white\", \"landcolor\": \"#E5ECF6\", \"showlakes\": true, \"showland\": true, \"subunitcolor\": \"white\"}, \"hoverlabel\": {\"align\": \"left\"}, \"hovermode\": \"closest\", \"mapbox\": {\"style\": \"light\"}, \"paper_bgcolor\": \"white\", \"plot_bgcolor\": \"#E5ECF6\", \"polar\": {\"angularaxis\": {\"gridcolor\": \"white\", \"linecolor\": \"white\", \"ticks\": \"\"}, \"bgcolor\": \"#E5ECF6\", \"radialaxis\": {\"gridcolor\": \"white\", \"linecolor\": \"white\", \"ticks\": \"\"}}, \"scene\": {\"xaxis\": {\"backgroundcolor\": \"#E5ECF6\", \"gridcolor\": \"white\", \"gridwidth\": 2, \"linecolor\": \"white\", \"showbackground\": true, \"ticks\": \"\", \"zerolinecolor\": \"white\"}, \"yaxis\": {\"backgroundcolor\": \"#E5ECF6\", \"gridcolor\": \"white\", \"gridwidth\": 2, \"linecolor\": \"white\", \"showbackground\": true, \"ticks\": \"\", \"zerolinecolor\": \"white\"}, \"zaxis\": {\"backgroundcolor\": \"#E5ECF6\", \"gridcolor\": \"white\", \"gridwidth\": 2, \"linecolor\": \"white\", \"showbackground\": true, \"ticks\": \"\", \"zerolinecolor\": \"white\"}}, \"shapedefaults\": {\"line\": {\"color\": \"#2a3f5f\"}}, \"ternary\": {\"aaxis\": {\"gridcolor\": \"white\", \"linecolor\": \"white\", \"ticks\": \"\"}, \"baxis\": {\"gridcolor\": \"white\", \"linecolor\": \"white\", \"ticks\": \"\"}, \"bgcolor\": \"#E5ECF6\", \"caxis\": {\"gridcolor\": \"white\", \"linecolor\": \"white\", \"ticks\": \"\"}}, \"title\": {\"x\": 0.05}, \"xaxis\": {\"automargin\": true, \"gridcolor\": \"white\", \"linecolor\": \"white\", \"ticks\": \"\", \"title\": {\"standoff\": 15}, \"zerolinecolor\": \"white\", \"zerolinewidth\": 2}, \"yaxis\": {\"automargin\": true, \"gridcolor\": \"white\", \"linecolor\": \"white\", \"ticks\": \"\", \"title\": {\"standoff\": 15}, \"zerolinecolor\": \"white\", \"zerolinewidth\": 2}}}, \"title\": {\"text\": \"Long-Form Input\"}, \"xaxis\": {\"anchor\": \"y\", \"domain\": [0.0, 1.0], \"title\": {\"text\": \"day\"}}, \"yaxis\": {\"anchor\": \"x\", \"domain\": [0.0, 1.0], \"title\": {\"text\": \"size\"}}},\n",
              "                        {\"responsive\": true}\n",
              "                    ).then(function(){\n",
              "                            \n",
              "var gd = document.getElementById('9de0d799-9fd7-491c-ab29-9cca4b222031');\n",
              "var x = new MutationObserver(function (mutations, observer) {{\n",
              "        var display = window.getComputedStyle(gd).display;\n",
              "        if (!display || display === 'none') {{\n",
              "            console.log([gd, 'removed!']);\n",
              "            Plotly.purge(gd);\n",
              "            observer.disconnect();\n",
              "        }}\n",
              "}});\n",
              "\n",
              "// Listen for the removal of the full notebook cells\n",
              "var notebookContainer = gd.closest('#notebook-container');\n",
              "if (notebookContainer) {{\n",
              "    x.observe(notebookContainer, {childList: true});\n",
              "}}\n",
              "\n",
              "// Listen for the clearing of the current output cell\n",
              "var outputEl = gd.closest('.output');\n",
              "if (outputEl) {{\n",
              "    x.observe(outputEl, {childList: true});\n",
              "}}\n",
              "\n",
              "                        })\n",
              "                };\n",
              "                \n",
              "            </script>\n",
              "        </div>\n",
              "</body>\n",
              "</html>"
            ]
          },
          "metadata": {
            "tags": []
          }
        },
        {
          "output_type": "display_data",
          "data": {
            "text/html": [
              "<html>\n",
              "<head><meta charset=\"utf-8\" /></head>\n",
              "<body>\n",
              "    <div>\n",
              "            <script src=\"https://cdnjs.cloudflare.com/ajax/libs/mathjax/2.7.5/MathJax.js?config=TeX-AMS-MML_SVG\"></script><script type=\"text/javascript\">if (window.MathJax) {MathJax.Hub.Config({SVG: {font: \"STIX-Web\"}});}</script>\n",
              "                <script type=\"text/javascript\">window.PlotlyConfig = {MathJaxConfig: 'local'};</script>\n",
              "        <script src=\"https://cdn.plot.ly/plotly-latest.min.js\"></script>    \n",
              "            <div id=\"85e0e6ce-5afc-4c07-a370-37dedc806767\" class=\"plotly-graph-div\" style=\"height:525px; width:100%;\"></div>\n",
              "            <script type=\"text/javascript\">\n",
              "                \n",
              "                    window.PLOTLYENV=window.PLOTLYENV || {};\n",
              "                    \n",
              "                if (document.getElementById(\"85e0e6ce-5afc-4c07-a370-37dedc806767\")) {\n",
              "                    Plotly.newPlot(\n",
              "                        '85e0e6ce-5afc-4c07-a370-37dedc806767',\n",
              "                        [{\"alignmentgroup\": \"True\", \"hoverlabel\": {\"namelength\": 0}, \"hovertemplate\": \"time=Dinner<br>day=%{x}<br>size=%{y}\", \"legendgroup\": \"time=Dinner\", \"marker\": {\"color\": \"#636efa\"}, \"name\": \"time=Dinner\", \"offsetgroup\": \"time=Dinner\", \"orientation\": \"v\", \"showlegend\": true, \"textposition\": \"auto\", \"type\": \"bar\", \"x\": [\"Sun\", \"Sun\", \"Sun\", \"Sun\", \"Sun\", \"Sun\", \"Sun\", \"Sun\", \"Sun\", \"Sun\", \"Sun\", \"Sun\", \"Sun\", \"Sun\", \"Sun\", \"Sun\", \"Sun\", \"Sun\", \"Sun\", \"Sat\", \"Sat\", \"Sat\", \"Sat\", \"Sat\", \"Sat\", \"Sat\", \"Sat\", \"Sat\", \"Sat\", \"Sat\", \"Sat\", \"Sat\", \"Sat\", \"Sat\", \"Sat\", \"Sat\", \"Sat\", \"Sat\", \"Sat\", \"Sat\", \"Sat\", \"Sun\", \"Sun\", \"Sun\", \"Sun\", \"Sun\", \"Sun\", \"Sun\", \"Sun\", \"Sun\", \"Sun\", \"Sun\", \"Sun\", \"Sun\", \"Sun\", \"Sun\", \"Sat\", \"Sat\", \"Sat\", \"Sat\", \"Sat\", \"Sat\", \"Sat\", \"Sat\", \"Sat\", \"Sat\", \"Sat\", \"Sat\", \"Sat\", \"Sat\", \"Sat\", \"Sat\", \"Sat\", \"Sat\", \"Sat\", \"Sat\", \"Sat\", \"Fri\", \"Fri\", \"Fri\", \"Fri\", \"Fri\", \"Fri\", \"Fri\", \"Fri\", \"Fri\", \"Fri\", \"Fri\", \"Fri\", \"Sat\", \"Sat\", \"Sat\", \"Sat\", \"Sat\", \"Sat\", \"Sat\", \"Sat\", \"Sat\", \"Sat\", \"Sun\", \"Sun\", \"Sun\", \"Sun\", \"Sun\", \"Sun\", \"Sun\", \"Sun\", \"Sun\", \"Sun\", \"Sun\", \"Sun\", \"Sun\", \"Sun\", \"Sun\", \"Sun\", \"Sun\", \"Sun\", \"Sun\", \"Sun\", \"Sun\", \"Sun\", \"Sun\", \"Sat\", \"Sat\", \"Sat\", \"Sat\", \"Sun\", \"Sun\", \"Sun\", \"Sun\", \"Sun\", \"Sun\", \"Sun\", \"Sun\", \"Sun\", \"Sun\", \"Sun\", \"Sun\", \"Sun\", \"Sun\", \"Sun\", \"Sun\", \"Sun\", \"Sun\", \"Sun\", \"Sat\", \"Sat\", \"Sat\", \"Sat\", \"Sat\", \"Sat\", \"Sat\", \"Sat\", \"Sat\", \"Sat\", \"Sat\", \"Sat\", \"Sat\", \"Sat\", \"Sat\", \"Sat\", \"Sat\", \"Sat\", \"Sat\", \"Sat\", \"Sat\", \"Sat\", \"Sat\", \"Sat\", \"Sat\", \"Sat\", \"Sat\", \"Sat\", \"Sat\", \"Sat\", \"Thur\"], \"xaxis\": \"x\", \"y\": [2, 3, 3, 2, 4, 4, 2, 4, 2, 2, 2, 4, 2, 4, 2, 2, 3, 3, 3, 3, 2, 2, 2, 4, 2, 4, 2, 2, 2, 2, 2, 4, 2, 4, 2, 3, 3, 3, 3, 3, 3, 2, 2, 2, 4, 2, 2, 4, 3, 2, 2, 2, 4, 2, 4, 2, 4, 2, 2, 4, 2, 2, 2, 4, 3, 3, 2, 1, 2, 2, 2, 3, 2, 2, 2, 2, 2, 2, 2, 2, 2, 2, 4, 2, 2, 2, 2, 2, 2, 3, 2, 2, 2, 2, 2, 2, 2, 2, 1, 3, 2, 3, 2, 4, 2, 2, 3, 4, 4, 5, 6, 4, 2, 4, 4, 2, 3, 2, 2, 3, 2, 4, 2, 2, 3, 2, 2, 2, 2, 2, 2, 2, 2, 2, 4, 2, 3, 4, 2, 5, 3, 5, 3, 3, 2, 3, 4, 2, 2, 3, 4, 4, 2, 3, 2, 5, 2, 2, 4, 4, 2, 2, 4, 3, 2, 2, 2, 2, 2, 2, 3, 3, 2, 2, 2, 2], \"yaxis\": \"y\"}, {\"alignmentgroup\": \"True\", \"hoverlabel\": {\"namelength\": 0}, \"hovertemplate\": \"time=Lunch<br>day=%{x}<br>size=%{y}\", \"legendgroup\": \"time=Lunch\", \"marker\": {\"color\": \"#EF553B\"}, \"name\": \"time=Lunch\", \"offsetgroup\": \"time=Lunch\", \"orientation\": \"v\", \"showlegend\": true, \"textposition\": \"auto\", \"type\": \"bar\", \"x\": [\"Thur\", \"Thur\", \"Thur\", \"Thur\", \"Thur\", \"Thur\", \"Thur\", \"Thur\", \"Thur\", \"Thur\", \"Thur\", \"Thur\", \"Thur\", \"Thur\", \"Thur\", \"Thur\", \"Thur\", \"Thur\", \"Thur\", \"Thur\", \"Thur\", \"Thur\", \"Thur\", \"Thur\", \"Thur\", \"Thur\", \"Thur\", \"Thur\", \"Thur\", \"Thur\", \"Thur\", \"Thur\", \"Thur\", \"Thur\", \"Thur\", \"Thur\", \"Thur\", \"Thur\", \"Thur\", \"Thur\", \"Thur\", \"Thur\", \"Thur\", \"Thur\", \"Thur\", \"Thur\", \"Thur\", \"Thur\", \"Thur\", \"Thur\", \"Thur\", \"Thur\", \"Thur\", \"Thur\", \"Thur\", \"Thur\", \"Thur\", \"Thur\", \"Thur\", \"Thur\", \"Thur\", \"Fri\", \"Fri\", \"Fri\", \"Fri\", \"Fri\", \"Fri\", \"Fri\"], \"xaxis\": \"x\", \"y\": [4, 2, 2, 2, 2, 1, 2, 2, 4, 2, 2, 2, 2, 2, 2, 4, 2, 2, 2, 2, 2, 6, 2, 2, 2, 3, 2, 2, 2, 2, 2, 2, 2, 2, 2, 2, 2, 6, 5, 6, 2, 2, 3, 2, 2, 2, 2, 2, 2, 2, 2, 2, 4, 2, 2, 3, 2, 2, 2, 4, 3, 2, 2, 1, 3, 2, 2, 2], \"yaxis\": \"y\"}],\n",
              "                        {\"barmode\": \"group\", \"legend\": {\"tracegroupgap\": 0}, \"template\": {\"data\": {\"bar\": [{\"error_x\": {\"color\": \"#2a3f5f\"}, \"error_y\": {\"color\": \"#2a3f5f\"}, \"marker\": {\"line\": {\"color\": \"#E5ECF6\", \"width\": 0.5}}, \"type\": \"bar\"}], \"barpolar\": [{\"marker\": {\"line\": {\"color\": \"#E5ECF6\", \"width\": 0.5}}, \"type\": \"barpolar\"}], \"carpet\": [{\"aaxis\": {\"endlinecolor\": \"#2a3f5f\", \"gridcolor\": \"white\", \"linecolor\": \"white\", \"minorgridcolor\": \"white\", \"startlinecolor\": \"#2a3f5f\"}, \"baxis\": {\"endlinecolor\": \"#2a3f5f\", \"gridcolor\": \"white\", \"linecolor\": \"white\", \"minorgridcolor\": \"white\", \"startlinecolor\": \"#2a3f5f\"}, \"type\": \"carpet\"}], \"choropleth\": [{\"colorbar\": {\"outlinewidth\": 0, \"ticks\": \"\"}, \"type\": \"choropleth\"}], \"contour\": [{\"colorbar\": {\"outlinewidth\": 0, \"ticks\": \"\"}, \"colorscale\": [[0.0, \"#0d0887\"], [0.1111111111111111, \"#46039f\"], [0.2222222222222222, \"#7201a8\"], [0.3333333333333333, \"#9c179e\"], [0.4444444444444444, \"#bd3786\"], [0.5555555555555556, \"#d8576b\"], [0.6666666666666666, \"#ed7953\"], [0.7777777777777778, \"#fb9f3a\"], [0.8888888888888888, \"#fdca26\"], [1.0, \"#f0f921\"]], \"type\": \"contour\"}], \"contourcarpet\": [{\"colorbar\": {\"outlinewidth\": 0, \"ticks\": \"\"}, \"type\": \"contourcarpet\"}], \"heatmap\": [{\"colorbar\": {\"outlinewidth\": 0, \"ticks\": \"\"}, \"colorscale\": [[0.0, \"#0d0887\"], [0.1111111111111111, \"#46039f\"], [0.2222222222222222, \"#7201a8\"], [0.3333333333333333, \"#9c179e\"], [0.4444444444444444, \"#bd3786\"], [0.5555555555555556, \"#d8576b\"], [0.6666666666666666, \"#ed7953\"], [0.7777777777777778, \"#fb9f3a\"], [0.8888888888888888, \"#fdca26\"], [1.0, \"#f0f921\"]], \"type\": \"heatmap\"}], \"heatmapgl\": [{\"colorbar\": {\"outlinewidth\": 0, \"ticks\": \"\"}, \"colorscale\": [[0.0, \"#0d0887\"], [0.1111111111111111, \"#46039f\"], [0.2222222222222222, \"#7201a8\"], [0.3333333333333333, \"#9c179e\"], [0.4444444444444444, \"#bd3786\"], [0.5555555555555556, \"#d8576b\"], [0.6666666666666666, \"#ed7953\"], [0.7777777777777778, \"#fb9f3a\"], [0.8888888888888888, \"#fdca26\"], [1.0, \"#f0f921\"]], \"type\": \"heatmapgl\"}], \"histogram\": [{\"marker\": {\"colorbar\": {\"outlinewidth\": 0, \"ticks\": \"\"}}, \"type\": \"histogram\"}], \"histogram2d\": [{\"colorbar\": {\"outlinewidth\": 0, \"ticks\": \"\"}, \"colorscale\": [[0.0, \"#0d0887\"], [0.1111111111111111, \"#46039f\"], [0.2222222222222222, \"#7201a8\"], [0.3333333333333333, \"#9c179e\"], [0.4444444444444444, \"#bd3786\"], [0.5555555555555556, \"#d8576b\"], [0.6666666666666666, \"#ed7953\"], [0.7777777777777778, \"#fb9f3a\"], [0.8888888888888888, \"#fdca26\"], [1.0, \"#f0f921\"]], \"type\": \"histogram2d\"}], \"histogram2dcontour\": [{\"colorbar\": {\"outlinewidth\": 0, \"ticks\": \"\"}, \"colorscale\": [[0.0, \"#0d0887\"], [0.1111111111111111, \"#46039f\"], [0.2222222222222222, \"#7201a8\"], [0.3333333333333333, \"#9c179e\"], [0.4444444444444444, \"#bd3786\"], [0.5555555555555556, \"#d8576b\"], [0.6666666666666666, \"#ed7953\"], [0.7777777777777778, \"#fb9f3a\"], [0.8888888888888888, \"#fdca26\"], [1.0, \"#f0f921\"]], \"type\": \"histogram2dcontour\"}], \"mesh3d\": [{\"colorbar\": {\"outlinewidth\": 0, \"ticks\": \"\"}, \"type\": \"mesh3d\"}], \"parcoords\": [{\"line\": {\"colorbar\": {\"outlinewidth\": 0, \"ticks\": \"\"}}, \"type\": \"parcoords\"}], \"pie\": [{\"automargin\": true, \"type\": \"pie\"}], \"scatter\": [{\"marker\": {\"colorbar\": {\"outlinewidth\": 0, \"ticks\": \"\"}}, \"type\": \"scatter\"}], \"scatter3d\": [{\"line\": {\"colorbar\": {\"outlinewidth\": 0, \"ticks\": \"\"}}, \"marker\": {\"colorbar\": {\"outlinewidth\": 0, \"ticks\": \"\"}}, \"type\": \"scatter3d\"}], \"scattercarpet\": [{\"marker\": {\"colorbar\": {\"outlinewidth\": 0, \"ticks\": \"\"}}, \"type\": \"scattercarpet\"}], \"scattergeo\": [{\"marker\": {\"colorbar\": {\"outlinewidth\": 0, \"ticks\": \"\"}}, \"type\": \"scattergeo\"}], \"scattergl\": [{\"marker\": {\"colorbar\": {\"outlinewidth\": 0, \"ticks\": \"\"}}, \"type\": \"scattergl\"}], \"scattermapbox\": [{\"marker\": {\"colorbar\": {\"outlinewidth\": 0, \"ticks\": \"\"}}, \"type\": \"scattermapbox\"}], \"scatterpolar\": [{\"marker\": {\"colorbar\": {\"outlinewidth\": 0, \"ticks\": \"\"}}, \"type\": \"scatterpolar\"}], \"scatterpolargl\": [{\"marker\": {\"colorbar\": {\"outlinewidth\": 0, \"ticks\": \"\"}}, \"type\": \"scatterpolargl\"}], \"scatterternary\": [{\"marker\": {\"colorbar\": {\"outlinewidth\": 0, \"ticks\": \"\"}}, \"type\": \"scatterternary\"}], \"surface\": [{\"colorbar\": {\"outlinewidth\": 0, \"ticks\": \"\"}, \"colorscale\": [[0.0, \"#0d0887\"], [0.1111111111111111, \"#46039f\"], [0.2222222222222222, \"#7201a8\"], [0.3333333333333333, \"#9c179e\"], [0.4444444444444444, \"#bd3786\"], [0.5555555555555556, \"#d8576b\"], [0.6666666666666666, \"#ed7953\"], [0.7777777777777778, \"#fb9f3a\"], [0.8888888888888888, \"#fdca26\"], [1.0, \"#f0f921\"]], \"type\": \"surface\"}], \"table\": [{\"cells\": {\"fill\": {\"color\": \"#EBF0F8\"}, \"line\": {\"color\": \"white\"}}, \"header\": {\"fill\": {\"color\": \"#C8D4E3\"}, \"line\": {\"color\": \"white\"}}, \"type\": \"table\"}]}, \"layout\": {\"annotationdefaults\": {\"arrowcolor\": \"#2a3f5f\", \"arrowhead\": 0, \"arrowwidth\": 1}, \"coloraxis\": {\"colorbar\": {\"outlinewidth\": 0, \"ticks\": \"\"}}, \"colorscale\": {\"diverging\": [[0, \"#8e0152\"], [0.1, \"#c51b7d\"], [0.2, \"#de77ae\"], [0.3, \"#f1b6da\"], [0.4, \"#fde0ef\"], [0.5, \"#f7f7f7\"], [0.6, \"#e6f5d0\"], [0.7, \"#b8e186\"], [0.8, \"#7fbc41\"], [0.9, \"#4d9221\"], [1, \"#276419\"]], \"sequential\": [[0.0, \"#0d0887\"], [0.1111111111111111, \"#46039f\"], [0.2222222222222222, \"#7201a8\"], [0.3333333333333333, \"#9c179e\"], [0.4444444444444444, \"#bd3786\"], [0.5555555555555556, \"#d8576b\"], [0.6666666666666666, \"#ed7953\"], [0.7777777777777778, \"#fb9f3a\"], [0.8888888888888888, \"#fdca26\"], [1.0, \"#f0f921\"]], \"sequentialminus\": [[0.0, \"#0d0887\"], [0.1111111111111111, \"#46039f\"], [0.2222222222222222, \"#7201a8\"], [0.3333333333333333, \"#9c179e\"], [0.4444444444444444, \"#bd3786\"], [0.5555555555555556, \"#d8576b\"], [0.6666666666666666, \"#ed7953\"], [0.7777777777777778, \"#fb9f3a\"], [0.8888888888888888, \"#fdca26\"], [1.0, \"#f0f921\"]]}, \"colorway\": [\"#636efa\", \"#EF553B\", \"#00cc96\", \"#ab63fa\", \"#FFA15A\", \"#19d3f3\", \"#FF6692\", \"#B6E880\", \"#FF97FF\", \"#FECB52\"], \"font\": {\"color\": \"#2a3f5f\"}, \"geo\": {\"bgcolor\": \"white\", \"lakecolor\": \"white\", \"landcolor\": \"#E5ECF6\", \"showlakes\": true, \"showland\": true, \"subunitcolor\": \"white\"}, \"hoverlabel\": {\"align\": \"left\"}, \"hovermode\": \"closest\", \"mapbox\": {\"style\": \"light\"}, \"paper_bgcolor\": \"white\", \"plot_bgcolor\": \"#E5ECF6\", \"polar\": {\"angularaxis\": {\"gridcolor\": \"white\", \"linecolor\": \"white\", \"ticks\": \"\"}, \"bgcolor\": \"#E5ECF6\", \"radialaxis\": {\"gridcolor\": \"white\", \"linecolor\": \"white\", \"ticks\": \"\"}}, \"scene\": {\"xaxis\": {\"backgroundcolor\": \"#E5ECF6\", \"gridcolor\": \"white\", \"gridwidth\": 2, \"linecolor\": \"white\", \"showbackground\": true, \"ticks\": \"\", \"zerolinecolor\": \"white\"}, \"yaxis\": {\"backgroundcolor\": \"#E5ECF6\", \"gridcolor\": \"white\", \"gridwidth\": 2, \"linecolor\": \"white\", \"showbackground\": true, \"ticks\": \"\", \"zerolinecolor\": \"white\"}, \"zaxis\": {\"backgroundcolor\": \"#E5ECF6\", \"gridcolor\": \"white\", \"gridwidth\": 2, \"linecolor\": \"white\", \"showbackground\": true, \"ticks\": \"\", \"zerolinecolor\": \"white\"}}, \"shapedefaults\": {\"line\": {\"color\": \"#2a3f5f\"}}, \"ternary\": {\"aaxis\": {\"gridcolor\": \"white\", \"linecolor\": \"white\", \"ticks\": \"\"}, \"baxis\": {\"gridcolor\": \"white\", \"linecolor\": \"white\", \"ticks\": \"\"}, \"bgcolor\": \"#E5ECF6\", \"caxis\": {\"gridcolor\": \"white\", \"linecolor\": \"white\", \"ticks\": \"\"}}, \"title\": {\"x\": 0.05}, \"xaxis\": {\"automargin\": true, \"gridcolor\": \"white\", \"linecolor\": \"white\", \"ticks\": \"\", \"title\": {\"standoff\": 15}, \"zerolinecolor\": \"white\", \"zerolinewidth\": 2}, \"yaxis\": {\"automargin\": true, \"gridcolor\": \"white\", \"linecolor\": \"white\", \"ticks\": \"\", \"title\": {\"standoff\": 15}, \"zerolinecolor\": \"white\", \"zerolinewidth\": 2}}}, \"title\": {\"text\": \"Long-Form Input\"}, \"xaxis\": {\"anchor\": \"y\", \"domain\": [0.0, 1.0], \"title\": {\"text\": \"day\"}}, \"yaxis\": {\"anchor\": \"x\", \"domain\": [0.0, 1.0], \"title\": {\"text\": \"size\"}}},\n",
              "                        {\"responsive\": true}\n",
              "                    ).then(function(){\n",
              "                            \n",
              "var gd = document.getElementById('85e0e6ce-5afc-4c07-a370-37dedc806767');\n",
              "var x = new MutationObserver(function (mutations, observer) {{\n",
              "        var display = window.getComputedStyle(gd).display;\n",
              "        if (!display || display === 'none') {{\n",
              "            console.log([gd, 'removed!']);\n",
              "            Plotly.purge(gd);\n",
              "            observer.disconnect();\n",
              "        }}\n",
              "}});\n",
              "\n",
              "// Listen for the removal of the full notebook cells\n",
              "var notebookContainer = gd.closest('#notebook-container');\n",
              "if (notebookContainer) {{\n",
              "    x.observe(notebookContainer, {childList: true});\n",
              "}}\n",
              "\n",
              "// Listen for the clearing of the current output cell\n",
              "var outputEl = gd.closest('.output');\n",
              "if (outputEl) {{\n",
              "    x.observe(outputEl, {childList: true});\n",
              "}}\n",
              "\n",
              "                        })\n",
              "                };\n",
              "                \n",
              "            </script>\n",
              "        </div>\n",
              "</body>\n",
              "</html>"
            ]
          },
          "metadata": {
            "tags": []
          }
        }
      ]
    },
    {
      "cell_type": "markdown",
      "metadata": {
        "id": "VXkK6Fyy7L5i"
      },
      "source": [
        "###Facetted subplots"
      ]
    },
    {
      "cell_type": "code",
      "metadata": {
        "colab": {
          "base_uri": "https://localhost:8080/",
          "height": 542
        },
        "id": "iDsyhcuz4m0e",
        "outputId": "4afd82d6-aa01-4fd5-95c3-73e9c98aef0c"
      },
      "source": [
        "import plotly.express as px\n",
        "df = px.data.tips()\n",
        "fig = px.bar(df, x=\"sex\", y=\"total_bill\", color=\"smoker\", barmode=\"group\",\n",
        "             facet_row=\"time\", facet_col=\"day\",\n",
        "             category_orders={\"day\": [\"Thur\", \"Fri\", \"Sat\", \"Sun\"],\n",
        "                              \"time\": [\"Lunch\", \"Dinner\"]})\n",
        "fig.show()"
      ],
      "execution_count": null,
      "outputs": [
        {
          "output_type": "display_data",
          "data": {
            "text/html": [
              "<html>\n",
              "<head><meta charset=\"utf-8\" /></head>\n",
              "<body>\n",
              "    <div>\n",
              "            <script src=\"https://cdnjs.cloudflare.com/ajax/libs/mathjax/2.7.5/MathJax.js?config=TeX-AMS-MML_SVG\"></script><script type=\"text/javascript\">if (window.MathJax) {MathJax.Hub.Config({SVG: {font: \"STIX-Web\"}});}</script>\n",
              "                <script type=\"text/javascript\">window.PlotlyConfig = {MathJaxConfig: 'local'};</script>\n",
              "        <script src=\"https://cdn.plot.ly/plotly-latest.min.js\"></script>    \n",
              "            <div id=\"c6ac9b27-f7c6-4f25-a4fe-9c3e9d256d17\" class=\"plotly-graph-div\" style=\"height:525px; width:100%;\"></div>\n",
              "            <script type=\"text/javascript\">\n",
              "                \n",
              "                    window.PLOTLYENV=window.PLOTLYENV || {};\n",
              "                    \n",
              "                if (document.getElementById(\"c6ac9b27-f7c6-4f25-a4fe-9c3e9d256d17\")) {\n",
              "                    Plotly.newPlot(\n",
              "                        'c6ac9b27-f7c6-4f25-a4fe-9c3e9d256d17',\n",
              "                        [{\"alignmentgroup\": \"True\", \"hoverlabel\": {\"namelength\": 0}, \"hovertemplate\": \"smoker=No<br>time=Lunch<br>day=Thur<br>sex=%{x}<br>total_bill=%{y}\", \"legendgroup\": \"smoker=No\", \"marker\": {\"color\": \"#636efa\"}, \"name\": \"smoker=No\", \"offsetgroup\": \"smoker=No\", \"orientation\": \"v\", \"showlegend\": true, \"textposition\": \"auto\", \"type\": \"bar\", \"x\": [\"Male\", \"Male\", \"Male\", \"Male\", \"Female\", \"Male\", \"Female\", \"Male\", \"Male\", \"Male\", \"Male\", \"Female\", \"Female\", \"Female\", \"Male\", \"Female\", \"Male\", \"Male\", \"Female\", \"Female\", \"Male\", \"Female\", \"Female\", \"Male\", \"Male\", \"Female\", \"Female\", \"Female\", \"Female\", \"Female\", \"Female\", \"Female\", \"Female\", \"Female\", \"Male\", \"Male\", \"Female\", \"Female\", \"Female\", \"Female\", \"Female\", \"Male\", \"Male\", \"Male\"], \"xaxis\": \"x5\", \"y\": [27.2, 22.76, 17.29, 16.66, 10.07, 15.98, 34.83, 13.03, 18.28, 24.71, 21.16, 10.65, 12.43, 24.08, 11.69, 13.42, 14.26, 15.95, 12.48, 29.8, 8.52, 14.52, 11.38, 22.82, 19.08, 20.27, 11.17, 12.26, 18.26, 8.51, 10.33, 14.15, 13.16, 17.47, 34.3, 41.19, 27.05, 16.43, 8.35, 18.64, 11.87, 9.78, 7.51, 7.56], \"yaxis\": \"y5\"}, {\"alignmentgroup\": \"True\", \"hoverlabel\": {\"namelength\": 0}, \"hovertemplate\": \"smoker=No<br>time=Lunch<br>day=Fri<br>sex=%{x}<br>total_bill=%{y}\", \"legendgroup\": \"smoker=No\", \"marker\": {\"color\": \"#636efa\"}, \"name\": \"smoker=No\", \"offsetgroup\": \"smoker=No\", \"orientation\": \"v\", \"showlegend\": false, \"textposition\": \"auto\", \"type\": \"bar\", \"x\": [\"Female\"], \"xaxis\": \"x6\", \"y\": [15.98], \"yaxis\": \"y6\"}, {\"alignmentgroup\": \"True\", \"hoverlabel\": {\"namelength\": 0}, \"hovertemplate\": \"smoker=No<br>time=Dinner<br>day=Thur<br>sex=%{x}<br>total_bill=%{y}\", \"legendgroup\": \"smoker=No\", \"marker\": {\"color\": \"#636efa\"}, \"name\": \"smoker=No\", \"offsetgroup\": \"smoker=No\", \"orientation\": \"v\", \"showlegend\": false, \"textposition\": \"auto\", \"type\": \"bar\", \"x\": [\"Female\"], \"xaxis\": \"x\", \"y\": [18.78], \"yaxis\": \"y\"}, {\"alignmentgroup\": \"True\", \"hoverlabel\": {\"namelength\": 0}, \"hovertemplate\": \"smoker=No<br>time=Dinner<br>day=Fri<br>sex=%{x}<br>total_bill=%{y}\", \"legendgroup\": \"smoker=No\", \"marker\": {\"color\": \"#636efa\"}, \"name\": \"smoker=No\", \"offsetgroup\": \"smoker=No\", \"orientation\": \"v\", \"showlegend\": false, \"textposition\": \"auto\", \"type\": \"bar\", \"x\": [\"Male\", \"Female\", \"Male\"], \"xaxis\": \"x2\", \"y\": [22.49, 22.75, 12.46], \"yaxis\": \"y2\"}, {\"alignmentgroup\": \"True\", \"hoverlabel\": {\"namelength\": 0}, \"hovertemplate\": \"smoker=No<br>time=Dinner<br>day=Sat<br>sex=%{x}<br>total_bill=%{y}\", \"legendgroup\": \"smoker=No\", \"marker\": {\"color\": \"#636efa\"}, \"name\": \"smoker=No\", \"offsetgroup\": \"smoker=No\", \"orientation\": \"v\", \"showlegend\": false, \"textposition\": \"auto\", \"type\": \"bar\", \"x\": [\"Male\", \"Male\", \"Female\", \"Female\", \"Male\", \"Male\", \"Male\", \"Male\", \"Male\", \"Male\", \"Female\", \"Male\", \"Male\", \"Female\", \"Female\", \"Male\", \"Male\", \"Male\", \"Female\", \"Male\", \"Male\", \"Male\", \"Female\", \"Male\", \"Male\", \"Male\", \"Female\", \"Male\", \"Male\", \"Female\", \"Female\", \"Male\", \"Female\", \"Male\", \"Male\", \"Female\", \"Male\", \"Male\", \"Male\", \"Male\", \"Male\", \"Male\", \"Female\", \"Male\", \"Male\"], \"xaxis\": \"x3\", \"y\": [20.65, 17.92, 20.29, 15.77, 39.42, 19.82, 17.81, 13.37, 12.69, 21.7, 19.65, 9.55, 18.35, 15.06, 20.69, 17.78, 24.06, 16.31, 16.93, 18.69, 31.27, 16.04, 26.41, 48.27, 17.59, 20.08, 16.45, 20.23, 12.02, 17.07, 14.73, 10.51, 20.92, 18.24, 14.0, 7.25, 48.33, 20.45, 13.28, 11.61, 10.77, 10.07, 35.83, 29.03, 17.82], \"yaxis\": \"y3\"}, {\"alignmentgroup\": \"True\", \"hoverlabel\": {\"namelength\": 0}, \"hovertemplate\": \"smoker=No<br>time=Dinner<br>day=Sun<br>sex=%{x}<br>total_bill=%{y}\", \"legendgroup\": \"smoker=No\", \"marker\": {\"color\": \"#636efa\"}, \"name\": \"smoker=No\", \"offsetgroup\": \"smoker=No\", \"orientation\": \"v\", \"showlegend\": false, \"textposition\": \"auto\", \"type\": \"bar\", \"x\": [\"Female\", \"Male\", \"Male\", \"Male\", \"Female\", \"Male\", \"Male\", \"Male\", \"Male\", \"Male\", \"Male\", \"Female\", \"Male\", \"Male\", \"Female\", \"Male\", \"Female\", \"Male\", \"Female\", \"Male\", \"Male\", \"Male\", \"Male\", \"Male\", \"Male\", \"Male\", \"Male\", \"Male\", \"Male\", \"Female\", \"Female\", \"Male\", \"Male\", \"Male\", \"Male\", \"Male\", \"Female\", \"Female\", \"Male\", \"Male\", \"Male\", \"Male\", \"Male\", \"Male\", \"Female\", \"Male\", \"Female\", \"Female\", \"Male\", \"Male\", \"Male\", \"Female\", \"Male\", \"Male\", \"Male\", \"Male\", \"Male\"], \"xaxis\": \"x4\", \"y\": [16.99, 10.34, 21.01, 23.68, 24.59, 25.29, 8.77, 26.88, 15.04, 14.78, 10.27, 35.26, 15.42, 18.43, 14.83, 21.58, 10.33, 16.29, 16.97, 17.46, 13.94, 9.68, 30.4, 18.29, 22.23, 32.4, 28.55, 18.04, 12.54, 10.29, 34.81, 9.94, 25.56, 19.49, 38.07, 23.95, 25.71, 17.31, 29.93, 14.07, 13.13, 17.26, 24.55, 19.77, 29.85, 48.17, 25.0, 13.39, 16.49, 21.5, 12.66, 16.21, 13.81, 24.52, 20.76, 31.71, 20.69], \"yaxis\": \"y4\"}, {\"alignmentgroup\": \"True\", \"hoverlabel\": {\"namelength\": 0}, \"hovertemplate\": \"smoker=Yes<br>time=Lunch<br>day=Thur<br>sex=%{x}<br>total_bill=%{y}\", \"legendgroup\": \"smoker=Yes\", \"marker\": {\"color\": \"#EF553B\"}, \"name\": \"smoker=Yes\", \"offsetgroup\": \"smoker=Yes\", \"orientation\": \"v\", \"showlegend\": true, \"textposition\": \"auto\", \"type\": \"bar\", \"x\": [\"Male\", \"Male\", \"Male\", \"Female\", \"Male\", \"Male\", \"Male\", \"Male\", \"Female\", \"Female\", \"Male\", \"Male\", \"Female\", \"Female\", \"Female\", \"Male\", \"Female\"], \"xaxis\": \"x5\", \"y\": [19.44, 32.68, 16.0, 19.81, 28.44, 15.48, 16.58, 10.34, 43.11, 13.0, 13.51, 18.71, 12.74, 13.0, 16.4, 20.53, 16.47], \"yaxis\": \"y5\"}, {\"alignmentgroup\": \"True\", \"hoverlabel\": {\"namelength\": 0}, \"hovertemplate\": \"smoker=Yes<br>time=Lunch<br>day=Fri<br>sex=%{x}<br>total_bill=%{y}\", \"legendgroup\": \"smoker=Yes\", \"marker\": {\"color\": \"#EF553B\"}, \"name\": \"smoker=Yes\", \"offsetgroup\": \"smoker=Yes\", \"orientation\": \"v\", \"showlegend\": false, \"textposition\": \"auto\", \"type\": \"bar\", \"x\": [\"Male\", \"Female\", \"Male\", \"Male\", \"Female\", \"Female\"], \"xaxis\": \"x6\", \"y\": [12.16, 13.42, 8.58, 13.42, 16.27, 10.09], \"yaxis\": \"y6\"}, {\"alignmentgroup\": \"True\", \"hoverlabel\": {\"namelength\": 0}, \"hovertemplate\": \"smoker=Yes<br>time=Dinner<br>day=Fri<br>sex=%{x}<br>total_bill=%{y}\", \"legendgroup\": \"smoker=Yes\", \"marker\": {\"color\": \"#EF553B\"}, \"name\": \"smoker=Yes\", \"offsetgroup\": \"smoker=Yes\", \"orientation\": \"v\", \"showlegend\": false, \"textposition\": \"auto\", \"type\": \"bar\", \"x\": [\"Male\", \"Female\", \"Female\", \"Male\", \"Male\", \"Male\", \"Male\", \"Female\", \"Female\"], \"xaxis\": \"x2\", \"y\": [28.97, 5.75, 16.32, 40.17, 27.28, 12.03, 21.01, 11.35, 15.38], \"yaxis\": \"y2\"}, {\"alignmentgroup\": \"True\", \"hoverlabel\": {\"namelength\": 0}, \"hovertemplate\": \"smoker=Yes<br>time=Dinner<br>day=Sat<br>sex=%{x}<br>total_bill=%{y}\", \"legendgroup\": \"smoker=Yes\", \"marker\": {\"color\": \"#EF553B\"}, \"name\": \"smoker=Yes\", \"offsetgroup\": \"smoker=Yes\", \"orientation\": \"v\", \"showlegend\": false, \"textposition\": \"auto\", \"type\": \"bar\", \"x\": [\"Male\", \"Male\", \"Male\", \"Male\", \"Male\", \"Male\", \"Female\", \"Male\", \"Female\", \"Female\", \"Male\", \"Female\", \"Female\", \"Male\", \"Male\", \"Male\", \"Female\", \"Female\", \"Female\", \"Male\", \"Male\", \"Male\", \"Male\", \"Male\", \"Female\", \"Male\", \"Male\", \"Female\", \"Female\", \"Female\", \"Male\", \"Male\", \"Male\", \"Female\", \"Female\", \"Male\", \"Male\", \"Male\", \"Male\", \"Male\", \"Female\", \"Male\"], \"xaxis\": \"x3\", \"y\": [38.01, 11.24, 20.29, 13.81, 11.02, 18.29, 3.07, 15.01, 26.86, 25.28, 17.92, 44.3, 22.42, 15.36, 20.49, 25.21, 14.31, 10.59, 10.63, 50.81, 15.81, 26.59, 38.73, 24.27, 12.76, 30.06, 25.89, 13.27, 28.17, 12.9, 28.15, 11.59, 7.74, 30.14, 22.12, 24.01, 15.69, 15.53, 12.6, 32.83, 27.18, 22.67], \"yaxis\": \"y3\"}, {\"alignmentgroup\": \"True\", \"hoverlabel\": {\"namelength\": 0}, \"hovertemplate\": \"smoker=Yes<br>time=Dinner<br>day=Sun<br>sex=%{x}<br>total_bill=%{y}\", \"legendgroup\": \"smoker=Yes\", \"marker\": {\"color\": \"#EF553B\"}, \"name\": \"smoker=Yes\", \"offsetgroup\": \"smoker=Yes\", \"orientation\": \"v\", \"showlegend\": false, \"textposition\": \"auto\", \"type\": \"bar\", \"x\": [\"Female\", \"Male\", \"Male\", \"Male\", \"Male\", \"Male\", \"Male\", \"Female\", \"Male\", \"Male\", \"Male\", \"Male\", \"Male\", \"Male\", \"Female\", \"Male\", \"Female\", \"Male\", \"Male\"], \"xaxis\": \"x4\", \"y\": [17.51, 7.25, 31.85, 16.82, 32.9, 17.89, 14.48, 9.6, 34.63, 34.65, 23.33, 45.35, 23.17, 40.55, 20.9, 30.46, 18.15, 23.1, 15.69], \"yaxis\": \"y4\"}],\n",
              "                        {\"annotations\": [{\"font\": {}, \"showarrow\": false, \"text\": \"day=Thur\", \"x\": 0.11499999999999999, \"xanchor\": \"center\", \"xref\": \"paper\", \"y\": 1.0, \"yanchor\": \"bottom\", \"yref\": \"paper\"}, {\"font\": {}, \"showarrow\": false, \"text\": \"day=Fri\", \"x\": 0.365, \"xanchor\": \"center\", \"xref\": \"paper\", \"y\": 1.0, \"yanchor\": \"bottom\", \"yref\": \"paper\"}, {\"font\": {}, \"showarrow\": false, \"text\": \"day=Sat\", \"x\": 0.615, \"xanchor\": \"center\", \"xref\": \"paper\", \"y\": 1.0, \"yanchor\": \"bottom\", \"yref\": \"paper\"}, {\"font\": {}, \"showarrow\": false, \"text\": \"day=Sun\", \"x\": 0.865, \"xanchor\": \"center\", \"xref\": \"paper\", \"y\": 1.0, \"yanchor\": \"bottom\", \"yref\": \"paper\"}, {\"font\": {}, \"showarrow\": false, \"text\": \"time=Dinner\", \"textangle\": 90, \"x\": 0.98, \"xanchor\": \"left\", \"xref\": \"paper\", \"y\": 0.2425, \"yanchor\": \"middle\", \"yref\": \"paper\"}, {\"font\": {}, \"showarrow\": false, \"text\": \"time=Lunch\", \"textangle\": 90, \"x\": 0.98, \"xanchor\": \"left\", \"xref\": \"paper\", \"y\": 0.7575000000000001, \"yanchor\": \"middle\", \"yref\": \"paper\"}], \"barmode\": \"group\", \"legend\": {\"tracegroupgap\": 0}, \"margin\": {\"t\": 60}, \"template\": {\"data\": {\"bar\": [{\"error_x\": {\"color\": \"#2a3f5f\"}, \"error_y\": {\"color\": \"#2a3f5f\"}, \"marker\": {\"line\": {\"color\": \"#E5ECF6\", \"width\": 0.5}}, \"type\": \"bar\"}], \"barpolar\": [{\"marker\": {\"line\": {\"color\": \"#E5ECF6\", \"width\": 0.5}}, \"type\": \"barpolar\"}], \"carpet\": [{\"aaxis\": {\"endlinecolor\": \"#2a3f5f\", \"gridcolor\": \"white\", \"linecolor\": \"white\", \"minorgridcolor\": \"white\", \"startlinecolor\": \"#2a3f5f\"}, \"baxis\": {\"endlinecolor\": \"#2a3f5f\", \"gridcolor\": \"white\", \"linecolor\": \"white\", \"minorgridcolor\": \"white\", \"startlinecolor\": \"#2a3f5f\"}, \"type\": \"carpet\"}], \"choropleth\": [{\"colorbar\": {\"outlinewidth\": 0, \"ticks\": \"\"}, \"type\": \"choropleth\"}], \"contour\": [{\"colorbar\": {\"outlinewidth\": 0, \"ticks\": \"\"}, \"colorscale\": [[0.0, \"#0d0887\"], [0.1111111111111111, \"#46039f\"], [0.2222222222222222, \"#7201a8\"], [0.3333333333333333, \"#9c179e\"], [0.4444444444444444, \"#bd3786\"], [0.5555555555555556, \"#d8576b\"], [0.6666666666666666, \"#ed7953\"], [0.7777777777777778, \"#fb9f3a\"], [0.8888888888888888, \"#fdca26\"], [1.0, \"#f0f921\"]], \"type\": \"contour\"}], \"contourcarpet\": [{\"colorbar\": {\"outlinewidth\": 0, \"ticks\": \"\"}, \"type\": \"contourcarpet\"}], \"heatmap\": [{\"colorbar\": {\"outlinewidth\": 0, \"ticks\": \"\"}, \"colorscale\": [[0.0, \"#0d0887\"], [0.1111111111111111, \"#46039f\"], [0.2222222222222222, \"#7201a8\"], [0.3333333333333333, \"#9c179e\"], [0.4444444444444444, \"#bd3786\"], [0.5555555555555556, \"#d8576b\"], [0.6666666666666666, \"#ed7953\"], [0.7777777777777778, \"#fb9f3a\"], [0.8888888888888888, \"#fdca26\"], [1.0, \"#f0f921\"]], \"type\": \"heatmap\"}], \"heatmapgl\": [{\"colorbar\": {\"outlinewidth\": 0, \"ticks\": \"\"}, \"colorscale\": [[0.0, \"#0d0887\"], [0.1111111111111111, \"#46039f\"], [0.2222222222222222, \"#7201a8\"], [0.3333333333333333, \"#9c179e\"], [0.4444444444444444, \"#bd3786\"], [0.5555555555555556, \"#d8576b\"], [0.6666666666666666, \"#ed7953\"], [0.7777777777777778, \"#fb9f3a\"], [0.8888888888888888, \"#fdca26\"], [1.0, \"#f0f921\"]], \"type\": \"heatmapgl\"}], \"histogram\": [{\"marker\": {\"colorbar\": {\"outlinewidth\": 0, \"ticks\": \"\"}}, \"type\": \"histogram\"}], \"histogram2d\": [{\"colorbar\": {\"outlinewidth\": 0, \"ticks\": \"\"}, \"colorscale\": [[0.0, \"#0d0887\"], [0.1111111111111111, \"#46039f\"], [0.2222222222222222, \"#7201a8\"], [0.3333333333333333, \"#9c179e\"], [0.4444444444444444, \"#bd3786\"], [0.5555555555555556, \"#d8576b\"], [0.6666666666666666, \"#ed7953\"], [0.7777777777777778, \"#fb9f3a\"], [0.8888888888888888, \"#fdca26\"], [1.0, \"#f0f921\"]], \"type\": \"histogram2d\"}], \"histogram2dcontour\": [{\"colorbar\": {\"outlinewidth\": 0, \"ticks\": \"\"}, \"colorscale\": [[0.0, \"#0d0887\"], [0.1111111111111111, \"#46039f\"], [0.2222222222222222, \"#7201a8\"], [0.3333333333333333, \"#9c179e\"], [0.4444444444444444, \"#bd3786\"], [0.5555555555555556, \"#d8576b\"], [0.6666666666666666, \"#ed7953\"], [0.7777777777777778, \"#fb9f3a\"], [0.8888888888888888, \"#fdca26\"], [1.0, \"#f0f921\"]], \"type\": \"histogram2dcontour\"}], \"mesh3d\": [{\"colorbar\": {\"outlinewidth\": 0, \"ticks\": \"\"}, \"type\": \"mesh3d\"}], \"parcoords\": [{\"line\": {\"colorbar\": {\"outlinewidth\": 0, \"ticks\": \"\"}}, \"type\": \"parcoords\"}], \"pie\": [{\"automargin\": true, \"type\": \"pie\"}], \"scatter\": [{\"marker\": {\"colorbar\": {\"outlinewidth\": 0, \"ticks\": \"\"}}, \"type\": \"scatter\"}], \"scatter3d\": [{\"line\": {\"colorbar\": {\"outlinewidth\": 0, \"ticks\": \"\"}}, \"marker\": {\"colorbar\": {\"outlinewidth\": 0, \"ticks\": \"\"}}, \"type\": \"scatter3d\"}], \"scattercarpet\": [{\"marker\": {\"colorbar\": {\"outlinewidth\": 0, \"ticks\": \"\"}}, \"type\": \"scattercarpet\"}], \"scattergeo\": [{\"marker\": {\"colorbar\": {\"outlinewidth\": 0, \"ticks\": \"\"}}, \"type\": \"scattergeo\"}], \"scattergl\": [{\"marker\": {\"colorbar\": {\"outlinewidth\": 0, \"ticks\": \"\"}}, \"type\": \"scattergl\"}], \"scattermapbox\": [{\"marker\": {\"colorbar\": {\"outlinewidth\": 0, \"ticks\": \"\"}}, \"type\": \"scattermapbox\"}], \"scatterpolar\": [{\"marker\": {\"colorbar\": {\"outlinewidth\": 0, \"ticks\": \"\"}}, \"type\": \"scatterpolar\"}], \"scatterpolargl\": [{\"marker\": {\"colorbar\": {\"outlinewidth\": 0, \"ticks\": \"\"}}, \"type\": \"scatterpolargl\"}], \"scatterternary\": [{\"marker\": {\"colorbar\": {\"outlinewidth\": 0, \"ticks\": \"\"}}, \"type\": \"scatterternary\"}], \"surface\": [{\"colorbar\": {\"outlinewidth\": 0, \"ticks\": \"\"}, \"colorscale\": [[0.0, \"#0d0887\"], [0.1111111111111111, \"#46039f\"], [0.2222222222222222, \"#7201a8\"], [0.3333333333333333, \"#9c179e\"], [0.4444444444444444, \"#bd3786\"], [0.5555555555555556, \"#d8576b\"], [0.6666666666666666, \"#ed7953\"], [0.7777777777777778, \"#fb9f3a\"], [0.8888888888888888, \"#fdca26\"], [1.0, \"#f0f921\"]], \"type\": \"surface\"}], \"table\": [{\"cells\": {\"fill\": {\"color\": \"#EBF0F8\"}, \"line\": {\"color\": \"white\"}}, \"header\": {\"fill\": {\"color\": \"#C8D4E3\"}, \"line\": {\"color\": \"white\"}}, \"type\": \"table\"}]}, \"layout\": {\"annotationdefaults\": {\"arrowcolor\": \"#2a3f5f\", \"arrowhead\": 0, \"arrowwidth\": 1}, \"coloraxis\": {\"colorbar\": {\"outlinewidth\": 0, \"ticks\": \"\"}}, \"colorscale\": {\"diverging\": [[0, \"#8e0152\"], [0.1, \"#c51b7d\"], [0.2, \"#de77ae\"], [0.3, \"#f1b6da\"], [0.4, \"#fde0ef\"], [0.5, \"#f7f7f7\"], [0.6, \"#e6f5d0\"], [0.7, \"#b8e186\"], [0.8, \"#7fbc41\"], [0.9, \"#4d9221\"], [1, \"#276419\"]], \"sequential\": [[0.0, \"#0d0887\"], [0.1111111111111111, \"#46039f\"], [0.2222222222222222, \"#7201a8\"], [0.3333333333333333, \"#9c179e\"], [0.4444444444444444, \"#bd3786\"], [0.5555555555555556, \"#d8576b\"], [0.6666666666666666, \"#ed7953\"], [0.7777777777777778, \"#fb9f3a\"], [0.8888888888888888, \"#fdca26\"], [1.0, \"#f0f921\"]], \"sequentialminus\": [[0.0, \"#0d0887\"], [0.1111111111111111, \"#46039f\"], [0.2222222222222222, \"#7201a8\"], [0.3333333333333333, \"#9c179e\"], [0.4444444444444444, \"#bd3786\"], [0.5555555555555556, \"#d8576b\"], [0.6666666666666666, \"#ed7953\"], [0.7777777777777778, \"#fb9f3a\"], [0.8888888888888888, \"#fdca26\"], [1.0, \"#f0f921\"]]}, \"colorway\": [\"#636efa\", \"#EF553B\", \"#00cc96\", \"#ab63fa\", \"#FFA15A\", \"#19d3f3\", \"#FF6692\", \"#B6E880\", \"#FF97FF\", \"#FECB52\"], \"font\": {\"color\": \"#2a3f5f\"}, \"geo\": {\"bgcolor\": \"white\", \"lakecolor\": \"white\", \"landcolor\": \"#E5ECF6\", \"showlakes\": true, \"showland\": true, \"subunitcolor\": \"white\"}, \"hoverlabel\": {\"align\": \"left\"}, \"hovermode\": \"closest\", \"mapbox\": {\"style\": \"light\"}, \"paper_bgcolor\": \"white\", \"plot_bgcolor\": \"#E5ECF6\", \"polar\": {\"angularaxis\": {\"gridcolor\": \"white\", \"linecolor\": \"white\", \"ticks\": \"\"}, \"bgcolor\": \"#E5ECF6\", \"radialaxis\": {\"gridcolor\": \"white\", \"linecolor\": \"white\", \"ticks\": \"\"}}, \"scene\": {\"xaxis\": {\"backgroundcolor\": \"#E5ECF6\", \"gridcolor\": \"white\", \"gridwidth\": 2, \"linecolor\": \"white\", \"showbackground\": true, \"ticks\": \"\", \"zerolinecolor\": \"white\"}, \"yaxis\": {\"backgroundcolor\": \"#E5ECF6\", \"gridcolor\": \"white\", \"gridwidth\": 2, \"linecolor\": \"white\", \"showbackground\": true, \"ticks\": \"\", \"zerolinecolor\": \"white\"}, \"zaxis\": {\"backgroundcolor\": \"#E5ECF6\", \"gridcolor\": \"white\", \"gridwidth\": 2, \"linecolor\": \"white\", \"showbackground\": true, \"ticks\": \"\", \"zerolinecolor\": \"white\"}}, \"shapedefaults\": {\"line\": {\"color\": \"#2a3f5f\"}}, \"ternary\": {\"aaxis\": {\"gridcolor\": \"white\", \"linecolor\": \"white\", \"ticks\": \"\"}, \"baxis\": {\"gridcolor\": \"white\", \"linecolor\": \"white\", \"ticks\": \"\"}, \"bgcolor\": \"#E5ECF6\", \"caxis\": {\"gridcolor\": \"white\", \"linecolor\": \"white\", \"ticks\": \"\"}}, \"title\": {\"x\": 0.05}, \"xaxis\": {\"automargin\": true, \"gridcolor\": \"white\", \"linecolor\": \"white\", \"ticks\": \"\", \"title\": {\"standoff\": 15}, \"zerolinecolor\": \"white\", \"zerolinewidth\": 2}, \"yaxis\": {\"automargin\": true, \"gridcolor\": \"white\", \"linecolor\": \"white\", \"ticks\": \"\", \"title\": {\"standoff\": 15}, \"zerolinecolor\": \"white\", \"zerolinewidth\": 2}}}, \"xaxis\": {\"anchor\": \"y\", \"domain\": [0.0, 0.22999999999999998], \"title\": {\"text\": \"sex\"}}, \"xaxis2\": {\"anchor\": \"y2\", \"domain\": [0.24999999999999997, 0.48], \"matches\": \"x\", \"title\": {\"text\": \"sex\"}}, \"xaxis3\": {\"anchor\": \"y3\", \"domain\": [0.49999999999999994, 0.73], \"matches\": \"x\", \"title\": {\"text\": \"sex\"}}, \"xaxis4\": {\"anchor\": \"y4\", \"domain\": [0.75, 0.98], \"matches\": \"x\", \"title\": {\"text\": \"sex\"}}, \"xaxis5\": {\"anchor\": \"y5\", \"domain\": [0.0, 0.22999999999999998], \"matches\": \"x\", \"showticklabels\": false}, \"xaxis6\": {\"anchor\": \"y6\", \"domain\": [0.24999999999999997, 0.48], \"matches\": \"x\", \"showticklabels\": false}, \"xaxis7\": {\"anchor\": \"y7\", \"domain\": [0.49999999999999994, 0.73], \"matches\": \"x\", \"showticklabels\": false}, \"xaxis8\": {\"anchor\": \"y8\", \"domain\": [0.75, 0.98], \"matches\": \"x\", \"showticklabels\": false}, \"yaxis\": {\"anchor\": \"x\", \"domain\": [0.0, 0.485], \"title\": {\"text\": \"total_bill\"}}, \"yaxis2\": {\"anchor\": \"x2\", \"domain\": [0.0, 0.485], \"matches\": \"y\", \"showticklabels\": false}, \"yaxis3\": {\"anchor\": \"x3\", \"domain\": [0.0, 0.485], \"matches\": \"y\", \"showticklabels\": false}, \"yaxis4\": {\"anchor\": \"x4\", \"domain\": [0.0, 0.485], \"matches\": \"y\", \"showticklabels\": false}, \"yaxis5\": {\"anchor\": \"x5\", \"domain\": [0.515, 1.0], \"matches\": \"y\", \"title\": {\"text\": \"total_bill\"}}, \"yaxis6\": {\"anchor\": \"x6\", \"domain\": [0.515, 1.0], \"matches\": \"y\", \"showticklabels\": false}, \"yaxis7\": {\"anchor\": \"x7\", \"domain\": [0.515, 1.0], \"matches\": \"y\", \"showticklabels\": false}, \"yaxis8\": {\"anchor\": \"x8\", \"domain\": [0.515, 1.0], \"matches\": \"y\", \"showticklabels\": false}},\n",
              "                        {\"responsive\": true}\n",
              "                    ).then(function(){\n",
              "                            \n",
              "var gd = document.getElementById('c6ac9b27-f7c6-4f25-a4fe-9c3e9d256d17');\n",
              "var x = new MutationObserver(function (mutations, observer) {{\n",
              "        var display = window.getComputedStyle(gd).display;\n",
              "        if (!display || display === 'none') {{\n",
              "            console.log([gd, 'removed!']);\n",
              "            Plotly.purge(gd);\n",
              "            observer.disconnect();\n",
              "        }}\n",
              "}});\n",
              "\n",
              "// Listen for the removal of the full notebook cells\n",
              "var notebookContainer = gd.closest('#notebook-container');\n",
              "if (notebookContainer) {{\n",
              "    x.observe(notebookContainer, {childList: true});\n",
              "}}\n",
              "\n",
              "// Listen for the clearing of the current output cell\n",
              "var outputEl = gd.closest('.output');\n",
              "if (outputEl) {{\n",
              "    x.observe(outputEl, {childList: true});\n",
              "}}\n",
              "\n",
              "                        })\n",
              "                };\n",
              "                \n",
              "            </script>\n",
              "        </div>\n",
              "</body>\n",
              "</html>"
            ]
          },
          "metadata": {
            "tags": []
          }
        }
      ]
    },
    {
      "cell_type": "code",
      "metadata": {
        "colab": {
          "base_uri": "https://localhost:8080/",
          "height": 203
        },
        "id": "AAxZfUu32DSf",
        "outputId": "7aed9daf-b2e3-495e-a927-6eee0cac8bf8"
      },
      "source": [
        "import plotly.express as px\n",
        "\n",
        "wide_df = px.data.medals_wide()"
      ],
      "execution_count": null,
      "outputs": [
        {
          "output_type": "error",
          "ename": "AttributeError",
          "evalue": "ignored",
          "traceback": [
            "\u001b[0;31m---------------------------------------------------------------------------\u001b[0m",
            "\u001b[0;31mAttributeError\u001b[0m                            Traceback (most recent call last)",
            "\u001b[0;32m<ipython-input-34-4abab2952d8e>\u001b[0m in \u001b[0;36m<module>\u001b[0;34m()\u001b[0m\n\u001b[1;32m      1\u001b[0m \u001b[0;32mimport\u001b[0m \u001b[0mplotly\u001b[0m\u001b[0;34m.\u001b[0m\u001b[0mexpress\u001b[0m \u001b[0;32mas\u001b[0m \u001b[0mpx\u001b[0m\u001b[0;34m\u001b[0m\u001b[0;34m\u001b[0m\u001b[0m\n\u001b[1;32m      2\u001b[0m \u001b[0;34m\u001b[0m\u001b[0m\n\u001b[0;32m----> 3\u001b[0;31m \u001b[0mwide_df\u001b[0m \u001b[0;34m=\u001b[0m \u001b[0mpx\u001b[0m\u001b[0;34m.\u001b[0m\u001b[0mdata\u001b[0m\u001b[0;34m.\u001b[0m\u001b[0mmedals_wide\u001b[0m\u001b[0;34m(\u001b[0m\u001b[0;34m)\u001b[0m\u001b[0;34m\u001b[0m\u001b[0;34m\u001b[0m\u001b[0m\n\u001b[0m",
            "\u001b[0;31mAttributeError\u001b[0m: module 'plotly.express.data' has no attribute 'medals_wide'"
          ]
        }
      ]
    },
    {
      "cell_type": "markdown",
      "metadata": {
        "id": "fNuRbfMnLqL1"
      },
      "source": [
        "---"
      ]
    },
    {
      "cell_type": "markdown",
      "metadata": {
        "id": "NV8xJyt2LYzA"
      },
      "source": [
        "# ML Model workflow"
      ]
    },
    {
      "cell_type": "markdown",
      "metadata": {
        "id": "KgkoDBusUwcT"
      },
      "source": [
        "## Data Summary Function"
      ]
    },
    {
      "cell_type": "code",
      "metadata": {
        "id": "VpvpMqxHU0Il"
      },
      "source": [
        "df.info()\n",
        "# <class 'pandas.core.frame.DataFrame'>\n",
        "# RangeIndex: 17322 entries, 0 to 17321\n",
        "# Data columns (total 25 columns):\n",
        "#  #   Column      Non-Null Count  Dtype  \n",
        "# ---  ------      --------------  -----  \n",
        "#  0   Unnamed: 0  17322 non-null  int64  \n",
        "#  1   LIMIT_BAL   17322 non-null  float64\n",
        "#  2   SEX         17322 non-null  int64  \n",
        "#  3   EDUCATION   17322 non-null  object \n",
        "#  4   MARRIAGE    17322 non-null  object \n",
        "#  5   AGE         17322 non-null  int64  \n",
        "# dtypes: float64(1), int64(22), object(2)\n",
        "# memory usage: 3.3+ MB"
      ],
      "execution_count": null,
      "outputs": []
    },
    {
      "cell_type": "code",
      "metadata": {
        "id": "A1--Y552rdjq"
      },
      "source": [
        "dataset.isna().any()\n"
      ],
      "execution_count": null,
      "outputs": []
    },
    {
      "cell_type": "code",
      "metadata": {
        "id": "4v_Um2vgrkOo"
      },
      "source": [
        "# Unique values in each categorical variable:\n",
        "dataset[\"PaymentMethod\"].nunique()"
      ],
      "execution_count": null,
      "outputs": []
    },
    {
      "cell_type": "code",
      "metadata": {
        "id": "vsr3nl5groNc"
      },
      "source": [
        "# Check target variable distribution\n",
        "df['default'].value_counts()\n",
        "# 0    12739\n",
        "# 1     4583\n",
        "# Name: default, dtype: int64\n"
      ],
      "execution_count": null,
      "outputs": []
    },
    {
      "cell_type": "code",
      "metadata": {
        "id": "O5GybRZ7VmSV"
      },
      "source": [
        "df.describe()\n",
        "#               Age         Rating\n",
        "# count    12.000000      12.000000\n",
        "# mean     31.833333       3.743333\n",
        "# std       9.232682       0.661628\n",
        "# min      23.000000       2.560000\n",
        "# 25%      25.000000       3.230000\n",
        "# 50%      29.500000       3.790000\n",
        "# 75%      35.500000       4.132500\n",
        "# max      51.000000       4.800000"
      ],
      "execution_count": null,
      "outputs": []
    },
    {
      "cell_type": "code",
      "metadata": {
        "id": "0wYLT7RoU-ed"
      },
      "source": [
        "df.count()\n",
        "# Unnamed: 0    17322\n",
        "# LIMIT_BAL     17322\n",
        "# SEX           17322\n",
        "# EDUCATION     17322\n",
        "# MARRIAGE      17322\n",
        "# AGE           17322\n",
        "# PAY_0         17322\n",
        "# default       17322\n",
        "# dtype: int64"
      ],
      "execution_count": null,
      "outputs": []
    },
    {
      "cell_type": "markdown",
      "metadata": {
        "id": "j_tmcwHpIVzx"
      },
      "source": [
        "##Data proccessing"
      ]
    },
    {
      "cell_type": "markdown",
      "metadata": {
        "id": "QwYT-JNEsEcq"
      },
      "source": [
        "### Change Data Type"
      ]
    },
    {
      "cell_type": "code",
      "metadata": {
        "id": "VHJjQ0_BsRcr"
      },
      "source": [
        "dataset['TotalCharges'] = pd.to_numeric(dataset['TotalCharges'],errors='coerce')\n",
        "dataset['TotalCharges'] = dataset['TotalCharges'].astype(\"float\")"
      ],
      "execution_count": null,
      "outputs": []
    },
    {
      "cell_type": "markdown",
      "metadata": {
        "id": "P3JC7tvRIkbq"
      },
      "source": [
        "### Create One Hot Encoding\n"
      ]
    },
    {
      "cell_type": "code",
      "metadata": {
        "id": "Z5ya9liQIahR"
      },
      "source": [
        "pd.get_dummies(portfolio,columns=['offer_type'])"
      ],
      "execution_count": null,
      "outputs": []
    },
    {
      "cell_type": "markdown",
      "metadata": {
        "id": "tPiISbq8MSiq"
      },
      "source": [
        "### Feature selection and engineering\n",
        "- Drop unneccesary features (identifier, phone#)\n",
        "- Feature selection\n",
        "- Feature engineering (Create new features to improve the model performance)"
      ]
    },
    {
      "cell_type": "code",
      "metadata": {
        "id": "KxyGyhTLNg74"
      },
      "source": [
        "# Drop the unnecessary features\n",
        "telco = telco.drop(telco[['Area_Code','Phone']], axis=1)\n",
        "\n",
        "# Verify dropped features\n",
        "print(telco.columns)"
      ],
      "execution_count": null,
      "outputs": []
    },
    {
      "cell_type": "code",
      "metadata": {
        "id": "j-0LzTHWMUK3"
      },
      "source": [
        "# Feature selection by correlations\n",
        "df.corr()"
      ],
      "execution_count": null,
      "outputs": []
    },
    {
      "cell_type": "code",
      "metadata": {
        "id": "Tg6Z2sRDMbaz"
      },
      "source": [
        "# Feature Engineering\n",
        "# Create the new feature\n",
        "telco['Avg_Night_Calls'] = telco[\"Night_Mins\"]/telco[\"Night_Calls\"]\n",
        "\n",
        "# Print the first five rows of 'Avg_Night_Calls'\n",
        "print(telco['Avg_Night_Calls'].head())\n"
      ],
      "execution_count": null,
      "outputs": []
    },
    {
      "cell_type": "markdown",
      "metadata": {
        "id": "nf1y0SIBIzXj"
      },
      "source": [
        "### Feature scaling - StandardScaler()\n"
      ]
    },
    {
      "cell_type": "code",
      "metadata": {
        "id": "9pldV0taKmTi"
      },
      "source": [
        "transformer = make_union(StandardScaler())"
      ],
      "execution_count": null,
      "outputs": []
    },
    {
      "cell_type": "code",
      "metadata": {
        "id": "oomevRdmLQVP"
      },
      "source": [
        "scaled_df = StandardScaler().fit_transform(df)"
      ],
      "execution_count": null,
      "outputs": []
    },
    {
      "cell_type": "markdown",
      "metadata": {
        "id": "z3FLuXvRSWjM"
      },
      "source": [
        "## Predict workflow\n",
        "- Import model package\n",
        "- Train test split\n",
        "- Initiate the model\n",
        "- Fit the model\n",
        "- Predict "
      ]
    },
    {
      "cell_type": "code",
      "metadata": {
        "id": "ty9z6bpySao9"
      },
      "source": [
        "# Import LogisticRegression\n",
        "from sklearn.linear_model import LogisticRegression\n",
        "\n",
        "# Train test split\n",
        "features = df.columns.drop(['default'])\n",
        "X = df[features] # or X = df.drop('default', axis=1)\n",
        "\n",
        "y = df['default']\n",
        "X_train, X_test, y_train, y_test = train_test_split(X, y, test_size=0.20, random_state=42)\n",
        "\n",
        "\n",
        "# Instantiate the classifier\n",
        "clf = LogisticRegression()\n",
        "\n",
        "# Fit the classifier\n",
        "clf.fit(X_train,y_train)\n",
        "\n",
        "# Predict the label of new_customer\n",
        "y_pred = clf.predict(X_test)\n",
        "y_train_pred = clf.predict(X_train)"
      ],
      "execution_count": null,
      "outputs": []
    },
    {
      "cell_type": "markdown",
      "metadata": {
        "id": "wFW0ooTATGsE"
      },
      "source": [
        "## Evaluate model\n",
        "- Confusion metrix\n",
        "- Precision and Recall\n",
        "- F1 Score\n",
        "- ROC Curve, AUC \n"
      ]
    },
    {
      "cell_type": "code",
      "metadata": {
        "id": "la-qQQu7LxG8"
      },
      "source": [
        ""
      ],
      "execution_count": null,
      "outputs": []
    },
    {
      "cell_type": "markdown",
      "metadata": {
        "id": "Vbm4Yct3Ha4k"
      },
      "source": [
        "## Hyperparameters Tunning"
      ]
    },
    {
      "cell_type": "code",
      "metadata": {
        "id": "PTN_I7aiHfzE"
      },
      "source": [
        "# Import RandomizedSearchCV\n",
        "from sklearn.model_selection import RandomizedSearchCV\n",
        "\n",
        "# Create the hyperparameter grid\n",
        "param_dist = {\"max_depth\": [3, None],\n",
        "              \"max_features\": randint(1, 11),\n",
        "              \"bootstrap\": [True, False],\n",
        "              \"criterion\": [\"gini\", \"entropy\"]}\n",
        "\n",
        "# Call RandomizedSearchCV\n",
        "random_search = RandomizedSearchCV(clf, param_dist)\n",
        "\n",
        "# Fit the model\n",
        "random_search.fit(X,y)\n",
        "\n",
        "# Print best parameters\n",
        "print(random_search.best_params_)"
      ],
      "execution_count": null,
      "outputs": []
    },
    {
      "cell_type": "markdown",
      "metadata": {
        "id": "4cTiPAHYJOei"
      },
      "source": [
        "## Feature Importance"
      ]
    },
    {
      "cell_type": "code",
      "metadata": {
        "id": "9EIqTJBMKZL-"
      },
      "source": [
        "# Method 1\n",
        "# Calculate feature importances\n",
        "importances = clf.feature_importances_\n",
        "\n",
        "# Sort importances\n",
        "sorted_index = np.argsort(importances)\n",
        "\n",
        "# Create labels\n",
        "labels = X.columns[sorted_index]\n",
        "\n",
        "# Clear current plot\n",
        "plt.clf()\n",
        "\n",
        "# Create plot\n",
        "plt.barh(range(X.shape[1]), importances[sorted_index], tick_label=labels)\n",
        "plt.show()"
      ],
      "execution_count": null,
      "outputs": []
    },
    {
      "cell_type": "code",
      "metadata": {
        "id": "_kysdg9VJS0B"
      },
      "source": [
        "# Method 1\n",
        "importances.feature_importances_\n",
        "df = pd.DataFrame(list(zip(X.columns,clf_model.feature_importances_)),columns=['Feature','Importance'])\n",
        "\n",
        "trace0 = go.Bar(x=df.Feature,\n",
        "                y=df.Importance,\n",
        "                text=df.Importance,\n",
        "                textposition = 'auto',\n",
        "                name = 'Offer Received',\n",
        "                marker=dict(color='rgba(0,107,164,1)',))\n",
        "\n",
        "\n",
        "layout = go.Layout(\n",
        "    title = 'Feature Importance for Model to predict Influence',\n",
        "    xaxis=dict(tickangle=-45),\n",
        "    barmode='group',\n",
        "    bargap=0.15\n",
        ")\n",
        "\n",
        "fig = go.Figure(data=go.Data([trace0]),\n",
        "                layout=layout)\n",
        "\n",
        "iplot(fig)"
      ],
      "execution_count": null,
      "outputs": []
    },
    {
      "cell_type": "markdown",
      "metadata": {
        "id": "AQuRCZuuI2cy"
      },
      "source": [
        "---------"
      ]
    },
    {
      "cell_type": "markdown",
      "metadata": {
        "id": "HUQUdw8nL9_k"
      },
      "source": [
        "---------"
      ]
    }
  ]
}